{
 "cells": [
  {
   "cell_type": "code",
   "execution_count": 1,
   "metadata": {
    "scrolled": false
   },
   "outputs": [
    {
     "data": {
      "application/vnd.jupyter.widget-view+json": {
       "model_id": "6c9bb676743542a2aa1aa715cafa27b6",
       "version_major": 2,
       "version_minor": 0
      },
      "text/plain": []
     },
     "metadata": {},
     "output_type": "display_data"
    },
    {
     "name": "stdout",
     "output_type": "stream",
     "text": [
      "Fragment Stability Benchmark ['t69']\n",
      "    \n",
      "Fragmenter paper ['t96', 't112', 't69']\n",
      "    \n",
      "OpenFF DANCE 1 eMolecules t142 v1.0 []\n",
      "    \n",
      "OpenFF Fragmenter Validation 1.0 ['t96', 't101', 't112', 't69']\n",
      "    \n",
      "OpenFF Full TorsionDrive Benchmark 1 ['t96', 't61', 't1', 't48', 't20', 't43', 't118', 't128', 't69', 't51', 't17', 't47']\n",
      "    \n",
      "OpenFF Gen 2 Torsion Set 1 Roche ['t96', 't108', 't112', 't140', 't2', 't22', 't48', 't97', 't64', 't110', 't10', 't88', 't75', 't91', 't87', 't17', 't120', 't94', 't157', 't70', 't135', 't41', 't137', 't44', 't68', 't27', 't39', 't138', 't51', 't33', 't52', 't61', 't4', 't71', 't21', 't20', 't43', 't76', 't46', 't109', 't72', 't62', 't85', 't102', 't45', 't69', 't128a', 't29', 't142', 't9', 't111', 't86', 't98', 't1', 't24', 't3', 't136', 't13', 't5', 't113', 't59', 't130', 't18', 't19', 't47']\n",
      "    \n",
      "OpenFF Gen 2 Torsion Set 1 Roche 2 ['t96', 't108', 't112', 't140', 't2', 't22', 't48', 't97', 't64', 't110', 't10', 't88', 't75', 't91', 't87', 't17', 't120', 't94', 't157', 't70', 't135', 't41', 't137', 't44', 't68', 't27', 't39', 't138', 't51', 't40', 't33', 't52', 't61', 't4', 't71', 't21', 't20', 't43', 't76', 't46', 't109', 't72', 't23', 't62', 't85', 't102', 't45', 't69', 't128a', 't29', 't142', 't9', 't111', 't86', 't98', 't1', 't24', 't101', 't3', 't136', 't13', 't5', 't113', 't59', 't130', 't18', 't19', 't47']\n",
      "    \n",
      "OpenFF Gen 2 Torsion Set 2 Coverage ['t49', 't126', 't55', 't135', 't28', 't68', 't156', 't11', 't4', 't71', 't60', 't109', 't73', 't99', 't142', 't1', 't121', 't158', 't101', 't107', 't113', 't19', 't154', 't96', 't112', 't152', 't22', 't97', 't64', 't10', 't120', 't94', 't106', 't30', 't131', 't44', 't15', 't119', 't51', 't150', 't35', 't89', 't3', 't136', 't54', 't127', 't6', 't108', 't157', 't70', 't79', 't82', 't115', 't33', 't114', 't72', 't29', 't7', 't98', 't134', 't13', 't65', 't146', 't130', 't32', 't18', 't47', 't2', 't117', 't75', 't91', 't17', 't122', 't27', 't93', 't52', 't21', 't63', 't43', 't23', 't85', 't155b', 't74', 't102', 't69', 't128a', 't133', 't151', 't86', 't84', 't118', 't59', 't90']\n",
      "    \n",
      "OpenFF Gen 2 Torsion Set 2 Coverage 2 ['t49', 't12', 't126', 't55', 't135', 't28', 't68', 't156', 't11', 't4', 't71', 't60', 't109', 't73', 't99', 't142', 't9', 't1', 't121', 't158', 't101', 't107', 't113', 't19', 't154', 't96', 't112', 't152', 't97', 't64', 't10', 't120', 't94', 't106', 't30', 't131', 't44', 't15', 't119', 't51', 't150', 't20', 't35', 't89', 't3', 't136', 't54', 't127', 't6', 't108', 't139', 't157', 't70', 't79', 't82', 't115', 't33', 't114', 't31', 't72', 't29', 't7', 't98', 't134', 't13', 't65', 't146', 't130', 't155', 't32', 't18', 't47', 't2', 't117', 't75', 't91', 't17', 't122', 't27', 't93', 't52', 't63', 't43', 't14', 't23', 't85', 't155b', 't74', 't102', 't69', 't128a', 't133', 't151', 't86', 't84', 't118', 't59', 't90']\n",
      "    \n",
      "OpenFF Gen 2 Torsion Set 3 Pfizer Discrepancy ['t96', 't108', 't22', 't97', 't75', 't87', 't17', 't70', 't106', 't44', 't68', 't51', 't52', 't61', 't71', 't76', 't20', 't43', 't128', 't23', 't102', 't45', 't69', 't9', 't86', 't98', 't1', 't84', 't89', 't3', 't107', 't118', 't5', 't59', 't130', 't18', 't19', 't47']\n",
      "    \n",
      "OpenFF Gen 2 Torsion Set 3 Pfizer Discrepancy 2 ['t96', 't108', 't22', 't97', 't75', 't87', 't17', 't70', 't106', 't44', 't68', 't51', 't52', 't61', 't71', 't76', 't20', 't43', 't128', 't23', 't62', 't85', 't102', 't45', 't69', 't9', 't86', 't98', 't1', 't84', 't89', 't3', 't107', 't118', 't5', 't59', 't130', 't18', 't19', 't47']\n",
      "    \n",
      "OpenFF Gen 2 Torsion Set 4 eMolecules Discrepancy ['t49', 't12', 't126', 't26', 't28', 't68', 't39', 't40', 't11', 't4', 't61', 't71', 't60', 't109', 't66', 't34', 't51a', 't73', 't99', 't148', 't9', 't51bh', 't1', 't158', 't107', 't19', 't96', 't112', 't140', 't152', 't22', 't97', 't64', 't78', 't10', 't110', 't120', 't106', 't30', 't131', 't44', 't138', 't51', 't150', 't51c', 't42', 't76', 't20', 't62', 't45', 't83', 't24', 't3', 't136', 't67', 't54', 't127', 't6', 't108', 't37', 't87', 't157', 't70', 't79', 't82', 't50', 't46', 't72', 't147', 't29', 't98', 't134', 't13', 't65', 't5', 't130', 't32', 't18', 't47', 't2', 't88', 't75', 't17', 't137', 't27', 't52', 't21', 't63', 't43', 't128', 't85', 't23', 't74', 't102', 't69', 't86', 't141', 't84', 't80', 't118', 't129', 't77', 't81', 't59', 't51ah', 't48']\n",
      "    \n",
      "OpenFF Gen 2 Torsion Set 4 eMolecules Discrepancy 2 ['t49', 't100', 't12', 't126', 't26', 't143', 't28', 't68', 't39', 't40', 't61', 't11', 't71', 't4', 't60', 't109', 't66', 't34', 't51a', 't73', 't99', 't148', 't9', 't51bh', 't1', 't158', 't101', 't107', 't113', 't19', 't96', 't112', 't140', 't152', 't22', 't97', 't25', 't64', 't10', 't78', 't110', 't120', 't106', 't30', 't131', 't44', 't138', 't51', 't150', 't51c', 't42', 't76', 't20', 't62', 't45', 't35', 't83', 't24', 't3', 't136', 't67', 't54', 't127', 't6', 't108', 't37', 't87', 't157', 't70', 't79', 't82', 't41', 't50', 't31', 't46', 't72', 't147', 't29', 't98', 't134', 't13', 't65', 't5', 't130', 't32', 't18', 't47', 't51ch', 't2', 't88', 't75', 't17', 't137', 't27', 't52', 't21', 't63', 't43', 't14', 't128', 't23', 't85', 't74', 't102', 't69', 't86', 't141', 't84', 't80', 't118', 't129', 't77', 't81', 't59', 't51ah', 't48']\n",
      "    \n",
      "OpenFF Gen 2 Torsion Set 5 Bayer ['t100', 't126', 't26', 't55', 't135', 't143', 't28', 't68', 't39', 't156', 't40', 't11', 't4', 't61', 't71', 't109', 't73', 't148', 't142', 't9', 't111', 't1', 't158', 't101', 't107', 't113', 't38', 't19', 't96', 't112', 't140', 't22', 't97', 't25', 't64', 't10', 't110', 't120', 't94', 't106', 't30', 't44', 't15', 't119', 't51', 't51c', 't42', 't76', 't20', 't62', 't45', 't36', 't35', 't24', 't145', 't3', 't136', 't125', 't127', 't56', 't108', 't37', 't87', 't157', 't70', 't41', 't33', 't46', 't29', 't98', 't134', 't16', 't13', 't5', 't130', 't32', 't18', 't144', 't47', 't2', 't88', 't75', 't91', 't17', 't137', 't27', 't52', 't63', 't43', 't85', 't74', 't102', 't69', 't86', 't141', 't84', 't118', 't77', 't59', 't90']\n",
      "    \n",
      "OpenFF Gen 2 Torsion Set 5 Bayer 2 ['t126', 't26', 't55', 't135', 't143', 't28', 't68', 't39', 't156', 't40', 't61', 't4', 't71', 't109', 't34', 't73', 't99', 't148', 't142', 't9', 't1', 't101', 't107', 't113', 't38', 't19', 't96', 't112', 't140', 't22', 't97', 't25', 't64', 't10', 't110', 't120', 't106', 't30', 't44', 't15', 't138', 't51', 't51c', 't76', 't20', 't62', 't45', 't36', 't24', 't3', 't136', 't125', 't127', 't56', 't108', 't139', 't87', 't157', 't70', 't41', 't31', 't46', 't29', 't98', 't134', 't13', 't5', 't130', 't32', 't18', 't47', 't2', 't88', 't75', 't17', 't137', 't27', 't52', 't21', 't63', 't43', 't14', 't23', 't85', 't102', 't69', 't86', 't141', 't84', 't118', 't77', 't59', 't90', 't48']\n",
      "    \n",
      "OpenFF Gen 2 Torsion Set 6 Supplemental ['t58', 't103', 't116', 't51b', 't149', 't104', 't105']\n",
      "    \n",
      "OpenFF Gen 2 Torsion Set 6 Supplemental 2 ['t58', 't145', 't103', 't116', 't51b', 't149', 't104', 't105']\n",
      "    \n",
      "OpenFF Group1 Torsions ['t96', 't112', 't2', 't22', 't17', 't143', 't137', 't27', 't51', 't33', 't61', 't21', 't20', 't43', 't109', 't14', 't46', 't72', 't45', 't69', 't35', 't86', 't98', 't1', 't141', 't5', 't113', 't59', 't48', 't47']\n",
      "    \n",
      "OpenFF Group1 Torsions 2 ['t51c', 't51ch', 't51b', 't51a', 't51ah', 't51bh']\n",
      "    \n",
      "OpenFF Group1 Torsions 3 ['t128', 't129']\n",
      "    \n",
      "OpenFF Primary Benchmark 1 Torsion Set ['t96', 't108', 't2', 't22', 't58', 't97', 't78', 't64', 't100', 't88', 't75', 't87', 't17', 't120', 't70', 't106', 't122', 't44', 't68', 't50', 't15', 't51', 't52', 't19', 't61', 't4', 't71', 't123', 't76', 't20', 't43', 't46', 't128', 't72', 't85', 't66', 't62', 't102', 't45', 't69', 't74', 't99', 't73', 't23', 't9', 't86', 't98', 't1', 't84', 't24', 't16', 't101', 't3', 't118', 't107', 't67', 't65', 't77', 't81', 't5', 't129', 't59', 't130', 't18', 't48', 't47']\n",
      "    \n",
      "OpenFF Primary Benchmark 2 Torsion Set ['t49', 't100', 't12', 't126', 't26', 't55', 't143', 't135', 't28', 't68', 't39', 't40', 't61', 't4', 't71', 't11', 't109', 't60', 't66', 't73', 't99', 't34', 't148', 't142', 't9', 't111', 't1', 't158', 't101', 't107', 't113', 't38', 't19', 't96', 't112', 't140', 't152', 't22', 't58', 't97', 't25', 't64', 't10', 't110', 't78', 't120', 't124', 't106', 't30', 't131', 't44', 't15', 't138', 't51', 't150', 't42', 't76', 't20', 't62', 't45', 't35', 't83', 't89', 't24', 't145', 't3', 't136', 't67', 't125', 't54', 't127', 't6', 't108', 't37', 't139', 't149', 't87', 't90', 't157', 't70', 't79', 't82', 't115', 't41', 't50', 't114', 't123', 't31', 't46', 't72', 't147', 't29', 't98', 't134', 't16', 't65', 't5', 't146', 't130', 't155', 't32', 't18', 't144', 't47', 't2', 't88', 't75', 't17', 't137', 't122', 't27', 't52', 't21', 't63', 't43', 't128', 't23', 't85', 't74', 't102', 't69', 't133', 't151', 't86', 't141', 't84', 't80', 't118', 't129', 't77', 't81', 't59', 't154', 't48']\n",
      "    \n"
     ]
    },
    {
     "name": "stdout",
     "output_type": "stream",
     "text": [
      "OpenFF Primary TorsionDrive Benchmark 1 ['t96', 't20', 't43', 't69', 't47']\n",
      "    \n",
      "OpenFF Protein Fragments TorsionDrives v1.0 ['t61', 't1', 't2', 't22', 't23', 't69', 't17']\n",
      "    \n",
      "OpenFF Rowley Biaryl v1.0 ['t43', 't47', 't69']\n",
      "    \n",
      "OpenFF Substituted Phenyl Set 1 ['t96', 't43', 't97', 't72', 't74', 't69', 't47']\n",
      "    \n",
      "OpenFF Theory Benchmarking Set B3LYP-D3BJ DZVP v1.0 ['t96', 't152', 't64', 't88', 't126', 't91', 't17', 't124', 't41', 't138', 't51', 't52', 't114', 't61', 't74', 't69', 't151', 't141', 't98', 't1', 't13', 't65', 't5', 't113', 't47']\n",
      "    \n",
      "OpenFF Theory Benchmarking Set B3LYP-D3BJ def2-TZVP v1.0 ['t96', 't152', 't64', 't88', 't126', 't91', 't17', 't124', 't41', 't138', 't51', 't52', 't114', 't61', 't74', 't69', 't151', 't141', 't98', 't1', 't13', 't65', 't5', 't113', 't47']\n",
      "    \n",
      "OpenFF Theory Benchmarking Set B3LYP-D3BJ def2-TZVPD v1.0 ['t96', 't152', 't64', 't88', 't126', 't91', 't17', 't124', 't41', 't138', 't51', 't52', 't114', 't61', 't74', 't69', 't151', 't141', 't98', 't1', 't13', 't65', 't5', 't113', 't47']\n",
      "    \n",
      "OpenFF Theory Benchmarking Set B3LYP-D3BJ def2-TZVPP v1.0 ['t96', 't152', 't64', 't88', 't126', 't91', 't17', 't124', 't41', 't138', 't51', 't52', 't114', 't61', 't74', 't69', 't151', 't141', 't98', 't1', 't13', 't65', 't5', 't113', 't47']\n",
      "    \n",
      "OpenFF-benchmark-ligand-fragments-v1.0 ['t96', 't112', 't140', 't17', 't70', 't106', 't61', 't51c', 't21', 't109', 't43', 't20', 't14', 't72', 't69', 't141', 't86', 't1', 't5', 't59', 't18', 't47']\n",
      "    \n",
      "Pfizer Discrepancy Torsion Dataset 1 ['t96', 't61', 't1', 't48', 't20', 't43', 't118', 't128', 't69', 't51', 't17', 't47']\n",
      "    \n",
      "SMIRNOFF Coverage Torsion Set 1 ['t49', 't100', 't12', 't126', 't26', 't55', 't135', 't143', 't28', 't68', 't39', 't156', 't40', 't61', 't4', 't71', 't11', 't92', 't109', 't60', 't66', 't73', 't99', 't34', 't148', 't142', 't9', 't111', 't1', 't158', 't121', 't101', 't107', 't57', 't113', 't38', 't19', 't112', 't96', 't140', 't152', 't22', 't97', 't78', 't25', 't10', 't110', 't64', 't120', 't94', 't124', 't106', 't30', 't131', 't44', 't95', 't15', 't138', 't51', 't119', 't150', 't42', 't76', 't20', 't62', 't45', 't36', 't35', 't83', 't89', 't145', 't24', 't3', 't136', 't67', 't54', 't125', 't127', 't56', 't6', 't108', 't37', 't139', 't149', 't87', 't90', 't157', 't70', 't79', 't82', 't115', 't41', 't50', 't114', 't33', 't123', 't31', 't46', 't72', 't147', 't29', 't7', 't98', 't134', 't8', 't16', 't13', 't65', 't146', 't5', 't130', 't155', 't32', 't18', 't144', 't104', 't47', 't2', 't117', 't88', 't116', 't75', 't91', 't17', 't105', 't137', 't122', 't27', 't93', 't52', 't21', 't63', 't43', 't14', 't128', 't85', 't23', 't74', 't102', 't69', 't128a', 't133', 't151', 't86', 't141', 't84', 't80', 't118', 't129', 't77', 't81', 't59', 't154', 't48']\n",
      "    \n"
     ]
    },
    {
     "ename": "KeyError",
     "evalue": "'canonical_isomeric_explicit_hydrogen_mapped_smiles'",
     "output_type": "error",
     "traceback": [
      "\u001b[0;31m---------------------------------------------------------------------------\u001b[0m",
      "\u001b[0;31mKeyError\u001b[0m                                  Traceback (most recent call last)",
      "\u001b[0;32m<ipython-input-1-e2dc9a3b5ded>\u001b[0m in \u001b[0;36m<module>\u001b[0;34m\u001b[0m\n\u001b[1;32m     31\u001b[0m         \u001b[0mdihedral_indices\u001b[0m \u001b[0;34m=\u001b[0m \u001b[0mds\u001b[0m\u001b[0;34m.\u001b[0m\u001b[0mdf\u001b[0m\u001b[0;34m.\u001b[0m\u001b[0miloc\u001b[0m\u001b[0;34m[\u001b[0m\u001b[0mi\u001b[0m\u001b[0;34m,\u001b[0m \u001b[0;36m0\u001b[0m\u001b[0;34m]\u001b[0m\u001b[0;34m.\u001b[0m\u001b[0mdict\u001b[0m\u001b[0;34m(\u001b[0m\u001b[0;34m)\u001b[0m\u001b[0;34m[\u001b[0m\u001b[0;34m'keywords'\u001b[0m\u001b[0;34m]\u001b[0m\u001b[0;34m[\u001b[0m\u001b[0;34m'dihedrals'\u001b[0m\u001b[0;34m]\u001b[0m\u001b[0;34m[\u001b[0m\u001b[0;36m0\u001b[0m\u001b[0;34m]\u001b[0m\u001b[0;34m\u001b[0m\u001b[0;34m\u001b[0m\u001b[0m\n\u001b[1;32m     32\u001b[0m         \u001b[0msmiles\u001b[0m \u001b[0;34m=\u001b[0m \u001b[0mds\u001b[0m\u001b[0;34m.\u001b[0m\u001b[0mdf\u001b[0m\u001b[0;34m.\u001b[0m\u001b[0mindex\u001b[0m\u001b[0;34m[\u001b[0m\u001b[0mi\u001b[0m\u001b[0;34m]\u001b[0m\u001b[0;34m\u001b[0m\u001b[0;34m\u001b[0m\u001b[0m\n\u001b[0;32m---> 33\u001b[0;31m         \u001b[0mmapped_smiles\u001b[0m \u001b[0;34m=\u001b[0m \u001b[0mds\u001b[0m\u001b[0;34m.\u001b[0m\u001b[0mget_entry\u001b[0m\u001b[0;34m(\u001b[0m\u001b[0msmiles\u001b[0m\u001b[0;34m)\u001b[0m\u001b[0;34m.\u001b[0m\u001b[0mattributes\u001b[0m\u001b[0;34m[\u001b[0m\u001b[0;34m'canonical_isomeric_explicit_hydrogen_mapped_smiles'\u001b[0m\u001b[0;34m]\u001b[0m\u001b[0;34m\u001b[0m\u001b[0;34m\u001b[0m\u001b[0m\n\u001b[0m\u001b[1;32m     34\u001b[0m         \u001b[0mmolecule\u001b[0m \u001b[0;34m=\u001b[0m \u001b[0mMolecule\u001b[0m\u001b[0;34m.\u001b[0m\u001b[0mfrom_mapped_smiles\u001b[0m\u001b[0;34m(\u001b[0m\u001b[0mmapped_smiles\u001b[0m\u001b[0;34m)\u001b[0m\u001b[0;34m\u001b[0m\u001b[0;34m\u001b[0m\u001b[0m\n\u001b[1;32m     35\u001b[0m         \u001b[0mtopology\u001b[0m \u001b[0;34m=\u001b[0m \u001b[0mTopology\u001b[0m\u001b[0;34m.\u001b[0m\u001b[0mfrom_molecules\u001b[0m\u001b[0;34m(\u001b[0m\u001b[0;34m[\u001b[0m\u001b[0mmolecule\u001b[0m\u001b[0;34m]\u001b[0m\u001b[0;34m)\u001b[0m\u001b[0;34m\u001b[0m\u001b[0;34m\u001b[0m\u001b[0m\n",
      "\u001b[0;31mKeyError\u001b[0m: 'canonical_isomeric_explicit_hydrogen_mapped_smiles'"
     ]
    }
   ],
   "source": [
    "import qcportal as ptl\n",
    "from openeye import oechem\n",
    "from openforcefield.topology import Molecule, Topology\n",
    "from openforcefield.typing.engines.smirnoff import ForceField\n",
    "import cmiles\n",
    "import time\n",
    "\n",
    "client = ptl.FractalClient()\n",
    "torsion_datasets = client.list_collections(\"TorsionDriveDataset\")\n",
    "datasets = []\n",
    "for i in range(len(torsion_datasets)):\n",
    "    datasets.append(torsion_datasets.index[i][1])\n",
    "    \n",
    "for dataset_name in datasets:\n",
    "    count = 0\n",
    "    while True:\n",
    "        try:\n",
    "            ds = client.get_collection(\"TorsionDriveDataset\", dataset_name)\n",
    "            ds.status(\"default\", status=\"COMPLETE\")\n",
    "            break\n",
    "        except:\n",
    "            time.sleep(20)\n",
    "            count += 1\n",
    "            if count < 2:\n",
    "                continue\n",
    "            else:\n",
    "                break\n",
    "    \n",
    "    params = []\n",
    "    for i in range(len(ds.df)):\n",
    "        dihedral_indices = ds.df.iloc[i, 0].dict()['keywords']['dihedrals'][0]\n",
    "        smiles = ds.df.index[i]\n",
    "        mapped_smiles = ds.get_entry(smiles).attributes['canonical_isomeric_explicit_hydrogen_mapped_smiles']\n",
    "        molecule = Molecule.from_mapped_smiles(mapped_smiles)\n",
    "        topology = Topology.from_molecules([molecule])\n",
    "\n",
    "        # Let's label using the Parsley force field\n",
    "        forcefield = ForceField('openff_unconstrained-1.2.1.offxml')\n",
    "\n",
    "        # Run the molecule labeling\n",
    "        molecule_force_list = forcefield.label_molecules(topology)\n",
    "        \n",
    "        # Print out a formatted description of the torsion parameters applied to this molecule\n",
    "        for mol_idx, mol_forces in enumerate(molecule_force_list):\n",
    "            for force_tag, force_dict in mol_forces.items():\n",
    "                if force_tag == 'ProperTorsions':\n",
    "                    for (atom_indices, parameter) in force_dict.items():\n",
    "                        if(atom_indices == dihedral_indices):\n",
    "                            count += 1\n",
    "                            params.append(parameter.id)\n",
    "\n",
    "    param_set = set(params)\n",
    "    params = list(param_set)\n",
    "    print(dataset_name, params)\n",
    "    print('    ')"
   ]
  },
  {
   "cell_type": "code",
   "execution_count": 2,
   "metadata": {},
   "outputs": [
    {
     "data": {
      "text/plain": [
       "['Fragment Stability Benchmark',\n",
       " 'Fragmenter paper',\n",
       " 'OpenFF DANCE 1 eMolecules t142 v1.0',\n",
       " 'OpenFF Fragmenter Validation 1.0',\n",
       " 'OpenFF Full TorsionDrive Benchmark 1',\n",
       " 'OpenFF Gen 2 Torsion Set 1 Roche',\n",
       " 'OpenFF Gen 2 Torsion Set 1 Roche 2',\n",
       " 'OpenFF Gen 2 Torsion Set 2 Coverage',\n",
       " 'OpenFF Gen 2 Torsion Set 2 Coverage 2',\n",
       " 'OpenFF Gen 2 Torsion Set 3 Pfizer Discrepancy',\n",
       " 'OpenFF Gen 2 Torsion Set 3 Pfizer Discrepancy 2',\n",
       " 'OpenFF Gen 2 Torsion Set 4 eMolecules Discrepancy',\n",
       " 'OpenFF Gen 2 Torsion Set 4 eMolecules Discrepancy 2',\n",
       " 'OpenFF Gen 2 Torsion Set 5 Bayer',\n",
       " 'OpenFF Gen 2 Torsion Set 5 Bayer 2',\n",
       " 'OpenFF Gen 2 Torsion Set 6 Supplemental',\n",
       " 'OpenFF Gen 2 Torsion Set 6 Supplemental 2',\n",
       " 'OpenFF Group1 Torsions',\n",
       " 'OpenFF Group1 Torsions 2',\n",
       " 'OpenFF Group1 Torsions 3',\n",
       " 'OpenFF Primary Benchmark 1 Torsion Set',\n",
       " 'OpenFF Primary Benchmark 2 Torsion Set',\n",
       " 'OpenFF Primary TorsionDrive Benchmark 1',\n",
       " 'OpenFF Protein Fragments TorsionDrives v1.0',\n",
       " 'OpenFF Rowley Biaryl v1.0',\n",
       " 'OpenFF Substituted Phenyl Set 1',\n",
       " 'OpenFF Theory Benchmarking Set B3LYP-D3BJ DZVP v1.0',\n",
       " 'OpenFF Theory Benchmarking Set B3LYP-D3BJ def2-TZVP v1.0',\n",
       " 'OpenFF Theory Benchmarking Set B3LYP-D3BJ def2-TZVPD v1.0',\n",
       " 'OpenFF Theory Benchmarking Set B3LYP-D3BJ def2-TZVPP v1.0',\n",
       " 'OpenFF-benchmark-ligand-fragments-v1.0',\n",
       " 'Pfizer Discrepancy Torsion Dataset 1',\n",
       " 'SMIRNOFF Coverage Torsion Set 1',\n",
       " 'SiliconTX Torsion Benchmark Set 1',\n",
       " 'TorsionDrive Paper']"
      ]
     },
     "execution_count": 2,
     "metadata": {},
     "output_type": "execute_result"
    }
   ],
   "source": [
    "datasets"
   ]
  },
  {
   "cell_type": "code",
   "execution_count": null,
   "metadata": {},
   "outputs": [],
   "source": []
  }
 ],
 "metadata": {
  "kernelspec": {
   "display_name": "Python 3",
   "language": "python",
   "name": "python3"
  },
  "language_info": {
   "codemirror_mode": {
    "name": "ipython",
    "version": 3
   },
   "file_extension": ".py",
   "mimetype": "text/x-python",
   "name": "python",
   "nbconvert_exporter": "python",
   "pygments_lexer": "ipython3",
   "version": "3.7.8"
  }
 },
 "nbformat": 4,
 "nbformat_minor": 4
}
