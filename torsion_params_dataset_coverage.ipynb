{
 "cells": [
  {
   "cell_type": "code",
   "execution_count": 1,
   "metadata": {
    "scrolled": false
   },
   "outputs": [
    {
     "data": {
      "application/vnd.jupyter.widget-view+json": {
       "model_id": "70681847e82c400e8123def77fc25d97",
       "version_major": 2,
       "version_minor": 0
      },
      "text/plain": []
     },
     "metadata": {},
     "output_type": "display_data"
    },
    {
     "data": {
      "text/plain": [
       "['Fragment Stability Benchmark',\n",
       " 'Fragmenter paper',\n",
       " 'OpenFF DANCE 1 eMolecules t142 v1.0',\n",
       " 'OpenFF Fragmenter Validation 1.0',\n",
       " 'OpenFF Full TorsionDrive Benchmark 1',\n",
       " 'OpenFF Gen 2 Torsion Set 1 Roche',\n",
       " 'OpenFF Gen 2 Torsion Set 1 Roche 2',\n",
       " 'OpenFF Gen 2 Torsion Set 2 Coverage',\n",
       " 'OpenFF Gen 2 Torsion Set 2 Coverage 2',\n",
       " 'OpenFF Gen 2 Torsion Set 3 Pfizer Discrepancy',\n",
       " 'OpenFF Gen 2 Torsion Set 3 Pfizer Discrepancy 2',\n",
       " 'OpenFF Gen 2 Torsion Set 4 eMolecules Discrepancy',\n",
       " 'OpenFF Gen 2 Torsion Set 4 eMolecules Discrepancy 2',\n",
       " 'OpenFF Gen 2 Torsion Set 5 Bayer',\n",
       " 'OpenFF Gen 2 Torsion Set 5 Bayer 2',\n",
       " 'OpenFF Gen 2 Torsion Set 6 Supplemental',\n",
       " 'OpenFF Gen 2 Torsion Set 6 Supplemental 2',\n",
       " 'OpenFF Group1 Torsions',\n",
       " 'OpenFF Group1 Torsions 2',\n",
       " 'OpenFF Group1 Torsions 3',\n",
       " 'OpenFF Primary Benchmark 1 Torsion Set',\n",
       " 'OpenFF Primary Benchmark 2 Torsion Set',\n",
       " 'OpenFF Primary TorsionDrive Benchmark 1',\n",
       " 'OpenFF Protein Fragments TorsionDrives v1.0',\n",
       " 'OpenFF Rowley Biaryl v1.0',\n",
       " 'OpenFF Substituted Phenyl Set 1',\n",
       " 'OpenFF Theory Benchmarking Set B3LYP-D3BJ DZVP v1.0',\n",
       " 'OpenFF Theory Benchmarking Set B3LYP-D3BJ def2-TZVP v1.0',\n",
       " 'OpenFF Theory Benchmarking Set B3LYP-D3BJ def2-TZVPD v1.0',\n",
       " 'OpenFF Theory Benchmarking Set B3LYP-D3BJ def2-TZVPP v1.0',\n",
       " 'OpenFF-benchmark-ligand-fragments-v1.0',\n",
       " 'Pfizer Discrepancy Torsion Dataset 1',\n",
       " 'SMIRNOFF Coverage Torsion Set 1',\n",
       " 'SiliconTX Torsion Benchmark Set 1',\n",
       " 'TorsionDrive Paper']"
      ]
     },
     "execution_count": 1,
     "metadata": {},
     "output_type": "execute_result"
    }
   ],
   "source": [
    "import qcportal as ptl\n",
    "from openeye import oechem\n",
    "from openforcefield.topology import Molecule, Topology\n",
    "from openforcefield.typing.engines.smirnoff import ForceField\n",
    "import cmiles\n",
    "import time\n",
    "import collections\n",
    "\n",
    "client = ptl.FractalClient()\n",
    "torsion_datasets = client.list_collections(\"TorsionDriveDataset\")\n",
    "datasets = []\n",
    "for i in range(len(torsion_datasets)):\n",
    "    datasets.append(torsion_datasets.index[i][1])\n",
    "datasets"
   ]
  },
  {
   "cell_type": "code",
   "execution_count": 2,
   "metadata": {},
   "outputs": [],
   "source": [
    "def get_coverage_report(datasets):\n",
    "    for dataset_name in datasets:\n",
    "        count = 0\n",
    "        while True:\n",
    "            try:\n",
    "                ds = client.get_collection(\"TorsionDriveDataset\", dataset_name)\n",
    "                ds.status(\"default\", status=\"COMPLETE\")\n",
    "                break\n",
    "            except:\n",
    "                time.sleep(20)\n",
    "                count += 1\n",
    "                if count < 2:\n",
    "                    continue\n",
    "                else:\n",
    "                    break\n",
    "\n",
    "        params = []\n",
    "        for index in ds.df.index:\n",
    "            # get the dihedral indices\n",
    "            dihedral_indices = ds.df.loc[index].default.keywords.dihedrals[0]\n",
    "            # build the molecule from the mapped smiles \n",
    "            molecule = Molecule.from_qcschema(ds.get_entry(index))\n",
    "            topology = Topology.from_molecules([molecule])\n",
    "\n",
    "            # Let's label using the Parsley force field\n",
    "            forcefield = ForceField('openff_unconstrained-1.3.0.offxml')\n",
    "\n",
    "            # Run the molecule labeling\n",
    "            molecule_force_list = forcefield.label_molecules(topology)\n",
    "\n",
    "            # Print out a formatted description of the torsion parameters applied to this molecule\n",
    "            for mol_idx, mol_forces in enumerate(molecule_force_list):\n",
    "                for force_tag, force_dict in mol_forces.items():\n",
    "                    if force_tag == 'ProperTorsions':\n",
    "                        for (atom_indices, parameter) in force_dict.items():\n",
    "                            if(atom_indices == dihedral_indices):\n",
    "                                count += 1\n",
    "                                params.append(parameter.id)\n",
    "                                \n",
    "        counter = collections.Counter(params)\n",
    "        print(dataset_name, counter)\n",
    "        print(\" \")\n",
    "    return counter"
   ]
  },
  {
   "cell_type": "code",
   "execution_count": 3,
   "metadata": {},
   "outputs": [
    {
     "name": "stdout",
     "output_type": "stream",
     "text": [
      "Fragment Stability Benchmark Counter({'t69': 86})\n",
      " \n",
      "Fragmenter paper Counter({'t69a': 2, 't96': 1, 't70d': 1, 't69': 1, 't112': 1})\n",
      " \n",
      "OpenFF DANCE 1 eMolecules t142 v1.0 Counter()\n",
      " \n",
      "OpenFF Fragmenter Validation 1.0 Counter({'t70d': 5, 't96': 3, 't69a': 3, 't112': 3, 't69': 2, 't101': 2})\n",
      " \n",
      "OpenFF Full TorsionDrive Benchmark 1 Counter({'t47': 21, 't69': 14, 't17': 13, 't1': 10, 't96': 7, 't51': 6, 't48': 3, 't43': 3, 't61': 2, 't20': 2, 't70b': 1, 't118': 1, 't128': 1})\n",
      " \n",
      "OpenFF Gen 2 Torsion Set 1 Roche Counter({'t1': 1, 't2': 1, 't3': 1, 't4': 1, 't5': 1, 't9': 1, 't10': 1, 't13': 1, 't17': 1, 't20': 1, 't18': 1, 't19': 1, 't21': 1, 't22': 1, 't24': 1, 't27': 1, 't29': 1, 't33': 1, 't39': 1, 't41': 1, 't43': 1, 't44': 1, 't45': 1, 't46': 1, 't47': 1, 't48': 1, 't51': 1, 't52': 1, 't59': 1, 't61': 1, 't62': 1, 't64': 1, 't69a': 1, 't69': 1, 't70c': 1, 't71': 1, 't72': 1, 't75': 1, 't76': 1, 't85': 1, 't86': 1, 't87': 1, 't88': 1, 't91': 1, 't94': 1, 't96': 1, 't97': 1, 't98': 1, 't102': 1, 't108': 1, 't109': 1, 't110': 1, 't111': 1, 't112': 1, 't113': 1, 't120': 1, 't128a': 1, 't130': 1, 't135': 1, 't136': 1, 't137': 1, 't138': 1, 't140': 1, 't142': 1, 't157': 1})\n",
      " \n",
      "OpenFF Gen 2 Torsion Set 1 Roche 2 Counter({'t4': 6, 't47': 5, 't3': 4, 't20': 4, 't112': 4, 't18': 3, 't19': 3, 't22': 3, 't23': 3, 't43': 3, 't44': 3, 't85': 3, 't96': 3, 't108': 3, 't1': 2, 't2': 2, 't5': 2, 't9': 2, 't17': 2, 't21': 2, 't27': 2, 't29': 2, 't41': 2, 't45': 2, 't46': 2, 't48': 2, 't51': 2, 't52': 2, 't59': 2, 't62': 2, 't64': 2, 't68': 2, 't69': 2, 't70c': 2, 't71': 2, 't75': 2, 't76': 2, 't86': 2, 't88': 2, 't97': 2, 't98': 2, 't101': 2, 't102': 2, 't109': 2, 't110': 2, 't128a': 2, 't130': 2, 't136': 2, 't137': 2, 't138': 2, 't10': 1, 't13': 1, 't24': 1, 't33': 1, 't39': 1, 't40': 1, 't61': 1, 't69a': 1, 't70d': 1, 't72': 1, 't87': 1, 't91': 1, 't94': 1, 't111': 1, 't113': 1, 't120': 1, 't135': 1, 't140': 1, 't142': 1, 't157': 1})\n",
      " \n",
      "OpenFF Gen 2 Torsion Set 2 Coverage Counter({'t69a': 2, 't1': 1, 't2': 1, 't3': 1, 't4': 1, 't6': 1, 't7': 1, 't10': 1, 't11': 1, 't13': 1, 't15': 1, 't17': 1, 't18': 1, 't19': 1, 't21': 1, 't22': 1, 't23': 1, 't27': 1, 't28': 1, 't29': 1, 't30': 1, 't32': 1, 't33': 1, 't35': 1, 't43': 1, 't44': 1, 't47': 1, 't49': 1, 't51': 1, 't52': 1, 't54': 1, 't55': 1, 't59': 1, 't60': 1, 't63': 1, 't64': 1, 't65': 1, 't70c': 1, 't71': 1, 't72': 1, 't73': 1, 't74': 1, 't75': 1, 't79': 1, 't82': 1, 't84': 1, 't85': 1, 't86': 1, 't89': 1, 't90': 1, 't91': 1, 't93': 1, 't94': 1, 't96': 1, 't97': 1, 't98': 1, 't99': 1, 't101': 1, 't102': 1, 't106': 1, 't107': 1, 't108': 1, 't109': 1, 't112': 1, 't113': 1, 't114': 1, 't115': 1, 't117': 1, 't118': 1, 't119': 1, 't120': 1, 't121': 1, 't122': 1, 't126': 1, 't127': 1, 't128a': 1, 't130': 1, 't131': 1, 't133': 1, 't134': 1, 't135': 1, 't136': 1, 't142': 1, 't146': 1, 't150': 1, 't151': 1, 't152': 1, 't154': 1, 't155b': 1, 't156': 1, 't157': 1, 't158': 1})\n",
      " \n",
      "OpenFF Gen 2 Torsion Set 2 Coverage 2 Counter({'t15': 5, 't47': 5, 't3': 4, 't102': 4, 't1': 3, 't9': 3, 't20': 3, 't19': 3, 't44': 3, 't69a': 3, 't71': 3, 't158': 3, 't2': 2, 't13': 2, 't17': 2, 't18': 2, 't23': 2, 't27': 2, 't43': 2, 't51': 2, 't70c': 2, 't75': 2, 't85': 2, 't86': 2, 't96': 2, 't97': 2, 't98': 2, 't99': 2, 't107': 2, 't108': 2, 't109': 2, 't112': 2, 't115': 2, 't130': 2, 't133': 2, 't134': 2, 't136': 2, 't150': 2, 't151': 2, 't152': 2, 't157': 2, 't4': 1, 't6': 1, 't7': 1, 't10': 1, 't11': 1, 't12': 1, 't14': 1, 't28': 1, 't29': 1, 't30': 1, 't31': 1, 't32': 1, 't33': 1, 't35': 1, 't49': 1, 't52': 1, 't54': 1, 't55': 1, 't59': 1, 't60': 1, 't63': 1, 't64': 1, 't65': 1, 't68': 1, 't72': 1, 't73': 1, 't74': 1, 't79': 1, 't82': 1, 't84': 1, 't89': 1, 't90': 1, 't91': 1, 't93': 1, 't94': 1, 't101': 1, 't106': 1, 't113': 1, 't114': 1, 't117': 1, 't118': 1, 't119': 1, 't120': 1, 't121': 1, 't122': 1, 't126': 1, 't127': 1, 't128a': 1, 't131': 1, 't135': 1, 't139': 1, 't142': 1, 't146': 1, 't154': 1, 't155': 1, 't155b': 1, 't156': 1})\n",
      " \n",
      "OpenFF Gen 2 Torsion Set 3 Pfizer Discrepancy Counter({'t1': 1, 't3': 1, 't5': 1, 't9': 1, 't17': 1, 't20': 1, 't18': 1, 't19': 1, 't22': 1, 't23': 1, 't43': 1, 't44': 1, 't45': 1, 't47': 1, 't51': 1, 't52': 1, 't59': 1, 't61': 1, 't68': 1, 't69': 1, 't70c': 1, 't71': 1, 't75': 1, 't76': 1, 't84': 1, 't86': 1, 't87': 1, 't89': 1, 't96': 1, 't97': 1, 't98': 1, 't102': 1, 't106': 1, 't107': 1, 't108': 1, 't118': 1, 't128': 1, 't130': 1})\n",
      " \n",
      "OpenFF Gen 2 Torsion Set 3 Pfizer Discrepancy 2 Counter({'t71': 5, 't1': 3, 't22': 3, 't44': 3, 't51': 3, 't98': 3, 't102': 3, 't3': 2, 't9': 2, 't17': 2, 't20': 2, 't18': 2, 't19': 2, 't23': 2, 't43': 2, 't45': 2, 't47': 2, 't52': 2, 't59': 2, 't61': 2, 't62': 2, 't68': 2, 't75': 2, 't76': 2, 't84': 2, 't86': 2, 't87': 2, 't96': 2, 't97': 2, 't108': 2, 't130': 2, 't5': 1, 't69a': 1, 't69': 1, 't70d': 1, 't70c': 1, 't85': 1, 't89': 1, 't106': 1, 't107': 1, 't118': 1, 't128': 1})\n",
      " \n",
      "OpenFF Gen 2 Torsion Set 4 eMolecules Discrepancy Counter({'t1': 1, 't2': 1, 't3': 1, 't4': 1, 't5': 1, 't6': 1, 't9': 1, 't10': 1, 't11': 1, 't12': 1, 't13': 1, 't17': 1, 't20': 1, 't18': 1, 't19': 1, 't21': 1, 't22': 1, 't23': 1, 't24': 1, 't26': 1, 't27': 1, 't28': 1, 't29': 1, 't30': 1, 't32': 1, 't34': 1, 't37': 1, 't39': 1, 't40': 1, 't42': 1, 't43': 1, 't44': 1, 't45': 1, 't46': 1, 't47': 1, 't48': 1, 't49': 1, 't50': 1, 't51': 1, 't51a': 1, 't51ah': 1, 't51bh': 1, 't51c': 1, 't52': 1, 't54': 1, 't59': 1, 't60': 1, 't61': 1, 't62': 1, 't63': 1, 't64': 1, 't65': 1, 't66': 1, 't67': 1, 't68': 1, 't69': 1, 't70c': 1, 't71': 1, 't72': 1, 't73': 1, 't74': 1, 't75': 1, 't76': 1, 't77': 1, 't78': 1, 't79': 1, 't80': 1, 't81': 1, 't82': 1, 't83': 1, 't84': 1, 't85': 1, 't86': 1, 't87': 1, 't88': 1, 't96': 1, 't97': 1, 't98': 1, 't99': 1, 't102': 1, 't106': 1, 't107': 1, 't108': 1, 't109': 1, 't110': 1, 't112': 1, 't118': 1, 't120': 1, 't126': 1, 't127': 1, 't128': 1, 't129': 1, 't130': 1, 't131': 1, 't134': 1, 't136': 1, 't137': 1, 't138': 1, 't140': 1, 't141': 1, 't147': 1, 't148': 1, 't150': 1, 't152': 1, 't157': 1, 't158': 1})\n",
      " \n",
      "OpenFF Gen 2 Torsion Set 4 eMolecules Discrepancy 2 Counter({'t18': 5, 't19': 5, 't43': 5, 't44': 5, 't4': 4, 't9': 4, 't21': 4, 't72': 4, 't73': 4, 't77': 4, 't85': 4, 't86': 4, 't96': 4, 't100': 4, 't108': 4, 't109': 4, 't138': 4, 't1': 3, 't3': 3, 't5': 3, 't6': 3, 't10': 3, 't23': 3, 't27': 3, 't28': 3, 't45': 3, 't47': 3, 't48': 3, 't51': 3, 't52': 3, 't65': 3, 't66': 3, 't74': 3, 't75': 3, 't80': 3, 't88': 3, 't97': 3, 't98': 3, 't99': 3, 't106': 3, 't110': 3, 't120': 3, 't129': 3, 't137': 3, 't2': 2, 't11': 2, 't13': 2, 't14': 2, 't17': 2, 't20': 2, 't22': 2, 't24': 2, 't25': 2, 't26': 2, 't29': 2, 't30': 2, 't34': 2, 't37': 2, 't40': 2, 't46': 2, 't49': 2, 't51ch': 2, 't59': 2, 't61': 2, 't62': 2, 't64': 2, 't69a': 2, 't70c': 2, 't71': 2, 't76': 2, 't78': 2, 't79': 2, 't81': 2, 't84': 2, 't87': 2, 't101': 2, 't102': 2, 't107': 2, 't112': 2, 't118': 2, 't127': 2, 't128': 2, 't130': 2, 't134': 2, 't136': 2, 't141': 2, 't147': 2, 't148': 2, 't157': 2, 't158': 2, 't12': 1, 't31': 1, 't32': 1, 't35': 1, 't39': 1, 't41': 1, 't42': 1, 't50': 1, 't51a': 1, 't51ah': 1, 't51bh': 1, 't51c': 1, 't54': 1, 't60': 1, 't63': 1, 't67': 1, 't68': 1, 't69': 1, 't82': 1, 't83': 1, 't113': 1, 't126': 1, 't131': 1, 't140': 1, 't143': 1, 't150': 1, 't152': 1})\n",
      " \n",
      "OpenFF Gen 2 Torsion Set 5 Bayer Counter({'t1': 1, 't2': 1, 't3': 1, 't4': 1, 't5': 1, 't9': 1, 't10': 1, 't11': 1, 't13': 1, 't15': 1, 't16': 1, 't17': 1, 't20': 1, 't18': 1, 't19': 1, 't22': 1, 't24': 1, 't25': 1, 't26': 1, 't27': 1, 't28': 1, 't29': 1, 't30': 1, 't32': 1, 't33': 1, 't35': 1, 't36': 1, 't37': 1, 't38': 1, 't39': 1, 't40': 1, 't41': 1, 't42': 1, 't43': 1, 't44': 1, 't45': 1, 't46': 1, 't47': 1, 't51': 1, 't51c': 1, 't52': 1, 't55': 1, 't56': 1, 't59': 1, 't61': 1, 't62': 1, 't63': 1, 't64': 1, 't69a': 1, 't69': 1, 't70c': 1, 't71': 1, 't73': 1, 't74': 1, 't75': 1, 't76': 1, 't77': 1, 't84': 1, 't85': 1, 't86': 1, 't87': 1, 't88': 1, 't90': 1, 't91': 1, 't94': 1, 't96': 1, 't97': 1, 't98': 1, 't100': 1, 't101': 1, 't102': 1, 't106': 1, 't107': 1, 't108': 1, 't109': 1, 't110': 1, 't111': 1, 't112': 1, 't113': 1, 't118': 1, 't119': 1, 't120': 1, 't125': 1, 't126': 1, 't127': 1, 't130': 1, 't134': 1, 't135': 1, 't136': 1, 't137': 1, 't140': 1, 't141': 1, 't142': 1, 't143': 1, 't144': 1, 't145': 1, 't148': 1, 't156': 1, 't157': 1, 't158': 1})\n",
      " \n"
     ]
    },
    {
     "name": "stdout",
     "output_type": "stream",
     "text": [
      "OpenFF Gen 2 Torsion Set 5 Bayer 2 Counter({'t71': 7, 't19': 5, 't26': 5, 't84': 5, 't96': 5, 't97': 5, 't157': 5, 't4': 4, 't44': 4, 't134': 4, 't156': 4, 't1': 3, 't2': 3, 't9': 3, 't17': 3, 't20': 3, 't22': 3, 't27': 3, 't29': 3, 't52': 3, 't55': 3, 't59': 3, 't61': 3, 't69a': 3, 't70c': 3, 't86': 3, 't87': 3, 't98': 3, 't99': 3, 't108': 3, 't110': 3, 't112': 3, 't141': 3, 't142': 3, 't3': 2, 't5': 2, 't10': 2, 't13': 2, 't15': 2, 't23': 2, 't24': 2, 't25': 2, 't28': 2, 't32': 2, 't38': 2, 't43': 2, 't45': 2, 't46': 2, 't47': 2, 't51': 2, 't56': 2, 't64': 2, 't75': 2, 't76': 2, 't85': 2, 't88': 2, 't101': 2, 't102': 2, 't106': 2, 't109': 2, 't113': 2, 't118': 2, 't120': 2, 't125': 2, 't127': 2, 't130': 2, 't135': 2, 't136': 2, 't138': 2, 't139': 2, 't148': 2, 't14': 1, 't18': 1, 't21': 1, 't30': 1, 't31': 1, 't34': 1, 't36': 1, 't39': 1, 't40': 1, 't41': 1, 't48': 1, 't51c': 1, 't62': 1, 't63': 1, 't69': 1, 't73': 1, 't77': 1, 't90': 1, 't107': 1, 't126': 1, 't137': 1, 't140': 1, 't143': 1})\n",
      " \n",
      "OpenFF Gen 2 Torsion Set 6 Supplemental Counter({'t51b': 1, 't58': 1, 't103': 1, 't104': 1, 't105': 1, 't116': 1, 't149': 1})\n",
      " \n",
      "OpenFF Gen 2 Torsion Set 6 Supplemental 2 Counter({'t51b': 4, 't104': 4, 't58': 3, 't145': 3, 't103': 2, 't105': 2, 't116': 2, 't149': 2})\n",
      " \n",
      "OpenFF Group1 Torsions Counter({'t47': 108, 't69': 99, 't17': 90, 't96': 62, 't69a': 62, 't43': 37, 't20': 15, 't61': 14, 't112': 13, 't113': 13, 't51': 10, 't86': 10, 't21': 5, 't1': 5, 't98': 5, 't46': 5, 't109': 4, 't45': 3, 't2': 3, 't48': 3, 't5': 2, 't143': 2, 't22': 2, 't27': 2, 't59': 1, 't72': 1, 't14': 1, 't137': 1, 't35': 1, 't33': 1, 't141': 1})\n",
      " \n",
      "OpenFF Group1 Torsions 2 Counter({'t51a': 5, 't51c': 5, 't51b': 3, 't51bh': 2, 't51ah': 2, 't51ch': 2})\n",
      " \n",
      "OpenFF Group1 Torsions 3 Counter({'t129': 3, 't128': 3})\n",
      " \n",
      "OpenFF Primary Benchmark 1 Torsion Set Counter({'t44': 5, 't47': 5, 't76': 5, 't69': 5, 't77': 5, 't71': 5, 't75': 5, 't45': 5, 't128': 5, 't70c': 5, 't102': 5, 't81': 5, 't130': 5, 't74': 5, 't52': 5, 't2': 5, 't97': 5, 't98': 5, 't101': 5, 't96': 5, 't72': 5, 't88': 5, 't99': 5, 't100': 5, 't108': 5, 't106': 5, 't73': 5, 't107': 5, 't43': 5, 't85': 5, 't5': 5, 't67': 5, 't66': 5, 't48': 5, 't22': 5, 't62': 5, 't61': 5, 't23': 5, 't78': 4, 't84': 4, 't68': 4, 't19': 4, 't16': 4, 't17': 3, 't20': 3, 't18': 3, 't51': 3, 't118': 3, 't1': 3, 't65': 3, 't59': 2, 't87': 2, 't86': 2, 't9': 2, 't4': 2, 't58': 2, 't50': 2, 't120': 2, 't24': 2, 't64': 2, 't15': 2, 't3': 1, 't69a': 1, 't123': 1, 't122': 1, 't46': 1, 't129': 1})\n",
      " \n",
      "OpenFF Primary Benchmark 2 Torsion Set Counter({'t1': 9, 't2': 7, 't65': 6, 't87': 5, 't89': 5, 't20': 5, 't5': 5, 't44': 5, 't97': 5, 't51': 5, 't52': 5, 't47': 5, 't76': 5, 't157': 5, 't75': 5, 't98': 5, 't88': 5, 't101': 5, 't45': 5, 't43': 5, 't73': 5, 't77': 5, 't120': 5, 't74': 5, 't102': 5, 't106': 5, 't108': 5, 't25': 5, 't69': 5, 't96': 5, 't128': 5, 't137': 5, 't140': 5, 't71': 5, 't129': 5, 't48': 5, 't118': 5, 't130': 5, 't99': 5, 't100': 5, 't6': 5, 't62': 5, 't23': 5, 't22': 5, 't61': 5, 't64': 5, 't21': 5, 't72': 5, 't34': 5, 't29': 5, 't42': 5, 't27': 5, 't81': 5, 't46': 5, 't30': 5, 't31': 5, 't85': 5, 't112': 5, 't141': 5, 't67': 5, 't143': 5, 't35': 5, 't39': 5, 't78': 5, 't158': 5, 't26': 5, 't138': 5, 't41': 5, 't134': 5, 't148': 5, 't133': 5, 't147': 5, 't79': 5, 't113': 5, 't80': 5, 't126': 5, 't111': 5, 't32': 5, 't127': 5, 't149': 5, 't49': 5, 't63': 5, 't131': 5, 't50': 5, 't90': 5, 't114': 5, 't58': 5, 't115': 5, 't17': 4, 't86': 4, 't59': 4, 't68': 4, 't10': 4, 't16': 4, 't38': 4, 't84': 4, 't136': 4, 't139': 4, 't40': 4, 't83': 4, 't37': 4, 't150': 4, 't152': 4, 't123': 4, 't4': 3, 't18': 3, 't9': 3, 't3': 3, 't107': 3, 't19': 3, 't24': 3, 't66': 3, 't125': 3, 't146': 3, 't82': 3, 't28': 3, 't55': 3, 't135': 3, 't60': 3, 't122': 3, 't145': 3, 't109': 2, 't15': 2, 't110': 2, 't54': 2, 't142': 2, 't144': 2, 't151': 2, 't70': 1, 't69a': 1, 't70d': 1, 't70c': 1, 't12': 1, 't11': 1, 't155': 1, 't154': 1, 't124': 1})\n",
      " \n",
      "OpenFF Primary TorsionDrive Benchmark 1 Counter({'t47': 7, 't69': 4, 't96': 4, 't43': 1, 't20': 1})\n",
      " \n",
      "OpenFF Protein Fragments TorsionDrives v1.0 Counter({'t1': 194, 't69a': 185, 't61': 185, 't22': 185, 't17': 48, 't23': 32, 't2': 16})\n",
      " \n",
      "OpenFF Rowley Biaryl v1.0 Counter({'t43': 51, 't47': 17, 't69': 12})\n",
      " \n",
      "OpenFF Substituted Phenyl Set 1 Counter({'t69': 95, 't96': 23, 't43': 15, 't47': 11, 't97': 9, 't72': 5, 't74': 1})\n",
      " \n",
      "OpenFF Theory Benchmarking Set B3LYP-D3BJ DZVP v1.0 Counter({'t47': 4, 't17': 3, 't69': 3, 't1': 2, 't69a': 2, 't96': 2, 't5': 1, 't13': 1, 't41': 1, 't51': 1, 't52': 1, 't61': 1, 't64': 1, 't65': 1, 't74': 1, 't88': 1, 't91': 1, 't98': 1, 't113': 1, 't124': 1, 't126': 1, 't138': 1, 't141': 1, 't114': 1, 't151': 1, 't152': 1})\n",
      " \n",
      "OpenFF Theory Benchmarking Set B3LYP-D3BJ def2-TZVP v1.0 Counter({'t47': 4, 't17': 3, 't69': 3, 't1': 2, 't69a': 2, 't96': 2, 't5': 1, 't13': 1, 't41': 1, 't51': 1, 't52': 1, 't61': 1, 't64': 1, 't65': 1, 't74': 1, 't88': 1, 't91': 1, 't98': 1, 't113': 1, 't124': 1, 't126': 1, 't138': 1, 't141': 1, 't114': 1, 't151': 1, 't152': 1})\n",
      " \n",
      "OpenFF Theory Benchmarking Set B3LYP-D3BJ def2-TZVPD v1.0 Counter({'t47': 4, 't17': 3, 't69': 3, 't1': 2, 't69a': 2, 't96': 2, 't5': 1, 't13': 1, 't41': 1, 't51': 1, 't52': 1, 't61': 1, 't64': 1, 't65': 1, 't74': 1, 't88': 1, 't91': 1, 't98': 1, 't113': 1, 't124': 1, 't126': 1, 't138': 1, 't141': 1, 't114': 1, 't151': 1, 't152': 1})\n",
      " \n",
      "OpenFF Theory Benchmarking Set B3LYP-D3BJ def2-TZVPP v1.0 Counter({'t47': 4, 't17': 3, 't69': 3, 't1': 2, 't69a': 2, 't96': 2, 't5': 1, 't13': 1, 't41': 1, 't51': 1, 't52': 1, 't61': 1, 't64': 1, 't65': 1, 't74': 1, 't88': 1, 't91': 1, 't98': 1, 't113': 1, 't124': 1, 't126': 1, 't138': 1, 't141': 1, 't114': 1, 't151': 1, 't152': 1})\n",
      " \n",
      "OpenFF-benchmark-ligand-fragments-v1.0 Counter({'t1': 64, 't17': 53, 't96': 52, 't69': 29, 't43': 20, 't20': 12, 't47': 10, 't69a': 10, 't112': 9, 't109': 7, 't140': 4, 't59': 4, 't106': 3, 't5': 2, 't14': 2, 't21': 2, 't141': 1, 't61': 1, 't86': 1, 't18': 1, 't72': 1, 't51c': 1, 't70c': 1})\n",
      " \n",
      "Pfizer Discrepancy Torsion Dataset 1 Counter({'t47': 21, 't69': 14, 't17': 13, 't1': 10, 't96': 7, 't51': 6, 't48': 3, 't43': 3, 't61': 2, 't20': 2, 't70b': 1, 't118': 1, 't128': 1})\n",
      " \n",
      "SMIRNOFF Coverage Torsion Set 1 Counter({'t69a': 8, 't84': 5, 't85': 5, 't77': 5, 't57': 5, 't55': 5, 't137': 5, 't134': 5, 't140': 5, 't135': 5, 't139': 5, 't54': 5, 't65': 5, 't145': 5, 't108': 5, 't74': 5, 't106': 5, 't59': 5, 't73': 5, 't62': 5, 't20': 5, 't23': 5, 't45': 5, 't71': 5, 't102': 5, 't36': 5, 't47': 5, 't27': 5, 't31': 5, 't42': 5, 't41': 5, 't150': 5, 't130': 5, 't128': 5, 't128a': 5, 't2': 5, 't133': 5, 't98': 5, 't101': 5, 't76': 5, 't112': 5, 't75': 5, 't148': 5, 't49': 5, 't52': 5, 't43': 5, 't67': 5, 't88': 5, 't151': 5, 't96': 5, 't143': 5, 't97': 5, 't158': 5, 't21': 5, 't147': 5, 't64': 5, 't5': 5, 't119': 5, 't22': 5, 't35': 5, 't39': 5, 't60': 5, 't95': 5, 't124': 5, 't121': 5, 't115': 5, 't127': 5, 't93': 5, 't155': 5, 't89': 4, 't107': 4, 't157': 4, 't44': 4, 't16': 4, 't56': 4, 't61': 4, 't17': 4, 't26': 4, 't40': 4, 't99': 4, 't100': 4, 't114': 4, 't118': 4, 't14': 4, 't13': 4, 't81': 4, 't111': 4, 't154': 4, 't34': 4, 't38': 4, 't142': 4, 't33': 4, 't131': 4, 't6': 4, 't72': 4, 't136': 4, 't144': 4, 't126': 4, 't30': 4, 't86': 3, 't156': 3, 't78': 3, 't70c': 3, 't1': 3, 't18': 3, 't51': 3, 't12': 3, 't129': 3, 't19': 3, 't123': 3, 't25': 3, 't24': 3, 't50': 3, 't11': 3, 't66': 3, 't152': 3, 't146': 3, 't94': 3, 't9': 2, 't3': 2, 't109': 2, 't15': 2, 't4': 2, 't32': 2, 't120': 2, 't87': 2, 't10': 2, 't122': 2, 't29': 2, 't37': 2, 't110': 2, 't48': 2, 't125': 2, 't83': 2, 't28': 2, 't79': 2, 't80': 2, 't8': 2, 't91': 2, 't7': 2, 't113': 2, 't105': 2, 't104': 2, 't46': 1, 't117': 1, 't141': 1, 't138': 1, 't63': 1, 't90': 1, 't92': 1, 't116': 1, 't82': 1, 't149': 1})\n",
      " \n"
     ]
    },
    {
     "ename": "KeyError",
     "evalue": "'The record must contain the hydrogen mapped smiles to be safely made from the archive.'",
     "output_type": "error",
     "traceback": [
      "\u001b[0;31m---------------------------------------------------------------------------\u001b[0m",
      "\u001b[0;31mKeyError\u001b[0m                                  Traceback (most recent call last)",
      "\u001b[0;32m/home/maverick/anaconda3/envs/openff-dev/lib/python3.7/site-packages/openforcefield/topology/molecule.py\u001b[0m in \u001b[0;36mfrom_qcschema\u001b[0;34m(cls, qca_record, client, toolkit_registry, allow_undefined_stereo)\u001b[0m\n\u001b[1;32m   4294\u001b[0m             mapped_smiles = qca_record[\"attributes\"][\n\u001b[0;32m-> 4295\u001b[0;31m                 \u001b[0;34m\"canonical_isomeric_explicit_hydrogen_mapped_smiles\"\u001b[0m\u001b[0;34m\u001b[0m\u001b[0;34m\u001b[0m\u001b[0m\n\u001b[0m\u001b[1;32m   4296\u001b[0m             ]\n",
      "\u001b[0;31mKeyError\u001b[0m: 'canonical_isomeric_explicit_hydrogen_mapped_smiles'",
      "\nDuring handling of the above exception, another exception occurred:\n",
      "\u001b[0;31mKeyError\u001b[0m                                  Traceback (most recent call last)",
      "\u001b[0;32m<ipython-input-3-09bc1a9c7e9c>\u001b[0m in \u001b[0;36m<module>\u001b[0;34m()\u001b[0m\n\u001b[0;32m----> 1\u001b[0;31m \u001b[0mtorsion_coverage\u001b[0m \u001b[0;34m=\u001b[0m \u001b[0mget_coverage_report\u001b[0m\u001b[0;34m(\u001b[0m\u001b[0mdatasets\u001b[0m\u001b[0;34m)\u001b[0m\u001b[0;34m\u001b[0m\u001b[0;34m\u001b[0m\u001b[0m\n\u001b[0m",
      "\u001b[0;32m<ipython-input-2-7a4c757a7e2f>\u001b[0m in \u001b[0;36mget_coverage_report\u001b[0;34m(datasets)\u001b[0m\n\u001b[1;32m     20\u001b[0m             \u001b[0mdihedral_indices\u001b[0m \u001b[0;34m=\u001b[0m \u001b[0mds\u001b[0m\u001b[0;34m.\u001b[0m\u001b[0mdf\u001b[0m\u001b[0;34m.\u001b[0m\u001b[0mloc\u001b[0m\u001b[0;34m[\u001b[0m\u001b[0mindex\u001b[0m\u001b[0;34m]\u001b[0m\u001b[0;34m.\u001b[0m\u001b[0mdefault\u001b[0m\u001b[0;34m.\u001b[0m\u001b[0mkeywords\u001b[0m\u001b[0;34m.\u001b[0m\u001b[0mdihedrals\u001b[0m\u001b[0;34m[\u001b[0m\u001b[0;36m0\u001b[0m\u001b[0;34m]\u001b[0m\u001b[0;34m\u001b[0m\u001b[0;34m\u001b[0m\u001b[0m\n\u001b[1;32m     21\u001b[0m             \u001b[0;31m# build the molecule from the mapped smiles\u001b[0m\u001b[0;34m\u001b[0m\u001b[0;34m\u001b[0m\u001b[0;34m\u001b[0m\u001b[0m\n\u001b[0;32m---> 22\u001b[0;31m             \u001b[0mmolecule\u001b[0m \u001b[0;34m=\u001b[0m \u001b[0mMolecule\u001b[0m\u001b[0;34m.\u001b[0m\u001b[0mfrom_qcschema\u001b[0m\u001b[0;34m(\u001b[0m\u001b[0mds\u001b[0m\u001b[0;34m.\u001b[0m\u001b[0mget_entry\u001b[0m\u001b[0;34m(\u001b[0m\u001b[0mindex\u001b[0m\u001b[0;34m)\u001b[0m\u001b[0;34m)\u001b[0m\u001b[0;34m\u001b[0m\u001b[0;34m\u001b[0m\u001b[0m\n\u001b[0m\u001b[1;32m     23\u001b[0m             \u001b[0mtopology\u001b[0m \u001b[0;34m=\u001b[0m \u001b[0mTopology\u001b[0m\u001b[0;34m.\u001b[0m\u001b[0mfrom_molecules\u001b[0m\u001b[0;34m(\u001b[0m\u001b[0;34m[\u001b[0m\u001b[0mmolecule\u001b[0m\u001b[0;34m]\u001b[0m\u001b[0;34m)\u001b[0m\u001b[0;34m\u001b[0m\u001b[0;34m\u001b[0m\u001b[0m\n\u001b[1;32m     24\u001b[0m \u001b[0;34m\u001b[0m\u001b[0m\n",
      "\u001b[0;32m/home/maverick/anaconda3/envs/openff-dev/lib/python3.7/site-packages/openforcefield/topology/molecule.py\u001b[0m in \u001b[0;36mfrom_qcschema\u001b[0;34m(cls, qca_record, client, toolkit_registry, allow_undefined_stereo)\u001b[0m\n\u001b[1;32m   4297\u001b[0m         \u001b[0;32mexcept\u001b[0m \u001b[0mKeyError\u001b[0m\u001b[0;34m:\u001b[0m\u001b[0;34m\u001b[0m\u001b[0;34m\u001b[0m\u001b[0m\n\u001b[1;32m   4298\u001b[0m             raise KeyError(\n\u001b[0;32m-> 4299\u001b[0;31m                 \u001b[0;34m\"The record must contain the hydrogen mapped smiles to be safely made from the archive.\"\u001b[0m\u001b[0;34m\u001b[0m\u001b[0;34m\u001b[0m\u001b[0m\n\u001b[0m\u001b[1;32m   4300\u001b[0m             )\n\u001b[1;32m   4301\u001b[0m \u001b[0;34m\u001b[0m\u001b[0m\n",
      "\u001b[0;31mKeyError\u001b[0m: 'The record must contain the hydrogen mapped smiles to be safely made from the archive.'"
     ]
    }
   ],
   "source": [
    "torsion_coverage = get_coverage_report(datasets)"
   ]
  },
  {
   "cell_type": "code",
   "execution_count": null,
   "metadata": {},
   "outputs": [],
   "source": []
  }
 ],
 "metadata": {
  "kernelspec": {
   "display_name": "Python 3",
   "language": "python",
   "name": "python3"
  },
  "language_info": {
   "codemirror_mode": {
    "name": "ipython",
    "version": 3
   },
   "file_extension": ".py",
   "mimetype": "text/x-python",
   "name": "python",
   "nbconvert_exporter": "python",
   "pygments_lexer": "ipython3",
   "version": "3.7.8"
  }
 },
 "nbformat": 4,
 "nbformat_minor": 4
}
