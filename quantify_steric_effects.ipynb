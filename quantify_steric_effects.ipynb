{
 "cells": [
  {
   "cell_type": "markdown",
   "metadata": {},
   "source": [
    "## Loading molecule from QCA and calculating the MM energy with a SMIRNOFF-format forcefield\n",
    "\n",
    "## Energy decomposition for an openmm system\n",
    "\n"
   ]
  },
  {
   "cell_type": "code",
   "execution_count": 1,
   "metadata": {},
   "outputs": [
    {
     "data": {
      "application/vnd.jupyter.widget-view+json": {
       "model_id": "e5889afa99af43d3ba4f0172bbf2e968",
       "version_major": 2,
       "version_minor": 0
      },
      "text/plain": []
     },
     "metadata": {},
     "output_type": "display_data"
    }
   ],
   "source": [
    "from openforcefield.topology import Molecule, Topology\n",
    "from openforcefield.typing.engines.smirnoff.forcefield import ForceField\n",
    "from openforcefield.utils import get_data_file_path\n",
    "from simtk import openmm, unit\n",
    "import numpy as np"
   ]
  },
  {
   "cell_type": "markdown",
   "metadata": {},
   "source": [
    "### Define utility function to get energy of an OpenMM system \\\n",
    "Force groups in openmm \\\n",
    "0  - 'HarmonicAngleForce' \\\n",
    "0 - 'HarmonicBondForce' \\\n",
    "11  - 'NonbondedForce'\\\n",
    "0  - 'PeriodicTorsionForce'\n",
    "\n",
    "Not using the other functions forcegroupify() and getEnergyDecomposition()"
   ]
  },
  {
   "cell_type": "code",
   "execution_count": 2,
   "metadata": {},
   "outputs": [],
   "source": [
    "def forcegroupify(system):\n",
    "    forcegroups = {}\n",
    "    for i in range(system.getNumForces()):\n",
    "        force = system.getForce(i)\n",
    "        force.setForceGroup(i)\n",
    "        forcegroups[force] = i\n",
    "    return forcegroups\n",
    "\n",
    "def getEnergyDecomposition(context, forcegroups):\n",
    "    energies = {}\n",
    "    for f, i in forcegroups.items():\n",
    "        print(f, i)\n",
    "        energies[f] = context.getState(getEnergy=True, groups=2**i).getPotentialEnergy()\n",
    "    return energies\n",
    "\n",
    "\n",
    "def get_energy(system, positions, groups):\n",
    "    \"\"\"\n",
    "    Return the potential energy.\n",
    "\n",
    "    Parameters\n",
    "    ----------\n",
    "    system : simtk.openmm.System\n",
    "        The system to check\n",
    "    positions : simtk.unit.Quantity of dimension (natoms,3) with units of length\n",
    "        The positions to use\n",
    "    groups : set of integers that represent forcegroups (setting Nonbonded as non-zero). Eg. {0, 11}\n",
    "    \n",
    "    Returns\n",
    "    ---------\n",
    "    energy\n",
    "    \"\"\"\n",
    "\n",
    "    integrator = openmm.VerletIntegrator(1.0 * unit.femtoseconds)\n",
    "    context = openmm.Context(system, integrator)\n",
    "    context.setPositions(positions)\n",
    "    for force in system.getForces():\n",
    "        if force.__class__.__name__ == 'NonbondedForce':\n",
    "            force.setForceGroup(11)    \n",
    "#         print(force, force.getForceGroup())\n",
    "    state = context.getState(getEnergy=True, groups=groups)\n",
    "    energy = state.getPotentialEnergy().in_units_of(unit.kilocalorie_per_mole)\n",
    "    return energy"
   ]
  },
  {
   "cell_type": "markdown",
   "metadata": {},
   "source": [
    "## Load a molecule with positions, and evaluate its energy, evaluate the Nonbonded term\n",
    "\n",
    "In this example, we load a single molecule with geometry information, parameterize it using the \"Parsley\" (`openff-1.3.0`) forcefield, and evaluate its energy. \n",
    "\n"
   ]
  },
  {
   "cell_type": "markdown",
   "metadata": {},
   "source": [
    "Load a molecule"
   ]
  },
  {
   "cell_type": "code",
   "execution_count": 3,
   "metadata": {},
   "outputs": [
    {
     "name": "stdout",
     "output_type": "stream",
     "text": [
      "(90,) (15,)\n",
      "TD record: 21272352 , nonbonded energy diff: 0.20875432511871495 kcal/mol , approx. MM barrier: 15.75993197410935 kcal/mol , QM barrier: 4.430783246457765\n"
     ]
    }
   ],
   "source": [
    "import qcportal as ptl\n",
    "client = ptl.FractalClient()\n",
    "ds = client.get_collection(\"TorsionDriveDataset\", \"OpenFF Rowley Biaryl v1.0\")\n",
    "ds.status(\"default\", status=\"COMPLETE\")\n",
    "benchmark_smiles=\"lim_mobley_parsley_benchmark.smi\"\n",
    "with open(benchmark_smiles) as f:\n",
    "    bm_smiles = f.readlines()\n",
    "bm_mols = [Molecule.from_smiles(smiles) for smiles in bm_smiles]\n",
    "ff = ForceField('openff_unconstrained-1.3.0.offxml')\n",
    "\n",
    "for i in range(1): #ds.df.size):\n",
    "    if ds.df.iloc[i, 0].status == \"COMPLETE\":\n",
    "        smiles = ds.df.index[i]\n",
    "        mapped_smiles = ds.get_entry(smiles).attributes[\n",
    "            \"canonical_isomeric_explicit_hydrogen_mapped_smiles\"\n",
    "        ]\n",
    "        mol1 = Molecule.from_mapped_smiles(mapped_smiles)\n",
    "        not_identical = True\n",
    "        for mol in bm_mols:\n",
    "            isomorphic,atom_map = Molecule.are_isomorphic(mol1, \n",
    "                                              mol,\n",
    "                                              return_atom_map=False,\n",
    "                                              aromatic_matching=False,\n",
    "                                              formal_charge_matching=False,\n",
    "                                              bond_order_matching=False,\n",
    "                                              atom_stereochemistry_matching=False,\n",
    "                                              bond_stereochemistry_matching=False,\n",
    "                                                      )\n",
    "            if(isomorphic):\n",
    "                not_identical = False\n",
    "                overlaps += 1\n",
    "                entry = ds.get_entry(smiles)\n",
    "                tdr_id = entry.object_map['default']\n",
    "                qca_entries.append(tdr_id)\n",
    "                break\n",
    "        if(not_identical): \n",
    "            td = ds.df.iloc[i, 0]\n",
    "            mol_dict = td.get_final_molecules()\n",
    "            energies_dict = td.get_final_energies()\n",
    "            max_idx = max(energies_dict, key=energies_dict.get)\n",
    "            min_idx = min(energies_dict, key=energies_dict.get)\n",
    "            print(max_idx, min_idx)\n",
    "            mol = Molecule.from_qcschema(ds.get_entry(smiles))\n",
    "            mol_dict = td.get_final_molecules()\n",
    "            min_positions = mol_dict[min_idx].geometry * unit.angstrom\n",
    "            max_positions = mol_dict[max_idx].geometry * unit.angstrom\n",
    "            topology = mol.to_topology()\n",
    "            system = ff.create_openmm_system(topology)\n",
    "            nonbonded_energy_min_pos = get_energy(system, min_positions, {11})\n",
    "            nonbonded_energy_max_pos = get_energy(system, max_positions, {11})\n",
    "            total_energy_min_pos = get_energy(system, min_positions, {0,11})\n",
    "            total_energy_max_pos = get_energy(system, max_positions, {0,11})\n",
    "            nonbonded_energy_diff = nonbonded_energy_max_pos - nonbonded_energy_min_pos\n",
    "            total_energy_diff = total_energy_max_pos - total_energy_min_pos\n",
    "            qm_energy_diff = 627.509 *(energies_dict[max_idx] - energies_dict[min_idx])\n",
    "            print(\"TD record:\", td.id,\", nonbonded energy diff:\", nonbonded_energy_diff, \", approx. MM barrier:\", total_energy_diff, \", QM barrier:\", qm_energy_diff)"
   ]
  },
  {
   "cell_type": "markdown",
   "metadata": {},
   "source": [
    "#### Still something wrong with the MM energy calculation in above block, from the QM-MM plots the MM barrier in this case (TD record: 21272352) should be almost equal to QM barrier value (as calculated using Yudong's script)"
   ]
  },
  {
   "cell_type": "code",
   "execution_count": null,
   "metadata": {},
   "outputs": [],
   "source": []
  }
 ],
 "metadata": {
  "kernelspec": {
   "display_name": "Python 3",
   "language": "python",
   "name": "python3"
  },
  "language_info": {
   "codemirror_mode": {
    "name": "ipython",
    "version": 3
   },
   "file_extension": ".py",
   "mimetype": "text/x-python",
   "name": "python",
   "nbconvert_exporter": "python",
   "pygments_lexer": "ipython3",
   "version": "3.7.8"
  }
 },
 "nbformat": 4,
 "nbformat_minor": 1
}
