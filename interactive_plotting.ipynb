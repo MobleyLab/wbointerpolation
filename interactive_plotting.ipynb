{
 "cells": [
  {
   "cell_type": "markdown",
   "metadata": {},
   "source": [
    "### Dependencies for the interactive plots apart from rdkit, oechem and other qc* packages\n",
    " !conda install -c conda-forge plotly -y\n",
    " \n",
    " !conda install -c plotly jupyter-dash -y\n",
    " \n",
    " !conda install -c plotly plotly-orca -y"
   ]
  },
  {
   "cell_type": "code",
   "execution_count": 1,
   "metadata": {},
   "outputs": [],
   "source": [
    "#imports\n",
    "import numpy as np\n",
    "from scipy import stats\n",
    "import fragmenter\n",
    "from openeye import oechem"
   ]
  },
  {
   "cell_type": "code",
   "execution_count": 2,
   "metadata": {},
   "outputs": [],
   "source": [
    "TD_datasets = ['Fragment Stability Benchmark',\n",
    " 'Fragmenter paper',\n",
    " 'OpenFF DANCE 1 eMolecules t142 v1.0',\n",
    " 'OpenFF Fragmenter Validation 1.0',\n",
    " 'OpenFF Full TorsionDrive Benchmark 1',\n",
    " 'OpenFF Gen 2 Torsion Set 1 Roche',\n",
    " 'OpenFF Gen 2 Torsion Set 1 Roche 2',\n",
    " 'OpenFF Gen 2 Torsion Set 2 Coverage',\n",
    " 'OpenFF Gen 2 Torsion Set 2 Coverage 2',\n",
    " 'OpenFF Gen 2 Torsion Set 3 Pfizer Discrepancy',\n",
    " 'OpenFF Gen 2 Torsion Set 3 Pfizer Discrepancy 2',\n",
    " 'OpenFF Gen 2 Torsion Set 4 eMolecules Discrepancy',\n",
    " 'OpenFF Gen 2 Torsion Set 4 eMolecules Discrepancy 2',\n",
    " 'OpenFF Gen 2 Torsion Set 5 Bayer',\n",
    " 'OpenFF Gen 2 Torsion Set 5 Bayer 2',\n",
    " 'OpenFF Gen 2 Torsion Set 6 Supplemental',\n",
    " 'OpenFF Gen 2 Torsion Set 6 Supplemental 2',\n",
    " 'OpenFF Group1 Torsions',\n",
    " 'OpenFF Group1 Torsions 2',\n",
    " 'OpenFF Group1 Torsions 3',\n",
    " 'OpenFF Primary Benchmark 1 Torsion Set',\n",
    " 'OpenFF Primary Benchmark 2 Torsion Set',\n",
    " 'OpenFF Primary TorsionDrive Benchmark 1',\n",
    " 'OpenFF Rowley Biaryl v1.0',\n",
    " 'OpenFF Substituted Phenyl Set 1',\n",
    " 'OpenFF-benchmark-ligand-fragments-v1.0',\n",
    " 'Pfizer Discrepancy Torsion Dataset 1',\n",
    " 'SMIRNOFF Coverage Torsion Set 1',\n",
    " 'SiliconTX Torsion Benchmark Set 1',\n",
    " 'TorsionDrive Paper']"
   ]
  },
  {
   "cell_type": "code",
   "execution_count": 3,
   "metadata": {},
   "outputs": [],
   "source": [
    "def oeb2oemol(oebfile):\n",
    "    \"\"\"\n",
    "    Takes in oebfile and generates oemolList\n",
    "        Parameters\n",
    "        ----------\n",
    "        oebfile : String\n",
    "            Title of an oeb file\n",
    "        Returns\n",
    "        -------\n",
    "        mollist : List of objects\n",
    "            List of OEMols in the .oeb file\n",
    "            \n",
    "    \"\"\"\n",
    "    ifs = oechem.oemolistream(oebfile)\n",
    "    mollist = []\n",
    "\n",
    "    for mol in ifs.GetOEGraphMols():\n",
    "            mollist.append(oechem.OEGraphMol(mol))\n",
    "\n",
    "    return mollist\n",
    "\n",
    "\n",
    "def compute_r_ci(wbos, max_energies):\n",
    "    return (stats.linregress(wbos, max_energies)[2])**2\n",
    "\n",
    "\n",
    "def plot_interactive(fileList, t_id):\n",
    "    \"\"\"\n",
    "    Takes in a list of oeb files and plots wbo vs torsion barrier, combining all the datasets and plotting by each tid in the combined dataset\n",
    "    \n",
    "    Note: ***Plot is interactive (or returns chemical structures) only for the last usage\n",
    "    \n",
    "    Parameters\n",
    "    ----------\n",
    "    fileList: list of strings\n",
    "    each string is a oeb file name\n",
    "    Eg. ['rowley.oeb'] or ['rowley.oeb', 'phenyl.oeb']\n",
    "    \n",
    "    t_id: str\n",
    "    torsion id, eg., 't43'\n",
    "    \"\"\"\n",
    "    import plotly.express as px\n",
    "    from jupyter_dash import JupyterDash\n",
    "    import dash_core_components as dcc\n",
    "    import dash_html_components as html\n",
    "    import pandas as pd\n",
    "    import plotly.graph_objects as go\n",
    "    from dash.dependencies import Input, Output\n",
    "    from rdkit import Chem\n",
    "    from rdkit.Chem.Draw import MolsToGridImage\n",
    "    import base64\n",
    "    from io import BytesIO\n",
    "    from plotly.validators.scatter.marker import SymbolValidator\n",
    "    import ntpath\n",
    "    \n",
    "    df = pd.DataFrame(columns = ['tid', 'tb', 'wbo', 'cmiles', 'TDindices', 'filename']) \n",
    "    fig = go.Figure({'layout' : go.Layout(height=900, width=1000,\n",
    "            xaxis={'title': 'Wiberg Bond Order'},\n",
    "            yaxis={'title': 'Torsion barrier (kJ/mol)'},\n",
    "            margin={'l': 40, 'b': 40, 't': 10, 'r': 10},\n",
    "            legend={'orientation': 'h', 'y': -0.2}, \n",
    "            legend_font=dict(family='Rockwell', color='black', size=14),\n",
    "            hovermode=False,\n",
    "            dragmode='select')})\n",
    "    fig.update_xaxes(title_font=dict(size=18, family='Rockwell', color='black'), \n",
    "                     ticks=\"outside\", tickwidth=2, tickcolor='black', ticklen=10,\n",
    "                     tickfont=dict(family='Rockwell', color='black', size=14),\n",
    "                     showgrid=False, gridwidth=1, gridcolor='black', \n",
    "                     mirror=True, linewidth=2, linecolor='black', showline=True)\n",
    "    fig.update_yaxes(title_font=dict(size=18, family='Rockwell', color='black'),\n",
    "                    ticks=\"outside\", tickwidth=2, tickcolor='black', ticklen=10,\n",
    "                    tickfont=dict(family='Rockwell', color='black', size=14),\n",
    "                    showgrid=False, gridwidth=1, gridcolor='black', \n",
    "                    mirror=True, linewidth=2, linecolor='black', showline=True)\n",
    "    colors = fragmenter.chemi._KELLYS_COLORS\n",
    "    colors = colors * 2\n",
    "    raw_symbols = SymbolValidator().values\n",
    "    symbols = []\n",
    "    for i in range(0,len(raw_symbols),8):\n",
    "        symbols.append(raw_symbols[i])\n",
    "    count = 0\n",
    "\n",
    "    for fileName in fileList:\n",
    "        molList = []\n",
    "        molList = oeb2oemol(fileName)\n",
    "\n",
    "        for m in molList:\n",
    "            tid = m.GetData(\"IDMatch\")\n",
    "            fname = ntpath.basename(fileName)\n",
    "            df = df.append({'tid': tid, \n",
    "                            'tb': m.GetData(\"TB\"),\n",
    "                            'wbo' : m.GetData(\"WBO\"),\n",
    "                            'cmiles' : m.GetData(\"cmiles\"),\n",
    "                            'TDindices' : m.GetData(\"TDindices\"),\n",
    "                            'filename' : fname}, \n",
    "                            ignore_index = True)\n",
    "        \n",
    "        x = df[(df.filename == fname) & (df.tid == t_id)].wbo\n",
    "        y = df.loc[x.index].tb\n",
    "        fig.add_scatter(x=x,\n",
    "                        y=y,\n",
    "                        mode=\"markers\", \n",
    "                        name=fname, \n",
    "                        marker_color=colors[count],\n",
    "                        marker_symbol=count,\n",
    "                        marker_size=8)\n",
    "        count += 1\n",
    "    \n",
    "    x = df[df.tid == t_id].wbo\n",
    "    y = df.loc[x.index].tb\n",
    "    slope, intercept, r_value, p_value, std_err =    stats.linregress(x, y)\n",
    "    print(\"tid: \", t_id, \"r_value: \", r_value, \n",
    "          \"slope: \", slope, \"intercept: \", intercept)\n",
    "\n",
    "    fig.add_traces(go.Scatter(\n",
    "        x=np.unique(x), \n",
    "        y=np.poly1d([slope, intercept])(np.unique(x)), \n",
    "        showlegend=False, mode ='lines'))\n",
    "    slope_text = 'slope: '+str('%.2f' % slope)\n",
    "    r_value = 'r_val: '+str('%.2f' % r_value)\n",
    "    fig_text = slope_text + ', '+ r_value\n",
    "    fig.add_annotation(text=fig_text, \n",
    "                       font = {'family': \"Times\", 'size': 18, 'color': 'black'},\n",
    "                       xref=\"paper\", yref=\"paper\", x=1, y=0.2,\n",
    "                       showarrow=False)\n",
    "    \n",
    "    graph_component = dcc.Graph(id=\"graph_id\", figure=fig)\n",
    "    image_component = html.Img(id=\"structure-image\")\n",
    "\n",
    "    app = JupyterDash(__name__) \n",
    "\n",
    "    app.layout = html.Div([\n",
    "        html.Div([graph_component]), \n",
    "        html.Div([image_component])])\n",
    "\n",
    "    @app.callback(\n",
    "        Output('structure-image', 'src'),\n",
    "        [Input('graph_id', 'selectedData')])\n",
    "    def display_selected_data(selectedData):\n",
    "        max_structs = 40\n",
    "        structs_per_row = 1\n",
    "        empty_plot = \"data:image/gif;base64,R0lGODlhAQABAAAAACwAAAAAAQABAAA=\"\n",
    "        if selectedData:\n",
    "            if len(selectedData['points']) == 0:\n",
    "                return empty_plot\n",
    "            print(\"# of points selected = \", len(selectedData['points']))\n",
    "            xval = [x['x'] for x in selectedData['points']]\n",
    "            yval = [x['y'] for x in selectedData['points']]\n",
    "            match_df = df[df['wbo'].isin(xval) & df['tid'].isin([t_id])]\n",
    "            smiles_list = list(match_df.cmiles)\n",
    "            name_list = list(match_df.tid)\n",
    "            name_list = []\n",
    "            \n",
    "            hl_atoms = []\n",
    "            for i in range(len(smiles_list)):\n",
    "                indices_tup = match_df.iloc[i].TDindices\n",
    "                indices_list = [x + 1 for x in list(indices_tup)] \n",
    "                hl_atoms.append(indices_list)\n",
    "                tid = match_df.iloc[i].tid\n",
    "                tor_bar = match_df.iloc[i].tb\n",
    "                wbo_tor = match_df.iloc[i].wbo\n",
    "                cmiles_str = match_df.iloc[i].cmiles\n",
    "                tmp = [str(tid), ':', 'TDindices [', str(indices_tup[0]+1),\n",
    "                       str(indices_tup[1]+1), str(indices_tup[2]+1), \n",
    "                       str(indices_tup[3]+1), ']', \n",
    "                       'wbo:', str('%.2f'%(wbo_tor)), \n",
    "                       'TB:', str('%.2f'%(tor_bar)), '(kJ/mol)']\n",
    "                name_list.append(' '.join(tmp))\n",
    "            mol_list = [Chem.MolFromSmiles(x) for x in smiles_list]\n",
    "            print(len(mol_list))\n",
    "            img = MolsToGridImage(mol_list[0:max_structs], \n",
    "                                  subImgSize=(400, 400), \n",
    "                                  molsPerRow=structs_per_row, \n",
    "                                  legends=name_list)\n",
    "#             ,\n",
    "#                                   highlightAtomLists=hl_atoms)\n",
    "            buffered = BytesIO()\n",
    "            img.save(buffered, format=\"PNG\", legendFontSize=60)\n",
    "            encoded_image = base64.b64encode(buffered.getvalue())\n",
    "            src_str = 'data:image/png;base64,{}'.format(encoded_image.decode())\n",
    "        else:\n",
    "            return empty_plot\n",
    "        return src_str\n",
    "\n",
    "    if __name__ == '__main__':   \n",
    "        app.run_server(mode='inline', port=8061, debug=True)\n",
    "\n",
    "    return fig\n"
   ]
  },
  {
   "cell_type": "code",
   "execution_count": 4,
   "metadata": {},
   "outputs": [
    {
     "name": "stdout",
     "output_type": "stream",
     "text": [
      "tid:  t43 r_value:  -0.045708731993487406 slope:  -36.37504650365637 intercept:  55.698882138701066\n"
     ]
    },
    {
     "data": {
      "text/html": [
       "\n",
       "        <iframe\n",
       "            width=\"100%\"\n",
       "            height=\"650\"\n",
       "            src=\"http://127.0.0.1:8061/\"\n",
       "            frameborder=\"0\"\n",
       "            allowfullscreen\n",
       "        ></iframe>\n",
       "        "
      ],
      "text/plain": [
       "<IPython.lib.display.IFrame at 0x7f0aa5cdb8d0>"
      ]
     },
     "metadata": {},
     "output_type": "display_data"
    }
   ],
   "source": [
    "rowley_t43 = plot_interactive(['./FF_1.2.1/OpenFF Rowley Biaryl v1.0.oeb'], t_id='t43')"
   ]
  },
  {
   "cell_type": "code",
   "execution_count": 5,
   "metadata": {},
   "outputs": [
    {
     "name": "stdout",
     "output_type": "stream",
     "text": [
      "tid:  t43 r_value:  0.82272786065585 slope:  516.1768094538851 intercept:  -493.1300638906191\n"
     ]
    },
    {
     "data": {
      "text/html": [
       "\n",
       "        <iframe\n",
       "            width=\"100%\"\n",
       "            height=\"650\"\n",
       "            src=\"http://127.0.0.1:8061/\"\n",
       "            frameborder=\"0\"\n",
       "            allowfullscreen\n",
       "        ></iframe>\n",
       "        "
      ],
      "text/plain": [
       "<IPython.lib.display.IFrame at 0x7f0af8a5cc50>"
      ]
     },
     "metadata": {},
     "output_type": "display_data"
    }
   ],
   "source": [
    "TD_working_oeb = ['./FF_1.2.1/'+x+'.oeb' for x in TD_datasets]\n",
    "all_t43 = plot_interactive(TD_working_oeb, t_id='t43')"
   ]
  },
  {
   "cell_type": "code",
   "execution_count": 6,
   "metadata": {},
   "outputs": [
    {
     "name": "stdout",
     "output_type": "stream",
     "text": [
      "tid:  TIG0 r_value:  -0.7929672345941876 slope:  -32.53391477856991 intercept:  188.29954433505935\n"
     ]
    },
    {
     "data": {
      "text/html": [
       "\n",
       "        <iframe\n",
       "            width=\"100%\"\n",
       "            height=\"650\"\n",
       "            src=\"http://127.0.0.1:8061/\"\n",
       "            frameborder=\"0\"\n",
       "            allowfullscreen\n",
       "        ></iframe>\n",
       "        "
      ],
      "text/plain": [
       "<IPython.lib.display.IFrame at 0x7f0af87c4690>"
      ]
     },
     "metadata": {},
     "output_type": "display_data"
    }
   ],
   "source": [
    "tig_ids = ['TIG0'] #, TIG1', 'TIG2', 'TIG3', 'TIG4', 'TIG5', 'TIG6', 'TIG7', 'TIG8']\n",
    "TD_working_oeb = ['./FF_1.3.0-tig/'+x+'.oeb' for x in TD_datasets]\n",
    "folder_name = './FF_1.3.0-tig/'\n",
    "for iid in tig_ids:\n",
    "    tmp = plot_interactive(TD_working_oeb, t_id=iid)\n",
    "    tmp.write_image(folder_name+\"fig_\"+str(iid)+\".pdf\")"
   ]
  },
  {
   "cell_type": "code",
   "execution_count": null,
   "metadata": {},
   "outputs": [],
   "source": []
  }
 ],
 "metadata": {
  "kernelspec": {
   "display_name": "Python 3",
   "language": "python",
   "name": "python3"
  },
  "language_info": {
   "codemirror_mode": {
    "name": "ipython",
    "version": 3
   },
   "file_extension": ".py",
   "mimetype": "text/x-python",
   "name": "python",
   "nbconvert_exporter": "python",
   "pygments_lexer": "ipython3",
   "version": "3.7.8"
  }
 },
 "nbformat": 4,
 "nbformat_minor": 4
}
