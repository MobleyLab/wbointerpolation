{
 "cells": [
  {
   "cell_type": "code",
   "execution_count": 2,
   "metadata": {
    "scrolled": false
   },
   "outputs": [
    {
     "ename": "ModuleNotFoundError",
     "evalue": "No module named 'qcportal'",
     "output_type": "error",
     "traceback": [
      "\u001b[0;31m---------------------------------------------------------------------------\u001b[0m",
      "\u001b[0;31mModuleNotFoundError\u001b[0m                       Traceback (most recent call last)",
      "\u001b[0;32m<ipython-input-2-9362b2480f2a>\u001b[0m in \u001b[0;36m<module>\u001b[0;34m()\u001b[0m\n\u001b[0;32m----> 1\u001b[0;31m \u001b[0;32mimport\u001b[0m \u001b[0mqcportal\u001b[0m \u001b[0;32mas\u001b[0m \u001b[0mptl\u001b[0m\u001b[0;34m\u001b[0m\u001b[0;34m\u001b[0m\u001b[0m\n\u001b[0m\u001b[1;32m      2\u001b[0m \u001b[0;32mfrom\u001b[0m \u001b[0mopeneye\u001b[0m \u001b[0;32mimport\u001b[0m \u001b[0moechem\u001b[0m\u001b[0;34m\u001b[0m\u001b[0;34m\u001b[0m\u001b[0m\n\u001b[1;32m      3\u001b[0m \u001b[0;32mfrom\u001b[0m \u001b[0mopenforcefield\u001b[0m\u001b[0;34m.\u001b[0m\u001b[0mtopology\u001b[0m \u001b[0;32mimport\u001b[0m \u001b[0mMolecule\u001b[0m\u001b[0;34m,\u001b[0m \u001b[0mTopology\u001b[0m\u001b[0;34m\u001b[0m\u001b[0;34m\u001b[0m\u001b[0m\n\u001b[1;32m      4\u001b[0m \u001b[0;32mfrom\u001b[0m \u001b[0mopenforcefield\u001b[0m\u001b[0;34m.\u001b[0m\u001b[0mtyping\u001b[0m\u001b[0;34m.\u001b[0m\u001b[0mengines\u001b[0m\u001b[0;34m.\u001b[0m\u001b[0msmirnoff\u001b[0m \u001b[0;32mimport\u001b[0m \u001b[0mForceField\u001b[0m\u001b[0;34m\u001b[0m\u001b[0;34m\u001b[0m\u001b[0m\n\u001b[1;32m      5\u001b[0m \u001b[0;32mimport\u001b[0m \u001b[0mcmiles\u001b[0m\u001b[0;34m\u001b[0m\u001b[0;34m\u001b[0m\u001b[0m\n",
      "\u001b[0;31mModuleNotFoundError\u001b[0m: No module named 'qcportal'"
     ]
    }
   ],
   "source": [
    "import qcportal as ptl\n",
    "from openeye import oechem\n",
    "from openforcefield.topology import Molecule, Topology\n",
    "from openforcefield.typing.engines.smirnoff import ForceField\n",
    "import cmiles\n",
    "import time\n",
    "import collections\n",
    "\n",
    "client = ptl.FractalClient()\n",
    "torsion_datasets = client.list_collections(\"TorsionDriveDataset\")\n",
    "# datasets = []\n",
    "# for i in range(len(torsion_datasets)):\n",
    "#     datasets.append(torsion_datasets.index[i][1])\n",
    "datasets = ['OpenFF Group1 Torsions']"
   ]
  },
  {
   "cell_type": "code",
   "execution_count": 15,
   "metadata": {},
   "outputs": [],
   "source": [
    "def get_coverage_report(datasets, tid):\n",
    "    for dataset_name in datasets:\n",
    "        count = 0\n",
    "        ds = client.get_collection(\"TorsionDriveDataset\", dataset_name)\n",
    "        ds.status(\"default\", status=\"COMPLETE\")\n",
    "        \n",
    "        params = []\n",
    "        for index in ds.df.index:\n",
    "            # get the dihedral indices\n",
    "            dihedral_indices = ds.df.loc[index].default.keywords.dihedrals[0]\n",
    "            # build the molecule from the mapped smiles \n",
    "            molecule = Molecule.from_qcschema(ds.get_entry(index))\n",
    "            topology = Topology.from_molecules([molecule])\n",
    "\n",
    "            # Let's label using the Parsley force field\n",
    "            forcefield = ForceField('/Users/jessica/Documents/Grad_research/WBO_Torsions_ChayaPaper/release_1.3.0_2/fb-fit/fb-fit0/forcefield/test.offxml')\n",
    "\n",
    "            # Run the molecule labeling\n",
    "            molecule_force_list = forcefield.label_molecules(topology)\n",
    "\n",
    "            # Print out a formatted description of the torsion parameters applied to this molecule\n",
    "            for mol_idx, mol_forces in enumerate(molecule_force_list):\n",
    "                for force_tag, force_dict in mol_forces.items():\n",
    "                    if force_tag == 'ProperTorsions':\n",
    "                        for (atom_indices, parameter) in force_dict.items():\n",
    "                            if(parameter.id == tid):\n",
    "                                if(atom_indices == dihedral_indices):\n",
    "                                    count += 1\n",
    "                                    params.append(parameter.id)\n",
    "                                    print(index)\n",
    "                                \n",
    "        counter = collections.Counter(params)\n",
    "        print(dataset_name, counter)\n",
    "        print(\" \")\n",
    "    return counter"
   ]
  },
  {
   "cell_type": "code",
   "execution_count": null,
   "metadata": {},
   "outputs": [
    {
     "name": "stdout",
     "output_type": "stream",
     "text": [
      "c1c[n:1][c:2](nc1)[c:3]2[n:4]cccn2\n",
      "c1c[cH:1][c:2](cc1)[c:3]2ccc[nH][c:4]2=O\n",
      "C[c:4]1cccc[c:3]1[c:2]2[cH:1]cccc2\n",
      "c1cc[n:1][c:2](c1)[c:3]2cccc[n:4]2\n",
      "c1c[cH:1][c:2](cc1)[c:3]2[cH:4]cccc2\n",
      "c1cc[c:1]([c:2](c1)[c:3]2cccc[n:4]2)O\n",
      "c1c[cH:1][c:2](cc1)[c:3]2[n:4]cccn2\n"
     ]
    }
   ],
   "source": [
    "torsion_coverage = get_coverage_report(datasets, 'TIG0')"
   ]
  },
  {
   "cell_type": "code",
   "execution_count": null,
   "metadata": {},
   "outputs": [],
   "source": []
  }
 ],
 "metadata": {
  "kernelspec": {
   "display_name": "Python 3",
   "language": "python",
   "name": "python3"
  },
  "language_info": {
   "codemirror_mode": {
    "name": "ipython",
    "version": 3
   },
   "file_extension": ".py",
   "mimetype": "text/x-python",
   "name": "python",
   "nbconvert_exporter": "python",
   "pygments_lexer": "ipython3",
   "version": "3.7.8"
  }
 },
 "nbformat": 4,
 "nbformat_minor": 4
}
