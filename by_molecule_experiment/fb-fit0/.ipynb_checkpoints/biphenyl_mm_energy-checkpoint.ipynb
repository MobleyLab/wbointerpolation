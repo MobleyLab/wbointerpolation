{
 "cells": [
  {
   "cell_type": "markdown",
   "metadata": {},
   "source": [
    "# Biphenyl MM Energies"
   ]
  },
  {
   "cell_type": "markdown",
   "metadata": {},
   "source": [
    "Adapted from: https://github.com/choderalab/fragmenter_data/blob/master/wbo-manuscript-figures/biphenyl_example/biphenyl_mm_energy.ipynb"
   ]
  },
  {
   "cell_type": "code",
   "execution_count": 1,
   "metadata": {},
   "outputs": [
    {
     "data": {
      "text/html": [
       "<style>.container { width:100% !important; }</style>"
      ],
      "text/plain": [
       "<IPython.core.display.HTML object>"
      ]
     },
     "metadata": {},
     "output_type": "display_data"
    }
   ],
   "source": [
    "from IPython.core.display import display, HTML\n",
    "display(HTML(\"<style>.container { width:100% !important; }</style>\"))"
   ]
  },
  {
   "cell_type": "code",
   "execution_count": 2,
   "metadata": {},
   "outputs": [
    {
     "data": {
      "application/vnd.jupyter.widget-view+json": {
       "model_id": "68888f1db2c94fb2a502c57fe75a98e1",
       "version_major": 2,
       "version_minor": 0
      },
      "text/plain": []
     },
     "metadata": {},
     "output_type": "display_data"
    }
   ],
   "source": [
    "%matplotlib inline\n",
    "\n",
    "from functools import partial\n",
    "\n",
    "import numpy as np\n",
    "from scipy.optimize import minimize\n",
    "import matplotlib.pyplot as plt\n",
    "\n",
    "from openforcefield.topology import Molecule, Topology\n",
    "from openforcefield.typing.engines.smirnoff import ForceField\n",
    "from openeye import oechem, oedepict\n",
    "\n",
    "from simtk.openmm import app\n",
    "from simtk import openmm as mm\n",
    "from simtk import unit\n",
    "from simtk import openmm, unit\n",
    "\n",
    "from fragmenter import torsions, chemi\n",
    "\n",
    "from autograd import grad\n",
    "from autograd import numpy as np"
   ]
  },
  {
   "cell_type": "markdown",
   "metadata": {},
   "source": [
    "## Function definitions"
   ]
  },
  {
   "cell_type": "code",
   "execution_count": 3,
   "metadata": {},
   "outputs": [],
   "source": [
    "# From Josh - constrained minimzation \n",
    "\n",
    "def compute_dihedral(xyz, indices):\n",
    "    \"\"\"Copied from mdtraj, except without calls to a non-python distance library,\n",
    "    and assuming we dont have to deal with periodic stuff\"\"\"\n",
    "    \n",
    "    a,b,c,d = indices\n",
    "    b1 = xyz[b] - xyz[a]\n",
    "    b2 = xyz[c] - xyz[b]\n",
    "    b3 = xyz[d] - xyz[c]\n",
    "    \n",
    "    c1 = np.cross(b2, b3) # bc x cd\n",
    "    c2 = np.cross(b1, b2) # ab x bc\n",
    "\n",
    "    p1 = np.sum(b1 * c1)\n",
    "    p1 *= np.sum(b2 * b2) ** 0.5\n",
    "    p2 = np.sum(c1 * c2)\n",
    "\n",
    "    return np.arctan2(p1, p2)\n",
    "\n",
    "def unflatten(flat_xyz):\n",
    "    N = int(len(flat_xyz) / 3)\n",
    "    return np.reshape(flat_xyz, (N, 3))\n",
    "\n",
    "def set_positions(xyz, simulation):\n",
    "    simulation.context.setPositions(xyz)\n",
    "        \n",
    "def get_energy(xyz, simulation):\n",
    "    set_positions(xyz, simulation)\n",
    "    U = simulation.context.getState(getEnergy=True).getPotentialEnergy()\n",
    "    return U/U.unit\n",
    "\n",
    "def get_forces(xyz, simulation):\n",
    "    set_positions(xyz, simulation)\n",
    "    F =  simulation.context.getState(getForces=True).getForces(asNumpy=True)\n",
    "    return F/F.unit\n",
    "\n",
    "def fxn_to_minimize(flat_xyz, simulation):\n",
    "    return get_energy(unflatten(flat_xyz), simulation)\n",
    "\n",
    "def jacobian_of_fxn(flat_xyz, simulation):\n",
    "    return - get_forces(unflatten(flat_xyz), simulation)\n",
    "\n",
    "\n",
    "def dihedral_constraint(flat_xyz, torsion_indices, target_dihedral=0.0):\n",
    "    \"\"\"equality constraint: want the output of this function to be 0\"\"\"\n",
    "    xyz = unflatten(flat_xyz)\n",
    "    return compute_dihedral(xyz, torsion_indices) - target_dihedral\n",
    "\n",
    "def form_eq_constraint(torsion_indices, target_dihedral):\n",
    "    \"\"\"adapted from scipy documentation\n",
    "    https://docs.scipy.org/doc/scipy/reference/tutorial/optimize.html#sequential-least-squares-programming-slsqp-algorithm-method-slsqp\n",
    "    \"\"\"\n",
    "    \n",
    "    fun = partial(dihedral_constraint, torsion_indices=torsion_indices, target_dihedral=target_dihedral)\n",
    "\n",
    "    eq_cons = {'type': 'eq',\n",
    "               'fun' : fun,\n",
    "               'jac' : grad(fun)}\n",
    "    return eq_cons"
   ]
  },
  {
   "cell_type": "markdown",
   "metadata": {},
   "source": [
    "## Molecule generation"
   ]
  },
  {
   "cell_type": "code",
   "execution_count": 4,
   "metadata": {},
   "outputs": [],
   "source": [
    "# Create openeye molecules and add conformers with torsion angle at 15 degree intervals\n",
    "smiles = ['c1cc(ccc1c2ccncc2)O', 'c1cc(ccc1c2cc[nH+]cc2)O', 'c1cc(ccc1c2ccncc2)[O-]', 'c1cc(ccc1c2cc[nH+]cc2)[O-]']\n",
    "names = ['neutral', 'cation', 'anion', 'zwitterion']"
   ]
  },
  {
   "cell_type": "code",
   "execution_count": 5,
   "metadata": {},
   "outputs": [],
   "source": [
    "# Create openeye molecules\n",
    "oemols = [chemi.smiles_to_oemol(sm, add_atom_map=True) for sm in smiles]\n",
    "for i, mol in enumerate(oemols):\n",
    "    mol.SetTitle(names[i])\n",
    "    \n",
    "conf_mols = []\n",
    "dihedrals = []\n",
    "# Find torsion to constrain\n",
    "for mol in oemols:\n",
    "    for bond in mol.GetBonds():\n",
    "        if bond.IsRotor():\n",
    "            rot_bond = bond\n",
    "            break\n",
    "    bond_map = (rot_bond.GetBgn().GetMapIdx(), rot_bond.GetEnd().GetMapIdx())\n",
    "    dih = torsions.find_torsion_around_bond(molecule=mol, bond=bond_map)\n",
    "    conformers = chemi.generate_grid_conformers(mol, dihedrals=[dih], intervals=[15])\n",
    "    conf_mols.append(conformers)\n",
    "    dihedrals.append(dih)"
   ]
  },
  {
   "cell_type": "code",
   "execution_count": 6,
   "metadata": {},
   "outputs": [
    {
     "data": {
      "text/plain": [
       "[[0, 8, 9, 4], [0, 8, 9, 4], [0, 8, 9, 4], [0, 8, 9, 4]]"
      ]
     },
     "execution_count": 6,
     "metadata": {},
     "output_type": "execute_result"
    }
   ],
   "source": [
    "dihedrals"
   ]
  },
  {
   "cell_type": "code",
   "execution_count": 7,
   "metadata": {},
   "outputs": [
    {
     "data": {
      "text/plain": [
       "[Molecule with name 'neutral' and SMILES '[H]c1c(c(c(c(c1c2c(c(nc(c2[H])[H])[H])[H])[H])[H])O[H])[H]',\n",
       " Molecule with name 'cation' and SMILES '[H]c1c(c(c(c(c1c2c(c([n+](c(c2[H])[H])[H])[H])[H])[H])[H])O[H])[H]',\n",
       " Molecule with name 'anion' and SMILES '[H]c1c(c(c(c(c1c2c(c(nc(c2[H])[H])[H])[H])[H])[H])[O-])[H]',\n",
       " Molecule with name 'zwitterion' and SMILES '[H]c1c(c(c(c(c1c2c(c([n+](c(c2[H])[H])[H])[H])[H])[H])[H])[O-])[H]']"
      ]
     },
     "execution_count": 7,
     "metadata": {},
     "output_type": "execute_result"
    }
   ],
   "source": [
    "off_molecules = [Molecule.from_openeye(mol) for mol in conf_mols]\n",
    "off_molecules"
   ]
  },
  {
   "cell_type": "markdown",
   "metadata": {},
   "source": [
    "## Testing"
   ]
  },
  {
   "cell_type": "code",
   "execution_count": 8,
   "metadata": {},
   "outputs": [],
   "source": [
    "topologies = [Topology.from_molecules(mol) for mol in off_molecules]\n",
    "forcefield = ForceField('openff-1.0.0.offxml')"
   ]
  },
  {
   "cell_type": "code",
   "execution_count": 9,
   "metadata": {},
   "outputs": [
    {
     "name": "stdout",
     "output_type": "stream",
     "text": [
      "\n",
      "\n",
      "Molecule with name 'neutral' and SMILES '[H]c1c(c(c(c(c1c2c(c(nc(c2[H])[H])[H])[H])[H])[H])O[H])[H]'\n",
      "Forces for molecule 0\n",
      "\n",
      "ProperTorsions:\n",
      "atoms:   0  8  9  4  parameter_id: t43  smirks [*:1]~[#6X3:2]-[#6X3:3]~[*:4]\n",
      "\n",
      "\n",
      "Molecule with name 'cation' and SMILES '[H]c1c(c(c(c(c1c2c(c([n+](c(c2[H])[H])[H])[H])[H])[H])[H])O[H])[H]'\n",
      "Forces for molecule 0\n",
      "\n",
      "ProperTorsions:\n",
      "atoms:   0  8  9  4  parameter_id: t43  smirks [*:1]~[#6X3:2]-[#6X3:3]~[*:4]\n",
      "\n",
      "\n",
      "Molecule with name 'anion' and SMILES '[H]c1c(c(c(c(c1c2c(c(nc(c2[H])[H])[H])[H])[H])[H])[O-])[H]'\n",
      "Forces for molecule 0\n",
      "\n",
      "ProperTorsions:\n",
      "atoms:   0  8  9  4  parameter_id: t43  smirks [*:1]~[#6X3:2]-[#6X3:3]~[*:4]\n",
      "\n",
      "\n",
      "Molecule with name 'zwitterion' and SMILES '[H]c1c(c(c(c(c1c2c(c([n+](c(c2[H])[H])[H])[H])[H])[H])[H])[O-])[H]'\n",
      "Forces for molecule 0\n",
      "\n",
      "ProperTorsions:\n",
      "atoms:   0  8  9  4  parameter_id: t43  smirks [*:1]~[#6X3:2]-[#6X3:3]~[*:4]\n"
     ]
    }
   ],
   "source": [
    "for i, top in enumerate(topologies):\n",
    "    print('\\n')\n",
    "    print(off_molecules[i])\n",
    "    molecule_force_list = forcefield.label_molecules(top)\n",
    "    for mol_idx, mol_forces in enumerate(molecule_force_list):\n",
    "        print(f'Forces for molecule {mol_idx}')\n",
    "        for force_tag, force_dict in mol_forces.items():\n",
    "            if force_tag != 'ProperTorsions':\n",
    "                continue\n",
    "            print(f\"\\n{force_tag}:\")\n",
    "            for (atom_indices, parameter) in force_dict.items():\n",
    "                if atom_indices == tuple(dih):\n",
    "                    atomstr=''\n",
    "                    for idx in atom_indices:\n",
    "                        atomstr += '%3s' % idx\n",
    "                    print(\"atoms: %s  parameter_id: %s  smirks %s\" % (atomstr, parameter.id, parameter.smirks) )\n"
   ]
  },
  {
   "cell_type": "code",
   "execution_count": 10,
   "metadata": {},
   "outputs": [],
   "source": [
    "# Create OMM systems\n",
    "\n",
    "#integrator = mm.VerletIntegrator(1*unit.femtosecond)\n",
    "platform = mm.Platform.getPlatformByName(\"Reference\")\n",
    "\n",
    "systems = [forcefield.create_openmm_system(top) for top in topologies]\n",
    "simulations = [openmm.app.Simulation(topologies[i], systems[i], mm.VerletIntegrator(1*unit.femtosecond)) for i in range(4)]"
   ]
  },
  {
   "cell_type": "code",
   "execution_count": 11,
   "metadata": {},
   "outputs": [],
   "source": [
    "all_energies = []\n",
    "all_angles = []\n",
    "for i, mol in enumerate(off_molecules):\n",
    "    energies = []\n",
    "    angles = []\n",
    "    for j in range(24):\n",
    "        simulation = simulations[i]\n",
    "        angles.append(torsions.measure_dihedral_angle(coords=mol.conformers[j]._value, dihedral=dih))\n",
    "        simulation.context.setPositions(mol.conformers[j])\n",
    "        state = simulation.context.getState(getEnergy=True)\n",
    "        energy = state.getPotentialEnergy()\n",
    "        energies.append(energy._value)\n",
    "    energies = np.asanyarray(energies) - min(energies)\n",
    "    all_energies.append(energies)\n",
    "    all_angles.append(angles)"
   ]
  },
  {
   "cell_type": "code",
   "execution_count": 12,
   "metadata": {},
   "outputs": [
    {
     "data": {
      "image/png": "[encoded data removed]",
      "text/plain": [
       "<Figure size 432x288 with 1 Axes>"
      ]
     },
     "metadata": {
      "needs_background": "light"
     },
     "output_type": "display_data"
    }
   ],
   "source": [
    "colors = chemi._KELLYS_COLORS\n",
    "for i in range(4):\n",
    "    plt.plot(all_angles[i][12:] + all_angles[i][:12], np.concatenate((all_energies[i][12:], all_energies[i][:12])), color=colors[i])\n",
    "    plt.plot(all_angles[i][12:] + all_angles[i][:12], np.concatenate((all_energies[i][12:], all_energies[i][:12])), '.', color=colors[i])\n",
    "plt.xlabel('Torsion angles (degree)')\n",
    "plt.ylabel('Relative energy (kJ/mol)')\n",
    "plt.savefig('biphenyl_mm_torsion_scan.pdf', bbox_inches='tight')"
   ]
  },
  {
   "cell_type": "code",
   "execution_count": 13,
   "metadata": {},
   "outputs": [],
   "source": [
    "# Get a system\n",
    "integrator = mm.VerletIntegrator(1*unit.femtosecond)\n",
    "platform = mm.Platform.getPlatformByName(\"Reference\")\n",
    "\n",
    "simulation = simulations[0]\n",
    "xyz = off_molecules[0].conformers[0].in_units_of(unit.nanometer)\n",
    "simulation.context.setPositions(xyz)\n",
    "flat_xyz = (xyz / unit.nanometer).flatten()"
   ]
  },
  {
   "cell_type": "code",
   "execution_count": 14,
   "metadata": {},
   "outputs": [
    {
     "data": {
      "text/plain": [
       "(387.15155029296875,\n",
       " array([[  512.05950928,  -267.55859375,  -463.58807373],\n",
       "        [  627.47070312,  -336.04086304,  -258.81332397],\n",
       "        [ -274.18374634,   151.41256714,   -53.90879822],\n",
       "        [  -55.53871918,    24.17018318,   216.37582397],\n",
       "        [ -774.40844727,   501.77178955,  -255.8913269 ],\n",
       "        [ -272.22390747,    56.24277878,   910.92425537],\n",
       "        [-1039.71337891,   538.46478271,   678.17028809],\n",
       "        [-1057.34436035,   570.0526123 ,   631.75488281],\n",
       "        [ -352.51321411,   189.51737976,   217.09680176],\n",
       "        [  666.59411621,  -359.22131348,  -419.15808105],\n",
       "        [  408.62506104,  -219.37353516,  -256.40472412],\n",
       "        [ 1291.38452148,  -682.84436035,  -810.90246582],\n",
       "        [  120.70637512,   -62.97424316,   -73.27740479],\n",
       "        [ 1100.31445312,  -430.5269165 ,  -592.0189209 ],\n",
       "        [  937.62695312,  -654.86444092,  -674.35327148],\n",
       "        [   36.8917923 ,   -16.82372665,   -79.7412262 ],\n",
       "        [  -21.63752747,    11.07032013,    26.85806084],\n",
       "        [-1132.01477051,   448.12506104,   657.15362549],\n",
       "        [-1023.93225098,   700.70751953,   689.35290527],\n",
       "        [  210.4725647 ,  -126.32509613,    25.98794937],\n",
       "        [  103.31101227,   -38.00965118,  -220.44770813],\n",
       "        [  -11.94656372,     3.02799988,   104.83036804]]))"
      ]
     },
     "execution_count": 14,
     "metadata": {},
     "output_type": "execute_result"
    }
   ],
   "source": [
    "fxn_to_minimize(flat_xyz, simulation), jacobian_of_fxn(flat_xyz, simulation)"
   ]
  },
  {
   "cell_type": "code",
   "execution_count": 15,
   "metadata": {},
   "outputs": [
    {
     "data": {
      "text/plain": [
       "array([ -3.9966948 ,  -7.24618613,  -0.23349414,   0.        ,\n",
       "         0.        ,   0.        ,   0.        ,   0.        ,\n",
       "         0.        ,   0.        ,   0.        ,   0.        ,\n",
       "         4.29775471,   7.0672432 ,   0.8681694 ,   0.        ,\n",
       "         0.        ,   0.        ,   0.        ,   0.        ,\n",
       "         0.        ,   0.        ,   0.        ,   0.        ,\n",
       "         7.99896673,  14.15260393,   0.76520708,  -8.30002664,\n",
       "       -13.973661  ,  -1.39988234,   0.        ,   0.        ,\n",
       "         0.        ,   0.        ,   0.        ,   0.        ,\n",
       "         0.        ,   0.        ,   0.        ,   0.        ,\n",
       "         0.        ,   0.        ,   0.        ,   0.        ,\n",
       "         0.        ,   0.        ,   0.        ,   0.        ,\n",
       "         0.        ,   0.        ,   0.        ,   0.        ,\n",
       "         0.        ,   0.        ,   0.        ,   0.        ,\n",
       "         0.        ,   0.        ,   0.        ,   0.        ,\n",
       "         0.        ,   0.        ,   0.        ,   0.        ,\n",
       "         0.        ,   0.        ])"
      ]
     },
     "execution_count": 15,
     "metadata": {},
     "output_type": "execute_result"
    }
   ],
   "source": [
    "target_dihedral = 0\n",
    "torsion_indices = dih\n",
    "eq_cons = form_eq_constraint(torsion_indices, target_dihedral)\n",
    "eq_cons['jac'](flat_xyz)"
   ]
  },
  {
   "cell_type": "code",
   "execution_count": 16,
   "metadata": {},
   "outputs": [
    {
     "data": {
      "text/plain": [
       "{'type': 'eq',\n",
       " 'fun': functools.partial(<function dihedral_constraint at 0x7f973713c440>, torsion_indices=[0, 8, 9, 4], target_dihedral=0),\n",
       " 'jac': <function autograd.wrap_util.unary_to_nary.<locals>.nary_operator.<locals>.nary_f(*args, **kwargs)>}"
      ]
     },
     "execution_count": 16,
     "metadata": {},
     "output_type": "execute_result"
    }
   ],
   "source": [
    "eq_cons"
   ]
  },
  {
   "cell_type": "code",
   "execution_count": 17,
   "metadata": {},
   "outputs": [
    {
     "name": "stdout",
     "output_type": "stream",
     "text": [
      "Minimize a scalar function of one or more variables using Sequential\n",
      "Least SQuares Programming (SLSQP).\n",
      "\n",
      "Options\n",
      "-------\n",
      "ftol : float\n",
      "    Precision goal for the value of f in the stopping criterion.\n",
      "eps : float\n",
      "    Step size used for numerical approximation of the Jacobian.\n",
      "disp : bool\n",
      "    Set to True to print convergence messages. If False,\n",
      "    `verbosity` is ignored and set to 0.\n",
      "maxiter : int\n",
      "    Maximum number of iterations.\n"
     ]
    }
   ],
   "source": [
    "from scipy.optimize import show_options\n",
    "show_options('minimize', method='SLSQP')"
   ]
  },
  {
   "cell_type": "markdown",
   "metadata": {},
   "source": [
    "## Production Run"
   ]
  },
  {
   "cell_type": "code",
   "execution_count": 18,
   "metadata": {},
   "outputs": [
    {
     "ename": "ModuleNotFoundError",
     "evalue": "No module named 'dask'",
     "output_type": "error",
     "traceback": [
      "\u001b[0;31m---------------------------------------------------------------------------\u001b[0m",
      "\u001b[0;31mModuleNotFoundError\u001b[0m                       Traceback (most recent call last)",
      "\u001b[0;32m<ipython-input-18-18efeb5c2dff>\u001b[0m in \u001b[0;36m<module>\u001b[0;34m\u001b[0m\n\u001b[1;32m      1\u001b[0m \u001b[0;32mfrom\u001b[0m \u001b[0msimtk\u001b[0m \u001b[0;32mimport\u001b[0m \u001b[0mopenmm\u001b[0m\u001b[0;34m,\u001b[0m \u001b[0munit\u001b[0m\u001b[0;34m\u001b[0m\u001b[0;34m\u001b[0m\u001b[0m\n\u001b[0;32m----> 2\u001b[0;31m \u001b[0;32mfrom\u001b[0m \u001b[0mdask\u001b[0m\u001b[0;34m.\u001b[0m\u001b[0mdelayed\u001b[0m \u001b[0;32mimport\u001b[0m \u001b[0mdelayed\u001b[0m\u001b[0;34m\u001b[0m\u001b[0;34m\u001b[0m\u001b[0m\n\u001b[0m",
      "\u001b[0;31mModuleNotFoundError\u001b[0m: No module named 'dask'"
     ]
    }
   ],
   "source": [
    "from simtk import openmm, unit\n",
    "from dask.delayed import delayed"
   ]
  },
  {
   "cell_type": "code",
   "execution_count": null,
   "metadata": {},
   "outputs": [],
   "source": [
    "forcefield = ForceField('openff-1.0.0.offxml')"
   ]
  },
  {
   "cell_type": "code",
   "execution_count": null,
   "metadata": {},
   "outputs": [],
   "source": [
    "off_molecules"
   ]
  },
  {
   "cell_type": "code",
   "execution_count": null,
   "metadata": {},
   "outputs": [],
   "source": [
    "dihedrals"
   ]
  },
  {
   "cell_type": "code",
   "execution_count": null,
   "metadata": {},
   "outputs": [],
   "source": [
    "def create_openmm_system(offmol, forcefield):\n",
    "    \n",
    "    top = Topology.from_molecules(offmol)\n",
    "    system = forcefield.create_openmm_system(top)\n",
    "    \n",
    "    integrator = mm.VerletIntegrator(1*unit.femtosecond)\n",
    "    platform = mm.Platform.getPlatformByName(\"Reference\")\n",
    "    simulation = openmm.app.Simulation(top, \n",
    "                                       system, \n",
    "                                       integrator=integrator,\n",
    "                                       platform=platform)\n",
    "    return simulation\n",
    "    \n",
    "def optimize_geometry(index, offmol, forcefield, dihedral):\n",
    "    \n",
    "    simulation = create_openmm_system(offmol, forcefield)\n",
    "    xyz = offmol.conformers[index].in_units_of(unit.nanometer)\n",
    "    simulation.context.setPositions(xyz)\n",
    "\n",
    "    angle = torsions.measure_dihedral_angle(coords=xyz._value, dihedral=dihedral)\n",
    "    flat_xyz = (xyz / unit.nanometer).flatten()\n",
    "\n",
    "    target_dihedral = (angle) *np.pi/180\n",
    "    print(angle)\n",
    "    print(target_dihedral)\n",
    "\n",
    "    # jiggle xyz\n",
    "    minimum = get_energy(xyz, simulation)\n",
    "\n",
    "    print('initial_energy: {}'.format(minimum))\n",
    "    for i in range(5):\n",
    "        flat_xyz = flat_xyz + np.random.normal(0, 0.01, flat_xyz.shape)\n",
    "\n",
    "        new_result = minimize(fxn_to_minimize, flat_xyz, simulation, method='SLSQP', jac=jacobian_of_fxn,\n",
    "           constraints=[form_eq_constraint(dihedral, target_dihedral)],\n",
    "                        options={'ftol': 1e-10, 'disp': True, 'maxiter': 8000})\n",
    "\n",
    "        minimum = min(minimum, new_result.fun)\n",
    "\n",
    "        if new_result.fun == minimum:\n",
    "            result = new_result\n",
    "\n",
    "    print('final_energy: {}'.format(result.fun))\n",
    "    return result\n",
    "\n",
    "def run_torsiondrive(offmol, forcefield, dihedral):\n",
    "    results = []\n",
    "    for j in range(24):\n",
    "        result = delayed(optimize_geometry)(j, offmol, forcefield, dihedral)\n",
    "        results.append(result)\n",
    "    return delayed(results).compute(scheduler=\"processes\")"
   ]
  },
  {
   "cell_type": "markdown",
   "metadata": {},
   "source": [
    "### Compute"
   ]
  },
  {
   "cell_type": "code",
   "execution_count": null,
   "metadata": {},
   "outputs": [],
   "source": [
    "%%time\n",
    "prod_energies = []\n",
    "\n",
    "for offmol, dihedral in zip(off_molecules, dihedrals):\n",
    "    print(f\"Processing {offmol} with dihedral indices {dihedral}\")\n",
    "    prod_energies.append(run_torsiondrive(offmol, forcefield, dihedral))"
   ]
  },
  {
   "cell_type": "markdown",
   "metadata": {},
   "source": [
    "## Final Plots"
   ]
  },
  {
   "cell_type": "code",
   "execution_count": null,
   "metadata": {},
   "outputs": [],
   "source": [
    "energies_1 = [i.fun for i in prod_energies[0]]\n",
    "energies_1 = energies_1[12:] + energies_1[:12]\n",
    "energies_2 = [i.fun for i in prod_energies[1]]\n",
    "energies_2 = energies_2[12:] + energies_2[:12]\n",
    "energies_3 = [i.fun for i in prod_energies[2]]\n",
    "energies_3 = energies_3[12:] + energies_3[:12]\n",
    "energies_4 = [i.fun for i in prod_energies[3]]\n",
    "energies_4 = energies_4[12:] + energies_4[:12]"
   ]
  },
  {
   "cell_type": "code",
   "execution_count": null,
   "metadata": {},
   "outputs": [],
   "source": [
    "plt.plot(angles[12:]+angles[:12], np.asarray(energies_1)-min(energies_1), '.', color=colors[0])\n",
    "plt.plot(angles[12:]+angles[:12], np.asarray(energies_1)-min(energies_1), color=colors[0])\n",
    "plt.plot(angles[12:]+angles[:12], np.asarray(energies_2)-min(energies_2), '.', color=colors[1])\n",
    "plt.plot(angles[12:]+angles[:12], np.asarray(energies_2)-min(energies_2), color=colors[1])\n",
    "plt.plot(angles[12:]+angles[:12], np.asarray(energies_3)-min(energies_3), '.', color=colors[2])\n",
    "plt.plot(angles[12:]+angles[:12], np.asarray(energies_3)-min(energies_3), color=colors[2])\n",
    "plt.plot(angles[12:]+angles[:12], np.asarray(energies_4)-min(energies_4), '.', color=colors[3])\n",
    "plt.plot(angles[12:]+angles[:12], np.asarray(energies_4)-min(energies_4), color=colors[3])\n",
    "plt.xticks(fontsize=14)\n",
    "plt.yticks(fontsize=14)\n",
    "plt.xlabel('Torsion angles (degree)', fontsize=14)\n",
    "plt.ylabel('Relative Energy (kJ/mol)', fontsize=14)\n",
    "plt.ylim(0, 110)\n",
    "plt.savefig('biphenyl_mm_min_torsion_scan.pdf', bbox_inches='tight')"
   ]
  },
  {
   "cell_type": "code",
   "execution_count": null,
   "metadata": {},
   "outputs": [],
   "source": []
  }
 ],
 "metadata": {
  "kernelspec": {
   "display_name": "Python 3",
   "language": "python",
   "name": "python3"
  },
  "language_info": {
   "codemirror_mode": {
    "name": "ipython",
    "version": 3
   },
   "file_extension": ".py",
   "mimetype": "text/x-python",
   "name": "python",
   "nbconvert_exporter": "python",
   "pygments_lexer": "ipython3",
   "version": "3.7.6"
  }
 },
 "nbformat": 4,
 "nbformat_minor": 4
}
