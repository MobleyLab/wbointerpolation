{
 "cells": [
  {
   "cell_type": "markdown",
   "id": "several-slovenia",
   "metadata": {},
   "source": [
    "# Bi-aryl molecules\n",
    "To construct a series of biaryl molecules with no ortho-substitutents and the bridge bond torsion is defined by the smarts pattern `\"[#6X3H1:1]~[#6X3:2](~[#6X3H1])-[#6X3:3](~[#6X3H1])~[#6X3H1:4]\"`"
   ]
  },
  {
   "cell_type": "code",
   "execution_count": 1,
   "id": "covered-investigation",
   "metadata": {},
   "outputs": [],
   "source": [
    "# Import the scaffold object which stores the scaffold definition.\n",
    "from constructure.scaffolds import Scaffold\n",
    "\n",
    "# Create the biaryl scaffold.\n",
    "scaffold_with_aryl = Scaffold(\n",
    "    smiles=\"c1cc([R1])ccc1-c2ccc([R2])cc2\",\n",
    "    r_groups={\n",
    "        1: [\"hydrogen\", \"alkyl\", \"aryl\", \"halogen\", \"hetero\", \"acyl\"],\n",
    "        2: [\"hydrogen\", \"alkyl\", \"aryl\", \"halogen\", \"hetero\", \"acyl\"],\n",
    "    },\n",
    ")\n",
    "\n",
    "# Create the biaryl scaffold.\n",
    "scaffold_with_pyridyl = Scaffold(\n",
    "    smiles=\"c1cc([R1])ccc1-c2ccnc([R2])c2\",\n",
    "    r_groups={\n",
    "        1: [\"hydrogen\", \"alkyl\", \"aryl\", \"halogen\", \"hetero\", \"acyl\"],\n",
    "        2: [\"hydrogen\", \"alkyl\", \"aryl\", \"halogen\", \"hetero\", \"acyl\"],\n",
    "    },\n",
    ")\n",
    "\n",
    "# Create the biaryl scaffold.\n",
    "scaffold_with_pyridyl_charged = Scaffold(\n",
    "    smiles=\"c1cc([R1])ccc1-c2cc[n+]c([R2])c2\",\n",
    "    r_groups={\n",
    "        1: [\"hydrogen\", \"alkyl\", \"aryl\", \"halogen\", \"hetero\", \"acyl\"],\n",
    "        2: [\"hydrogen\", \"alkyl\", \"aryl\", \"halogen\", \"hetero\", \"acyl\"],\n",
    "    },\n",
    ")\n",
    "\n",
    "# Create the biaryl scaffold.\n",
    "scaffold_with_pyrrole = Scaffold(\n",
    "    smiles=\"c1cc([R1])ccc1-c2cnc([R2])c2\",\n",
    "    r_groups={\n",
    "        1: [\"hydrogen\", \"alkyl\", \"aryl\", \"halogen\", \"hetero\", \"acyl\"],\n",
    "        2: [\"hydrogen\", \"alkyl\", \"aryl\", \"halogen\", \"hetero\", \"acyl\"],\n",
    "    },\n",
    ")\n",
    "\n",
    "# Create the biaryl scaffold.\n",
    "scaffold_with_pyrimidine = Scaffold(\n",
    "    smiles=\"c1cc([R1])ccc1-c2cnc([R2])nc2\",\n",
    "    r_groups={\n",
    "        1: [\"hydrogen\", \"alkyl\", \"aryl\", \"halogen\", \"hetero\", \"acyl\"],\n",
    "        2: [\"hydrogen\", \"alkyl\", \"aryl\", \"halogen\", \"hetero\", \"acyl\"],\n",
    "    },\n",
    ")\n",
    "\n",
    "# Create the biaryl scaffold.\n",
    "scaffold_with_pyridazine = Scaffold(\n",
    "    smiles=\"c1cc([R1])ccc1-c2cnnc([R2])c2\",\n",
    "    r_groups={\n",
    "        1: [\"hydrogen\", \"alkyl\", \"aryl\", \"halogen\", \"hetero\", \"acyl\"],\n",
    "        2: [\"hydrogen\", \"alkyl\", \"aryl\", \"halogen\", \"hetero\", \"acyl\"],\n",
    "    },\n",
    ")\n",
    "\n",
    "# Create the biaryl scaffold.\n",
    "# scaffold_with_triazine = Scaffold(\n",
    "#     smiles=\"c1cc([R1])ccc1-c2cnn([R2])nc2\",\n",
    "#     r_groups={\n",
    "#         1: [\"hydrogen\", \"alkyl\", \"aryl\", \"halogen\", \"hetero\", \"acyl\"],\n",
    "#         2: [\"hydrogen\", \"alkyl\", \"aryl\", \"halogen\", \"hetero\", \"acyl\"],\n",
    "#     },\n",
    "# )\n",
    "\n",
    "# Create the biaryl scaffold.\n",
    "scaffold_with_furan = Scaffold(\n",
    "    smiles=\"c1cc([R1])ccc1-c2coc([R2])c2\",\n",
    "    r_groups={\n",
    "        1: [\"hydrogen\", \"alkyl\", \"aryl\", \"halogen\", \"hetero\", \"acyl\"],\n",
    "        2: [\"hydrogen\", \"alkyl\", \"aryl\", \"halogen\", \"hetero\", \"acyl\"],\n",
    "    },\n",
    ")\n",
    "\n",
    "# Create the biaryl scaffold.\n",
    "scaffold_with_thiophene = Scaffold(\n",
    "    smiles=\"c1cc([R1])ccc1-c2csc([R2])c2\",\n",
    "    r_groups={\n",
    "        1: [\"hydrogen\", \"alkyl\", \"aryl\", \"halogen\", \"hetero\", \"acyl\"],\n",
    "        2: [\"hydrogen\", \"alkyl\", \"aryl\", \"halogen\", \"hetero\", \"acyl\"],\n",
    "    },\n",
    ")\n",
    "\n",
    "# Create the biaryl scaffold.\n",
    "scaffold_with_benzene_two_subs = Scaffold(\n",
    "    smiles=\"c1c([R1])cc([R2])cc1-c2ccc([R3])cc2\",\n",
    "    r_groups={\n",
    "        1: [\"hydrogen\", \"alkyl\", \"aryl\", \"halogen\", \"hetero\", \"acyl\"],\n",
    "        2: [\"hydrogen\", \"alkyl\", \"aryl\", \"halogen\", \"hetero\", \"acyl\"],\n",
    "        3: [\"hydrogen\", \"alkyl\", \"aryl\", \"halogen\", \"hetero\", \"acyl\"],\n",
    "    },\n",
    ")"
   ]
  },
  {
   "cell_type": "markdown",
   "id": "artistic-defendant",
   "metadata": {},
   "source": [
    "# Using Openeye based constructor"
   ]
  },
  {
   "cell_type": "code",
   "execution_count": 2,
   "id": "recorded-museum",
   "metadata": {},
   "outputs": [],
   "source": [
    "from constructure.constructors import OpenEyeConstructor as Constructor\n",
    "from constructure.substituents import SUBSTITUENTS"
   ]
  },
  {
   "cell_type": "code",
   "execution_count": 3,
   "id": "potential-prototype",
   "metadata": {},
   "outputs": [],
   "source": [
    "#         1: [\"[R][S-]\", \"[R][O-]\", \"[R]N(C)(C)\", \"[R]N\", \"[R][N+]\", \"[R]NN\", \"[R]O\", \"[R]C(C)(C)(C)\", \"[R]C\"],\n",
    "#         2: [\"[R]F\", \"[R]Cl\", \"[R]OC(#N)\", \"[R]C(=O)NC\", \"[R]C(=O)O\", \"[R]C(Cl)(Cl)(Cl)\", \"[R]S(=O)(=O)N\", SUBSTITUENTS['nitro'], \"[R][N+](#N)\"],\n",
    "\n",
    "substituents={\n",
    "        1: [\"[R][S-]\",\n",
    "            \"[R]N(C)(C)\",\n",
    "            \"[R][O-]\",\n",
    "            \"[R]N(C)\",\n",
    "            \"[R]N\",\n",
    "            \"[R]Nc1ccccc1\",\n",
    "            \"[R]O\",\n",
    "            \"[R]NO\",\n",
    "            \"[R]OC\",\n",
    "            \"[R]NC(=O)N\",\n",
    "            \"[R]C(C)(C)(C)\",\n",
    "            \"[R]C\",\n",
    "            \"[R]C=C\",\n",
    "            \"[R]Oc1ccccc1\",\n",
    "            \"[R]c1ccccc1\",\n",
    "            \"[R]SC\",\n",
    "            \"[R]NC(=O)C\",\n",
    "            \"[R]F\",\n",
    "            \"[R]Sc1ccccc1\",\n",
    "            \"[R]N=[N+]=[N-]\",\n",
    "            \"[R]S\",\n",
    "            \"[R]N=C=O\",\n",
    "            \"[R]Cl\",\n",
    "            \"[R]Br\",\n",
    "            \"[R]OC(=O)C\",\n",
    "            \"[R]OC(F)(F)(F)\",\n",
    "            \"[R]OS(=O)(=O)C\",\n",
    "            \"[R]N=C=S\",\n",
    "            \"[R]OC(=O)C(F)(F)(F)\",\n",
    "            \"[R]OC#N\",\n",
    "            \"[R][N+]\",\n",
    "            \"[R][N+](C)(C)(C)\",\n",
    "            \"[R]C#C\",\n",
    "            \"[R]C(Br)(Br)(Br)\",\n",
    "            \"[R]C(=O)N\",\n",
    "            \"[R]CS(=O)(=O)[O-]\",\n",
    "            \"[R]C(=O)N(C)\",\n",
    "            \"[R]C=O\",\n",
    "            \"[R]C(=O)O\",\n",
    "            \"[R]C(=O)OC\",\n",
    "            \"[R]C(=O)C\",\n",
    "            \"[R]C(Cl)(Cl)(Cl)\",\n",
    "            \"[R]C(F)(F)(F)\",\n",
    "            \"[R]N=C\",\n",
    "            \"[R]S-C#N\",\n",
    "            \"[R]C(=O)Cl\",\n",
    "            \"[R]S(=O)(=O)N\",\n",
    "            \"[R]C#N\",\n",
    "            \"[R]N(=O)(=O)\",\n",
    "            \"[R]S(=O)(=O)C(F)(F)(F)\",\n",
    "            \"[R][N+]#N\",\n",
    "           ],\n",
    "        2: [\"[R][S-]\",\n",
    "            \"[R]N(C)(C)\",\n",
    "            \"[R][O-]\",\n",
    "            \"[R]N(C)\",\n",
    "            \"[R]N\",\n",
    "            \"[R]Nc1ccccc1\",\n",
    "            \"[R]O\",\n",
    "            \"[R]NO\",\n",
    "            \"[R]OC\",\n",
    "            \"[R]NC(=O)N\",\n",
    "            \"[R]C(C)(C)(C)\",\n",
    "            \"[R]C\",\n",
    "            \"[R]C=C\",\n",
    "            \"[R]Oc1ccccc1\",\n",
    "            \"[R]c1ccccc1\",\n",
    "            \"[R]SC\",\n",
    "            \"[R]NC(=O)C\",\n",
    "            \"[R]F\",\n",
    "            \"[R]Sc1ccccc1\",\n",
    "            \"[R]N=[N+]=[N-]\",\n",
    "            \"[R]S\",\n",
    "            \"[R]N=C=O\",\n",
    "            \"[R]Cl\",\n",
    "            \"[R]Br\",\n",
    "            \"[R]OC(=O)C\",\n",
    "            \"[R]OC(F)(F)(F)\",\n",
    "            \"[R]OS(=O)(=O)C\",\n",
    "            \"[R]N=C=S\",\n",
    "            \"[R]OC(=O)C(F)(F)(F)\",\n",
    "            \"[R]OC#N\",\n",
    "            \"[R][N+]\",\n",
    "            \"[R][N+](C)(C)(C)\",\n",
    "            \"[R]C#C\",\n",
    "            \"[R]C(Br)(Br)(Br)\",\n",
    "            \"[R]C(=O)N\",\n",
    "            \"[R]CS(=O)(=O)[O-]\",\n",
    "            \"[R]C(=O)N(C)\",\n",
    "            \"[R]C=O\",\n",
    "            \"[R]C(=O)O\",\n",
    "            \"[R]C(=O)OC\",\n",
    "            \"[R]C(=O)C\",\n",
    "            \"[R]C(Cl)(Cl)(Cl)\",\n",
    "            \"[R]C(F)(F)(F)\",\n",
    "            \"[R]N=C\",\n",
    "            \"[R]S-C#N\",\n",
    "            \"[R]C(=O)Cl\",\n",
    "            \"[R]S(=O)(=O)N\",\n",
    "            \"[R]C#N\",\n",
    "            \"[R]N(=O)(=O)\",\n",
    "            \"[R]S(=O)(=O)C(F)(F)(F)\",\n",
    "            \"[R][N+]#N\",\n",
    "           ],\n",
    "    }\n",
    "#1\n",
    "smiles_with_aryl = Constructor.enumerate_combinations(\n",
    "    scaffold_with_aryl,\n",
    "    substituents=substituents,\n",
    "    validate=False,\n",
    "    \n",
    ")\n",
    "\n",
    "#2\n",
    "smiles_with_pyridyl = Constructor.enumerate_combinations(\n",
    "    scaffold_with_pyridyl,\n",
    "    substituents=substituents,\n",
    "    validate=False,\n",
    ")\n",
    "\n",
    "#3\n",
    "smiles_with_pyridyl_charged = Constructor.enumerate_combinations(\n",
    "    scaffold_with_pyridyl_charged,\n",
    "    substituents=substituents,\n",
    "    validate=False,\n",
    ")\n",
    "\n",
    "#4\n",
    "smiles_with_pyrrole = Constructor.enumerate_combinations(\n",
    "    scaffold_with_pyrrole,\n",
    "    substituents=substituents,\n",
    "    validate=False,\n",
    ")\n",
    "\n",
    "#5\n",
    "smiles_with_pyrimidine = Constructor.enumerate_combinations(\n",
    "    scaffold_with_pyrimidine,\n",
    "    substituents=substituents,\n",
    "    validate=False,\n",
    ")\n",
    "\n",
    "#6\n",
    "smiles_with_pyridazine = Constructor.enumerate_combinations(\n",
    "    scaffold_with_pyridazine,\n",
    "    substituents=substituents,\n",
    "    validate=False,\n",
    ")\n",
    "\n",
    "#7\n",
    "smiles_with_furan = Constructor.enumerate_combinations(\n",
    "    scaffold_with_furan,\n",
    "    substituents=substituents,\n",
    "    validate=False,\n",
    ")\n",
    "\n",
    "#8\n",
    "smiles_with_thiophene = Constructor.enumerate_combinations(\n",
    "    scaffold_with_thiophene,\n",
    "    substituents=substituents,\n",
    "    validate=False,\n",
    ")\n",
    "\n",
    "#9\n",
    "# smiles_with_two_subs = Constructor.enumerate_combinations(\n",
    "#     scaffold_with_benzene_two_subs,\n",
    "#     substituents={\n",
    "#         1: [\"[R][S-]\", \"[R][O-]\"],\n",
    "#         2: [\"[R][S-]\", \"[R][O-]\"],\n",
    "#         3: [\"[R]S(=O)(=O)N\", SUBSTITUENTS['nitro'], \"[R][N+](#N)\"],\n",
    "#     }\n",
    "# )"
   ]
  },
  {
   "cell_type": "code",
   "execution_count": 4,
   "id": "manufactured-morrison",
   "metadata": {},
   "outputs": [
    {
     "name": "stdout",
     "output_type": "stream",
     "text": [
      "19533\n"
     ]
    }
   ],
   "source": [
    "smiles =  smiles_with_aryl + smiles_with_pyridyl + smiles_with_pyridyl_charged + smiles_with_pyrrole + \\\n",
    "          smiles_with_pyrimidine + smiles_with_pyridazine + smiles_with_furan + \\\n",
    "          smiles_with_thiophene #+ smiles_with_two_subs\n",
    "print(len(smiles))"
   ]
  },
  {
   "cell_type": "markdown",
   "id": "sharing-operations",
   "metadata": {},
   "source": [
    "# Visualizing"
   ]
  },
  {
   "cell_type": "code",
   "execution_count": 5,
   "id": "external-singer",
   "metadata": {},
   "outputs": [],
   "source": [
    "# OpenEye\n",
    "from constructure.utilities.openeye import smiles_to_image_grid\n",
    "\n",
    "smiles_to_image_grid(smiles, \"biaryl.pdf\", cols=6)\n",
    "\n",
    "with open(\"biaryl.smi\", \"w\") as file:\n",
    "    file.write(\"\\n\".join(sorted(smiles)))"
   ]
  },
  {
   "cell_type": "code",
   "execution_count": 6,
   "id": "packed-alias",
   "metadata": {
    "scrolled": false
   },
   "outputs": [],
   "source": [
    "# from IPython.display import Image\n",
    "# Image(filename='biaryl.pdf') "
   ]
  },
  {
   "cell_type": "code",
   "execution_count": 7,
   "id": "buried-england",
   "metadata": {},
   "outputs": [],
   "source": [
    "def dihedrals_matching_torsion_param(molecule, forcefield, tor_param):\n",
    "    \"\"\"\n",
    "    for a molecule and specific torsion returns matched dihedral indices\n",
    "    Parameters\n",
    "    ----------\n",
    "    molecule: openforcefield molecule object\n",
    "    ff: ForceField offxml file\n",
    "    tor_param: torsion parameter to match\n",
    "\n",
    "    Returns\n",
    "    -------\n",
    "    idx_list: list of dihedrals matched to the torsion parameter\n",
    "    \"\"\"\n",
    "    topology = Topology.from_molecules([molecule])\n",
    "    # Run the molecule labeling\n",
    "    molecule_force_list = forcefield.label_molecules(topology)\n",
    "\n",
    "    idx_list = []\n",
    "    # Print out a formatted description of the parameters applied to this molecule\n",
    "    for mol_idx, mol_forces in enumerate(molecule_force_list):\n",
    "        for force_tag, force_dict in mol_forces.items():\n",
    "            if force_tag == \"ProperTorsions\":\n",
    "                for (atom_indices, parameter) in force_dict.items():\n",
    "                    if (parameter.id == tor_param):\n",
    "                        idx_list.append(atom_indices)\n",
    "    return idx_list\n"
   ]
  },
  {
   "cell_type": "code",
   "execution_count": 8,
   "id": "exterior-treasure",
   "metadata": {},
   "outputs": [],
   "source": [
    "from openff.toolkit.topology import Molecule, Topology\n",
    "from openff.toolkit.typing.engines.smirnoff import ForceField\n",
    "# from openff.toolkit.topology.molecule import OEAroModelOpenEye \n",
    "\n",
    "forcefield = ForceField('./fit12.offxml', allow_cosmetic_attributes=True, aromaticity_model='OEAroModel_MDL')\n",
    "\n",
    "dihedrals_list = []\n",
    "for i in range(len(smiles)):\n",
    "    mol = Molecule.from_smiles(smiles[i], allow_undefined_stereo=True)\n",
    "    dihedrals_list.append(dihedrals_matching_torsion_param(mol, forcefield, 'TIG22'))\n"
   ]
  },
  {
   "cell_type": "code",
   "execution_count": 9,
   "id": "textile-slovak",
   "metadata": {},
   "outputs": [
    {
     "ename": "AssertionError",
     "evalue": "",
     "output_type": "error",
     "traceback": [
      "\u001b[0;31m---------------------------------------------------------------------------\u001b[0m",
      "\u001b[0;31mAssertionError\u001b[0m                            Traceback (most recent call last)",
      "\u001b[0;32m<ipython-input-9-191cdaddd49a>\u001b[0m in \u001b[0;36m<module>\u001b[0;34m\u001b[0m\n\u001b[1;32m      3\u001b[0m \u001b[0;34m\u001b[0m\u001b[0m\n\u001b[1;32m      4\u001b[0m \u001b[0;32mfor\u001b[0m \u001b[0mtup_list\u001b[0m \u001b[0;32min\u001b[0m \u001b[0mdihedrals_list\u001b[0m\u001b[0;34m:\u001b[0m\u001b[0;34m\u001b[0m\u001b[0;34m\u001b[0m\u001b[0m\n\u001b[0;32m----> 5\u001b[0;31m     \u001b[0;32massert\u001b[0m \u001b[0mlen\u001b[0m\u001b[0;34m(\u001b[0m\u001b[0mtup_list\u001b[0m\u001b[0;34m)\u001b[0m \u001b[0;34m==\u001b[0m \u001b[0;36m4\u001b[0m\u001b[0;34m\u001b[0m\u001b[0;34m\u001b[0m\u001b[0m\n\u001b[0m\u001b[1;32m      6\u001b[0m     \u001b[0;32massert\u001b[0m \u001b[0mtup_list\u001b[0m\u001b[0;34m[\u001b[0m\u001b[0;36m0\u001b[0m\u001b[0;34m]\u001b[0m\u001b[0;34m[\u001b[0m\u001b[0;36m1\u001b[0m\u001b[0;34m:\u001b[0m\u001b[0;36m3\u001b[0m\u001b[0;34m]\u001b[0m \u001b[0;34m==\u001b[0m \u001b[0mtup_list\u001b[0m\u001b[0;34m[\u001b[0m\u001b[0;36m1\u001b[0m\u001b[0;34m]\u001b[0m\u001b[0;34m[\u001b[0m\u001b[0;36m1\u001b[0m\u001b[0;34m:\u001b[0m\u001b[0;36m3\u001b[0m\u001b[0;34m]\u001b[0m\u001b[0;34m\u001b[0m\u001b[0;34m\u001b[0m\u001b[0m\n\u001b[1;32m      7\u001b[0m     \u001b[0;32massert\u001b[0m \u001b[0mtup_list\u001b[0m\u001b[0;34m[\u001b[0m\u001b[0;36m0\u001b[0m\u001b[0;34m]\u001b[0m\u001b[0;34m[\u001b[0m\u001b[0;36m1\u001b[0m\u001b[0;34m:\u001b[0m\u001b[0;36m3\u001b[0m\u001b[0;34m]\u001b[0m \u001b[0;34m==\u001b[0m \u001b[0mtup_list\u001b[0m\u001b[0;34m[\u001b[0m\u001b[0;36m2\u001b[0m\u001b[0;34m]\u001b[0m\u001b[0;34m[\u001b[0m\u001b[0;36m1\u001b[0m\u001b[0;34m:\u001b[0m\u001b[0;36m3\u001b[0m\u001b[0;34m]\u001b[0m\u001b[0;34m\u001b[0m\u001b[0;34m\u001b[0m\u001b[0m\n",
      "\u001b[0;31mAssertionError\u001b[0m: "
     ]
    }
   ],
   "source": [
    "# Checking whether there are 4 torsions around the central bond that match the pattern\n",
    "# `[#6X3H1:1]~[#6X3:2](~[#6X3H1])-[#6X3:3](~[#6X3H1])~[#6X3H1:4]`\n",
    "\n",
    "for tup_list in dihedrals_list:\n",
    "    assert len(tup_list) == 4\n",
    "    assert tup_list[0][1:3] == tup_list[1][1:3]\n",
    "    assert tup_list[0][1:3] == tup_list[2][1:3]\n",
    "    assert tup_list[0][1:3] == tup_list[3][1:3]\n",
    "        \n",
    "    "
   ]
  },
  {
   "cell_type": "code",
   "execution_count": 10,
   "id": "unexpected-amplifier",
   "metadata": {
    "scrolled": false
   },
   "outputs": [
    {
     "name": "stdout",
     "output_type": "stream",
     "text": [
      "[H]c1c(c(c(c(c1c2c(c(c(c(c2[H])[H])[S-])[H])[H])[H])[H])[N+]#N)[H] , and WBO is  1.2165984395426042\n"
     ]
    },
    {
     "data": {
      "image/png": "[encoded data removed]",
      "text/plain": [
       "<IPython.core.display.Image object>"
      ]
     },
     "metadata": {},
     "output_type": "display_data"
    },
    {
     "name": "stdout",
     "output_type": "stream",
     "text": [
      "[H]c1c(c(c(c(c1c2c(c(c(c(c2[H])[H])[O-])[H])[H])[H])[H])[N+]#N)[H] , and WBO is  1.3110940825674675\n"
     ]
    },
    {
     "data": {
      "image/png": "[encoded data removed]",
      "text/plain": [
       "<IPython.core.display.Image object>"
      ]
     },
     "metadata": {},
     "output_type": "display_data"
    },
    {
     "name": "stdout",
     "output_type": "stream",
     "text": [
      "[H]c1c(c(c(c(c1c2c(c(nc(c2[H])[N+]#N)[H])[H])[H])[H])[O-])[H] , and WBO is  1.2067354098270695\n"
     ]
    },
    {
     "data": {
      "image/png": "[encoded data removed]",
      "text/plain": [
       "<IPython.core.display.Image object>"
      ]
     },
     "metadata": {},
     "output_type": "display_data"
    },
    {
     "name": "stdout",
     "output_type": "stream",
     "text": [
      "[H]c1c(c(c(c(c1c2c(nc(nc2[H])[N+]#N)[H])[H])[H])[S-])[H] , and WBO is  1.2317564684874327\n"
     ]
    },
    {
     "data": {
      "image/png": "[encoded data removed]",
      "text/plain": [
       "<IPython.core.display.Image object>"
      ]
     },
     "metadata": {},
     "output_type": "display_data"
    },
    {
     "name": "stdout",
     "output_type": "stream",
     "text": [
      "[H]c1c(c(c(c(c1c2c(nc(nc2[H])[N+](C([H])([H])[H])(C([H])([H])[H])C([H])([H])[H])[H])[H])[H])[O-])[H] , and WBO is  1.2099809298213973\n"
     ]
    },
    {
     "data": {
      "image/png": "[encoded data removed]",
      "text/plain": [
       "<IPython.core.display.Image object>"
      ]
     },
     "metadata": {},
     "output_type": "display_data"
    },
    {
     "name": "stdout",
     "output_type": "stream",
     "text": [
      "[H]c1c(c(c(c(c1c2c(nc(nc2[H])[N+]#N)[H])[H])[H])[O-])[H] , and WBO is  1.325991508079482\n"
     ]
    },
    {
     "data": {
      "image/png": "[encoded data removed]",
      "text/plain": [
       "<IPython.core.display.Image object>"
      ]
     },
     "metadata": {},
     "output_type": "display_data"
    },
    {
     "name": "stdout",
     "output_type": "stream",
     "text": [
      "[H]c1c(c(c(c(c1c2c(nc(nc2[H])[O-])[H])[H])[H])[N+]#N)[H] , and WBO is  1.250177278422872\n"
     ]
    },
    {
     "data": {
      "image/png": "[encoded data removed]",
      "text/plain": [
       "<IPython.core.display.Image object>"
      ]
     },
     "metadata": {},
     "output_type": "display_data"
    },
    {
     "name": "stdout",
     "output_type": "stream",
     "text": [
      "[H]c1c(c(c(c(c1c2c(c(nnc2[H])[N+](C([H])([H])[H])(C([H])([H])[H])C([H])([H])[H])[H])[H])[H])[O-])[H] , and WBO is  1.2070323188476682\n"
     ]
    },
    {
     "data": {
      "image/png": "[encoded data removed]",
      "text/plain": [
       "<IPython.core.display.Image object>"
      ]
     },
     "metadata": {},
     "output_type": "display_data"
    },
    {
     "name": "stdout",
     "output_type": "stream",
     "text": [
      "[H]c1c(c(c(c(c1c2c(c(nnc2[H])[N+]#N)[H])[H])[H])[O-])[H] , and WBO is  1.2513622124469903\n"
     ]
    },
    {
     "data": {
      "image/png": "[encoded data removed]",
      "text/plain": [
       "<IPython.core.display.Image object>"
      ]
     },
     "metadata": {},
     "output_type": "display_data"
    }
   ],
   "source": [
    "elf10_wbo = []\n",
    "fails = 0\n",
    "mol_fail = []\n",
    "for i in range(len(smiles)):\n",
    "    mol = Molecule.from_smiles(smiles[i], allow_undefined_stereo=True)\n",
    "    top = Topology.from_molecules([mol])\n",
    "    try:\n",
    "        mol.assign_fractional_bond_orders(bond_order_model=\"am1-wiberg-elf10\")\n",
    "    except:\n",
    "        mol_fail.append(mol.to_smiles())\n",
    "        fails += 1\n",
    "        continue\n",
    "    bond = mol.get_bond_between(dihedrals_list[i][0][1], dihedrals_list[i][0][2])\n",
    "    elf10_wbo.append(bond.fractional_bond_order)\n",
    "    if(bond.fractional_bond_order > 1.2):\n",
    "        print(mol.to_smiles(), \", and WBO is \", bond.fractional_bond_order)\n",
    "        display(mol.visualize(backend='openeye'))"
   ]
  },
  {
   "cell_type": "code",
   "execution_count": 11,
   "id": "confidential-original",
   "metadata": {},
   "outputs": [
    {
     "name": "stdout",
     "output_type": "stream",
     "text": [
      "\n",
      " 13775 out of  19533 \n",
      " Conformer generation failed for  5758\n"
     ]
    }
   ],
   "source": [
    "print(\"\\n\", len(elf10_wbo), \"out of \", len(smiles), '\\n', \"Conformer generation failed for \", fails)"
   ]
  },
  {
   "cell_type": "code",
   "execution_count": 16,
   "id": "manual-symbol",
   "metadata": {},
   "outputs": [],
   "source": [
    "import matplotlib.pyplot as plt"
   ]
  },
  {
   "cell_type": "code",
   "execution_count": 22,
   "id": "composite-newton",
   "metadata": {},
   "outputs": [
    {
     "data": {
      "text/plain": [
       "Text(0, 0.5, 'density')"
      ]
     },
     "execution_count": 22,
     "metadata": {},
     "output_type": "execute_result"
    },
    {
     "data": {
      "image/png": "[encoded data removed]",
      "text/plain": [
       "<Figure size 432x288 with 1 Axes>"
      ]
     },
     "metadata": {
      "needs_background": "light"
     },
     "output_type": "display_data"
    }
   ],
   "source": [
    "plt.figure()\n",
    "plt.yscale(\"log\")\n",
    "plt.hist(elf10_wbo)\n",
    "plt.title(\"Bridging central bond WBOs\")\n",
    "plt.xlabel(\"ELF0 WBO\")\n",
    "plt.ylabel(\"density\")"
   ]
  },
  {
   "cell_type": "markdown",
   "id": "eastern-interstate",
   "metadata": {},
   "source": [
    "# Some troublesome molecules\n"
   ]
  },
  {
   "cell_type": "code",
   "execution_count": 18,
   "id": "joint-benchmark",
   "metadata": {},
   "outputs": [
    {
     "data": {
      "text/plain": [
       "['[H]c1c(c(c(c(c1c2c(c(c(c(c2[H])[H])[S-])[H])[H])[H])[H])[N+])[H]',\n",
       " '[H]c1c(c(c(c(c1c2c(c(c(c(c2[H])[H])N(C([H])([H])[H])C([H])([H])[H])[H])[H])[H])[H])[N+])[H]',\n",
       " '[H]c1c(c(c(c(c1c2c(c(c(c(c2[H])[H])[O-])[H])[H])[H])[H])[N+])[H]',\n",
       " '[H]c1c(c(c(c(c1c2c(c(c(c(c2[H])[H])N([H])C([H])([H])[H])[H])[H])[H])[H])[N+])[H]',\n",
       " '[H]c1c(c(c(c(c1c2c(c(c(c(c2[H])[H])N([H])[H])[H])[H])[H])[H])[N+])[H]',\n",
       " '[H]c1c(c(c(c(c1[H])[H])N([H])c2c(c(c(c(c2[H])[H])c3c(c(c(c(c3[H])[H])[N+])[H])[H])[H])[H])[H])[H]',\n",
       " '[H]c1c(c(c(c(c1c2c(c(c(c(c2[H])[H])O[H])[H])[H])[H])[H])[N+])[H]',\n",
       " '[H]c1c(c(c(c(c1c2c(c(c(c(c2[H])[H])N([H])O[H])[H])[H])[H])[H])[N+])[H]',\n",
       " '[H]c1c(c(c(c(c1c2c(c(c(c(c2[H])[H])OC([H])([H])[H])[H])[H])[H])[H])[N+])[H]',\n",
       " '[H]c1c(c(c(c(c1c2c(c(c(c(c2[H])[H])N([H])C(=O)N([H])[H])[H])[H])[H])[H])[N+])[H]']"
      ]
     },
     "execution_count": 18,
     "metadata": {},
     "output_type": "execute_result"
    }
   ],
   "source": [
    "mol_fail[0:10]"
   ]
  },
  {
   "cell_type": "code",
   "execution_count": 19,
   "id": "blessed-damages",
   "metadata": {},
   "outputs": [
    {
     "data": {
      "image/png": "[encoded data removed]",
      "text/plain": [
       "<rdkit.Chem.rdchem.Mol at 0x7fb693026f40>"
      ]
     },
     "execution_count": 19,
     "metadata": {},
     "output_type": "execute_result"
    }
   ],
   "source": [
    "mol = Molecule.from_smiles(mol_fail[0])\n",
    "mol.visualize()"
   ]
  },
  {
   "cell_type": "code",
   "execution_count": 20,
   "id": "remarkable-athletics",
   "metadata": {},
   "outputs": [
    {
     "ename": "Exception",
     "evalue": "OpenEye Omega conformer generation failed",
     "output_type": "error",
     "traceback": [
      "\u001b[0;31m---------------------------------------------------------------------------\u001b[0m",
      "\u001b[0;31mException\u001b[0m                                 Traceback (most recent call last)",
      "\u001b[0;32m<ipython-input-20-58b389e86bbc>\u001b[0m in \u001b[0;36m<module>\u001b[0;34m\u001b[0m\n\u001b[1;32m      1\u001b[0m \u001b[0;32mfrom\u001b[0m \u001b[0mopenff\u001b[0m\u001b[0;34m.\u001b[0m\u001b[0mtoolkit\u001b[0m\u001b[0;34m.\u001b[0m\u001b[0mutils\u001b[0m\u001b[0;34m.\u001b[0m\u001b[0mtoolkits\u001b[0m \u001b[0;32mimport\u001b[0m \u001b[0mRDKitToolkitWrapper\u001b[0m\u001b[0;34m,\u001b[0m \u001b[0mAmberToolsToolkitWrapper\u001b[0m\u001b[0;34m\u001b[0m\u001b[0;34m\u001b[0m\u001b[0m\n\u001b[0;32m----> 2\u001b[0;31m \u001b[0mmol\u001b[0m\u001b[0;34m.\u001b[0m\u001b[0massign_fractional_bond_orders\u001b[0m\u001b[0;34m(\u001b[0m\u001b[0mbond_order_model\u001b[0m\u001b[0;34m=\u001b[0m\u001b[0;34m'am1-wiberg-elf10'\u001b[0m\u001b[0;34m,\u001b[0m\u001b[0;34m)\u001b[0m\u001b[0;34m\u001b[0m\u001b[0;34m\u001b[0m\u001b[0m\n\u001b[0m",
      "\u001b[0;32m~/anaconda3/envs/fb_dev_env/lib/python3.8/site-packages/openff/toolkit/topology/molecule.py\u001b[0m in \u001b[0;36massign_fractional_bond_orders\u001b[0;34m(self, bond_order_model, toolkit_registry, use_conformers)\u001b[0m\n\u001b[1;32m   3001\u001b[0m         \"\"\"\n\u001b[1;32m   3002\u001b[0m         \u001b[0;32mif\u001b[0m \u001b[0misinstance\u001b[0m\u001b[0;34m(\u001b[0m\u001b[0mtoolkit_registry\u001b[0m\u001b[0;34m,\u001b[0m \u001b[0mToolkitRegistry\u001b[0m\u001b[0;34m)\u001b[0m\u001b[0;34m:\u001b[0m\u001b[0;34m\u001b[0m\u001b[0;34m\u001b[0m\u001b[0m\n\u001b[0;32m-> 3003\u001b[0;31m             return toolkit_registry.call(\n\u001b[0m\u001b[1;32m   3004\u001b[0m                 \u001b[0;34m\"assign_fractional_bond_orders\"\u001b[0m\u001b[0;34m,\u001b[0m\u001b[0;34m\u001b[0m\u001b[0;34m\u001b[0m\u001b[0m\n\u001b[1;32m   3005\u001b[0m                 \u001b[0mself\u001b[0m\u001b[0;34m,\u001b[0m\u001b[0;34m\u001b[0m\u001b[0;34m\u001b[0m\u001b[0m\n",
      "\u001b[0;32m~/anaconda3/envs/fb_dev_env/lib/python3.8/site-packages/openff/toolkit/utils/toolkits.py\u001b[0m in \u001b[0;36mcall\u001b[0;34m(self, method_name, raise_exception_types, *args, **kwargs)\u001b[0m\n\u001b[1;32m   5799\u001b[0m                     \u001b[0;32mfor\u001b[0m \u001b[0mexception_type\u001b[0m \u001b[0;32min\u001b[0m \u001b[0mraise_exception_types\u001b[0m\u001b[0;34m:\u001b[0m\u001b[0;34m\u001b[0m\u001b[0;34m\u001b[0m\u001b[0m\n\u001b[1;32m   5800\u001b[0m                         \u001b[0;32mif\u001b[0m \u001b[0misinstance\u001b[0m\u001b[0;34m(\u001b[0m\u001b[0me\u001b[0m\u001b[0;34m,\u001b[0m \u001b[0mexception_type\u001b[0m\u001b[0;34m)\u001b[0m\u001b[0;34m:\u001b[0m\u001b[0;34m\u001b[0m\u001b[0;34m\u001b[0m\u001b[0m\n\u001b[0;32m-> 5801\u001b[0;31m                             \u001b[0;32mraise\u001b[0m \u001b[0me\u001b[0m\u001b[0;34m\u001b[0m\u001b[0;34m\u001b[0m\u001b[0m\n\u001b[0m\u001b[1;32m   5802\u001b[0m                     \u001b[0merrors\u001b[0m\u001b[0;34m.\u001b[0m\u001b[0mappend\u001b[0m\u001b[0;34m(\u001b[0m\u001b[0;34m(\u001b[0m\u001b[0mtoolkit\u001b[0m\u001b[0;34m,\u001b[0m \u001b[0me\u001b[0m\u001b[0;34m)\u001b[0m\u001b[0;34m)\u001b[0m\u001b[0;34m\u001b[0m\u001b[0;34m\u001b[0m\u001b[0m\n\u001b[1;32m   5803\u001b[0m \u001b[0;34m\u001b[0m\u001b[0m\n",
      "\u001b[0;32m~/anaconda3/envs/fb_dev_env/lib/python3.8/site-packages/openff/toolkit/utils/toolkits.py\u001b[0m in \u001b[0;36mcall\u001b[0;34m(self, method_name, raise_exception_types, *args, **kwargs)\u001b[0m\n\u001b[1;32m   5795\u001b[0m                 \u001b[0mmethod\u001b[0m \u001b[0;34m=\u001b[0m \u001b[0mgetattr\u001b[0m\u001b[0;34m(\u001b[0m\u001b[0mtoolkit\u001b[0m\u001b[0;34m,\u001b[0m \u001b[0mmethod_name\u001b[0m\u001b[0;34m)\u001b[0m\u001b[0;34m\u001b[0m\u001b[0;34m\u001b[0m\u001b[0m\n\u001b[1;32m   5796\u001b[0m                 \u001b[0;32mtry\u001b[0m\u001b[0;34m:\u001b[0m\u001b[0;34m\u001b[0m\u001b[0;34m\u001b[0m\u001b[0m\n\u001b[0;32m-> 5797\u001b[0;31m                     \u001b[0;32mreturn\u001b[0m \u001b[0mmethod\u001b[0m\u001b[0;34m(\u001b[0m\u001b[0;34m*\u001b[0m\u001b[0margs\u001b[0m\u001b[0;34m,\u001b[0m \u001b[0;34m**\u001b[0m\u001b[0mkwargs\u001b[0m\u001b[0;34m)\u001b[0m\u001b[0;34m\u001b[0m\u001b[0;34m\u001b[0m\u001b[0m\n\u001b[0m\u001b[1;32m   5798\u001b[0m                 \u001b[0;32mexcept\u001b[0m \u001b[0mException\u001b[0m \u001b[0;32mas\u001b[0m \u001b[0me\u001b[0m\u001b[0;34m:\u001b[0m\u001b[0;34m\u001b[0m\u001b[0;34m\u001b[0m\u001b[0m\n\u001b[1;32m   5799\u001b[0m                     \u001b[0;32mfor\u001b[0m \u001b[0mexception_type\u001b[0m \u001b[0;32min\u001b[0m \u001b[0mraise_exception_types\u001b[0m\u001b[0;34m:\u001b[0m\u001b[0;34m\u001b[0m\u001b[0;34m\u001b[0m\u001b[0m\n",
      "\u001b[0;32m~/anaconda3/envs/fb_dev_env/lib/python3.8/site-packages/openff/toolkit/utils/toolkits.py\u001b[0m in \u001b[0;36massign_fractional_bond_orders\u001b[0;34m(self, molecule, bond_order_model, use_conformers, _cls)\u001b[0m\n\u001b[1;32m   2487\u001b[0m \u001b[0;34m\u001b[0m\u001b[0m\n\u001b[1;32m   2488\u001b[0m         \u001b[0;32mif\u001b[0m \u001b[0muse_conformers\u001b[0m \u001b[0;32mis\u001b[0m \u001b[0;32mNone\u001b[0m\u001b[0;34m:\u001b[0m\u001b[0;34m\u001b[0m\u001b[0;34m\u001b[0m\u001b[0m\n\u001b[0;32m-> 2489\u001b[0;31m             temp_mol.generate_conformers(\n\u001b[0m\u001b[1;32m   2490\u001b[0m                 \u001b[0mn_conformers\u001b[0m\u001b[0;34m=\u001b[0m\u001b[0;36m1\u001b[0m \u001b[0;32mif\u001b[0m \u001b[0;32mnot\u001b[0m \u001b[0mis_elf_method\u001b[0m \u001b[0;32melse\u001b[0m \u001b[0;36m500\u001b[0m\u001b[0;34m,\u001b[0m\u001b[0;34m\u001b[0m\u001b[0;34m\u001b[0m\u001b[0m\n\u001b[1;32m   2491\u001b[0m                 \u001b[0;31m# 0.05 is the recommended RMS when generating a 'Dense' amount of\u001b[0m\u001b[0;34m\u001b[0m\u001b[0;34m\u001b[0m\u001b[0;34m\u001b[0m\u001b[0m\n",
      "\u001b[0;32m~/anaconda3/envs/fb_dev_env/lib/python3.8/site-packages/openff/toolkit/topology/molecule.py\u001b[0m in \u001b[0;36mgenerate_conformers\u001b[0;34m(self, toolkit_registry, n_conformers, rms_cutoff, clear_existing)\u001b[0m\n\u001b[1;32m   2782\u001b[0m \u001b[0;34m\u001b[0m\u001b[0m\n\u001b[1;32m   2783\u001b[0m         \u001b[0;32mif\u001b[0m \u001b[0misinstance\u001b[0m\u001b[0;34m(\u001b[0m\u001b[0mtoolkit_registry\u001b[0m\u001b[0;34m,\u001b[0m \u001b[0mToolkitRegistry\u001b[0m\u001b[0;34m)\u001b[0m\u001b[0;34m:\u001b[0m\u001b[0;34m\u001b[0m\u001b[0;34m\u001b[0m\u001b[0m\n\u001b[0;32m-> 2784\u001b[0;31m             return toolkit_registry.call(\n\u001b[0m\u001b[1;32m   2785\u001b[0m                 \u001b[0;34m\"generate_conformers\"\u001b[0m\u001b[0;34m,\u001b[0m\u001b[0;34m\u001b[0m\u001b[0;34m\u001b[0m\u001b[0m\n\u001b[1;32m   2786\u001b[0m                 \u001b[0mself\u001b[0m\u001b[0;34m,\u001b[0m\u001b[0;34m\u001b[0m\u001b[0;34m\u001b[0m\u001b[0m\n",
      "\u001b[0;32m~/anaconda3/envs/fb_dev_env/lib/python3.8/site-packages/openff/toolkit/utils/toolkits.py\u001b[0m in \u001b[0;36mcall\u001b[0;34m(self, method_name, raise_exception_types, *args, **kwargs)\u001b[0m\n\u001b[1;32m   5799\u001b[0m                     \u001b[0;32mfor\u001b[0m \u001b[0mexception_type\u001b[0m \u001b[0;32min\u001b[0m \u001b[0mraise_exception_types\u001b[0m\u001b[0;34m:\u001b[0m\u001b[0;34m\u001b[0m\u001b[0;34m\u001b[0m\u001b[0m\n\u001b[1;32m   5800\u001b[0m                         \u001b[0;32mif\u001b[0m \u001b[0misinstance\u001b[0m\u001b[0;34m(\u001b[0m\u001b[0me\u001b[0m\u001b[0;34m,\u001b[0m \u001b[0mexception_type\u001b[0m\u001b[0;34m)\u001b[0m\u001b[0;34m:\u001b[0m\u001b[0;34m\u001b[0m\u001b[0;34m\u001b[0m\u001b[0m\n\u001b[0;32m-> 5801\u001b[0;31m                             \u001b[0;32mraise\u001b[0m \u001b[0me\u001b[0m\u001b[0;34m\u001b[0m\u001b[0;34m\u001b[0m\u001b[0m\n\u001b[0m\u001b[1;32m   5802\u001b[0m                     \u001b[0merrors\u001b[0m\u001b[0;34m.\u001b[0m\u001b[0mappend\u001b[0m\u001b[0;34m(\u001b[0m\u001b[0;34m(\u001b[0m\u001b[0mtoolkit\u001b[0m\u001b[0;34m,\u001b[0m \u001b[0me\u001b[0m\u001b[0;34m)\u001b[0m\u001b[0;34m)\u001b[0m\u001b[0;34m\u001b[0m\u001b[0;34m\u001b[0m\u001b[0m\n\u001b[1;32m   5803\u001b[0m \u001b[0;34m\u001b[0m\u001b[0m\n",
      "\u001b[0;32m~/anaconda3/envs/fb_dev_env/lib/python3.8/site-packages/openff/toolkit/utils/toolkits.py\u001b[0m in \u001b[0;36mcall\u001b[0;34m(self, method_name, raise_exception_types, *args, **kwargs)\u001b[0m\n\u001b[1;32m   5795\u001b[0m                 \u001b[0mmethod\u001b[0m \u001b[0;34m=\u001b[0m \u001b[0mgetattr\u001b[0m\u001b[0;34m(\u001b[0m\u001b[0mtoolkit\u001b[0m\u001b[0;34m,\u001b[0m \u001b[0mmethod_name\u001b[0m\u001b[0;34m)\u001b[0m\u001b[0;34m\u001b[0m\u001b[0;34m\u001b[0m\u001b[0m\n\u001b[1;32m   5796\u001b[0m                 \u001b[0;32mtry\u001b[0m\u001b[0;34m:\u001b[0m\u001b[0;34m\u001b[0m\u001b[0;34m\u001b[0m\u001b[0m\n\u001b[0;32m-> 5797\u001b[0;31m                     \u001b[0;32mreturn\u001b[0m \u001b[0mmethod\u001b[0m\u001b[0;34m(\u001b[0m\u001b[0;34m*\u001b[0m\u001b[0margs\u001b[0m\u001b[0;34m,\u001b[0m \u001b[0;34m**\u001b[0m\u001b[0mkwargs\u001b[0m\u001b[0;34m)\u001b[0m\u001b[0;34m\u001b[0m\u001b[0;34m\u001b[0m\u001b[0m\n\u001b[0m\u001b[1;32m   5798\u001b[0m                 \u001b[0;32mexcept\u001b[0m \u001b[0mException\u001b[0m \u001b[0;32mas\u001b[0m \u001b[0me\u001b[0m\u001b[0;34m:\u001b[0m\u001b[0;34m\u001b[0m\u001b[0;34m\u001b[0m\u001b[0m\n\u001b[1;32m   5799\u001b[0m                     \u001b[0;32mfor\u001b[0m \u001b[0mexception_type\u001b[0m \u001b[0;32min\u001b[0m \u001b[0mraise_exception_types\u001b[0m\u001b[0;34m:\u001b[0m\u001b[0;34m\u001b[0m\u001b[0;34m\u001b[0m\u001b[0m\n",
      "\u001b[0;32m~/anaconda3/envs/fb_dev_env/lib/python3.8/site-packages/openff/toolkit/utils/toolkits.py\u001b[0m in \u001b[0;36mgenerate_conformers\u001b[0;34m(self, molecule, n_conformers, rms_cutoff, clear_existing)\u001b[0m\n\u001b[1;32m   2107\u001b[0m             \u001b[0mnew_status\u001b[0m \u001b[0;34m=\u001b[0m \u001b[0momega\u001b[0m\u001b[0;34m(\u001b[0m\u001b[0moemol\u001b[0m\u001b[0;34m)\u001b[0m\u001b[0;34m\u001b[0m\u001b[0;34m\u001b[0m\u001b[0m\n\u001b[1;32m   2108\u001b[0m             \u001b[0;32mif\u001b[0m \u001b[0mnew_status\u001b[0m \u001b[0;32mis\u001b[0m \u001b[0;32mFalse\u001b[0m\u001b[0;34m:\u001b[0m\u001b[0;34m\u001b[0m\u001b[0;34m\u001b[0m\u001b[0m\n\u001b[0;32m-> 2109\u001b[0;31m                 \u001b[0;32mraise\u001b[0m \u001b[0mException\u001b[0m\u001b[0;34m(\u001b[0m\u001b[0;34m\"OpenEye Omega conformer generation failed\"\u001b[0m\u001b[0;34m)\u001b[0m\u001b[0;34m\u001b[0m\u001b[0;34m\u001b[0m\u001b[0m\n\u001b[0m\u001b[1;32m   2110\u001b[0m \u001b[0;34m\u001b[0m\u001b[0m\n\u001b[1;32m   2111\u001b[0m         molecule2 = self.from_openeye(\n",
      "\u001b[0;31mException\u001b[0m: OpenEye Omega conformer generation failed"
     ]
    }
   ],
   "source": [
    "from openff.toolkit.utils.toolkits import RDKitToolkitWrapper, AmberToolsToolkitWrapper\n",
    "mol.assign_fractional_bond_orders(bond_order_model='am1-wiberg-elf10',)"
   ]
  },
  {
   "cell_type": "code",
   "execution_count": null,
   "id": "unavailable-agreement",
   "metadata": {},
   "outputs": [],
   "source": [
    "SUBSTITUENTS"
   ]
  },
  {
   "cell_type": "code",
   "execution_count": null,
   "id": "cosmetic-impossible",
   "metadata": {},
   "outputs": [],
   "source": []
  }
 ],
 "metadata": {
  "kernelspec": {
   "display_name": "Python 3",
   "language": "python",
   "name": "python3"
  },
  "language_info": {
   "codemirror_mode": {
    "name": "ipython",
    "version": 3
   },
   "file_extension": ".py",
   "mimetype": "text/x-python",
   "name": "python",
   "nbconvert_exporter": "python",
   "pygments_lexer": "ipython3",
   "version": "3.8.8"
  }
 },
 "nbformat": 4,
 "nbformat_minor": 5
}
