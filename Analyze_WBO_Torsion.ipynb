{
 "cells": [
  {
   "cell_type": "code",
   "execution_count": 1,
   "metadata": {},
   "outputs": [
    {
     "data": {
      "application/vnd.jupyter.widget-view+json": {
       "model_id": "d5a20bb576d24a659400f02792303f6a",
       "version_major": 2,
       "version_minor": 0
      },
      "text/plain": []
     },
     "metadata": {},
     "output_type": "display_data"
    }
   ],
   "source": [
    "#imports\n",
    "import time\n",
    "import qcportal as ptl\n",
    "import numpy as np\n",
    "import matplotlib.pyplot as plt\n",
    "from fragmenter.utils import HARTREE_2_KJMOL\n",
    "from fragmenter import chemi\n",
    "from simtk import unit\n",
    "import os, sys\n",
    "from fragmenter import chemi\n",
    "import cmiles\n",
    "from openeye import oechem\n",
    "import qcportal as ptl\n",
    "from openforcefield.topology import Molecule, Topology\n",
    "from openforcefield.typing.engines.smirnoff import ForceField\n",
    "from scipy import stats\n",
    "import arch.bootstrap\n",
    "import fragmenter "
   ]
  },
  {
   "cell_type": "markdown",
   "metadata": {},
   "source": [
    "# Analyze WBO Torsion\n",
    "\n",
    "This script performs analysis on QCA datasets by finding the torsion barrier from their QCA record and calculating their ELF10 WBO with an AM1 calculation. \n",
    "\n",
    "## Data output\n",
    "After data processing the molecules are stored into an oeb. Each respective OE molecule has the following data stored using datatags: \n",
    " - tdr_object.id : int (id of the TD record) with datatag \"TDid\"\n",
    " - dihedral_indices: list (list of atom indices for which torsion is driven in this record) datatag \"TDindices\"\n",
    " - torsion_barrier: float (torsion barrier energy in KJ/mol, maximum of all the barriers) datatag \"TB\"\n",
    " - cmiles: str (string for the cmiles of the molecule in canonical_isomeric_explicit_hydrogen_mapped_smiles) datatag \"cmiles\"\n",
    " - wbo: float (float of the ELF10 wiberg bond order calculated between the central torsion idicies) datatag \"wbo\"\n",
    " - IDMatch: \"IDMatch\" that contain the torsion id from .offxml format FF involved in the QCA torsion drive datatag \"IDMatch\"\n",
    "\n",
    " \n",
    "## Plotting \n"
   ]
  },
  {
   "cell_type": "code",
   "execution_count": 77,
   "metadata": {},
   "outputs": [],
   "source": [
    "#functions \n",
    "def torsion_barrier_for_molecule(tdr_object, mapped_smiles, show_plots=False):\n",
    "    \"\"\"\n",
    "    Takes in a single torsion drive record that has energies from multiple conformers (at different torsion angles), evaluates the torsion barrier \n",
    "    \n",
    "    Parameters\n",
    "    ----------\n",
    "    tdr_object : object\n",
    "        torsion drive record from QC archive for a molecule\n",
    "    \n",
    "    Returns\n",
    "    -------\n",
    "    mol: oemol object\n",
    "        oemol from the smiles in dataframe index that contains datatags with the following: \n",
    "        tdr_object.id : int (id of the TD record) with datatag \"TDid\"\n",
    "        dihedral_indices: list (list of atom indices for which torsion is driven in this record) datatag \"TDindices\"\n",
    "        torsion_barrier: float (torsion barrier energy in KJ/mol, maximum of all the barriers) datatag \"TB\"\n",
    "        cmiles: str (string for the cmiles of the molecule in canonical_isomeric_explicit_hydrogen_mapped_smiles) datatag \"cmiles\"\n",
    "    \"\"\"\n",
    "    energies = list(tdr_object.get_final_energies().values())\n",
    "    tmp = list(tdr_object.get_final_energies().keys())\n",
    "    angles = [i[0]*np.pi/180 for i in tmp]\n",
    "    angles, energies = zip(*sorted(zip(angles, energies)))\n",
    "    angles = np.array(angles)\n",
    "    energies = np.array(energies)\n",
    "    angles = np.append(angles[-3:] - 2*np.pi, np.append(angles, angles[:3] + 2*np.pi))\n",
    "    energies = np.append(energies[-3:], np.append(energies, energies[:3]))\n",
    "    \n",
    "    idx = []\n",
    "    for i in range(len(angles)-2):\n",
    "        m1 = (energies[i+1]-energies[i])/(angles[i+1]-angles[i])\n",
    "        m2 = (energies[i+2]-energies[i+1])/(angles[i+2]-angles[i+1])\n",
    "        if np.sign(m1) == np.sign(m2):\n",
    "            continue\n",
    "        else:\n",
    "            idx.append(i+1)\n",
    "        \n",
    "    if (show_plots):\n",
    "        min_ener = min(energies)\n",
    "        energies_y = (energies-min_ener)*HARTREE_2_KJMOL\n",
    "        fontsize = 14\n",
    "        plt.figure()\n",
    "        plt.plot(angles*180/np.pi, energies_y, 'b-X', angles[idx]*180/np.pi, energies_y[idx], 'ro')\n",
    "        plt.legend(['QM data', 'Max, min'], bbox_to_anchor=(1, 1), fontsize=fontsize)\n",
    "        plt.title('Torsion drive interpolation', fontsize=fontsize)\n",
    "        plt.xlabel('Dihedral Angle [Degrees]', fontsize=fontsize)\n",
    "        plt.ylabel('Relative energy [KJ / mol]', fontsize=fontsize)\n",
    "        plt.xticks(fontsize=fontsize)\n",
    "        plt.yticks(fontsize=fontsize)\n",
    "        fig_name = 'plot_' + tdr_object.id + '.png'\n",
    "        plt.savefig(fig_name)\n",
    "        plt.show()\n",
    "        \n",
    "    torsion_barriers = []\n",
    "    for i in range(int(len(idx)-1)):\n",
    "        torsion_barriers.append(abs(HARTREE_2_KJMOL*abs(energies[idx[i]] - energies[idx[i+1]])))\n",
    "    torsion_barriers = np.array(torsion_barriers)\n",
    "    \n",
    "    # get dihedral indices and pass on to get_wbo function\n",
    "    dihedral_indices = tdr_object.dict()['keywords']['dihedrals'][0]\n",
    "    offmol = Molecule.from_mapped_smiles(mapped_smiles)\n",
    "    offmol.assign_fractional_bond_orders()\n",
    "    bond = offmol.get_bond_between(dihedral_indices[1], dihedral_indices[2])\n",
    "    mol = chemi.smiles_to_oemol(mapped_smiles)\n",
    "    mol.SetData(\"WBO\", bond.fractional_bond_order)\n",
    "    mol.SetData(\"TB\", max(torsion_barriers))\n",
    "    mol.SetData(\"TDindices\", dihedral_indices)\n",
    "    mol.SetData(\"TDid\", tdr_object.id)\n",
    "    mol.SetData(\"cmiles\", mapped_smiles)\n",
    "    \n",
    "    return mol\n",
    "\n",
    "    \n",
    "\n",
    "def loadDataset_low(datasetName, specification):\n",
    "    \"\"\"\n",
    "    Low level call to load each torsion drive dataset and return a list of molecules\n",
    "    \n",
    "        Parameters\n",
    "        ----------\n",
    "        datasetName : str\n",
    "            torsion drive dataset name.  \n",
    "        specification : str\n",
    "            specification in the dataset. Example: \"B3LYP-D3\", \"default\", \"UFF\" \n",
    "        \n",
    "        Returns\n",
    "        -------\n",
    "        molList : list of objects\n",
    "            each row contains the tdr_object.id, dihedral_indices, torsion_barrier, oemol_object\n",
    "    \"\"\"\n",
    "    while True:    \n",
    "        try:\n",
    "            assert(datasetName)\n",
    "            break\n",
    "        except AssertionError:\n",
    "            print (\"datasetName is empty. Check input list of dataset tuples\")\n",
    "            raise\n",
    "    while True:    \n",
    "        try:\n",
    "            assert(specification)\n",
    "            break\n",
    "        except AssertionError:\n",
    "            print (\"specification is empty. Check input list of dataset tuples\")\n",
    "            raise\n",
    "\n",
    "    # initiate qc portal instance\n",
    "    client = ptl.FractalClient()    \n",
    "    # from the TorsionDriveDataset collection picking up given datasetName\n",
    "    ds = client.get_collection(\"TorsionDriveDataset\", datasetName)\n",
    "    ds.status([specification], status=\"COMPLETE\")\n",
    " \n",
    "    # Serial implementation\n",
    "    tb = []\n",
    "    for i in range(ds.df.size):\n",
    "        if (ds.df.iloc[i,0].status == 'COMPLETE'):\n",
    "            smiles = ds.df.index[i]\n",
    "            mapped_smiles = ds.get_entry(smiles).attributes['canonical_isomeric_explicit_hydrogen_mapped_smiles']\n",
    "            tb.append(torsion_barrier_for_molecule(ds.df.iloc[i, 0], mapped_smiles))\n",
    "    print(\"No. of COMPLETE records in this dataset:\", len(tb), \"out of \", len(ds.df))\n",
    "    \n",
    "    return(tb)\n",
    "\n",
    "\n",
    "\n",
    "\n",
    "def checkTorsion(molList):\n",
    "    \"\"\"\n",
    "    Take mollist and check if the molecules in a list match a specific torsion id\n",
    "    \n",
    "        Parameters\n",
    "        ----------\n",
    "        molList : List of objects\n",
    "            List of oemols with datatags generated in genData function\n",
    "\n",
    "        Returns\n",
    "        -------\n",
    "        molList : list of objects\n",
    "            List of oemol objects that have a datatag \"IDMatch\" that contain the torsion id involved in the QCA torsion drive \n",
    "    \"\"\"\n",
    "\n",
    "    matches=[]\n",
    "    count=0\n",
    "    mols=[]\n",
    "    for mol in molList: \n",
    "        molecule = Molecule.from_mapped_smiles(mol.GetData(\"cmiles\"))\n",
    "        topology = Topology.from_molecules(molecule)\n",
    "        # Let's label using the Parsley force field\n",
    "        forcefield = ForceField('openff-1.2.1.offxml')\n",
    "        # Run the molecule labeling\n",
    "        molecule_force_list = forcefield.label_molecules(topology)\n",
    "        params=[]\n",
    "        # Print out a formatted description of the torsion parameters applied to this molecule\n",
    "        for mol_idx, mol_forces in enumerate(molecule_force_list):\n",
    "            #print(f'Forces for molecule {mol_idx}')\n",
    "            for force_tag, force_dict in mol_forces.items():\n",
    "                if force_tag == 'ProperTorsions':\n",
    "                    for (atom_indices, parameter) in force_dict.items():\n",
    "                        params.append(parameter.id)\n",
    "                        if atom_indices == mol.GetData(\"TDindices\") or tuple(reversed(atom_indices)) == mol.GetData(\"TDindices\"):\n",
    "                            count+=1\n",
    "                            mol.SetData(\"IDMatch\", parameter.id)\n",
    "                            mols.append(mol)\n",
    "    print(\"Out of \" +str(len(molList)) + \" molecules, \" + str(count) + \" were processed with checkTorsion()\")\n",
    "\n",
    "    return mols \n",
    "\n",
    "\n",
    "def makeOEB(oemolList, tag):\n",
    "    \"\"\"\n",
    "    Take mollist and create oeb file using the tag as the .oeb file name  \n",
    "    \n",
    "        Parameters\n",
    "        ----------\n",
    "        molList : List of objects\n",
    "            List of oemols with datatags generated in genData function\n",
    "        tag : String\n",
    "            Title of the oeb file \n",
    "\n",
    "        Returns\n",
    "        -------\n",
    "    \"\"\"\n",
    "    ofile = oechem.oemolostream(tag+'.oeb')\n",
    "    for mol in oemolList:\n",
    "        oechem.OEWriteConstMolecule(ofile, mol)\n",
    "    ofile.close()\n",
    "    return\n",
    "\n",
    "\n",
    "\n",
    "def compute_r_ci(wbos, max_energies):\n",
    "    return (stats.linregress(wbos, max_energies)[2])**2\n",
    "\n",
    "\n",
    "def oeb2oemol(oebfile):\n",
    "    \"\"\"\n",
    "    Takes in oebfile and generates oemolList\n",
    "        Parameters\n",
    "        ----------\n",
    "        oebfile : String\n",
    "            Title of an oeb file\n",
    "        Returns\n",
    "        -------\n",
    "        mollist : List of objects\n",
    "            List of OEMols in the .oeb file\n",
    "            \n",
    "    \"\"\"\n",
    "    ifs = oechem.oemolistream(oebfile)\n",
    "    mollist = []\n",
    "\n",
    "    for mol in ifs.GetOEGraphMols():\n",
    "            mollist.append(oechem.OEGraphMol(mol))\n",
    "\n",
    "    return mollist\n",
    "\n",
    "\n",
    "\n",
    "#plotting functions\n",
    "def genPlots(fileName, fname):\n",
    "    \"\"\"\n",
    "    Generates a .pdf plot from a .oeb file of wbo versus torsion barrier height \n",
    "        Parameters\n",
    "        ----------\n",
    "        fileName : String\n",
    "            .oeb file name for the molecules that contain datatags with plotting information\n",
    "        fname : String\n",
    "            The output .pdf file name for the resulting files from the plotting function \n",
    "\n",
    "        Returns\n",
    "        -------\n",
    "    \"\"\"\n",
    "\n",
    "    molList=oeb2oemol(fileName)\n",
    "    \n",
    "    torsionDict={}\n",
    "    #print(molList)\n",
    "    \n",
    "    for m in molList:\n",
    "        tid=m.GetData(\"IDMatch\")\n",
    "        torsionDict[tid]={}\n",
    "        torsionDict[tid]['tb']=[]\n",
    "        torsionDict[tid]['wbo']=[]\n",
    "    #print(torsionDict)\n",
    "    \n",
    "    \n",
    "    for m in molList:\n",
    "        tid=m.GetData(\"IDMatch\")\n",
    "        torsionDict[tid]['tb'].append(m.GetData(\"TB\"))\n",
    "        torsionDict[tid]['wbo'].append(m.GetData(\"WBO\"))\n",
    "    \n",
    "    colors = [\n",
    "\"#000000\", \"#FFFF00\", \"#1CE6FF\", \"#FF34FF\", \"#FF4A46\", \"#008941\", \"#006FA6\", \"#A30059\",\n",
    "\"#FFDBE5\", \"#7A4900\", \"#0000A6\", \"#63FFAC\", \"#B79762\", \"#004D43\", \"#8FB0FF\", \"#997D87\",\n",
    "\"#5A0007\", \"#809693\", \"#FEFFE6\", \"#1B4400\", \"#4FC601\", \"#3B5DFF\", \"#4A3B53\", \"#FF2F80\",\n",
    "\"#61615A\", \"#BA0900\", \"#6B7900\", \"#00C2A0\", \"#FFAA92\", \"#FF90C9\", \"#B903AA\", \"#D16100\",\n",
    "\"#DDEFFF\", \"#000035\", \"#7B4F4B\", \"#A1C299\", \"#300018\", \"#0AA6D8\", \"#013349\", \"#00846F\",\n",
    "\"#372101\", \"#FFB500\", \"#C2FFED\", \"#A079BF\", \"#CC0744\", \"#C0B9B2\", \"#C2FF99\", \"#001E09\",\n",
    "\"#00489C\", \"#6F0062\", \"#0CBD66\", \"#EEC3FF\", \"#456D75\", \"#B77B68\", \"#7A87A1\", \"#788D66\",\n",
    "\"#885578\", \"#FAD09F\", \"#FF8A9A\", \"#D157A0\", \"#BEC459\", \"#456648\", \"#0086ED\", \"#886F4C\",\n",
    "\"#34362D\", \"#B4A8BD\", \"#00A6AA\", \"#452C2C\", \"#636375\", \"#A3C8C9\", \"#FF913F\", \"#938A81\",\n",
    "\"#575329\", \"#00FECF\", \"#B05B6F\", \"#8CD0FF\", \"#3B9700\", \"#04F757\", \"#C8A1A1\", \"#1E6E00\",\n",
    "\"#7900D7\", \"#A77500\", \"#6367A9\", \"#A05837\", \"#6B002C\", \"#772600\", \"#D790FF\", \"#9B9700\",\n",
    "\"#549E79\", \"#FFF69F\", \"#201625\", \"#72418F\", \"#BC23FF\", \"#99ADC0\", \"#3A2465\", \"#922329\",\n",
    "\"#5B4534\", \"#FDE8DC\", \"#404E55\", \"#0089A3\", \"#CB7E98\", \"#A4E804\", \"#324E72\", \"#6A3A4C\", \"#000000\", \"#FFFF00\", \"#1CE6FF\", \"#FF34FF\", \"#FF4A46\", \"#008941\", \"#006FA6\", \"#A30059\",\n",
    "\"#FFDBE5\", \"#7A4900\", \"#0000A6\", \"#63FFAC\", \"#B79762\", \"#004D43\", \"#8FB0FF\", \"#997D87\",\n",
    "\"#5A0007\", \"#809693\", \"#FEFFE6\", \"#1B4400\", \"#4FC601\", \"#3B5DFF\", \"#4A3B53\", \"#FF2F80\",\n",
    "\"#61615A\", \"#BA0900\", \"#6B7900\", \"#00C2A0\", \"#FFAA92\", \"#FF90C9\", \"#B903AA\", \"#D16100\",\n",
    "\"#DDEFFF\", \"#000035\", \"#7B4F4B\", \"#A1C299\", \"#300018\", \"#0AA6D8\", \"#013349\", \"#00846F\",\n",
    "\"#372101\", \"#FFB500\", \"#C2FFED\", \"#A079BF\", \"#CC0744\", \"#C0B9B2\", \"#C2FF99\", \"#001E09\",\n",
    "\"#00489C\", \"#6F0062\", \"#0CBD66\", \"#EEC3FF\", \"#456D75\", \"#B77B68\", \"#7A87A1\", \"#788D66\",\n",
    "\"#885578\", \"#FAD09F\", \"#FF8A9A\", \"#D157A0\", \"#BEC459\", \"#456648\", \"#0086ED\", \"#886F4C\",\n",
    "\"#34362D\"]\n",
    "    \n",
    "    fig,ax=plt.subplots()\n",
    "\n",
    "    for i, (key, item) in enumerate(torsionDict.items()):\n",
    "        ax.scatter(torsionDict[key]['wbo'],torsionDict[key]['tb'],c=colors[i], label=key)\n",
    "#         slope, intercept, r_value, p_value, std_err = stats.linregress(torsionDict[key]['wbo'], torsionDict[key]['tb'])\n",
    "#         print(key)\n",
    "#         print(r_value)\n",
    "#         print(slope)\n",
    "#         print(intercept)\n",
    "#         ci_r_value = arch.bootstrap.IIDBootstrap(np.asarray(torsionDict[key]['wbo']), np.asarray(torsionDict[key]['tb'])).conf_int(compute_r_ci, 1000)\n",
    "#         CI_95 = 1.96*std_err\n",
    "#         plt.plot(np.unique(torsionDict[key]['wbo']), np.poly1d([slope, intercept])(np.unique(torsionDict[key]['wbo'])), c=colors[i])\n",
    "    \n",
    "    l = ax.legend(bbox_to_anchor=(1, 1), fontsize=14)\n",
    "\n",
    "    plt.xlabel('Wiberg Bond Order', fontsize=14);\n",
    "    plt.ylabel('Energy Barrier height (kJ/mol)', fontsize=14);\n",
    "    plt.xticks(fontsize=14)\n",
    "    plt.yticks(fontsize=14)\n",
    "    plt.savefig(fname, bbox_inches='tight')\n",
    "    plt.show()\n",
    "    \n",
    "\n",
    "\n",
    "def visualize_wbo_correlation_compare(fileName, fileName2, fname):\n",
    "    \"\"\"\n",
    "    Generates a .pdf plot from a .oeb file of wbo versus torsion barrier height for two datasets \n",
    "    \n",
    "        Parameters\n",
    "        ----------\n",
    "        fileName : String\n",
    "            .oeb file name for the molecules that contain datatags with plotting information\n",
    "        fileName2 : String\n",
    "            .oeb file name for the molecules that contain datatags with plotting information. This dataset\n",
    "            must have less torsion parametrs than fileName2\n",
    "        fname : String\n",
    "            The output .pdf file name for the resulting files from the plotting function \n",
    "\n",
    "        Returns\n",
    "        -------\n",
    "    \"\"\"\n",
    "    molList=oeb2oemol(fileName)\n",
    "    torsionDict={}\n",
    "    torsionDict2={}\n",
    "\n",
    "    for m in molList:\n",
    "        tid=m.GetData(\"IDMatch\")\n",
    "        torsionDict[tid]={}\n",
    "        torsionDict[tid]['tb']=[]\n",
    "        torsionDict[tid]['wbo']=[]\n",
    "        torsionDict2[tid]={}\n",
    "        torsionDict2[tid]['tb']=[]\n",
    "        torsionDict2[tid]['wbo']=[]\n",
    "    \n",
    "    \n",
    "    for m in molList:\n",
    "        tid=m.GetData(\"IDMatch\")\n",
    "        torsionDict[tid]['tb'].append(m.GetData(\"TB\"))\n",
    "        torsionDict[tid]['wbo'].append(m.GetData(\"WBO\"))\n",
    "    \n",
    "    \n",
    "    molList2=oeb2oemol(fileName2)\n",
    "    \n",
    "    for m in molList2:\n",
    "        tid=m.GetData(\"IDMatch\")\n",
    "        torsionDict2[tid]={}\n",
    "        torsionDict2[tid]['tb']=[]\n",
    "        torsionDict2[tid]['wbo']=[]\n",
    "    \n",
    "    \n",
    "    for m in molList2:\n",
    "        tid=m.GetData(\"IDMatch\")\n",
    "        torsionDict2[tid]['tb'].append(m.GetData(\"TB\"))\n",
    "        torsionDict2[tid]['wbo'].append(m.GetData(\"WBO\"))\n",
    "    \n",
    "    \n",
    "    colors = fragmenter.chemi._KELLYS_COLORS\n",
    "    \n",
    "    fig,ax=plt.subplots()\n",
    "\n",
    "    for i, (key, item) in enumerate(torsionDict.items()):\n",
    "        ax.scatter(torsionDict[key]['wbo'],torsionDict[key]['tb'],c=colors[i], label=key, marker='o')\n",
    "        ax.scatter(torsionDict2[key]['wbo'],torsionDict2[key]['tb'],c=colors[i], marker='x')\n",
    "        slope, intercept, r_value, p_value, std_err = stats.linregress(torsionDict[key]['wbo']+torsionDict2[key]['wbo'], torsionDict[key]['tb']+torsionDict2[key]['tb'])\n",
    "        print(key)\n",
    "        print(r_value)\n",
    "        print(slope)\n",
    "        print(intercept)\n",
    "        ci_r_value = arch.bootstrap.IIDBootstrap(np.asarray(torsionDict[key]['wbo']+torsionDict2[key]['wbo']), np.asarray(torsionDict[key]['tb']+torsionDict2[key]['tb'])).conf_int(compute_r_ci, 1000)\n",
    "        CI_95 = 1.96*std_err\n",
    "        plt.plot(np.unique(torsionDict[key]['wbo']+torsionDict2[key]['wbo']), np.poly1d([slope, intercept])(np.unique(torsionDict[key]['wbo']+torsionDict2[key]['wbo'])), c=colors[i])\n",
    "    \n",
    "    l = ax.legend(bbox_to_anchor=(1, 1), fontsize=14)\n",
    "    plt.xlabel('Wiberg Bond Order', fontsize=14);\n",
    "    plt.ylabel('Energy Barrier height (kJ/mol)', fontsize=14);\n",
    "    plt.xticks(fontsize=14)\n",
    "    plt.yticks(fontsize=14)\n",
    "    plt.savefig(fname, bbox_inches='tight')\n",
    "    plt.show()\n",
    "    \n",
    "\n",
    "#main dataset generation function \n",
    "def genData(dsName, fileName):\n",
    "    \"\"\"\n",
    "    Generates oeb files for the QCA datasets and plots that analyze WBO versus torsion barrier\n",
    "    \"\"\"\n",
    "    molList=loadDataset_low(dsName, \"default\")\n",
    "    mols1=checkTorsion(molList)\n",
    "    makeOEB(mols1, fileName)\n"
   ]
  },
  {
   "cell_type": "code",
   "execution_count": null,
   "metadata": {
    "scrolled": true
   },
   "outputs": [],
   "source": [
    "with open('TD_datasets', 'r') as file:\n",
    "    TD_datasets = file.read().splitlines()\n",
    "error_td = []\n",
    "count = 0\n",
    "for td_name in TD_datasets:\n",
    "    count += 1\n",
    "    print(td_name)\n",
    "    while True:\n",
    "        try:\n",
    "            genData(td_name, td_name)\n",
    "#             genPlots(td_name+'.oeb', td_name+'.pdf')\n",
    "            break\n",
    "        except:\n",
    "            error_td.append(td_name)\n",
    "            break\n",
    "print(error_td)"
   ]
  },
  {
   "cell_type": "code",
   "execution_count": null,
   "metadata": {},
   "outputs": [],
   "source": [
    "#Let's also add the Rowley dataset and compare \n",
    "# genData(\"OpenFF Rowley Biaryl v1.0\", \"rowley\")\n",
    "# visualize_wbo_correlation_compare('phenyl.oeb', 'rowley.oeb', \"rowley_and_phenyl.pdf\")"
   ]
  },
  {
   "cell_type": "code",
   "execution_count": null,
   "metadata": {},
   "outputs": [],
   "source": [
    "visualize_wbo_correlation_compare('phenyl.oeb', 'rowley.oeb', \"rowley_and_phenyl.pdf\")"
   ]
  },
  {
   "cell_type": "code",
   "execution_count": 88,
   "metadata": {},
   "outputs": [],
   "source": [
    "def plot_interactive(fileList, t_id=None):\n",
    "    \"\"\"\n",
    "    Takes in a list of oeb files and plots wbo vs torsion barrier, combining all the datasets and plotting by each tid in the combined dataset\n",
    "    \n",
    "    Note: ***Plot is interactive (or returns chemical structures) only for the last usage\n",
    "    \n",
    "    Parameters\n",
    "    ----------\n",
    "    fileList: list of strings\n",
    "    each string is a oeb file name\n",
    "    Eg. ['rowley.oeb'] or ['rowley.oeb', 'phenyl.oeb']\n",
    "    \n",
    "    t_id: str\n",
    "    torsion id, eg., 't43'\n",
    "    \"\"\"\n",
    "    import plotly.express as px\n",
    "    from jupyter_dash import JupyterDash\n",
    "    import dash_core_components as dcc\n",
    "    import dash_html_components as html\n",
    "    import pandas as pd\n",
    "    import plotly.graph_objects as go\n",
    "    from dash.dependencies import Input, Output\n",
    "    from rdkit import Chem\n",
    "    from rdkit.Chem.Draw import MolsToGridImage\n",
    "    import base64\n",
    "    from io import BytesIO\n",
    "\n",
    "    molList = []\n",
    "    for fileName in fileList:\n",
    "        molList.extend(oeb2oemol(fileName))\n",
    "\n",
    "    df = pd.DataFrame(columns = ['tid', 'tb', 'wbo', 'cmiles', 'TDindices']) \n",
    "\n",
    "    for m in molList:\n",
    "        tid=m.GetData(\"IDMatch\")\n",
    "        df = df.append({'tid': tid, \n",
    "                        'tb': m.GetData(\"TB\"),\n",
    "                        'wbo' : m.GetData(\"WBO\"),\n",
    "                        'cmiles' : m.GetData(\"cmiles\"),\n",
    "                        'TDindices' : m.GetData(\"TDindices\")}, \n",
    "                        ignore_index = True)\n",
    "    if(t_id):\n",
    "        print(t_id, \"only\")\n",
    "        df = df[df.tid == t_id]\n",
    "\n",
    "    colors = fragmenter.chemi._KELLYS_COLORS\n",
    "\n",
    "    fig = go.Figure({'layout' : go.Layout(height=400,\n",
    "            xaxis={'title': 'Wiberg Bond Order'},\n",
    "            yaxis={'title': 'Torsion barrier in KJ/mol'},\n",
    "            margin={'l': 40, 'b': 40, 't': 10, 'r': 10},\n",
    "            legend={'x': 1, 'y': 1},\n",
    "            hovermode=False,\n",
    "            dragmode='select')})\n",
    "\n",
    "    count = 0\n",
    "    for tid in df.tid.unique():\n",
    "        x = df[df.tid == tid].wbo\n",
    "        y = df.loc[x.index].tb\n",
    "        fig.add_scatter(x=x,\n",
    "                        y=y,\n",
    "                        mode=\"markers\", \n",
    "                        name=tid, \n",
    "                        marker_color=colors[count])\n",
    "\n",
    "        slope, intercept, r_value, p_value, std_err =    stats.linregress(x, y)\n",
    "        print(\"tid: \", tid, \"r_value: \", r_value, \n",
    "              \"slope: \", slope, \"intercept: \", intercept)\n",
    "        ci_r_value = arch.bootstrap.IIDBootstrap(\n",
    "            np.asarray(x), \n",
    "            np.asarray(y)).conf_int(compute_r_ci, 1000)\n",
    "        CI_95 = 1.96*std_err\n",
    "        fig.add_traces(go.Scatter(\n",
    "            x=np.unique(x), \n",
    "            y=np.poly1d([slope, intercept])(np.unique(x)), \n",
    "            showlegend=False, mode ='lines', marker_color=colors[count]))\n",
    "        count += 1\n",
    "\n",
    "    graph_component = dcc.Graph(id=\"graph_id\", figure=fig)\n",
    "    image_component = html.Img(id=\"structure-image\")\n",
    "\n",
    "    app = JupyterDash(__name__) \n",
    "\n",
    "    app.layout = html.Div([\n",
    "        html.Div([graph_component]), \n",
    "        html.Div([image_component])])\n",
    "\n",
    "    @app.callback(\n",
    "        Output('structure-image', 'src'),\n",
    "        [Input('graph_id', 'selectedData')])\n",
    "    def display_selected_data(selectedData):\n",
    "        max_structs = 12\n",
    "        structs_per_row = 1\n",
    "        empty_plot = \"data:image/gif;base64,R0lGODlhAQABAAAAACwAAAAAAQABAAA=\"\n",
    "        if selectedData:\n",
    "            if len(selectedData['points']) == 0:\n",
    "                return empty_plot\n",
    "            print(\"# of points selected = \", len(selectedData['points']))\n",
    "            xval = [x['x'] for x in selectedData['points']]\n",
    "            yval = [x['y'] for x in selectedData['points']]\n",
    "            match_df = df[df['wbo'].isin(xval)]\n",
    "            smiles_list = list(match_df.cmiles)\n",
    "            name_list = list(match_df.tid)\n",
    "            name_list = []\n",
    "            \n",
    "            for i in range(len(selectedData['points'])):\n",
    "                indices_tup = match_df.iloc[i].TDindices\n",
    "                tid = match_df.iloc[i].tid\n",
    "                tor_bar = match_df.iloc[i].tb\n",
    "                wbo_tor = match_df.iloc[i].wbo\n",
    "                cmiles_str = match_df.iloc[i].cmiles\n",
    "                tmp = [str(tid), ':', 'TDindices [', str(indices_tup[0]+1),\n",
    "                       str(indices_tup[1]+1), str(indices_tup[2]+1), \n",
    "                       str(indices_tup[3]+1), ']', \n",
    "                       'wbo:', str('%.2f'%(wbo_tor)), \n",
    "                       'TB:', str('%.2f'%(tor_bar)), 'KJ/mol]']\n",
    "                name_list.append(' '.join(tmp))\n",
    "            mol_list = [Chem.MolFromSmiles(x) for x in smiles_list]\n",
    "            img = MolsToGridImage(mol_list[0:max_structs], \n",
    "                                  subImgSize=(400, 400), \n",
    "                                  molsPerRow=structs_per_row, \n",
    "                                  legends=name_list)\n",
    "            buffered = BytesIO()\n",
    "            img.save(buffered, format=\"PNG\", legendFontSize=40)\n",
    "            encoded_image = base64.b64encode(buffered.getvalue())\n",
    "            src_str = 'data:image/png;base64,{}'.format(encoded_image.decode())\n",
    "        else:\n",
    "            return empty_plot\n",
    "        return src_str\n",
    "\n",
    "    if __name__ == '__main__':   \n",
    "        app.run_server(mode='inline', port=8060, debug=True)\n",
    "\n",
    "    return fig\n"
   ]
  },
  {
   "cell_type": "code",
   "execution_count": 73,
   "metadata": {},
   "outputs": [
    {
     "name": "stdout",
     "output_type": "stream",
     "text": [
      "t43 only\n",
      "tid:  t43 r_value:  0.6771702920019153 slope:  275.65412975007723 intercept:  -255.6465785712414\n"
     ]
    },
    {
     "data": {
      "text/html": [
       "\n",
       "        <iframe\n",
       "            width=\"100%\"\n",
       "            height=\"650\"\n",
       "            src=\"http://127.0.0.1:8060/\"\n",
       "            frameborder=\"0\"\n",
       "            allowfullscreen\n",
       "        ></iframe>\n",
       "        "
      ],
      "text/plain": [
       "<IPython.lib.display.IFrame at 0x7fd202a3c650>"
      ]
     },
     "metadata": {},
     "output_type": "display_data"
    },
    {
     "name": "stdout",
     "output_type": "stream",
     "text": [
      "# of points selected =  3\n"
     ]
    }
   ],
   "source": [
    "fig1 = plot_interactive(['rowley.oeb', 'phenyl.oeb'], t_id='t43')"
   ]
  },
  {
   "cell_type": "code",
   "execution_count": 79,
   "metadata": {},
   "outputs": [],
   "source": [
    "TD_working_oeb = [x+'.oeb' for x in TD_datasets]"
   ]
  },
  {
   "cell_type": "code",
   "execution_count": 80,
   "metadata": {},
   "outputs": [
    {
     "name": "stdout",
     "output_type": "stream",
     "text": [
      "t43 only\n",
      "tid:  t43 r_value:  0.82272786065585 slope:  516.1768094538851 intercept:  -493.1300638906191\n"
     ]
    },
    {
     "data": {
      "text/html": [
       "\n",
       "        <iframe\n",
       "            width=\"100%\"\n",
       "            height=\"650\"\n",
       "            src=\"http://127.0.0.1:8060/\"\n",
       "            frameborder=\"0\"\n",
       "            allowfullscreen\n",
       "        ></iframe>\n",
       "        "
      ],
      "text/plain": [
       "<IPython.lib.display.IFrame at 0x7fd2083e2350>"
      ]
     },
     "metadata": {},
     "output_type": "display_data"
    },
    {
     "name": "stdout",
     "output_type": "stream",
     "text": [
      "# of points selected =  4\n",
      "# of points selected =  8\n"
     ]
    }
   ],
   "source": [
    "all_t43 = plot_interactive(TD_working_oeb, t_id='t43')"
   ]
  },
  {
   "cell_type": "code",
   "execution_count": 81,
   "metadata": {},
   "outputs": [
    {
     "name": "stdout",
     "output_type": "stream",
     "text": [
      "t47 only\n",
      "tid:  t47 r_value:  0.47007273888214995 slope:  176.99239890029543 intercept:  -132.97817741324786\n"
     ]
    },
    {
     "data": {
      "text/html": [
       "\n",
       "        <iframe\n",
       "            width=\"100%\"\n",
       "            height=\"650\"\n",
       "            src=\"http://127.0.0.1:8060/\"\n",
       "            frameborder=\"0\"\n",
       "            allowfullscreen\n",
       "        ></iframe>\n",
       "        "
      ],
      "text/plain": [
       "<IPython.lib.display.IFrame at 0x7fd2083e7a50>"
      ]
     },
     "metadata": {},
     "output_type": "display_data"
    },
    {
     "name": "stdout",
     "output_type": "stream",
     "text": [
      "# of points selected =  5\n"
     ]
    }
   ],
   "source": [
    "all_t47 = plot_interactive(TD_working_oeb, t_id='t47')"
   ]
  },
  {
   "cell_type": "code",
   "execution_count": 82,
   "metadata": {},
   "outputs": [
    {
     "name": "stdout",
     "output_type": "stream",
     "text": [
      "t69 only\n",
      "tid:  t69 r_value:  0.35907944435962336 slope:  125.62897873389376 intercept:  -93.9561666284743\n"
     ]
    },
    {
     "data": {
      "text/html": [
       "\n",
       "        <iframe\n",
       "            width=\"100%\"\n",
       "            height=\"650\"\n",
       "            src=\"http://127.0.0.1:8060/\"\n",
       "            frameborder=\"0\"\n",
       "            allowfullscreen\n",
       "        ></iframe>\n",
       "        "
      ],
      "text/plain": [
       "<IPython.lib.display.IFrame at 0x7fd2095359d0>"
      ]
     },
     "metadata": {},
     "output_type": "display_data"
    }
   ],
   "source": [
    "all_t69 = plot_interactive(TD_working_oeb, t_id='t69')"
   ]
  },
  {
   "cell_type": "code",
   "execution_count": 83,
   "metadata": {},
   "outputs": [
    {
     "name": "stdout",
     "output_type": "stream",
     "text": [
      "t72 only\n",
      "tid:  t72 r_value:  0.8263666065601866 slope:  400.3603316129027 intercept:  -343.26797691627957\n"
     ]
    },
    {
     "data": {
      "text/html": [
       "\n",
       "        <iframe\n",
       "            width=\"100%\"\n",
       "            height=\"650\"\n",
       "            src=\"http://127.0.0.1:8060/\"\n",
       "            frameborder=\"0\"\n",
       "            allowfullscreen\n",
       "        ></iframe>\n",
       "        "
      ],
      "text/plain": [
       "<IPython.lib.display.IFrame at 0x7fd209df1c90>"
      ]
     },
     "metadata": {},
     "output_type": "display_data"
    }
   ],
   "source": [
    "all_t72 = plot_interactive(TD_working_oeb, t_id='t72')"
   ]
  },
  {
   "cell_type": "code",
   "execution_count": 84,
   "metadata": {},
   "outputs": [
    {
     "name": "stdout",
     "output_type": "stream",
     "text": [
      "t74 only\n",
      "tid:  t74 r_value:  0.8986448767737627 slope:  587.3035983429953 intercept:  -540.0989489726342\n"
     ]
    },
    {
     "data": {
      "text/html": [
       "\n",
       "        <iframe\n",
       "            width=\"100%\"\n",
       "            height=\"650\"\n",
       "            src=\"http://127.0.0.1:8060/\"\n",
       "            frameborder=\"0\"\n",
       "            allowfullscreen\n",
       "        ></iframe>\n",
       "        "
      ],
      "text/plain": [
       "<IPython.lib.display.IFrame at 0x7fd20976ce90>"
      ]
     },
     "metadata": {},
     "output_type": "display_data"
    }
   ],
   "source": [
    "all_t74 = plot_interactive(TD_working_oeb, t_id='t74')"
   ]
  },
  {
   "cell_type": "code",
   "execution_count": 85,
   "metadata": {},
   "outputs": [
    {
     "name": "stdout",
     "output_type": "stream",
     "text": [
      "t96 only\n",
      "tid:  t96 r_value:  0.29066151843926763 slope:  126.9179004037672 intercept:  -110.9046664216262\n"
     ]
    },
    {
     "data": {
      "text/html": [
       "\n",
       "        <iframe\n",
       "            width=\"100%\"\n",
       "            height=\"650\"\n",
       "            src=\"http://127.0.0.1:8060/\"\n",
       "            frameborder=\"0\"\n",
       "            allowfullscreen\n",
       "        ></iframe>\n",
       "        "
      ],
      "text/plain": [
       "<IPython.lib.display.IFrame at 0x7fd20d48c910>"
      ]
     },
     "metadata": {},
     "output_type": "display_data"
    }
   ],
   "source": [
    "all_t96 = plot_interactive(TD_working_oeb, t_id='t96')"
   ]
  },
  {
   "cell_type": "code",
   "execution_count": 89,
   "metadata": {},
   "outputs": [
    {
     "name": "stdout",
     "output_type": "stream",
     "text": [
      "t97 only\n",
      "tid:  t97 r_value:  0.16836260981545084 slope:  129.25082559817088 intercept:  -115.28389791295297\n"
     ]
    },
    {
     "data": {
      "text/html": [
       "\n",
       "        <iframe\n",
       "            width=\"100%\"\n",
       "            height=\"650\"\n",
       "            src=\"http://127.0.0.1:8060/\"\n",
       "            frameborder=\"0\"\n",
       "            allowfullscreen\n",
       "        ></iframe>\n",
       "        "
      ],
      "text/plain": [
       "<IPython.lib.display.IFrame at 0x7fd20a097bd0>"
      ]
     },
     "metadata": {},
     "output_type": "display_data"
    },
    {
     "name": "stdout",
     "output_type": "stream",
     "text": [
      "# of points selected =  2\n"
     ]
    }
   ],
   "source": [
    "all_t97 = plot_interactive(TD_working_oeb, t_id='t97')"
   ]
  },
  {
   "cell_type": "code",
   "execution_count": null,
   "metadata": {},
   "outputs": [],
   "source": []
  }
 ],
 "metadata": {
  "kernelspec": {
   "display_name": "Python 3",
   "language": "python",
   "name": "python3"
  },
  "language_info": {
   "codemirror_mode": {
    "name": "ipython",
    "version": 3
   },
   "file_extension": ".py",
   "mimetype": "text/x-python",
   "name": "python",
   "nbconvert_exporter": "python",
   "pygments_lexer": "ipython3",
   "version": "3.7.8"
  }
 },
 "nbformat": 4,
 "nbformat_minor": 4
}
