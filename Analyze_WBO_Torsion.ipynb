{
 "cells": [
  {
   "cell_type": "code",
   "execution_count": 12,
   "metadata": {},
   "outputs": [],
   "source": [
    "from torsion_analysis import *"
   ]
  },
  {
   "cell_type": "markdown",
   "metadata": {},
   "source": [
    "# Analyze WBO Torsion\n",
    "\n",
    "This script performs analysis on QCA datasets by finding the torsion barrier from their QCA record and calculating their ELF10 WBO with an AM1 calculation. \n",
    "\n",
    "## Data output\n",
    "After data processing the molecules are stored into an oeb. Each respective OE molecule has the following data stored using datatags: \n",
    " - tdr_object.id : int (id of the TD record) with datatag \"TDid\"\n",
    " - dihedral_indices: list (list of atom indices for which torsion is driven in this record) datatag \"TDindices\"\n",
    " - torsion_barrier: float (torsion barrier energy in KJ/mol, maximum of all the barriers) datatag \"TB\"\n",
    " - cmiles: str (string for the cmiles of the molecule in canonical_isomeric_explicit_hydrogen_mapped_smiles) datatag \"cmiles\"\n",
    " - wbo: float (float of the ELF10 wiberg bond order calculated between the central torsion idicies) datatag \"wbo\"\n",
    " - IDMatch: \"IDMatch\" that contain the torsion id from .offxml format FF involved in the QCA torsion drive datatag \"IDMatch\"\n",
    "\n"
   ]
  },
  {
   "cell_type": "markdown",
   "metadata": {},
   "source": [
    "## Step 1. Generate oeb files for the specific ForceField\n",
    "\n",
    "### ***Uncomment lines 26,27 depending on your usage"
   ]
  },
  {
   "cell_type": "code",
   "execution_count": 16,
   "metadata": {},
   "outputs": [],
   "source": [
    "ff_name = 'openff_unconstrained-1.3.0.offxml'\n",
    "folder_name = './FF_1.3.0/'"
   ]
  },
  {
   "cell_type": "code",
   "execution_count": 17,
   "metadata": {},
   "outputs": [
    {
     "name": "stdout",
     "output_type": "stream",
     "text": [
      "Fragment Stability Benchmark\n",
      "Fragmenter paper\n",
      "OpenFF DANCE 1 eMolecules t142 v1.0\n",
      "OpenFF Fragmenter Validation 1.0\n",
      "OpenFF Full TorsionDrive Benchmark 1\n",
      "OpenFF Gen 2 Torsion Set 1 Roche\n",
      "OpenFF Gen 2 Torsion Set 1 Roche 2\n",
      "OpenFF Gen 2 Torsion Set 2 Coverage\n",
      "OpenFF Gen 2 Torsion Set 2 Coverage 2\n",
      "OpenFF Gen 2 Torsion Set 3 Pfizer Discrepancy\n",
      "OpenFF Gen 2 Torsion Set 3 Pfizer Discrepancy 2\n",
      "OpenFF Gen 2 Torsion Set 4 eMolecules Discrepancy\n",
      "OpenFF Gen 2 Torsion Set 4 eMolecules Discrepancy 2\n",
      "OpenFF Gen 2 Torsion Set 5 Bayer\n",
      "OpenFF Gen 2 Torsion Set 5 Bayer 2\n",
      "OpenFF Gen 2 Torsion Set 6 Supplemental\n",
      "OpenFF Gen 2 Torsion Set 6 Supplemental 2\n",
      "OpenFF Group1 Torsions\n",
      "OpenFF Group1 Torsions 2\n",
      "OpenFF Group1 Torsions 3\n",
      "OpenFF Primary Benchmark 1 Torsion Set\n",
      "OpenFF Primary Benchmark 2 Torsion Set\n",
      "OpenFF Primary TorsionDrive Benchmark 1\n",
      "OpenFF Rowley Biaryl v1.0\n",
      "OpenFF Substituted Phenyl Set 1\n",
      "OpenFF-benchmark-ligand-fragments-v1.0\n",
      "Pfizer Discrepancy Torsion Dataset 1\n",
      "SMIRNOFF Coverage Torsion Set 1\n",
      "TorsionDrive Paper\n"
     ]
    }
   ],
   "source": [
    "import os\n",
    "import errno\n",
    "\n",
    "TD_datasets = ['Fragment Stability Benchmark',\n",
    " 'Fragmenter paper',\n",
    " 'OpenFF DANCE 1 eMolecules t142 v1.0',\n",
    " 'OpenFF Fragmenter Validation 1.0',\n",
    " 'OpenFF Full TorsionDrive Benchmark 1',\n",
    " 'OpenFF Gen 2 Torsion Set 1 Roche',\n",
    " 'OpenFF Gen 2 Torsion Set 1 Roche 2',\n",
    " 'OpenFF Gen 2 Torsion Set 2 Coverage',\n",
    " 'OpenFF Gen 2 Torsion Set 2 Coverage 2',\n",
    " 'OpenFF Gen 2 Torsion Set 3 Pfizer Discrepancy',\n",
    " 'OpenFF Gen 2 Torsion Set 3 Pfizer Discrepancy 2',\n",
    " 'OpenFF Gen 2 Torsion Set 4 eMolecules Discrepancy',\n",
    " 'OpenFF Gen 2 Torsion Set 4 eMolecules Discrepancy 2',\n",
    " 'OpenFF Gen 2 Torsion Set 5 Bayer',\n",
    " 'OpenFF Gen 2 Torsion Set 5 Bayer 2',\n",
    " 'OpenFF Gen 2 Torsion Set 6 Supplemental',\n",
    " 'OpenFF Gen 2 Torsion Set 6 Supplemental 2',\n",
    " 'OpenFF Group1 Torsions',\n",
    " 'OpenFF Group1 Torsions 2',\n",
    " 'OpenFF Group1 Torsions 3',\n",
    " 'OpenFF Primary Benchmark 1 Torsion Set',\n",
    " 'OpenFF Primary Benchmark 2 Torsion Set',\n",
    " 'OpenFF Primary TorsionDrive Benchmark 1',\n",
    " 'OpenFF Rowley Biaryl v1.0',\n",
    " 'OpenFF Substituted Phenyl Set 1',\n",
    " 'OpenFF-benchmark-ligand-fragments-v1.0',\n",
    " 'Pfizer Discrepancy Torsion Dataset 1',\n",
    " 'SMIRNOFF Coverage Torsion Set 1',\n",
    "#  'SiliconTX Torsion Benchmark Set 1',\n",
    " 'TorsionDrive Paper']\n",
    "\n",
    "error_td = []\n",
    "count = 0\n",
    "\n",
    "TD_working_oeb = [folder_name+x+'.oeb' for x in TD_datasets]\n",
    "\n",
    "for td_name in TD_datasets:\n",
    "    count += 1\n",
    "    print(td_name)\n",
    "    filename = folder_name \n",
    "    if not os.path.exists(os.path.dirname(filename)):\n",
    "        try:\n",
    "            os.makedirs(os.path.dirname(filename))\n",
    "        except OSError as exc: # Guard against race condition\n",
    "            if exc.errno != errno.EEXIST:\n",
    "                raise\n",
    "                \n",
    "    filename = filename + td_name\n",
    "    \n",
    "    while True:\n",
    "        try:\n",
    "#             genData(td_name, filename, ff_name)\n",
    "#             genPlots(filename+'.oeb', filename+'.pdf')\n",
    "            break\n",
    "        except:\n",
    "            error_td.append(td_name)\n",
    "            break\n",
    "\n",
    "    "
   ]
  },
  {
   "cell_type": "markdown",
   "metadata": {},
   "source": [
    "## Step 2. Visualize by reading the oeb files\n",
    "\n",
    "Can use genPlots(), visualize_wbo_correlation_compare() from torsion_anlaysis.py"
   ]
  },
  {
   "cell_type": "code",
   "execution_count": 4,
   "metadata": {},
   "outputs": [
    {
     "data": {
      "image/png": "[encoded data removed]",
      "text/plain": [
       "<Figure size 432x288 with 1 Axes>"
      ]
     },
     "metadata": {
      "needs_background": "light"
     },
     "output_type": "display_data"
    }
   ],
   "source": [
    "#Let's also add the Rowley dataset and compare \n",
    "genPlots(folder_name + 'OpenFF Rowley Biaryl v1.0.oeb', folder_name + 'OpenFF Rowley Biaryl v1.0.pdf')"
   ]
  },
  {
   "cell_type": "markdown",
   "metadata": {},
   "source": [
    "### Plotly plots and saving to a pdf for all datasets by torsion id\n",
    "\n",
    "`tids = ['t43', 't69', 't69a', 't72', 't74', 't96', 't97']\n",
    "for iid in tids:\n",
    "    tmp = plot_tid_for_datasets(TD_working_oeb, t_id=iid)\n",
    "    tmp.write_image(folder_name+\"fig_\"+str(iid)+\".pdf\")`"
   ]
  },
  {
   "cell_type": "code",
   "execution_count": 18,
   "metadata": {},
   "outputs": [
    {
     "name": "stdout",
     "output_type": "stream",
     "text": [
      "tid:  t43 r_value:  0.82272786065585 slope:  516.1768094538851 intercept:  -493.1300638906191\n"
     ]
    },
    {
     "data": {
      "application/vnd.plotly.v1+json": {
       "config": {
        "plotlyServerURL": "https://plot.ly"
       },
       "data": [
        {
         "marker": {
          "color": "#ebce2b",
          "size": 10,
          "symbol": 0
         },
         "mode": "markers",
         "name": "Fragment Stability Benchmark.oeb",
         "type": "scatter",
         "x": [],
         "y": []
        },
        {
         "marker": {
          "color": "#702c8c",
          "size": 10,
          "symbol": 1
         },
         "mode": "markers",
         "name": "Fragment Stability Benchmark.oeb",
         "type": "scatter",
         "x": [],
         "y": []
        },
        {
         "marker": {
          "color": "#db6917",
          "size": 10,
          "symbol": 2
         },
         "mode": "markers",
         "name": "Fragment Stability Benchmark.oeb",
         "type": "scatter",
         "x": [],
         "y": []
        },
        {
         "marker": {
          "color": "#96cde6",
          "size": 10,
          "symbol": 3
         },
         "mode": "markers",
         "name": "OpenFF Fragmenter Validation 1.0.oeb",
         "type": "scatter",
         "x": [],
         "y": []
        },
        {
         "marker": {
          "color": "#ba1c30",
          "size": 10,
          "symbol": 4
         },
         "mode": "markers",
         "name": "OpenFF Full TorsionDrive Benchmark 1.oeb",
         "type": "scatter",
         "x": [
          1.0022034965718416
         ],
         "y": [
          18.02044148166806
         ]
        },
        {
         "marker": {
          "color": "#c0bd7f",
          "size": 10,
          "symbol": 5
         },
         "mode": "markers",
         "name": "OpenFF Gen 2 Torsion Set 1 Roche.oeb",
         "type": "scatter",
         "x": [
          0.9859526302341831
         ],
         "y": [
          26.177169245635923
         ]
        },
        {
         "marker": {
          "color": "#7f7e80",
          "size": 10,
          "symbol": 6
         },
         "mode": "markers",
         "name": "OpenFF Gen 2 Torsion Set 1 Roche 2.oeb",
         "type": "scatter",
         "x": [
          0.9742941098592591,
          0.9859526302341831,
          1.0057309126744778
         ],
         "y": [
          29.69792994774724,
          26.177169245635923,
          14.730011007811981
         ]
        },
        {
         "marker": {
          "color": "#5fa641",
          "size": 10,
          "symbol": 7
         },
         "mode": "markers",
         "name": "OpenFF Gen 2 Torsion Set 2 Coverage.oeb",
         "type": "scatter",
         "x": [
          1.0293209689885512
         ],
         "y": [
          57.02044268746346
         ]
        },
        {
         "marker": {
          "color": "#d485b2",
          "size": 10,
          "symbol": 8
         },
         "mode": "markers",
         "name": "OpenFF Gen 2 Torsion Set 2 Coverage 2.oeb",
         "type": "scatter",
         "x": [
          1.0293209689885512,
          1.0156812374071735
         ],
         "y": [
          57.02044268746346,
          17.462352068576138
         ]
        },
        {
         "marker": {
          "color": "#4277b6",
          "size": 10,
          "symbol": 9
         },
         "mode": "markers",
         "name": "OpenFF Gen 2 Torsion Set 3 Pfizer Discrepancy.oeb",
         "type": "scatter",
         "x": [],
         "y": []
        },
        {
         "marker": {
          "color": "#df8461",
          "size": 10,
          "symbol": 10
         },
         "mode": "markers",
         "name": "OpenFF Gen 2 Torsion Set 3 Pfizer Discrepancy 2.oeb",
         "type": "scatter",
         "x": [
          0.9918250784943227,
          1.0022034965718416
         ],
         "y": [
          22.97733416230352,
          18.02044148166806
         ]
        },
        {
         "marker": {
          "color": "#463397",
          "size": 10,
          "symbol": 11
         },
         "mode": "markers",
         "name": "OpenFF Gen 2 Torsion Set 4 eMolecules Discrepancy.oeb",
         "type": "scatter",
         "x": [
          1.0030386814908048
         ],
         "y": [
          6.715612781818777
         ]
        },
        {
         "marker": {
          "color": "#e1a11a",
          "size": 10,
          "symbol": 12
         },
         "mode": "markers",
         "name": "OpenFF Gen 2 Torsion Set 4 eMolecules Discrepancy 2.oeb",
         "type": "scatter",
         "x": [
          1.0030386814908048,
          1.0314915876508872,
          0.9745325923257555,
          0.9906129768404315,
          1.000948497329776
         ],
         "y": [
          6.715612781818777,
          15.123819781781322,
          13.472346724619229,
          16.75407512030324,
          23.760419622518953
         ]
        },
        {
         "marker": {
          "color": "#91218c",
          "size": 10,
          "symbol": 13
         },
         "mode": "markers",
         "name": "OpenFF Gen 2 Torsion Set 5 Bayer.oeb",
         "type": "scatter",
         "x": [],
         "y": []
        },
        {
         "marker": {
          "color": "#e8e948",
          "size": 10,
          "symbol": 14
         },
         "mode": "markers",
         "name": "OpenFF Gen 2 Torsion Set 5 Bayer 2.oeb",
         "type": "scatter",
         "x": [
          0.9719053468659663,
          1.013595972431051
         ],
         "y": [
          27.002426981925055,
          9.813837093048903
         ]
        },
        {
         "marker": {
          "color": "#7e1510",
          "size": 10,
          "symbol": 15
         },
         "mode": "markers",
         "name": "OpenFF Gen 2 Torsion Set 6 Supplemental.oeb",
         "type": "scatter",
         "x": [],
         "y": []
        },
        {
         "marker": {
          "color": "#92ae31",
          "size": 10,
          "symbol": 16
         },
         "mode": "markers",
         "name": "OpenFF Gen 2 Torsion Set 6 Supplemental 2.oeb",
         "type": "scatter",
         "x": [],
         "y": []
        },
        {
         "marker": {
          "color": "#6f340d",
          "size": 10,
          "symbol": 17
         },
         "mode": "markers",
         "name": "OpenFF Group1 Torsions.oeb",
         "type": "scatter",
         "x": [
          0.9744219783964626,
          0.9929376467094047,
          0.9858324203573934,
          0.9893186832121318,
          1.0132844605735198,
          0.9849189890399477,
          0.9940393761801845,
          1.0296700725183379,
          1.0220845797037248,
          1.0023364341009633,
          1.0229125922685873,
          0.9859998098368472,
          0.9847303413967741,
          0.9859526302341831,
          0.9848832731957902,
          0.9859075153695384,
          0.9650617308427887,
          0.9855495112054936,
          0.965388346801862,
          0.9858646931855853,
          0.9697630469306854,
          0.9846069299766018,
          0.9850885050176779,
          0.9861519173472741,
          0.9735689130752055,
          0.9737061127618991,
          0.9858776899796651,
          0.985753336687416,
          1.0057309126744778,
          1.001668101657645,
          0.986148422369342,
          0.9861535254177639,
          0.9789654533379433,
          0.9768464819474001,
          0.9742941098592591,
          0.9857384213648355,
          1.0122823570163055,
          0.9945073364301483,
          1.0049640560793711
         ],
         "y": [
          4.348527175023321,
          12.68037308424698,
          30.08777988582736,
          33.684877906303996,
          9.423810431077726,
          16.04184724195858,
          31.834985723770444,
          20.530549756182268,
          20.530222945481512,
          13.257644416421186,
          18.93566811591441,
          29.41407003975695,
          29.412890791710197,
          26.17710281933779,
          75.58415189063379,
          32.40833446595923,
          10.315583766030954,
          38.19168100099256,
          33.29860990497781,
          29.365355174928425,
          24.308234291511383,
          42.34673731213195,
          26.78023585400365,
          36.01830099517787,
          23.558664859149587,
          16.008702372183734,
          31.184075228004588,
          43.59792027415534,
          14.731481242713187,
          22.59114970896013,
          26.756522633257816,
          22.69199897740691,
          11.068132823131748,
          66.83419158512135,
          29.6979718412818,
          29.867899764621257,
          14.280679259828844,
          11.32130733529371,
          33.73806110862304
         ]
        },
        {
         "marker": {
          "color": "#d32b1e",
          "size": 10,
          "symbol": 18
         },
         "mode": "markers",
         "name": "OpenFF Group1 Torsions 2.oeb",
         "type": "scatter",
         "x": [],
         "y": []
        },
        {
         "marker": {
          "color": "#2b3514",
          "size": 10,
          "symbol": 19
         },
         "mode": "markers",
         "name": "OpenFF Group1 Torsions 3.oeb",
         "type": "scatter",
         "x": [],
         "y": []
        },
        {
         "marker": {
          "color": "#ebce2b",
          "size": 10,
          "symbol": 20
         },
         "mode": "markers",
         "name": "OpenFF Primary Benchmark 1 Torsion Set.oeb",
         "type": "scatter",
         "x": [
          1.170339377315593,
          1.170339377315593,
          1.170339377315593,
          1.170339377315593,
          0.9865579101781908
         ],
         "y": [
          143.2186003425296,
          132.93824413764304,
          158.51389093673492,
          156.02654793705364,
          11.903541015049768
         ]
        },
        {
         "marker": {
          "color": "#702c8c",
          "size": 10,
          "symbol": 21
         },
         "mode": "markers",
         "name": "OpenFF Primary Benchmark 1 Torsion Set.oeb",
         "type": "scatter",
         "x": [
          1.170339377315593,
          1.170339377315593,
          1.170339377315593,
          1.170339377315593,
          0.9865579101781908
         ],
         "y": [
          143.2186003425296,
          132.93824413764304,
          158.51389093673492,
          156.02654793705364,
          11.903541015049768
         ]
        },
        {
         "marker": {
          "color": "#db6917",
          "size": 10,
          "symbol": 22
         },
         "mode": "markers",
         "name": "OpenFF Primary TorsionDrive Benchmark 1.oeb",
         "type": "scatter",
         "x": [],
         "y": []
        },
        {
         "marker": {
          "color": "#96cde6",
          "size": 10,
          "symbol": 23
         },
         "mode": "markers",
         "name": "OpenFF Rowley Biaryl v1.0.oeb",
         "type": "scatter",
         "x": [
          0.9863234923804013,
          0.9972224217858636,
          1.01344135585542,
          0.9744219783964626,
          1.0193912542694632,
          1.0172583457563795,
          1.0040448425725212,
          0.9769619140617902,
          1.0113469814606013,
          1.0034542141727396,
          0.9945073364347294,
          1.0164644442595798,
          1.0032836676503005,
          1.0040584894693825,
          1.0145556500847204,
          1.017638651631391,
          1.0148368674596648,
          1.0071637775342022,
          1.0139444765524253,
          1.020201613797514,
          1.0234698138193303,
          0.9848230677554928,
          0.9872051885760869,
          1.0132844605735198,
          1.0179805933583248,
          1.016502669640316,
          0.9940393761801845,
          1.0121731287147113,
          1.019634827272069,
          0.9776066764068829,
          1.0125810580380925,
          0.9869067977099897,
          1.0176990114603686,
          0.9871034298309523,
          1.0122823570456962,
          1.0057057330964803,
          1.017403488916144,
          1.0136150936967916,
          1.0083629212302128,
          0.9929376467000168,
          0.9932349223074272,
          0.9848278017980632,
          0.9938666750993261,
          0.9825452859311917,
          0.9859855763523928,
          1.0023724923350976,
          0.9919892422063812,
          1.0130608566772608,
          1.0129105047849618,
          1.0012589793507196,
          0.9776677036467054,
          0.9856731850215045,
          1.0131912092378783,
          0.985233046617773,
          0.9782931544198394
         ],
         "y": [
          18.538413653947373,
          34.85908881637974,
          35.604475321961814,
          4.330875387934782,
          39.81721078290332,
          56.19024626119864,
          36.086573323401495,
          10.406384328434285,
          35.108934671207635,
          9.21951119842629,
          11.358366051986678,
          24.326087734925693,
          10.559369986020158,
          10.953329423770299,
          28.537743671141868,
          20.786553810153833,
          18.795948167648987,
          10.654565402092203,
          9.135717514887574,
          10.589220754343842,
          26.51219849770598,
          44.188387415287366,
          9.900555279244543,
          9.384843033530274,
          10.74986524918782,
          9.288477430365077,
          31.84914223006075,
          18.62945117969636,
          12.187032407596377,
          24.924188609998566,
          18.75779546479174,
          18.55313722015393,
          10.653667698035008,
          20.276737596778673,
          14.30646403562585,
          10.914258037553736,
          10.264115478387623,
          21.21983897778793,
          17.89705790980105,
          12.695801667652972,
          25.20982703037157,
          17.987763198395754,
          11.335416355489144,
          39.86858770435168,
          17.180303981334276,
          12.457470837500011,
          17.4792808762474,
          9.713402322374293,
          8.684116137792728,
          10.812462402775566,
          43.09690869220799,
          20.105533196956173,
          8.99499057146275,
          17.169044439941672,
          9.55929299222214
         ]
        },
        {
         "marker": {
          "color": "#ba1c30",
          "size": 10,
          "symbol": 24
         },
         "mode": "markers",
         "name": "OpenFF Substituted Phenyl Set 1.oeb",
         "type": "scatter",
         "x": [
          1.062026267241307,
          1.3076879309377214,
          1.0149203866451806,
          1.07074792249344,
          1.0178524126209756,
          0.9971204917933197,
          1.181643184177145,
          1.0190255729301791,
          1.0130608566772608,
          0.9966894200148321,
          0.9885241423224714,
          0.9850347046310919,
          1.0018519993046666,
          0.9887590462107843,
          0.9848250571607208
         ],
         "y": [
          33.734547421909326,
          102.95749054200638,
          11.215804915930505,
          43.37258588616203,
          30.620957539502285,
          8.628142323692373,
          94.31082086100957,
          35.66499253203102,
          9.651716543447236,
          9.534832998045317,
          17.450100297619088,
          25.26090713078173,
          75.16545623610415,
          22.281307543007642,
          27.022141447873253
         ]
        },
        {
         "marker": {
          "color": "#c0bd7f",
          "size": 10,
          "symbol": 25
         },
         "mode": "markers",
         "name": "OpenFF-benchmark-ligand-fragments-v1.0.oeb",
         "type": "scatter",
         "x": [
          0.9958149208860455,
          0.9961362692835807,
          0.998521207373285,
          0.9962645379757042,
          0.9987104464082163,
          0.9968575131729203,
          0.9954118126706245,
          1.0057057329486638,
          1.0132844605735198,
          1.0129101594313654,
          0.985231031406067,
          1.0130608566772608,
          1.0125719889321836,
          1.013015886822379,
          1.0131912092378783,
          1.0131488685255148,
          1.0128405294423217,
          1.0132374685276717,
          0.9848278017980632,
          0.9789930413384373
         ],
         "y": [
          10.253544374707417,
          9.606407834693528,
          15.79464759584971,
          7.60824753567465,
          14.45236306861284,
          9.512438528482164,
          10.374221193647827,
          10.911001952021195,
          9.390329700990947,
          9.402363117487482,
          17.84265398557031,
          9.712612326703692,
          9.403545774230565,
          8.989199655916025,
          8.991152472970555,
          9.442254090112272,
          9.051151807298368,
          9.066817507321957,
          17.987152125255193,
          53.40570989099433
         ]
        },
        {
         "marker": {
          "color": "#7f7e80",
          "size": 10,
          "symbol": 26
         },
         "mode": "markers",
         "name": "Pfizer Discrepancy Torsion Dataset 1.oeb",
         "type": "scatter",
         "x": [
          1.0022034965718416
         ],
         "y": [
          18.02044148166806
         ]
        },
        {
         "marker": {
          "color": "#5fa641",
          "size": 10,
          "symbol": 27
         },
         "mode": "markers",
         "name": "SMIRNOFF Coverage Torsion Set 1.oeb",
         "type": "scatter",
         "x": [
          1.227478201718001,
          1.227478201718001,
          1.227478201718001,
          1.227478201718001,
          1.0293209689885512
         ],
         "y": [
          191.21818082724053,
          155.82748185604305,
          187.17797229806183,
          149.37347935806815,
          57.02044268746346
         ]
        },
        {
         "marker": {
          "color": "#d485b2",
          "size": 10,
          "symbol": 28
         },
         "mode": "markers",
         "name": "TorsionDrive Paper.oeb",
         "type": "scatter",
         "x": [],
         "y": []
        },
        {
         "mode": "lines",
         "showlegend": false,
         "type": "scatter",
         "x": [
          0.9650617308427887,
          0.965388346801862,
          0.9697630469306854,
          0.9719053468659663,
          0.9735689130752055,
          0.9737061127618991,
          0.9742941098592591,
          0.9744219783964626,
          0.9745325923257555,
          0.9768464819474001,
          0.9769619140617902,
          0.9776066764068829,
          0.9776677036467054,
          0.9782931544198394,
          0.9789654533379433,
          0.9789930413384373,
          0.9825452859311917,
          0.9846069299766018,
          0.9847303413967741,
          0.9848230677554928,
          0.9848250571607208,
          0.9848278017980632,
          0.9848832731957902,
          0.9849189890399477,
          0.9850347046310919,
          0.9850885050176779,
          0.985231031406067,
          0.985233046617773,
          0.9855495112054936,
          0.9856731850215045,
          0.9857384213648355,
          0.985753336687416,
          0.9858324203573934,
          0.9858646931855853,
          0.9858776899796651,
          0.9859075153695384,
          0.9859526302341831,
          0.9859855763523928,
          0.9859998098368472,
          0.986148422369342,
          0.9861519173472741,
          0.9861535254177639,
          0.9863234923804013,
          0.9865579101781908,
          0.9869067977099897,
          0.9871034298309523,
          0.9872051885760869,
          0.9885241423224714,
          0.9887590462107843,
          0.9893186832121318,
          0.9906129768404315,
          0.9918250784943227,
          0.9919892422063812,
          0.9929376467000168,
          0.9929376467094047,
          0.9932349223074272,
          0.9938666750993261,
          0.9940393761801845,
          0.9945073364301483,
          0.9945073364347294,
          0.9954118126706245,
          0.9958149208860455,
          0.9961362692835807,
          0.9962645379757042,
          0.9966894200148321,
          0.9968575131729203,
          0.9971204917933197,
          0.9972224217858636,
          0.998521207373285,
          0.9987104464082163,
          1.000948497329776,
          1.0012589793507196,
          1.001668101657645,
          1.0018519993046666,
          1.0022034965718416,
          1.0023364341009633,
          1.0023724923350976,
          1.0030386814908048,
          1.0032836676503005,
          1.0034542141727396,
          1.0040448425725212,
          1.0040584894693825,
          1.0049640560793711,
          1.0057057329486638,
          1.0057057330964803,
          1.0057309126744778,
          1.0071637775342022,
          1.0083629212302128,
          1.0113469814606013,
          1.0121731287147113,
          1.0122823570163055,
          1.0122823570456962,
          1.0125719889321836,
          1.0125810580380925,
          1.0128405294423217,
          1.0129101594313654,
          1.0129105047849618,
          1.013015886822379,
          1.0130608566772608,
          1.0131488685255148,
          1.0131912092378783,
          1.0132374685276717,
          1.0132844605735198,
          1.01344135585542,
          1.013595972431051,
          1.0136150936967916,
          1.0139444765524253,
          1.0145556500847204,
          1.0148368674596648,
          1.0149203866451806,
          1.0156812374071735,
          1.0164644442595798,
          1.016502669640316,
          1.0172583457563795,
          1.017403488916144,
          1.017638651631391,
          1.0176990114603686,
          1.0178524126209756,
          1.0179805933583248,
          1.0190255729301791,
          1.0193912542694632,
          1.019634827272069,
          1.020201613797514,
          1.0220845797037248,
          1.0229125922685873,
          1.0234698138193303,
          1.0293209689885512,
          1.0296700725183379,
          1.0314915876508872,
          1.062026267241307,
          1.07074792249344,
          1.170339377315593,
          1.181643184177145,
          1.227478201718001,
          1.3076879309377214
         ],
         "y": [
          5.012421261855536,
          5.181012845526766,
          7.439131600340318,
          8.54493714582685,
          9.403631444027269,
          9.474450740562816,
          9.777961206246289,
          9.843963979809473,
          9.90106032491309,
          11.095436487242011,
          11.155019867756437,
          11.487831237902412,
          11.519332083843722,
          11.84217526839052,
          12.189200378936675,
          12.20344066501093,
          14.037026945298692,
          15.101199790888074,
          15.164901904002761,
          15.212765099998421,
          15.213791984841748,
          15.215208702988264,
          15.243841752082915,
          15.262277442567097,
          15.322007147207955,
          15.349777659103324,
          15.423346475525022,
          15.42438668107377,
          15.587738362268567,
          15.651575918030005,
          15.685249405591037,
          15.692948349212656,
          15.733769505661485,
          15.75042799114965,
          15.757136634850838,
          15.772531809436373,
          15.795819056327616,
          15.812825078509036,
          15.820172073102071,
          15.896882415970083,
          15.89868644252823,
          15.89951649122304,
          15.987249495709762,
          16.108250526652,
          16.288338179674156,
          16.389835120508792,
          16.44236062490637,
          17.123173961532416,
          17.24442590113,
          17.53329754293793,
          18.201381898490183,
          18.827040662929505,
          18.911778164047973,
          19.40132256964455,
          19.401322574490337,
          19.55476934420608,
          19.880865484692094,
          19.97000977759876,
          20.211560006376317,
          20.211560008741003,
          20.67842966641217,
          20.88650477891281,
          21.05237736947572,
          21.118586693728844,
          21.337900949080108,
          21.424666739113036,
          21.56041020434543,
          21.61302410268445,
          22.28342710336426,
          22.381107904639293,
          23.536337888725257,
          23.696601507688797,
          23.90778095475389,
          24.002704655459638,
          24.18413939336176,
          24.252758663000463,
          24.271371087250486,
          24.615242480136203,
          24.741698654305083,
          24.82973081412115,
          25.134599497093177,
          25.14164370877404,
          25.60907619226589,
          25.99191259230315,
          25.991912668602595,
          26.004909782836762,
          26.744521394507842,
          27.36349156159133,
          28.90379425053152,
          29.33023230429717,
          29.38661342051614,
          29.386613435686854,
          29.536114698770007,
          29.540795960922765,
          29.674729082502267,
          29.71067046808912,
          29.71084873160669,
          29.765244495454453,
          29.788456891668943,
          29.833886566694787,
          29.85574186051258,
          29.87961983312573,
          29.903876037421355,
          29.984861743451006,
          30.064671234148932,
          30.07454118809153,
          30.244560979601374,
          30.560034583524157,
          30.70519247088589,
          30.748303137593666,
          31.1410366563897,
          31.545309870607184,
          31.565040925675817,
          31.95510341224599,
          32.03002294536725,
          32.15140848542592,
          32.18256482936681,
          32.261746951015425,
          32.32791087505382,
          32.86730509639801,
          33.05606132338653,
          33.18178805874072,
          33.47435011908635,
          34.446293452864666,
          34.87369433678316,
          35.161319179004636,
          38.181549785872676,
          38.36174893204702,
          39.30197280153834,
          55.063266290217825,
          59.5651824714206,
          110.97198187039021,
          116.80674483086909,
          140.465717946371,
          181.86812006216633
         ]
        }
       ],
       "layout": {
        "annotations": [
         {
          "font": {
           "color": "black",
           "family": "Times",
           "size": 18
          },
          "showarrow": false,
          "text": "slope: 516.18, r_val: 0.82",
          "x": 1,
          "xref": "paper",
          "y": 0.2,
          "yref": "paper"
         }
        ],
        "autosize": false,
        "dragmode": "select",
        "height": 800,
        "hovermode": false,
        "legend": {
         "font": {
          "color": "black",
          "family": "Rockwell",
          "size": 14
         },
         "orientation": "h",
         "y": -0.2
        },
        "margin": {
         "b": 40,
         "l": 40,
         "r": 10,
         "t": 40
        },
        "template": {
         "data": {
          "bar": [
           {
            "error_x": {
             "color": "#2a3f5f"
            },
            "error_y": {
             "color": "#2a3f5f"
            },
            "marker": {
             "line": {
              "color": "#E5ECF6",
              "width": 0.5
             }
            },
            "type": "bar"
           }
          ],
          "barpolar": [
           {
            "marker": {
             "line": {
              "color": "#E5ECF6",
              "width": 0.5
             }
            },
            "type": "barpolar"
           }
          ],
          "carpet": [
           {
            "aaxis": {
             "endlinecolor": "#2a3f5f",
             "gridcolor": "white",
             "linecolor": "white",
             "minorgridcolor": "white",
             "startlinecolor": "#2a3f5f"
            },
            "baxis": {
             "endlinecolor": "#2a3f5f",
             "gridcolor": "white",
             "linecolor": "white",
             "minorgridcolor": "white",
             "startlinecolor": "#2a3f5f"
            },
            "type": "carpet"
           }
          ],
          "choropleth": [
           {
            "colorbar": {
             "outlinewidth": 0,
             "ticks": ""
            },
            "type": "choropleth"
           }
          ],
          "contour": [
           {
            "colorbar": {
             "outlinewidth": 0,
             "ticks": ""
            },
            "colorscale": [
             [
              0,
              "#0d0887"
             ],
             [
              0.1111111111111111,
              "#46039f"
             ],
             [
              0.2222222222222222,
              "#7201a8"
             ],
             [
              0.3333333333333333,
              "#9c179e"
             ],
             [
              0.4444444444444444,
              "#bd3786"
             ],
             [
              0.5555555555555556,
              "#d8576b"
             ],
             [
              0.6666666666666666,
              "#ed7953"
             ],
             [
              0.7777777777777778,
              "#fb9f3a"
             ],
             [
              0.8888888888888888,
              "#fdca26"
             ],
             [
              1,
              "#f0f921"
             ]
            ],
            "type": "contour"
           }
          ],
          "contourcarpet": [
           {
            "colorbar": {
             "outlinewidth": 0,
             "ticks": ""
            },
            "type": "contourcarpet"
           }
          ],
          "heatmap": [
           {
            "colorbar": {
             "outlinewidth": 0,
             "ticks": ""
            },
            "colorscale": [
             [
              0,
              "#0d0887"
             ],
             [
              0.1111111111111111,
              "#46039f"
             ],
             [
              0.2222222222222222,
              "#7201a8"
             ],
             [
              0.3333333333333333,
              "#9c179e"
             ],
             [
              0.4444444444444444,
              "#bd3786"
             ],
             [
              0.5555555555555556,
              "#d8576b"
             ],
             [
              0.6666666666666666,
              "#ed7953"
             ],
             [
              0.7777777777777778,
              "#fb9f3a"
             ],
             [
              0.8888888888888888,
              "#fdca26"
             ],
             [
              1,
              "#f0f921"
             ]
            ],
            "type": "heatmap"
           }
          ],
          "heatmapgl": [
           {
            "colorbar": {
             "outlinewidth": 0,
             "ticks": ""
            },
            "colorscale": [
             [
              0,
              "#0d0887"
             ],
             [
              0.1111111111111111,
              "#46039f"
             ],
             [
              0.2222222222222222,
              "#7201a8"
             ],
             [
              0.3333333333333333,
              "#9c179e"
             ],
             [
              0.4444444444444444,
              "#bd3786"
             ],
             [
              0.5555555555555556,
              "#d8576b"
             ],
             [
              0.6666666666666666,
              "#ed7953"
             ],
             [
              0.7777777777777778,
              "#fb9f3a"
             ],
             [
              0.8888888888888888,
              "#fdca26"
             ],
             [
              1,
              "#f0f921"
             ]
            ],
            "type": "heatmapgl"
           }
          ],
          "histogram": [
           {
            "marker": {
             "colorbar": {
              "outlinewidth": 0,
              "ticks": ""
             }
            },
            "type": "histogram"
           }
          ],
          "histogram2d": [
           {
            "colorbar": {
             "outlinewidth": 0,
             "ticks": ""
            },
            "colorscale": [
             [
              0,
              "#0d0887"
             ],
             [
              0.1111111111111111,
              "#46039f"
             ],
             [
              0.2222222222222222,
              "#7201a8"
             ],
             [
              0.3333333333333333,
              "#9c179e"
             ],
             [
              0.4444444444444444,
              "#bd3786"
             ],
             [
              0.5555555555555556,
              "#d8576b"
             ],
             [
              0.6666666666666666,
              "#ed7953"
             ],
             [
              0.7777777777777778,
              "#fb9f3a"
             ],
             [
              0.8888888888888888,
              "#fdca26"
             ],
             [
              1,
              "#f0f921"
             ]
            ],
            "type": "histogram2d"
           }
          ],
          "histogram2dcontour": [
           {
            "colorbar": {
             "outlinewidth": 0,
             "ticks": ""
            },
            "colorscale": [
             [
              0,
              "#0d0887"
             ],
             [
              0.1111111111111111,
              "#46039f"
             ],
             [
              0.2222222222222222,
              "#7201a8"
             ],
             [
              0.3333333333333333,
              "#9c179e"
             ],
             [
              0.4444444444444444,
              "#bd3786"
             ],
             [
              0.5555555555555556,
              "#d8576b"
             ],
             [
              0.6666666666666666,
              "#ed7953"
             ],
             [
              0.7777777777777778,
              "#fb9f3a"
             ],
             [
              0.8888888888888888,
              "#fdca26"
             ],
             [
              1,
              "#f0f921"
             ]
            ],
            "type": "histogram2dcontour"
           }
          ],
          "mesh3d": [
           {
            "colorbar": {
             "outlinewidth": 0,
             "ticks": ""
            },
            "type": "mesh3d"
           }
          ],
          "parcoords": [
           {
            "line": {
             "colorbar": {
              "outlinewidth": 0,
              "ticks": ""
             }
            },
            "type": "parcoords"
           }
          ],
          "pie": [
           {
            "automargin": true,
            "type": "pie"
           }
          ],
          "scatter": [
           {
            "marker": {
             "colorbar": {
              "outlinewidth": 0,
              "ticks": ""
             }
            },
            "type": "scatter"
           }
          ],
          "scatter3d": [
           {
            "line": {
             "colorbar": {
              "outlinewidth": 0,
              "ticks": ""
             }
            },
            "marker": {
             "colorbar": {
              "outlinewidth": 0,
              "ticks": ""
             }
            },
            "type": "scatter3d"
           }
          ],
          "scattercarpet": [
           {
            "marker": {
             "colorbar": {
              "outlinewidth": 0,
              "ticks": ""
             }
            },
            "type": "scattercarpet"
           }
          ],
          "scattergeo": [
           {
            "marker": {
             "colorbar": {
              "outlinewidth": 0,
              "ticks": ""
             }
            },
            "type": "scattergeo"
           }
          ],
          "scattergl": [
           {
            "marker": {
             "colorbar": {
              "outlinewidth": 0,
              "ticks": ""
             }
            },
            "type": "scattergl"
           }
          ],
          "scattermapbox": [
           {
            "marker": {
             "colorbar": {
              "outlinewidth": 0,
              "ticks": ""
             }
            },
            "type": "scattermapbox"
           }
          ],
          "scatterpolar": [
           {
            "marker": {
             "colorbar": {
              "outlinewidth": 0,
              "ticks": ""
             }
            },
            "type": "scatterpolar"
           }
          ],
          "scatterpolargl": [
           {
            "marker": {
             "colorbar": {
              "outlinewidth": 0,
              "ticks": ""
             }
            },
            "type": "scatterpolargl"
           }
          ],
          "scatterternary": [
           {
            "marker": {
             "colorbar": {
              "outlinewidth": 0,
              "ticks": ""
             }
            },
            "type": "scatterternary"
           }
          ],
          "surface": [
           {
            "colorbar": {
             "outlinewidth": 0,
             "ticks": ""
            },
            "colorscale": [
             [
              0,
              "#0d0887"
             ],
             [
              0.1111111111111111,
              "#46039f"
             ],
             [
              0.2222222222222222,
              "#7201a8"
             ],
             [
              0.3333333333333333,
              "#9c179e"
             ],
             [
              0.4444444444444444,
              "#bd3786"
             ],
             [
              0.5555555555555556,
              "#d8576b"
             ],
             [
              0.6666666666666666,
              "#ed7953"
             ],
             [
              0.7777777777777778,
              "#fb9f3a"
             ],
             [
              0.8888888888888888,
              "#fdca26"
             ],
             [
              1,
              "#f0f921"
             ]
            ],
            "type": "surface"
           }
          ],
          "table": [
           {
            "cells": {
             "fill": {
              "color": "#EBF0F8"
             },
             "line": {
              "color": "white"
             }
            },
            "header": {
             "fill": {
              "color": "#C8D4E3"
             },
             "line": {
              "color": "white"
             }
            },
            "type": "table"
           }
          ]
         },
         "layout": {
          "annotationdefaults": {
           "arrowcolor": "#2a3f5f",
           "arrowhead": 0,
           "arrowwidth": 1
          },
          "coloraxis": {
           "colorbar": {
            "outlinewidth": 0,
            "ticks": ""
           }
          },
          "colorscale": {
           "diverging": [
            [
             0,
             "#8e0152"
            ],
            [
             0.1,
             "#c51b7d"
            ],
            [
             0.2,
             "#de77ae"
            ],
            [
             0.3,
             "#f1b6da"
            ],
            [
             0.4,
             "#fde0ef"
            ],
            [
             0.5,
             "#f7f7f7"
            ],
            [
             0.6,
             "#e6f5d0"
            ],
            [
             0.7,
             "#b8e186"
            ],
            [
             0.8,
             "#7fbc41"
            ],
            [
             0.9,
             "#4d9221"
            ],
            [
             1,
             "#276419"
            ]
           ],
           "sequential": [
            [
             0,
             "#0d0887"
            ],
            [
             0.1111111111111111,
             "#46039f"
            ],
            [
             0.2222222222222222,
             "#7201a8"
            ],
            [
             0.3333333333333333,
             "#9c179e"
            ],
            [
             0.4444444444444444,
             "#bd3786"
            ],
            [
             0.5555555555555556,
             "#d8576b"
            ],
            [
             0.6666666666666666,
             "#ed7953"
            ],
            [
             0.7777777777777778,
             "#fb9f3a"
            ],
            [
             0.8888888888888888,
             "#fdca26"
            ],
            [
             1,
             "#f0f921"
            ]
           ],
           "sequentialminus": [
            [
             0,
             "#0d0887"
            ],
            [
             0.1111111111111111,
             "#46039f"
            ],
            [
             0.2222222222222222,
             "#7201a8"
            ],
            [
             0.3333333333333333,
             "#9c179e"
            ],
            [
             0.4444444444444444,
             "#bd3786"
            ],
            [
             0.5555555555555556,
             "#d8576b"
            ],
            [
             0.6666666666666666,
             "#ed7953"
            ],
            [
             0.7777777777777778,
             "#fb9f3a"
            ],
            [
             0.8888888888888888,
             "#fdca26"
            ],
            [
             1,
             "#f0f921"
            ]
           ]
          },
          "colorway": [
           "#636efa",
           "#EF553B",
           "#00cc96",
           "#ab63fa",
           "#FFA15A",
           "#19d3f3",
           "#FF6692",
           "#B6E880",
           "#FF97FF",
           "#FECB52"
          ],
          "font": {
           "color": "#2a3f5f"
          },
          "geo": {
           "bgcolor": "white",
           "lakecolor": "white",
           "landcolor": "#E5ECF6",
           "showlakes": true,
           "showland": true,
           "subunitcolor": "white"
          },
          "hoverlabel": {
           "align": "left"
          },
          "hovermode": "closest",
          "mapbox": {
           "style": "light"
          },
          "paper_bgcolor": "white",
          "plot_bgcolor": "#E5ECF6",
          "polar": {
           "angularaxis": {
            "gridcolor": "white",
            "linecolor": "white",
            "ticks": ""
           },
           "bgcolor": "#E5ECF6",
           "radialaxis": {
            "gridcolor": "white",
            "linecolor": "white",
            "ticks": ""
           }
          },
          "scene": {
           "xaxis": {
            "backgroundcolor": "#E5ECF6",
            "gridcolor": "white",
            "gridwidth": 2,
            "linecolor": "white",
            "showbackground": true,
            "ticks": "",
            "zerolinecolor": "white"
           },
           "yaxis": {
            "backgroundcolor": "#E5ECF6",
            "gridcolor": "white",
            "gridwidth": 2,
            "linecolor": "white",
            "showbackground": true,
            "ticks": "",
            "zerolinecolor": "white"
           },
           "zaxis": {
            "backgroundcolor": "#E5ECF6",
            "gridcolor": "white",
            "gridwidth": 2,
            "linecolor": "white",
            "showbackground": true,
            "ticks": "",
            "zerolinecolor": "white"
           }
          },
          "shapedefaults": {
           "line": {
            "color": "#2a3f5f"
           }
          },
          "ternary": {
           "aaxis": {
            "gridcolor": "white",
            "linecolor": "white",
            "ticks": ""
           },
           "baxis": {
            "gridcolor": "white",
            "linecolor": "white",
            "ticks": ""
           },
           "bgcolor": "#E5ECF6",
           "caxis": {
            "gridcolor": "white",
            "linecolor": "white",
            "ticks": ""
           }
          },
          "title": {
           "x": 0.05
          },
          "xaxis": {
           "automargin": true,
           "gridcolor": "white",
           "linecolor": "white",
           "ticks": "",
           "title": {
            "standoff": 15
           },
           "zerolinecolor": "white",
           "zerolinewidth": 2
          },
          "yaxis": {
           "automargin": true,
           "gridcolor": "white",
           "linecolor": "white",
           "ticks": "",
           "title": {
            "standoff": 15
           },
           "zerolinecolor": "white",
           "zerolinewidth": 2
          }
         }
        },
        "title": {
         "text": "t43",
         "x": 0.5,
         "xanchor": "center",
         "yanchor": "top"
        },
        "width": 900,
        "xaxis": {
         "gridcolor": "black",
         "gridwidth": 1,
         "linecolor": "black",
         "linewidth": 2,
         "mirror": true,
         "showgrid": false,
         "showline": true,
         "tickcolor": "black",
         "tickfont": {
          "color": "black",
          "family": "Rockwell",
          "size": 14
         },
         "ticklen": 10,
         "ticks": "outside",
         "tickwidth": 2,
         "title": {
          "font": {
           "color": "black",
           "family": "Rockwell",
           "size": 18
          },
          "text": "Wiberg Bond Order"
         }
        },
        "yaxis": {
         "gridcolor": "black",
         "gridwidth": 1,
         "linecolor": "black",
         "linewidth": 2,
         "mirror": true,
         "showgrid": false,
         "showline": true,
         "tickcolor": "black",
         "tickfont": {
          "color": "black",
          "family": "Rockwell",
          "size": 14
         },
         "ticklen": 10,
         "ticks": "outside",
         "tickwidth": 2,
         "title": {
          "font": {
           "color": "black",
           "family": "Rockwell",
           "size": 18
          },
          "text": "Torsion barrier in KJ/mol"
         }
        }
       }
      },
      "text/html": [
       "<div>                            <div id=\"5426ad7a-1b03-4940-a9ea-c9962dbbdb46\" class=\"plotly-graph-div\" style=\"height:800px; width:900px;\"></div>            <script type=\"text/javascript\">                require([\"plotly\"], function(Plotly) {                    window.PLOTLYENV=window.PLOTLYENV || {};                                    if (document.getElementById(\"5426ad7a-1b03-4940-a9ea-c9962dbbdb46\")) {                    Plotly.newPlot(                        \"5426ad7a-1b03-4940-a9ea-c9962dbbdb46\",                        [{\"marker\": {\"color\": \"#ebce2b\", \"size\": 10, \"symbol\": 0}, \"mode\": \"markers\", \"name\": \"Fragment Stability Benchmark.oeb\", \"type\": \"scatter\", \"x\": [], \"y\": []}, {\"marker\": {\"color\": \"#702c8c\", \"size\": 10, \"symbol\": 1}, \"mode\": \"markers\", \"name\": \"Fragment Stability Benchmark.oeb\", \"type\": \"scatter\", \"x\": [], \"y\": []}, {\"marker\": {\"color\": \"#db6917\", \"size\": 10, \"symbol\": 2}, \"mode\": \"markers\", \"name\": \"Fragment Stability Benchmark.oeb\", \"type\": \"scatter\", \"x\": [], \"y\": []}, {\"marker\": {\"color\": \"#96cde6\", \"size\": 10, \"symbol\": 3}, \"mode\": \"markers\", \"name\": \"OpenFF Fragmenter Validation 1.0.oeb\", \"type\": \"scatter\", \"x\": [], \"y\": []}, {\"marker\": {\"color\": \"#ba1c30\", \"size\": 10, \"symbol\": 4}, \"mode\": \"markers\", \"name\": \"OpenFF Full TorsionDrive Benchmark 1.oeb\", \"type\": \"scatter\", \"x\": [1.0022034965718416], \"y\": [18.02044148166806]}, {\"marker\": {\"color\": \"#c0bd7f\", \"size\": 10, \"symbol\": 5}, \"mode\": \"markers\", \"name\": \"OpenFF Gen 2 Torsion Set 1 Roche.oeb\", \"type\": \"scatter\", \"x\": [0.9859526302341831], \"y\": [26.177169245635923]}, {\"marker\": {\"color\": \"#7f7e80\", \"size\": 10, \"symbol\": 6}, \"mode\": \"markers\", \"name\": \"OpenFF Gen 2 Torsion Set 1 Roche 2.oeb\", \"type\": \"scatter\", \"x\": [0.9742941098592591, 0.9859526302341831, 1.0057309126744778], \"y\": [29.69792994774724, 26.177169245635923, 14.730011007811981]}, {\"marker\": {\"color\": \"#5fa641\", \"size\": 10, \"symbol\": 7}, \"mode\": \"markers\", \"name\": \"OpenFF Gen 2 Torsion Set 2 Coverage.oeb\", \"type\": \"scatter\", \"x\": [1.0293209689885512], \"y\": [57.02044268746346]}, {\"marker\": {\"color\": \"#d485b2\", \"size\": 10, \"symbol\": 8}, \"mode\": \"markers\", \"name\": \"OpenFF Gen 2 Torsion Set 2 Coverage 2.oeb\", \"type\": \"scatter\", \"x\": [1.0293209689885512, 1.0156812374071735], \"y\": [57.02044268746346, 17.462352068576138]}, {\"marker\": {\"color\": \"#4277b6\", \"size\": 10, \"symbol\": 9}, \"mode\": \"markers\", \"name\": \"OpenFF Gen 2 Torsion Set 3 Pfizer Discrepancy.oeb\", \"type\": \"scatter\", \"x\": [], \"y\": []}, {\"marker\": {\"color\": \"#df8461\", \"size\": 10, \"symbol\": 10}, \"mode\": \"markers\", \"name\": \"OpenFF Gen 2 Torsion Set 3 Pfizer Discrepancy 2.oeb\", \"type\": \"scatter\", \"x\": [0.9918250784943227, 1.0022034965718416], \"y\": [22.97733416230352, 18.02044148166806]}, {\"marker\": {\"color\": \"#463397\", \"size\": 10, \"symbol\": 11}, \"mode\": \"markers\", \"name\": \"OpenFF Gen 2 Torsion Set 4 eMolecules Discrepancy.oeb\", \"type\": \"scatter\", \"x\": [1.0030386814908048], \"y\": [6.715612781818777]}, {\"marker\": {\"color\": \"#e1a11a\", \"size\": 10, \"symbol\": 12}, \"mode\": \"markers\", \"name\": \"OpenFF Gen 2 Torsion Set 4 eMolecules Discrepancy 2.oeb\", \"type\": \"scatter\", \"x\": [1.0030386814908048, 1.0314915876508872, 0.9745325923257555, 0.9906129768404315, 1.000948497329776], \"y\": [6.715612781818777, 15.123819781781322, 13.472346724619229, 16.75407512030324, 23.760419622518953]}, {\"marker\": {\"color\": \"#91218c\", \"size\": 10, \"symbol\": 13}, \"mode\": \"markers\", \"name\": \"OpenFF Gen 2 Torsion Set 5 Bayer.oeb\", \"type\": \"scatter\", \"x\": [], \"y\": []}, {\"marker\": {\"color\": \"#e8e948\", \"size\": 10, \"symbol\": 14}, \"mode\": \"markers\", \"name\": \"OpenFF Gen 2 Torsion Set 5 Bayer 2.oeb\", \"type\": \"scatter\", \"x\": [0.9719053468659663, 1.013595972431051], \"y\": [27.002426981925055, 9.813837093048903]}, {\"marker\": {\"color\": \"#7e1510\", \"size\": 10, \"symbol\": 15}, \"mode\": \"markers\", \"name\": \"OpenFF Gen 2 Torsion Set 6 Supplemental.oeb\", \"type\": \"scatter\", \"x\": [], \"y\": []}, {\"marker\": {\"color\": \"#92ae31\", \"size\": 10, \"symbol\": 16}, \"mode\": \"markers\", \"name\": \"OpenFF Gen 2 Torsion Set 6 Supplemental 2.oeb\", \"type\": \"scatter\", \"x\": [], \"y\": []}, {\"marker\": {\"color\": \"#6f340d\", \"size\": 10, \"symbol\": 17}, \"mode\": \"markers\", \"name\": \"OpenFF Group1 Torsions.oeb\", \"type\": \"scatter\", \"x\": [0.9744219783964626, 0.9929376467094047, 0.9858324203573934, 0.9893186832121318, 1.0132844605735198, 0.9849189890399477, 0.9940393761801845, 1.0296700725183379, 1.0220845797037248, 1.0023364341009633, 1.0229125922685873, 0.9859998098368472, 0.9847303413967741, 0.9859526302341831, 0.9848832731957902, 0.9859075153695384, 0.9650617308427887, 0.9855495112054936, 0.965388346801862, 0.9858646931855853, 0.9697630469306854, 0.9846069299766018, 0.9850885050176779, 0.9861519173472741, 0.9735689130752055, 0.9737061127618991, 0.9858776899796651, 0.985753336687416, 1.0057309126744778, 1.001668101657645, 0.986148422369342, 0.9861535254177639, 0.9789654533379433, 0.9768464819474001, 0.9742941098592591, 0.9857384213648355, 1.0122823570163055, 0.9945073364301483, 1.0049640560793711], \"y\": [4.348527175023321, 12.68037308424698, 30.08777988582736, 33.684877906303996, 9.423810431077726, 16.04184724195858, 31.834985723770444, 20.530549756182268, 20.530222945481512, 13.257644416421186, 18.93566811591441, 29.41407003975695, 29.412890791710197, 26.17710281933779, 75.58415189063379, 32.40833446595923, 10.315583766030954, 38.19168100099256, 33.29860990497781, 29.365355174928425, 24.308234291511383, 42.34673731213195, 26.78023585400365, 36.01830099517787, 23.558664859149587, 16.008702372183734, 31.184075228004588, 43.59792027415534, 14.731481242713187, 22.59114970896013, 26.756522633257816, 22.69199897740691, 11.068132823131748, 66.83419158512135, 29.6979718412818, 29.867899764621257, 14.280679259828844, 11.32130733529371, 33.73806110862304]}, {\"marker\": {\"color\": \"#d32b1e\", \"size\": 10, \"symbol\": 18}, \"mode\": \"markers\", \"name\": \"OpenFF Group1 Torsions 2.oeb\", \"type\": \"scatter\", \"x\": [], \"y\": []}, {\"marker\": {\"color\": \"#2b3514\", \"size\": 10, \"symbol\": 19}, \"mode\": \"markers\", \"name\": \"OpenFF Group1 Torsions 3.oeb\", \"type\": \"scatter\", \"x\": [], \"y\": []}, {\"marker\": {\"color\": \"#ebce2b\", \"size\": 10, \"symbol\": 20}, \"mode\": \"markers\", \"name\": \"OpenFF Primary Benchmark 1 Torsion Set.oeb\", \"type\": \"scatter\", \"x\": [1.170339377315593, 1.170339377315593, 1.170339377315593, 1.170339377315593, 0.9865579101781908], \"y\": [143.2186003425296, 132.93824413764304, 158.51389093673492, 156.02654793705364, 11.903541015049768]}, {\"marker\": {\"color\": \"#702c8c\", \"size\": 10, \"symbol\": 21}, \"mode\": \"markers\", \"name\": \"OpenFF Primary Benchmark 1 Torsion Set.oeb\", \"type\": \"scatter\", \"x\": [1.170339377315593, 1.170339377315593, 1.170339377315593, 1.170339377315593, 0.9865579101781908], \"y\": [143.2186003425296, 132.93824413764304, 158.51389093673492, 156.02654793705364, 11.903541015049768]}, {\"marker\": {\"color\": \"#db6917\", \"size\": 10, \"symbol\": 22}, \"mode\": \"markers\", \"name\": \"OpenFF Primary TorsionDrive Benchmark 1.oeb\", \"type\": \"scatter\", \"x\": [], \"y\": []}, {\"marker\": {\"color\": \"#96cde6\", \"size\": 10, \"symbol\": 23}, \"mode\": \"markers\", \"name\": \"OpenFF Rowley Biaryl v1.0.oeb\", \"type\": \"scatter\", \"x\": [0.9863234923804013, 0.9972224217858636, 1.01344135585542, 0.9744219783964626, 1.0193912542694632, 1.0172583457563795, 1.0040448425725212, 0.9769619140617902, 1.0113469814606013, 1.0034542141727396, 0.9945073364347294, 1.0164644442595798, 1.0032836676503005, 1.0040584894693825, 1.0145556500847204, 1.017638651631391, 1.0148368674596648, 1.0071637775342022, 1.0139444765524253, 1.020201613797514, 1.0234698138193303, 0.9848230677554928, 0.9872051885760869, 1.0132844605735198, 1.0179805933583248, 1.016502669640316, 0.9940393761801845, 1.0121731287147113, 1.019634827272069, 0.9776066764068829, 1.0125810580380925, 0.9869067977099897, 1.0176990114603686, 0.9871034298309523, 1.0122823570456962, 1.0057057330964803, 1.017403488916144, 1.0136150936967916, 1.0083629212302128, 0.9929376467000168, 0.9932349223074272, 0.9848278017980632, 0.9938666750993261, 0.9825452859311917, 0.9859855763523928, 1.0023724923350976, 0.9919892422063812, 1.0130608566772608, 1.0129105047849618, 1.0012589793507196, 0.9776677036467054, 0.9856731850215045, 1.0131912092378783, 0.985233046617773, 0.9782931544198394], \"y\": [18.538413653947373, 34.85908881637974, 35.604475321961814, 4.330875387934782, 39.81721078290332, 56.19024626119864, 36.086573323401495, 10.406384328434285, 35.108934671207635, 9.21951119842629, 11.358366051986678, 24.326087734925693, 10.559369986020158, 10.953329423770299, 28.537743671141868, 20.786553810153833, 18.795948167648987, 10.654565402092203, 9.135717514887574, 10.589220754343842, 26.51219849770598, 44.188387415287366, 9.900555279244543, 9.384843033530274, 10.74986524918782, 9.288477430365077, 31.84914223006075, 18.62945117969636, 12.187032407596377, 24.924188609998566, 18.75779546479174, 18.55313722015393, 10.653667698035008, 20.276737596778673, 14.30646403562585, 10.914258037553736, 10.264115478387623, 21.21983897778793, 17.89705790980105, 12.695801667652972, 25.20982703037157, 17.987763198395754, 11.335416355489144, 39.86858770435168, 17.180303981334276, 12.457470837500011, 17.4792808762474, 9.713402322374293, 8.684116137792728, 10.812462402775566, 43.09690869220799, 20.105533196956173, 8.99499057146275, 17.169044439941672, 9.55929299222214]}, {\"marker\": {\"color\": \"#ba1c30\", \"size\": 10, \"symbol\": 24}, \"mode\": \"markers\", \"name\": \"OpenFF Substituted Phenyl Set 1.oeb\", \"type\": \"scatter\", \"x\": [1.062026267241307, 1.3076879309377214, 1.0149203866451806, 1.07074792249344, 1.0178524126209756, 0.9971204917933197, 1.181643184177145, 1.0190255729301791, 1.0130608566772608, 0.9966894200148321, 0.9885241423224714, 0.9850347046310919, 1.0018519993046666, 0.9887590462107843, 0.9848250571607208], \"y\": [33.734547421909326, 102.95749054200638, 11.215804915930505, 43.37258588616203, 30.620957539502285, 8.628142323692373, 94.31082086100957, 35.66499253203102, 9.651716543447236, 9.534832998045317, 17.450100297619088, 25.26090713078173, 75.16545623610415, 22.281307543007642, 27.022141447873253]}, {\"marker\": {\"color\": \"#c0bd7f\", \"size\": 10, \"symbol\": 25}, \"mode\": \"markers\", \"name\": \"OpenFF-benchmark-ligand-fragments-v1.0.oeb\", \"type\": \"scatter\", \"x\": [0.9958149208860455, 0.9961362692835807, 0.998521207373285, 0.9962645379757042, 0.9987104464082163, 0.9968575131729203, 0.9954118126706245, 1.0057057329486638, 1.0132844605735198, 1.0129101594313654, 0.985231031406067, 1.0130608566772608, 1.0125719889321836, 1.013015886822379, 1.0131912092378783, 1.0131488685255148, 1.0128405294423217, 1.0132374685276717, 0.9848278017980632, 0.9789930413384373], \"y\": [10.253544374707417, 9.606407834693528, 15.79464759584971, 7.60824753567465, 14.45236306861284, 9.512438528482164, 10.374221193647827, 10.911001952021195, 9.390329700990947, 9.402363117487482, 17.84265398557031, 9.712612326703692, 9.403545774230565, 8.989199655916025, 8.991152472970555, 9.442254090112272, 9.051151807298368, 9.066817507321957, 17.987152125255193, 53.40570989099433]}, {\"marker\": {\"color\": \"#7f7e80\", \"size\": 10, \"symbol\": 26}, \"mode\": \"markers\", \"name\": \"Pfizer Discrepancy Torsion Dataset 1.oeb\", \"type\": \"scatter\", \"x\": [1.0022034965718416], \"y\": [18.02044148166806]}, {\"marker\": {\"color\": \"#5fa641\", \"size\": 10, \"symbol\": 27}, \"mode\": \"markers\", \"name\": \"SMIRNOFF Coverage Torsion Set 1.oeb\", \"type\": \"scatter\", \"x\": [1.227478201718001, 1.227478201718001, 1.227478201718001, 1.227478201718001, 1.0293209689885512], \"y\": [191.21818082724053, 155.82748185604305, 187.17797229806183, 149.37347935806815, 57.02044268746346]}, {\"marker\": {\"color\": \"#d485b2\", \"size\": 10, \"symbol\": 28}, \"mode\": \"markers\", \"name\": \"TorsionDrive Paper.oeb\", \"type\": \"scatter\", \"x\": [], \"y\": []}, {\"mode\": \"lines\", \"showlegend\": false, \"type\": \"scatter\", \"x\": [0.9650617308427887, 0.965388346801862, 0.9697630469306854, 0.9719053468659663, 0.9735689130752055, 0.9737061127618991, 0.9742941098592591, 0.9744219783964626, 0.9745325923257555, 0.9768464819474001, 0.9769619140617902, 0.9776066764068829, 0.9776677036467054, 0.9782931544198394, 0.9789654533379433, 0.9789930413384373, 0.9825452859311917, 0.9846069299766018, 0.9847303413967741, 0.9848230677554928, 0.9848250571607208, 0.9848278017980632, 0.9848832731957902, 0.9849189890399477, 0.9850347046310919, 0.9850885050176779, 0.985231031406067, 0.985233046617773, 0.9855495112054936, 0.9856731850215045, 0.9857384213648355, 0.985753336687416, 0.9858324203573934, 0.9858646931855853, 0.9858776899796651, 0.9859075153695384, 0.9859526302341831, 0.9859855763523928, 0.9859998098368472, 0.986148422369342, 0.9861519173472741, 0.9861535254177639, 0.9863234923804013, 0.9865579101781908, 0.9869067977099897, 0.9871034298309523, 0.9872051885760869, 0.9885241423224714, 0.9887590462107843, 0.9893186832121318, 0.9906129768404315, 0.9918250784943227, 0.9919892422063812, 0.9929376467000168, 0.9929376467094047, 0.9932349223074272, 0.9938666750993261, 0.9940393761801845, 0.9945073364301483, 0.9945073364347294, 0.9954118126706245, 0.9958149208860455, 0.9961362692835807, 0.9962645379757042, 0.9966894200148321, 0.9968575131729203, 0.9971204917933197, 0.9972224217858636, 0.998521207373285, 0.9987104464082163, 1.000948497329776, 1.0012589793507196, 1.001668101657645, 1.0018519993046666, 1.0022034965718416, 1.0023364341009633, 1.0023724923350976, 1.0030386814908048, 1.0032836676503005, 1.0034542141727396, 1.0040448425725212, 1.0040584894693825, 1.0049640560793711, 1.0057057329486638, 1.0057057330964803, 1.0057309126744778, 1.0071637775342022, 1.0083629212302128, 1.0113469814606013, 1.0121731287147113, 1.0122823570163055, 1.0122823570456962, 1.0125719889321836, 1.0125810580380925, 1.0128405294423217, 1.0129101594313654, 1.0129105047849618, 1.013015886822379, 1.0130608566772608, 1.0131488685255148, 1.0131912092378783, 1.0132374685276717, 1.0132844605735198, 1.01344135585542, 1.013595972431051, 1.0136150936967916, 1.0139444765524253, 1.0145556500847204, 1.0148368674596648, 1.0149203866451806, 1.0156812374071735, 1.0164644442595798, 1.016502669640316, 1.0172583457563795, 1.017403488916144, 1.017638651631391, 1.0176990114603686, 1.0178524126209756, 1.0179805933583248, 1.0190255729301791, 1.0193912542694632, 1.019634827272069, 1.020201613797514, 1.0220845797037248, 1.0229125922685873, 1.0234698138193303, 1.0293209689885512, 1.0296700725183379, 1.0314915876508872, 1.062026267241307, 1.07074792249344, 1.170339377315593, 1.181643184177145, 1.227478201718001, 1.3076879309377214], \"y\": [5.012421261855536, 5.181012845526766, 7.439131600340318, 8.54493714582685, 9.403631444027269, 9.474450740562816, 9.777961206246289, 9.843963979809473, 9.90106032491309, 11.095436487242011, 11.155019867756437, 11.487831237902412, 11.519332083843722, 11.84217526839052, 12.189200378936675, 12.20344066501093, 14.037026945298692, 15.101199790888074, 15.164901904002761, 15.212765099998421, 15.213791984841748, 15.215208702988264, 15.243841752082915, 15.262277442567097, 15.322007147207955, 15.349777659103324, 15.423346475525022, 15.42438668107377, 15.587738362268567, 15.651575918030005, 15.685249405591037, 15.692948349212656, 15.733769505661485, 15.75042799114965, 15.757136634850838, 15.772531809436373, 15.795819056327616, 15.812825078509036, 15.820172073102071, 15.896882415970083, 15.89868644252823, 15.89951649122304, 15.987249495709762, 16.108250526652, 16.288338179674156, 16.389835120508792, 16.44236062490637, 17.123173961532416, 17.24442590113, 17.53329754293793, 18.201381898490183, 18.827040662929505, 18.911778164047973, 19.40132256964455, 19.401322574490337, 19.55476934420608, 19.880865484692094, 19.97000977759876, 20.211560006376317, 20.211560008741003, 20.67842966641217, 20.88650477891281, 21.05237736947572, 21.118586693728844, 21.337900949080108, 21.424666739113036, 21.56041020434543, 21.61302410268445, 22.28342710336426, 22.381107904639293, 23.536337888725257, 23.696601507688797, 23.90778095475389, 24.002704655459638, 24.18413939336176, 24.252758663000463, 24.271371087250486, 24.615242480136203, 24.741698654305083, 24.82973081412115, 25.134599497093177, 25.14164370877404, 25.60907619226589, 25.99191259230315, 25.991912668602595, 26.004909782836762, 26.744521394507842, 27.36349156159133, 28.90379425053152, 29.33023230429717, 29.38661342051614, 29.386613435686854, 29.536114698770007, 29.540795960922765, 29.674729082502267, 29.71067046808912, 29.71084873160669, 29.765244495454453, 29.788456891668943, 29.833886566694787, 29.85574186051258, 29.87961983312573, 29.903876037421355, 29.984861743451006, 30.064671234148932, 30.07454118809153, 30.244560979601374, 30.560034583524157, 30.70519247088589, 30.748303137593666, 31.1410366563897, 31.545309870607184, 31.565040925675817, 31.95510341224599, 32.03002294536725, 32.15140848542592, 32.18256482936681, 32.261746951015425, 32.32791087505382, 32.86730509639801, 33.05606132338653, 33.18178805874072, 33.47435011908635, 34.446293452864666, 34.87369433678316, 35.161319179004636, 38.181549785872676, 38.36174893204702, 39.30197280153834, 55.063266290217825, 59.5651824714206, 110.97198187039021, 116.80674483086909, 140.465717946371, 181.86812006216633]}],                        {\"annotations\": [{\"font\": {\"color\": \"black\", \"family\": \"Times\", \"size\": 18}, \"showarrow\": false, \"text\": \"slope: 516.18, r_val: 0.82\", \"x\": 1, \"xref\": \"paper\", \"y\": 0.2, \"yref\": \"paper\"}], \"autosize\": false, \"dragmode\": \"select\", \"height\": 800, \"hovermode\": false, \"legend\": {\"font\": {\"color\": \"black\", \"family\": \"Rockwell\", \"size\": 14}, \"orientation\": \"h\", \"y\": -0.2}, \"margin\": {\"b\": 40, \"l\": 40, \"r\": 10, \"t\": 40}, \"template\": {\"data\": {\"bar\": [{\"error_x\": {\"color\": \"#2a3f5f\"}, \"error_y\": {\"color\": \"#2a3f5f\"}, \"marker\": {\"line\": {\"color\": \"#E5ECF6\", \"width\": 0.5}}, \"type\": \"bar\"}], \"barpolar\": [{\"marker\": {\"line\": {\"color\": \"#E5ECF6\", \"width\": 0.5}}, \"type\": \"barpolar\"}], \"carpet\": [{\"aaxis\": {\"endlinecolor\": \"#2a3f5f\", \"gridcolor\": \"white\", \"linecolor\": \"white\", \"minorgridcolor\": \"white\", \"startlinecolor\": \"#2a3f5f\"}, \"baxis\": {\"endlinecolor\": \"#2a3f5f\", \"gridcolor\": \"white\", \"linecolor\": \"white\", \"minorgridcolor\": \"white\", \"startlinecolor\": \"#2a3f5f\"}, \"type\": \"carpet\"}], \"choropleth\": [{\"colorbar\": {\"outlinewidth\": 0, \"ticks\": \"\"}, \"type\": \"choropleth\"}], \"contour\": [{\"colorbar\": {\"outlinewidth\": 0, \"ticks\": \"\"}, \"colorscale\": [[0.0, \"#0d0887\"], [0.1111111111111111, \"#46039f\"], [0.2222222222222222, \"#7201a8\"], [0.3333333333333333, \"#9c179e\"], [0.4444444444444444, \"#bd3786\"], [0.5555555555555556, \"#d8576b\"], [0.6666666666666666, \"#ed7953\"], [0.7777777777777778, \"#fb9f3a\"], [0.8888888888888888, \"#fdca26\"], [1.0, \"#f0f921\"]], \"type\": \"contour\"}], \"contourcarpet\": [{\"colorbar\": {\"outlinewidth\": 0, \"ticks\": \"\"}, \"type\": \"contourcarpet\"}], \"heatmap\": [{\"colorbar\": {\"outlinewidth\": 0, \"ticks\": \"\"}, \"colorscale\": [[0.0, \"#0d0887\"], [0.1111111111111111, \"#46039f\"], [0.2222222222222222, \"#7201a8\"], [0.3333333333333333, \"#9c179e\"], [0.4444444444444444, \"#bd3786\"], [0.5555555555555556, \"#d8576b\"], [0.6666666666666666, \"#ed7953\"], [0.7777777777777778, \"#fb9f3a\"], [0.8888888888888888, \"#fdca26\"], [1.0, \"#f0f921\"]], \"type\": \"heatmap\"}], \"heatmapgl\": [{\"colorbar\": {\"outlinewidth\": 0, \"ticks\": \"\"}, \"colorscale\": [[0.0, \"#0d0887\"], [0.1111111111111111, \"#46039f\"], [0.2222222222222222, \"#7201a8\"], [0.3333333333333333, \"#9c179e\"], [0.4444444444444444, \"#bd3786\"], [0.5555555555555556, \"#d8576b\"], [0.6666666666666666, \"#ed7953\"], [0.7777777777777778, \"#fb9f3a\"], [0.8888888888888888, \"#fdca26\"], [1.0, \"#f0f921\"]], \"type\": \"heatmapgl\"}], \"histogram\": [{\"marker\": {\"colorbar\": {\"outlinewidth\": 0, \"ticks\": \"\"}}, \"type\": \"histogram\"}], \"histogram2d\": [{\"colorbar\": {\"outlinewidth\": 0, \"ticks\": \"\"}, \"colorscale\": [[0.0, \"#0d0887\"], [0.1111111111111111, \"#46039f\"], [0.2222222222222222, \"#7201a8\"], [0.3333333333333333, \"#9c179e\"], [0.4444444444444444, \"#bd3786\"], [0.5555555555555556, \"#d8576b\"], [0.6666666666666666, \"#ed7953\"], [0.7777777777777778, \"#fb9f3a\"], [0.8888888888888888, \"#fdca26\"], [1.0, \"#f0f921\"]], \"type\": \"histogram2d\"}], \"histogram2dcontour\": [{\"colorbar\": {\"outlinewidth\": 0, \"ticks\": \"\"}, \"colorscale\": [[0.0, \"#0d0887\"], [0.1111111111111111, \"#46039f\"], [0.2222222222222222, \"#7201a8\"], [0.3333333333333333, \"#9c179e\"], [0.4444444444444444, \"#bd3786\"], [0.5555555555555556, \"#d8576b\"], [0.6666666666666666, \"#ed7953\"], [0.7777777777777778, \"#fb9f3a\"], [0.8888888888888888, \"#fdca26\"], [1.0, \"#f0f921\"]], \"type\": \"histogram2dcontour\"}], \"mesh3d\": [{\"colorbar\": {\"outlinewidth\": 0, \"ticks\": \"\"}, \"type\": \"mesh3d\"}], \"parcoords\": [{\"line\": {\"colorbar\": {\"outlinewidth\": 0, \"ticks\": \"\"}}, \"type\": \"parcoords\"}], \"pie\": [{\"automargin\": true, \"type\": \"pie\"}], \"scatter\": [{\"marker\": {\"colorbar\": {\"outlinewidth\": 0, \"ticks\": \"\"}}, \"type\": \"scatter\"}], \"scatter3d\": [{\"line\": {\"colorbar\": {\"outlinewidth\": 0, \"ticks\": \"\"}}, \"marker\": {\"colorbar\": {\"outlinewidth\": 0, \"ticks\": \"\"}}, \"type\": \"scatter3d\"}], \"scattercarpet\": [{\"marker\": {\"colorbar\": {\"outlinewidth\": 0, \"ticks\": \"\"}}, \"type\": \"scattercarpet\"}], \"scattergeo\": [{\"marker\": {\"colorbar\": {\"outlinewidth\": 0, \"ticks\": \"\"}}, \"type\": \"scattergeo\"}], \"scattergl\": [{\"marker\": {\"colorbar\": {\"outlinewidth\": 0, \"ticks\": \"\"}}, \"type\": \"scattergl\"}], \"scattermapbox\": [{\"marker\": {\"colorbar\": {\"outlinewidth\": 0, \"ticks\": \"\"}}, \"type\": \"scattermapbox\"}], \"scatterpolar\": [{\"marker\": {\"colorbar\": {\"outlinewidth\": 0, \"ticks\": \"\"}}, \"type\": \"scatterpolar\"}], \"scatterpolargl\": [{\"marker\": {\"colorbar\": {\"outlinewidth\": 0, \"ticks\": \"\"}}, \"type\": \"scatterpolargl\"}], \"scatterternary\": [{\"marker\": {\"colorbar\": {\"outlinewidth\": 0, \"ticks\": \"\"}}, \"type\": \"scatterternary\"}], \"surface\": [{\"colorbar\": {\"outlinewidth\": 0, \"ticks\": \"\"}, \"colorscale\": [[0.0, \"#0d0887\"], [0.1111111111111111, \"#46039f\"], [0.2222222222222222, \"#7201a8\"], [0.3333333333333333, \"#9c179e\"], [0.4444444444444444, \"#bd3786\"], [0.5555555555555556, \"#d8576b\"], [0.6666666666666666, \"#ed7953\"], [0.7777777777777778, \"#fb9f3a\"], [0.8888888888888888, \"#fdca26\"], [1.0, \"#f0f921\"]], \"type\": \"surface\"}], \"table\": [{\"cells\": {\"fill\": {\"color\": \"#EBF0F8\"}, \"line\": {\"color\": \"white\"}}, \"header\": {\"fill\": {\"color\": \"#C8D4E3\"}, \"line\": {\"color\": \"white\"}}, \"type\": \"table\"}]}, \"layout\": {\"annotationdefaults\": {\"arrowcolor\": \"#2a3f5f\", \"arrowhead\": 0, \"arrowwidth\": 1}, \"coloraxis\": {\"colorbar\": {\"outlinewidth\": 0, \"ticks\": \"\"}}, \"colorscale\": {\"diverging\": [[0, \"#8e0152\"], [0.1, \"#c51b7d\"], [0.2, \"#de77ae\"], [0.3, \"#f1b6da\"], [0.4, \"#fde0ef\"], [0.5, \"#f7f7f7\"], [0.6, \"#e6f5d0\"], [0.7, \"#b8e186\"], [0.8, \"#7fbc41\"], [0.9, \"#4d9221\"], [1, \"#276419\"]], \"sequential\": [[0.0, \"#0d0887\"], [0.1111111111111111, \"#46039f\"], [0.2222222222222222, \"#7201a8\"], [0.3333333333333333, \"#9c179e\"], [0.4444444444444444, \"#bd3786\"], [0.5555555555555556, \"#d8576b\"], [0.6666666666666666, \"#ed7953\"], [0.7777777777777778, \"#fb9f3a\"], [0.8888888888888888, \"#fdca26\"], [1.0, \"#f0f921\"]], \"sequentialminus\": [[0.0, \"#0d0887\"], [0.1111111111111111, \"#46039f\"], [0.2222222222222222, \"#7201a8\"], [0.3333333333333333, \"#9c179e\"], [0.4444444444444444, \"#bd3786\"], [0.5555555555555556, \"#d8576b\"], [0.6666666666666666, \"#ed7953\"], [0.7777777777777778, \"#fb9f3a\"], [0.8888888888888888, \"#fdca26\"], [1.0, \"#f0f921\"]]}, \"colorway\": [\"#636efa\", \"#EF553B\", \"#00cc96\", \"#ab63fa\", \"#FFA15A\", \"#19d3f3\", \"#FF6692\", \"#B6E880\", \"#FF97FF\", \"#FECB52\"], \"font\": {\"color\": \"#2a3f5f\"}, \"geo\": {\"bgcolor\": \"white\", \"lakecolor\": \"white\", \"landcolor\": \"#E5ECF6\", \"showlakes\": true, \"showland\": true, \"subunitcolor\": \"white\"}, \"hoverlabel\": {\"align\": \"left\"}, \"hovermode\": \"closest\", \"mapbox\": {\"style\": \"light\"}, \"paper_bgcolor\": \"white\", \"plot_bgcolor\": \"#E5ECF6\", \"polar\": {\"angularaxis\": {\"gridcolor\": \"white\", \"linecolor\": \"white\", \"ticks\": \"\"}, \"bgcolor\": \"#E5ECF6\", \"radialaxis\": {\"gridcolor\": \"white\", \"linecolor\": \"white\", \"ticks\": \"\"}}, \"scene\": {\"xaxis\": {\"backgroundcolor\": \"#E5ECF6\", \"gridcolor\": \"white\", \"gridwidth\": 2, \"linecolor\": \"white\", \"showbackground\": true, \"ticks\": \"\", \"zerolinecolor\": \"white\"}, \"yaxis\": {\"backgroundcolor\": \"#E5ECF6\", \"gridcolor\": \"white\", \"gridwidth\": 2, \"linecolor\": \"white\", \"showbackground\": true, \"ticks\": \"\", \"zerolinecolor\": \"white\"}, \"zaxis\": {\"backgroundcolor\": \"#E5ECF6\", \"gridcolor\": \"white\", \"gridwidth\": 2, \"linecolor\": \"white\", \"showbackground\": true, \"ticks\": \"\", \"zerolinecolor\": \"white\"}}, \"shapedefaults\": {\"line\": {\"color\": \"#2a3f5f\"}}, \"ternary\": {\"aaxis\": {\"gridcolor\": \"white\", \"linecolor\": \"white\", \"ticks\": \"\"}, \"baxis\": {\"gridcolor\": \"white\", \"linecolor\": \"white\", \"ticks\": \"\"}, \"bgcolor\": \"#E5ECF6\", \"caxis\": {\"gridcolor\": \"white\", \"linecolor\": \"white\", \"ticks\": \"\"}}, \"title\": {\"x\": 0.05}, \"xaxis\": {\"automargin\": true, \"gridcolor\": \"white\", \"linecolor\": \"white\", \"ticks\": \"\", \"title\": {\"standoff\": 15}, \"zerolinecolor\": \"white\", \"zerolinewidth\": 2}, \"yaxis\": {\"automargin\": true, \"gridcolor\": \"white\", \"linecolor\": \"white\", \"ticks\": \"\", \"title\": {\"standoff\": 15}, \"zerolinecolor\": \"white\", \"zerolinewidth\": 2}}}, \"title\": {\"text\": \"t43\", \"x\": 0.5, \"xanchor\": \"center\", \"yanchor\": \"top\"}, \"width\": 900, \"xaxis\": {\"gridcolor\": \"black\", \"gridwidth\": 1, \"linecolor\": \"black\", \"linewidth\": 2, \"mirror\": true, \"showgrid\": false, \"showline\": true, \"tickcolor\": \"black\", \"tickfont\": {\"color\": \"black\", \"family\": \"Rockwell\", \"size\": 14}, \"ticklen\": 10, \"ticks\": \"outside\", \"tickwidth\": 2, \"title\": {\"font\": {\"color\": \"black\", \"family\": \"Rockwell\", \"size\": 18}, \"text\": \"Wiberg Bond Order\"}}, \"yaxis\": {\"gridcolor\": \"black\", \"gridwidth\": 1, \"linecolor\": \"black\", \"linewidth\": 2, \"mirror\": true, \"showgrid\": false, \"showline\": true, \"tickcolor\": \"black\", \"tickfont\": {\"color\": \"black\", \"family\": \"Rockwell\", \"size\": 14}, \"ticklen\": 10, \"ticks\": \"outside\", \"tickwidth\": 2, \"title\": {\"font\": {\"color\": \"black\", \"family\": \"Rockwell\", \"size\": 18}, \"text\": \"Torsion barrier in KJ/mol\"}}},                        {\"responsive\": true}                    ).then(function(){\n",
       "                            \n",
       "var gd = document.getElementById('5426ad7a-1b03-4940-a9ea-c9962dbbdb46');\n",
       "var x = new MutationObserver(function (mutations, observer) {{\n",
       "        var display = window.getComputedStyle(gd).display;\n",
       "        if (!display || display === 'none') {{\n",
       "            console.log([gd, 'removed!']);\n",
       "            Plotly.purge(gd);\n",
       "            observer.disconnect();\n",
       "        }}\n",
       "}});\n",
       "\n",
       "// Listen for the removal of the full notebook cells\n",
       "var notebookContainer = gd.closest('#notebook-container');\n",
       "if (notebookContainer) {{\n",
       "    x.observe(notebookContainer, {childList: true});\n",
       "}}\n",
       "\n",
       "// Listen for the clearing of the current output cell\n",
       "var outputEl = gd.closest('.output');\n",
       "if (outputEl) {{\n",
       "    x.observe(outputEl, {childList: true});\n",
       "}}\n",
       "\n",
       "                        })                };                });            </script>        </div>"
      ]
     },
     "metadata": {},
     "output_type": "display_data"
    },
    {
     "name": "stdout",
     "output_type": "stream",
     "text": [
      "tid:  t69 r_value:  0.38954851747443975 slope:  99.8022013352975 intercept:  -76.06195340118205\n"
     ]
    },
    {
     "data": {
      "application/vnd.plotly.v1+json": {
       "config": {
        "plotlyServerURL": "https://plot.ly"
       },
       "data": [
        {
         "marker": {
          "color": "#ebce2b",
          "size": 10,
          "symbol": 0
         },
         "mode": "markers",
         "name": "Fragment Stability Benchmark.oeb",
         "type": "scatter",
         "x": [
          1.0598768151935263,
          1.0609430381294815,
          1.055208991509266,
          1.0551945230798834,
          1.1490009074616832,
          1.1516881021379592,
          1.1587592056211777,
          1.0664765811323458,
          1.070753322567115,
          1.0603080056719645,
          1.0616748576339137,
          1.0687985036256733,
          1.0643316509027732,
          1.053660383895871,
          1.0604090655028495,
          1.0570674408056395,
          1.0620352358985747,
          0.9796116913580862,
          1.0257273526765702,
          1.157621824950123,
          0.9953374011945388,
          1.0195815858319262,
          1.0052305317658203,
          1.023901262720791,
          1.0179756072901038,
          1.0179426981431494,
          1.0231949833998257,
          1.0456354984730292,
          1.053029687778485,
          1.0525711248373408,
          1.0713188592201006,
          1.058094501370869,
          1.0557613428888126,
          1.0491662479707866,
          1.0558189550050565,
          1.0439199408903563,
          1.0750913809402585,
          1.0789451450664715,
          1.0761358052233863,
          1.1561810009277487,
          1.0617441916286992,
          1.043958518662337,
          1.04048451010751
         ],
         "y": [
          31.05144779881573,
          29.718044858505095,
          25.914020030914344,
          25.676164350046406,
          48.92958790813111,
          49.06538029066962,
          49.32262888280371,
          43.616028197644596,
          43.62820252731922,
          31.17171779134162,
          29.381200140739566,
          30.842142732183788,
          26.61161650918666,
          25.346714111856045,
          26.255172971017885,
          24.732534878250704,
          31.29205167931309,
          45.566519874162736,
          41.925204549203215,
          45.699873577145524,
          33.23634509793902,
          55.94327315012299,
          31.334651009518723,
          43.012127347862304,
          47.99314459561333,
          56.797619526650124,
          35.2897121520038,
          27.68450169222706,
          23.74733118436143,
          31.767810913830886,
          43.925736221845,
          38.84692154102112,
          32.38889421410954,
          32.52727158897176,
          20.827334172392682,
          21.6229444532745,
          36.035942524836514,
          40.28886345887099,
          37.564685816295196,
          56.92203754084562,
          29.050693434729396,
          37.68041244493935,
          37.57010597119563
         ]
        },
        {
         "marker": {
          "color": "#702c8c",
          "size": 10,
          "symbol": 1
         },
         "mode": "markers",
         "name": "Fragment Stability Benchmark.oeb",
         "type": "scatter",
         "x": [
          1.0598768151935263,
          1.0609430381294815,
          1.055208991509266,
          1.0551945230798834,
          1.1490009074616832,
          1.1516881021379592,
          1.1587592056211777,
          1.0664765811323458,
          1.070753322567115,
          1.0603080056719645,
          1.0616748576339137,
          1.0687985036256733,
          1.0643316509027732,
          1.053660383895871,
          1.0604090655028495,
          1.0570674408056395,
          1.0620352358985747,
          0.9796116913580862,
          1.0257273526765702,
          1.157621824950123,
          0.9953374011945388,
          1.0195815858319262,
          1.0052305317658203,
          1.023901262720791,
          1.0179756072901038,
          1.0179426981431494,
          1.0231949833998257,
          1.0456354984730292,
          1.053029687778485,
          1.0525711248373408,
          1.0713188592201006,
          1.058094501370869,
          1.0557613428888126,
          1.0491662479707866,
          1.0558189550050565,
          1.0439199408903563,
          1.0750913809402585,
          1.0789451450664715,
          1.0761358052233863,
          1.1561810009277487,
          1.0617441916286992,
          1.043958518662337,
          1.04048451010751
         ],
         "y": [
          31.05144779881573,
          29.718044858505095,
          25.914020030914344,
          25.676164350046406,
          48.92958790813111,
          49.06538029066962,
          49.32262888280371,
          43.616028197644596,
          43.62820252731922,
          31.17171779134162,
          29.381200140739566,
          30.842142732183788,
          26.61161650918666,
          25.346714111856045,
          26.255172971017885,
          24.732534878250704,
          31.29205167931309,
          45.566519874162736,
          41.925204549203215,
          45.699873577145524,
          33.23634509793902,
          55.94327315012299,
          31.334651009518723,
          43.012127347862304,
          47.99314459561333,
          56.797619526650124,
          35.2897121520038,
          27.68450169222706,
          23.74733118436143,
          31.767810913830886,
          43.925736221845,
          38.84692154102112,
          32.38889421410954,
          32.52727158897176,
          20.827334172392682,
          21.6229444532745,
          36.035942524836514,
          40.28886345887099,
          37.564685816295196,
          56.92203754084562,
          29.050693434729396,
          37.68041244493935,
          37.57010597119563
         ]
        },
        {
         "marker": {
          "color": "#db6917",
          "size": 10,
          "symbol": 2
         },
         "mode": "markers",
         "name": "Fragment Stability Benchmark.oeb",
         "type": "scatter",
         "x": [
          1.0598768151935263,
          1.0609430381294815,
          1.055208991509266,
          1.0551945230798834,
          1.1490009074616832,
          1.1516881021379592,
          1.1587592056211777,
          1.0664765811323458,
          1.070753322567115,
          1.0603080056719645,
          1.0616748576339137,
          1.0687985036256733,
          1.0643316509027732,
          1.053660383895871,
          1.0604090655028495,
          1.0570674408056395,
          1.0620352358985747,
          0.9796116913580862,
          1.0257273526765702,
          1.157621824950123,
          0.9953374011945388,
          1.0195815858319262,
          1.0052305317658203,
          1.023901262720791,
          1.0179756072901038,
          1.0179426981431494,
          1.0231949833998257,
          1.0456354984730292,
          1.053029687778485,
          1.0525711248373408,
          1.0713188592201006,
          1.058094501370869,
          1.0557613428888126,
          1.0491662479707866,
          1.0558189550050565,
          1.0439199408903563,
          1.0750913809402585,
          1.0789451450664715,
          1.0761358052233863,
          1.1561810009277487,
          1.0617441916286992,
          1.043958518662337,
          1.04048451010751
         ],
         "y": [
          31.05144779881573,
          29.718044858505095,
          25.914020030914344,
          25.676164350046406,
          48.92958790813111,
          49.06538029066962,
          49.32262888280371,
          43.616028197644596,
          43.62820252731922,
          31.17171779134162,
          29.381200140739566,
          30.842142732183788,
          26.61161650918666,
          25.346714111856045,
          26.255172971017885,
          24.732534878250704,
          31.29205167931309,
          45.566519874162736,
          41.925204549203215,
          45.699873577145524,
          33.23634509793902,
          55.94327315012299,
          31.334651009518723,
          43.012127347862304,
          47.99314459561333,
          56.797619526650124,
          35.2897121520038,
          27.68450169222706,
          23.74733118436143,
          31.767810913830886,
          43.925736221845,
          38.84692154102112,
          32.38889421410954,
          32.52727158897176,
          20.827334172392682,
          21.6229444532745,
          36.035942524836514,
          40.28886345887099,
          37.564685816295196,
          56.92203754084562,
          29.050693434729396,
          37.68041244493935,
          37.57010597119563
         ]
        },
        {
         "marker": {
          "color": "#96cde6",
          "size": 10,
          "symbol": 3
         },
         "mode": "markers",
         "name": "OpenFF Fragmenter Validation 1.0.oeb",
         "type": "scatter",
         "x": [
          1.09859168481306,
          1.09859168481306,
          1.053305536338519
         ],
         "y": [
          44.88247319721586,
          44.882630872404434,
          55.00796058127622
         ]
        },
        {
         "marker": {
          "color": "#ba1c30",
          "size": 10,
          "symbol": 4
         },
         "mode": "markers",
         "name": "OpenFF Full TorsionDrive Benchmark 1.oeb",
         "type": "scatter",
         "x": [
          1.0079733540614193,
          0.9878716336491372,
          1.129972601651227,
          1.1005672627973255,
          1.0332535438736954,
          0.9764638096335834,
          1.1134362737387788,
          0.9929029119914149,
          0.9486123502078156,
          1.005684361294231,
          1.0044168630099324,
          1.100872643290413,
          1.0578610992809536,
          1.1259856185712729,
          1.134880120255293,
          1.1480053763183378,
          1.0556509994023195,
          1.0005863991602493,
          1.1489818187968337,
          1.0028856819940222,
          0.9637179925479827,
          1.0388886324191913
         ],
         "y": [
          27.30708552307209,
          25.57338639495117,
          68.63063626018624,
          44.781547662322794,
          48.105577740072874,
          6.903619107009092,
          57.94734581710594,
          28.588648083104715,
          40.34177834918057,
          35.545621906421104,
          26.424114343615315,
          39.544176510306045,
          28.98883824822127,
          43.622725692992304,
          59.42358029099546,
          37.534800989065786,
          40.012482312711256,
          30.037214079938053,
          58.800249608273646,
          54.32864052653122,
          33.80661526559072,
          16.857863281060304
         ]
        },
        {
         "marker": {
          "color": "#c0bd7f",
          "size": 10,
          "symbol": 5
         },
         "mode": "markers",
         "name": "OpenFF Gen 2 Torsion Set 1 Roche.oeb",
         "type": "scatter",
         "x": [
          1.0728702427123291
         ],
         "y": [
          23.5627176338742
         ]
        },
        {
         "marker": {
          "color": "#7f7e80",
          "size": 10,
          "symbol": 6
         },
         "mode": "markers",
         "name": "OpenFF Gen 2 Torsion Set 1 Roche 2.oeb",
         "type": "scatter",
         "x": [
          1.0728702427123291,
          1.0012070055299676
         ],
         "y": [
          23.5627176338742,
          6.714200486696086
         ]
        },
        {
         "marker": {
          "color": "#5fa641",
          "size": 10,
          "symbol": 7
         },
         "mode": "markers",
         "name": "OpenFF Gen 2 Torsion Set 2 Coverage.oeb",
         "type": "scatter",
         "x": [],
         "y": []
        },
        {
         "marker": {
          "color": "#d485b2",
          "size": 10,
          "symbol": 8
         },
         "mode": "markers",
         "name": "OpenFF Gen 2 Torsion Set 2 Coverage 2.oeb",
         "type": "scatter",
         "x": [],
         "y": []
        },
        {
         "marker": {
          "color": "#4277b6",
          "size": 10,
          "symbol": 9
         },
         "mode": "markers",
         "name": "OpenFF Gen 2 Torsion Set 3 Pfizer Discrepancy.oeb",
         "type": "scatter",
         "x": [
          0.9637179925479827
         ],
         "y": [
          33.80661526559072
         ]
        },
        {
         "marker": {
          "color": "#df8461",
          "size": 10,
          "symbol": 10
         },
         "mode": "markers",
         "name": "OpenFF Gen 2 Torsion Set 3 Pfizer Discrepancy 2.oeb",
         "type": "scatter",
         "x": [
          0.9637179925479827
         ],
         "y": [
          33.80661526559072
         ]
        },
        {
         "marker": {
          "color": "#463397",
          "size": 10,
          "symbol": 11
         },
         "mode": "markers",
         "name": "OpenFF Gen 2 Torsion Set 4 eMolecules Discrepancy.oeb",
         "type": "scatter",
         "x": [
          1.0118506076542853
         ],
         "y": [
          4.85924367927413
         ]
        },
        {
         "marker": {
          "color": "#e1a11a",
          "size": 10,
          "symbol": 12
         },
         "mode": "markers",
         "name": "OpenFF Gen 2 Torsion Set 4 eMolecules Discrepancy 2.oeb",
         "type": "scatter",
         "x": [
          1.0118506076542853
         ],
         "y": [
          4.85924367927413
         ]
        },
        {
         "marker": {
          "color": "#91218c",
          "size": 10,
          "symbol": 13
         },
         "mode": "markers",
         "name": "OpenFF Gen 2 Torsion Set 5 Bayer.oeb",
         "type": "scatter",
         "x": [],
         "y": []
        },
        {
         "marker": {
          "color": "#e8e948",
          "size": 10,
          "symbol": 14
         },
         "mode": "markers",
         "name": "OpenFF Gen 2 Torsion Set 5 Bayer 2.oeb",
         "type": "scatter",
         "x": [
          0.9669378117373586
         ],
         "y": [
          12.369901247312725
         ]
        },
        {
         "marker": {
          "color": "#7e1510",
          "size": 10,
          "symbol": 15
         },
         "mode": "markers",
         "name": "OpenFF Gen 2 Torsion Set 6 Supplemental.oeb",
         "type": "scatter",
         "x": [],
         "y": []
        },
        {
         "marker": {
          "color": "#92ae31",
          "size": 10,
          "symbol": 16
         },
         "mode": "markers",
         "name": "OpenFF Gen 2 Torsion Set 6 Supplemental 2.oeb",
         "type": "scatter",
         "x": [],
         "y": []
        },
        {
         "marker": {
          "color": "#6f340d",
          "size": 10,
          "symbol": 17
         },
         "mode": "markers",
         "name": "OpenFF Group1 Torsions.oeb",
         "type": "scatter",
         "x": [
          1.0197338006219674,
          1.0387644504572822,
          1.0200687930278463,
          1.0214931807436676,
          0.9707080164930949,
          1.0114400973165834,
          0.9685302080240994,
          1.0287708198418435,
          0.9720073023110432,
          1.017688780024651,
          0.9589344022166605,
          0.9800243942808822,
          0.9704682194016783,
          1.007419233890741,
          0.961135219138074,
          0.9484549778163799,
          0.9357771730881009,
          1.0019405082307193,
          0.9682898263698732,
          1.0034735656053275,
          1.011792587035924,
          0.9747497902016454,
          1.0209235832561467,
          1.0158270858380383,
          1.0179841024219187,
          1.0028856819940222,
          1.0285044390239715,
          1.0159486864007308,
          1.0367214955520516,
          1.0028197023185004,
          1.0121936334491806,
          1.0210251568348665,
          0.9790245287102739,
          1.0078608634622837,
          0.9760190788761853,
          0.9903231706768596,
          0.9987319733248128,
          0.9932521111910383,
          1.0131502240156474,
          1.0097056668507758,
          0.9954664566264656,
          1.010921225803417,
          1.0116173208369554,
          1.0185482568343058,
          1.0117330140671645,
          1.0311056182511624,
          1.0074616980959759,
          1.011372419853069,
          1.0134041913637524,
          0.9616375687638969,
          1.0012070055299676,
          1.0017129705512131,
          1.0150841408162505,
          1.0105896915290544,
          1.0251112045842625,
          1.040655676366165,
          1.0385260483145249,
          0.9824150990679467,
          0.9792792626470378,
          1.0323453723249016,
          1.0658239103239262,
          1.069839637918222,
          0.9967074186155884,
          1.0224101807669825,
          1.022634608991973,
          1.0663162433285416,
          1.0732664013278606,
          1.0737618966338092,
          0.9853256111592886,
          1.065409812413369,
          1.0647667515583619,
          1.0640443822347758,
          1.0514535981909727,
          1.0373841499806034,
          1.0520977959623734,
          1.0751774125520026,
          0.9916040618448082,
          1.0622550777767898,
          1.0728702427123291,
          1.0845221860737675,
          1.0394510062899391,
          1.0847931511625288,
          1.062808638780103,
          1.0604392845353114,
          1.0013635601728335,
          1.0823426126882898,
          1.0808387344103774,
          1.068175210320346,
          1.068141254926951,
          1.083379204150942,
          1.1307829480865819,
          1.1162249336360783,
          1.0815710057602603,
          1.0283792229466155,
          0.9859715500978623,
          1.0421122399468175,
          1.009451566067337,
          1.0123762458920706,
          1.0276233888004143,
          1.0437179740458544,
          1.0062680387058098,
          0.9884751360504095,
          1.1160699021952927,
          1.1117486815944693,
          0.9730120871806387,
          1.0869222660489208,
          0.9713389159831223,
          0.983161397946625,
          0.9756257973325952,
          0.95833191277182,
          0.9862290411653054,
          0.993190943230023,
          0.9859339530306974,
          0.9653828586063073,
          0.9896737975100787,
          0.9817447156704435,
          0.9838172999147792,
          0.9866332050438857,
          0.9799926532322926,
          0.9618287675366732,
          0.9838285520736574,
          0.986439083903751,
          0.9795827713939906,
          0.9879819581170395,
          0.9970010039899031
         ],
         "y": [
          15.249891194578481,
          22.064112536222353,
          6.631089021789876,
          6.629434988908031,
          3.724232095100774,
          3.7313020915595985,
          10.432463740211574,
          23.17095515478502,
          9.959707875345742,
          35.57998009508782,
          39.56659876283368,
          23.359316048567848,
          10.458971539452364,
          7.898636061839056,
          47.082250796910216,
          24.969959056070877,
          7.140352252836294,
          16.7182331365712,
          2.3009900089184043,
          28.382441371000084,
          41.93990372800829,
          39.57177797722784,
          21.34968842677341,
          39.3469730346942,
          21.530773901490534,
          24.540565167218233,
          34.96481123067588,
          24.231949201268833,
          45.69432103050934,
          20.15515286201935,
          39.24522399846637,
          35.16266610517147,
          28.921518502125593,
          17.844790044976037,
          7.604360908778688,
          32.58794137596004,
          48.64929199183979,
          25.953478648317287,
          14.61628648546386,
          13.408109834526499,
          13.408881266084677,
          14.21907889456378,
          35.271048359390136,
          50.12598031573651,
          36.533420499941315,
          24.8298194565441,
          34.00231292392925,
          14.406789623995962,
          24.56291390174755,
          14.301336484024262,
          6.715948840473857,
          14.689574741080492,
          17.73074199481215,
          7.129535863009721,
          59.31006144720493,
          24.058007118331602,
          12.585271712375459,
          12.030914913100844,
          21.52145738819445,
          23.204848431299638,
          16.78321494531042,
          24.926555199208735,
          17.40424492083318,
          12.677339977002873,
          33.98643326164887,
          16.049414266339227,
          17.905090772681348,
          14.200548206467545,
          15.90509121678889,
          28.376185389880078,
          26.198353913204272,
          15.838029222459966,
          11.459019888261821,
          23.62990917612501,
          25.935856960285975,
          36.661004931703616,
          12.197590757618372,
          19.584927409180466,
          23.56237100766353,
          14.665190966189357,
          9.476728924546478,
          16.868085352145442,
          14.807342300982327,
          19.347058831381617,
          10.440634539331882,
          14.967686040907779,
          27.935039642698484,
          23.766786353436345,
          29.734138353052145,
          26.460775681683657,
          21.247085637926347,
          20.116500011924956,
          18.64689139076478,
          40.05363978287551,
          44.03957641003504,
          21.30231321974864,
          8.14488087539388,
          15.3706127216158,
          37.763841433490484,
          18.364588298562467,
          37.63191378145129,
          27.37674794347788,
          44.768669860704506,
          42.07328182615316,
          18.127054301918974,
          17.060920267613938,
          23.38667202398574,
          13.787615259328561,
          13.17164100504209,
          7.022590828737094,
          37.42550049682711,
          17.48780483869382,
          32.58589190833578,
          33.90048661685381,
          14.166382807337357,
          27.053155865129952,
          12.606116002064539,
          60.33685923720071,
          44.63115715300569,
          41.520213354103305,
          29.7851975298276,
          11.463735230424902,
          29.022306220023324,
          19.368990137018102,
          31.39340729915267
         ]
        },
        {
         "marker": {
          "color": "#d32b1e",
          "size": 10,
          "symbol": 18
         },
         "mode": "markers",
         "name": "OpenFF Group1 Torsions 2.oeb",
         "type": "scatter",
         "x": [],
         "y": []
        },
        {
         "marker": {
          "color": "#2b3514",
          "size": 10,
          "symbol": 19
         },
         "mode": "markers",
         "name": "OpenFF Group1 Torsions 3.oeb",
         "type": "scatter",
         "x": [],
         "y": []
        },
        {
         "marker": {
          "color": "#ebce2b",
          "size": 10,
          "symbol": 20
         },
         "mode": "markers",
         "name": "OpenFF Primary Benchmark 1 Torsion Set.oeb",
         "type": "scatter",
         "x": [
          1.0361869536179036,
          1.0361869536179036,
          1.0137014305741854,
          1.0137014305741854,
          1.0137014305741854
         ],
         "y": [
          37.77655398855495,
          38.8134940676357,
          14.550796957226794,
          21.790279540109907,
          14.333148685762978
         ]
        },
        {
         "marker": {
          "color": "#702c8c",
          "size": 10,
          "symbol": 21
         },
         "mode": "markers",
         "name": "OpenFF Primary Benchmark 1 Torsion Set.oeb",
         "type": "scatter",
         "x": [
          1.0361869536179036,
          1.0361869536179036,
          1.0137014305741854,
          1.0137014305741854,
          1.0137014305741854
         ],
         "y": [
          37.77655398855495,
          38.8134940676357,
          14.550796957226794,
          21.790279540109907,
          14.333148685762978
         ]
        },
        {
         "marker": {
          "color": "#db6917",
          "size": 10,
          "symbol": 22
         },
         "mode": "markers",
         "name": "OpenFF Primary TorsionDrive Benchmark 1.oeb",
         "type": "scatter",
         "x": [
          1.0332535438736954,
          0.9764638096335834,
          1.134880120255293,
          1.0556509994023195,
          1.1005672627973255
         ],
         "y": [
          48.105577740072874,
          6.903619107009092,
          59.42358029099546,
          40.012482312711256,
          44.781547662322794
         ]
        },
        {
         "marker": {
          "color": "#96cde6",
          "size": 10,
          "symbol": 23
         },
         "mode": "markers",
         "name": "OpenFF Rowley Biaryl v1.0.oeb",
         "type": "scatter",
         "x": [
          0.9991764959231579,
          0.9831613979790008,
          0.9787253978241032,
          0.9632446676989497,
          0.9970010040062619,
          0.9884850243527756,
          0.9381428401175618,
          0.9455544406518676,
          0.9640330355364414,
          0.9484549777933052,
          0.9466741770094846,
          0.9724173747020896,
          0.9489461383829293,
          1.0168331366750023
         ],
         "y": [
          7.828225770921421,
          13.81907831012299,
          16.31177793027649,
          9.111454880347935,
          31.398540283923694,
          5.987826829903042,
          36.59184842705207,
          43.36152212378039,
          17.77310520653333,
          25.0108072795735,
          27.59695112656499,
          10.704760312569334,
          9.002817358651441,
          47.23775696634402
         ]
        },
        {
         "marker": {
          "color": "#ba1c30",
          "size": 10,
          "symbol": 24
         },
         "mode": "markers",
         "name": "OpenFF Substituted Phenyl Set 1.oeb",
         "type": "scatter",
         "x": [
          1.1009419747055913,
          1.0327210772207225,
          1.056326956564059,
          1.0710021678704755,
          1.029666548618361,
          1.0034648037686373,
          1.035311693566354,
          1.0104799044430088,
          1.017502145676756,
          1.0676589407103023,
          1.00208825118986,
          1.020545102248298,
          1.035126968784631,
          1.0831536467991292,
          1.0306435952108373,
          1.0784724571351332,
          1.0609711605420753,
          1.0726728034729667,
          1.0876380999326805,
          1.1592288109588003,
          1.16707365179182,
          1.0806730587466569,
          1.1301315831096543,
          1.1167381826664964,
          1.158998647579621,
          1.006529563939825,
          1.0206304675734383,
          1.0117663374079824,
          1.0701997819880948,
          1.07413735528178,
          1.0477082942059643,
          1.0337191641083099,
          1.069725769933647,
          0.9980913452617322,
          0.9901344484559773,
          0.9953585331744459,
          1.0523700990303178,
          1.0864059455795148,
          1.017589016076003,
          1.0702919868307854,
          0.9986764033841705,
          1.0807116165142496,
          1.0590305517520644,
          1.0759718176566408,
          1.023264152565711,
          1.080953989936498,
          1.019361096320633,
          1.0657362699086144,
          1.0016923924136747,
          1.0763195244791517,
          1.050680400978797,
          1.0555288189072627,
          1.083706353512928,
          1.0472488370534785,
          1.0509780923635286,
          1.1650905098191042,
          1.0976076791637264,
          1.0985927032331384,
          1.1186177884737265,
          1.1571972738976815,
          1.0787871239214128,
          1.0835597096773195,
          1.0568006774085654,
          1.06359251242035,
          1.1252045845055285,
          1.1436348680230912,
          1.0308510230929535,
          1.1078718055837984,
          1.1525944284650154,
          1.0565930706795394,
          1.0864138282601064,
          1.075251022989856,
          1.045402888567233,
          1.1151365868652947,
          1.0999482107606275,
          1.0606899945835278,
          1.1596806506337658,
          1.0909671187721208,
          1.13247449447008,
          1.152129838409495,
          1.0937132137738352,
          1.147797091902179,
          1.1091366875725261,
          1.0649274967051074,
          1.1666951827261045,
          1.0774012215928306,
          1.1344922980273098,
          1.1246133674982288,
          1.1721394240933214,
          1.0210572376231537,
          1.0507405932645817,
          1.043870319743726,
          1.0154502905264677
         ],
         "y": [
          27.86755490256712,
          6.170761742959257,
          10.747354330193389,
          16.864049221529825,
          23.051205274696315,
          16.54002895585245,
          21.661085122418854,
          22.783036240937008,
          15.882122047889709,
          40.57818739992166,
          12.930502547832987,
          23.151305491974654,
          25.796101569637813,
          28.070295133477202,
          28.326019236920274,
          42.14401562787293,
          13.731359902432587,
          16.849648092475604,
          17.860146242238045,
          35.3329195885604,
          35.03229700028129,
          17.345800781670164,
          27.219925844438137,
          29.379259404558525,
          43.652184875087244,
          6.091018701322071,
          18.767804928741043,
          20.539934073283803,
          24.95888428527161,
          26.055222708803626,
          37.81058854538395,
          25.512510555553092,
          41.3170499747348,
          7.984063603970981,
          10.344759153113273,
          13.570886601302675,
          23.09360572478323,
          25.232346498500647,
          18.986731655045105,
          39.0906920869769,
          10.031729840571359,
          24.139314575776552,
          34.86168905276952,
          19.494518567324036,
          23.238057845127514,
          27.38535801968237,
          21.5406176942914,
          40.153875422107205,
          12.844825186764638,
          26.77682624789236,
          25.409594627056492,
          37.08434757075236,
          16.05423354120552,
          14.890865949508111,
          13.914099835969353,
          34.70257332733621,
          26.423472666381258,
          26.52680312637881,
          27.108867939706727,
          40.17661217821063,
          38.44000157121974,
          23.941102204552635,
          33.54328732205573,
          13.034839896430867,
          28.956083298980786,
          33.06949343707345,
          6.546567733961268,
          23.773146527836786,
          33.357570154046186,
          12.174455948613172,
          18.026723951074757,
          19.402876299744662,
          15.832376243302491,
          28.384961536307173,
          23.9839072095848,
          16.66581545028947,
          35.7640949644952,
          25.365832707389615,
          31.003493384588353,
          40.81387325544097,
          25.556849902557758,
          21.65165582574849,
          20.678788099108033,
          13.08219287872572,
          28.53123768990517,
          13.461614385125358,
          21.764396634154053,
          24.88501551747686,
          27.6269128116883,
          11.786537892013484,
          20.023276993957552,
          23.036591305240393,
          7.832439226576469
         ]
        },
        {
         "marker": {
          "color": "#c0bd7f",
          "size": 10,
          "symbol": 25
         },
         "mode": "markers",
         "name": "OpenFF-benchmark-ligand-fragments-v1.0.oeb",
         "type": "scatter",
         "x": [
          1.0183569335536722,
          1.0006337219718984,
          1.0767721674111526,
          1.0842709630515375,
          1.0153363329711125,
          1.061310348946442,
          1.0484922539905874,
          1.0622657519263243,
          1.0639171574770132,
          1.088183648712686,
          1.017124282998095,
          1.0855406450947815,
          1.066381411717585,
          0.9927412109773044,
          1.0606021947607278,
          1.0903311851843318,
          1.0630172602857086,
          1.0819180331052805,
          1.0882151779483857,
          1.0297101857428512,
          1.022070709022429,
          1.0028721937339091,
          1.081224041039967,
          1.064228418751874,
          1.0006145886168758,
          1.0666818918301626,
          0.9978495858066116,
          1.0848176789423574,
          1.0285525048214852,
          1.0814881121331708,
          1.02300420958372,
          1.0090196141795404,
          1.07495658055845,
          1.0798356303748058,
          1.0075907234382921,
          1.0793045540013624,
          1.1283165768143137,
          1.1173907242853731,
          1.1231109857644406,
          1.1309384751881217,
          1.127692904941416,
          1.1351975588220542,
          1.1313170025294585,
          1.1417169836058356,
          1.157553469155518,
          1.110129609668792,
          1.128885652360641,
          1.1238197218946577,
          1.1541319092941562,
          1.131015466282953,
          1.156719438653949,
          1.0117650252190682,
          1.0283792229466155,
          1.0135864078789587,
          1.0229246702774684,
          1.0207303560838707,
          1.011792587035924,
          1.0190651445506802,
          1.0127563184827955,
          1.0124483909786561,
          1.0191572955153165,
          1.0285044390239715
         ],
         "y": [
          17.165934707174074,
          13.362980632885296,
          17.05553915183799,
          16.419699003701453,
          15.862655899200945,
          35.48056230359043,
          13.315560861931772,
          35.74334741701068,
          26.221397941343184,
          14.641750223255997,
          19.073018312224804,
          17.799706868794374,
          14.819564855650924,
          15.100921953135412,
          13.650744029475959,
          16.748857922525303,
          33.00619540224079,
          12.37063976674375,
          15.06633941762749,
          43.18142301504321,
          54.10462812081846,
          15.83835046194207,
          39.65376109738531,
          40.74226936607397,
          15.406827318390754,
          41.54416588801632,
          11.563514513571079,
          40.75383967983322,
          24.17278696306414,
          38.12759474453367,
          21.538601416832876,
          18.84434291798459,
          39.456272958319346,
          37.57213490784193,
          17.41349242548995,
          37.93405433070825,
          50.73870499593619,
          46.0799928562202,
          41.16865387244775,
          51.34978093777727,
          50.43352846965308,
          48.070229636442036,
          45.988598632637434,
          49.28690849938823,
          51.05777649225416,
          46.13273555841363,
          50.68598041863481,
          49.549623862285216,
          42.94151287857164,
          48.26006649066136,
          52.070430238296694,
          21.90625912148232,
          39.93658238112593,
          42.4716537060869,
          40.30375984359358,
          36.47167114181332,
          41.932740862185085,
          39.181760813490484,
          40.20486960516229,
          40.40911166349946,
          39.199179927803016,
          36.93416970125517
         ]
        },
        {
         "marker": {
          "color": "#7f7e80",
          "size": 10,
          "symbol": 26
         },
         "mode": "markers",
         "name": "Pfizer Discrepancy Torsion Dataset 1.oeb",
         "type": "scatter",
         "x": [
          1.0079733540614193,
          0.9878716336491372,
          1.129972601651227,
          1.1005672627973255,
          1.0332535438736954,
          0.9764638096335834,
          1.1134362737387788,
          0.9929029119914149,
          0.9486123502078156,
          1.005684361294231,
          1.0044168630099324,
          1.100872643290413,
          1.0578610992809536,
          1.1259856185712729,
          1.134880120255293,
          1.1480053763183378,
          1.0556509994023195,
          1.0005863991602493,
          1.1489818187968337,
          1.0028856819940222,
          0.9637179925479827,
          1.0388886324191913
         ],
         "y": [
          27.30708552307209,
          25.57338639495117,
          68.63063626018624,
          44.781547662322794,
          48.105577740072874,
          6.903619107009092,
          57.94734581710594,
          28.588648083104715,
          40.34177834918057,
          35.545621906421104,
          26.424114343615315,
          39.544176510306045,
          28.98883824822127,
          43.622725692992304,
          59.42358029099546,
          37.534800989065786,
          40.012482312711256,
          30.037214079938053,
          58.800249608273646,
          54.32864052653122,
          33.80661526559072,
          16.857863281060304
         ]
        },
        {
         "marker": {
          "color": "#5fa641",
          "size": 10,
          "symbol": 27
         },
         "mode": "markers",
         "name": "SMIRNOFF Coverage Torsion Set 1.oeb",
         "type": "scatter",
         "x": [],
         "y": []
        },
        {
         "marker": {
          "color": "#d485b2",
          "size": 10,
          "symbol": 28
         },
         "mode": "markers",
         "name": "TorsionDrive Paper.oeb",
         "type": "scatter",
         "x": [],
         "y": []
        },
        {
         "mode": "lines",
         "showlegend": false,
         "type": "scatter",
         "x": [
          0.9357771730881009,
          0.9381428401175618,
          0.9455544406518676,
          0.9466741770094846,
          0.9484549777933052,
          0.9484549778163799,
          0.9486123502078156,
          0.9489461383829293,
          0.95833191277182,
          0.9589344022166605,
          0.961135219138074,
          0.9616375687638969,
          0.9618287675366732,
          0.9632446676989497,
          0.9637179925479827,
          0.9640330355364414,
          0.9653828586063073,
          0.9669378117373586,
          0.9682898263698732,
          0.9685302080240994,
          0.9704682194016783,
          0.9707080164930949,
          0.9713389159831223,
          0.9720073023110432,
          0.9724173747020896,
          0.9730120871806387,
          0.9747497902016454,
          0.9756257973325952,
          0.9760190788761853,
          0.9764638096335834,
          0.9787253978241032,
          0.9790245287102739,
          0.9792792626470378,
          0.9795827713939906,
          0.9796116913580862,
          0.9799926532322926,
          0.9800243942808822,
          0.9817447156704435,
          0.9824150990679467,
          0.983161397946625,
          0.9831613979790008,
          0.9838172999147792,
          0.9838285520736574,
          0.9853256111592886,
          0.9859339530306974,
          0.9859715500978623,
          0.9862290411653054,
          0.986439083903751,
          0.9866332050438857,
          0.9878716336491372,
          0.9879819581170395,
          0.9884751360504095,
          0.9884850243527756,
          0.9896737975100787,
          0.9901344484559773,
          0.9903231706768596,
          0.9916040618448082,
          0.9927412109773044,
          0.9929029119914149,
          0.993190943230023,
          0.9932521111910383,
          0.9953374011945388,
          0.9953585331744459,
          0.9954664566264656,
          0.9967074186155884,
          0.9970010039899031,
          0.9970010040062619,
          0.9978495858066116,
          0.9980913452617322,
          0.9986764033841705,
          0.9987319733248128,
          0.9991764959231579,
          1.0005863991602493,
          1.0006145886168758,
          1.0006337219718984,
          1.0012070055299676,
          1.0013635601728335,
          1.0016923924136747,
          1.0017129705512131,
          1.0019405082307193,
          1.00208825118986,
          1.0028197023185004,
          1.0028721937339091,
          1.0028856819940222,
          1.0034648037686373,
          1.0034735656053275,
          1.0044168630099324,
          1.0052305317658203,
          1.005684361294231,
          1.0062680387058098,
          1.006529563939825,
          1.007419233890741,
          1.0074616980959759,
          1.0075907234382921,
          1.0078608634622837,
          1.0079733540614193,
          1.0090196141795404,
          1.009451566067337,
          1.0097056668507758,
          1.0104799044430088,
          1.0105896915290544,
          1.010921225803417,
          1.011372419853069,
          1.0114400973165834,
          1.0116173208369554,
          1.0117330140671645,
          1.0117650252190682,
          1.0117663374079824,
          1.011792587035924,
          1.0118506076542853,
          1.0121936334491806,
          1.0123762458920706,
          1.0124483909786561,
          1.0127563184827955,
          1.0131502240156474,
          1.0134041913637524,
          1.0135864078789587,
          1.0137014305741854,
          1.0150841408162505,
          1.0153363329711125,
          1.0154502905264677,
          1.0158270858380383,
          1.0159486864007308,
          1.0168331366750023,
          1.017124282998095,
          1.017502145676756,
          1.017589016076003,
          1.017688780024651,
          1.0179426981431494,
          1.0179756072901038,
          1.0179841024219187,
          1.0183569335536722,
          1.0185482568343058,
          1.0190651445506802,
          1.0191572955153165,
          1.019361096320633,
          1.0195815858319262,
          1.0197338006219674,
          1.0200687930278463,
          1.020545102248298,
          1.0206304675734383,
          1.0207303560838707,
          1.0209235832561467,
          1.0210251568348665,
          1.0210572376231537,
          1.0214931807436676,
          1.022070709022429,
          1.0224101807669825,
          1.022634608991973,
          1.0229246702774684,
          1.02300420958372,
          1.0231949833998257,
          1.023264152565711,
          1.023901262720791,
          1.0251112045842625,
          1.0257273526765702,
          1.0276233888004143,
          1.0283792229466155,
          1.0285044390239715,
          1.0285525048214852,
          1.0287708198418435,
          1.029666548618361,
          1.0297101857428512,
          1.0306435952108373,
          1.0308510230929535,
          1.0311056182511624,
          1.0323453723249016,
          1.0327210772207225,
          1.0332535438736954,
          1.0337191641083099,
          1.035126968784631,
          1.035311693566354,
          1.0361869536179036,
          1.0367214955520516,
          1.0373841499806034,
          1.0385260483145249,
          1.0387644504572822,
          1.0388886324191913,
          1.0394510062899391,
          1.04048451010751,
          1.040655676366165,
          1.0421122399468175,
          1.0437179740458544,
          1.043870319743726,
          1.0439199408903563,
          1.043958518662337,
          1.045402888567233,
          1.0456354984730292,
          1.0472488370534785,
          1.0477082942059643,
          1.0484922539905874,
          1.0491662479707866,
          1.050680400978797,
          1.0507405932645817,
          1.0509780923635286,
          1.0514535981909727,
          1.0520977959623734,
          1.0523700990303178,
          1.0525711248373408,
          1.053029687778485,
          1.053305536338519,
          1.053660383895871,
          1.0551945230798834,
          1.055208991509266,
          1.0555288189072627,
          1.0556509994023195,
          1.0557613428888126,
          1.0558189550050565,
          1.056326956564059,
          1.0565930706795394,
          1.0568006774085654,
          1.0570674408056395,
          1.0578610992809536,
          1.058094501370869,
          1.0590305517520644,
          1.0598768151935263,
          1.0603080056719645,
          1.0604090655028495,
          1.0604392845353114,
          1.0606021947607278,
          1.0606899945835278,
          1.0609430381294815,
          1.0609711605420753,
          1.061310348946442,
          1.0616748576339137,
          1.0617441916286992,
          1.0620352358985747,
          1.0622550777767898,
          1.0622657519263243,
          1.062808638780103,
          1.0630172602857086,
          1.06359251242035,
          1.0639171574770132,
          1.0640443822347758,
          1.064228418751874,
          1.0643316509027732,
          1.0647667515583619,
          1.0649274967051074,
          1.065409812413369,
          1.0657362699086144,
          1.0658239103239262,
          1.0663162433285416,
          1.066381411717585,
          1.0664765811323458,
          1.0666818918301626,
          1.0676589407103023,
          1.068141254926951,
          1.068175210320346,
          1.0687985036256733,
          1.069725769933647,
          1.069839637918222,
          1.0701997819880948,
          1.0702919868307854,
          1.070753322567115,
          1.0710021678704755,
          1.0713188592201006,
          1.0726728034729667,
          1.0728702427123291,
          1.0732664013278606,
          1.0737618966338092,
          1.07413735528178,
          1.07495658055845,
          1.0750913809402585,
          1.0751774125520026,
          1.075251022989856,
          1.0759718176566408,
          1.0761358052233863,
          1.0763195244791517,
          1.0767721674111526,
          1.0774012215928306,
          1.0784724571351332,
          1.0787871239214128,
          1.0789451450664715,
          1.0793045540013624,
          1.0798356303748058,
          1.0806730587466569,
          1.0807116165142496,
          1.0808387344103774,
          1.080953989936498,
          1.081224041039967,
          1.0814881121331708,
          1.0815710057602603,
          1.0819180331052805,
          1.0823426126882898,
          1.0831536467991292,
          1.083379204150942,
          1.0835597096773195,
          1.083706353512928,
          1.0842709630515375,
          1.0845221860737675,
          1.0847931511625288,
          1.0848176789423574,
          1.0855406450947815,
          1.0864059455795148,
          1.0864138282601064,
          1.0869222660489208,
          1.0876380999326805,
          1.088183648712686,
          1.0882151779483857,
          1.0903311851843318,
          1.0909671187721208,
          1.0937132137738352,
          1.0976076791637264,
          1.09859168481306,
          1.0985927032331384,
          1.0999482107606275,
          1.1005672627973255,
          1.100872643290413,
          1.1009419747055913,
          1.1078718055837984,
          1.1091366875725261,
          1.110129609668792,
          1.1117486815944693,
          1.1134362737387788,
          1.1151365868652947,
          1.1160699021952927,
          1.1162249336360783,
          1.1167381826664964,
          1.1173907242853731,
          1.1186177884737265,
          1.1231109857644406,
          1.1238197218946577,
          1.1246133674982288,
          1.1252045845055285,
          1.1259856185712729,
          1.127692904941416,
          1.1283165768143137,
          1.128885652360641,
          1.129972601651227,
          1.1301315831096543,
          1.1307829480865819,
          1.1309384751881217,
          1.131015466282953,
          1.1313170025294585,
          1.13247449447008,
          1.1344922980273098,
          1.134880120255293,
          1.1351975588220542,
          1.1417169836058356,
          1.1436348680230912,
          1.147797091902179,
          1.1480053763183378,
          1.1489818187968337,
          1.1490009074616832,
          1.1516881021379592,
          1.152129838409495,
          1.1525944284650154,
          1.1541319092941562,
          1.1561810009277487,
          1.156719438653949,
          1.1571972738976815,
          1.157553469155518,
          1.157621824950123,
          1.1587592056211777,
          1.158998647579621,
          1.1592288109588003,
          1.1596806506337658,
          1.1650905098191042,
          1.1666951827261045,
          1.16707365179182,
          1.1721394240933214
         ],
         "y": [
          17.330668432332132,
          17.566767209498664,
          18.306461258240248,
          18.418213411645596,
          18.59594125001051,
          18.59594125231341,
          18.61164736340811,
          18.644960158064137,
          19.58168110331188,
          19.641810876188245,
          19.861457249681294,
          19.911592848178387,
          19.930674906594064,
          20.07198485966026,
          20.11922372154045,
          20.15066570530388,
          20.28538101908967,
          20.440568764541794,
          20.575502801104278,
          20.599493419356676,
          20.79291122105191,
          20.816843498649092,
          20.879808656575136,
          20.946515083444055,
          20.98744121077732,
          21.046794825298093,
          21.220221412061562,
          21.307648852115776,
          21.34689921591061,
          21.391284324500447,
          21.616995804428228,
          21.64684972535545,
          21.67227273299929,
          21.7025635740697,
          21.70544985014898,
          21.743470683819595,
          21.746638510341526,
          21.918330372023945,
          21.985236110833398,
          22.05971838177956,
          22.05971838501074,
          22.1251788420615,
          22.126301832287325,
          22.27571162456232,
          22.336425482493354,
          22.340177752560166,
          22.365875927915155,
          22.38683865558653,
          22.406212372697695,
          22.529810273698388,
          22.540820898456175,
          22.590041141856503,
          22.591028016200113,
          22.709670194187268,
          22.755644172635144,
          22.774479065720072,
          22.90231482395228,
          23.01580481062193,
          23.031942927788307,
          23.060689079454733,
          23.066793776615242,
          23.274910309387096,
          23.277019327500383,
          23.287790325587665,
          23.41164106387555,
          23.440941530512006,
          23.44094153214465,
          23.525631863832615,
          23.54975998964727,
          23.60815007817571,
          23.613696080579885,
          23.65806041443801,
          23.7987718611695,
          23.801585230995272,
          23.803494781945446,
          23.860709743030085,
          23.87633424101736,
          23.909152422523334,
          23.911206165949054,
          23.9339149272505,
          23.94865999980452,
          24.021660432612023,
          24.026899191421023,
          24.028245349472485,
          24.08604297742029,
          24.086917428009713,
          24.181060585503147,
          24.26226651849852,
          24.307559704464865,
          24.36581199501012,
          24.391912789069565,
          24.480703808632853,
          24.48494182979323,
          24.497818842984444,
          24.524779412047565,
          24.536006221470828,
          24.640425284428645,
          24.683535033701688,
          24.708894851249894,
          24.786165467311292,
          24.797122460176823,
          24.83021031057632,
          24.875240469960957,
          24.88199482980049,
          24.89968212726201,
          24.91122856631648,
          24.914423349743743,
          24.914554309085943,
          24.917174079738743,
          24.922964665174035,
          24.95719939461938,
          24.97542451841103,
          24.98262475686778,
          25.013356599632573,
          25.05266923892934,
          25.078015739337516,
          25.096201348674754,
          25.107680866861898,
          25.245678392828864,
          25.270847725043566,
          25.282220939926816,
          25.319825941474377,
          25.331961945314703,
          25.420232029658607,
          25.44928907361394,
          25.48700060074674,
          25.495670457822484,
          25.50562711951146,
          25.530968706696513,
          25.534253112006624,
          25.535100944862393,
          25.57231031253771,
          25.591404797111636,
          25.642991329048982,
          25.652188198174855,
          25.67252796717935,
          25.694533305777753,
          25.709724676899654,
          25.743157656436978,
          25.790694365154366,
          25.799214012521063,
          25.80918310575032,
          25.828467602901256,
          25.838604869655,
          25.841806602946633,
          25.885314686030895,
          25.94295327958467,
          25.976833306982243,
          25.999231737878063,
          26.028180492692655,
          26.036118690549245,
          26.05515833735373,
          26.062061572373608,
          26.12564656834367,
          26.246401429805857,
          26.307894365766714,
          26.497122944737598,
          26.57255685637287,
          26.585053696535553,
          26.58985076893636,
          26.61163908855268,
          26.701034792248493,
          26.705389873332564,
          26.798546192984787,
          26.8192479522383,
          26.844657109476856,
          26.968387295150436,
          27.005883470805813,
          27.059024814910146,
          27.105494739310927,
          27.245996745057894,
          27.264432684915036,
          27.351785564800537,
          27.405134026534526,
          27.471268397228584,
          27.585232364655056,
          27.609025423305283,
          27.621419056469946,
          27.677545206744043,
          27.780691162826045,
          27.797773932234136,
          27.943142183968078,
          28.103397981811113,
          28.11860241782267,
          28.123554717489156,
          28.127404864055435,
          28.271556160106513,
          28.294771140757362,
          28.455785882585374,
          28.50164071782271,
          28.579881630086433,
          28.647147712997054,
          28.798263516354936,
          28.80427083897966,
          28.827973771869722,
          28.8754303001964,
          28.93972265587749,
          28.96689910148868,
          28.986961919554787,
          29.03272751053177,
          29.060257804058338,
          29.095672371420505,
          29.248782839139693,
          29.250226820241934,
          29.282146298609348,
          29.294340180976263,
          29.305352703831275,
          29.311102519856007,
          29.36180219372622,
          29.388360968257558,
          29.40908057682637,
          29.43570415109005,
          29.514913014034818,
          29.538207056404616,
          29.631626945008676,
          29.716085899376154,
          29.759119658319108,
          29.76920565190801,
          29.772221577869928,
          29.788480376986513,
          29.797242992578802,
          29.82249729549868,
          29.82530397418239,
          29.859155723605582,
          29.895534493021103,
          29.90245417832807,
          29.93150103714767,
          29.953441740539233,
          29.954507044160152,
          30.008688347243265,
          30.02950923274858,
          30.086920662108625,
          30.119320953416235,
          30.132018264305287,
          30.150385513837776,
          30.160688309746078,
          30.204112312976264,
          30.220155032475446,
          30.26829120189855,
          30.30087237856644,
          30.309619084940493,
          30.358755002591124,
          30.365258951275138,
          30.374757068368055,
          30.395247527967868,
          30.492759157017986,
          30.540895177574825,
          30.544284000582863,
          30.60649004453208,
          30.699033263291923,
          30.71039753881412,
          30.746340709785272,
          30.75554295605957,
          30.801585278099907,
          30.826420587167235,
          30.85802708100367,
          30.993153697924967,
          31.01285856864331,
          31.052396070551296,
          31.101847592836265,
          31.13931919241412,
          31.22107967841532,
          31.234533053260648,
          31.243119197497137,
          31.25046568123615,
          31.322402575692024,
          31.338768895844836,
          31.357104481997908,
          31.402279243030463,
          31.4650602351211,
          31.571971900391503,
          31.60337633834932,
          31.61914719648371,
          31.655016999365387,
          31.708019590512208,
          31.791596785483577,
          31.795444935567915,
          31.808131581430573,
          31.819634336653465,
          31.8465860312527,
          31.87294090766345,
          31.88121387412366,
          31.91584796708021,
          31.95822194410657,
          32.039164933726354,
          32.06167605396463,
          32.07969090285029,
          32.094326280456286,
          32.1506755553044,
          32.17574816594906,
          32.202791078292464,
          32.20523900471322,
          32.277392618216055,
          32.363751511408935,
          32.3645382202844,
          32.41528143085013,
          32.48672322823974,
          32.54117019742007,
          32.54431688454933,
          32.755499064738174,
          32.81896663670257,
          33.09303296294952,
          33.48170918188478,
          33.57991511181464,
          33.58001675238036,
          33.715299387550346,
          33.7770821435539,
          33.80755978900889,
          33.81447921686538,
          34.50609159339176,
          34.63232960029616,
          34.73142541125796,
          34.89301235356072,
          35.06143776451897,
          35.231132757504554,
          35.32427968197834,
          35.33975216104493,
          35.39097554411386,
          35.456100634140654,
          35.57856434131803,
          36.02699532196509,
          36.097728747926624,
          36.176936326243094,
          36.235941085038476,
          36.31389000411761,
          36.48428094216764,
          36.546524767993745,
          36.603319760243295,
          36.71179969218363,
          36.727666391706165,
          36.79267405027625,
          36.808195997377226,
          36.815879878124605,
          36.84597385930823,
          36.961494103010125,
          37.162875339883854,
          37.20158085196333,
          37.23326191971482,
          37.88391486457611,
          38.075323951324876,
          38.49072305690818,
          38.511510300144664,
          38.608961408975844,
          38.61086649974838,
          38.87905444385723,
          38.92314069616613,
          38.969507806425554,
          39.122951777684634,
          39.3274556334549,
          39.381192903811666,
          39.42888191301175,
          39.46443098384904,
          39.471253042624625,
          39.58476613735212,
          39.60866297189679,
          39.631633783805654,
          39.67672837801784,
          40.2166442336286,
          40.37679412217034,
          40.41456616806606,
          40.92014139521926
         ]
        }
       ],
       "layout": {
        "annotations": [
         {
          "font": {
           "color": "black",
           "family": "Times",
           "size": 18
          },
          "showarrow": false,
          "text": "slope: 99.80, r_val: 0.39",
          "x": 1,
          "xref": "paper",
          "y": 0.2,
          "yref": "paper"
         }
        ],
        "autosize": false,
        "dragmode": "select",
        "height": 800,
        "hovermode": false,
        "legend": {
         "font": {
          "color": "black",
          "family": "Rockwell",
          "size": 14
         },
         "orientation": "h",
         "y": -0.2
        },
        "margin": {
         "b": 40,
         "l": 40,
         "r": 10,
         "t": 40
        },
        "template": {
         "data": {
          "bar": [
           {
            "error_x": {
             "color": "#2a3f5f"
            },
            "error_y": {
             "color": "#2a3f5f"
            },
            "marker": {
             "line": {
              "color": "#E5ECF6",
              "width": 0.5
             }
            },
            "type": "bar"
           }
          ],
          "barpolar": [
           {
            "marker": {
             "line": {
              "color": "#E5ECF6",
              "width": 0.5
             }
            },
            "type": "barpolar"
           }
          ],
          "carpet": [
           {
            "aaxis": {
             "endlinecolor": "#2a3f5f",
             "gridcolor": "white",
             "linecolor": "white",
             "minorgridcolor": "white",
             "startlinecolor": "#2a3f5f"
            },
            "baxis": {
             "endlinecolor": "#2a3f5f",
             "gridcolor": "white",
             "linecolor": "white",
             "minorgridcolor": "white",
             "startlinecolor": "#2a3f5f"
            },
            "type": "carpet"
           }
          ],
          "choropleth": [
           {
            "colorbar": {
             "outlinewidth": 0,
             "ticks": ""
            },
            "type": "choropleth"
           }
          ],
          "contour": [
           {
            "colorbar": {
             "outlinewidth": 0,
             "ticks": ""
            },
            "colorscale": [
             [
              0,
              "#0d0887"
             ],
             [
              0.1111111111111111,
              "#46039f"
             ],
             [
              0.2222222222222222,
              "#7201a8"
             ],
             [
              0.3333333333333333,
              "#9c179e"
             ],
             [
              0.4444444444444444,
              "#bd3786"
             ],
             [
              0.5555555555555556,
              "#d8576b"
             ],
             [
              0.6666666666666666,
              "#ed7953"
             ],
             [
              0.7777777777777778,
              "#fb9f3a"
             ],
             [
              0.8888888888888888,
              "#fdca26"
             ],
             [
              1,
              "#f0f921"
             ]
            ],
            "type": "contour"
           }
          ],
          "contourcarpet": [
           {
            "colorbar": {
             "outlinewidth": 0,
             "ticks": ""
            },
            "type": "contourcarpet"
           }
          ],
          "heatmap": [
           {
            "colorbar": {
             "outlinewidth": 0,
             "ticks": ""
            },
            "colorscale": [
             [
              0,
              "#0d0887"
             ],
             [
              0.1111111111111111,
              "#46039f"
             ],
             [
              0.2222222222222222,
              "#7201a8"
             ],
             [
              0.3333333333333333,
              "#9c179e"
             ],
             [
              0.4444444444444444,
              "#bd3786"
             ],
             [
              0.5555555555555556,
              "#d8576b"
             ],
             [
              0.6666666666666666,
              "#ed7953"
             ],
             [
              0.7777777777777778,
              "#fb9f3a"
             ],
             [
              0.8888888888888888,
              "#fdca26"
             ],
             [
              1,
              "#f0f921"
             ]
            ],
            "type": "heatmap"
           }
          ],
          "heatmapgl": [
           {
            "colorbar": {
             "outlinewidth": 0,
             "ticks": ""
            },
            "colorscale": [
             [
              0,
              "#0d0887"
             ],
             [
              0.1111111111111111,
              "#46039f"
             ],
             [
              0.2222222222222222,
              "#7201a8"
             ],
             [
              0.3333333333333333,
              "#9c179e"
             ],
             [
              0.4444444444444444,
              "#bd3786"
             ],
             [
              0.5555555555555556,
              "#d8576b"
             ],
             [
              0.6666666666666666,
              "#ed7953"
             ],
             [
              0.7777777777777778,
              "#fb9f3a"
             ],
             [
              0.8888888888888888,
              "#fdca26"
             ],
             [
              1,
              "#f0f921"
             ]
            ],
            "type": "heatmapgl"
           }
          ],
          "histogram": [
           {
            "marker": {
             "colorbar": {
              "outlinewidth": 0,
              "ticks": ""
             }
            },
            "type": "histogram"
           }
          ],
          "histogram2d": [
           {
            "colorbar": {
             "outlinewidth": 0,
             "ticks": ""
            },
            "colorscale": [
             [
              0,
              "#0d0887"
             ],
             [
              0.1111111111111111,
              "#46039f"
             ],
             [
              0.2222222222222222,
              "#7201a8"
             ],
             [
              0.3333333333333333,
              "#9c179e"
             ],
             [
              0.4444444444444444,
              "#bd3786"
             ],
             [
              0.5555555555555556,
              "#d8576b"
             ],
             [
              0.6666666666666666,
              "#ed7953"
             ],
             [
              0.7777777777777778,
              "#fb9f3a"
             ],
             [
              0.8888888888888888,
              "#fdca26"
             ],
             [
              1,
              "#f0f921"
             ]
            ],
            "type": "histogram2d"
           }
          ],
          "histogram2dcontour": [
           {
            "colorbar": {
             "outlinewidth": 0,
             "ticks": ""
            },
            "colorscale": [
             [
              0,
              "#0d0887"
             ],
             [
              0.1111111111111111,
              "#46039f"
             ],
             [
              0.2222222222222222,
              "#7201a8"
             ],
             [
              0.3333333333333333,
              "#9c179e"
             ],
             [
              0.4444444444444444,
              "#bd3786"
             ],
             [
              0.5555555555555556,
              "#d8576b"
             ],
             [
              0.6666666666666666,
              "#ed7953"
             ],
             [
              0.7777777777777778,
              "#fb9f3a"
             ],
             [
              0.8888888888888888,
              "#fdca26"
             ],
             [
              1,
              "#f0f921"
             ]
            ],
            "type": "histogram2dcontour"
           }
          ],
          "mesh3d": [
           {
            "colorbar": {
             "outlinewidth": 0,
             "ticks": ""
            },
            "type": "mesh3d"
           }
          ],
          "parcoords": [
           {
            "line": {
             "colorbar": {
              "outlinewidth": 0,
              "ticks": ""
             }
            },
            "type": "parcoords"
           }
          ],
          "pie": [
           {
            "automargin": true,
            "type": "pie"
           }
          ],
          "scatter": [
           {
            "marker": {
             "colorbar": {
              "outlinewidth": 0,
              "ticks": ""
             }
            },
            "type": "scatter"
           }
          ],
          "scatter3d": [
           {
            "line": {
             "colorbar": {
              "outlinewidth": 0,
              "ticks": ""
             }
            },
            "marker": {
             "colorbar": {
              "outlinewidth": 0,
              "ticks": ""
             }
            },
            "type": "scatter3d"
           }
          ],
          "scattercarpet": [
           {
            "marker": {
             "colorbar": {
              "outlinewidth": 0,
              "ticks": ""
             }
            },
            "type": "scattercarpet"
           }
          ],
          "scattergeo": [
           {
            "marker": {
             "colorbar": {
              "outlinewidth": 0,
              "ticks": ""
             }
            },
            "type": "scattergeo"
           }
          ],
          "scattergl": [
           {
            "marker": {
             "colorbar": {
              "outlinewidth": 0,
              "ticks": ""
             }
            },
            "type": "scattergl"
           }
          ],
          "scattermapbox": [
           {
            "marker": {
             "colorbar": {
              "outlinewidth": 0,
              "ticks": ""
             }
            },
            "type": "scattermapbox"
           }
          ],
          "scatterpolar": [
           {
            "marker": {
             "colorbar": {
              "outlinewidth": 0,
              "ticks": ""
             }
            },
            "type": "scatterpolar"
           }
          ],
          "scatterpolargl": [
           {
            "marker": {
             "colorbar": {
              "outlinewidth": 0,
              "ticks": ""
             }
            },
            "type": "scatterpolargl"
           }
          ],
          "scatterternary": [
           {
            "marker": {
             "colorbar": {
              "outlinewidth": 0,
              "ticks": ""
             }
            },
            "type": "scatterternary"
           }
          ],
          "surface": [
           {
            "colorbar": {
             "outlinewidth": 0,
             "ticks": ""
            },
            "colorscale": [
             [
              0,
              "#0d0887"
             ],
             [
              0.1111111111111111,
              "#46039f"
             ],
             [
              0.2222222222222222,
              "#7201a8"
             ],
             [
              0.3333333333333333,
              "#9c179e"
             ],
             [
              0.4444444444444444,
              "#bd3786"
             ],
             [
              0.5555555555555556,
              "#d8576b"
             ],
             [
              0.6666666666666666,
              "#ed7953"
             ],
             [
              0.7777777777777778,
              "#fb9f3a"
             ],
             [
              0.8888888888888888,
              "#fdca26"
             ],
             [
              1,
              "#f0f921"
             ]
            ],
            "type": "surface"
           }
          ],
          "table": [
           {
            "cells": {
             "fill": {
              "color": "#EBF0F8"
             },
             "line": {
              "color": "white"
             }
            },
            "header": {
             "fill": {
              "color": "#C8D4E3"
             },
             "line": {
              "color": "white"
             }
            },
            "type": "table"
           }
          ]
         },
         "layout": {
          "annotationdefaults": {
           "arrowcolor": "#2a3f5f",
           "arrowhead": 0,
           "arrowwidth": 1
          },
          "coloraxis": {
           "colorbar": {
            "outlinewidth": 0,
            "ticks": ""
           }
          },
          "colorscale": {
           "diverging": [
            [
             0,
             "#8e0152"
            ],
            [
             0.1,
             "#c51b7d"
            ],
            [
             0.2,
             "#de77ae"
            ],
            [
             0.3,
             "#f1b6da"
            ],
            [
             0.4,
             "#fde0ef"
            ],
            [
             0.5,
             "#f7f7f7"
            ],
            [
             0.6,
             "#e6f5d0"
            ],
            [
             0.7,
             "#b8e186"
            ],
            [
             0.8,
             "#7fbc41"
            ],
            [
             0.9,
             "#4d9221"
            ],
            [
             1,
             "#276419"
            ]
           ],
           "sequential": [
            [
             0,
             "#0d0887"
            ],
            [
             0.1111111111111111,
             "#46039f"
            ],
            [
             0.2222222222222222,
             "#7201a8"
            ],
            [
             0.3333333333333333,
             "#9c179e"
            ],
            [
             0.4444444444444444,
             "#bd3786"
            ],
            [
             0.5555555555555556,
             "#d8576b"
            ],
            [
             0.6666666666666666,
             "#ed7953"
            ],
            [
             0.7777777777777778,
             "#fb9f3a"
            ],
            [
             0.8888888888888888,
             "#fdca26"
            ],
            [
             1,
             "#f0f921"
            ]
           ],
           "sequentialminus": [
            [
             0,
             "#0d0887"
            ],
            [
             0.1111111111111111,
             "#46039f"
            ],
            [
             0.2222222222222222,
             "#7201a8"
            ],
            [
             0.3333333333333333,
             "#9c179e"
            ],
            [
             0.4444444444444444,
             "#bd3786"
            ],
            [
             0.5555555555555556,
             "#d8576b"
            ],
            [
             0.6666666666666666,
             "#ed7953"
            ],
            [
             0.7777777777777778,
             "#fb9f3a"
            ],
            [
             0.8888888888888888,
             "#fdca26"
            ],
            [
             1,
             "#f0f921"
            ]
           ]
          },
          "colorway": [
           "#636efa",
           "#EF553B",
           "#00cc96",
           "#ab63fa",
           "#FFA15A",
           "#19d3f3",
           "#FF6692",
           "#B6E880",
           "#FF97FF",
           "#FECB52"
          ],
          "font": {
           "color": "#2a3f5f"
          },
          "geo": {
           "bgcolor": "white",
           "lakecolor": "white",
           "landcolor": "#E5ECF6",
           "showlakes": true,
           "showland": true,
           "subunitcolor": "white"
          },
          "hoverlabel": {
           "align": "left"
          },
          "hovermode": "closest",
          "mapbox": {
           "style": "light"
          },
          "paper_bgcolor": "white",
          "plot_bgcolor": "#E5ECF6",
          "polar": {
           "angularaxis": {
            "gridcolor": "white",
            "linecolor": "white",
            "ticks": ""
           },
           "bgcolor": "#E5ECF6",
           "radialaxis": {
            "gridcolor": "white",
            "linecolor": "white",
            "ticks": ""
           }
          },
          "scene": {
           "xaxis": {
            "backgroundcolor": "#E5ECF6",
            "gridcolor": "white",
            "gridwidth": 2,
            "linecolor": "white",
            "showbackground": true,
            "ticks": "",
            "zerolinecolor": "white"
           },
           "yaxis": {
            "backgroundcolor": "#E5ECF6",
            "gridcolor": "white",
            "gridwidth": 2,
            "linecolor": "white",
            "showbackground": true,
            "ticks": "",
            "zerolinecolor": "white"
           },
           "zaxis": {
            "backgroundcolor": "#E5ECF6",
            "gridcolor": "white",
            "gridwidth": 2,
            "linecolor": "white",
            "showbackground": true,
            "ticks": "",
            "zerolinecolor": "white"
           }
          },
          "shapedefaults": {
           "line": {
            "color": "#2a3f5f"
           }
          },
          "ternary": {
           "aaxis": {
            "gridcolor": "white",
            "linecolor": "white",
            "ticks": ""
           },
           "baxis": {
            "gridcolor": "white",
            "linecolor": "white",
            "ticks": ""
           },
           "bgcolor": "#E5ECF6",
           "caxis": {
            "gridcolor": "white",
            "linecolor": "white",
            "ticks": ""
           }
          },
          "title": {
           "x": 0.05
          },
          "xaxis": {
           "automargin": true,
           "gridcolor": "white",
           "linecolor": "white",
           "ticks": "",
           "title": {
            "standoff": 15
           },
           "zerolinecolor": "white",
           "zerolinewidth": 2
          },
          "yaxis": {
           "automargin": true,
           "gridcolor": "white",
           "linecolor": "white",
           "ticks": "",
           "title": {
            "standoff": 15
           },
           "zerolinecolor": "white",
           "zerolinewidth": 2
          }
         }
        },
        "title": {
         "text": "t69",
         "x": 0.5,
         "xanchor": "center",
         "yanchor": "top"
        },
        "width": 900,
        "xaxis": {
         "gridcolor": "black",
         "gridwidth": 1,
         "linecolor": "black",
         "linewidth": 2,
         "mirror": true,
         "showgrid": false,
         "showline": true,
         "tickcolor": "black",
         "tickfont": {
          "color": "black",
          "family": "Rockwell",
          "size": 14
         },
         "ticklen": 10,
         "ticks": "outside",
         "tickwidth": 2,
         "title": {
          "font": {
           "color": "black",
           "family": "Rockwell",
           "size": 18
          },
          "text": "Wiberg Bond Order"
         }
        },
        "yaxis": {
         "gridcolor": "black",
         "gridwidth": 1,
         "linecolor": "black",
         "linewidth": 2,
         "mirror": true,
         "showgrid": false,
         "showline": true,
         "tickcolor": "black",
         "tickfont": {
          "color": "black",
          "family": "Rockwell",
          "size": 14
         },
         "ticklen": 10,
         "ticks": "outside",
         "tickwidth": 2,
         "title": {
          "font": {
           "color": "black",
           "family": "Rockwell",
           "size": 18
          },
          "text": "Torsion barrier in KJ/mol"
         }
        }
       }
      },
      "text/html": [
       "<div>                            <div id=\"dfb7363a-e514-425e-9c3a-7efef246a309\" class=\"plotly-graph-div\" style=\"height:800px; width:900px;\"></div>            <script type=\"text/javascript\">                require([\"plotly\"], function(Plotly) {                    window.PLOTLYENV=window.PLOTLYENV || {};                                    if (document.getElementById(\"dfb7363a-e514-425e-9c3a-7efef246a309\")) {                    Plotly.newPlot(                        \"dfb7363a-e514-425e-9c3a-7efef246a309\",                        [{\"marker\": {\"color\": \"#ebce2b\", \"size\": 10, \"symbol\": 0}, \"mode\": \"markers\", \"name\": \"Fragment Stability Benchmark.oeb\", \"type\": \"scatter\", \"x\": [1.0598768151935263, 1.0609430381294815, 1.055208991509266, 1.0551945230798834, 1.1490009074616832, 1.1516881021379592, 1.1587592056211777, 1.0664765811323458, 1.070753322567115, 1.0603080056719645, 1.0616748576339137, 1.0687985036256733, 1.0643316509027732, 1.053660383895871, 1.0604090655028495, 1.0570674408056395, 1.0620352358985747, 0.9796116913580862, 1.0257273526765702, 1.157621824950123, 0.9953374011945388, 1.0195815858319262, 1.0052305317658203, 1.023901262720791, 1.0179756072901038, 1.0179426981431494, 1.0231949833998257, 1.0456354984730292, 1.053029687778485, 1.0525711248373408, 1.0713188592201006, 1.058094501370869, 1.0557613428888126, 1.0491662479707866, 1.0558189550050565, 1.0439199408903563, 1.0750913809402585, 1.0789451450664715, 1.0761358052233863, 1.1561810009277487, 1.0617441916286992, 1.043958518662337, 1.04048451010751], \"y\": [31.05144779881573, 29.718044858505095, 25.914020030914344, 25.676164350046406, 48.92958790813111, 49.06538029066962, 49.32262888280371, 43.616028197644596, 43.62820252731922, 31.17171779134162, 29.381200140739566, 30.842142732183788, 26.61161650918666, 25.346714111856045, 26.255172971017885, 24.732534878250704, 31.29205167931309, 45.566519874162736, 41.925204549203215, 45.699873577145524, 33.23634509793902, 55.94327315012299, 31.334651009518723, 43.012127347862304, 47.99314459561333, 56.797619526650124, 35.2897121520038, 27.68450169222706, 23.74733118436143, 31.767810913830886, 43.925736221845, 38.84692154102112, 32.38889421410954, 32.52727158897176, 20.827334172392682, 21.6229444532745, 36.035942524836514, 40.28886345887099, 37.564685816295196, 56.92203754084562, 29.050693434729396, 37.68041244493935, 37.57010597119563]}, {\"marker\": {\"color\": \"#702c8c\", \"size\": 10, \"symbol\": 1}, \"mode\": \"markers\", \"name\": \"Fragment Stability Benchmark.oeb\", \"type\": \"scatter\", \"x\": [1.0598768151935263, 1.0609430381294815, 1.055208991509266, 1.0551945230798834, 1.1490009074616832, 1.1516881021379592, 1.1587592056211777, 1.0664765811323458, 1.070753322567115, 1.0603080056719645, 1.0616748576339137, 1.0687985036256733, 1.0643316509027732, 1.053660383895871, 1.0604090655028495, 1.0570674408056395, 1.0620352358985747, 0.9796116913580862, 1.0257273526765702, 1.157621824950123, 0.9953374011945388, 1.0195815858319262, 1.0052305317658203, 1.023901262720791, 1.0179756072901038, 1.0179426981431494, 1.0231949833998257, 1.0456354984730292, 1.053029687778485, 1.0525711248373408, 1.0713188592201006, 1.058094501370869, 1.0557613428888126, 1.0491662479707866, 1.0558189550050565, 1.0439199408903563, 1.0750913809402585, 1.0789451450664715, 1.0761358052233863, 1.1561810009277487, 1.0617441916286992, 1.043958518662337, 1.04048451010751], \"y\": [31.05144779881573, 29.718044858505095, 25.914020030914344, 25.676164350046406, 48.92958790813111, 49.06538029066962, 49.32262888280371, 43.616028197644596, 43.62820252731922, 31.17171779134162, 29.381200140739566, 30.842142732183788, 26.61161650918666, 25.346714111856045, 26.255172971017885, 24.732534878250704, 31.29205167931309, 45.566519874162736, 41.925204549203215, 45.699873577145524, 33.23634509793902, 55.94327315012299, 31.334651009518723, 43.012127347862304, 47.99314459561333, 56.797619526650124, 35.2897121520038, 27.68450169222706, 23.74733118436143, 31.767810913830886, 43.925736221845, 38.84692154102112, 32.38889421410954, 32.52727158897176, 20.827334172392682, 21.6229444532745, 36.035942524836514, 40.28886345887099, 37.564685816295196, 56.92203754084562, 29.050693434729396, 37.68041244493935, 37.57010597119563]}, {\"marker\": {\"color\": \"#db6917\", \"size\": 10, \"symbol\": 2}, \"mode\": \"markers\", \"name\": \"Fragment Stability Benchmark.oeb\", \"type\": \"scatter\", \"x\": [1.0598768151935263, 1.0609430381294815, 1.055208991509266, 1.0551945230798834, 1.1490009074616832, 1.1516881021379592, 1.1587592056211777, 1.0664765811323458, 1.070753322567115, 1.0603080056719645, 1.0616748576339137, 1.0687985036256733, 1.0643316509027732, 1.053660383895871, 1.0604090655028495, 1.0570674408056395, 1.0620352358985747, 0.9796116913580862, 1.0257273526765702, 1.157621824950123, 0.9953374011945388, 1.0195815858319262, 1.0052305317658203, 1.023901262720791, 1.0179756072901038, 1.0179426981431494, 1.0231949833998257, 1.0456354984730292, 1.053029687778485, 1.0525711248373408, 1.0713188592201006, 1.058094501370869, 1.0557613428888126, 1.0491662479707866, 1.0558189550050565, 1.0439199408903563, 1.0750913809402585, 1.0789451450664715, 1.0761358052233863, 1.1561810009277487, 1.0617441916286992, 1.043958518662337, 1.04048451010751], \"y\": [31.05144779881573, 29.718044858505095, 25.914020030914344, 25.676164350046406, 48.92958790813111, 49.06538029066962, 49.32262888280371, 43.616028197644596, 43.62820252731922, 31.17171779134162, 29.381200140739566, 30.842142732183788, 26.61161650918666, 25.346714111856045, 26.255172971017885, 24.732534878250704, 31.29205167931309, 45.566519874162736, 41.925204549203215, 45.699873577145524, 33.23634509793902, 55.94327315012299, 31.334651009518723, 43.012127347862304, 47.99314459561333, 56.797619526650124, 35.2897121520038, 27.68450169222706, 23.74733118436143, 31.767810913830886, 43.925736221845, 38.84692154102112, 32.38889421410954, 32.52727158897176, 20.827334172392682, 21.6229444532745, 36.035942524836514, 40.28886345887099, 37.564685816295196, 56.92203754084562, 29.050693434729396, 37.68041244493935, 37.57010597119563]}, {\"marker\": {\"color\": \"#96cde6\", \"size\": 10, \"symbol\": 3}, \"mode\": \"markers\", \"name\": \"OpenFF Fragmenter Validation 1.0.oeb\", \"type\": \"scatter\", \"x\": [1.09859168481306, 1.09859168481306, 1.053305536338519], \"y\": [44.88247319721586, 44.882630872404434, 55.00796058127622]}, {\"marker\": {\"color\": \"#ba1c30\", \"size\": 10, \"symbol\": 4}, \"mode\": \"markers\", \"name\": \"OpenFF Full TorsionDrive Benchmark 1.oeb\", \"type\": \"scatter\", \"x\": [1.0079733540614193, 0.9878716336491372, 1.129972601651227, 1.1005672627973255, 1.0332535438736954, 0.9764638096335834, 1.1134362737387788, 0.9929029119914149, 0.9486123502078156, 1.005684361294231, 1.0044168630099324, 1.100872643290413, 1.0578610992809536, 1.1259856185712729, 1.134880120255293, 1.1480053763183378, 1.0556509994023195, 1.0005863991602493, 1.1489818187968337, 1.0028856819940222, 0.9637179925479827, 1.0388886324191913], \"y\": [27.30708552307209, 25.57338639495117, 68.63063626018624, 44.781547662322794, 48.105577740072874, 6.903619107009092, 57.94734581710594, 28.588648083104715, 40.34177834918057, 35.545621906421104, 26.424114343615315, 39.544176510306045, 28.98883824822127, 43.622725692992304, 59.42358029099546, 37.534800989065786, 40.012482312711256, 30.037214079938053, 58.800249608273646, 54.32864052653122, 33.80661526559072, 16.857863281060304]}, {\"marker\": {\"color\": \"#c0bd7f\", \"size\": 10, \"symbol\": 5}, \"mode\": \"markers\", \"name\": \"OpenFF Gen 2 Torsion Set 1 Roche.oeb\", \"type\": \"scatter\", \"x\": [1.0728702427123291], \"y\": [23.5627176338742]}, {\"marker\": {\"color\": \"#7f7e80\", \"size\": 10, \"symbol\": 6}, \"mode\": \"markers\", \"name\": \"OpenFF Gen 2 Torsion Set 1 Roche 2.oeb\", \"type\": \"scatter\", \"x\": [1.0728702427123291, 1.0012070055299676], \"y\": [23.5627176338742, 6.714200486696086]}, {\"marker\": {\"color\": \"#5fa641\", \"size\": 10, \"symbol\": 7}, \"mode\": \"markers\", \"name\": \"OpenFF Gen 2 Torsion Set 2 Coverage.oeb\", \"type\": \"scatter\", \"x\": [], \"y\": []}, {\"marker\": {\"color\": \"#d485b2\", \"size\": 10, \"symbol\": 8}, \"mode\": \"markers\", \"name\": \"OpenFF Gen 2 Torsion Set 2 Coverage 2.oeb\", \"type\": \"scatter\", \"x\": [], \"y\": []}, {\"marker\": {\"color\": \"#4277b6\", \"size\": 10, \"symbol\": 9}, \"mode\": \"markers\", \"name\": \"OpenFF Gen 2 Torsion Set 3 Pfizer Discrepancy.oeb\", \"type\": \"scatter\", \"x\": [0.9637179925479827], \"y\": [33.80661526559072]}, {\"marker\": {\"color\": \"#df8461\", \"size\": 10, \"symbol\": 10}, \"mode\": \"markers\", \"name\": \"OpenFF Gen 2 Torsion Set 3 Pfizer Discrepancy 2.oeb\", \"type\": \"scatter\", \"x\": [0.9637179925479827], \"y\": [33.80661526559072]}, {\"marker\": {\"color\": \"#463397\", \"size\": 10, \"symbol\": 11}, \"mode\": \"markers\", \"name\": \"OpenFF Gen 2 Torsion Set 4 eMolecules Discrepancy.oeb\", \"type\": \"scatter\", \"x\": [1.0118506076542853], \"y\": [4.85924367927413]}, {\"marker\": {\"color\": \"#e1a11a\", \"size\": 10, \"symbol\": 12}, \"mode\": \"markers\", \"name\": \"OpenFF Gen 2 Torsion Set 4 eMolecules Discrepancy 2.oeb\", \"type\": \"scatter\", \"x\": [1.0118506076542853], \"y\": [4.85924367927413]}, {\"marker\": {\"color\": \"#91218c\", \"size\": 10, \"symbol\": 13}, \"mode\": \"markers\", \"name\": \"OpenFF Gen 2 Torsion Set 5 Bayer.oeb\", \"type\": \"scatter\", \"x\": [], \"y\": []}, {\"marker\": {\"color\": \"#e8e948\", \"size\": 10, \"symbol\": 14}, \"mode\": \"markers\", \"name\": \"OpenFF Gen 2 Torsion Set 5 Bayer 2.oeb\", \"type\": \"scatter\", \"x\": [0.9669378117373586], \"y\": [12.369901247312725]}, {\"marker\": {\"color\": \"#7e1510\", \"size\": 10, \"symbol\": 15}, \"mode\": \"markers\", \"name\": \"OpenFF Gen 2 Torsion Set 6 Supplemental.oeb\", \"type\": \"scatter\", \"x\": [], \"y\": []}, {\"marker\": {\"color\": \"#92ae31\", \"size\": 10, \"symbol\": 16}, \"mode\": \"markers\", \"name\": \"OpenFF Gen 2 Torsion Set 6 Supplemental 2.oeb\", \"type\": \"scatter\", \"x\": [], \"y\": []}, {\"marker\": {\"color\": \"#6f340d\", \"size\": 10, \"symbol\": 17}, \"mode\": \"markers\", \"name\": \"OpenFF Group1 Torsions.oeb\", \"type\": \"scatter\", \"x\": [1.0197338006219674, 1.0387644504572822, 1.0200687930278463, 1.0214931807436676, 0.9707080164930949, 1.0114400973165834, 0.9685302080240994, 1.0287708198418435, 0.9720073023110432, 1.017688780024651, 0.9589344022166605, 0.9800243942808822, 0.9704682194016783, 1.007419233890741, 0.961135219138074, 0.9484549778163799, 0.9357771730881009, 1.0019405082307193, 0.9682898263698732, 1.0034735656053275, 1.011792587035924, 0.9747497902016454, 1.0209235832561467, 1.0158270858380383, 1.0179841024219187, 1.0028856819940222, 1.0285044390239715, 1.0159486864007308, 1.0367214955520516, 1.0028197023185004, 1.0121936334491806, 1.0210251568348665, 0.9790245287102739, 1.0078608634622837, 0.9760190788761853, 0.9903231706768596, 0.9987319733248128, 0.9932521111910383, 1.0131502240156474, 1.0097056668507758, 0.9954664566264656, 1.010921225803417, 1.0116173208369554, 1.0185482568343058, 1.0117330140671645, 1.0311056182511624, 1.0074616980959759, 1.011372419853069, 1.0134041913637524, 0.9616375687638969, 1.0012070055299676, 1.0017129705512131, 1.0150841408162505, 1.0105896915290544, 1.0251112045842625, 1.040655676366165, 1.0385260483145249, 0.9824150990679467, 0.9792792626470378, 1.0323453723249016, 1.0658239103239262, 1.069839637918222, 0.9967074186155884, 1.0224101807669825, 1.022634608991973, 1.0663162433285416, 1.0732664013278606, 1.0737618966338092, 0.9853256111592886, 1.065409812413369, 1.0647667515583619, 1.0640443822347758, 1.0514535981909727, 1.0373841499806034, 1.0520977959623734, 1.0751774125520026, 0.9916040618448082, 1.0622550777767898, 1.0728702427123291, 1.0845221860737675, 1.0394510062899391, 1.0847931511625288, 1.062808638780103, 1.0604392845353114, 1.0013635601728335, 1.0823426126882898, 1.0808387344103774, 1.068175210320346, 1.068141254926951, 1.083379204150942, 1.1307829480865819, 1.1162249336360783, 1.0815710057602603, 1.0283792229466155, 0.9859715500978623, 1.0421122399468175, 1.009451566067337, 1.0123762458920706, 1.0276233888004143, 1.0437179740458544, 1.0062680387058098, 0.9884751360504095, 1.1160699021952927, 1.1117486815944693, 0.9730120871806387, 1.0869222660489208, 0.9713389159831223, 0.983161397946625, 0.9756257973325952, 0.95833191277182, 0.9862290411653054, 0.993190943230023, 0.9859339530306974, 0.9653828586063073, 0.9896737975100787, 0.9817447156704435, 0.9838172999147792, 0.9866332050438857, 0.9799926532322926, 0.9618287675366732, 0.9838285520736574, 0.986439083903751, 0.9795827713939906, 0.9879819581170395, 0.9970010039899031], \"y\": [15.249891194578481, 22.064112536222353, 6.631089021789876, 6.629434988908031, 3.724232095100774, 3.7313020915595985, 10.432463740211574, 23.17095515478502, 9.959707875345742, 35.57998009508782, 39.56659876283368, 23.359316048567848, 10.458971539452364, 7.898636061839056, 47.082250796910216, 24.969959056070877, 7.140352252836294, 16.7182331365712, 2.3009900089184043, 28.382441371000084, 41.93990372800829, 39.57177797722784, 21.34968842677341, 39.3469730346942, 21.530773901490534, 24.540565167218233, 34.96481123067588, 24.231949201268833, 45.69432103050934, 20.15515286201935, 39.24522399846637, 35.16266610517147, 28.921518502125593, 17.844790044976037, 7.604360908778688, 32.58794137596004, 48.64929199183979, 25.953478648317287, 14.61628648546386, 13.408109834526499, 13.408881266084677, 14.21907889456378, 35.271048359390136, 50.12598031573651, 36.533420499941315, 24.8298194565441, 34.00231292392925, 14.406789623995962, 24.56291390174755, 14.301336484024262, 6.715948840473857, 14.689574741080492, 17.73074199481215, 7.129535863009721, 59.31006144720493, 24.058007118331602, 12.585271712375459, 12.030914913100844, 21.52145738819445, 23.204848431299638, 16.78321494531042, 24.926555199208735, 17.40424492083318, 12.677339977002873, 33.98643326164887, 16.049414266339227, 17.905090772681348, 14.200548206467545, 15.90509121678889, 28.376185389880078, 26.198353913204272, 15.838029222459966, 11.459019888261821, 23.62990917612501, 25.935856960285975, 36.661004931703616, 12.197590757618372, 19.584927409180466, 23.56237100766353, 14.665190966189357, 9.476728924546478, 16.868085352145442, 14.807342300982327, 19.347058831381617, 10.440634539331882, 14.967686040907779, 27.935039642698484, 23.766786353436345, 29.734138353052145, 26.460775681683657, 21.247085637926347, 20.116500011924956, 18.64689139076478, 40.05363978287551, 44.03957641003504, 21.30231321974864, 8.14488087539388, 15.3706127216158, 37.763841433490484, 18.364588298562467, 37.63191378145129, 27.37674794347788, 44.768669860704506, 42.07328182615316, 18.127054301918974, 17.060920267613938, 23.38667202398574, 13.787615259328561, 13.17164100504209, 7.022590828737094, 37.42550049682711, 17.48780483869382, 32.58589190833578, 33.90048661685381, 14.166382807337357, 27.053155865129952, 12.606116002064539, 60.33685923720071, 44.63115715300569, 41.520213354103305, 29.7851975298276, 11.463735230424902, 29.022306220023324, 19.368990137018102, 31.39340729915267]}, {\"marker\": {\"color\": \"#d32b1e\", \"size\": 10, \"symbol\": 18}, \"mode\": \"markers\", \"name\": \"OpenFF Group1 Torsions 2.oeb\", \"type\": \"scatter\", \"x\": [], \"y\": []}, {\"marker\": {\"color\": \"#2b3514\", \"size\": 10, \"symbol\": 19}, \"mode\": \"markers\", \"name\": \"OpenFF Group1 Torsions 3.oeb\", \"type\": \"scatter\", \"x\": [], \"y\": []}, {\"marker\": {\"color\": \"#ebce2b\", \"size\": 10, \"symbol\": 20}, \"mode\": \"markers\", \"name\": \"OpenFF Primary Benchmark 1 Torsion Set.oeb\", \"type\": \"scatter\", \"x\": [1.0361869536179036, 1.0361869536179036, 1.0137014305741854, 1.0137014305741854, 1.0137014305741854], \"y\": [37.77655398855495, 38.8134940676357, 14.550796957226794, 21.790279540109907, 14.333148685762978]}, {\"marker\": {\"color\": \"#702c8c\", \"size\": 10, \"symbol\": 21}, \"mode\": \"markers\", \"name\": \"OpenFF Primary Benchmark 1 Torsion Set.oeb\", \"type\": \"scatter\", \"x\": [1.0361869536179036, 1.0361869536179036, 1.0137014305741854, 1.0137014305741854, 1.0137014305741854], \"y\": [37.77655398855495, 38.8134940676357, 14.550796957226794, 21.790279540109907, 14.333148685762978]}, {\"marker\": {\"color\": \"#db6917\", \"size\": 10, \"symbol\": 22}, \"mode\": \"markers\", \"name\": \"OpenFF Primary TorsionDrive Benchmark 1.oeb\", \"type\": \"scatter\", \"x\": [1.0332535438736954, 0.9764638096335834, 1.134880120255293, 1.0556509994023195, 1.1005672627973255], \"y\": [48.105577740072874, 6.903619107009092, 59.42358029099546, 40.012482312711256, 44.781547662322794]}, {\"marker\": {\"color\": \"#96cde6\", \"size\": 10, \"symbol\": 23}, \"mode\": \"markers\", \"name\": \"OpenFF Rowley Biaryl v1.0.oeb\", \"type\": \"scatter\", \"x\": [0.9991764959231579, 0.9831613979790008, 0.9787253978241032, 0.9632446676989497, 0.9970010040062619, 0.9884850243527756, 0.9381428401175618, 0.9455544406518676, 0.9640330355364414, 0.9484549777933052, 0.9466741770094846, 0.9724173747020896, 0.9489461383829293, 1.0168331366750023], \"y\": [7.828225770921421, 13.81907831012299, 16.31177793027649, 9.111454880347935, 31.398540283923694, 5.987826829903042, 36.59184842705207, 43.36152212378039, 17.77310520653333, 25.0108072795735, 27.59695112656499, 10.704760312569334, 9.002817358651441, 47.23775696634402]}, {\"marker\": {\"color\": \"#ba1c30\", \"size\": 10, \"symbol\": 24}, \"mode\": \"markers\", \"name\": \"OpenFF Substituted Phenyl Set 1.oeb\", \"type\": \"scatter\", \"x\": [1.1009419747055913, 1.0327210772207225, 1.056326956564059, 1.0710021678704755, 1.029666548618361, 1.0034648037686373, 1.035311693566354, 1.0104799044430088, 1.017502145676756, 1.0676589407103023, 1.00208825118986, 1.020545102248298, 1.035126968784631, 1.0831536467991292, 1.0306435952108373, 1.0784724571351332, 1.0609711605420753, 1.0726728034729667, 1.0876380999326805, 1.1592288109588003, 1.16707365179182, 1.0806730587466569, 1.1301315831096543, 1.1167381826664964, 1.158998647579621, 1.006529563939825, 1.0206304675734383, 1.0117663374079824, 1.0701997819880948, 1.07413735528178, 1.0477082942059643, 1.0337191641083099, 1.069725769933647, 0.9980913452617322, 0.9901344484559773, 0.9953585331744459, 1.0523700990303178, 1.0864059455795148, 1.017589016076003, 1.0702919868307854, 0.9986764033841705, 1.0807116165142496, 1.0590305517520644, 1.0759718176566408, 1.023264152565711, 1.080953989936498, 1.019361096320633, 1.0657362699086144, 1.0016923924136747, 1.0763195244791517, 1.050680400978797, 1.0555288189072627, 1.083706353512928, 1.0472488370534785, 1.0509780923635286, 1.1650905098191042, 1.0976076791637264, 1.0985927032331384, 1.1186177884737265, 1.1571972738976815, 1.0787871239214128, 1.0835597096773195, 1.0568006774085654, 1.06359251242035, 1.1252045845055285, 1.1436348680230912, 1.0308510230929535, 1.1078718055837984, 1.1525944284650154, 1.0565930706795394, 1.0864138282601064, 1.075251022989856, 1.045402888567233, 1.1151365868652947, 1.0999482107606275, 1.0606899945835278, 1.1596806506337658, 1.0909671187721208, 1.13247449447008, 1.152129838409495, 1.0937132137738352, 1.147797091902179, 1.1091366875725261, 1.0649274967051074, 1.1666951827261045, 1.0774012215928306, 1.1344922980273098, 1.1246133674982288, 1.1721394240933214, 1.0210572376231537, 1.0507405932645817, 1.043870319743726, 1.0154502905264677], \"y\": [27.86755490256712, 6.170761742959257, 10.747354330193389, 16.864049221529825, 23.051205274696315, 16.54002895585245, 21.661085122418854, 22.783036240937008, 15.882122047889709, 40.57818739992166, 12.930502547832987, 23.151305491974654, 25.796101569637813, 28.070295133477202, 28.326019236920274, 42.14401562787293, 13.731359902432587, 16.849648092475604, 17.860146242238045, 35.3329195885604, 35.03229700028129, 17.345800781670164, 27.219925844438137, 29.379259404558525, 43.652184875087244, 6.091018701322071, 18.767804928741043, 20.539934073283803, 24.95888428527161, 26.055222708803626, 37.81058854538395, 25.512510555553092, 41.3170499747348, 7.984063603970981, 10.344759153113273, 13.570886601302675, 23.09360572478323, 25.232346498500647, 18.986731655045105, 39.0906920869769, 10.031729840571359, 24.139314575776552, 34.86168905276952, 19.494518567324036, 23.238057845127514, 27.38535801968237, 21.5406176942914, 40.153875422107205, 12.844825186764638, 26.77682624789236, 25.409594627056492, 37.08434757075236, 16.05423354120552, 14.890865949508111, 13.914099835969353, 34.70257332733621, 26.423472666381258, 26.52680312637881, 27.108867939706727, 40.17661217821063, 38.44000157121974, 23.941102204552635, 33.54328732205573, 13.034839896430867, 28.956083298980786, 33.06949343707345, 6.546567733961268, 23.773146527836786, 33.357570154046186, 12.174455948613172, 18.026723951074757, 19.402876299744662, 15.832376243302491, 28.384961536307173, 23.9839072095848, 16.66581545028947, 35.7640949644952, 25.365832707389615, 31.003493384588353, 40.81387325544097, 25.556849902557758, 21.65165582574849, 20.678788099108033, 13.08219287872572, 28.53123768990517, 13.461614385125358, 21.764396634154053, 24.88501551747686, 27.6269128116883, 11.786537892013484, 20.023276993957552, 23.036591305240393, 7.832439226576469]}, {\"marker\": {\"color\": \"#c0bd7f\", \"size\": 10, \"symbol\": 25}, \"mode\": \"markers\", \"name\": \"OpenFF-benchmark-ligand-fragments-v1.0.oeb\", \"type\": \"scatter\", \"x\": [1.0183569335536722, 1.0006337219718984, 1.0767721674111526, 1.0842709630515375, 1.0153363329711125, 1.061310348946442, 1.0484922539905874, 1.0622657519263243, 1.0639171574770132, 1.088183648712686, 1.017124282998095, 1.0855406450947815, 1.066381411717585, 0.9927412109773044, 1.0606021947607278, 1.0903311851843318, 1.0630172602857086, 1.0819180331052805, 1.0882151779483857, 1.0297101857428512, 1.022070709022429, 1.0028721937339091, 1.081224041039967, 1.064228418751874, 1.0006145886168758, 1.0666818918301626, 0.9978495858066116, 1.0848176789423574, 1.0285525048214852, 1.0814881121331708, 1.02300420958372, 1.0090196141795404, 1.07495658055845, 1.0798356303748058, 1.0075907234382921, 1.0793045540013624, 1.1283165768143137, 1.1173907242853731, 1.1231109857644406, 1.1309384751881217, 1.127692904941416, 1.1351975588220542, 1.1313170025294585, 1.1417169836058356, 1.157553469155518, 1.110129609668792, 1.128885652360641, 1.1238197218946577, 1.1541319092941562, 1.131015466282953, 1.156719438653949, 1.0117650252190682, 1.0283792229466155, 1.0135864078789587, 1.0229246702774684, 1.0207303560838707, 1.011792587035924, 1.0190651445506802, 1.0127563184827955, 1.0124483909786561, 1.0191572955153165, 1.0285044390239715], \"y\": [17.165934707174074, 13.362980632885296, 17.05553915183799, 16.419699003701453, 15.862655899200945, 35.48056230359043, 13.315560861931772, 35.74334741701068, 26.221397941343184, 14.641750223255997, 19.073018312224804, 17.799706868794374, 14.819564855650924, 15.100921953135412, 13.650744029475959, 16.748857922525303, 33.00619540224079, 12.37063976674375, 15.06633941762749, 43.18142301504321, 54.10462812081846, 15.83835046194207, 39.65376109738531, 40.74226936607397, 15.406827318390754, 41.54416588801632, 11.563514513571079, 40.75383967983322, 24.17278696306414, 38.12759474453367, 21.538601416832876, 18.84434291798459, 39.456272958319346, 37.57213490784193, 17.41349242548995, 37.93405433070825, 50.73870499593619, 46.0799928562202, 41.16865387244775, 51.34978093777727, 50.43352846965308, 48.070229636442036, 45.988598632637434, 49.28690849938823, 51.05777649225416, 46.13273555841363, 50.68598041863481, 49.549623862285216, 42.94151287857164, 48.26006649066136, 52.070430238296694, 21.90625912148232, 39.93658238112593, 42.4716537060869, 40.30375984359358, 36.47167114181332, 41.932740862185085, 39.181760813490484, 40.20486960516229, 40.40911166349946, 39.199179927803016, 36.93416970125517]}, {\"marker\": {\"color\": \"#7f7e80\", \"size\": 10, \"symbol\": 26}, \"mode\": \"markers\", \"name\": \"Pfizer Discrepancy Torsion Dataset 1.oeb\", \"type\": \"scatter\", \"x\": [1.0079733540614193, 0.9878716336491372, 1.129972601651227, 1.1005672627973255, 1.0332535438736954, 0.9764638096335834, 1.1134362737387788, 0.9929029119914149, 0.9486123502078156, 1.005684361294231, 1.0044168630099324, 1.100872643290413, 1.0578610992809536, 1.1259856185712729, 1.134880120255293, 1.1480053763183378, 1.0556509994023195, 1.0005863991602493, 1.1489818187968337, 1.0028856819940222, 0.9637179925479827, 1.0388886324191913], \"y\": [27.30708552307209, 25.57338639495117, 68.63063626018624, 44.781547662322794, 48.105577740072874, 6.903619107009092, 57.94734581710594, 28.588648083104715, 40.34177834918057, 35.545621906421104, 26.424114343615315, 39.544176510306045, 28.98883824822127, 43.622725692992304, 59.42358029099546, 37.534800989065786, 40.012482312711256, 30.037214079938053, 58.800249608273646, 54.32864052653122, 33.80661526559072, 16.857863281060304]}, {\"marker\": {\"color\": \"#5fa641\", \"size\": 10, \"symbol\": 27}, \"mode\": \"markers\", \"name\": \"SMIRNOFF Coverage Torsion Set 1.oeb\", \"type\": \"scatter\", \"x\": [], \"y\": []}, {\"marker\": {\"color\": \"#d485b2\", \"size\": 10, \"symbol\": 28}, \"mode\": \"markers\", \"name\": \"TorsionDrive Paper.oeb\", \"type\": \"scatter\", \"x\": [], \"y\": []}, {\"mode\": \"lines\", \"showlegend\": false, \"type\": \"scatter\", \"x\": [0.9357771730881009, 0.9381428401175618, 0.9455544406518676, 0.9466741770094846, 0.9484549777933052, 0.9484549778163799, 0.9486123502078156, 0.9489461383829293, 0.95833191277182, 0.9589344022166605, 0.961135219138074, 0.9616375687638969, 0.9618287675366732, 0.9632446676989497, 0.9637179925479827, 0.9640330355364414, 0.9653828586063073, 0.9669378117373586, 0.9682898263698732, 0.9685302080240994, 0.9704682194016783, 0.9707080164930949, 0.9713389159831223, 0.9720073023110432, 0.9724173747020896, 0.9730120871806387, 0.9747497902016454, 0.9756257973325952, 0.9760190788761853, 0.9764638096335834, 0.9787253978241032, 0.9790245287102739, 0.9792792626470378, 0.9795827713939906, 0.9796116913580862, 0.9799926532322926, 0.9800243942808822, 0.9817447156704435, 0.9824150990679467, 0.983161397946625, 0.9831613979790008, 0.9838172999147792, 0.9838285520736574, 0.9853256111592886, 0.9859339530306974, 0.9859715500978623, 0.9862290411653054, 0.986439083903751, 0.9866332050438857, 0.9878716336491372, 0.9879819581170395, 0.9884751360504095, 0.9884850243527756, 0.9896737975100787, 0.9901344484559773, 0.9903231706768596, 0.9916040618448082, 0.9927412109773044, 0.9929029119914149, 0.993190943230023, 0.9932521111910383, 0.9953374011945388, 0.9953585331744459, 0.9954664566264656, 0.9967074186155884, 0.9970010039899031, 0.9970010040062619, 0.9978495858066116, 0.9980913452617322, 0.9986764033841705, 0.9987319733248128, 0.9991764959231579, 1.0005863991602493, 1.0006145886168758, 1.0006337219718984, 1.0012070055299676, 1.0013635601728335, 1.0016923924136747, 1.0017129705512131, 1.0019405082307193, 1.00208825118986, 1.0028197023185004, 1.0028721937339091, 1.0028856819940222, 1.0034648037686373, 1.0034735656053275, 1.0044168630099324, 1.0052305317658203, 1.005684361294231, 1.0062680387058098, 1.006529563939825, 1.007419233890741, 1.0074616980959759, 1.0075907234382921, 1.0078608634622837, 1.0079733540614193, 1.0090196141795404, 1.009451566067337, 1.0097056668507758, 1.0104799044430088, 1.0105896915290544, 1.010921225803417, 1.011372419853069, 1.0114400973165834, 1.0116173208369554, 1.0117330140671645, 1.0117650252190682, 1.0117663374079824, 1.011792587035924, 1.0118506076542853, 1.0121936334491806, 1.0123762458920706, 1.0124483909786561, 1.0127563184827955, 1.0131502240156474, 1.0134041913637524, 1.0135864078789587, 1.0137014305741854, 1.0150841408162505, 1.0153363329711125, 1.0154502905264677, 1.0158270858380383, 1.0159486864007308, 1.0168331366750023, 1.017124282998095, 1.017502145676756, 1.017589016076003, 1.017688780024651, 1.0179426981431494, 1.0179756072901038, 1.0179841024219187, 1.0183569335536722, 1.0185482568343058, 1.0190651445506802, 1.0191572955153165, 1.019361096320633, 1.0195815858319262, 1.0197338006219674, 1.0200687930278463, 1.020545102248298, 1.0206304675734383, 1.0207303560838707, 1.0209235832561467, 1.0210251568348665, 1.0210572376231537, 1.0214931807436676, 1.022070709022429, 1.0224101807669825, 1.022634608991973, 1.0229246702774684, 1.02300420958372, 1.0231949833998257, 1.023264152565711, 1.023901262720791, 1.0251112045842625, 1.0257273526765702, 1.0276233888004143, 1.0283792229466155, 1.0285044390239715, 1.0285525048214852, 1.0287708198418435, 1.029666548618361, 1.0297101857428512, 1.0306435952108373, 1.0308510230929535, 1.0311056182511624, 1.0323453723249016, 1.0327210772207225, 1.0332535438736954, 1.0337191641083099, 1.035126968784631, 1.035311693566354, 1.0361869536179036, 1.0367214955520516, 1.0373841499806034, 1.0385260483145249, 1.0387644504572822, 1.0388886324191913, 1.0394510062899391, 1.04048451010751, 1.040655676366165, 1.0421122399468175, 1.0437179740458544, 1.043870319743726, 1.0439199408903563, 1.043958518662337, 1.045402888567233, 1.0456354984730292, 1.0472488370534785, 1.0477082942059643, 1.0484922539905874, 1.0491662479707866, 1.050680400978797, 1.0507405932645817, 1.0509780923635286, 1.0514535981909727, 1.0520977959623734, 1.0523700990303178, 1.0525711248373408, 1.053029687778485, 1.053305536338519, 1.053660383895871, 1.0551945230798834, 1.055208991509266, 1.0555288189072627, 1.0556509994023195, 1.0557613428888126, 1.0558189550050565, 1.056326956564059, 1.0565930706795394, 1.0568006774085654, 1.0570674408056395, 1.0578610992809536, 1.058094501370869, 1.0590305517520644, 1.0598768151935263, 1.0603080056719645, 1.0604090655028495, 1.0604392845353114, 1.0606021947607278, 1.0606899945835278, 1.0609430381294815, 1.0609711605420753, 1.061310348946442, 1.0616748576339137, 1.0617441916286992, 1.0620352358985747, 1.0622550777767898, 1.0622657519263243, 1.062808638780103, 1.0630172602857086, 1.06359251242035, 1.0639171574770132, 1.0640443822347758, 1.064228418751874, 1.0643316509027732, 1.0647667515583619, 1.0649274967051074, 1.065409812413369, 1.0657362699086144, 1.0658239103239262, 1.0663162433285416, 1.066381411717585, 1.0664765811323458, 1.0666818918301626, 1.0676589407103023, 1.068141254926951, 1.068175210320346, 1.0687985036256733, 1.069725769933647, 1.069839637918222, 1.0701997819880948, 1.0702919868307854, 1.070753322567115, 1.0710021678704755, 1.0713188592201006, 1.0726728034729667, 1.0728702427123291, 1.0732664013278606, 1.0737618966338092, 1.07413735528178, 1.07495658055845, 1.0750913809402585, 1.0751774125520026, 1.075251022989856, 1.0759718176566408, 1.0761358052233863, 1.0763195244791517, 1.0767721674111526, 1.0774012215928306, 1.0784724571351332, 1.0787871239214128, 1.0789451450664715, 1.0793045540013624, 1.0798356303748058, 1.0806730587466569, 1.0807116165142496, 1.0808387344103774, 1.080953989936498, 1.081224041039967, 1.0814881121331708, 1.0815710057602603, 1.0819180331052805, 1.0823426126882898, 1.0831536467991292, 1.083379204150942, 1.0835597096773195, 1.083706353512928, 1.0842709630515375, 1.0845221860737675, 1.0847931511625288, 1.0848176789423574, 1.0855406450947815, 1.0864059455795148, 1.0864138282601064, 1.0869222660489208, 1.0876380999326805, 1.088183648712686, 1.0882151779483857, 1.0903311851843318, 1.0909671187721208, 1.0937132137738352, 1.0976076791637264, 1.09859168481306, 1.0985927032331384, 1.0999482107606275, 1.1005672627973255, 1.100872643290413, 1.1009419747055913, 1.1078718055837984, 1.1091366875725261, 1.110129609668792, 1.1117486815944693, 1.1134362737387788, 1.1151365868652947, 1.1160699021952927, 1.1162249336360783, 1.1167381826664964, 1.1173907242853731, 1.1186177884737265, 1.1231109857644406, 1.1238197218946577, 1.1246133674982288, 1.1252045845055285, 1.1259856185712729, 1.127692904941416, 1.1283165768143137, 1.128885652360641, 1.129972601651227, 1.1301315831096543, 1.1307829480865819, 1.1309384751881217, 1.131015466282953, 1.1313170025294585, 1.13247449447008, 1.1344922980273098, 1.134880120255293, 1.1351975588220542, 1.1417169836058356, 1.1436348680230912, 1.147797091902179, 1.1480053763183378, 1.1489818187968337, 1.1490009074616832, 1.1516881021379592, 1.152129838409495, 1.1525944284650154, 1.1541319092941562, 1.1561810009277487, 1.156719438653949, 1.1571972738976815, 1.157553469155518, 1.157621824950123, 1.1587592056211777, 1.158998647579621, 1.1592288109588003, 1.1596806506337658, 1.1650905098191042, 1.1666951827261045, 1.16707365179182, 1.1721394240933214], \"y\": [17.330668432332132, 17.566767209498664, 18.306461258240248, 18.418213411645596, 18.59594125001051, 18.59594125231341, 18.61164736340811, 18.644960158064137, 19.58168110331188, 19.641810876188245, 19.861457249681294, 19.911592848178387, 19.930674906594064, 20.07198485966026, 20.11922372154045, 20.15066570530388, 20.28538101908967, 20.440568764541794, 20.575502801104278, 20.599493419356676, 20.79291122105191, 20.816843498649092, 20.879808656575136, 20.946515083444055, 20.98744121077732, 21.046794825298093, 21.220221412061562, 21.307648852115776, 21.34689921591061, 21.391284324500447, 21.616995804428228, 21.64684972535545, 21.67227273299929, 21.7025635740697, 21.70544985014898, 21.743470683819595, 21.746638510341526, 21.918330372023945, 21.985236110833398, 22.05971838177956, 22.05971838501074, 22.1251788420615, 22.126301832287325, 22.27571162456232, 22.336425482493354, 22.340177752560166, 22.365875927915155, 22.38683865558653, 22.406212372697695, 22.529810273698388, 22.540820898456175, 22.590041141856503, 22.591028016200113, 22.709670194187268, 22.755644172635144, 22.774479065720072, 22.90231482395228, 23.01580481062193, 23.031942927788307, 23.060689079454733, 23.066793776615242, 23.274910309387096, 23.277019327500383, 23.287790325587665, 23.41164106387555, 23.440941530512006, 23.44094153214465, 23.525631863832615, 23.54975998964727, 23.60815007817571, 23.613696080579885, 23.65806041443801, 23.7987718611695, 23.801585230995272, 23.803494781945446, 23.860709743030085, 23.87633424101736, 23.909152422523334, 23.911206165949054, 23.9339149272505, 23.94865999980452, 24.021660432612023, 24.026899191421023, 24.028245349472485, 24.08604297742029, 24.086917428009713, 24.181060585503147, 24.26226651849852, 24.307559704464865, 24.36581199501012, 24.391912789069565, 24.480703808632853, 24.48494182979323, 24.497818842984444, 24.524779412047565, 24.536006221470828, 24.640425284428645, 24.683535033701688, 24.708894851249894, 24.786165467311292, 24.797122460176823, 24.83021031057632, 24.875240469960957, 24.88199482980049, 24.89968212726201, 24.91122856631648, 24.914423349743743, 24.914554309085943, 24.917174079738743, 24.922964665174035, 24.95719939461938, 24.97542451841103, 24.98262475686778, 25.013356599632573, 25.05266923892934, 25.078015739337516, 25.096201348674754, 25.107680866861898, 25.245678392828864, 25.270847725043566, 25.282220939926816, 25.319825941474377, 25.331961945314703, 25.420232029658607, 25.44928907361394, 25.48700060074674, 25.495670457822484, 25.50562711951146, 25.530968706696513, 25.534253112006624, 25.535100944862393, 25.57231031253771, 25.591404797111636, 25.642991329048982, 25.652188198174855, 25.67252796717935, 25.694533305777753, 25.709724676899654, 25.743157656436978, 25.790694365154366, 25.799214012521063, 25.80918310575032, 25.828467602901256, 25.838604869655, 25.841806602946633, 25.885314686030895, 25.94295327958467, 25.976833306982243, 25.999231737878063, 26.028180492692655, 26.036118690549245, 26.05515833735373, 26.062061572373608, 26.12564656834367, 26.246401429805857, 26.307894365766714, 26.497122944737598, 26.57255685637287, 26.585053696535553, 26.58985076893636, 26.61163908855268, 26.701034792248493, 26.705389873332564, 26.798546192984787, 26.8192479522383, 26.844657109476856, 26.968387295150436, 27.005883470805813, 27.059024814910146, 27.105494739310927, 27.245996745057894, 27.264432684915036, 27.351785564800537, 27.405134026534526, 27.471268397228584, 27.585232364655056, 27.609025423305283, 27.621419056469946, 27.677545206744043, 27.780691162826045, 27.797773932234136, 27.943142183968078, 28.103397981811113, 28.11860241782267, 28.123554717489156, 28.127404864055435, 28.271556160106513, 28.294771140757362, 28.455785882585374, 28.50164071782271, 28.579881630086433, 28.647147712997054, 28.798263516354936, 28.80427083897966, 28.827973771869722, 28.8754303001964, 28.93972265587749, 28.96689910148868, 28.986961919554787, 29.03272751053177, 29.060257804058338, 29.095672371420505, 29.248782839139693, 29.250226820241934, 29.282146298609348, 29.294340180976263, 29.305352703831275, 29.311102519856007, 29.36180219372622, 29.388360968257558, 29.40908057682637, 29.43570415109005, 29.514913014034818, 29.538207056404616, 29.631626945008676, 29.716085899376154, 29.759119658319108, 29.76920565190801, 29.772221577869928, 29.788480376986513, 29.797242992578802, 29.82249729549868, 29.82530397418239, 29.859155723605582, 29.895534493021103, 29.90245417832807, 29.93150103714767, 29.953441740539233, 29.954507044160152, 30.008688347243265, 30.02950923274858, 30.086920662108625, 30.119320953416235, 30.132018264305287, 30.150385513837776, 30.160688309746078, 30.204112312976264, 30.220155032475446, 30.26829120189855, 30.30087237856644, 30.309619084940493, 30.358755002591124, 30.365258951275138, 30.374757068368055, 30.395247527967868, 30.492759157017986, 30.540895177574825, 30.544284000582863, 30.60649004453208, 30.699033263291923, 30.71039753881412, 30.746340709785272, 30.75554295605957, 30.801585278099907, 30.826420587167235, 30.85802708100367, 30.993153697924967, 31.01285856864331, 31.052396070551296, 31.101847592836265, 31.13931919241412, 31.22107967841532, 31.234533053260648, 31.243119197497137, 31.25046568123615, 31.322402575692024, 31.338768895844836, 31.357104481997908, 31.402279243030463, 31.4650602351211, 31.571971900391503, 31.60337633834932, 31.61914719648371, 31.655016999365387, 31.708019590512208, 31.791596785483577, 31.795444935567915, 31.808131581430573, 31.819634336653465, 31.8465860312527, 31.87294090766345, 31.88121387412366, 31.91584796708021, 31.95822194410657, 32.039164933726354, 32.06167605396463, 32.07969090285029, 32.094326280456286, 32.1506755553044, 32.17574816594906, 32.202791078292464, 32.20523900471322, 32.277392618216055, 32.363751511408935, 32.3645382202844, 32.41528143085013, 32.48672322823974, 32.54117019742007, 32.54431688454933, 32.755499064738174, 32.81896663670257, 33.09303296294952, 33.48170918188478, 33.57991511181464, 33.58001675238036, 33.715299387550346, 33.7770821435539, 33.80755978900889, 33.81447921686538, 34.50609159339176, 34.63232960029616, 34.73142541125796, 34.89301235356072, 35.06143776451897, 35.231132757504554, 35.32427968197834, 35.33975216104493, 35.39097554411386, 35.456100634140654, 35.57856434131803, 36.02699532196509, 36.097728747926624, 36.176936326243094, 36.235941085038476, 36.31389000411761, 36.48428094216764, 36.546524767993745, 36.603319760243295, 36.71179969218363, 36.727666391706165, 36.79267405027625, 36.808195997377226, 36.815879878124605, 36.84597385930823, 36.961494103010125, 37.162875339883854, 37.20158085196333, 37.23326191971482, 37.88391486457611, 38.075323951324876, 38.49072305690818, 38.511510300144664, 38.608961408975844, 38.61086649974838, 38.87905444385723, 38.92314069616613, 38.969507806425554, 39.122951777684634, 39.3274556334549, 39.381192903811666, 39.42888191301175, 39.46443098384904, 39.471253042624625, 39.58476613735212, 39.60866297189679, 39.631633783805654, 39.67672837801784, 40.2166442336286, 40.37679412217034, 40.41456616806606, 40.92014139521926]}],                        {\"annotations\": [{\"font\": {\"color\": \"black\", \"family\": \"Times\", \"size\": 18}, \"showarrow\": false, \"text\": \"slope: 99.80, r_val: 0.39\", \"x\": 1, \"xref\": \"paper\", \"y\": 0.2, \"yref\": \"paper\"}], \"autosize\": false, \"dragmode\": \"select\", \"height\": 800, \"hovermode\": false, \"legend\": {\"font\": {\"color\": \"black\", \"family\": \"Rockwell\", \"size\": 14}, \"orientation\": \"h\", \"y\": -0.2}, \"margin\": {\"b\": 40, \"l\": 40, \"r\": 10, \"t\": 40}, \"template\": {\"data\": {\"bar\": [{\"error_x\": {\"color\": \"#2a3f5f\"}, \"error_y\": {\"color\": \"#2a3f5f\"}, \"marker\": {\"line\": {\"color\": \"#E5ECF6\", \"width\": 0.5}}, \"type\": \"bar\"}], \"barpolar\": [{\"marker\": {\"line\": {\"color\": \"#E5ECF6\", \"width\": 0.5}}, \"type\": \"barpolar\"}], \"carpet\": [{\"aaxis\": {\"endlinecolor\": \"#2a3f5f\", \"gridcolor\": \"white\", \"linecolor\": \"white\", \"minorgridcolor\": \"white\", \"startlinecolor\": \"#2a3f5f\"}, \"baxis\": {\"endlinecolor\": \"#2a3f5f\", \"gridcolor\": \"white\", \"linecolor\": \"white\", \"minorgridcolor\": \"white\", \"startlinecolor\": \"#2a3f5f\"}, \"type\": \"carpet\"}], \"choropleth\": [{\"colorbar\": {\"outlinewidth\": 0, \"ticks\": \"\"}, \"type\": \"choropleth\"}], \"contour\": [{\"colorbar\": {\"outlinewidth\": 0, \"ticks\": \"\"}, \"colorscale\": [[0.0, \"#0d0887\"], [0.1111111111111111, \"#46039f\"], [0.2222222222222222, \"#7201a8\"], [0.3333333333333333, \"#9c179e\"], [0.4444444444444444, \"#bd3786\"], [0.5555555555555556, \"#d8576b\"], [0.6666666666666666, \"#ed7953\"], [0.7777777777777778, \"#fb9f3a\"], [0.8888888888888888, \"#fdca26\"], [1.0, \"#f0f921\"]], \"type\": \"contour\"}], \"contourcarpet\": [{\"colorbar\": {\"outlinewidth\": 0, \"ticks\": \"\"}, \"type\": \"contourcarpet\"}], \"heatmap\": [{\"colorbar\": {\"outlinewidth\": 0, \"ticks\": \"\"}, \"colorscale\": [[0.0, \"#0d0887\"], [0.1111111111111111, \"#46039f\"], [0.2222222222222222, \"#7201a8\"], [0.3333333333333333, \"#9c179e\"], [0.4444444444444444, \"#bd3786\"], [0.5555555555555556, \"#d8576b\"], [0.6666666666666666, \"#ed7953\"], [0.7777777777777778, \"#fb9f3a\"], [0.8888888888888888, \"#fdca26\"], [1.0, \"#f0f921\"]], \"type\": \"heatmap\"}], \"heatmapgl\": [{\"colorbar\": {\"outlinewidth\": 0, \"ticks\": \"\"}, \"colorscale\": [[0.0, \"#0d0887\"], [0.1111111111111111, \"#46039f\"], [0.2222222222222222, \"#7201a8\"], [0.3333333333333333, \"#9c179e\"], [0.4444444444444444, \"#bd3786\"], [0.5555555555555556, \"#d8576b\"], [0.6666666666666666, \"#ed7953\"], [0.7777777777777778, \"#fb9f3a\"], [0.8888888888888888, \"#fdca26\"], [1.0, \"#f0f921\"]], \"type\": \"heatmapgl\"}], \"histogram\": [{\"marker\": {\"colorbar\": {\"outlinewidth\": 0, \"ticks\": \"\"}}, \"type\": \"histogram\"}], \"histogram2d\": [{\"colorbar\": {\"outlinewidth\": 0, \"ticks\": \"\"}, \"colorscale\": [[0.0, \"#0d0887\"], [0.1111111111111111, \"#46039f\"], [0.2222222222222222, \"#7201a8\"], [0.3333333333333333, \"#9c179e\"], [0.4444444444444444, \"#bd3786\"], [0.5555555555555556, \"#d8576b\"], [0.6666666666666666, \"#ed7953\"], [0.7777777777777778, \"#fb9f3a\"], [0.8888888888888888, \"#fdca26\"], [1.0, \"#f0f921\"]], \"type\": \"histogram2d\"}], \"histogram2dcontour\": [{\"colorbar\": {\"outlinewidth\": 0, \"ticks\": \"\"}, \"colorscale\": [[0.0, \"#0d0887\"], [0.1111111111111111, \"#46039f\"], [0.2222222222222222, \"#7201a8\"], [0.3333333333333333, \"#9c179e\"], [0.4444444444444444, \"#bd3786\"], [0.5555555555555556, \"#d8576b\"], [0.6666666666666666, \"#ed7953\"], [0.7777777777777778, \"#fb9f3a\"], [0.8888888888888888, \"#fdca26\"], [1.0, \"#f0f921\"]], \"type\": \"histogram2dcontour\"}], \"mesh3d\": [{\"colorbar\": {\"outlinewidth\": 0, \"ticks\": \"\"}, \"type\": \"mesh3d\"}], \"parcoords\": [{\"line\": {\"colorbar\": {\"outlinewidth\": 0, \"ticks\": \"\"}}, \"type\": \"parcoords\"}], \"pie\": [{\"automargin\": true, \"type\": \"pie\"}], \"scatter\": [{\"marker\": {\"colorbar\": {\"outlinewidth\": 0, \"ticks\": \"\"}}, \"type\": \"scatter\"}], \"scatter3d\": [{\"line\": {\"colorbar\": {\"outlinewidth\": 0, \"ticks\": \"\"}}, \"marker\": {\"colorbar\": {\"outlinewidth\": 0, \"ticks\": \"\"}}, \"type\": \"scatter3d\"}], \"scattercarpet\": [{\"marker\": {\"colorbar\": {\"outlinewidth\": 0, \"ticks\": \"\"}}, \"type\": \"scattercarpet\"}], \"scattergeo\": [{\"marker\": {\"colorbar\": {\"outlinewidth\": 0, \"ticks\": \"\"}}, \"type\": \"scattergeo\"}], \"scattergl\": [{\"marker\": {\"colorbar\": {\"outlinewidth\": 0, \"ticks\": \"\"}}, \"type\": \"scattergl\"}], \"scattermapbox\": [{\"marker\": {\"colorbar\": {\"outlinewidth\": 0, \"ticks\": \"\"}}, \"type\": \"scattermapbox\"}], \"scatterpolar\": [{\"marker\": {\"colorbar\": {\"outlinewidth\": 0, \"ticks\": \"\"}}, \"type\": \"scatterpolar\"}], \"scatterpolargl\": [{\"marker\": {\"colorbar\": {\"outlinewidth\": 0, \"ticks\": \"\"}}, \"type\": \"scatterpolargl\"}], \"scatterternary\": [{\"marker\": {\"colorbar\": {\"outlinewidth\": 0, \"ticks\": \"\"}}, \"type\": \"scatterternary\"}], \"surface\": [{\"colorbar\": {\"outlinewidth\": 0, \"ticks\": \"\"}, \"colorscale\": [[0.0, \"#0d0887\"], [0.1111111111111111, \"#46039f\"], [0.2222222222222222, \"#7201a8\"], [0.3333333333333333, \"#9c179e\"], [0.4444444444444444, \"#bd3786\"], [0.5555555555555556, \"#d8576b\"], [0.6666666666666666, \"#ed7953\"], [0.7777777777777778, \"#fb9f3a\"], [0.8888888888888888, \"#fdca26\"], [1.0, \"#f0f921\"]], \"type\": \"surface\"}], \"table\": [{\"cells\": {\"fill\": {\"color\": \"#EBF0F8\"}, \"line\": {\"color\": \"white\"}}, \"header\": {\"fill\": {\"color\": \"#C8D4E3\"}, \"line\": {\"color\": \"white\"}}, \"type\": \"table\"}]}, \"layout\": {\"annotationdefaults\": {\"arrowcolor\": \"#2a3f5f\", \"arrowhead\": 0, \"arrowwidth\": 1}, \"coloraxis\": {\"colorbar\": {\"outlinewidth\": 0, \"ticks\": \"\"}}, \"colorscale\": {\"diverging\": [[0, \"#8e0152\"], [0.1, \"#c51b7d\"], [0.2, \"#de77ae\"], [0.3, \"#f1b6da\"], [0.4, \"#fde0ef\"], [0.5, \"#f7f7f7\"], [0.6, \"#e6f5d0\"], [0.7, \"#b8e186\"], [0.8, \"#7fbc41\"], [0.9, \"#4d9221\"], [1, \"#276419\"]], \"sequential\": [[0.0, \"#0d0887\"], [0.1111111111111111, \"#46039f\"], [0.2222222222222222, \"#7201a8\"], [0.3333333333333333, \"#9c179e\"], [0.4444444444444444, \"#bd3786\"], [0.5555555555555556, \"#d8576b\"], [0.6666666666666666, \"#ed7953\"], [0.7777777777777778, \"#fb9f3a\"], [0.8888888888888888, \"#fdca26\"], [1.0, \"#f0f921\"]], \"sequentialminus\": [[0.0, \"#0d0887\"], [0.1111111111111111, \"#46039f\"], [0.2222222222222222, \"#7201a8\"], [0.3333333333333333, \"#9c179e\"], [0.4444444444444444, \"#bd3786\"], [0.5555555555555556, \"#d8576b\"], [0.6666666666666666, \"#ed7953\"], [0.7777777777777778, \"#fb9f3a\"], [0.8888888888888888, \"#fdca26\"], [1.0, \"#f0f921\"]]}, \"colorway\": [\"#636efa\", \"#EF553B\", \"#00cc96\", \"#ab63fa\", \"#FFA15A\", \"#19d3f3\", \"#FF6692\", \"#B6E880\", \"#FF97FF\", \"#FECB52\"], \"font\": {\"color\": \"#2a3f5f\"}, \"geo\": {\"bgcolor\": \"white\", \"lakecolor\": \"white\", \"landcolor\": \"#E5ECF6\", \"showlakes\": true, \"showland\": true, \"subunitcolor\": \"white\"}, \"hoverlabel\": {\"align\": \"left\"}, \"hovermode\": \"closest\", \"mapbox\": {\"style\": \"light\"}, \"paper_bgcolor\": \"white\", \"plot_bgcolor\": \"#E5ECF6\", \"polar\": {\"angularaxis\": {\"gridcolor\": \"white\", \"linecolor\": \"white\", \"ticks\": \"\"}, \"bgcolor\": \"#E5ECF6\", \"radialaxis\": {\"gridcolor\": \"white\", \"linecolor\": \"white\", \"ticks\": \"\"}}, \"scene\": {\"xaxis\": {\"backgroundcolor\": \"#E5ECF6\", \"gridcolor\": \"white\", \"gridwidth\": 2, \"linecolor\": \"white\", \"showbackground\": true, \"ticks\": \"\", \"zerolinecolor\": \"white\"}, \"yaxis\": {\"backgroundcolor\": \"#E5ECF6\", \"gridcolor\": \"white\", \"gridwidth\": 2, \"linecolor\": \"white\", \"showbackground\": true, \"ticks\": \"\", \"zerolinecolor\": \"white\"}, \"zaxis\": {\"backgroundcolor\": \"#E5ECF6\", \"gridcolor\": \"white\", \"gridwidth\": 2, \"linecolor\": \"white\", \"showbackground\": true, \"ticks\": \"\", \"zerolinecolor\": \"white\"}}, \"shapedefaults\": {\"line\": {\"color\": \"#2a3f5f\"}}, \"ternary\": {\"aaxis\": {\"gridcolor\": \"white\", \"linecolor\": \"white\", \"ticks\": \"\"}, \"baxis\": {\"gridcolor\": \"white\", \"linecolor\": \"white\", \"ticks\": \"\"}, \"bgcolor\": \"#E5ECF6\", \"caxis\": {\"gridcolor\": \"white\", \"linecolor\": \"white\", \"ticks\": \"\"}}, \"title\": {\"x\": 0.05}, \"xaxis\": {\"automargin\": true, \"gridcolor\": \"white\", \"linecolor\": \"white\", \"ticks\": \"\", \"title\": {\"standoff\": 15}, \"zerolinecolor\": \"white\", \"zerolinewidth\": 2}, \"yaxis\": {\"automargin\": true, \"gridcolor\": \"white\", \"linecolor\": \"white\", \"ticks\": \"\", \"title\": {\"standoff\": 15}, \"zerolinecolor\": \"white\", \"zerolinewidth\": 2}}}, \"title\": {\"text\": \"t69\", \"x\": 0.5, \"xanchor\": \"center\", \"yanchor\": \"top\"}, \"width\": 900, \"xaxis\": {\"gridcolor\": \"black\", \"gridwidth\": 1, \"linecolor\": \"black\", \"linewidth\": 2, \"mirror\": true, \"showgrid\": false, \"showline\": true, \"tickcolor\": \"black\", \"tickfont\": {\"color\": \"black\", \"family\": \"Rockwell\", \"size\": 14}, \"ticklen\": 10, \"ticks\": \"outside\", \"tickwidth\": 2, \"title\": {\"font\": {\"color\": \"black\", \"family\": \"Rockwell\", \"size\": 18}, \"text\": \"Wiberg Bond Order\"}}, \"yaxis\": {\"gridcolor\": \"black\", \"gridwidth\": 1, \"linecolor\": \"black\", \"linewidth\": 2, \"mirror\": true, \"showgrid\": false, \"showline\": true, \"tickcolor\": \"black\", \"tickfont\": {\"color\": \"black\", \"family\": \"Rockwell\", \"size\": 14}, \"ticklen\": 10, \"ticks\": \"outside\", \"tickwidth\": 2, \"title\": {\"font\": {\"color\": \"black\", \"family\": \"Rockwell\", \"size\": 18}, \"text\": \"Torsion barrier in KJ/mol\"}}},                        {\"responsive\": true}                    ).then(function(){\n",
       "                            \n",
       "var gd = document.getElementById('dfb7363a-e514-425e-9c3a-7efef246a309');\n",
       "var x = new MutationObserver(function (mutations, observer) {{\n",
       "        var display = window.getComputedStyle(gd).display;\n",
       "        if (!display || display === 'none') {{\n",
       "            console.log([gd, 'removed!']);\n",
       "            Plotly.purge(gd);\n",
       "            observer.disconnect();\n",
       "        }}\n",
       "}});\n",
       "\n",
       "// Listen for the removal of the full notebook cells\n",
       "var notebookContainer = gd.closest('#notebook-container');\n",
       "if (notebookContainer) {{\n",
       "    x.observe(notebookContainer, {childList: true});\n",
       "}}\n",
       "\n",
       "// Listen for the clearing of the current output cell\n",
       "var outputEl = gd.closest('.output');\n",
       "if (outputEl) {{\n",
       "    x.observe(outputEl, {childList: true});\n",
       "}}\n",
       "\n",
       "                        })                };                });            </script>        </div>"
      ]
     },
     "metadata": {},
     "output_type": "display_data"
    },
    {
     "name": "stdout",
     "output_type": "stream",
     "text": [
      "tid:  t69a r_value:  0.2524316934289752 slope:  186.35294843434548 intercept:  -139.00938048582765\n"
     ]
    },
    {
     "data": {
      "application/vnd.plotly.v1+json": {
       "config": {
        "plotlyServerURL": "https://plot.ly"
       },
       "data": [
        {
         "marker": {
          "color": "#ebce2b",
          "size": 10,
          "symbol": 0
         },
         "mode": "markers",
         "name": "Fragment Stability Benchmark.oeb",
         "type": "scatter",
         "x": [],
         "y": []
        },
        {
         "marker": {
          "color": "#702c8c",
          "size": 10,
          "symbol": 1
         },
         "mode": "markers",
         "name": "Fragment Stability Benchmark.oeb",
         "type": "scatter",
         "x": [],
         "y": []
        },
        {
         "marker": {
          "color": "#db6917",
          "size": 10,
          "symbol": 2
         },
         "mode": "markers",
         "name": "Fragment Stability Benchmark.oeb",
         "type": "scatter",
         "x": [],
         "y": []
        },
        {
         "marker": {
          "color": "#96cde6",
          "size": 10,
          "symbol": 3
         },
         "mode": "markers",
         "name": "OpenFF Fragmenter Validation 1.0.oeb",
         "type": "scatter",
         "x": [
          1.076931970452469,
          1.0181768481056783
         ],
         "y": [
          25.461621510482814,
          40.73775155517683
         ]
        },
        {
         "marker": {
          "color": "#ba1c30",
          "size": 10,
          "symbol": 4
         },
         "mode": "markers",
         "name": "OpenFF Full TorsionDrive Benchmark 1.oeb",
         "type": "scatter",
         "x": [],
         "y": []
        },
        {
         "marker": {
          "color": "#c0bd7f",
          "size": 10,
          "symbol": 5
         },
         "mode": "markers",
         "name": "OpenFF Gen 2 Torsion Set 1 Roche.oeb",
         "type": "scatter",
         "x": [
          1.0155007477853555
         ],
         "y": [
          177.5712418732425
         ]
        },
        {
         "marker": {
          "color": "#7f7e80",
          "size": 10,
          "symbol": 6
         },
         "mode": "markers",
         "name": "OpenFF Gen 2 Torsion Set 1 Roche 2.oeb",
         "type": "scatter",
         "x": [
          1.0155007477853555
         ],
         "y": [
          177.5712418732425
         ]
        },
        {
         "marker": {
          "color": "#5fa641",
          "size": 10,
          "symbol": 7
         },
         "mode": "markers",
         "name": "OpenFF Gen 2 Torsion Set 2 Coverage.oeb",
         "type": "scatter",
         "x": [
          1.1008360416962377
         ],
         "y": [
          151.03566960602393
         ]
        },
        {
         "marker": {
          "color": "#d485b2",
          "size": 10,
          "symbol": 8
         },
         "mode": "markers",
         "name": "OpenFF Gen 2 Torsion Set 2 Coverage 2.oeb",
         "type": "scatter",
         "x": [
          1.1008360416962377,
          1.0529581882266241,
          1.0542857000917911
         ],
         "y": [
          151.03566960602393,
          61.42676707212809,
          45.99973107577284
         ]
        },
        {
         "marker": {
          "color": "#4277b6",
          "size": 10,
          "symbol": 9
         },
         "mode": "markers",
         "name": "OpenFF Gen 2 Torsion Set 3 Pfizer Discrepancy.oeb",
         "type": "scatter",
         "x": [],
         "y": []
        },
        {
         "marker": {
          "color": "#df8461",
          "size": 10,
          "symbol": 10
         },
         "mode": "markers",
         "name": "OpenFF Gen 2 Torsion Set 3 Pfizer Discrepancy 2.oeb",
         "type": "scatter",
         "x": [
          1.0772056169923128
         ],
         "y": [
          163.0036429318464
         ]
        },
        {
         "marker": {
          "color": "#463397",
          "size": 10,
          "symbol": 11
         },
         "mode": "markers",
         "name": "OpenFF Gen 2 Torsion Set 4 eMolecules Discrepancy.oeb",
         "type": "scatter",
         "x": [],
         "y": []
        },
        {
         "marker": {
          "color": "#e1a11a",
          "size": 10,
          "symbol": 12
         },
         "mode": "markers",
         "name": "OpenFF Gen 2 Torsion Set 4 eMolecules Discrepancy 2.oeb",
         "type": "scatter",
         "x": [
          1.0946286026828118,
          0.9872176403014606
         ],
         "y": [
          137.44857640757044,
          56.557413730843166
         ]
        },
        {
         "marker": {
          "color": "#91218c",
          "size": 10,
          "symbol": 13
         },
         "mode": "markers",
         "name": "OpenFF Gen 2 Torsion Set 5 Bayer.oeb",
         "type": "scatter",
         "x": [
          1.0090422696734322
         ],
         "y": [
          156.58790815575412
         ]
        },
        {
         "marker": {
          "color": "#e8e948",
          "size": 10,
          "symbol": 14
         },
         "mode": "markers",
         "name": "OpenFF Gen 2 Torsion Set 5 Bayer 2.oeb",
         "type": "scatter",
         "x": [
          1.0090422696734322,
          1.0006018065114413,
          1.070320155410247
         ],
         "y": [
          156.58790815575412,
          146.9173281809754,
          49.21476571154818
         ]
        },
        {
         "marker": {
          "color": "#7e1510",
          "size": 10,
          "symbol": 15
         },
         "mode": "markers",
         "name": "OpenFF Gen 2 Torsion Set 6 Supplemental.oeb",
         "type": "scatter",
         "x": [],
         "y": []
        },
        {
         "marker": {
          "color": "#92ae31",
          "size": 10,
          "symbol": 16
         },
         "mode": "markers",
         "name": "OpenFF Gen 2 Torsion Set 6 Supplemental 2.oeb",
         "type": "scatter",
         "x": [],
         "y": []
        },
        {
         "marker": {
          "color": "#6f340d",
          "size": 10,
          "symbol": 17
         },
         "mode": "markers",
         "name": "OpenFF Group1 Torsions.oeb",
         "type": "scatter",
         "x": [
          1.0450026166793684,
          0.9956156811139596,
          1.0468337260098177,
          1.0388895558851914,
          0.9902821519482023,
          1.0616776895487163,
          1.0692644598458685,
          1.0520383892751237,
          1.0526560674710783,
          1.1215903619831067,
          1.07290736855047,
          0.9709245069780751,
          1.029802731061926,
          0.9926204570771344,
          0.9786138531463825,
          0.9720946714034849,
          1.0338324269101427,
          1.0551708350267528,
          1.0101179808669634,
          1.0266109565553125,
          1.0059778234980536,
          0.9915367416852257,
          1.0139098908871538,
          0.998503024494929,
          1.0171790353447971,
          0.9706430186315437,
          0.9859662657020354,
          1.0514466850612583,
          1.0517736785218421,
          1.0400902509469607,
          1.0263882780932847,
          1.05973539015579,
          1.0349013088119765,
          1.0834395124928178,
          1.0582950650222833,
          1.0761373274308408,
          1.0688213862066023,
          1.0498492171982676,
          1.0536446971160738,
          1.0737633003445695,
          1.0875241450598727,
          1.1017955587217434,
          1.0910330391726668,
          1.0366832405506226,
          1.0357750849131895,
          1.0495234548188324,
          1.0097679463841347,
          1.0034772656938626,
          1.0034787011256348,
          1.0282441050043567,
          1.0341885193137488,
          1.0253838374334654,
          1.0403812250954714,
          1.0836551290835368,
          1.0584788845876039,
          1.0792848333400917,
          1.0485905539047966,
          1.087111684641534,
          1.0631554383606252,
          1.0764367969791127,
          1.0655272372035645,
          0.9970297218291371,
          1.0428295169248074,
          0.9984855816250998,
          1.0154364145393016,
          0.9871090139386509,
          0.9853285015440434,
          0.988726245236063,
          0.9869126140919552,
          0.995475029556594,
          0.9767950136839282,
          0.985915391805831,
          0.9864569082474667,
          1.0772201906094474,
          1.066069298852862,
          1.056713314284311,
          0.9979119563564257,
          1.017221158321324,
          1.05763122555805,
          1.109308170885565,
          1.0965212881922857,
          1.0648626966258175,
          1.0896588299681638,
          1.0726031362915414,
          1.101331296502387,
          1.1177836479013943,
          1.10449385974851,
          1.0659869181436359,
          1.1110633459970756,
          1.1118379058347347,
          1.1121895987078894,
          1.1195430217963227,
          1.0831551679956282,
          1.078415339699047,
          1.0052544926426215,
          0.9979328598198015,
          1.0664608653884118,
          1.0814462942157392,
          1.0877144223425836,
          1.0818718502470257,
          1.0703689888164034,
          1.0410549723375397,
          1.0483192867843063,
          1.0920925630151364,
          1.063266398766476,
          1.0930249017250486,
          1.0478051076377568,
          1.062731359939666,
          1.0909807743870181,
          1.0496621667073087,
          1.0501354727382728,
          1.057017044500977,
          1.067224794200623,
          1.0700006119648537,
          1.056237840635251,
          1.0695874096372584,
          1.0907844945201073,
          0.9438975910829305,
          1.0439634407668927,
          0.9414952751032984,
          1.0650022636959424,
          1.0642193803888613,
          1.0644534577963327
         ],
         "y": [
          40.35051638193528,
          44.72536407908001,
          46.28738039655008,
          43.203074797133695,
          32.016502645121705,
          68.31769694648045,
          69.27109916050324,
          66.87607044109257,
          48.127394017132474,
          75.06420863373216,
          61.88825904369304,
          55.24723876887933,
          61.10597194851255,
          26.575507421860834,
          41.50713603778763,
          49.6571956619394,
          62.13211027516246,
          40.20025857597204,
          45.77372120147152,
          45.067703849639486,
          19.748757512074008,
          30.918080467315804,
          16.18728240166979,
          46.18088896081122,
          40.05666695743588,
          35.87760920176993,
          19.641215944153544,
          22.869532957983324,
          12.011692206519399,
          21.020640161037875,
          11.72553083870065,
          16.22425270358542,
          17.229251957860697,
          51.01467659096298,
          51.49736545424247,
          48.81991668554235,
          66.31605319755582,
          58.25225841537497,
          49.948434873642555,
          53.356471271915666,
          51.24325126464407,
          62.512612710061404,
          55.28754001750738,
          29.06579608721856,
          29.065045606457204,
          26.867139072862273,
          25.434098262694818,
          20.60467042991911,
          20.604636566670166,
          36.22943136914586,
          26.476861644862424,
          31.008355413968587,
          28.605835981843995,
          50.887756519786535,
          55.188008027370074,
          57.95025205204584,
          54.1302496166287,
          53.70899478781445,
          57.519196729530165,
          67.13140482786639,
          53.69695095449714,
          29.342984682350163,
          25.77675146258332,
          28.40989443576035,
          28.41409727117724,
          32.20432778078998,
          27.847964506001688,
          30.88687937617749,
          28.1458666217992,
          31.934900469165427,
          30.05807050213849,
          33.573318551300076,
          25.960934824102083,
          48.51738561982614,
          64.37230840935035,
          55.99364698745819,
          21.969997055142983,
          22.582985995271827,
          45.17476741431258,
          70.57324384118175,
          67.44014099916367,
          48.19742104865162,
          45.243872748820706,
          43.06884116993734,
          59.56012640255608,
          75.12910331117865,
          72.3392389486263,
          60.26569879295954,
          65.65355287682604,
          63.857101776428266,
          63.72195460667618,
          66.42387708179524,
          42.14119435737541,
          43.85170103654059,
          48.50553137658687,
          49.448029485654104,
          39.20825957013449,
          42.91700178723093,
          48.15407021104619,
          40.09912992799818,
          37.610374976899436,
          54.95749937460667,
          51.03754359791998,
          54.868362983568886,
          54.68251236360561,
          55.06217075708804,
          44.017731698269415,
          42.36755313741577,
          55.00902622630946,
          39.05457812196184,
          25.675177379933245,
          25.561521009573084,
          39.62628593102011,
          52.338800566021234,
          45.18273685126388,
          49.0686576790618,
          49.17931447604883,
          25.011353500027752,
          35.89387873384226,
          19.58111829012904,
          50.28076411167717,
          38.16566073367841,
          62.331517858295285
         ]
        },
        {
         "marker": {
          "color": "#d32b1e",
          "size": 10,
          "symbol": 18
         },
         "mode": "markers",
         "name": "OpenFF Group1 Torsions 2.oeb",
         "type": "scatter",
         "x": [],
         "y": []
        },
        {
         "marker": {
          "color": "#2b3514",
          "size": 10,
          "symbol": 19
         },
         "mode": "markers",
         "name": "OpenFF Group1 Torsions 3.oeb",
         "type": "scatter",
         "x": [],
         "y": []
        },
        {
         "marker": {
          "color": "#ebce2b",
          "size": 10,
          "symbol": 20
         },
         "mode": "markers",
         "name": "OpenFF Primary Benchmark 1 Torsion Set.oeb",
         "type": "scatter",
         "x": [
          1.0169805882102267
         ],
         "y": [
          133.01650703916118
         ]
        },
        {
         "marker": {
          "color": "#702c8c",
          "size": 10,
          "symbol": 21
         },
         "mode": "markers",
         "name": "OpenFF Primary Benchmark 1 Torsion Set.oeb",
         "type": "scatter",
         "x": [
          1.0169805882102267
         ],
         "y": [
          133.01650703916118
         ]
        },
        {
         "marker": {
          "color": "#db6917",
          "size": 10,
          "symbol": 22
         },
         "mode": "markers",
         "name": "OpenFF Primary TorsionDrive Benchmark 1.oeb",
         "type": "scatter",
         "x": [],
         "y": []
        },
        {
         "marker": {
          "color": "#96cde6",
          "size": 10,
          "symbol": 23
         },
         "mode": "markers",
         "name": "OpenFF Rowley Biaryl v1.0.oeb",
         "type": "scatter",
         "x": [],
         "y": []
        },
        {
         "marker": {
          "color": "#ba1c30",
          "size": 10,
          "symbol": 24
         },
         "mode": "markers",
         "name": "OpenFF Substituted Phenyl Set 1.oeb",
         "type": "scatter",
         "x": [],
         "y": []
        },
        {
         "marker": {
          "color": "#c0bd7f",
          "size": 10,
          "symbol": 25
         },
         "mode": "markers",
         "name": "OpenFF-benchmark-ligand-fragments-v1.0.oeb",
         "type": "scatter",
         "x": [
          1.0549881183557814,
          1.0628468756493152,
          1.052665074358571,
          1.0701713042310212,
          1.0361376145956034,
          1.0459398886230786,
          1.0376089325358169,
          1.04136472174875,
          1.0376139628728263,
          1.0485568856646499,
          1.0451262346568302,
          1.0494715605526226,
          1.1109811521073414,
          1.1109711260869393,
          1.1162904561449676,
          1.1107489657919294,
          1.0799738705102582,
          1.1158683534797815,
          1.1118439172292165,
          1.1116265602297175,
          1.1106989888598606,
          0.9986291365350353,
          1.0462768116207508,
          1.0185314431942563,
          1.0430464558637975,
          1.0462701809935249,
          1.0381609791908273
         ],
         "y": [
          42.92083973289891,
          53.22260928141847,
          50.06472871323626,
          50.15958950248478,
          63.76099153565906,
          58.49251471242093,
          58.991958866550476,
          59.61571692009659,
          55.67516973585742,
          57.263841104070934,
          54.06637580821325,
          55.24717265196068,
          80.52442770378639,
          74.42489189442267,
          77.40073884840746,
          79.77854171345416,
          81.41418605939145,
          95.97976845155864,
          80.94164520670267,
          73.62907195931507,
          80.93793003872452,
          60.1219543099142,
          52.98390065354175,
          54.405510330573065,
          55.32829069215029,
          55.34441497465747,
          55.648459086500935
         ]
        },
        {
         "marker": {
          "color": "#7f7e80",
          "size": 10,
          "symbol": 26
         },
         "mode": "markers",
         "name": "Pfizer Discrepancy Torsion Dataset 1.oeb",
         "type": "scatter",
         "x": [],
         "y": []
        },
        {
         "marker": {
          "color": "#5fa641",
          "size": 10,
          "symbol": 27
         },
         "mode": "markers",
         "name": "SMIRNOFF Coverage Torsion Set 1.oeb",
         "type": "scatter",
         "x": [
          1.429839527955648,
          1.1250033679016878,
          1.0893690961112161,
          1.1008360416962377,
          1.1008360416962377,
          1.1008360416962377,
          1.029542199677118,
          1.029542199677118
         ],
         "y": [
          78.69057708056532,
          34.29509295778438,
          29.45535956101118,
          212.16106211385198,
          164.2629925691242,
          151.03566960602393,
          191.3927391368075,
          148.16075174308003
         ]
        },
        {
         "marker": {
          "color": "#d485b2",
          "size": 10,
          "symbol": 28
         },
         "mode": "markers",
         "name": "TorsionDrive Paper.oeb",
         "type": "scatter",
         "x": [],
         "y": []
        },
        {
         "mode": "lines",
         "showlegend": false,
         "type": "scatter",
         "x": [
          0.9414952751032984,
          0.9438975910829305,
          0.9706430186315437,
          0.9709245069780751,
          0.9720946714034849,
          0.9767950136839282,
          0.9786138531463825,
          0.9853285015440434,
          0.985915391805831,
          0.9859662657020354,
          0.9864569082474667,
          0.9869126140919552,
          0.9871090139386509,
          0.9872176403014606,
          0.988726245236063,
          0.9902821519482023,
          0.9915367416852257,
          0.9926204570771344,
          0.995475029556594,
          0.9956156811139596,
          0.9970297218291371,
          0.9979119563564257,
          0.9979328598198015,
          0.9984855816250998,
          0.998503024494929,
          0.9986291365350353,
          1.0006018065114413,
          1.0034772656938626,
          1.0034787011256348,
          1.0052544926426215,
          1.0059778234980536,
          1.0090422696734322,
          1.0097679463841347,
          1.0101179808669634,
          1.0139098908871538,
          1.0154364145393016,
          1.0155007477853555,
          1.0169805882102267,
          1.0171790353447971,
          1.017221158321324,
          1.0181768481056783,
          1.0185314431942563,
          1.0253838374334654,
          1.0263882780932847,
          1.0266109565553125,
          1.0282441050043567,
          1.029542199677118,
          1.029802731061926,
          1.0338324269101427,
          1.0341885193137488,
          1.0349013088119765,
          1.0357750849131895,
          1.0361376145956034,
          1.0366832405506226,
          1.0376089325358169,
          1.0376139628728263,
          1.0381609791908273,
          1.0388895558851914,
          1.0400902509469607,
          1.0403812250954714,
          1.0410549723375397,
          1.04136472174875,
          1.0428295169248074,
          1.0430464558637975,
          1.0439634407668927,
          1.0450026166793684,
          1.0451262346568302,
          1.0459398886230786,
          1.0462701809935249,
          1.0462768116207508,
          1.0468337260098177,
          1.0478051076377568,
          1.0483192867843063,
          1.0485568856646499,
          1.0485905539047966,
          1.0494715605526226,
          1.0495234548188324,
          1.0496621667073087,
          1.0498492171982676,
          1.0501354727382728,
          1.0514466850612583,
          1.0517736785218421,
          1.0520383892751237,
          1.0526560674710783,
          1.052665074358571,
          1.0529581882266241,
          1.0536446971160738,
          1.0542857000917911,
          1.0549881183557814,
          1.0551708350267528,
          1.056237840635251,
          1.056713314284311,
          1.057017044500977,
          1.05763122555805,
          1.0582950650222833,
          1.0584788845876039,
          1.05973539015579,
          1.0616776895487163,
          1.062731359939666,
          1.0628468756493152,
          1.0631554383606252,
          1.063266398766476,
          1.0642193803888613,
          1.0644534577963327,
          1.0648626966258175,
          1.0650022636959424,
          1.0655272372035645,
          1.0659869181436359,
          1.066069298852862,
          1.0664608653884118,
          1.067224794200623,
          1.0688213862066023,
          1.0692644598458685,
          1.0695874096372584,
          1.0700006119648537,
          1.0701713042310212,
          1.070320155410247,
          1.0703689888164034,
          1.0726031362915414,
          1.07290736855047,
          1.0737633003445695,
          1.0761373274308408,
          1.0764367969791127,
          1.076931970452469,
          1.0772056169923128,
          1.0772201906094474,
          1.078415339699047,
          1.0792848333400917,
          1.0799738705102582,
          1.0814462942157392,
          1.0818718502470257,
          1.0831551679956282,
          1.0834395124928178,
          1.0836551290835368,
          1.087111684641534,
          1.0875241450598727,
          1.0877144223425836,
          1.0893690961112161,
          1.0896588299681638,
          1.0907844945201073,
          1.0909807743870181,
          1.0910330391726668,
          1.0920925630151364,
          1.0930249017250486,
          1.0946286026828118,
          1.0965212881922857,
          1.1008360416962377,
          1.101331296502387,
          1.1017955587217434,
          1.10449385974851,
          1.109308170885565,
          1.1106989888598606,
          1.1107489657919294,
          1.1109711260869393,
          1.1109811521073414,
          1.1110633459970756,
          1.1116265602297175,
          1.1118379058347347,
          1.1118439172292165,
          1.1121895987078894,
          1.1158683534797815,
          1.1162904561449676,
          1.1177836479013943,
          1.1195430217963227,
          1.1215903619831067,
          1.1250033679016878,
          1.429839527955648
         ],
         "y": [
          36.44103996667724,
          36.88871863255261,
          41.87280791337383,
          41.92526409669989,
          42.143327687528,
          43.019250330139215,
          43.35819642669631,
          44.609490953300366,
          44.718859683991894,
          44.72834018454793,
          44.819772869516385,
          44.904694997255575,
          44.94129468775938,
          44.96153753074668,
          45.242670508332424,
          45.53261831162837,
          45.766414808198135,
          45.968368366744016,
          46.50032636481083,
          46.52653719722781,
          46.790047853707335,
          46.95445485907817,
          46.95835028111074,
          47.06135161919204,
          47.064602149413844,
          47.08810349992072,
          47.45571636631189,
          47.991566663058734,
          47.99183416000173,
          48.322758144996925,
          48.45755298260025,
          49.02862156270041,
          49.16385355734994,
          49.229083515278745,
          49.93571712773897,
          50.22018931117148,
          50.23217800125599,
          50.507950627643055,
          50.54493183627861,
          50.55278157715122,
          50.73087718625422,
          50.79695702651108,
          52.073920896822216,
          52.26110137530688,
          52.30259816325861,
          52.60694019196896,
          52.84884396158492,
          52.89739475330359,
          53.648340455912404,
          53.71469932523948,
          53.84752974984727,
          54.01036050257977,
          54.077918977792564,
          54.17959798325268,
          54.352103414035696,
          54.353040832169,
          54.4549789358702,
          54.59075135102549,
          54.814504415956776,
          54.868728306449896,
          54.99428309150886,
          55.05200580756369,
          55.32497470747438,
          55.36540191838543,
          55.536284758747,
          55.72993825397879,
          55.75297482855828,
          55.904601644173965,
          55.96615260125199,
          55.96738823818552,
          56.07117087661365,
          56.252190707035055,
          56.34800950701802,
          56.392286758914736,
          56.39856093473469,
          56.5627391211473,
          56.57240977066235,
          56.598259140062794,
          56.633116550559095,
          56.68646111444471,
          56.93080939685652,
          56.991745592355045,
          57.04107522171137,
          57.15618137471111,
          57.15785983475158,
          57.21248246829029,
          57.340415423965595,
          57.459868218445735,
          57.59076593297445,
          57.62481572333809,
          57.8236553644777,
          57.91226128088286,
          57.968862302287164,
          58.083316753145255,
          58.207025194592205,
          58.2412805125696,
          58.47543402992528,
          58.83738724853933,
          59.03374183257077,
          59.055268525654384,
          59.1127700966839,
          59.133447895473694,
          59.31103883060891,
          59.35465984565309,
          59.430922708141395,
          59.45693144316351,
          59.5547618041588,
          59.64042470268018,
          59.65577659073858,
          59.72874616914652,
          59.871106555696,
          60.168636183456954,
          60.25120426250774,
          60.311386908329524,
          60.38838838037685,
          60.420197387452106,
          60.447936243578766,
          60.457036492798096,
          60.87337646202718,
          60.93007104048738,
          61.08957645397652,
          61.53198340116617,
          61.587790434452955,
          61.68006747119935,
          61.731062310728106,
          61.73377814725052,
          61.95649770391603,
          62.11853040756961,
          62.246934515811006,
          62.521325014672016,
          62.60062863582627,
          62.83977868205645,
          62.892767117478826,
          62.93294790489068,
          63.57708722455058,
          63.65395043962047,
          63.68940917227371,
          63.99776250775534,
          64.0517552662588,
          64.2615261744615,
          64.29810350637865,
          64.30784320328357,
          64.50528859526423,
          64.67903266279586,
          64.97788706468202,
          65.33059458983143,
          66.13466162706032,
          66.22695382041252,
          66.31347045383626,
          66.81630680593767,
          67.71346788100814,
          67.97265091125362,
          67.98196425989835,
          68.02336448589847,
          68.02523286436147,
          68.04054993805673,
          68.14550657090973,
          68.18489144754335,
          68.18601168862921,
          68.25043045139904,
          68.93597724970806,
          69.0146373259075,
          69.29289801229547,
          69.62076252501379,
          70.00229040526912,
          70.63831412122056,
          127.44543133668009
         ]
        }
       ],
       "layout": {
        "annotations": [
         {
          "font": {
           "color": "black",
           "family": "Times",
           "size": 18
          },
          "showarrow": false,
          "text": "slope: 186.35, r_val: 0.25",
          "x": 1,
          "xref": "paper",
          "y": 0.2,
          "yref": "paper"
         }
        ],
        "autosize": false,
        "dragmode": "select",
        "height": 800,
        "hovermode": false,
        "legend": {
         "font": {
          "color": "black",
          "family": "Rockwell",
          "size": 14
         },
         "orientation": "h",
         "y": -0.2
        },
        "margin": {
         "b": 40,
         "l": 40,
         "r": 10,
         "t": 40
        },
        "template": {
         "data": {
          "bar": [
           {
            "error_x": {
             "color": "#2a3f5f"
            },
            "error_y": {
             "color": "#2a3f5f"
            },
            "marker": {
             "line": {
              "color": "#E5ECF6",
              "width": 0.5
             }
            },
            "type": "bar"
           }
          ],
          "barpolar": [
           {
            "marker": {
             "line": {
              "color": "#E5ECF6",
              "width": 0.5
             }
            },
            "type": "barpolar"
           }
          ],
          "carpet": [
           {
            "aaxis": {
             "endlinecolor": "#2a3f5f",
             "gridcolor": "white",
             "linecolor": "white",
             "minorgridcolor": "white",
             "startlinecolor": "#2a3f5f"
            },
            "baxis": {
             "endlinecolor": "#2a3f5f",
             "gridcolor": "white",
             "linecolor": "white",
             "minorgridcolor": "white",
             "startlinecolor": "#2a3f5f"
            },
            "type": "carpet"
           }
          ],
          "choropleth": [
           {
            "colorbar": {
             "outlinewidth": 0,
             "ticks": ""
            },
            "type": "choropleth"
           }
          ],
          "contour": [
           {
            "colorbar": {
             "outlinewidth": 0,
             "ticks": ""
            },
            "colorscale": [
             [
              0,
              "#0d0887"
             ],
             [
              0.1111111111111111,
              "#46039f"
             ],
             [
              0.2222222222222222,
              "#7201a8"
             ],
             [
              0.3333333333333333,
              "#9c179e"
             ],
             [
              0.4444444444444444,
              "#bd3786"
             ],
             [
              0.5555555555555556,
              "#d8576b"
             ],
             [
              0.6666666666666666,
              "#ed7953"
             ],
             [
              0.7777777777777778,
              "#fb9f3a"
             ],
             [
              0.8888888888888888,
              "#fdca26"
             ],
             [
              1,
              "#f0f921"
             ]
            ],
            "type": "contour"
           }
          ],
          "contourcarpet": [
           {
            "colorbar": {
             "outlinewidth": 0,
             "ticks": ""
            },
            "type": "contourcarpet"
           }
          ],
          "heatmap": [
           {
            "colorbar": {
             "outlinewidth": 0,
             "ticks": ""
            },
            "colorscale": [
             [
              0,
              "#0d0887"
             ],
             [
              0.1111111111111111,
              "#46039f"
             ],
             [
              0.2222222222222222,
              "#7201a8"
             ],
             [
              0.3333333333333333,
              "#9c179e"
             ],
             [
              0.4444444444444444,
              "#bd3786"
             ],
             [
              0.5555555555555556,
              "#d8576b"
             ],
             [
              0.6666666666666666,
              "#ed7953"
             ],
             [
              0.7777777777777778,
              "#fb9f3a"
             ],
             [
              0.8888888888888888,
              "#fdca26"
             ],
             [
              1,
              "#f0f921"
             ]
            ],
            "type": "heatmap"
           }
          ],
          "heatmapgl": [
           {
            "colorbar": {
             "outlinewidth": 0,
             "ticks": ""
            },
            "colorscale": [
             [
              0,
              "#0d0887"
             ],
             [
              0.1111111111111111,
              "#46039f"
             ],
             [
              0.2222222222222222,
              "#7201a8"
             ],
             [
              0.3333333333333333,
              "#9c179e"
             ],
             [
              0.4444444444444444,
              "#bd3786"
             ],
             [
              0.5555555555555556,
              "#d8576b"
             ],
             [
              0.6666666666666666,
              "#ed7953"
             ],
             [
              0.7777777777777778,
              "#fb9f3a"
             ],
             [
              0.8888888888888888,
              "#fdca26"
             ],
             [
              1,
              "#f0f921"
             ]
            ],
            "type": "heatmapgl"
           }
          ],
          "histogram": [
           {
            "marker": {
             "colorbar": {
              "outlinewidth": 0,
              "ticks": ""
             }
            },
            "type": "histogram"
           }
          ],
          "histogram2d": [
           {
            "colorbar": {
             "outlinewidth": 0,
             "ticks": ""
            },
            "colorscale": [
             [
              0,
              "#0d0887"
             ],
             [
              0.1111111111111111,
              "#46039f"
             ],
             [
              0.2222222222222222,
              "#7201a8"
             ],
             [
              0.3333333333333333,
              "#9c179e"
             ],
             [
              0.4444444444444444,
              "#bd3786"
             ],
             [
              0.5555555555555556,
              "#d8576b"
             ],
             [
              0.6666666666666666,
              "#ed7953"
             ],
             [
              0.7777777777777778,
              "#fb9f3a"
             ],
             [
              0.8888888888888888,
              "#fdca26"
             ],
             [
              1,
              "#f0f921"
             ]
            ],
            "type": "histogram2d"
           }
          ],
          "histogram2dcontour": [
           {
            "colorbar": {
             "outlinewidth": 0,
             "ticks": ""
            },
            "colorscale": [
             [
              0,
              "#0d0887"
             ],
             [
              0.1111111111111111,
              "#46039f"
             ],
             [
              0.2222222222222222,
              "#7201a8"
             ],
             [
              0.3333333333333333,
              "#9c179e"
             ],
             [
              0.4444444444444444,
              "#bd3786"
             ],
             [
              0.5555555555555556,
              "#d8576b"
             ],
             [
              0.6666666666666666,
              "#ed7953"
             ],
             [
              0.7777777777777778,
              "#fb9f3a"
             ],
             [
              0.8888888888888888,
              "#fdca26"
             ],
             [
              1,
              "#f0f921"
             ]
            ],
            "type": "histogram2dcontour"
           }
          ],
          "mesh3d": [
           {
            "colorbar": {
             "outlinewidth": 0,
             "ticks": ""
            },
            "type": "mesh3d"
           }
          ],
          "parcoords": [
           {
            "line": {
             "colorbar": {
              "outlinewidth": 0,
              "ticks": ""
             }
            },
            "type": "parcoords"
           }
          ],
          "pie": [
           {
            "automargin": true,
            "type": "pie"
           }
          ],
          "scatter": [
           {
            "marker": {
             "colorbar": {
              "outlinewidth": 0,
              "ticks": ""
             }
            },
            "type": "scatter"
           }
          ],
          "scatter3d": [
           {
            "line": {
             "colorbar": {
              "outlinewidth": 0,
              "ticks": ""
             }
            },
            "marker": {
             "colorbar": {
              "outlinewidth": 0,
              "ticks": ""
             }
            },
            "type": "scatter3d"
           }
          ],
          "scattercarpet": [
           {
            "marker": {
             "colorbar": {
              "outlinewidth": 0,
              "ticks": ""
             }
            },
            "type": "scattercarpet"
           }
          ],
          "scattergeo": [
           {
            "marker": {
             "colorbar": {
              "outlinewidth": 0,
              "ticks": ""
             }
            },
            "type": "scattergeo"
           }
          ],
          "scattergl": [
           {
            "marker": {
             "colorbar": {
              "outlinewidth": 0,
              "ticks": ""
             }
            },
            "type": "scattergl"
           }
          ],
          "scattermapbox": [
           {
            "marker": {
             "colorbar": {
              "outlinewidth": 0,
              "ticks": ""
             }
            },
            "type": "scattermapbox"
           }
          ],
          "scatterpolar": [
           {
            "marker": {
             "colorbar": {
              "outlinewidth": 0,
              "ticks": ""
             }
            },
            "type": "scatterpolar"
           }
          ],
          "scatterpolargl": [
           {
            "marker": {
             "colorbar": {
              "outlinewidth": 0,
              "ticks": ""
             }
            },
            "type": "scatterpolargl"
           }
          ],
          "scatterternary": [
           {
            "marker": {
             "colorbar": {
              "outlinewidth": 0,
              "ticks": ""
             }
            },
            "type": "scatterternary"
           }
          ],
          "surface": [
           {
            "colorbar": {
             "outlinewidth": 0,
             "ticks": ""
            },
            "colorscale": [
             [
              0,
              "#0d0887"
             ],
             [
              0.1111111111111111,
              "#46039f"
             ],
             [
              0.2222222222222222,
              "#7201a8"
             ],
             [
              0.3333333333333333,
              "#9c179e"
             ],
             [
              0.4444444444444444,
              "#bd3786"
             ],
             [
              0.5555555555555556,
              "#d8576b"
             ],
             [
              0.6666666666666666,
              "#ed7953"
             ],
             [
              0.7777777777777778,
              "#fb9f3a"
             ],
             [
              0.8888888888888888,
              "#fdca26"
             ],
             [
              1,
              "#f0f921"
             ]
            ],
            "type": "surface"
           }
          ],
          "table": [
           {
            "cells": {
             "fill": {
              "color": "#EBF0F8"
             },
             "line": {
              "color": "white"
             }
            },
            "header": {
             "fill": {
              "color": "#C8D4E3"
             },
             "line": {
              "color": "white"
             }
            },
            "type": "table"
           }
          ]
         },
         "layout": {
          "annotationdefaults": {
           "arrowcolor": "#2a3f5f",
           "arrowhead": 0,
           "arrowwidth": 1
          },
          "coloraxis": {
           "colorbar": {
            "outlinewidth": 0,
            "ticks": ""
           }
          },
          "colorscale": {
           "diverging": [
            [
             0,
             "#8e0152"
            ],
            [
             0.1,
             "#c51b7d"
            ],
            [
             0.2,
             "#de77ae"
            ],
            [
             0.3,
             "#f1b6da"
            ],
            [
             0.4,
             "#fde0ef"
            ],
            [
             0.5,
             "#f7f7f7"
            ],
            [
             0.6,
             "#e6f5d0"
            ],
            [
             0.7,
             "#b8e186"
            ],
            [
             0.8,
             "#7fbc41"
            ],
            [
             0.9,
             "#4d9221"
            ],
            [
             1,
             "#276419"
            ]
           ],
           "sequential": [
            [
             0,
             "#0d0887"
            ],
            [
             0.1111111111111111,
             "#46039f"
            ],
            [
             0.2222222222222222,
             "#7201a8"
            ],
            [
             0.3333333333333333,
             "#9c179e"
            ],
            [
             0.4444444444444444,
             "#bd3786"
            ],
            [
             0.5555555555555556,
             "#d8576b"
            ],
            [
             0.6666666666666666,
             "#ed7953"
            ],
            [
             0.7777777777777778,
             "#fb9f3a"
            ],
            [
             0.8888888888888888,
             "#fdca26"
            ],
            [
             1,
             "#f0f921"
            ]
           ],
           "sequentialminus": [
            [
             0,
             "#0d0887"
            ],
            [
             0.1111111111111111,
             "#46039f"
            ],
            [
             0.2222222222222222,
             "#7201a8"
            ],
            [
             0.3333333333333333,
             "#9c179e"
            ],
            [
             0.4444444444444444,
             "#bd3786"
            ],
            [
             0.5555555555555556,
             "#d8576b"
            ],
            [
             0.6666666666666666,
             "#ed7953"
            ],
            [
             0.7777777777777778,
             "#fb9f3a"
            ],
            [
             0.8888888888888888,
             "#fdca26"
            ],
            [
             1,
             "#f0f921"
            ]
           ]
          },
          "colorway": [
           "#636efa",
           "#EF553B",
           "#00cc96",
           "#ab63fa",
           "#FFA15A",
           "#19d3f3",
           "#FF6692",
           "#B6E880",
           "#FF97FF",
           "#FECB52"
          ],
          "font": {
           "color": "#2a3f5f"
          },
          "geo": {
           "bgcolor": "white",
           "lakecolor": "white",
           "landcolor": "#E5ECF6",
           "showlakes": true,
           "showland": true,
           "subunitcolor": "white"
          },
          "hoverlabel": {
           "align": "left"
          },
          "hovermode": "closest",
          "mapbox": {
           "style": "light"
          },
          "paper_bgcolor": "white",
          "plot_bgcolor": "#E5ECF6",
          "polar": {
           "angularaxis": {
            "gridcolor": "white",
            "linecolor": "white",
            "ticks": ""
           },
           "bgcolor": "#E5ECF6",
           "radialaxis": {
            "gridcolor": "white",
            "linecolor": "white",
            "ticks": ""
           }
          },
          "scene": {
           "xaxis": {
            "backgroundcolor": "#E5ECF6",
            "gridcolor": "white",
            "gridwidth": 2,
            "linecolor": "white",
            "showbackground": true,
            "ticks": "",
            "zerolinecolor": "white"
           },
           "yaxis": {
            "backgroundcolor": "#E5ECF6",
            "gridcolor": "white",
            "gridwidth": 2,
            "linecolor": "white",
            "showbackground": true,
            "ticks": "",
            "zerolinecolor": "white"
           },
           "zaxis": {
            "backgroundcolor": "#E5ECF6",
            "gridcolor": "white",
            "gridwidth": 2,
            "linecolor": "white",
            "showbackground": true,
            "ticks": "",
            "zerolinecolor": "white"
           }
          },
          "shapedefaults": {
           "line": {
            "color": "#2a3f5f"
           }
          },
          "ternary": {
           "aaxis": {
            "gridcolor": "white",
            "linecolor": "white",
            "ticks": ""
           },
           "baxis": {
            "gridcolor": "white",
            "linecolor": "white",
            "ticks": ""
           },
           "bgcolor": "#E5ECF6",
           "caxis": {
            "gridcolor": "white",
            "linecolor": "white",
            "ticks": ""
           }
          },
          "title": {
           "x": 0.05
          },
          "xaxis": {
           "automargin": true,
           "gridcolor": "white",
           "linecolor": "white",
           "ticks": "",
           "title": {
            "standoff": 15
           },
           "zerolinecolor": "white",
           "zerolinewidth": 2
          },
          "yaxis": {
           "automargin": true,
           "gridcolor": "white",
           "linecolor": "white",
           "ticks": "",
           "title": {
            "standoff": 15
           },
           "zerolinecolor": "white",
           "zerolinewidth": 2
          }
         }
        },
        "title": {
         "text": "t69a",
         "x": 0.5,
         "xanchor": "center",
         "yanchor": "top"
        },
        "width": 900,
        "xaxis": {
         "gridcolor": "black",
         "gridwidth": 1,
         "linecolor": "black",
         "linewidth": 2,
         "mirror": true,
         "showgrid": false,
         "showline": true,
         "tickcolor": "black",
         "tickfont": {
          "color": "black",
          "family": "Rockwell",
          "size": 14
         },
         "ticklen": 10,
         "ticks": "outside",
         "tickwidth": 2,
         "title": {
          "font": {
           "color": "black",
           "family": "Rockwell",
           "size": 18
          },
          "text": "Wiberg Bond Order"
         }
        },
        "yaxis": {
         "gridcolor": "black",
         "gridwidth": 1,
         "linecolor": "black",
         "linewidth": 2,
         "mirror": true,
         "showgrid": false,
         "showline": true,
         "tickcolor": "black",
         "tickfont": {
          "color": "black",
          "family": "Rockwell",
          "size": 14
         },
         "ticklen": 10,
         "ticks": "outside",
         "tickwidth": 2,
         "title": {
          "font": {
           "color": "black",
           "family": "Rockwell",
           "size": 18
          },
          "text": "Torsion barrier in KJ/mol"
         }
        }
       }
      },
      "text/html": [
       "<div>                            <div id=\"dcd76e4d-4619-4dfc-8ab8-97e3d0ac0c66\" class=\"plotly-graph-div\" style=\"height:800px; width:900px;\"></div>            <script type=\"text/javascript\">                require([\"plotly\"], function(Plotly) {                    window.PLOTLYENV=window.PLOTLYENV || {};                                    if (document.getElementById(\"dcd76e4d-4619-4dfc-8ab8-97e3d0ac0c66\")) {                    Plotly.newPlot(                        \"dcd76e4d-4619-4dfc-8ab8-97e3d0ac0c66\",                        [{\"marker\": {\"color\": \"#ebce2b\", \"size\": 10, \"symbol\": 0}, \"mode\": \"markers\", \"name\": \"Fragment Stability Benchmark.oeb\", \"type\": \"scatter\", \"x\": [], \"y\": []}, {\"marker\": {\"color\": \"#702c8c\", \"size\": 10, \"symbol\": 1}, \"mode\": \"markers\", \"name\": \"Fragment Stability Benchmark.oeb\", \"type\": \"scatter\", \"x\": [], \"y\": []}, {\"marker\": {\"color\": \"#db6917\", \"size\": 10, \"symbol\": 2}, \"mode\": \"markers\", \"name\": \"Fragment Stability Benchmark.oeb\", \"type\": \"scatter\", \"x\": [], \"y\": []}, {\"marker\": {\"color\": \"#96cde6\", \"size\": 10, \"symbol\": 3}, \"mode\": \"markers\", \"name\": \"OpenFF Fragmenter Validation 1.0.oeb\", \"type\": \"scatter\", \"x\": [1.076931970452469, 1.0181768481056783], \"y\": [25.461621510482814, 40.73775155517683]}, {\"marker\": {\"color\": \"#ba1c30\", \"size\": 10, \"symbol\": 4}, \"mode\": \"markers\", \"name\": \"OpenFF Full TorsionDrive Benchmark 1.oeb\", \"type\": \"scatter\", \"x\": [], \"y\": []}, {\"marker\": {\"color\": \"#c0bd7f\", \"size\": 10, \"symbol\": 5}, \"mode\": \"markers\", \"name\": \"OpenFF Gen 2 Torsion Set 1 Roche.oeb\", \"type\": \"scatter\", \"x\": [1.0155007477853555], \"y\": [177.5712418732425]}, {\"marker\": {\"color\": \"#7f7e80\", \"size\": 10, \"symbol\": 6}, \"mode\": \"markers\", \"name\": \"OpenFF Gen 2 Torsion Set 1 Roche 2.oeb\", \"type\": \"scatter\", \"x\": [1.0155007477853555], \"y\": [177.5712418732425]}, {\"marker\": {\"color\": \"#5fa641\", \"size\": 10, \"symbol\": 7}, \"mode\": \"markers\", \"name\": \"OpenFF Gen 2 Torsion Set 2 Coverage.oeb\", \"type\": \"scatter\", \"x\": [1.1008360416962377], \"y\": [151.03566960602393]}, {\"marker\": {\"color\": \"#d485b2\", \"size\": 10, \"symbol\": 8}, \"mode\": \"markers\", \"name\": \"OpenFF Gen 2 Torsion Set 2 Coverage 2.oeb\", \"type\": \"scatter\", \"x\": [1.1008360416962377, 1.0529581882266241, 1.0542857000917911], \"y\": [151.03566960602393, 61.42676707212809, 45.99973107577284]}, {\"marker\": {\"color\": \"#4277b6\", \"size\": 10, \"symbol\": 9}, \"mode\": \"markers\", \"name\": \"OpenFF Gen 2 Torsion Set 3 Pfizer Discrepancy.oeb\", \"type\": \"scatter\", \"x\": [], \"y\": []}, {\"marker\": {\"color\": \"#df8461\", \"size\": 10, \"symbol\": 10}, \"mode\": \"markers\", \"name\": \"OpenFF Gen 2 Torsion Set 3 Pfizer Discrepancy 2.oeb\", \"type\": \"scatter\", \"x\": [1.0772056169923128], \"y\": [163.0036429318464]}, {\"marker\": {\"color\": \"#463397\", \"size\": 10, \"symbol\": 11}, \"mode\": \"markers\", \"name\": \"OpenFF Gen 2 Torsion Set 4 eMolecules Discrepancy.oeb\", \"type\": \"scatter\", \"x\": [], \"y\": []}, {\"marker\": {\"color\": \"#e1a11a\", \"size\": 10, \"symbol\": 12}, \"mode\": \"markers\", \"name\": \"OpenFF Gen 2 Torsion Set 4 eMolecules Discrepancy 2.oeb\", \"type\": \"scatter\", \"x\": [1.0946286026828118, 0.9872176403014606], \"y\": [137.44857640757044, 56.557413730843166]}, {\"marker\": {\"color\": \"#91218c\", \"size\": 10, \"symbol\": 13}, \"mode\": \"markers\", \"name\": \"OpenFF Gen 2 Torsion Set 5 Bayer.oeb\", \"type\": \"scatter\", \"x\": [1.0090422696734322], \"y\": [156.58790815575412]}, {\"marker\": {\"color\": \"#e8e948\", \"size\": 10, \"symbol\": 14}, \"mode\": \"markers\", \"name\": \"OpenFF Gen 2 Torsion Set 5 Bayer 2.oeb\", \"type\": \"scatter\", \"x\": [1.0090422696734322, 1.0006018065114413, 1.070320155410247], \"y\": [156.58790815575412, 146.9173281809754, 49.21476571154818]}, {\"marker\": {\"color\": \"#7e1510\", \"size\": 10, \"symbol\": 15}, \"mode\": \"markers\", \"name\": \"OpenFF Gen 2 Torsion Set 6 Supplemental.oeb\", \"type\": \"scatter\", \"x\": [], \"y\": []}, {\"marker\": {\"color\": \"#92ae31\", \"size\": 10, \"symbol\": 16}, \"mode\": \"markers\", \"name\": \"OpenFF Gen 2 Torsion Set 6 Supplemental 2.oeb\", \"type\": \"scatter\", \"x\": [], \"y\": []}, {\"marker\": {\"color\": \"#6f340d\", \"size\": 10, \"symbol\": 17}, \"mode\": \"markers\", \"name\": \"OpenFF Group1 Torsions.oeb\", \"type\": \"scatter\", \"x\": [1.0450026166793684, 0.9956156811139596, 1.0468337260098177, 1.0388895558851914, 0.9902821519482023, 1.0616776895487163, 1.0692644598458685, 1.0520383892751237, 1.0526560674710783, 1.1215903619831067, 1.07290736855047, 0.9709245069780751, 1.029802731061926, 0.9926204570771344, 0.9786138531463825, 0.9720946714034849, 1.0338324269101427, 1.0551708350267528, 1.0101179808669634, 1.0266109565553125, 1.0059778234980536, 0.9915367416852257, 1.0139098908871538, 0.998503024494929, 1.0171790353447971, 0.9706430186315437, 0.9859662657020354, 1.0514466850612583, 1.0517736785218421, 1.0400902509469607, 1.0263882780932847, 1.05973539015579, 1.0349013088119765, 1.0834395124928178, 1.0582950650222833, 1.0761373274308408, 1.0688213862066023, 1.0498492171982676, 1.0536446971160738, 1.0737633003445695, 1.0875241450598727, 1.1017955587217434, 1.0910330391726668, 1.0366832405506226, 1.0357750849131895, 1.0495234548188324, 1.0097679463841347, 1.0034772656938626, 1.0034787011256348, 1.0282441050043567, 1.0341885193137488, 1.0253838374334654, 1.0403812250954714, 1.0836551290835368, 1.0584788845876039, 1.0792848333400917, 1.0485905539047966, 1.087111684641534, 1.0631554383606252, 1.0764367969791127, 1.0655272372035645, 0.9970297218291371, 1.0428295169248074, 0.9984855816250998, 1.0154364145393016, 0.9871090139386509, 0.9853285015440434, 0.988726245236063, 0.9869126140919552, 0.995475029556594, 0.9767950136839282, 0.985915391805831, 0.9864569082474667, 1.0772201906094474, 1.066069298852862, 1.056713314284311, 0.9979119563564257, 1.017221158321324, 1.05763122555805, 1.109308170885565, 1.0965212881922857, 1.0648626966258175, 1.0896588299681638, 1.0726031362915414, 1.101331296502387, 1.1177836479013943, 1.10449385974851, 1.0659869181436359, 1.1110633459970756, 1.1118379058347347, 1.1121895987078894, 1.1195430217963227, 1.0831551679956282, 1.078415339699047, 1.0052544926426215, 0.9979328598198015, 1.0664608653884118, 1.0814462942157392, 1.0877144223425836, 1.0818718502470257, 1.0703689888164034, 1.0410549723375397, 1.0483192867843063, 1.0920925630151364, 1.063266398766476, 1.0930249017250486, 1.0478051076377568, 1.062731359939666, 1.0909807743870181, 1.0496621667073087, 1.0501354727382728, 1.057017044500977, 1.067224794200623, 1.0700006119648537, 1.056237840635251, 1.0695874096372584, 1.0907844945201073, 0.9438975910829305, 1.0439634407668927, 0.9414952751032984, 1.0650022636959424, 1.0642193803888613, 1.0644534577963327], \"y\": [40.35051638193528, 44.72536407908001, 46.28738039655008, 43.203074797133695, 32.016502645121705, 68.31769694648045, 69.27109916050324, 66.87607044109257, 48.127394017132474, 75.06420863373216, 61.88825904369304, 55.24723876887933, 61.10597194851255, 26.575507421860834, 41.50713603778763, 49.6571956619394, 62.13211027516246, 40.20025857597204, 45.77372120147152, 45.067703849639486, 19.748757512074008, 30.918080467315804, 16.18728240166979, 46.18088896081122, 40.05666695743588, 35.87760920176993, 19.641215944153544, 22.869532957983324, 12.011692206519399, 21.020640161037875, 11.72553083870065, 16.22425270358542, 17.229251957860697, 51.01467659096298, 51.49736545424247, 48.81991668554235, 66.31605319755582, 58.25225841537497, 49.948434873642555, 53.356471271915666, 51.24325126464407, 62.512612710061404, 55.28754001750738, 29.06579608721856, 29.065045606457204, 26.867139072862273, 25.434098262694818, 20.60467042991911, 20.604636566670166, 36.22943136914586, 26.476861644862424, 31.008355413968587, 28.605835981843995, 50.887756519786535, 55.188008027370074, 57.95025205204584, 54.1302496166287, 53.70899478781445, 57.519196729530165, 67.13140482786639, 53.69695095449714, 29.342984682350163, 25.77675146258332, 28.40989443576035, 28.41409727117724, 32.20432778078998, 27.847964506001688, 30.88687937617749, 28.1458666217992, 31.934900469165427, 30.05807050213849, 33.573318551300076, 25.960934824102083, 48.51738561982614, 64.37230840935035, 55.99364698745819, 21.969997055142983, 22.582985995271827, 45.17476741431258, 70.57324384118175, 67.44014099916367, 48.19742104865162, 45.243872748820706, 43.06884116993734, 59.56012640255608, 75.12910331117865, 72.3392389486263, 60.26569879295954, 65.65355287682604, 63.857101776428266, 63.72195460667618, 66.42387708179524, 42.14119435737541, 43.85170103654059, 48.50553137658687, 49.448029485654104, 39.20825957013449, 42.91700178723093, 48.15407021104619, 40.09912992799818, 37.610374976899436, 54.95749937460667, 51.03754359791998, 54.868362983568886, 54.68251236360561, 55.06217075708804, 44.017731698269415, 42.36755313741577, 55.00902622630946, 39.05457812196184, 25.675177379933245, 25.561521009573084, 39.62628593102011, 52.338800566021234, 45.18273685126388, 49.0686576790618, 49.17931447604883, 25.011353500027752, 35.89387873384226, 19.58111829012904, 50.28076411167717, 38.16566073367841, 62.331517858295285]}, {\"marker\": {\"color\": \"#d32b1e\", \"size\": 10, \"symbol\": 18}, \"mode\": \"markers\", \"name\": \"OpenFF Group1 Torsions 2.oeb\", \"type\": \"scatter\", \"x\": [], \"y\": []}, {\"marker\": {\"color\": \"#2b3514\", \"size\": 10, \"symbol\": 19}, \"mode\": \"markers\", \"name\": \"OpenFF Group1 Torsions 3.oeb\", \"type\": \"scatter\", \"x\": [], \"y\": []}, {\"marker\": {\"color\": \"#ebce2b\", \"size\": 10, \"symbol\": 20}, \"mode\": \"markers\", \"name\": \"OpenFF Primary Benchmark 1 Torsion Set.oeb\", \"type\": \"scatter\", \"x\": [1.0169805882102267], \"y\": [133.01650703916118]}, {\"marker\": {\"color\": \"#702c8c\", \"size\": 10, \"symbol\": 21}, \"mode\": \"markers\", \"name\": \"OpenFF Primary Benchmark 1 Torsion Set.oeb\", \"type\": \"scatter\", \"x\": [1.0169805882102267], \"y\": [133.01650703916118]}, {\"marker\": {\"color\": \"#db6917\", \"size\": 10, \"symbol\": 22}, \"mode\": \"markers\", \"name\": \"OpenFF Primary TorsionDrive Benchmark 1.oeb\", \"type\": \"scatter\", \"x\": [], \"y\": []}, {\"marker\": {\"color\": \"#96cde6\", \"size\": 10, \"symbol\": 23}, \"mode\": \"markers\", \"name\": \"OpenFF Rowley Biaryl v1.0.oeb\", \"type\": \"scatter\", \"x\": [], \"y\": []}, {\"marker\": {\"color\": \"#ba1c30\", \"size\": 10, \"symbol\": 24}, \"mode\": \"markers\", \"name\": \"OpenFF Substituted Phenyl Set 1.oeb\", \"type\": \"scatter\", \"x\": [], \"y\": []}, {\"marker\": {\"color\": \"#c0bd7f\", \"size\": 10, \"symbol\": 25}, \"mode\": \"markers\", \"name\": \"OpenFF-benchmark-ligand-fragments-v1.0.oeb\", \"type\": \"scatter\", \"x\": [1.0549881183557814, 1.0628468756493152, 1.052665074358571, 1.0701713042310212, 1.0361376145956034, 1.0459398886230786, 1.0376089325358169, 1.04136472174875, 1.0376139628728263, 1.0485568856646499, 1.0451262346568302, 1.0494715605526226, 1.1109811521073414, 1.1109711260869393, 1.1162904561449676, 1.1107489657919294, 1.0799738705102582, 1.1158683534797815, 1.1118439172292165, 1.1116265602297175, 1.1106989888598606, 0.9986291365350353, 1.0462768116207508, 1.0185314431942563, 1.0430464558637975, 1.0462701809935249, 1.0381609791908273], \"y\": [42.92083973289891, 53.22260928141847, 50.06472871323626, 50.15958950248478, 63.76099153565906, 58.49251471242093, 58.991958866550476, 59.61571692009659, 55.67516973585742, 57.263841104070934, 54.06637580821325, 55.24717265196068, 80.52442770378639, 74.42489189442267, 77.40073884840746, 79.77854171345416, 81.41418605939145, 95.97976845155864, 80.94164520670267, 73.62907195931507, 80.93793003872452, 60.1219543099142, 52.98390065354175, 54.405510330573065, 55.32829069215029, 55.34441497465747, 55.648459086500935]}, {\"marker\": {\"color\": \"#7f7e80\", \"size\": 10, \"symbol\": 26}, \"mode\": \"markers\", \"name\": \"Pfizer Discrepancy Torsion Dataset 1.oeb\", \"type\": \"scatter\", \"x\": [], \"y\": []}, {\"marker\": {\"color\": \"#5fa641\", \"size\": 10, \"symbol\": 27}, \"mode\": \"markers\", \"name\": \"SMIRNOFF Coverage Torsion Set 1.oeb\", \"type\": \"scatter\", \"x\": [1.429839527955648, 1.1250033679016878, 1.0893690961112161, 1.1008360416962377, 1.1008360416962377, 1.1008360416962377, 1.029542199677118, 1.029542199677118], \"y\": [78.69057708056532, 34.29509295778438, 29.45535956101118, 212.16106211385198, 164.2629925691242, 151.03566960602393, 191.3927391368075, 148.16075174308003]}, {\"marker\": {\"color\": \"#d485b2\", \"size\": 10, \"symbol\": 28}, \"mode\": \"markers\", \"name\": \"TorsionDrive Paper.oeb\", \"type\": \"scatter\", \"x\": [], \"y\": []}, {\"mode\": \"lines\", \"showlegend\": false, \"type\": \"scatter\", \"x\": [0.9414952751032984, 0.9438975910829305, 0.9706430186315437, 0.9709245069780751, 0.9720946714034849, 0.9767950136839282, 0.9786138531463825, 0.9853285015440434, 0.985915391805831, 0.9859662657020354, 0.9864569082474667, 0.9869126140919552, 0.9871090139386509, 0.9872176403014606, 0.988726245236063, 0.9902821519482023, 0.9915367416852257, 0.9926204570771344, 0.995475029556594, 0.9956156811139596, 0.9970297218291371, 0.9979119563564257, 0.9979328598198015, 0.9984855816250998, 0.998503024494929, 0.9986291365350353, 1.0006018065114413, 1.0034772656938626, 1.0034787011256348, 1.0052544926426215, 1.0059778234980536, 1.0090422696734322, 1.0097679463841347, 1.0101179808669634, 1.0139098908871538, 1.0154364145393016, 1.0155007477853555, 1.0169805882102267, 1.0171790353447971, 1.017221158321324, 1.0181768481056783, 1.0185314431942563, 1.0253838374334654, 1.0263882780932847, 1.0266109565553125, 1.0282441050043567, 1.029542199677118, 1.029802731061926, 1.0338324269101427, 1.0341885193137488, 1.0349013088119765, 1.0357750849131895, 1.0361376145956034, 1.0366832405506226, 1.0376089325358169, 1.0376139628728263, 1.0381609791908273, 1.0388895558851914, 1.0400902509469607, 1.0403812250954714, 1.0410549723375397, 1.04136472174875, 1.0428295169248074, 1.0430464558637975, 1.0439634407668927, 1.0450026166793684, 1.0451262346568302, 1.0459398886230786, 1.0462701809935249, 1.0462768116207508, 1.0468337260098177, 1.0478051076377568, 1.0483192867843063, 1.0485568856646499, 1.0485905539047966, 1.0494715605526226, 1.0495234548188324, 1.0496621667073087, 1.0498492171982676, 1.0501354727382728, 1.0514466850612583, 1.0517736785218421, 1.0520383892751237, 1.0526560674710783, 1.052665074358571, 1.0529581882266241, 1.0536446971160738, 1.0542857000917911, 1.0549881183557814, 1.0551708350267528, 1.056237840635251, 1.056713314284311, 1.057017044500977, 1.05763122555805, 1.0582950650222833, 1.0584788845876039, 1.05973539015579, 1.0616776895487163, 1.062731359939666, 1.0628468756493152, 1.0631554383606252, 1.063266398766476, 1.0642193803888613, 1.0644534577963327, 1.0648626966258175, 1.0650022636959424, 1.0655272372035645, 1.0659869181436359, 1.066069298852862, 1.0664608653884118, 1.067224794200623, 1.0688213862066023, 1.0692644598458685, 1.0695874096372584, 1.0700006119648537, 1.0701713042310212, 1.070320155410247, 1.0703689888164034, 1.0726031362915414, 1.07290736855047, 1.0737633003445695, 1.0761373274308408, 1.0764367969791127, 1.076931970452469, 1.0772056169923128, 1.0772201906094474, 1.078415339699047, 1.0792848333400917, 1.0799738705102582, 1.0814462942157392, 1.0818718502470257, 1.0831551679956282, 1.0834395124928178, 1.0836551290835368, 1.087111684641534, 1.0875241450598727, 1.0877144223425836, 1.0893690961112161, 1.0896588299681638, 1.0907844945201073, 1.0909807743870181, 1.0910330391726668, 1.0920925630151364, 1.0930249017250486, 1.0946286026828118, 1.0965212881922857, 1.1008360416962377, 1.101331296502387, 1.1017955587217434, 1.10449385974851, 1.109308170885565, 1.1106989888598606, 1.1107489657919294, 1.1109711260869393, 1.1109811521073414, 1.1110633459970756, 1.1116265602297175, 1.1118379058347347, 1.1118439172292165, 1.1121895987078894, 1.1158683534797815, 1.1162904561449676, 1.1177836479013943, 1.1195430217963227, 1.1215903619831067, 1.1250033679016878, 1.429839527955648], \"y\": [36.44103996667724, 36.88871863255261, 41.87280791337383, 41.92526409669989, 42.143327687528, 43.019250330139215, 43.35819642669631, 44.609490953300366, 44.718859683991894, 44.72834018454793, 44.819772869516385, 44.904694997255575, 44.94129468775938, 44.96153753074668, 45.242670508332424, 45.53261831162837, 45.766414808198135, 45.968368366744016, 46.50032636481083, 46.52653719722781, 46.790047853707335, 46.95445485907817, 46.95835028111074, 47.06135161919204, 47.064602149413844, 47.08810349992072, 47.45571636631189, 47.991566663058734, 47.99183416000173, 48.322758144996925, 48.45755298260025, 49.02862156270041, 49.16385355734994, 49.229083515278745, 49.93571712773897, 50.22018931117148, 50.23217800125599, 50.507950627643055, 50.54493183627861, 50.55278157715122, 50.73087718625422, 50.79695702651108, 52.073920896822216, 52.26110137530688, 52.30259816325861, 52.60694019196896, 52.84884396158492, 52.89739475330359, 53.648340455912404, 53.71469932523948, 53.84752974984727, 54.01036050257977, 54.077918977792564, 54.17959798325268, 54.352103414035696, 54.353040832169, 54.4549789358702, 54.59075135102549, 54.814504415956776, 54.868728306449896, 54.99428309150886, 55.05200580756369, 55.32497470747438, 55.36540191838543, 55.536284758747, 55.72993825397879, 55.75297482855828, 55.904601644173965, 55.96615260125199, 55.96738823818552, 56.07117087661365, 56.252190707035055, 56.34800950701802, 56.392286758914736, 56.39856093473469, 56.5627391211473, 56.57240977066235, 56.598259140062794, 56.633116550559095, 56.68646111444471, 56.93080939685652, 56.991745592355045, 57.04107522171137, 57.15618137471111, 57.15785983475158, 57.21248246829029, 57.340415423965595, 57.459868218445735, 57.59076593297445, 57.62481572333809, 57.8236553644777, 57.91226128088286, 57.968862302287164, 58.083316753145255, 58.207025194592205, 58.2412805125696, 58.47543402992528, 58.83738724853933, 59.03374183257077, 59.055268525654384, 59.1127700966839, 59.133447895473694, 59.31103883060891, 59.35465984565309, 59.430922708141395, 59.45693144316351, 59.5547618041588, 59.64042470268018, 59.65577659073858, 59.72874616914652, 59.871106555696, 60.168636183456954, 60.25120426250774, 60.311386908329524, 60.38838838037685, 60.420197387452106, 60.447936243578766, 60.457036492798096, 60.87337646202718, 60.93007104048738, 61.08957645397652, 61.53198340116617, 61.587790434452955, 61.68006747119935, 61.731062310728106, 61.73377814725052, 61.95649770391603, 62.11853040756961, 62.246934515811006, 62.521325014672016, 62.60062863582627, 62.83977868205645, 62.892767117478826, 62.93294790489068, 63.57708722455058, 63.65395043962047, 63.68940917227371, 63.99776250775534, 64.0517552662588, 64.2615261744615, 64.29810350637865, 64.30784320328357, 64.50528859526423, 64.67903266279586, 64.97788706468202, 65.33059458983143, 66.13466162706032, 66.22695382041252, 66.31347045383626, 66.81630680593767, 67.71346788100814, 67.97265091125362, 67.98196425989835, 68.02336448589847, 68.02523286436147, 68.04054993805673, 68.14550657090973, 68.18489144754335, 68.18601168862921, 68.25043045139904, 68.93597724970806, 69.0146373259075, 69.29289801229547, 69.62076252501379, 70.00229040526912, 70.63831412122056, 127.44543133668009]}],                        {\"annotations\": [{\"font\": {\"color\": \"black\", \"family\": \"Times\", \"size\": 18}, \"showarrow\": false, \"text\": \"slope: 186.35, r_val: 0.25\", \"x\": 1, \"xref\": \"paper\", \"y\": 0.2, \"yref\": \"paper\"}], \"autosize\": false, \"dragmode\": \"select\", \"height\": 800, \"hovermode\": false, \"legend\": {\"font\": {\"color\": \"black\", \"family\": \"Rockwell\", \"size\": 14}, \"orientation\": \"h\", \"y\": -0.2}, \"margin\": {\"b\": 40, \"l\": 40, \"r\": 10, \"t\": 40}, \"template\": {\"data\": {\"bar\": [{\"error_x\": {\"color\": \"#2a3f5f\"}, \"error_y\": {\"color\": \"#2a3f5f\"}, \"marker\": {\"line\": {\"color\": \"#E5ECF6\", \"width\": 0.5}}, \"type\": \"bar\"}], \"barpolar\": [{\"marker\": {\"line\": {\"color\": \"#E5ECF6\", \"width\": 0.5}}, \"type\": \"barpolar\"}], \"carpet\": [{\"aaxis\": {\"endlinecolor\": \"#2a3f5f\", \"gridcolor\": \"white\", \"linecolor\": \"white\", \"minorgridcolor\": \"white\", \"startlinecolor\": \"#2a3f5f\"}, \"baxis\": {\"endlinecolor\": \"#2a3f5f\", \"gridcolor\": \"white\", \"linecolor\": \"white\", \"minorgridcolor\": \"white\", \"startlinecolor\": \"#2a3f5f\"}, \"type\": \"carpet\"}], \"choropleth\": [{\"colorbar\": {\"outlinewidth\": 0, \"ticks\": \"\"}, \"type\": \"choropleth\"}], \"contour\": [{\"colorbar\": {\"outlinewidth\": 0, \"ticks\": \"\"}, \"colorscale\": [[0.0, \"#0d0887\"], [0.1111111111111111, \"#46039f\"], [0.2222222222222222, \"#7201a8\"], [0.3333333333333333, \"#9c179e\"], [0.4444444444444444, \"#bd3786\"], [0.5555555555555556, \"#d8576b\"], [0.6666666666666666, \"#ed7953\"], [0.7777777777777778, \"#fb9f3a\"], [0.8888888888888888, \"#fdca26\"], [1.0, \"#f0f921\"]], \"type\": \"contour\"}], \"contourcarpet\": [{\"colorbar\": {\"outlinewidth\": 0, \"ticks\": \"\"}, \"type\": \"contourcarpet\"}], \"heatmap\": [{\"colorbar\": {\"outlinewidth\": 0, \"ticks\": \"\"}, \"colorscale\": [[0.0, \"#0d0887\"], [0.1111111111111111, \"#46039f\"], [0.2222222222222222, \"#7201a8\"], [0.3333333333333333, \"#9c179e\"], [0.4444444444444444, \"#bd3786\"], [0.5555555555555556, \"#d8576b\"], [0.6666666666666666, \"#ed7953\"], [0.7777777777777778, \"#fb9f3a\"], [0.8888888888888888, \"#fdca26\"], [1.0, \"#f0f921\"]], \"type\": \"heatmap\"}], \"heatmapgl\": [{\"colorbar\": {\"outlinewidth\": 0, \"ticks\": \"\"}, \"colorscale\": [[0.0, \"#0d0887\"], [0.1111111111111111, \"#46039f\"], [0.2222222222222222, \"#7201a8\"], [0.3333333333333333, \"#9c179e\"], [0.4444444444444444, \"#bd3786\"], [0.5555555555555556, \"#d8576b\"], [0.6666666666666666, \"#ed7953\"], [0.7777777777777778, \"#fb9f3a\"], [0.8888888888888888, \"#fdca26\"], [1.0, \"#f0f921\"]], \"type\": \"heatmapgl\"}], \"histogram\": [{\"marker\": {\"colorbar\": {\"outlinewidth\": 0, \"ticks\": \"\"}}, \"type\": \"histogram\"}], \"histogram2d\": [{\"colorbar\": {\"outlinewidth\": 0, \"ticks\": \"\"}, \"colorscale\": [[0.0, \"#0d0887\"], [0.1111111111111111, \"#46039f\"], [0.2222222222222222, \"#7201a8\"], [0.3333333333333333, \"#9c179e\"], [0.4444444444444444, \"#bd3786\"], [0.5555555555555556, \"#d8576b\"], [0.6666666666666666, \"#ed7953\"], [0.7777777777777778, \"#fb9f3a\"], [0.8888888888888888, \"#fdca26\"], [1.0, \"#f0f921\"]], \"type\": \"histogram2d\"}], \"histogram2dcontour\": [{\"colorbar\": {\"outlinewidth\": 0, \"ticks\": \"\"}, \"colorscale\": [[0.0, \"#0d0887\"], [0.1111111111111111, \"#46039f\"], [0.2222222222222222, \"#7201a8\"], [0.3333333333333333, \"#9c179e\"], [0.4444444444444444, \"#bd3786\"], [0.5555555555555556, \"#d8576b\"], [0.6666666666666666, \"#ed7953\"], [0.7777777777777778, \"#fb9f3a\"], [0.8888888888888888, \"#fdca26\"], [1.0, \"#f0f921\"]], \"type\": \"histogram2dcontour\"}], \"mesh3d\": [{\"colorbar\": {\"outlinewidth\": 0, \"ticks\": \"\"}, \"type\": \"mesh3d\"}], \"parcoords\": [{\"line\": {\"colorbar\": {\"outlinewidth\": 0, \"ticks\": \"\"}}, \"type\": \"parcoords\"}], \"pie\": [{\"automargin\": true, \"type\": \"pie\"}], \"scatter\": [{\"marker\": {\"colorbar\": {\"outlinewidth\": 0, \"ticks\": \"\"}}, \"type\": \"scatter\"}], \"scatter3d\": [{\"line\": {\"colorbar\": {\"outlinewidth\": 0, \"ticks\": \"\"}}, \"marker\": {\"colorbar\": {\"outlinewidth\": 0, \"ticks\": \"\"}}, \"type\": \"scatter3d\"}], \"scattercarpet\": [{\"marker\": {\"colorbar\": {\"outlinewidth\": 0, \"ticks\": \"\"}}, \"type\": \"scattercarpet\"}], \"scattergeo\": [{\"marker\": {\"colorbar\": {\"outlinewidth\": 0, \"ticks\": \"\"}}, \"type\": \"scattergeo\"}], \"scattergl\": [{\"marker\": {\"colorbar\": {\"outlinewidth\": 0, \"ticks\": \"\"}}, \"type\": \"scattergl\"}], \"scattermapbox\": [{\"marker\": {\"colorbar\": {\"outlinewidth\": 0, \"ticks\": \"\"}}, \"type\": \"scattermapbox\"}], \"scatterpolar\": [{\"marker\": {\"colorbar\": {\"outlinewidth\": 0, \"ticks\": \"\"}}, \"type\": \"scatterpolar\"}], \"scatterpolargl\": [{\"marker\": {\"colorbar\": {\"outlinewidth\": 0, \"ticks\": \"\"}}, \"type\": \"scatterpolargl\"}], \"scatterternary\": [{\"marker\": {\"colorbar\": {\"outlinewidth\": 0, \"ticks\": \"\"}}, \"type\": \"scatterternary\"}], \"surface\": [{\"colorbar\": {\"outlinewidth\": 0, \"ticks\": \"\"}, \"colorscale\": [[0.0, \"#0d0887\"], [0.1111111111111111, \"#46039f\"], [0.2222222222222222, \"#7201a8\"], [0.3333333333333333, \"#9c179e\"], [0.4444444444444444, \"#bd3786\"], [0.5555555555555556, \"#d8576b\"], [0.6666666666666666, \"#ed7953\"], [0.7777777777777778, \"#fb9f3a\"], [0.8888888888888888, \"#fdca26\"], [1.0, \"#f0f921\"]], \"type\": \"surface\"}], \"table\": [{\"cells\": {\"fill\": {\"color\": \"#EBF0F8\"}, \"line\": {\"color\": \"white\"}}, \"header\": {\"fill\": {\"color\": \"#C8D4E3\"}, \"line\": {\"color\": \"white\"}}, \"type\": \"table\"}]}, \"layout\": {\"annotationdefaults\": {\"arrowcolor\": \"#2a3f5f\", \"arrowhead\": 0, \"arrowwidth\": 1}, \"coloraxis\": {\"colorbar\": {\"outlinewidth\": 0, \"ticks\": \"\"}}, \"colorscale\": {\"diverging\": [[0, \"#8e0152\"], [0.1, \"#c51b7d\"], [0.2, \"#de77ae\"], [0.3, \"#f1b6da\"], [0.4, \"#fde0ef\"], [0.5, \"#f7f7f7\"], [0.6, \"#e6f5d0\"], [0.7, \"#b8e186\"], [0.8, \"#7fbc41\"], [0.9, \"#4d9221\"], [1, \"#276419\"]], \"sequential\": [[0.0, \"#0d0887\"], [0.1111111111111111, \"#46039f\"], [0.2222222222222222, \"#7201a8\"], [0.3333333333333333, \"#9c179e\"], [0.4444444444444444, \"#bd3786\"], [0.5555555555555556, \"#d8576b\"], [0.6666666666666666, \"#ed7953\"], [0.7777777777777778, \"#fb9f3a\"], [0.8888888888888888, \"#fdca26\"], [1.0, \"#f0f921\"]], \"sequentialminus\": [[0.0, \"#0d0887\"], [0.1111111111111111, \"#46039f\"], [0.2222222222222222, \"#7201a8\"], [0.3333333333333333, \"#9c179e\"], [0.4444444444444444, \"#bd3786\"], [0.5555555555555556, \"#d8576b\"], [0.6666666666666666, \"#ed7953\"], [0.7777777777777778, \"#fb9f3a\"], [0.8888888888888888, \"#fdca26\"], [1.0, \"#f0f921\"]]}, \"colorway\": [\"#636efa\", \"#EF553B\", \"#00cc96\", \"#ab63fa\", \"#FFA15A\", \"#19d3f3\", \"#FF6692\", \"#B6E880\", \"#FF97FF\", \"#FECB52\"], \"font\": {\"color\": \"#2a3f5f\"}, \"geo\": {\"bgcolor\": \"white\", \"lakecolor\": \"white\", \"landcolor\": \"#E5ECF6\", \"showlakes\": true, \"showland\": true, \"subunitcolor\": \"white\"}, \"hoverlabel\": {\"align\": \"left\"}, \"hovermode\": \"closest\", \"mapbox\": {\"style\": \"light\"}, \"paper_bgcolor\": \"white\", \"plot_bgcolor\": \"#E5ECF6\", \"polar\": {\"angularaxis\": {\"gridcolor\": \"white\", \"linecolor\": \"white\", \"ticks\": \"\"}, \"bgcolor\": \"#E5ECF6\", \"radialaxis\": {\"gridcolor\": \"white\", \"linecolor\": \"white\", \"ticks\": \"\"}}, \"scene\": {\"xaxis\": {\"backgroundcolor\": \"#E5ECF6\", \"gridcolor\": \"white\", \"gridwidth\": 2, \"linecolor\": \"white\", \"showbackground\": true, \"ticks\": \"\", \"zerolinecolor\": \"white\"}, \"yaxis\": {\"backgroundcolor\": \"#E5ECF6\", \"gridcolor\": \"white\", \"gridwidth\": 2, \"linecolor\": \"white\", \"showbackground\": true, \"ticks\": \"\", \"zerolinecolor\": \"white\"}, \"zaxis\": {\"backgroundcolor\": \"#E5ECF6\", \"gridcolor\": \"white\", \"gridwidth\": 2, \"linecolor\": \"white\", \"showbackground\": true, \"ticks\": \"\", \"zerolinecolor\": \"white\"}}, \"shapedefaults\": {\"line\": {\"color\": \"#2a3f5f\"}}, \"ternary\": {\"aaxis\": {\"gridcolor\": \"white\", \"linecolor\": \"white\", \"ticks\": \"\"}, \"baxis\": {\"gridcolor\": \"white\", \"linecolor\": \"white\", \"ticks\": \"\"}, \"bgcolor\": \"#E5ECF6\", \"caxis\": {\"gridcolor\": \"white\", \"linecolor\": \"white\", \"ticks\": \"\"}}, \"title\": {\"x\": 0.05}, \"xaxis\": {\"automargin\": true, \"gridcolor\": \"white\", \"linecolor\": \"white\", \"ticks\": \"\", \"title\": {\"standoff\": 15}, \"zerolinecolor\": \"white\", \"zerolinewidth\": 2}, \"yaxis\": {\"automargin\": true, \"gridcolor\": \"white\", \"linecolor\": \"white\", \"ticks\": \"\", \"title\": {\"standoff\": 15}, \"zerolinecolor\": \"white\", \"zerolinewidth\": 2}}}, \"title\": {\"text\": \"t69a\", \"x\": 0.5, \"xanchor\": \"center\", \"yanchor\": \"top\"}, \"width\": 900, \"xaxis\": {\"gridcolor\": \"black\", \"gridwidth\": 1, \"linecolor\": \"black\", \"linewidth\": 2, \"mirror\": true, \"showgrid\": false, \"showline\": true, \"tickcolor\": \"black\", \"tickfont\": {\"color\": \"black\", \"family\": \"Rockwell\", \"size\": 14}, \"ticklen\": 10, \"ticks\": \"outside\", \"tickwidth\": 2, \"title\": {\"font\": {\"color\": \"black\", \"family\": \"Rockwell\", \"size\": 18}, \"text\": \"Wiberg Bond Order\"}}, \"yaxis\": {\"gridcolor\": \"black\", \"gridwidth\": 1, \"linecolor\": \"black\", \"linewidth\": 2, \"mirror\": true, \"showgrid\": false, \"showline\": true, \"tickcolor\": \"black\", \"tickfont\": {\"color\": \"black\", \"family\": \"Rockwell\", \"size\": 14}, \"ticklen\": 10, \"ticks\": \"outside\", \"tickwidth\": 2, \"title\": {\"font\": {\"color\": \"black\", \"family\": \"Rockwell\", \"size\": 18}, \"text\": \"Torsion barrier in KJ/mol\"}}},                        {\"responsive\": true}                    ).then(function(){\n",
       "                            \n",
       "var gd = document.getElementById('dcd76e4d-4619-4dfc-8ab8-97e3d0ac0c66');\n",
       "var x = new MutationObserver(function (mutations, observer) {{\n",
       "        var display = window.getComputedStyle(gd).display;\n",
       "        if (!display || display === 'none') {{\n",
       "            console.log([gd, 'removed!']);\n",
       "            Plotly.purge(gd);\n",
       "            observer.disconnect();\n",
       "        }}\n",
       "}});\n",
       "\n",
       "// Listen for the removal of the full notebook cells\n",
       "var notebookContainer = gd.closest('#notebook-container');\n",
       "if (notebookContainer) {{\n",
       "    x.observe(notebookContainer, {childList: true});\n",
       "}}\n",
       "\n",
       "// Listen for the clearing of the current output cell\n",
       "var outputEl = gd.closest('.output');\n",
       "if (outputEl) {{\n",
       "    x.observe(outputEl, {childList: true});\n",
       "}}\n",
       "\n",
       "                        })                };                });            </script>        </div>"
      ]
     },
     "metadata": {},
     "output_type": "display_data"
    },
    {
     "name": "stdout",
     "output_type": "stream",
     "text": [
      "tid:  t72 r_value:  0.8263666065601866 slope:  400.3603316129027 intercept:  -343.26797691627957\n"
     ]
    },
    {
     "data": {
      "application/vnd.plotly.v1+json": {
       "config": {
        "plotlyServerURL": "https://plot.ly"
       },
       "data": [
        {
         "marker": {
          "color": "#ebce2b",
          "size": 10,
          "symbol": 0
         },
         "mode": "markers",
         "name": "Fragment Stability Benchmark.oeb",
         "type": "scatter",
         "x": [],
         "y": []
        },
        {
         "marker": {
          "color": "#702c8c",
          "size": 10,
          "symbol": 1
         },
         "mode": "markers",
         "name": "Fragment Stability Benchmark.oeb",
         "type": "scatter",
         "x": [],
         "y": []
        },
        {
         "marker": {
          "color": "#db6917",
          "size": 10,
          "symbol": 2
         },
         "mode": "markers",
         "name": "Fragment Stability Benchmark.oeb",
         "type": "scatter",
         "x": [],
         "y": []
        },
        {
         "marker": {
          "color": "#96cde6",
          "size": 10,
          "symbol": 3
         },
         "mode": "markers",
         "name": "OpenFF Fragmenter Validation 1.0.oeb",
         "type": "scatter",
         "x": [],
         "y": []
        },
        {
         "marker": {
          "color": "#ba1c30",
          "size": 10,
          "symbol": 4
         },
         "mode": "markers",
         "name": "OpenFF Full TorsionDrive Benchmark 1.oeb",
         "type": "scatter",
         "x": [],
         "y": []
        },
        {
         "marker": {
          "color": "#c0bd7f",
          "size": 10,
          "symbol": 5
         },
         "mode": "markers",
         "name": "OpenFF Gen 2 Torsion Set 1 Roche.oeb",
         "type": "scatter",
         "x": [
          0.8822369935253294
         ],
         "y": [
          10.41370772415462
         ]
        },
        {
         "marker": {
          "color": "#7f7e80",
          "size": 10,
          "symbol": 6
         },
         "mode": "markers",
         "name": "OpenFF Gen 2 Torsion Set 1 Roche 2.oeb",
         "type": "scatter",
         "x": [
          0.8822369935253294
         ],
         "y": [
          10.41370772415462
         ]
        },
        {
         "marker": {
          "color": "#5fa641",
          "size": 10,
          "symbol": 7
         },
         "mode": "markers",
         "name": "OpenFF Gen 2 Torsion Set 2 Coverage.oeb",
         "type": "scatter",
         "x": [
          0.9115942084683897
         ],
         "y": [
          22.453387687659642
         ]
        },
        {
         "marker": {
          "color": "#d485b2",
          "size": 10,
          "symbol": 8
         },
         "mode": "markers",
         "name": "OpenFF Gen 2 Torsion Set 2 Coverage 2.oeb",
         "type": "scatter",
         "x": [
          0.9115942084683897
         ],
         "y": [
          22.453391821674018
         ]
        },
        {
         "marker": {
          "color": "#4277b6",
          "size": 10,
          "symbol": 9
         },
         "mode": "markers",
         "name": "OpenFF Gen 2 Torsion Set 3 Pfizer Discrepancy.oeb",
         "type": "scatter",
         "x": [],
         "y": []
        },
        {
         "marker": {
          "color": "#df8461",
          "size": 10,
          "symbol": 10
         },
         "mode": "markers",
         "name": "OpenFF Gen 2 Torsion Set 3 Pfizer Discrepancy 2.oeb",
         "type": "scatter",
         "x": [],
         "y": []
        },
        {
         "marker": {
          "color": "#463397",
          "size": 10,
          "symbol": 11
         },
         "mode": "markers",
         "name": "OpenFF Gen 2 Torsion Set 4 eMolecules Discrepancy.oeb",
         "type": "scatter",
         "x": [
          0.8819608293998696
         ],
         "y": [
          9.257945063511045
         ]
        },
        {
         "marker": {
          "color": "#e1a11a",
          "size": 10,
          "symbol": 12
         },
         "mode": "markers",
         "name": "OpenFF Gen 2 Torsion Set 4 eMolecules Discrepancy 2.oeb",
         "type": "scatter",
         "x": [
          0.8819608293998696,
          0.9193792892410289,
          0.8814615463078922,
          0.9004971440059677
         ],
         "y": [
          9.257945063511045,
          25.986072403233493,
          15.186169234331487,
          20.618484327305566
         ]
        },
        {
         "marker": {
          "color": "#91218c",
          "size": 10,
          "symbol": 13
         },
         "mode": "markers",
         "name": "OpenFF Gen 2 Torsion Set 5 Bayer.oeb",
         "type": "scatter",
         "x": [],
         "y": []
        },
        {
         "marker": {
          "color": "#e8e948",
          "size": 10,
          "symbol": 14
         },
         "mode": "markers",
         "name": "OpenFF Gen 2 Torsion Set 5 Bayer 2.oeb",
         "type": "scatter",
         "x": [],
         "y": []
        },
        {
         "marker": {
          "color": "#7e1510",
          "size": 10,
          "symbol": 15
         },
         "mode": "markers",
         "name": "OpenFF Gen 2 Torsion Set 6 Supplemental.oeb",
         "type": "scatter",
         "x": [],
         "y": []
        },
        {
         "marker": {
          "color": "#92ae31",
          "size": 10,
          "symbol": 16
         },
         "mode": "markers",
         "name": "OpenFF Gen 2 Torsion Set 6 Supplemental 2.oeb",
         "type": "scatter",
         "x": [],
         "y": []
        },
        {
         "marker": {
          "color": "#6f340d",
          "size": 10,
          "symbol": 17
         },
         "mode": "markers",
         "name": "OpenFF Group1 Torsions.oeb",
         "type": "scatter",
         "x": [
          0.8822369935253294
         ],
         "y": [
          10.412191918386213
         ]
        },
        {
         "marker": {
          "color": "#d32b1e",
          "size": 10,
          "symbol": 18
         },
         "mode": "markers",
         "name": "OpenFF Group1 Torsions 2.oeb",
         "type": "scatter",
         "x": [],
         "y": []
        },
        {
         "marker": {
          "color": "#2b3514",
          "size": 10,
          "symbol": 19
         },
         "mode": "markers",
         "name": "OpenFF Group1 Torsions 3.oeb",
         "type": "scatter",
         "x": [],
         "y": []
        },
        {
         "marker": {
          "color": "#ebce2b",
          "size": 10,
          "symbol": 20
         },
         "mode": "markers",
         "name": "OpenFF Primary Benchmark 1 Torsion Set.oeb",
         "type": "scatter",
         "x": [
          0.8838833841376716,
          0.8838833841376716,
          0.9230084781996746,
          0.9230084781996746,
          0.8840907040821443
         ],
         "y": [
          10.965578533735425,
          10.963309292355461,
          10.800846040573447,
          10.800238989366221,
          9.165778526646022
         ]
        },
        {
         "marker": {
          "color": "#702c8c",
          "size": 10,
          "symbol": 21
         },
         "mode": "markers",
         "name": "OpenFF Primary Benchmark 1 Torsion Set.oeb",
         "type": "scatter",
         "x": [
          0.8838833841376716,
          0.8838833841376716,
          0.9230084781996746,
          0.9230084781996746,
          0.8840907040821443
         ],
         "y": [
          10.965578533735425,
          10.963309292355461,
          10.800846040573447,
          10.800238989366221,
          9.165778526646022
         ]
        },
        {
         "marker": {
          "color": "#db6917",
          "size": 10,
          "symbol": 22
         },
         "mode": "markers",
         "name": "OpenFF Primary TorsionDrive Benchmark 1.oeb",
         "type": "scatter",
         "x": [],
         "y": []
        },
        {
         "marker": {
          "color": "#96cde6",
          "size": 10,
          "symbol": 23
         },
         "mode": "markers",
         "name": "OpenFF Rowley Biaryl v1.0.oeb",
         "type": "scatter",
         "x": [],
         "y": []
        },
        {
         "marker": {
          "color": "#ba1c30",
          "size": 10,
          "symbol": 24
         },
         "mode": "markers",
         "name": "OpenFF Substituted Phenyl Set 1.oeb",
         "type": "scatter",
         "x": [
          0.9198277541587587,
          0.9354192043210676,
          0.9249664414170917,
          0.930965531313586,
          0.91018587378302
         ],
         "y": [
          25.80227403575759,
          36.73867841186956,
          26.77570567270277,
          33.02015064351889,
          20.61657380659082
         ]
        },
        {
         "marker": {
          "color": "#c0bd7f",
          "size": 10,
          "symbol": 25
         },
         "mode": "markers",
         "name": "OpenFF-benchmark-ligand-fragments-v1.0.oeb",
         "type": "scatter",
         "x": [
          0.8845966828097995
         ],
         "y": [
          6.5409015665517245
         ]
        },
        {
         "marker": {
          "color": "#7f7e80",
          "size": 10,
          "symbol": 26
         },
         "mode": "markers",
         "name": "Pfizer Discrepancy Torsion Dataset 1.oeb",
         "type": "scatter",
         "x": [],
         "y": []
        },
        {
         "marker": {
          "color": "#5fa641",
          "size": 10,
          "symbol": 27
         },
         "mode": "markers",
         "name": "SMIRNOFF Coverage Torsion Set 1.oeb",
         "type": "scatter",
         "x": [
          0.9115942084683897,
          0.9115942084683897,
          0.9271779533649301,
          0.9271779533649301
         ],
         "y": [
          22.453387687659642,
          22.452316466333514,
          34.75745242279061,
          34.75954654194891
         ]
        },
        {
         "marker": {
          "color": "#d485b2",
          "size": 10,
          "symbol": 28
         },
         "mode": "markers",
         "name": "TorsionDrive Paper.oeb",
         "type": "scatter",
         "x": [],
         "y": []
        },
        {
         "mode": "lines",
         "showlegend": false,
         "type": "scatter",
         "x": [
          0.8814615463078922,
          0.8819608293998696,
          0.8822369935253294,
          0.8838833841376716,
          0.8840907040821443,
          0.8845966828097995,
          0.9004971440059677,
          0.91018587378302,
          0.9115942084683897,
          0.9193792892410289,
          0.9198277541587587,
          0.9230084781996746,
          0.9249664414170917,
          0.9271779533649301,
          0.930965531313586,
          0.9354192043210676
         ],
         "y": [
          9.634260067570153,
          9.834153211842931,
          9.944718372691625,
          10.603867864213328,
          10.68687054593238,
          10.889444357125512,
          17.255358274421496,
          21.134341340869923,
          21.698182682526465,
          24.815020202293567,
          24.994567765472652,
          26.26800349726284,
          27.05189430027383,
          27.937295957076287,
          29.453691920609856,
          31.23676592278065
         ]
        }
       ],
       "layout": {
        "annotations": [
         {
          "font": {
           "color": "black",
           "family": "Times",
           "size": 18
          },
          "showarrow": false,
          "text": "slope: 400.36, r_val: 0.83",
          "x": 1,
          "xref": "paper",
          "y": 0.2,
          "yref": "paper"
         }
        ],
        "autosize": false,
        "dragmode": "select",
        "height": 800,
        "hovermode": false,
        "legend": {
         "font": {
          "color": "black",
          "family": "Rockwell",
          "size": 14
         },
         "orientation": "h",
         "y": -0.2
        },
        "margin": {
         "b": 40,
         "l": 40,
         "r": 10,
         "t": 40
        },
        "template": {
         "data": {
          "bar": [
           {
            "error_x": {
             "color": "#2a3f5f"
            },
            "error_y": {
             "color": "#2a3f5f"
            },
            "marker": {
             "line": {
              "color": "#E5ECF6",
              "width": 0.5
             }
            },
            "type": "bar"
           }
          ],
          "barpolar": [
           {
            "marker": {
             "line": {
              "color": "#E5ECF6",
              "width": 0.5
             }
            },
            "type": "barpolar"
           }
          ],
          "carpet": [
           {
            "aaxis": {
             "endlinecolor": "#2a3f5f",
             "gridcolor": "white",
             "linecolor": "white",
             "minorgridcolor": "white",
             "startlinecolor": "#2a3f5f"
            },
            "baxis": {
             "endlinecolor": "#2a3f5f",
             "gridcolor": "white",
             "linecolor": "white",
             "minorgridcolor": "white",
             "startlinecolor": "#2a3f5f"
            },
            "type": "carpet"
           }
          ],
          "choropleth": [
           {
            "colorbar": {
             "outlinewidth": 0,
             "ticks": ""
            },
            "type": "choropleth"
           }
          ],
          "contour": [
           {
            "colorbar": {
             "outlinewidth": 0,
             "ticks": ""
            },
            "colorscale": [
             [
              0,
              "#0d0887"
             ],
             [
              0.1111111111111111,
              "#46039f"
             ],
             [
              0.2222222222222222,
              "#7201a8"
             ],
             [
              0.3333333333333333,
              "#9c179e"
             ],
             [
              0.4444444444444444,
              "#bd3786"
             ],
             [
              0.5555555555555556,
              "#d8576b"
             ],
             [
              0.6666666666666666,
              "#ed7953"
             ],
             [
              0.7777777777777778,
              "#fb9f3a"
             ],
             [
              0.8888888888888888,
              "#fdca26"
             ],
             [
              1,
              "#f0f921"
             ]
            ],
            "type": "contour"
           }
          ],
          "contourcarpet": [
           {
            "colorbar": {
             "outlinewidth": 0,
             "ticks": ""
            },
            "type": "contourcarpet"
           }
          ],
          "heatmap": [
           {
            "colorbar": {
             "outlinewidth": 0,
             "ticks": ""
            },
            "colorscale": [
             [
              0,
              "#0d0887"
             ],
             [
              0.1111111111111111,
              "#46039f"
             ],
             [
              0.2222222222222222,
              "#7201a8"
             ],
             [
              0.3333333333333333,
              "#9c179e"
             ],
             [
              0.4444444444444444,
              "#bd3786"
             ],
             [
              0.5555555555555556,
              "#d8576b"
             ],
             [
              0.6666666666666666,
              "#ed7953"
             ],
             [
              0.7777777777777778,
              "#fb9f3a"
             ],
             [
              0.8888888888888888,
              "#fdca26"
             ],
             [
              1,
              "#f0f921"
             ]
            ],
            "type": "heatmap"
           }
          ],
          "heatmapgl": [
           {
            "colorbar": {
             "outlinewidth": 0,
             "ticks": ""
            },
            "colorscale": [
             [
              0,
              "#0d0887"
             ],
             [
              0.1111111111111111,
              "#46039f"
             ],
             [
              0.2222222222222222,
              "#7201a8"
             ],
             [
              0.3333333333333333,
              "#9c179e"
             ],
             [
              0.4444444444444444,
              "#bd3786"
             ],
             [
              0.5555555555555556,
              "#d8576b"
             ],
             [
              0.6666666666666666,
              "#ed7953"
             ],
             [
              0.7777777777777778,
              "#fb9f3a"
             ],
             [
              0.8888888888888888,
              "#fdca26"
             ],
             [
              1,
              "#f0f921"
             ]
            ],
            "type": "heatmapgl"
           }
          ],
          "histogram": [
           {
            "marker": {
             "colorbar": {
              "outlinewidth": 0,
              "ticks": ""
             }
            },
            "type": "histogram"
           }
          ],
          "histogram2d": [
           {
            "colorbar": {
             "outlinewidth": 0,
             "ticks": ""
            },
            "colorscale": [
             [
              0,
              "#0d0887"
             ],
             [
              0.1111111111111111,
              "#46039f"
             ],
             [
              0.2222222222222222,
              "#7201a8"
             ],
             [
              0.3333333333333333,
              "#9c179e"
             ],
             [
              0.4444444444444444,
              "#bd3786"
             ],
             [
              0.5555555555555556,
              "#d8576b"
             ],
             [
              0.6666666666666666,
              "#ed7953"
             ],
             [
              0.7777777777777778,
              "#fb9f3a"
             ],
             [
              0.8888888888888888,
              "#fdca26"
             ],
             [
              1,
              "#f0f921"
             ]
            ],
            "type": "histogram2d"
           }
          ],
          "histogram2dcontour": [
           {
            "colorbar": {
             "outlinewidth": 0,
             "ticks": ""
            },
            "colorscale": [
             [
              0,
              "#0d0887"
             ],
             [
              0.1111111111111111,
              "#46039f"
             ],
             [
              0.2222222222222222,
              "#7201a8"
             ],
             [
              0.3333333333333333,
              "#9c179e"
             ],
             [
              0.4444444444444444,
              "#bd3786"
             ],
             [
              0.5555555555555556,
              "#d8576b"
             ],
             [
              0.6666666666666666,
              "#ed7953"
             ],
             [
              0.7777777777777778,
              "#fb9f3a"
             ],
             [
              0.8888888888888888,
              "#fdca26"
             ],
             [
              1,
              "#f0f921"
             ]
            ],
            "type": "histogram2dcontour"
           }
          ],
          "mesh3d": [
           {
            "colorbar": {
             "outlinewidth": 0,
             "ticks": ""
            },
            "type": "mesh3d"
           }
          ],
          "parcoords": [
           {
            "line": {
             "colorbar": {
              "outlinewidth": 0,
              "ticks": ""
             }
            },
            "type": "parcoords"
           }
          ],
          "pie": [
           {
            "automargin": true,
            "type": "pie"
           }
          ],
          "scatter": [
           {
            "marker": {
             "colorbar": {
              "outlinewidth": 0,
              "ticks": ""
             }
            },
            "type": "scatter"
           }
          ],
          "scatter3d": [
           {
            "line": {
             "colorbar": {
              "outlinewidth": 0,
              "ticks": ""
             }
            },
            "marker": {
             "colorbar": {
              "outlinewidth": 0,
              "ticks": ""
             }
            },
            "type": "scatter3d"
           }
          ],
          "scattercarpet": [
           {
            "marker": {
             "colorbar": {
              "outlinewidth": 0,
              "ticks": ""
             }
            },
            "type": "scattercarpet"
           }
          ],
          "scattergeo": [
           {
            "marker": {
             "colorbar": {
              "outlinewidth": 0,
              "ticks": ""
             }
            },
            "type": "scattergeo"
           }
          ],
          "scattergl": [
           {
            "marker": {
             "colorbar": {
              "outlinewidth": 0,
              "ticks": ""
             }
            },
            "type": "scattergl"
           }
          ],
          "scattermapbox": [
           {
            "marker": {
             "colorbar": {
              "outlinewidth": 0,
              "ticks": ""
             }
            },
            "type": "scattermapbox"
           }
          ],
          "scatterpolar": [
           {
            "marker": {
             "colorbar": {
              "outlinewidth": 0,
              "ticks": ""
             }
            },
            "type": "scatterpolar"
           }
          ],
          "scatterpolargl": [
           {
            "marker": {
             "colorbar": {
              "outlinewidth": 0,
              "ticks": ""
             }
            },
            "type": "scatterpolargl"
           }
          ],
          "scatterternary": [
           {
            "marker": {
             "colorbar": {
              "outlinewidth": 0,
              "ticks": ""
             }
            },
            "type": "scatterternary"
           }
          ],
          "surface": [
           {
            "colorbar": {
             "outlinewidth": 0,
             "ticks": ""
            },
            "colorscale": [
             [
              0,
              "#0d0887"
             ],
             [
              0.1111111111111111,
              "#46039f"
             ],
             [
              0.2222222222222222,
              "#7201a8"
             ],
             [
              0.3333333333333333,
              "#9c179e"
             ],
             [
              0.4444444444444444,
              "#bd3786"
             ],
             [
              0.5555555555555556,
              "#d8576b"
             ],
             [
              0.6666666666666666,
              "#ed7953"
             ],
             [
              0.7777777777777778,
              "#fb9f3a"
             ],
             [
              0.8888888888888888,
              "#fdca26"
             ],
             [
              1,
              "#f0f921"
             ]
            ],
            "type": "surface"
           }
          ],
          "table": [
           {
            "cells": {
             "fill": {
              "color": "#EBF0F8"
             },
             "line": {
              "color": "white"
             }
            },
            "header": {
             "fill": {
              "color": "#C8D4E3"
             },
             "line": {
              "color": "white"
             }
            },
            "type": "table"
           }
          ]
         },
         "layout": {
          "annotationdefaults": {
           "arrowcolor": "#2a3f5f",
           "arrowhead": 0,
           "arrowwidth": 1
          },
          "coloraxis": {
           "colorbar": {
            "outlinewidth": 0,
            "ticks": ""
           }
          },
          "colorscale": {
           "diverging": [
            [
             0,
             "#8e0152"
            ],
            [
             0.1,
             "#c51b7d"
            ],
            [
             0.2,
             "#de77ae"
            ],
            [
             0.3,
             "#f1b6da"
            ],
            [
             0.4,
             "#fde0ef"
            ],
            [
             0.5,
             "#f7f7f7"
            ],
            [
             0.6,
             "#e6f5d0"
            ],
            [
             0.7,
             "#b8e186"
            ],
            [
             0.8,
             "#7fbc41"
            ],
            [
             0.9,
             "#4d9221"
            ],
            [
             1,
             "#276419"
            ]
           ],
           "sequential": [
            [
             0,
             "#0d0887"
            ],
            [
             0.1111111111111111,
             "#46039f"
            ],
            [
             0.2222222222222222,
             "#7201a8"
            ],
            [
             0.3333333333333333,
             "#9c179e"
            ],
            [
             0.4444444444444444,
             "#bd3786"
            ],
            [
             0.5555555555555556,
             "#d8576b"
            ],
            [
             0.6666666666666666,
             "#ed7953"
            ],
            [
             0.7777777777777778,
             "#fb9f3a"
            ],
            [
             0.8888888888888888,
             "#fdca26"
            ],
            [
             1,
             "#f0f921"
            ]
           ],
           "sequentialminus": [
            [
             0,
             "#0d0887"
            ],
            [
             0.1111111111111111,
             "#46039f"
            ],
            [
             0.2222222222222222,
             "#7201a8"
            ],
            [
             0.3333333333333333,
             "#9c179e"
            ],
            [
             0.4444444444444444,
             "#bd3786"
            ],
            [
             0.5555555555555556,
             "#d8576b"
            ],
            [
             0.6666666666666666,
             "#ed7953"
            ],
            [
             0.7777777777777778,
             "#fb9f3a"
            ],
            [
             0.8888888888888888,
             "#fdca26"
            ],
            [
             1,
             "#f0f921"
            ]
           ]
          },
          "colorway": [
           "#636efa",
           "#EF553B",
           "#00cc96",
           "#ab63fa",
           "#FFA15A",
           "#19d3f3",
           "#FF6692",
           "#B6E880",
           "#FF97FF",
           "#FECB52"
          ],
          "font": {
           "color": "#2a3f5f"
          },
          "geo": {
           "bgcolor": "white",
           "lakecolor": "white",
           "landcolor": "#E5ECF6",
           "showlakes": true,
           "showland": true,
           "subunitcolor": "white"
          },
          "hoverlabel": {
           "align": "left"
          },
          "hovermode": "closest",
          "mapbox": {
           "style": "light"
          },
          "paper_bgcolor": "white",
          "plot_bgcolor": "#E5ECF6",
          "polar": {
           "angularaxis": {
            "gridcolor": "white",
            "linecolor": "white",
            "ticks": ""
           },
           "bgcolor": "#E5ECF6",
           "radialaxis": {
            "gridcolor": "white",
            "linecolor": "white",
            "ticks": ""
           }
          },
          "scene": {
           "xaxis": {
            "backgroundcolor": "#E5ECF6",
            "gridcolor": "white",
            "gridwidth": 2,
            "linecolor": "white",
            "showbackground": true,
            "ticks": "",
            "zerolinecolor": "white"
           },
           "yaxis": {
            "backgroundcolor": "#E5ECF6",
            "gridcolor": "white",
            "gridwidth": 2,
            "linecolor": "white",
            "showbackground": true,
            "ticks": "",
            "zerolinecolor": "white"
           },
           "zaxis": {
            "backgroundcolor": "#E5ECF6",
            "gridcolor": "white",
            "gridwidth": 2,
            "linecolor": "white",
            "showbackground": true,
            "ticks": "",
            "zerolinecolor": "white"
           }
          },
          "shapedefaults": {
           "line": {
            "color": "#2a3f5f"
           }
          },
          "ternary": {
           "aaxis": {
            "gridcolor": "white",
            "linecolor": "white",
            "ticks": ""
           },
           "baxis": {
            "gridcolor": "white",
            "linecolor": "white",
            "ticks": ""
           },
           "bgcolor": "#E5ECF6",
           "caxis": {
            "gridcolor": "white",
            "linecolor": "white",
            "ticks": ""
           }
          },
          "title": {
           "x": 0.05
          },
          "xaxis": {
           "automargin": true,
           "gridcolor": "white",
           "linecolor": "white",
           "ticks": "",
           "title": {
            "standoff": 15
           },
           "zerolinecolor": "white",
           "zerolinewidth": 2
          },
          "yaxis": {
           "automargin": true,
           "gridcolor": "white",
           "linecolor": "white",
           "ticks": "",
           "title": {
            "standoff": 15
           },
           "zerolinecolor": "white",
           "zerolinewidth": 2
          }
         }
        },
        "title": {
         "text": "t72",
         "x": 0.5,
         "xanchor": "center",
         "yanchor": "top"
        },
        "width": 900,
        "xaxis": {
         "gridcolor": "black",
         "gridwidth": 1,
         "linecolor": "black",
         "linewidth": 2,
         "mirror": true,
         "showgrid": false,
         "showline": true,
         "tickcolor": "black",
         "tickfont": {
          "color": "black",
          "family": "Rockwell",
          "size": 14
         },
         "ticklen": 10,
         "ticks": "outside",
         "tickwidth": 2,
         "title": {
          "font": {
           "color": "black",
           "family": "Rockwell",
           "size": 18
          },
          "text": "Wiberg Bond Order"
         }
        },
        "yaxis": {
         "gridcolor": "black",
         "gridwidth": 1,
         "linecolor": "black",
         "linewidth": 2,
         "mirror": true,
         "showgrid": false,
         "showline": true,
         "tickcolor": "black",
         "tickfont": {
          "color": "black",
          "family": "Rockwell",
          "size": 14
         },
         "ticklen": 10,
         "ticks": "outside",
         "tickwidth": 2,
         "title": {
          "font": {
           "color": "black",
           "family": "Rockwell",
           "size": 18
          },
          "text": "Torsion barrier in KJ/mol"
         }
        }
       }
      },
      "text/html": [
       "<div>                            <div id=\"dcfc1901-06d6-4f07-bcc7-a46e90fa3ad4\" class=\"plotly-graph-div\" style=\"height:800px; width:900px;\"></div>            <script type=\"text/javascript\">                require([\"plotly\"], function(Plotly) {                    window.PLOTLYENV=window.PLOTLYENV || {};                                    if (document.getElementById(\"dcfc1901-06d6-4f07-bcc7-a46e90fa3ad4\")) {                    Plotly.newPlot(                        \"dcfc1901-06d6-4f07-bcc7-a46e90fa3ad4\",                        [{\"marker\": {\"color\": \"#ebce2b\", \"size\": 10, \"symbol\": 0}, \"mode\": \"markers\", \"name\": \"Fragment Stability Benchmark.oeb\", \"type\": \"scatter\", \"x\": [], \"y\": []}, {\"marker\": {\"color\": \"#702c8c\", \"size\": 10, \"symbol\": 1}, \"mode\": \"markers\", \"name\": \"Fragment Stability Benchmark.oeb\", \"type\": \"scatter\", \"x\": [], \"y\": []}, {\"marker\": {\"color\": \"#db6917\", \"size\": 10, \"symbol\": 2}, \"mode\": \"markers\", \"name\": \"Fragment Stability Benchmark.oeb\", \"type\": \"scatter\", \"x\": [], \"y\": []}, {\"marker\": {\"color\": \"#96cde6\", \"size\": 10, \"symbol\": 3}, \"mode\": \"markers\", \"name\": \"OpenFF Fragmenter Validation 1.0.oeb\", \"type\": \"scatter\", \"x\": [], \"y\": []}, {\"marker\": {\"color\": \"#ba1c30\", \"size\": 10, \"symbol\": 4}, \"mode\": \"markers\", \"name\": \"OpenFF Full TorsionDrive Benchmark 1.oeb\", \"type\": \"scatter\", \"x\": [], \"y\": []}, {\"marker\": {\"color\": \"#c0bd7f\", \"size\": 10, \"symbol\": 5}, \"mode\": \"markers\", \"name\": \"OpenFF Gen 2 Torsion Set 1 Roche.oeb\", \"type\": \"scatter\", \"x\": [0.8822369935253294], \"y\": [10.41370772415462]}, {\"marker\": {\"color\": \"#7f7e80\", \"size\": 10, \"symbol\": 6}, \"mode\": \"markers\", \"name\": \"OpenFF Gen 2 Torsion Set 1 Roche 2.oeb\", \"type\": \"scatter\", \"x\": [0.8822369935253294], \"y\": [10.41370772415462]}, {\"marker\": {\"color\": \"#5fa641\", \"size\": 10, \"symbol\": 7}, \"mode\": \"markers\", \"name\": \"OpenFF Gen 2 Torsion Set 2 Coverage.oeb\", \"type\": \"scatter\", \"x\": [0.9115942084683897], \"y\": [22.453387687659642]}, {\"marker\": {\"color\": \"#d485b2\", \"size\": 10, \"symbol\": 8}, \"mode\": \"markers\", \"name\": \"OpenFF Gen 2 Torsion Set 2 Coverage 2.oeb\", \"type\": \"scatter\", \"x\": [0.9115942084683897], \"y\": [22.453391821674018]}, {\"marker\": {\"color\": \"#4277b6\", \"size\": 10, \"symbol\": 9}, \"mode\": \"markers\", \"name\": \"OpenFF Gen 2 Torsion Set 3 Pfizer Discrepancy.oeb\", \"type\": \"scatter\", \"x\": [], \"y\": []}, {\"marker\": {\"color\": \"#df8461\", \"size\": 10, \"symbol\": 10}, \"mode\": \"markers\", \"name\": \"OpenFF Gen 2 Torsion Set 3 Pfizer Discrepancy 2.oeb\", \"type\": \"scatter\", \"x\": [], \"y\": []}, {\"marker\": {\"color\": \"#463397\", \"size\": 10, \"symbol\": 11}, \"mode\": \"markers\", \"name\": \"OpenFF Gen 2 Torsion Set 4 eMolecules Discrepancy.oeb\", \"type\": \"scatter\", \"x\": [0.8819608293998696], \"y\": [9.257945063511045]}, {\"marker\": {\"color\": \"#e1a11a\", \"size\": 10, \"symbol\": 12}, \"mode\": \"markers\", \"name\": \"OpenFF Gen 2 Torsion Set 4 eMolecules Discrepancy 2.oeb\", \"type\": \"scatter\", \"x\": [0.8819608293998696, 0.9193792892410289, 0.8814615463078922, 0.9004971440059677], \"y\": [9.257945063511045, 25.986072403233493, 15.186169234331487, 20.618484327305566]}, {\"marker\": {\"color\": \"#91218c\", \"size\": 10, \"symbol\": 13}, \"mode\": \"markers\", \"name\": \"OpenFF Gen 2 Torsion Set 5 Bayer.oeb\", \"type\": \"scatter\", \"x\": [], \"y\": []}, {\"marker\": {\"color\": \"#e8e948\", \"size\": 10, \"symbol\": 14}, \"mode\": \"markers\", \"name\": \"OpenFF Gen 2 Torsion Set 5 Bayer 2.oeb\", \"type\": \"scatter\", \"x\": [], \"y\": []}, {\"marker\": {\"color\": \"#7e1510\", \"size\": 10, \"symbol\": 15}, \"mode\": \"markers\", \"name\": \"OpenFF Gen 2 Torsion Set 6 Supplemental.oeb\", \"type\": \"scatter\", \"x\": [], \"y\": []}, {\"marker\": {\"color\": \"#92ae31\", \"size\": 10, \"symbol\": 16}, \"mode\": \"markers\", \"name\": \"OpenFF Gen 2 Torsion Set 6 Supplemental 2.oeb\", \"type\": \"scatter\", \"x\": [], \"y\": []}, {\"marker\": {\"color\": \"#6f340d\", \"size\": 10, \"symbol\": 17}, \"mode\": \"markers\", \"name\": \"OpenFF Group1 Torsions.oeb\", \"type\": \"scatter\", \"x\": [0.8822369935253294], \"y\": [10.412191918386213]}, {\"marker\": {\"color\": \"#d32b1e\", \"size\": 10, \"symbol\": 18}, \"mode\": \"markers\", \"name\": \"OpenFF Group1 Torsions 2.oeb\", \"type\": \"scatter\", \"x\": [], \"y\": []}, {\"marker\": {\"color\": \"#2b3514\", \"size\": 10, \"symbol\": 19}, \"mode\": \"markers\", \"name\": \"OpenFF Group1 Torsions 3.oeb\", \"type\": \"scatter\", \"x\": [], \"y\": []}, {\"marker\": {\"color\": \"#ebce2b\", \"size\": 10, \"symbol\": 20}, \"mode\": \"markers\", \"name\": \"OpenFF Primary Benchmark 1 Torsion Set.oeb\", \"type\": \"scatter\", \"x\": [0.8838833841376716, 0.8838833841376716, 0.9230084781996746, 0.9230084781996746, 0.8840907040821443], \"y\": [10.965578533735425, 10.963309292355461, 10.800846040573447, 10.800238989366221, 9.165778526646022]}, {\"marker\": {\"color\": \"#702c8c\", \"size\": 10, \"symbol\": 21}, \"mode\": \"markers\", \"name\": \"OpenFF Primary Benchmark 1 Torsion Set.oeb\", \"type\": \"scatter\", \"x\": [0.8838833841376716, 0.8838833841376716, 0.9230084781996746, 0.9230084781996746, 0.8840907040821443], \"y\": [10.965578533735425, 10.963309292355461, 10.800846040573447, 10.800238989366221, 9.165778526646022]}, {\"marker\": {\"color\": \"#db6917\", \"size\": 10, \"symbol\": 22}, \"mode\": \"markers\", \"name\": \"OpenFF Primary TorsionDrive Benchmark 1.oeb\", \"type\": \"scatter\", \"x\": [], \"y\": []}, {\"marker\": {\"color\": \"#96cde6\", \"size\": 10, \"symbol\": 23}, \"mode\": \"markers\", \"name\": \"OpenFF Rowley Biaryl v1.0.oeb\", \"type\": \"scatter\", \"x\": [], \"y\": []}, {\"marker\": {\"color\": \"#ba1c30\", \"size\": 10, \"symbol\": 24}, \"mode\": \"markers\", \"name\": \"OpenFF Substituted Phenyl Set 1.oeb\", \"type\": \"scatter\", \"x\": [0.9198277541587587, 0.9354192043210676, 0.9249664414170917, 0.930965531313586, 0.91018587378302], \"y\": [25.80227403575759, 36.73867841186956, 26.77570567270277, 33.02015064351889, 20.61657380659082]}, {\"marker\": {\"color\": \"#c0bd7f\", \"size\": 10, \"symbol\": 25}, \"mode\": \"markers\", \"name\": \"OpenFF-benchmark-ligand-fragments-v1.0.oeb\", \"type\": \"scatter\", \"x\": [0.8845966828097995], \"y\": [6.5409015665517245]}, {\"marker\": {\"color\": \"#7f7e80\", \"size\": 10, \"symbol\": 26}, \"mode\": \"markers\", \"name\": \"Pfizer Discrepancy Torsion Dataset 1.oeb\", \"type\": \"scatter\", \"x\": [], \"y\": []}, {\"marker\": {\"color\": \"#5fa641\", \"size\": 10, \"symbol\": 27}, \"mode\": \"markers\", \"name\": \"SMIRNOFF Coverage Torsion Set 1.oeb\", \"type\": \"scatter\", \"x\": [0.9115942084683897, 0.9115942084683897, 0.9271779533649301, 0.9271779533649301], \"y\": [22.453387687659642, 22.452316466333514, 34.75745242279061, 34.75954654194891]}, {\"marker\": {\"color\": \"#d485b2\", \"size\": 10, \"symbol\": 28}, \"mode\": \"markers\", \"name\": \"TorsionDrive Paper.oeb\", \"type\": \"scatter\", \"x\": [], \"y\": []}, {\"mode\": \"lines\", \"showlegend\": false, \"type\": \"scatter\", \"x\": [0.8814615463078922, 0.8819608293998696, 0.8822369935253294, 0.8838833841376716, 0.8840907040821443, 0.8845966828097995, 0.9004971440059677, 0.91018587378302, 0.9115942084683897, 0.9193792892410289, 0.9198277541587587, 0.9230084781996746, 0.9249664414170917, 0.9271779533649301, 0.930965531313586, 0.9354192043210676], \"y\": [9.634260067570153, 9.834153211842931, 9.944718372691625, 10.603867864213328, 10.68687054593238, 10.889444357125512, 17.255358274421496, 21.134341340869923, 21.698182682526465, 24.815020202293567, 24.994567765472652, 26.26800349726284, 27.05189430027383, 27.937295957076287, 29.453691920609856, 31.23676592278065]}],                        {\"annotations\": [{\"font\": {\"color\": \"black\", \"family\": \"Times\", \"size\": 18}, \"showarrow\": false, \"text\": \"slope: 400.36, r_val: 0.83\", \"x\": 1, \"xref\": \"paper\", \"y\": 0.2, \"yref\": \"paper\"}], \"autosize\": false, \"dragmode\": \"select\", \"height\": 800, \"hovermode\": false, \"legend\": {\"font\": {\"color\": \"black\", \"family\": \"Rockwell\", \"size\": 14}, \"orientation\": \"h\", \"y\": -0.2}, \"margin\": {\"b\": 40, \"l\": 40, \"r\": 10, \"t\": 40}, \"template\": {\"data\": {\"bar\": [{\"error_x\": {\"color\": \"#2a3f5f\"}, \"error_y\": {\"color\": \"#2a3f5f\"}, \"marker\": {\"line\": {\"color\": \"#E5ECF6\", \"width\": 0.5}}, \"type\": \"bar\"}], \"barpolar\": [{\"marker\": {\"line\": {\"color\": \"#E5ECF6\", \"width\": 0.5}}, \"type\": \"barpolar\"}], \"carpet\": [{\"aaxis\": {\"endlinecolor\": \"#2a3f5f\", \"gridcolor\": \"white\", \"linecolor\": \"white\", \"minorgridcolor\": \"white\", \"startlinecolor\": \"#2a3f5f\"}, \"baxis\": {\"endlinecolor\": \"#2a3f5f\", \"gridcolor\": \"white\", \"linecolor\": \"white\", \"minorgridcolor\": \"white\", \"startlinecolor\": \"#2a3f5f\"}, \"type\": \"carpet\"}], \"choropleth\": [{\"colorbar\": {\"outlinewidth\": 0, \"ticks\": \"\"}, \"type\": \"choropleth\"}], \"contour\": [{\"colorbar\": {\"outlinewidth\": 0, \"ticks\": \"\"}, \"colorscale\": [[0.0, \"#0d0887\"], [0.1111111111111111, \"#46039f\"], [0.2222222222222222, \"#7201a8\"], [0.3333333333333333, \"#9c179e\"], [0.4444444444444444, \"#bd3786\"], [0.5555555555555556, \"#d8576b\"], [0.6666666666666666, \"#ed7953\"], [0.7777777777777778, \"#fb9f3a\"], [0.8888888888888888, \"#fdca26\"], [1.0, \"#f0f921\"]], \"type\": \"contour\"}], \"contourcarpet\": [{\"colorbar\": {\"outlinewidth\": 0, \"ticks\": \"\"}, \"type\": \"contourcarpet\"}], \"heatmap\": [{\"colorbar\": {\"outlinewidth\": 0, \"ticks\": \"\"}, \"colorscale\": [[0.0, \"#0d0887\"], [0.1111111111111111, \"#46039f\"], [0.2222222222222222, \"#7201a8\"], [0.3333333333333333, \"#9c179e\"], [0.4444444444444444, \"#bd3786\"], [0.5555555555555556, \"#d8576b\"], [0.6666666666666666, \"#ed7953\"], [0.7777777777777778, \"#fb9f3a\"], [0.8888888888888888, \"#fdca26\"], [1.0, \"#f0f921\"]], \"type\": \"heatmap\"}], \"heatmapgl\": [{\"colorbar\": {\"outlinewidth\": 0, \"ticks\": \"\"}, \"colorscale\": [[0.0, \"#0d0887\"], [0.1111111111111111, \"#46039f\"], [0.2222222222222222, \"#7201a8\"], [0.3333333333333333, \"#9c179e\"], [0.4444444444444444, \"#bd3786\"], [0.5555555555555556, \"#d8576b\"], [0.6666666666666666, \"#ed7953\"], [0.7777777777777778, \"#fb9f3a\"], [0.8888888888888888, \"#fdca26\"], [1.0, \"#f0f921\"]], \"type\": \"heatmapgl\"}], \"histogram\": [{\"marker\": {\"colorbar\": {\"outlinewidth\": 0, \"ticks\": \"\"}}, \"type\": \"histogram\"}], \"histogram2d\": [{\"colorbar\": {\"outlinewidth\": 0, \"ticks\": \"\"}, \"colorscale\": [[0.0, \"#0d0887\"], [0.1111111111111111, \"#46039f\"], [0.2222222222222222, \"#7201a8\"], [0.3333333333333333, \"#9c179e\"], [0.4444444444444444, \"#bd3786\"], [0.5555555555555556, \"#d8576b\"], [0.6666666666666666, \"#ed7953\"], [0.7777777777777778, \"#fb9f3a\"], [0.8888888888888888, \"#fdca26\"], [1.0, \"#f0f921\"]], \"type\": \"histogram2d\"}], \"histogram2dcontour\": [{\"colorbar\": {\"outlinewidth\": 0, \"ticks\": \"\"}, \"colorscale\": [[0.0, \"#0d0887\"], [0.1111111111111111, \"#46039f\"], [0.2222222222222222, \"#7201a8\"], [0.3333333333333333, \"#9c179e\"], [0.4444444444444444, \"#bd3786\"], [0.5555555555555556, \"#d8576b\"], [0.6666666666666666, \"#ed7953\"], [0.7777777777777778, \"#fb9f3a\"], [0.8888888888888888, \"#fdca26\"], [1.0, \"#f0f921\"]], \"type\": \"histogram2dcontour\"}], \"mesh3d\": [{\"colorbar\": {\"outlinewidth\": 0, \"ticks\": \"\"}, \"type\": \"mesh3d\"}], \"parcoords\": [{\"line\": {\"colorbar\": {\"outlinewidth\": 0, \"ticks\": \"\"}}, \"type\": \"parcoords\"}], \"pie\": [{\"automargin\": true, \"type\": \"pie\"}], \"scatter\": [{\"marker\": {\"colorbar\": {\"outlinewidth\": 0, \"ticks\": \"\"}}, \"type\": \"scatter\"}], \"scatter3d\": [{\"line\": {\"colorbar\": {\"outlinewidth\": 0, \"ticks\": \"\"}}, \"marker\": {\"colorbar\": {\"outlinewidth\": 0, \"ticks\": \"\"}}, \"type\": \"scatter3d\"}], \"scattercarpet\": [{\"marker\": {\"colorbar\": {\"outlinewidth\": 0, \"ticks\": \"\"}}, \"type\": \"scattercarpet\"}], \"scattergeo\": [{\"marker\": {\"colorbar\": {\"outlinewidth\": 0, \"ticks\": \"\"}}, \"type\": \"scattergeo\"}], \"scattergl\": [{\"marker\": {\"colorbar\": {\"outlinewidth\": 0, \"ticks\": \"\"}}, \"type\": \"scattergl\"}], \"scattermapbox\": [{\"marker\": {\"colorbar\": {\"outlinewidth\": 0, \"ticks\": \"\"}}, \"type\": \"scattermapbox\"}], \"scatterpolar\": [{\"marker\": {\"colorbar\": {\"outlinewidth\": 0, \"ticks\": \"\"}}, \"type\": \"scatterpolar\"}], \"scatterpolargl\": [{\"marker\": {\"colorbar\": {\"outlinewidth\": 0, \"ticks\": \"\"}}, \"type\": \"scatterpolargl\"}], \"scatterternary\": [{\"marker\": {\"colorbar\": {\"outlinewidth\": 0, \"ticks\": \"\"}}, \"type\": \"scatterternary\"}], \"surface\": [{\"colorbar\": {\"outlinewidth\": 0, \"ticks\": \"\"}, \"colorscale\": [[0.0, \"#0d0887\"], [0.1111111111111111, \"#46039f\"], [0.2222222222222222, \"#7201a8\"], [0.3333333333333333, \"#9c179e\"], [0.4444444444444444, \"#bd3786\"], [0.5555555555555556, \"#d8576b\"], [0.6666666666666666, \"#ed7953\"], [0.7777777777777778, \"#fb9f3a\"], [0.8888888888888888, \"#fdca26\"], [1.0, \"#f0f921\"]], \"type\": \"surface\"}], \"table\": [{\"cells\": {\"fill\": {\"color\": \"#EBF0F8\"}, \"line\": {\"color\": \"white\"}}, \"header\": {\"fill\": {\"color\": \"#C8D4E3\"}, \"line\": {\"color\": \"white\"}}, \"type\": \"table\"}]}, \"layout\": {\"annotationdefaults\": {\"arrowcolor\": \"#2a3f5f\", \"arrowhead\": 0, \"arrowwidth\": 1}, \"coloraxis\": {\"colorbar\": {\"outlinewidth\": 0, \"ticks\": \"\"}}, \"colorscale\": {\"diverging\": [[0, \"#8e0152\"], [0.1, \"#c51b7d\"], [0.2, \"#de77ae\"], [0.3, \"#f1b6da\"], [0.4, \"#fde0ef\"], [0.5, \"#f7f7f7\"], [0.6, \"#e6f5d0\"], [0.7, \"#b8e186\"], [0.8, \"#7fbc41\"], [0.9, \"#4d9221\"], [1, \"#276419\"]], \"sequential\": [[0.0, \"#0d0887\"], [0.1111111111111111, \"#46039f\"], [0.2222222222222222, \"#7201a8\"], [0.3333333333333333, \"#9c179e\"], [0.4444444444444444, \"#bd3786\"], [0.5555555555555556, \"#d8576b\"], [0.6666666666666666, \"#ed7953\"], [0.7777777777777778, \"#fb9f3a\"], [0.8888888888888888, \"#fdca26\"], [1.0, \"#f0f921\"]], \"sequentialminus\": [[0.0, \"#0d0887\"], [0.1111111111111111, \"#46039f\"], [0.2222222222222222, \"#7201a8\"], [0.3333333333333333, \"#9c179e\"], [0.4444444444444444, \"#bd3786\"], [0.5555555555555556, \"#d8576b\"], [0.6666666666666666, \"#ed7953\"], [0.7777777777777778, \"#fb9f3a\"], [0.8888888888888888, \"#fdca26\"], [1.0, \"#f0f921\"]]}, \"colorway\": [\"#636efa\", \"#EF553B\", \"#00cc96\", \"#ab63fa\", \"#FFA15A\", \"#19d3f3\", \"#FF6692\", \"#B6E880\", \"#FF97FF\", \"#FECB52\"], \"font\": {\"color\": \"#2a3f5f\"}, \"geo\": {\"bgcolor\": \"white\", \"lakecolor\": \"white\", \"landcolor\": \"#E5ECF6\", \"showlakes\": true, \"showland\": true, \"subunitcolor\": \"white\"}, \"hoverlabel\": {\"align\": \"left\"}, \"hovermode\": \"closest\", \"mapbox\": {\"style\": \"light\"}, \"paper_bgcolor\": \"white\", \"plot_bgcolor\": \"#E5ECF6\", \"polar\": {\"angularaxis\": {\"gridcolor\": \"white\", \"linecolor\": \"white\", \"ticks\": \"\"}, \"bgcolor\": \"#E5ECF6\", \"radialaxis\": {\"gridcolor\": \"white\", \"linecolor\": \"white\", \"ticks\": \"\"}}, \"scene\": {\"xaxis\": {\"backgroundcolor\": \"#E5ECF6\", \"gridcolor\": \"white\", \"gridwidth\": 2, \"linecolor\": \"white\", \"showbackground\": true, \"ticks\": \"\", \"zerolinecolor\": \"white\"}, \"yaxis\": {\"backgroundcolor\": \"#E5ECF6\", \"gridcolor\": \"white\", \"gridwidth\": 2, \"linecolor\": \"white\", \"showbackground\": true, \"ticks\": \"\", \"zerolinecolor\": \"white\"}, \"zaxis\": {\"backgroundcolor\": \"#E5ECF6\", \"gridcolor\": \"white\", \"gridwidth\": 2, \"linecolor\": \"white\", \"showbackground\": true, \"ticks\": \"\", \"zerolinecolor\": \"white\"}}, \"shapedefaults\": {\"line\": {\"color\": \"#2a3f5f\"}}, \"ternary\": {\"aaxis\": {\"gridcolor\": \"white\", \"linecolor\": \"white\", \"ticks\": \"\"}, \"baxis\": {\"gridcolor\": \"white\", \"linecolor\": \"white\", \"ticks\": \"\"}, \"bgcolor\": \"#E5ECF6\", \"caxis\": {\"gridcolor\": \"white\", \"linecolor\": \"white\", \"ticks\": \"\"}}, \"title\": {\"x\": 0.05}, \"xaxis\": {\"automargin\": true, \"gridcolor\": \"white\", \"linecolor\": \"white\", \"ticks\": \"\", \"title\": {\"standoff\": 15}, \"zerolinecolor\": \"white\", \"zerolinewidth\": 2}, \"yaxis\": {\"automargin\": true, \"gridcolor\": \"white\", \"linecolor\": \"white\", \"ticks\": \"\", \"title\": {\"standoff\": 15}, \"zerolinecolor\": \"white\", \"zerolinewidth\": 2}}}, \"title\": {\"text\": \"t72\", \"x\": 0.5, \"xanchor\": \"center\", \"yanchor\": \"top\"}, \"width\": 900, \"xaxis\": {\"gridcolor\": \"black\", \"gridwidth\": 1, \"linecolor\": \"black\", \"linewidth\": 2, \"mirror\": true, \"showgrid\": false, \"showline\": true, \"tickcolor\": \"black\", \"tickfont\": {\"color\": \"black\", \"family\": \"Rockwell\", \"size\": 14}, \"ticklen\": 10, \"ticks\": \"outside\", \"tickwidth\": 2, \"title\": {\"font\": {\"color\": \"black\", \"family\": \"Rockwell\", \"size\": 18}, \"text\": \"Wiberg Bond Order\"}}, \"yaxis\": {\"gridcolor\": \"black\", \"gridwidth\": 1, \"linecolor\": \"black\", \"linewidth\": 2, \"mirror\": true, \"showgrid\": false, \"showline\": true, \"tickcolor\": \"black\", \"tickfont\": {\"color\": \"black\", \"family\": \"Rockwell\", \"size\": 14}, \"ticklen\": 10, \"ticks\": \"outside\", \"tickwidth\": 2, \"title\": {\"font\": {\"color\": \"black\", \"family\": \"Rockwell\", \"size\": 18}, \"text\": \"Torsion barrier in KJ/mol\"}}},                        {\"responsive\": true}                    ).then(function(){\n",
       "                            \n",
       "var gd = document.getElementById('dcfc1901-06d6-4f07-bcc7-a46e90fa3ad4');\n",
       "var x = new MutationObserver(function (mutations, observer) {{\n",
       "        var display = window.getComputedStyle(gd).display;\n",
       "        if (!display || display === 'none') {{\n",
       "            console.log([gd, 'removed!']);\n",
       "            Plotly.purge(gd);\n",
       "            observer.disconnect();\n",
       "        }}\n",
       "}});\n",
       "\n",
       "// Listen for the removal of the full notebook cells\n",
       "var notebookContainer = gd.closest('#notebook-container');\n",
       "if (notebookContainer) {{\n",
       "    x.observe(notebookContainer, {childList: true});\n",
       "}}\n",
       "\n",
       "// Listen for the clearing of the current output cell\n",
       "var outputEl = gd.closest('.output');\n",
       "if (outputEl) {{\n",
       "    x.observe(outputEl, {childList: true});\n",
       "}}\n",
       "\n",
       "                        })                };                });            </script>        </div>"
      ]
     },
     "metadata": {},
     "output_type": "display_data"
    },
    {
     "name": "stdout",
     "output_type": "stream",
     "text": [
      "tid:  t74 r_value:  0.8986448767737627 slope:  587.3035983429953 intercept:  -540.0989489726342\n"
     ]
    },
    {
     "data": {
      "application/vnd.plotly.v1+json": {
       "config": {
        "plotlyServerURL": "https://plot.ly"
       },
       "data": [
        {
         "marker": {
          "color": "#ebce2b",
          "size": 10,
          "symbol": 0
         },
         "mode": "markers",
         "name": "Fragment Stability Benchmark.oeb",
         "type": "scatter",
         "x": [],
         "y": []
        },
        {
         "marker": {
          "color": "#702c8c",
          "size": 10,
          "symbol": 1
         },
         "mode": "markers",
         "name": "Fragment Stability Benchmark.oeb",
         "type": "scatter",
         "x": [],
         "y": []
        },
        {
         "marker": {
          "color": "#db6917",
          "size": 10,
          "symbol": 2
         },
         "mode": "markers",
         "name": "Fragment Stability Benchmark.oeb",
         "type": "scatter",
         "x": [],
         "y": []
        },
        {
         "marker": {
          "color": "#96cde6",
          "size": 10,
          "symbol": 3
         },
         "mode": "markers",
         "name": "OpenFF Fragmenter Validation 1.0.oeb",
         "type": "scatter",
         "x": [],
         "y": []
        },
        {
         "marker": {
          "color": "#ba1c30",
          "size": 10,
          "symbol": 4
         },
         "mode": "markers",
         "name": "OpenFF Full TorsionDrive Benchmark 1.oeb",
         "type": "scatter",
         "x": [],
         "y": []
        },
        {
         "marker": {
          "color": "#c0bd7f",
          "size": 10,
          "symbol": 5
         },
         "mode": "markers",
         "name": "OpenFF Gen 2 Torsion Set 1 Roche.oeb",
         "type": "scatter",
         "x": [],
         "y": []
        },
        {
         "marker": {
          "color": "#7f7e80",
          "size": 10,
          "symbol": 6
         },
         "mode": "markers",
         "name": "OpenFF Gen 2 Torsion Set 1 Roche 2.oeb",
         "type": "scatter",
         "x": [],
         "y": []
        },
        {
         "marker": {
          "color": "#5fa641",
          "size": 10,
          "symbol": 7
         },
         "mode": "markers",
         "name": "OpenFF Gen 2 Torsion Set 2 Coverage.oeb",
         "type": "scatter",
         "x": [
          1.000353004891941
         ],
         "y": [
          9.866596794249745
         ]
        },
        {
         "marker": {
          "color": "#d485b2",
          "size": 10,
          "symbol": 8
         },
         "mode": "markers",
         "name": "OpenFF Gen 2 Torsion Set 2 Coverage 2.oeb",
         "type": "scatter",
         "x": [
          1.000353004891941
         ],
         "y": [
          9.866596794249745
         ]
        },
        {
         "marker": {
          "color": "#4277b6",
          "size": 10,
          "symbol": 9
         },
         "mode": "markers",
         "name": "OpenFF Gen 2 Torsion Set 3 Pfizer Discrepancy.oeb",
         "type": "scatter",
         "x": [],
         "y": []
        },
        {
         "marker": {
          "color": "#df8461",
          "size": 10,
          "symbol": 10
         },
         "mode": "markers",
         "name": "OpenFF Gen 2 Torsion Set 3 Pfizer Discrepancy 2.oeb",
         "type": "scatter",
         "x": [],
         "y": []
        },
        {
         "marker": {
          "color": "#463397",
          "size": 10,
          "symbol": 11
         },
         "mode": "markers",
         "name": "OpenFF Gen 2 Torsion Set 4 eMolecules Discrepancy.oeb",
         "type": "scatter",
         "x": [
          1.0231885129296405
         ],
         "y": [
          18.032222357046862
         ]
        },
        {
         "marker": {
          "color": "#e1a11a",
          "size": 10,
          "symbol": 12
         },
         "mode": "markers",
         "name": "OpenFF Gen 2 Torsion Set 4 eMolecules Discrepancy 2.oeb",
         "type": "scatter",
         "x": [
          0.9460080396164935,
          1.0231885129296405,
          1.0114354607371259
         ],
         "y": [
          5.551352194811017,
          18.032222357046862,
          22.884082730971755
         ]
        },
        {
         "marker": {
          "color": "#91218c",
          "size": 10,
          "symbol": 13
         },
         "mode": "markers",
         "name": "OpenFF Gen 2 Torsion Set 5 Bayer.oeb",
         "type": "scatter",
         "x": [
          1.022280653379649
         ],
         "y": [
          22.526432573253032
         ]
        },
        {
         "marker": {
          "color": "#e8e948",
          "size": 10,
          "symbol": 14
         },
         "mode": "markers",
         "name": "OpenFF Gen 2 Torsion Set 5 Bayer 2.oeb",
         "type": "scatter",
         "x": [],
         "y": []
        },
        {
         "marker": {
          "color": "#7e1510",
          "size": 10,
          "symbol": 15
         },
         "mode": "markers",
         "name": "OpenFF Gen 2 Torsion Set 6 Supplemental.oeb",
         "type": "scatter",
         "x": [],
         "y": []
        },
        {
         "marker": {
          "color": "#92ae31",
          "size": 10,
          "symbol": 16
         },
         "mode": "markers",
         "name": "OpenFF Gen 2 Torsion Set 6 Supplemental 2.oeb",
         "type": "scatter",
         "x": [],
         "y": []
        },
        {
         "marker": {
          "color": "#6f340d",
          "size": 10,
          "symbol": 17
         },
         "mode": "markers",
         "name": "OpenFF Group1 Torsions.oeb",
         "type": "scatter",
         "x": [],
         "y": []
        },
        {
         "marker": {
          "color": "#d32b1e",
          "size": 10,
          "symbol": 18
         },
         "mode": "markers",
         "name": "OpenFF Group1 Torsions 2.oeb",
         "type": "scatter",
         "x": [],
         "y": []
        },
        {
         "marker": {
          "color": "#2b3514",
          "size": 10,
          "symbol": 19
         },
         "mode": "markers",
         "name": "OpenFF Group1 Torsions 3.oeb",
         "type": "scatter",
         "x": [],
         "y": []
        },
        {
         "marker": {
          "color": "#ebce2b",
          "size": 10,
          "symbol": 20
         },
         "mode": "markers",
         "name": "OpenFF Primary Benchmark 1 Torsion Set.oeb",
         "type": "scatter",
         "x": [
          0.9830198520768599,
          0.9724197287169594,
          0.8838833841376716,
          0.8838833841376716,
          0.9230084781996746
         ],
         "y": [
          25.77783047376556,
          67.09099878033226,
          10.963721198981148,
          10.9638821563085,
          10.801162187904993
         ]
        },
        {
         "marker": {
          "color": "#702c8c",
          "size": 10,
          "symbol": 21
         },
         "mode": "markers",
         "name": "OpenFF Primary Benchmark 1 Torsion Set.oeb",
         "type": "scatter",
         "x": [
          0.9830198520768599,
          0.9724197287169594,
          0.8838833841376716,
          0.8838833841376716,
          0.9230084781996746
         ],
         "y": [
          25.77783047376556,
          67.09099878033226,
          10.963721198981148,
          10.9638821563085,
          10.801162187904993
         ]
        },
        {
         "marker": {
          "color": "#db6917",
          "size": 10,
          "symbol": 22
         },
         "mode": "markers",
         "name": "OpenFF Primary TorsionDrive Benchmark 1.oeb",
         "type": "scatter",
         "x": [],
         "y": []
        },
        {
         "marker": {
          "color": "#96cde6",
          "size": 10,
          "symbol": 23
         },
         "mode": "markers",
         "name": "OpenFF Rowley Biaryl v1.0.oeb",
         "type": "scatter",
         "x": [],
         "y": []
        },
        {
         "marker": {
          "color": "#ba1c30",
          "size": 10,
          "symbol": 24
         },
         "mode": "markers",
         "name": "OpenFF Substituted Phenyl Set 1.oeb",
         "type": "scatter",
         "x": [
          0.9011032531460357
         ],
         "y": [
          19.927072506764375
         ]
        },
        {
         "marker": {
          "color": "#c0bd7f",
          "size": 10,
          "symbol": 25
         },
         "mode": "markers",
         "name": "OpenFF-benchmark-ligand-fragments-v1.0.oeb",
         "type": "scatter",
         "x": [],
         "y": []
        },
        {
         "marker": {
          "color": "#7f7e80",
          "size": 10,
          "symbol": 26
         },
         "mode": "markers",
         "name": "Pfizer Discrepancy Torsion Dataset 1.oeb",
         "type": "scatter",
         "x": [],
         "y": []
        },
        {
         "marker": {
          "color": "#5fa641",
          "size": 10,
          "symbol": 27
         },
         "mode": "markers",
         "name": "SMIRNOFF Coverage Torsion Set 1.oeb",
         "type": "scatter",
         "x": [
          1.2398563708225774,
          1.155678343213666,
          1.1556821614835666,
          1.2398539423635428,
          1.2946493588384353
         ],
         "y": [
          205.4571594020435,
          197.13771432917162,
          197.1377970843788,
          205.45720830638885,
          179.7392415262084
         ]
        },
        {
         "marker": {
          "color": "#d485b2",
          "size": 10,
          "symbol": 28
         },
         "mode": "markers",
         "name": "TorsionDrive Paper.oeb",
         "type": "scatter",
         "x": [],
         "y": []
        },
        {
         "mode": "lines",
         "showlegend": false,
         "type": "scatter",
         "x": [
          0.8838833841376716,
          0.9011032531460357,
          0.9230084781996746,
          0.9460080396164935,
          0.9724197287169594,
          0.9830198520768599,
          1.000353004891941,
          1.0114354607371259,
          1.022280653379649,
          1.0231885129296405,
          1.155678343213666,
          1.1556821614835666,
          1.2398539423635428,
          1.2398563708225774,
          1.2946493588384353
         ],
         "y": [
          -20.991056952995564,
          -10.877765921388345,
          1.9872515751268338,
          15.494976755535276,
          31.006656802555426,
          37.23214739470461,
          47.411970413630684,
          53.92073660998517,
          60.290157273661976,
          60.823346454162106,
          138.63510052382298,
          138.63734300747512,
          188.07173279722326,
          188.07315903995266,
          220.25327806563064
         ]
        }
       ],
       "layout": {
        "annotations": [
         {
          "font": {
           "color": "black",
           "family": "Times",
           "size": 18
          },
          "showarrow": false,
          "text": "slope: 587.30, r_val: 0.90",
          "x": 1,
          "xref": "paper",
          "y": 0.2,
          "yref": "paper"
         }
        ],
        "autosize": false,
        "dragmode": "select",
        "height": 800,
        "hovermode": false,
        "legend": {
         "font": {
          "color": "black",
          "family": "Rockwell",
          "size": 14
         },
         "orientation": "h",
         "y": -0.2
        },
        "margin": {
         "b": 40,
         "l": 40,
         "r": 10,
         "t": 40
        },
        "template": {
         "data": {
          "bar": [
           {
            "error_x": {
             "color": "#2a3f5f"
            },
            "error_y": {
             "color": "#2a3f5f"
            },
            "marker": {
             "line": {
              "color": "#E5ECF6",
              "width": 0.5
             }
            },
            "type": "bar"
           }
          ],
          "barpolar": [
           {
            "marker": {
             "line": {
              "color": "#E5ECF6",
              "width": 0.5
             }
            },
            "type": "barpolar"
           }
          ],
          "carpet": [
           {
            "aaxis": {
             "endlinecolor": "#2a3f5f",
             "gridcolor": "white",
             "linecolor": "white",
             "minorgridcolor": "white",
             "startlinecolor": "#2a3f5f"
            },
            "baxis": {
             "endlinecolor": "#2a3f5f",
             "gridcolor": "white",
             "linecolor": "white",
             "minorgridcolor": "white",
             "startlinecolor": "#2a3f5f"
            },
            "type": "carpet"
           }
          ],
          "choropleth": [
           {
            "colorbar": {
             "outlinewidth": 0,
             "ticks": ""
            },
            "type": "choropleth"
           }
          ],
          "contour": [
           {
            "colorbar": {
             "outlinewidth": 0,
             "ticks": ""
            },
            "colorscale": [
             [
              0,
              "#0d0887"
             ],
             [
              0.1111111111111111,
              "#46039f"
             ],
             [
              0.2222222222222222,
              "#7201a8"
             ],
             [
              0.3333333333333333,
              "#9c179e"
             ],
             [
              0.4444444444444444,
              "#bd3786"
             ],
             [
              0.5555555555555556,
              "#d8576b"
             ],
             [
              0.6666666666666666,
              "#ed7953"
             ],
             [
              0.7777777777777778,
              "#fb9f3a"
             ],
             [
              0.8888888888888888,
              "#fdca26"
             ],
             [
              1,
              "#f0f921"
             ]
            ],
            "type": "contour"
           }
          ],
          "contourcarpet": [
           {
            "colorbar": {
             "outlinewidth": 0,
             "ticks": ""
            },
            "type": "contourcarpet"
           }
          ],
          "heatmap": [
           {
            "colorbar": {
             "outlinewidth": 0,
             "ticks": ""
            },
            "colorscale": [
             [
              0,
              "#0d0887"
             ],
             [
              0.1111111111111111,
              "#46039f"
             ],
             [
              0.2222222222222222,
              "#7201a8"
             ],
             [
              0.3333333333333333,
              "#9c179e"
             ],
             [
              0.4444444444444444,
              "#bd3786"
             ],
             [
              0.5555555555555556,
              "#d8576b"
             ],
             [
              0.6666666666666666,
              "#ed7953"
             ],
             [
              0.7777777777777778,
              "#fb9f3a"
             ],
             [
              0.8888888888888888,
              "#fdca26"
             ],
             [
              1,
              "#f0f921"
             ]
            ],
            "type": "heatmap"
           }
          ],
          "heatmapgl": [
           {
            "colorbar": {
             "outlinewidth": 0,
             "ticks": ""
            },
            "colorscale": [
             [
              0,
              "#0d0887"
             ],
             [
              0.1111111111111111,
              "#46039f"
             ],
             [
              0.2222222222222222,
              "#7201a8"
             ],
             [
              0.3333333333333333,
              "#9c179e"
             ],
             [
              0.4444444444444444,
              "#bd3786"
             ],
             [
              0.5555555555555556,
              "#d8576b"
             ],
             [
              0.6666666666666666,
              "#ed7953"
             ],
             [
              0.7777777777777778,
              "#fb9f3a"
             ],
             [
              0.8888888888888888,
              "#fdca26"
             ],
             [
              1,
              "#f0f921"
             ]
            ],
            "type": "heatmapgl"
           }
          ],
          "histogram": [
           {
            "marker": {
             "colorbar": {
              "outlinewidth": 0,
              "ticks": ""
             }
            },
            "type": "histogram"
           }
          ],
          "histogram2d": [
           {
            "colorbar": {
             "outlinewidth": 0,
             "ticks": ""
            },
            "colorscale": [
             [
              0,
              "#0d0887"
             ],
             [
              0.1111111111111111,
              "#46039f"
             ],
             [
              0.2222222222222222,
              "#7201a8"
             ],
             [
              0.3333333333333333,
              "#9c179e"
             ],
             [
              0.4444444444444444,
              "#bd3786"
             ],
             [
              0.5555555555555556,
              "#d8576b"
             ],
             [
              0.6666666666666666,
              "#ed7953"
             ],
             [
              0.7777777777777778,
              "#fb9f3a"
             ],
             [
              0.8888888888888888,
              "#fdca26"
             ],
             [
              1,
              "#f0f921"
             ]
            ],
            "type": "histogram2d"
           }
          ],
          "histogram2dcontour": [
           {
            "colorbar": {
             "outlinewidth": 0,
             "ticks": ""
            },
            "colorscale": [
             [
              0,
              "#0d0887"
             ],
             [
              0.1111111111111111,
              "#46039f"
             ],
             [
              0.2222222222222222,
              "#7201a8"
             ],
             [
              0.3333333333333333,
              "#9c179e"
             ],
             [
              0.4444444444444444,
              "#bd3786"
             ],
             [
              0.5555555555555556,
              "#d8576b"
             ],
             [
              0.6666666666666666,
              "#ed7953"
             ],
             [
              0.7777777777777778,
              "#fb9f3a"
             ],
             [
              0.8888888888888888,
              "#fdca26"
             ],
             [
              1,
              "#f0f921"
             ]
            ],
            "type": "histogram2dcontour"
           }
          ],
          "mesh3d": [
           {
            "colorbar": {
             "outlinewidth": 0,
             "ticks": ""
            },
            "type": "mesh3d"
           }
          ],
          "parcoords": [
           {
            "line": {
             "colorbar": {
              "outlinewidth": 0,
              "ticks": ""
             }
            },
            "type": "parcoords"
           }
          ],
          "pie": [
           {
            "automargin": true,
            "type": "pie"
           }
          ],
          "scatter": [
           {
            "marker": {
             "colorbar": {
              "outlinewidth": 0,
              "ticks": ""
             }
            },
            "type": "scatter"
           }
          ],
          "scatter3d": [
           {
            "line": {
             "colorbar": {
              "outlinewidth": 0,
              "ticks": ""
             }
            },
            "marker": {
             "colorbar": {
              "outlinewidth": 0,
              "ticks": ""
             }
            },
            "type": "scatter3d"
           }
          ],
          "scattercarpet": [
           {
            "marker": {
             "colorbar": {
              "outlinewidth": 0,
              "ticks": ""
             }
            },
            "type": "scattercarpet"
           }
          ],
          "scattergeo": [
           {
            "marker": {
             "colorbar": {
              "outlinewidth": 0,
              "ticks": ""
             }
            },
            "type": "scattergeo"
           }
          ],
          "scattergl": [
           {
            "marker": {
             "colorbar": {
              "outlinewidth": 0,
              "ticks": ""
             }
            },
            "type": "scattergl"
           }
          ],
          "scattermapbox": [
           {
            "marker": {
             "colorbar": {
              "outlinewidth": 0,
              "ticks": ""
             }
            },
            "type": "scattermapbox"
           }
          ],
          "scatterpolar": [
           {
            "marker": {
             "colorbar": {
              "outlinewidth": 0,
              "ticks": ""
             }
            },
            "type": "scatterpolar"
           }
          ],
          "scatterpolargl": [
           {
            "marker": {
             "colorbar": {
              "outlinewidth": 0,
              "ticks": ""
             }
            },
            "type": "scatterpolargl"
           }
          ],
          "scatterternary": [
           {
            "marker": {
             "colorbar": {
              "outlinewidth": 0,
              "ticks": ""
             }
            },
            "type": "scatterternary"
           }
          ],
          "surface": [
           {
            "colorbar": {
             "outlinewidth": 0,
             "ticks": ""
            },
            "colorscale": [
             [
              0,
              "#0d0887"
             ],
             [
              0.1111111111111111,
              "#46039f"
             ],
             [
              0.2222222222222222,
              "#7201a8"
             ],
             [
              0.3333333333333333,
              "#9c179e"
             ],
             [
              0.4444444444444444,
              "#bd3786"
             ],
             [
              0.5555555555555556,
              "#d8576b"
             ],
             [
              0.6666666666666666,
              "#ed7953"
             ],
             [
              0.7777777777777778,
              "#fb9f3a"
             ],
             [
              0.8888888888888888,
              "#fdca26"
             ],
             [
              1,
              "#f0f921"
             ]
            ],
            "type": "surface"
           }
          ],
          "table": [
           {
            "cells": {
             "fill": {
              "color": "#EBF0F8"
             },
             "line": {
              "color": "white"
             }
            },
            "header": {
             "fill": {
              "color": "#C8D4E3"
             },
             "line": {
              "color": "white"
             }
            },
            "type": "table"
           }
          ]
         },
         "layout": {
          "annotationdefaults": {
           "arrowcolor": "#2a3f5f",
           "arrowhead": 0,
           "arrowwidth": 1
          },
          "coloraxis": {
           "colorbar": {
            "outlinewidth": 0,
            "ticks": ""
           }
          },
          "colorscale": {
           "diverging": [
            [
             0,
             "#8e0152"
            ],
            [
             0.1,
             "#c51b7d"
            ],
            [
             0.2,
             "#de77ae"
            ],
            [
             0.3,
             "#f1b6da"
            ],
            [
             0.4,
             "#fde0ef"
            ],
            [
             0.5,
             "#f7f7f7"
            ],
            [
             0.6,
             "#e6f5d0"
            ],
            [
             0.7,
             "#b8e186"
            ],
            [
             0.8,
             "#7fbc41"
            ],
            [
             0.9,
             "#4d9221"
            ],
            [
             1,
             "#276419"
            ]
           ],
           "sequential": [
            [
             0,
             "#0d0887"
            ],
            [
             0.1111111111111111,
             "#46039f"
            ],
            [
             0.2222222222222222,
             "#7201a8"
            ],
            [
             0.3333333333333333,
             "#9c179e"
            ],
            [
             0.4444444444444444,
             "#bd3786"
            ],
            [
             0.5555555555555556,
             "#d8576b"
            ],
            [
             0.6666666666666666,
             "#ed7953"
            ],
            [
             0.7777777777777778,
             "#fb9f3a"
            ],
            [
             0.8888888888888888,
             "#fdca26"
            ],
            [
             1,
             "#f0f921"
            ]
           ],
           "sequentialminus": [
            [
             0,
             "#0d0887"
            ],
            [
             0.1111111111111111,
             "#46039f"
            ],
            [
             0.2222222222222222,
             "#7201a8"
            ],
            [
             0.3333333333333333,
             "#9c179e"
            ],
            [
             0.4444444444444444,
             "#bd3786"
            ],
            [
             0.5555555555555556,
             "#d8576b"
            ],
            [
             0.6666666666666666,
             "#ed7953"
            ],
            [
             0.7777777777777778,
             "#fb9f3a"
            ],
            [
             0.8888888888888888,
             "#fdca26"
            ],
            [
             1,
             "#f0f921"
            ]
           ]
          },
          "colorway": [
           "#636efa",
           "#EF553B",
           "#00cc96",
           "#ab63fa",
           "#FFA15A",
           "#19d3f3",
           "#FF6692",
           "#B6E880",
           "#FF97FF",
           "#FECB52"
          ],
          "font": {
           "color": "#2a3f5f"
          },
          "geo": {
           "bgcolor": "white",
           "lakecolor": "white",
           "landcolor": "#E5ECF6",
           "showlakes": true,
           "showland": true,
           "subunitcolor": "white"
          },
          "hoverlabel": {
           "align": "left"
          },
          "hovermode": "closest",
          "mapbox": {
           "style": "light"
          },
          "paper_bgcolor": "white",
          "plot_bgcolor": "#E5ECF6",
          "polar": {
           "angularaxis": {
            "gridcolor": "white",
            "linecolor": "white",
            "ticks": ""
           },
           "bgcolor": "#E5ECF6",
           "radialaxis": {
            "gridcolor": "white",
            "linecolor": "white",
            "ticks": ""
           }
          },
          "scene": {
           "xaxis": {
            "backgroundcolor": "#E5ECF6",
            "gridcolor": "white",
            "gridwidth": 2,
            "linecolor": "white",
            "showbackground": true,
            "ticks": "",
            "zerolinecolor": "white"
           },
           "yaxis": {
            "backgroundcolor": "#E5ECF6",
            "gridcolor": "white",
            "gridwidth": 2,
            "linecolor": "white",
            "showbackground": true,
            "ticks": "",
            "zerolinecolor": "white"
           },
           "zaxis": {
            "backgroundcolor": "#E5ECF6",
            "gridcolor": "white",
            "gridwidth": 2,
            "linecolor": "white",
            "showbackground": true,
            "ticks": "",
            "zerolinecolor": "white"
           }
          },
          "shapedefaults": {
           "line": {
            "color": "#2a3f5f"
           }
          },
          "ternary": {
           "aaxis": {
            "gridcolor": "white",
            "linecolor": "white",
            "ticks": ""
           },
           "baxis": {
            "gridcolor": "white",
            "linecolor": "white",
            "ticks": ""
           },
           "bgcolor": "#E5ECF6",
           "caxis": {
            "gridcolor": "white",
            "linecolor": "white",
            "ticks": ""
           }
          },
          "title": {
           "x": 0.05
          },
          "xaxis": {
           "automargin": true,
           "gridcolor": "white",
           "linecolor": "white",
           "ticks": "",
           "title": {
            "standoff": 15
           },
           "zerolinecolor": "white",
           "zerolinewidth": 2
          },
          "yaxis": {
           "automargin": true,
           "gridcolor": "white",
           "linecolor": "white",
           "ticks": "",
           "title": {
            "standoff": 15
           },
           "zerolinecolor": "white",
           "zerolinewidth": 2
          }
         }
        },
        "title": {
         "text": "t74",
         "x": 0.5,
         "xanchor": "center",
         "yanchor": "top"
        },
        "width": 900,
        "xaxis": {
         "gridcolor": "black",
         "gridwidth": 1,
         "linecolor": "black",
         "linewidth": 2,
         "mirror": true,
         "showgrid": false,
         "showline": true,
         "tickcolor": "black",
         "tickfont": {
          "color": "black",
          "family": "Rockwell",
          "size": 14
         },
         "ticklen": 10,
         "ticks": "outside",
         "tickwidth": 2,
         "title": {
          "font": {
           "color": "black",
           "family": "Rockwell",
           "size": 18
          },
          "text": "Wiberg Bond Order"
         }
        },
        "yaxis": {
         "gridcolor": "black",
         "gridwidth": 1,
         "linecolor": "black",
         "linewidth": 2,
         "mirror": true,
         "showgrid": false,
         "showline": true,
         "tickcolor": "black",
         "tickfont": {
          "color": "black",
          "family": "Rockwell",
          "size": 14
         },
         "ticklen": 10,
         "ticks": "outside",
         "tickwidth": 2,
         "title": {
          "font": {
           "color": "black",
           "family": "Rockwell",
           "size": 18
          },
          "text": "Torsion barrier in KJ/mol"
         }
        }
       }
      },
      "text/html": [
       "<div>                            <div id=\"f0b0e921-2936-47b8-888d-d575a6de1dd3\" class=\"plotly-graph-div\" style=\"height:800px; width:900px;\"></div>            <script type=\"text/javascript\">                require([\"plotly\"], function(Plotly) {                    window.PLOTLYENV=window.PLOTLYENV || {};                                    if (document.getElementById(\"f0b0e921-2936-47b8-888d-d575a6de1dd3\")) {                    Plotly.newPlot(                        \"f0b0e921-2936-47b8-888d-d575a6de1dd3\",                        [{\"marker\": {\"color\": \"#ebce2b\", \"size\": 10, \"symbol\": 0}, \"mode\": \"markers\", \"name\": \"Fragment Stability Benchmark.oeb\", \"type\": \"scatter\", \"x\": [], \"y\": []}, {\"marker\": {\"color\": \"#702c8c\", \"size\": 10, \"symbol\": 1}, \"mode\": \"markers\", \"name\": \"Fragment Stability Benchmark.oeb\", \"type\": \"scatter\", \"x\": [], \"y\": []}, {\"marker\": {\"color\": \"#db6917\", \"size\": 10, \"symbol\": 2}, \"mode\": \"markers\", \"name\": \"Fragment Stability Benchmark.oeb\", \"type\": \"scatter\", \"x\": [], \"y\": []}, {\"marker\": {\"color\": \"#96cde6\", \"size\": 10, \"symbol\": 3}, \"mode\": \"markers\", \"name\": \"OpenFF Fragmenter Validation 1.0.oeb\", \"type\": \"scatter\", \"x\": [], \"y\": []}, {\"marker\": {\"color\": \"#ba1c30\", \"size\": 10, \"symbol\": 4}, \"mode\": \"markers\", \"name\": \"OpenFF Full TorsionDrive Benchmark 1.oeb\", \"type\": \"scatter\", \"x\": [], \"y\": []}, {\"marker\": {\"color\": \"#c0bd7f\", \"size\": 10, \"symbol\": 5}, \"mode\": \"markers\", \"name\": \"OpenFF Gen 2 Torsion Set 1 Roche.oeb\", \"type\": \"scatter\", \"x\": [], \"y\": []}, {\"marker\": {\"color\": \"#7f7e80\", \"size\": 10, \"symbol\": 6}, \"mode\": \"markers\", \"name\": \"OpenFF Gen 2 Torsion Set 1 Roche 2.oeb\", \"type\": \"scatter\", \"x\": [], \"y\": []}, {\"marker\": {\"color\": \"#5fa641\", \"size\": 10, \"symbol\": 7}, \"mode\": \"markers\", \"name\": \"OpenFF Gen 2 Torsion Set 2 Coverage.oeb\", \"type\": \"scatter\", \"x\": [1.000353004891941], \"y\": [9.866596794249745]}, {\"marker\": {\"color\": \"#d485b2\", \"size\": 10, \"symbol\": 8}, \"mode\": \"markers\", \"name\": \"OpenFF Gen 2 Torsion Set 2 Coverage 2.oeb\", \"type\": \"scatter\", \"x\": [1.000353004891941], \"y\": [9.866596794249745]}, {\"marker\": {\"color\": \"#4277b6\", \"size\": 10, \"symbol\": 9}, \"mode\": \"markers\", \"name\": \"OpenFF Gen 2 Torsion Set 3 Pfizer Discrepancy.oeb\", \"type\": \"scatter\", \"x\": [], \"y\": []}, {\"marker\": {\"color\": \"#df8461\", \"size\": 10, \"symbol\": 10}, \"mode\": \"markers\", \"name\": \"OpenFF Gen 2 Torsion Set 3 Pfizer Discrepancy 2.oeb\", \"type\": \"scatter\", \"x\": [], \"y\": []}, {\"marker\": {\"color\": \"#463397\", \"size\": 10, \"symbol\": 11}, \"mode\": \"markers\", \"name\": \"OpenFF Gen 2 Torsion Set 4 eMolecules Discrepancy.oeb\", \"type\": \"scatter\", \"x\": [1.0231885129296405], \"y\": [18.032222357046862]}, {\"marker\": {\"color\": \"#e1a11a\", \"size\": 10, \"symbol\": 12}, \"mode\": \"markers\", \"name\": \"OpenFF Gen 2 Torsion Set 4 eMolecules Discrepancy 2.oeb\", \"type\": \"scatter\", \"x\": [0.9460080396164935, 1.0231885129296405, 1.0114354607371259], \"y\": [5.551352194811017, 18.032222357046862, 22.884082730971755]}, {\"marker\": {\"color\": \"#91218c\", \"size\": 10, \"symbol\": 13}, \"mode\": \"markers\", \"name\": \"OpenFF Gen 2 Torsion Set 5 Bayer.oeb\", \"type\": \"scatter\", \"x\": [1.022280653379649], \"y\": [22.526432573253032]}, {\"marker\": {\"color\": \"#e8e948\", \"size\": 10, \"symbol\": 14}, \"mode\": \"markers\", \"name\": \"OpenFF Gen 2 Torsion Set 5 Bayer 2.oeb\", \"type\": \"scatter\", \"x\": [], \"y\": []}, {\"marker\": {\"color\": \"#7e1510\", \"size\": 10, \"symbol\": 15}, \"mode\": \"markers\", \"name\": \"OpenFF Gen 2 Torsion Set 6 Supplemental.oeb\", \"type\": \"scatter\", \"x\": [], \"y\": []}, {\"marker\": {\"color\": \"#92ae31\", \"size\": 10, \"symbol\": 16}, \"mode\": \"markers\", \"name\": \"OpenFF Gen 2 Torsion Set 6 Supplemental 2.oeb\", \"type\": \"scatter\", \"x\": [], \"y\": []}, {\"marker\": {\"color\": \"#6f340d\", \"size\": 10, \"symbol\": 17}, \"mode\": \"markers\", \"name\": \"OpenFF Group1 Torsions.oeb\", \"type\": \"scatter\", \"x\": [], \"y\": []}, {\"marker\": {\"color\": \"#d32b1e\", \"size\": 10, \"symbol\": 18}, \"mode\": \"markers\", \"name\": \"OpenFF Group1 Torsions 2.oeb\", \"type\": \"scatter\", \"x\": [], \"y\": []}, {\"marker\": {\"color\": \"#2b3514\", \"size\": 10, \"symbol\": 19}, \"mode\": \"markers\", \"name\": \"OpenFF Group1 Torsions 3.oeb\", \"type\": \"scatter\", \"x\": [], \"y\": []}, {\"marker\": {\"color\": \"#ebce2b\", \"size\": 10, \"symbol\": 20}, \"mode\": \"markers\", \"name\": \"OpenFF Primary Benchmark 1 Torsion Set.oeb\", \"type\": \"scatter\", \"x\": [0.9830198520768599, 0.9724197287169594, 0.8838833841376716, 0.8838833841376716, 0.9230084781996746], \"y\": [25.77783047376556, 67.09099878033226, 10.963721198981148, 10.9638821563085, 10.801162187904993]}, {\"marker\": {\"color\": \"#702c8c\", \"size\": 10, \"symbol\": 21}, \"mode\": \"markers\", \"name\": \"OpenFF Primary Benchmark 1 Torsion Set.oeb\", \"type\": \"scatter\", \"x\": [0.9830198520768599, 0.9724197287169594, 0.8838833841376716, 0.8838833841376716, 0.9230084781996746], \"y\": [25.77783047376556, 67.09099878033226, 10.963721198981148, 10.9638821563085, 10.801162187904993]}, {\"marker\": {\"color\": \"#db6917\", \"size\": 10, \"symbol\": 22}, \"mode\": \"markers\", \"name\": \"OpenFF Primary TorsionDrive Benchmark 1.oeb\", \"type\": \"scatter\", \"x\": [], \"y\": []}, {\"marker\": {\"color\": \"#96cde6\", \"size\": 10, \"symbol\": 23}, \"mode\": \"markers\", \"name\": \"OpenFF Rowley Biaryl v1.0.oeb\", \"type\": \"scatter\", \"x\": [], \"y\": []}, {\"marker\": {\"color\": \"#ba1c30\", \"size\": 10, \"symbol\": 24}, \"mode\": \"markers\", \"name\": \"OpenFF Substituted Phenyl Set 1.oeb\", \"type\": \"scatter\", \"x\": [0.9011032531460357], \"y\": [19.927072506764375]}, {\"marker\": {\"color\": \"#c0bd7f\", \"size\": 10, \"symbol\": 25}, \"mode\": \"markers\", \"name\": \"OpenFF-benchmark-ligand-fragments-v1.0.oeb\", \"type\": \"scatter\", \"x\": [], \"y\": []}, {\"marker\": {\"color\": \"#7f7e80\", \"size\": 10, \"symbol\": 26}, \"mode\": \"markers\", \"name\": \"Pfizer Discrepancy Torsion Dataset 1.oeb\", \"type\": \"scatter\", \"x\": [], \"y\": []}, {\"marker\": {\"color\": \"#5fa641\", \"size\": 10, \"symbol\": 27}, \"mode\": \"markers\", \"name\": \"SMIRNOFF Coverage Torsion Set 1.oeb\", \"type\": \"scatter\", \"x\": [1.2398563708225774, 1.155678343213666, 1.1556821614835666, 1.2398539423635428, 1.2946493588384353], \"y\": [205.4571594020435, 197.13771432917162, 197.1377970843788, 205.45720830638885, 179.7392415262084]}, {\"marker\": {\"color\": \"#d485b2\", \"size\": 10, \"symbol\": 28}, \"mode\": \"markers\", \"name\": \"TorsionDrive Paper.oeb\", \"type\": \"scatter\", \"x\": [], \"y\": []}, {\"mode\": \"lines\", \"showlegend\": false, \"type\": \"scatter\", \"x\": [0.8838833841376716, 0.9011032531460357, 0.9230084781996746, 0.9460080396164935, 0.9724197287169594, 0.9830198520768599, 1.000353004891941, 1.0114354607371259, 1.022280653379649, 1.0231885129296405, 1.155678343213666, 1.1556821614835666, 1.2398539423635428, 1.2398563708225774, 1.2946493588384353], \"y\": [-20.991056952995564, -10.877765921388345, 1.9872515751268338, 15.494976755535276, 31.006656802555426, 37.23214739470461, 47.411970413630684, 53.92073660998517, 60.290157273661976, 60.823346454162106, 138.63510052382298, 138.63734300747512, 188.07173279722326, 188.07315903995266, 220.25327806563064]}],                        {\"annotations\": [{\"font\": {\"color\": \"black\", \"family\": \"Times\", \"size\": 18}, \"showarrow\": false, \"text\": \"slope: 587.30, r_val: 0.90\", \"x\": 1, \"xref\": \"paper\", \"y\": 0.2, \"yref\": \"paper\"}], \"autosize\": false, \"dragmode\": \"select\", \"height\": 800, \"hovermode\": false, \"legend\": {\"font\": {\"color\": \"black\", \"family\": \"Rockwell\", \"size\": 14}, \"orientation\": \"h\", \"y\": -0.2}, \"margin\": {\"b\": 40, \"l\": 40, \"r\": 10, \"t\": 40}, \"template\": {\"data\": {\"bar\": [{\"error_x\": {\"color\": \"#2a3f5f\"}, \"error_y\": {\"color\": \"#2a3f5f\"}, \"marker\": {\"line\": {\"color\": \"#E5ECF6\", \"width\": 0.5}}, \"type\": \"bar\"}], \"barpolar\": [{\"marker\": {\"line\": {\"color\": \"#E5ECF6\", \"width\": 0.5}}, \"type\": \"barpolar\"}], \"carpet\": [{\"aaxis\": {\"endlinecolor\": \"#2a3f5f\", \"gridcolor\": \"white\", \"linecolor\": \"white\", \"minorgridcolor\": \"white\", \"startlinecolor\": \"#2a3f5f\"}, \"baxis\": {\"endlinecolor\": \"#2a3f5f\", \"gridcolor\": \"white\", \"linecolor\": \"white\", \"minorgridcolor\": \"white\", \"startlinecolor\": \"#2a3f5f\"}, \"type\": \"carpet\"}], \"choropleth\": [{\"colorbar\": {\"outlinewidth\": 0, \"ticks\": \"\"}, \"type\": \"choropleth\"}], \"contour\": [{\"colorbar\": {\"outlinewidth\": 0, \"ticks\": \"\"}, \"colorscale\": [[0.0, \"#0d0887\"], [0.1111111111111111, \"#46039f\"], [0.2222222222222222, \"#7201a8\"], [0.3333333333333333, \"#9c179e\"], [0.4444444444444444, \"#bd3786\"], [0.5555555555555556, \"#d8576b\"], [0.6666666666666666, \"#ed7953\"], [0.7777777777777778, \"#fb9f3a\"], [0.8888888888888888, \"#fdca26\"], [1.0, \"#f0f921\"]], \"type\": \"contour\"}], \"contourcarpet\": [{\"colorbar\": {\"outlinewidth\": 0, \"ticks\": \"\"}, \"type\": \"contourcarpet\"}], \"heatmap\": [{\"colorbar\": {\"outlinewidth\": 0, \"ticks\": \"\"}, \"colorscale\": [[0.0, \"#0d0887\"], [0.1111111111111111, \"#46039f\"], [0.2222222222222222, \"#7201a8\"], [0.3333333333333333, \"#9c179e\"], [0.4444444444444444, \"#bd3786\"], [0.5555555555555556, \"#d8576b\"], [0.6666666666666666, \"#ed7953\"], [0.7777777777777778, \"#fb9f3a\"], [0.8888888888888888, \"#fdca26\"], [1.0, \"#f0f921\"]], \"type\": \"heatmap\"}], \"heatmapgl\": [{\"colorbar\": {\"outlinewidth\": 0, \"ticks\": \"\"}, \"colorscale\": [[0.0, \"#0d0887\"], [0.1111111111111111, \"#46039f\"], [0.2222222222222222, \"#7201a8\"], [0.3333333333333333, \"#9c179e\"], [0.4444444444444444, \"#bd3786\"], [0.5555555555555556, \"#d8576b\"], [0.6666666666666666, \"#ed7953\"], [0.7777777777777778, \"#fb9f3a\"], [0.8888888888888888, \"#fdca26\"], [1.0, \"#f0f921\"]], \"type\": \"heatmapgl\"}], \"histogram\": [{\"marker\": {\"colorbar\": {\"outlinewidth\": 0, \"ticks\": \"\"}}, \"type\": \"histogram\"}], \"histogram2d\": [{\"colorbar\": {\"outlinewidth\": 0, \"ticks\": \"\"}, \"colorscale\": [[0.0, \"#0d0887\"], [0.1111111111111111, \"#46039f\"], [0.2222222222222222, \"#7201a8\"], [0.3333333333333333, \"#9c179e\"], [0.4444444444444444, \"#bd3786\"], [0.5555555555555556, \"#d8576b\"], [0.6666666666666666, \"#ed7953\"], [0.7777777777777778, \"#fb9f3a\"], [0.8888888888888888, \"#fdca26\"], [1.0, \"#f0f921\"]], \"type\": \"histogram2d\"}], \"histogram2dcontour\": [{\"colorbar\": {\"outlinewidth\": 0, \"ticks\": \"\"}, \"colorscale\": [[0.0, \"#0d0887\"], [0.1111111111111111, \"#46039f\"], [0.2222222222222222, \"#7201a8\"], [0.3333333333333333, \"#9c179e\"], [0.4444444444444444, \"#bd3786\"], [0.5555555555555556, \"#d8576b\"], [0.6666666666666666, \"#ed7953\"], [0.7777777777777778, \"#fb9f3a\"], [0.8888888888888888, \"#fdca26\"], [1.0, \"#f0f921\"]], \"type\": \"histogram2dcontour\"}], \"mesh3d\": [{\"colorbar\": {\"outlinewidth\": 0, \"ticks\": \"\"}, \"type\": \"mesh3d\"}], \"parcoords\": [{\"line\": {\"colorbar\": {\"outlinewidth\": 0, \"ticks\": \"\"}}, \"type\": \"parcoords\"}], \"pie\": [{\"automargin\": true, \"type\": \"pie\"}], \"scatter\": [{\"marker\": {\"colorbar\": {\"outlinewidth\": 0, \"ticks\": \"\"}}, \"type\": \"scatter\"}], \"scatter3d\": [{\"line\": {\"colorbar\": {\"outlinewidth\": 0, \"ticks\": \"\"}}, \"marker\": {\"colorbar\": {\"outlinewidth\": 0, \"ticks\": \"\"}}, \"type\": \"scatter3d\"}], \"scattercarpet\": [{\"marker\": {\"colorbar\": {\"outlinewidth\": 0, \"ticks\": \"\"}}, \"type\": \"scattercarpet\"}], \"scattergeo\": [{\"marker\": {\"colorbar\": {\"outlinewidth\": 0, \"ticks\": \"\"}}, \"type\": \"scattergeo\"}], \"scattergl\": [{\"marker\": {\"colorbar\": {\"outlinewidth\": 0, \"ticks\": \"\"}}, \"type\": \"scattergl\"}], \"scattermapbox\": [{\"marker\": {\"colorbar\": {\"outlinewidth\": 0, \"ticks\": \"\"}}, \"type\": \"scattermapbox\"}], \"scatterpolar\": [{\"marker\": {\"colorbar\": {\"outlinewidth\": 0, \"ticks\": \"\"}}, \"type\": \"scatterpolar\"}], \"scatterpolargl\": [{\"marker\": {\"colorbar\": {\"outlinewidth\": 0, \"ticks\": \"\"}}, \"type\": \"scatterpolargl\"}], \"scatterternary\": [{\"marker\": {\"colorbar\": {\"outlinewidth\": 0, \"ticks\": \"\"}}, \"type\": \"scatterternary\"}], \"surface\": [{\"colorbar\": {\"outlinewidth\": 0, \"ticks\": \"\"}, \"colorscale\": [[0.0, \"#0d0887\"], [0.1111111111111111, \"#46039f\"], [0.2222222222222222, \"#7201a8\"], [0.3333333333333333, \"#9c179e\"], [0.4444444444444444, \"#bd3786\"], [0.5555555555555556, \"#d8576b\"], [0.6666666666666666, \"#ed7953\"], [0.7777777777777778, \"#fb9f3a\"], [0.8888888888888888, \"#fdca26\"], [1.0, \"#f0f921\"]], \"type\": \"surface\"}], \"table\": [{\"cells\": {\"fill\": {\"color\": \"#EBF0F8\"}, \"line\": {\"color\": \"white\"}}, \"header\": {\"fill\": {\"color\": \"#C8D4E3\"}, \"line\": {\"color\": \"white\"}}, \"type\": \"table\"}]}, \"layout\": {\"annotationdefaults\": {\"arrowcolor\": \"#2a3f5f\", \"arrowhead\": 0, \"arrowwidth\": 1}, \"coloraxis\": {\"colorbar\": {\"outlinewidth\": 0, \"ticks\": \"\"}}, \"colorscale\": {\"diverging\": [[0, \"#8e0152\"], [0.1, \"#c51b7d\"], [0.2, \"#de77ae\"], [0.3, \"#f1b6da\"], [0.4, \"#fde0ef\"], [0.5, \"#f7f7f7\"], [0.6, \"#e6f5d0\"], [0.7, \"#b8e186\"], [0.8, \"#7fbc41\"], [0.9, \"#4d9221\"], [1, \"#276419\"]], \"sequential\": [[0.0, \"#0d0887\"], [0.1111111111111111, \"#46039f\"], [0.2222222222222222, \"#7201a8\"], [0.3333333333333333, \"#9c179e\"], [0.4444444444444444, \"#bd3786\"], [0.5555555555555556, \"#d8576b\"], [0.6666666666666666, \"#ed7953\"], [0.7777777777777778, \"#fb9f3a\"], [0.8888888888888888, \"#fdca26\"], [1.0, \"#f0f921\"]], \"sequentialminus\": [[0.0, \"#0d0887\"], [0.1111111111111111, \"#46039f\"], [0.2222222222222222, \"#7201a8\"], [0.3333333333333333, \"#9c179e\"], [0.4444444444444444, \"#bd3786\"], [0.5555555555555556, \"#d8576b\"], [0.6666666666666666, \"#ed7953\"], [0.7777777777777778, \"#fb9f3a\"], [0.8888888888888888, \"#fdca26\"], [1.0, \"#f0f921\"]]}, \"colorway\": [\"#636efa\", \"#EF553B\", \"#00cc96\", \"#ab63fa\", \"#FFA15A\", \"#19d3f3\", \"#FF6692\", \"#B6E880\", \"#FF97FF\", \"#FECB52\"], \"font\": {\"color\": \"#2a3f5f\"}, \"geo\": {\"bgcolor\": \"white\", \"lakecolor\": \"white\", \"landcolor\": \"#E5ECF6\", \"showlakes\": true, \"showland\": true, \"subunitcolor\": \"white\"}, \"hoverlabel\": {\"align\": \"left\"}, \"hovermode\": \"closest\", \"mapbox\": {\"style\": \"light\"}, \"paper_bgcolor\": \"white\", \"plot_bgcolor\": \"#E5ECF6\", \"polar\": {\"angularaxis\": {\"gridcolor\": \"white\", \"linecolor\": \"white\", \"ticks\": \"\"}, \"bgcolor\": \"#E5ECF6\", \"radialaxis\": {\"gridcolor\": \"white\", \"linecolor\": \"white\", \"ticks\": \"\"}}, \"scene\": {\"xaxis\": {\"backgroundcolor\": \"#E5ECF6\", \"gridcolor\": \"white\", \"gridwidth\": 2, \"linecolor\": \"white\", \"showbackground\": true, \"ticks\": \"\", \"zerolinecolor\": \"white\"}, \"yaxis\": {\"backgroundcolor\": \"#E5ECF6\", \"gridcolor\": \"white\", \"gridwidth\": 2, \"linecolor\": \"white\", \"showbackground\": true, \"ticks\": \"\", \"zerolinecolor\": \"white\"}, \"zaxis\": {\"backgroundcolor\": \"#E5ECF6\", \"gridcolor\": \"white\", \"gridwidth\": 2, \"linecolor\": \"white\", \"showbackground\": true, \"ticks\": \"\", \"zerolinecolor\": \"white\"}}, \"shapedefaults\": {\"line\": {\"color\": \"#2a3f5f\"}}, \"ternary\": {\"aaxis\": {\"gridcolor\": \"white\", \"linecolor\": \"white\", \"ticks\": \"\"}, \"baxis\": {\"gridcolor\": \"white\", \"linecolor\": \"white\", \"ticks\": \"\"}, \"bgcolor\": \"#E5ECF6\", \"caxis\": {\"gridcolor\": \"white\", \"linecolor\": \"white\", \"ticks\": \"\"}}, \"title\": {\"x\": 0.05}, \"xaxis\": {\"automargin\": true, \"gridcolor\": \"white\", \"linecolor\": \"white\", \"ticks\": \"\", \"title\": {\"standoff\": 15}, \"zerolinecolor\": \"white\", \"zerolinewidth\": 2}, \"yaxis\": {\"automargin\": true, \"gridcolor\": \"white\", \"linecolor\": \"white\", \"ticks\": \"\", \"title\": {\"standoff\": 15}, \"zerolinecolor\": \"white\", \"zerolinewidth\": 2}}}, \"title\": {\"text\": \"t74\", \"x\": 0.5, \"xanchor\": \"center\", \"yanchor\": \"top\"}, \"width\": 900, \"xaxis\": {\"gridcolor\": \"black\", \"gridwidth\": 1, \"linecolor\": \"black\", \"linewidth\": 2, \"mirror\": true, \"showgrid\": false, \"showline\": true, \"tickcolor\": \"black\", \"tickfont\": {\"color\": \"black\", \"family\": \"Rockwell\", \"size\": 14}, \"ticklen\": 10, \"ticks\": \"outside\", \"tickwidth\": 2, \"title\": {\"font\": {\"color\": \"black\", \"family\": \"Rockwell\", \"size\": 18}, \"text\": \"Wiberg Bond Order\"}}, \"yaxis\": {\"gridcolor\": \"black\", \"gridwidth\": 1, \"linecolor\": \"black\", \"linewidth\": 2, \"mirror\": true, \"showgrid\": false, \"showline\": true, \"tickcolor\": \"black\", \"tickfont\": {\"color\": \"black\", \"family\": \"Rockwell\", \"size\": 14}, \"ticklen\": 10, \"ticks\": \"outside\", \"tickwidth\": 2, \"title\": {\"font\": {\"color\": \"black\", \"family\": \"Rockwell\", \"size\": 18}, \"text\": \"Torsion barrier in KJ/mol\"}}},                        {\"responsive\": true}                    ).then(function(){\n",
       "                            \n",
       "var gd = document.getElementById('f0b0e921-2936-47b8-888d-d575a6de1dd3');\n",
       "var x = new MutationObserver(function (mutations, observer) {{\n",
       "        var display = window.getComputedStyle(gd).display;\n",
       "        if (!display || display === 'none') {{\n",
       "            console.log([gd, 'removed!']);\n",
       "            Plotly.purge(gd);\n",
       "            observer.disconnect();\n",
       "        }}\n",
       "}});\n",
       "\n",
       "// Listen for the removal of the full notebook cells\n",
       "var notebookContainer = gd.closest('#notebook-container');\n",
       "if (notebookContainer) {{\n",
       "    x.observe(notebookContainer, {childList: true});\n",
       "}}\n",
       "\n",
       "// Listen for the clearing of the current output cell\n",
       "var outputEl = gd.closest('.output');\n",
       "if (outputEl) {{\n",
       "    x.observe(outputEl, {childList: true});\n",
       "}}\n",
       "\n",
       "                        })                };                });            </script>        </div>"
      ]
     },
     "metadata": {},
     "output_type": "display_data"
    },
    {
     "name": "stdout",
     "output_type": "stream",
     "text": [
      "tid:  t96 r_value:  0.29155090208664797 slope:  127.45249942366912 intercept:  -111.41042513421661\n"
     ]
    },
    {
     "data": {
      "application/vnd.plotly.v1+json": {
       "config": {
        "plotlyServerURL": "https://plot.ly"
       },
       "data": [
        {
         "marker": {
          "color": "#ebce2b",
          "size": 10,
          "symbol": 0
         },
         "mode": "markers",
         "name": "Fragment Stability Benchmark.oeb",
         "type": "scatter",
         "x": [],
         "y": []
        },
        {
         "marker": {
          "color": "#702c8c",
          "size": 10,
          "symbol": 1
         },
         "mode": "markers",
         "name": "Fragment Stability Benchmark.oeb",
         "type": "scatter",
         "x": [],
         "y": []
        },
        {
         "marker": {
          "color": "#db6917",
          "size": 10,
          "symbol": 2
         },
         "mode": "markers",
         "name": "Fragment Stability Benchmark.oeb",
         "type": "scatter",
         "x": [],
         "y": []
        },
        {
         "marker": {
          "color": "#96cde6",
          "size": 10,
          "symbol": 3
         },
         "mode": "markers",
         "name": "OpenFF Fragmenter Validation 1.0.oeb",
         "type": "scatter",
         "x": [
          1.0877803654967169
         ],
         "y": [
          15.153396793882166
         ]
        },
        {
         "marker": {
          "color": "#ba1c30",
          "size": 10,
          "symbol": 4
         },
         "mode": "markers",
         "name": "OpenFF Full TorsionDrive Benchmark 1.oeb",
         "type": "scatter",
         "x": [
          1.0255893433346013,
          1.0018922533043044,
          1.015456865873354,
          1.026589834537812,
          1.0305942747231762,
          1.0315059683372945,
          1.0252231790196071
         ],
         "y": [
          9.899880885689356,
          25.266796910312166,
          24.635998954140973,
          8.955803212711146,
          31.795471027343183,
          40.378868615417616,
          13.143348640445481
         ]
        },
        {
         "marker": {
          "color": "#c0bd7f",
          "size": 10,
          "symbol": 5
         },
         "mode": "markers",
         "name": "OpenFF Gen 2 Torsion Set 1 Roche.oeb",
         "type": "scatter",
         "x": [
          1.0530517804693709
         ],
         "y": [
          51.15049736880752
         ]
        },
        {
         "marker": {
          "color": "#7f7e80",
          "size": 10,
          "symbol": 6
         },
         "mode": "markers",
         "name": "OpenFF Gen 2 Torsion Set 1 Roche 2.oeb",
         "type": "scatter",
         "x": [
          1.0530517804693709,
          0.9981278014256811,
          1.0246250741077076
         ],
         "y": [
          51.15049736880752,
          2.412944203486063,
          22.894183431573623
         ]
        },
        {
         "marker": {
          "color": "#5fa641",
          "size": 10,
          "symbol": 7
         },
         "mode": "markers",
         "name": "OpenFF Gen 2 Torsion Set 2 Coverage.oeb",
         "type": "scatter",
         "x": [
          1.028185122827038
         ],
         "y": [
          33.16956082371098
         ]
        },
        {
         "marker": {
          "color": "#d485b2",
          "size": 10,
          "symbol": 8
         },
         "mode": "markers",
         "name": "OpenFF Gen 2 Torsion Set 2 Coverage 2.oeb",
         "type": "scatter",
         "x": [
          1.033897796398162,
          1.0606942981715783
         ],
         "y": [
          61.51360833599077,
          32.653614601140646
         ]
        },
        {
         "marker": {
          "color": "#4277b6",
          "size": 10,
          "symbol": 9
         },
         "mode": "markers",
         "name": "OpenFF Gen 2 Torsion Set 3 Pfizer Discrepancy.oeb",
         "type": "scatter",
         "x": [
          1.0252231790196071
         ],
         "y": [
          13.143348640445481
         ]
        },
        {
         "marker": {
          "color": "#df8461",
          "size": 10,
          "symbol": 10
         },
         "mode": "markers",
         "name": "OpenFF Gen 2 Torsion Set 3 Pfizer Discrepancy 2.oeb",
         "type": "scatter",
         "x": [
          1.0252231790196071,
          1.0315059683372945
         ],
         "y": [
          13.143348640445481,
          40.378868615417616
         ]
        },
        {
         "marker": {
          "color": "#463397",
          "size": 10,
          "symbol": 11
         },
         "mode": "markers",
         "name": "OpenFF Gen 2 Torsion Set 4 eMolecules Discrepancy.oeb",
         "type": "scatter",
         "x": [],
         "y": []
        },
        {
         "marker": {
          "color": "#e1a11a",
          "size": 10,
          "symbol": 12
         },
         "mode": "markers",
         "name": "OpenFF Gen 2 Torsion Set 4 eMolecules Discrepancy 2.oeb",
         "type": "scatter",
         "x": [
          1.0918771229043844,
          1.0199701186508112,
          0.9520854426897545
         ],
         "y": [
          12.775712481622293,
          50.72828548581691,
          4.521245870131935
         ]
        },
        {
         "marker": {
          "color": "#91218c",
          "size": 10,
          "symbol": 13
         },
         "mode": "markers",
         "name": "OpenFF Gen 2 Torsion Set 5 Bayer.oeb",
         "type": "scatter",
         "x": [],
         "y": []
        },
        {
         "marker": {
          "color": "#e8e948",
          "size": 10,
          "symbol": 14
         },
         "mode": "markers",
         "name": "OpenFF Gen 2 Torsion Set 5 Bayer 2.oeb",
         "type": "scatter",
         "x": [
          1.02518741161668,
          1.041516766234648,
          1.0285296460830495,
          1.0276497519743495,
          0.9792285302072199
         ],
         "y": [
          15.066775392574414,
          11.885774990070558,
          28.18569091172742,
          79.18369773250913,
          19.092639354522362
         ]
        },
        {
         "marker": {
          "color": "#7e1510",
          "size": 10,
          "symbol": 15
         },
         "mode": "markers",
         "name": "OpenFF Gen 2 Torsion Set 6 Supplemental.oeb",
         "type": "scatter",
         "x": [],
         "y": []
        },
        {
         "marker": {
          "color": "#92ae31",
          "size": 10,
          "symbol": 16
         },
         "mode": "markers",
         "name": "OpenFF Gen 2 Torsion Set 6 Supplemental 2.oeb",
         "type": "scatter",
         "x": [],
         "y": []
        },
        {
         "marker": {
          "color": "#6f340d",
          "size": 10,
          "symbol": 17
         },
         "mode": "markers",
         "name": "OpenFF Group1 Torsions.oeb",
         "type": "scatter",
         "x": [
          0.9956635455217515,
          1.007295582450643,
          0.9964340488501253,
          1.020103867910167,
          1.0115519586727522,
          0.9929163860965098,
          0.9906386925621299,
          1.005122738925588,
          1.0040752791424696,
          0.9841664583577643,
          0.9964353662071446,
          1.0014231814408796,
          1.0154581161936265,
          1.0319839809048026,
          1.055230230676081,
          0.9981278014256811,
          0.9514080267880843,
          0.996990830632303,
          0.9441305959116649,
          0.9893095784346556,
          0.9559472773257993,
          0.9858781887462836,
          0.9645681536661292,
          1.0461382355082522,
          1.0541154127887498,
          1.0052223737567612,
          1.0530517804693709,
          1.0613160305847777,
          1.0628547270790851,
          1.0497901877988491,
          1.0577937202950374,
          1.0504655150959485,
          0.9965451667300462,
          1.035797663513147,
          1.0445376065741052,
          1.0505214078518905,
          1.026756083903201,
          1.0192934399114182,
          1.016334441269969,
          1.027501968526711,
          1.043729672467359,
          1.043739975783117,
          1.0518261777805533,
          1.0257441676020207,
          1.0596138583620627,
          1.0332848318081191,
          1.0450541962213942,
          1.0246250741077076,
          1.0232306493779342,
          1.0577308934552798,
          1.0233596383255732,
          1.0235497128489874,
          1.0192261725108132,
          1.0419610352624518,
          1.0441548288873634,
          1.0420812039411507,
          1.0252133751469534,
          1.0171115282586707,
          1.013864187761898,
          1.0238095069274313,
          1.056545751006905,
          1.0230410544975015,
          1.056773882944816,
          1.0281306896216573,
          1.0473702650572214,
          1.0675580100087445,
          1.0286192124999354,
          1.06443352835573,
          1.068221795724784
         ],
         "y": [
          5.574226887751422,
          10.463528765266346,
          7.054725307043327,
          15.027143962028163,
          0.7435740363754348,
          0.742533906120741,
          3.721781161550382,
          25.19880445023523,
          25.52486608071945,
          25.822072787841478,
          16.345227664359243,
          14.845941084586116,
          36.642429562971074,
          23.609580042831624,
          18.646910492597556,
          2.4119507298370024,
          33.245504688675936,
          18.067865743773012,
          16.288585005088265,
          4.597636666525091,
          27.141160843741545,
          53.66354738854966,
          37.91851089632382,
          11.913449365633966,
          32.26220183161004,
          7.600306369859709,
          51.15097350443554,
          32.18165648702805,
          15.64136000433038,
          42.75069548001977,
          22.944434601359887,
          28.40753825083459,
          3.1365197883181395,
          8.574961194499451,
          30.678087209545453,
          9.409306191048927,
          25.067894036458057,
          19.6077122041726,
          22.056322647723704,
          29.657428485370417,
          9.171468341364005,
          9.42905995878823,
          12.511769272429348,
          29.01302846691769,
          13.741174313136696,
          11.915574895093187,
          32.07940365682512,
          22.89419213404699,
          8.429803287163452,
          28.26028790660058,
          22.890468172706846,
          12.001094829013823,
          6.5070310775601,
          9.799991538962331,
          7.874466159659278,
          10.75707213032473,
          10.18694367459642,
          19.06004000391175,
          35.75230223434514,
          14.584154906191173,
          25.313548862136543,
          19.56627384325276,
          17.210119179672972,
          21.760716289650418,
          37.12325955325491,
          12.029922868447727,
          18.7849636616358,
          12.607256173676205,
          11.229625308943014
         ]
        },
        {
         "marker": {
          "color": "#d32b1e",
          "size": 10,
          "symbol": 18
         },
         "mode": "markers",
         "name": "OpenFF Group1 Torsions 2.oeb",
         "type": "scatter",
         "x": [],
         "y": []
        },
        {
         "marker": {
          "color": "#2b3514",
          "size": 10,
          "symbol": 19
         },
         "mode": "markers",
         "name": "OpenFF Group1 Torsions 3.oeb",
         "type": "scatter",
         "x": [],
         "y": []
        },
        {
         "marker": {
          "color": "#ebce2b",
          "size": 10,
          "symbol": 20
         },
         "mode": "markers",
         "name": "OpenFF Primary Benchmark 1 Torsion Set.oeb",
         "type": "scatter",
         "x": [
          1.0026146752640546,
          1.0026146752640546,
          0.9973200994513753,
          0.9973200994513753,
          1.0180018146249645
         ],
         "y": [
          2.619198526899936,
          2.611793325751023,
          3.9202250301171944,
          3.920083286255931,
          45.971758403910144
         ]
        },
        {
         "marker": {
          "color": "#702c8c",
          "size": 10,
          "symbol": 21
         },
         "mode": "markers",
         "name": "OpenFF Primary Benchmark 1 Torsion Set.oeb",
         "type": "scatter",
         "x": [
          1.0026146752640546,
          1.0026146752640546,
          0.9973200994513753,
          0.9973200994513753,
          1.0180018146249645
         ],
         "y": [
          2.619198526899936,
          2.611793325751023,
          3.9202250301171944,
          3.920083286255931,
          45.971758403910144
         ]
        },
        {
         "marker": {
          "color": "#db6917",
          "size": 10,
          "symbol": 22
         },
         "mode": "markers",
         "name": "OpenFF Primary TorsionDrive Benchmark 1.oeb",
         "type": "scatter",
         "x": [
          1.0252231790196071,
          1.0305942747231762,
          1.0315059683372945
         ],
         "y": [
          13.143348640445481,
          31.795471027343183,
          40.378868615417616
         ]
        },
        {
         "marker": {
          "color": "#96cde6",
          "size": 10,
          "symbol": 23
         },
         "mode": "markers",
         "name": "OpenFF Rowley Biaryl v1.0.oeb",
         "type": "scatter",
         "x": [],
         "y": []
        },
        {
         "marker": {
          "color": "#ba1c30",
          "size": 10,
          "symbol": 24
         },
         "mode": "markers",
         "name": "OpenFF Substituted Phenyl Set 1.oeb",
         "type": "scatter",
         "x": [
          1.036327960023989,
          0.9989617361229686,
          1.0569941388417217,
          1.0323690498406153,
          0.9965642673715074,
          1.0489735712269708,
          1.089195629306669,
          1.070498999290949,
          1.0820317089758622,
          1.107332229598908,
          1.0576395164396324,
          1.0489240124286043,
          1.0915746699527897,
          1.0262017779922055,
          1.0998854127927786,
          1.0276516917076384,
          1.1026183214422236,
          1.0191989936993207,
          1.0819120877979154,
          1.0787009855518686,
          1.047718493067273,
          1.0143315624596314
         ],
         "y": [
          7.641699688379674,
          3.907828659097902,
          13.102063340885536,
          7.815576511945068,
          4.303142610389159,
          15.844811532709173,
          20.968894320445145,
          15.016164994101814,
          16.33017311314211,
          20.346727787513828,
          20.83713589241887,
          14.73430104227765,
          28.18327924295602,
          13.345545045495555,
          27.970358472433304,
          5.494559663340908,
          20.925515668832816,
          4.323025853070817,
          22.251289691851696,
          17.039514507136346,
          13.384558776091126,
          4.2368484863963545
         ]
        },
        {
         "marker": {
          "color": "#c0bd7f",
          "size": 10,
          "symbol": 25
         },
         "mode": "markers",
         "name": "OpenFF-benchmark-ligand-fragments-v1.0.oeb",
         "type": "scatter",
         "x": [
          1.0704688311023693,
          1.069225288934566,
          1.0419610352624518,
          1.0602663559971202,
          1.0461382355082522,
          1.0702187393276015,
          1.0884643906743254,
          1.0281910310680016,
          1.0275881540712912,
          1.0460663219255752,
          1.0395218667238117,
          1.045645101670643,
          1.0407301678615575,
          1.0402583136319232,
          1.04144210105644,
          1.045516633759555,
          1.0259905856090115,
          1.041014191652895,
          1.0312714056851988,
          1.0398604573685846,
          1.0115519586727522,
          1.039755080848794,
          1.044099529833863,
          1.0251409075753906,
          1.0492363071457567,
          1.0413019060160655,
          1.0797068417989903,
          1.0445376065741052,
          1.0790570817966971,
          1.078916885078584,
          1.0264776127288924,
          1.050899850943651,
          1.0791449023080806,
          1.015912256170168,
          1.0784961944344922,
          1.0720198405394186,
          1.0791108267152951,
          1.0322554675987021,
          1.0931419292973301,
          1.0784145741001478,
          1.0998561074062336,
          1.0513671199973573,
          1.0049122859234936,
          1.0026730641402428,
          0.9998504599713676,
          1.0098693279090873,
          1.0043038180435695,
          1.0063414984893544,
          1.0066931113818476,
          1.0025592190625985,
          1.003711327493484,
          1.004301342869176,
          1.0027929889887803,
          1.0040568087550694,
          1.0020275837319934,
          1.0083699255384888,
          1.0025519627021093
         ],
         "y": [
          29.248264288707105,
          25.929595312432184,
          9.884705198896484,
          34.73484661315956,
          11.886828546768186,
          29.32126030278846,
          23.362991772377654,
          30.69641881321013,
          11.576636587681378,
          11.275288471521833,
          9.750332886711021,
          11.621248797543899,
          15.236949401402512,
          10.30775205891743,
          11.132934825228972,
          10.743257467026297,
          30.53191020737202,
          12.903799744746237,
          32.469341868797756,
          27.97745027290773,
          0.772248583586645,
          11.09621675908113,
          14.843795243684497,
          37.3598957616685,
          20.717922406217326,
          14.19403675087051,
          33.4593953979188,
          30.614616222326333,
          29.520355889319262,
          29.12491205147512,
          16.170070276113847,
          29.550702879954315,
          28.797275927441092,
          39.98310177553867,
          27.53173200808851,
          36.828291284479235,
          24.724391320344978,
          9.0119194156984,
          30.665992692465693,
          27.42109756791092,
          29.891095475120323,
          11.998174393361438,
          8.157740644650403,
          10.399106825347758,
          6.216494117594777,
          13.92453501265993,
          11.283548261793612,
          7.144723116983755,
          14.499428521104107,
          11.039984677133816,
          8.796641356453165,
          10.007514724810676,
          7.117081030460497,
          9.706536463246835,
          6.848409529789478,
          12.577631854123638,
          12.249303659071074
         ]
        },
        {
         "marker": {
          "color": "#7f7e80",
          "size": 10,
          "symbol": 26
         },
         "mode": "markers",
         "name": "Pfizer Discrepancy Torsion Dataset 1.oeb",
         "type": "scatter",
         "x": [
          1.0255893433346013,
          1.0018922533043044,
          1.015456865873354,
          1.026589834537812,
          1.0305942747231762,
          1.0315059683372945,
          1.0252231790196071
         ],
         "y": [
          9.899880885689356,
          25.266796910312166,
          24.635998954140973,
          8.955803212711146,
          31.795471027343183,
          40.378868615417616,
          13.143348640445481
         ]
        },
        {
         "marker": {
          "color": "#5fa641",
          "size": 10,
          "symbol": 27
         },
         "mode": "markers",
         "name": "SMIRNOFF Coverage Torsion Set 1.oeb",
         "type": "scatter",
         "x": [
          1.033897796398162,
          1.1655213317053474,
          1.028185122827038
         ],
         "y": [
          61.51360833599077,
          76.3231374484943,
          33.16956082371098
         ]
        },
        {
         "marker": {
          "color": "#d485b2",
          "size": 10,
          "symbol": 28
         },
         "mode": "markers",
         "name": "TorsionDrive Paper.oeb",
         "type": "scatter",
         "x": [],
         "y": []
        },
        {
         "mode": "lines",
         "showlegend": false,
         "type": "scatter",
         "x": [
          0.9441305959116649,
          0.9514080267880843,
          0.9520854426897545,
          0.9559472773257993,
          0.9645681536661292,
          0.9792285302072199,
          0.9841664583577643,
          0.9858781887462836,
          0.9893095784346556,
          0.9906386925621299,
          0.9929163860965098,
          0.9956635455217515,
          0.9964340488501253,
          0.9964353662071446,
          0.9965451667300462,
          0.9965642673715074,
          0.996990830632303,
          0.9973200994513753,
          0.9981278014256811,
          0.9989617361229686,
          0.9998504599713676,
          1.0014231814408796,
          1.0018922533043044,
          1.0020275837319934,
          1.0025519627021093,
          1.0025592190625985,
          1.0026146752640546,
          1.0026730641402428,
          1.0027929889887803,
          1.003711327493484,
          1.0040568087550694,
          1.0040752791424696,
          1.004301342869176,
          1.0043038180435695,
          1.0049122859234936,
          1.005122738925588,
          1.0052223737567612,
          1.0063414984893544,
          1.0066931113818476,
          1.007295582450643,
          1.0083699255384888,
          1.0098693279090873,
          1.0115519586727522,
          1.013864187761898,
          1.0143315624596314,
          1.015456865873354,
          1.0154581161936265,
          1.015912256170168,
          1.016334441269969,
          1.0171115282586707,
          1.0180018146249645,
          1.0191989936993207,
          1.0192261725108132,
          1.0192934399114182,
          1.0199701186508112,
          1.020103867910167,
          1.0230410544975015,
          1.0232306493779342,
          1.0233596383255732,
          1.0235497128489874,
          1.0238095069274313,
          1.0246250741077076,
          1.0251409075753906,
          1.02518741161668,
          1.0252133751469534,
          1.0252231790196071,
          1.0255893433346013,
          1.0257441676020207,
          1.0259905856090115,
          1.0262017779922055,
          1.0264776127288924,
          1.026589834537812,
          1.026756083903201,
          1.027501968526711,
          1.0275881540712912,
          1.0276497519743495,
          1.0276516917076384,
          1.0281306896216573,
          1.028185122827038,
          1.0281910310680016,
          1.0285296460830495,
          1.0286192124999354,
          1.0305942747231762,
          1.0312714056851988,
          1.0315059683372945,
          1.0319839809048026,
          1.0322554675987021,
          1.0323690498406153,
          1.0332848318081191,
          1.033897796398162,
          1.035797663513147,
          1.036327960023989,
          1.0395218667238117,
          1.039755080848794,
          1.0398604573685846,
          1.0402583136319232,
          1.0407301678615575,
          1.041014191652895,
          1.0413019060160655,
          1.04144210105644,
          1.041516766234648,
          1.0419610352624518,
          1.0420812039411507,
          1.043729672467359,
          1.043739975783117,
          1.044099529833863,
          1.0441548288873634,
          1.0445376065741052,
          1.0450541962213942,
          1.045516633759555,
          1.045645101670643,
          1.0460663219255752,
          1.0461382355082522,
          1.0473702650572214,
          1.047718493067273,
          1.0489240124286043,
          1.0489735712269708,
          1.0492363071457567,
          1.0497901877988491,
          1.0504655150959485,
          1.0505214078518905,
          1.050899850943651,
          1.0513671199973573,
          1.0518261777805533,
          1.0530517804693709,
          1.0541154127887498,
          1.055230230676081,
          1.056545751006905,
          1.056773882944816,
          1.0569941388417217,
          1.0576395164396324,
          1.0577308934552798,
          1.0577937202950374,
          1.0596138583620627,
          1.0602663559971202,
          1.0606942981715783,
          1.0613160305847777,
          1.0628547270790851,
          1.06443352835573,
          1.0675580100087445,
          1.068221795724784,
          1.069225288934566,
          1.0702187393276015,
          1.0704688311023693,
          1.070498999290949,
          1.0720198405394186,
          1.0784145741001478,
          1.0784961944344922,
          1.0787009855518686,
          1.078916885078584,
          1.0790570817966971,
          1.0791108267152951,
          1.0791449023080806,
          1.0797068417989903,
          1.0819120877979154,
          1.0820317089758622,
          1.0877803654967169,
          1.0884643906743254,
          1.089195629306669,
          1.0915746699527897,
          1.0918771229043844,
          1.0931419292973301,
          1.0998561074062336,
          1.0998854127927786,
          1.1026183214422236,
          1.107332229598908,
          1.1655213317053474
         ],
         "y": [
          8.921379097083246,
          9.84890585166589,
          9.935244201483087,
          10.427444678207891,
          11.526196915005315,
          13.394698547659445,
          14.024049832420829,
          14.242214148777066,
          14.679553341056675,
          14.848952258622589,
          15.139249992500439,
          15.48938232756278,
          15.587584902578286,
          15.587752803023022,
          15.601747154104856,
          15.604181578599679,
          15.65854813235039,
          15.700514266323438,
          15.803457901738142,
          15.909744963263549,
          16.02301503903942,
          16.223462321225995,
          16.283246702628816,
          16.30049490388585,
          16.367328314272328,
          16.36825315555339,
          16.375321187037514,
          16.38276299524624,
          16.398047716935352,
          16.515092254676816,
          16.559124704969932,
          16.561478802009418,
          16.59029118900719,
          16.590606656170138,
          16.66815740828548,
          16.69498016941361,
          16.7076788776763,
          16.85031412201215,
          16.89512806399,
          16.97191450753843,
          17.108842219322923,
          17.29994479909746,
          17.514400295533704,
          17.809099672185454,
          17.86866774557896,
          18.012090478267908,
          18.012249834711696,
          18.07013110981012,
          18.12393965599921,
          18.22298133497884,
          18.336450557565797,
          18.489034022850205,
          18.49249803030628,
          18.501071428643144,
          18.58731582528563,
          18.604362502686598,
          18.97871427451605,
          19.002878615905132,
          19.019318579679748,
          19.043544052765668,
          19.0766554573988,
          19.18060153297293,
          19.24634579771549,
          19.252272854011125,
          19.255581970838364,
          19.256831498912106,
          19.303500056057857,
          19.323232795911906,
          19.35463938680587,
          19.381556383903188,
          19.41671221052181,
          19.431015160558445,
          19.452204057704904,
          19.54726891725292,
          19.558253480323856,
          19.566104287027883,
          19.566351510883777,
          19.62740099224422,
          19.63433864032163,
          19.635091660399638,
          19.678248990409855,
          19.689664454106406,
          19.941391070975698,
          20.027693104522626,
          20.057588700803677,
          20.118512597288515,
          20.153114254986264,
          20.16759059560826,
          20.284309296293742,
          20.36243316535291,
          20.604575977730576,
          20.672163593473044,
          21.079234985291464,
          21.10895870842137,
          21.122389209249235,
          21.173096984423097,
          21.233235985353616,
          21.269435527455357,
          21.306105442161538,
          21.32397365046407,
          21.333489914046595,
          21.390113112056696,
          21.40542891050933,
          21.615530344395836,
          21.616843527741537,
          21.662669590186994,
          21.669717592771406,
          21.71850356567026,
          21.784344207393644,
          21.843283027459563,
          21.859656583823465,
          21.913342158122447,
          21.922507723977134,
          22.079532969357075,
          22.123915499607477,
          22.27756195531279,
          22.283878348033028,
          22.317364697570667,
          22.387958171189723,
          22.47403032313406,
          22.481153994578534,
          22.52938751251304,
          22.58894212131125,
          22.647450183159464,
          22.80365630914963,
          22.93921890672226,
          23.08130523286485,
          23.248971587070997,
          23.278047572756122,
          23.306119737329567,
          23.388374725255318,
          23.40002095428946,
          23.40802839204747,
          23.640009537986003,
          23.723171992442104,
          23.777714292185607,
          23.856955642220584,
          24.053066356274485,
          24.254288525076163,
          24.65251152115627,
          24.737112669747205,
          24.86501038748861,
          24.991628123134404,
          25.023502944913872,
          25.027347955951456,
          25.221182974295516,
          26.03620774975886,
          26.04661046537484,
          26.072711605144235,
          26.100228539448494,
          26.118096961583007,
          26.124946885789655,
          26.129289905259498,
          26.20091049790082,
          26.48197461230785,
          26.497220630421197,
          27.229901272332285,
          27.317081990887203,
          27.410280182254553,
          27.713494858833144,
          27.752043243471945,
          27.91324597953991,
          28.76898476109534,
          28.772719805857093,
          29.121035843925398,
          29.721835220548456,
          37.13818172323326
         ]
        }
       ],
       "layout": {
        "annotations": [
         {
          "font": {
           "color": "black",
           "family": "Times",
           "size": 18
          },
          "showarrow": false,
          "text": "slope: 127.45, r_val: 0.29",
          "x": 1,
          "xref": "paper",
          "y": 0.2,
          "yref": "paper"
         }
        ],
        "autosize": false,
        "dragmode": "select",
        "height": 800,
        "hovermode": false,
        "legend": {
         "font": {
          "color": "black",
          "family": "Rockwell",
          "size": 14
         },
         "orientation": "h",
         "y": -0.2
        },
        "margin": {
         "b": 40,
         "l": 40,
         "r": 10,
         "t": 40
        },
        "template": {
         "data": {
          "bar": [
           {
            "error_x": {
             "color": "#2a3f5f"
            },
            "error_y": {
             "color": "#2a3f5f"
            },
            "marker": {
             "line": {
              "color": "#E5ECF6",
              "width": 0.5
             }
            },
            "type": "bar"
           }
          ],
          "barpolar": [
           {
            "marker": {
             "line": {
              "color": "#E5ECF6",
              "width": 0.5
             }
            },
            "type": "barpolar"
           }
          ],
          "carpet": [
           {
            "aaxis": {
             "endlinecolor": "#2a3f5f",
             "gridcolor": "white",
             "linecolor": "white",
             "minorgridcolor": "white",
             "startlinecolor": "#2a3f5f"
            },
            "baxis": {
             "endlinecolor": "#2a3f5f",
             "gridcolor": "white",
             "linecolor": "white",
             "minorgridcolor": "white",
             "startlinecolor": "#2a3f5f"
            },
            "type": "carpet"
           }
          ],
          "choropleth": [
           {
            "colorbar": {
             "outlinewidth": 0,
             "ticks": ""
            },
            "type": "choropleth"
           }
          ],
          "contour": [
           {
            "colorbar": {
             "outlinewidth": 0,
             "ticks": ""
            },
            "colorscale": [
             [
              0,
              "#0d0887"
             ],
             [
              0.1111111111111111,
              "#46039f"
             ],
             [
              0.2222222222222222,
              "#7201a8"
             ],
             [
              0.3333333333333333,
              "#9c179e"
             ],
             [
              0.4444444444444444,
              "#bd3786"
             ],
             [
              0.5555555555555556,
              "#d8576b"
             ],
             [
              0.6666666666666666,
              "#ed7953"
             ],
             [
              0.7777777777777778,
              "#fb9f3a"
             ],
             [
              0.8888888888888888,
              "#fdca26"
             ],
             [
              1,
              "#f0f921"
             ]
            ],
            "type": "contour"
           }
          ],
          "contourcarpet": [
           {
            "colorbar": {
             "outlinewidth": 0,
             "ticks": ""
            },
            "type": "contourcarpet"
           }
          ],
          "heatmap": [
           {
            "colorbar": {
             "outlinewidth": 0,
             "ticks": ""
            },
            "colorscale": [
             [
              0,
              "#0d0887"
             ],
             [
              0.1111111111111111,
              "#46039f"
             ],
             [
              0.2222222222222222,
              "#7201a8"
             ],
             [
              0.3333333333333333,
              "#9c179e"
             ],
             [
              0.4444444444444444,
              "#bd3786"
             ],
             [
              0.5555555555555556,
              "#d8576b"
             ],
             [
              0.6666666666666666,
              "#ed7953"
             ],
             [
              0.7777777777777778,
              "#fb9f3a"
             ],
             [
              0.8888888888888888,
              "#fdca26"
             ],
             [
              1,
              "#f0f921"
             ]
            ],
            "type": "heatmap"
           }
          ],
          "heatmapgl": [
           {
            "colorbar": {
             "outlinewidth": 0,
             "ticks": ""
            },
            "colorscale": [
             [
              0,
              "#0d0887"
             ],
             [
              0.1111111111111111,
              "#46039f"
             ],
             [
              0.2222222222222222,
              "#7201a8"
             ],
             [
              0.3333333333333333,
              "#9c179e"
             ],
             [
              0.4444444444444444,
              "#bd3786"
             ],
             [
              0.5555555555555556,
              "#d8576b"
             ],
             [
              0.6666666666666666,
              "#ed7953"
             ],
             [
              0.7777777777777778,
              "#fb9f3a"
             ],
             [
              0.8888888888888888,
              "#fdca26"
             ],
             [
              1,
              "#f0f921"
             ]
            ],
            "type": "heatmapgl"
           }
          ],
          "histogram": [
           {
            "marker": {
             "colorbar": {
              "outlinewidth": 0,
              "ticks": ""
             }
            },
            "type": "histogram"
           }
          ],
          "histogram2d": [
           {
            "colorbar": {
             "outlinewidth": 0,
             "ticks": ""
            },
            "colorscale": [
             [
              0,
              "#0d0887"
             ],
             [
              0.1111111111111111,
              "#46039f"
             ],
             [
              0.2222222222222222,
              "#7201a8"
             ],
             [
              0.3333333333333333,
              "#9c179e"
             ],
             [
              0.4444444444444444,
              "#bd3786"
             ],
             [
              0.5555555555555556,
              "#d8576b"
             ],
             [
              0.6666666666666666,
              "#ed7953"
             ],
             [
              0.7777777777777778,
              "#fb9f3a"
             ],
             [
              0.8888888888888888,
              "#fdca26"
             ],
             [
              1,
              "#f0f921"
             ]
            ],
            "type": "histogram2d"
           }
          ],
          "histogram2dcontour": [
           {
            "colorbar": {
             "outlinewidth": 0,
             "ticks": ""
            },
            "colorscale": [
             [
              0,
              "#0d0887"
             ],
             [
              0.1111111111111111,
              "#46039f"
             ],
             [
              0.2222222222222222,
              "#7201a8"
             ],
             [
              0.3333333333333333,
              "#9c179e"
             ],
             [
              0.4444444444444444,
              "#bd3786"
             ],
             [
              0.5555555555555556,
              "#d8576b"
             ],
             [
              0.6666666666666666,
              "#ed7953"
             ],
             [
              0.7777777777777778,
              "#fb9f3a"
             ],
             [
              0.8888888888888888,
              "#fdca26"
             ],
             [
              1,
              "#f0f921"
             ]
            ],
            "type": "histogram2dcontour"
           }
          ],
          "mesh3d": [
           {
            "colorbar": {
             "outlinewidth": 0,
             "ticks": ""
            },
            "type": "mesh3d"
           }
          ],
          "parcoords": [
           {
            "line": {
             "colorbar": {
              "outlinewidth": 0,
              "ticks": ""
             }
            },
            "type": "parcoords"
           }
          ],
          "pie": [
           {
            "automargin": true,
            "type": "pie"
           }
          ],
          "scatter": [
           {
            "marker": {
             "colorbar": {
              "outlinewidth": 0,
              "ticks": ""
             }
            },
            "type": "scatter"
           }
          ],
          "scatter3d": [
           {
            "line": {
             "colorbar": {
              "outlinewidth": 0,
              "ticks": ""
             }
            },
            "marker": {
             "colorbar": {
              "outlinewidth": 0,
              "ticks": ""
             }
            },
            "type": "scatter3d"
           }
          ],
          "scattercarpet": [
           {
            "marker": {
             "colorbar": {
              "outlinewidth": 0,
              "ticks": ""
             }
            },
            "type": "scattercarpet"
           }
          ],
          "scattergeo": [
           {
            "marker": {
             "colorbar": {
              "outlinewidth": 0,
              "ticks": ""
             }
            },
            "type": "scattergeo"
           }
          ],
          "scattergl": [
           {
            "marker": {
             "colorbar": {
              "outlinewidth": 0,
              "ticks": ""
             }
            },
            "type": "scattergl"
           }
          ],
          "scattermapbox": [
           {
            "marker": {
             "colorbar": {
              "outlinewidth": 0,
              "ticks": ""
             }
            },
            "type": "scattermapbox"
           }
          ],
          "scatterpolar": [
           {
            "marker": {
             "colorbar": {
              "outlinewidth": 0,
              "ticks": ""
             }
            },
            "type": "scatterpolar"
           }
          ],
          "scatterpolargl": [
           {
            "marker": {
             "colorbar": {
              "outlinewidth": 0,
              "ticks": ""
             }
            },
            "type": "scatterpolargl"
           }
          ],
          "scatterternary": [
           {
            "marker": {
             "colorbar": {
              "outlinewidth": 0,
              "ticks": ""
             }
            },
            "type": "scatterternary"
           }
          ],
          "surface": [
           {
            "colorbar": {
             "outlinewidth": 0,
             "ticks": ""
            },
            "colorscale": [
             [
              0,
              "#0d0887"
             ],
             [
              0.1111111111111111,
              "#46039f"
             ],
             [
              0.2222222222222222,
              "#7201a8"
             ],
             [
              0.3333333333333333,
              "#9c179e"
             ],
             [
              0.4444444444444444,
              "#bd3786"
             ],
             [
              0.5555555555555556,
              "#d8576b"
             ],
             [
              0.6666666666666666,
              "#ed7953"
             ],
             [
              0.7777777777777778,
              "#fb9f3a"
             ],
             [
              0.8888888888888888,
              "#fdca26"
             ],
             [
              1,
              "#f0f921"
             ]
            ],
            "type": "surface"
           }
          ],
          "table": [
           {
            "cells": {
             "fill": {
              "color": "#EBF0F8"
             },
             "line": {
              "color": "white"
             }
            },
            "header": {
             "fill": {
              "color": "#C8D4E3"
             },
             "line": {
              "color": "white"
             }
            },
            "type": "table"
           }
          ]
         },
         "layout": {
          "annotationdefaults": {
           "arrowcolor": "#2a3f5f",
           "arrowhead": 0,
           "arrowwidth": 1
          },
          "coloraxis": {
           "colorbar": {
            "outlinewidth": 0,
            "ticks": ""
           }
          },
          "colorscale": {
           "diverging": [
            [
             0,
             "#8e0152"
            ],
            [
             0.1,
             "#c51b7d"
            ],
            [
             0.2,
             "#de77ae"
            ],
            [
             0.3,
             "#f1b6da"
            ],
            [
             0.4,
             "#fde0ef"
            ],
            [
             0.5,
             "#f7f7f7"
            ],
            [
             0.6,
             "#e6f5d0"
            ],
            [
             0.7,
             "#b8e186"
            ],
            [
             0.8,
             "#7fbc41"
            ],
            [
             0.9,
             "#4d9221"
            ],
            [
             1,
             "#276419"
            ]
           ],
           "sequential": [
            [
             0,
             "#0d0887"
            ],
            [
             0.1111111111111111,
             "#46039f"
            ],
            [
             0.2222222222222222,
             "#7201a8"
            ],
            [
             0.3333333333333333,
             "#9c179e"
            ],
            [
             0.4444444444444444,
             "#bd3786"
            ],
            [
             0.5555555555555556,
             "#d8576b"
            ],
            [
             0.6666666666666666,
             "#ed7953"
            ],
            [
             0.7777777777777778,
             "#fb9f3a"
            ],
            [
             0.8888888888888888,
             "#fdca26"
            ],
            [
             1,
             "#f0f921"
            ]
           ],
           "sequentialminus": [
            [
             0,
             "#0d0887"
            ],
            [
             0.1111111111111111,
             "#46039f"
            ],
            [
             0.2222222222222222,
             "#7201a8"
            ],
            [
             0.3333333333333333,
             "#9c179e"
            ],
            [
             0.4444444444444444,
             "#bd3786"
            ],
            [
             0.5555555555555556,
             "#d8576b"
            ],
            [
             0.6666666666666666,
             "#ed7953"
            ],
            [
             0.7777777777777778,
             "#fb9f3a"
            ],
            [
             0.8888888888888888,
             "#fdca26"
            ],
            [
             1,
             "#f0f921"
            ]
           ]
          },
          "colorway": [
           "#636efa",
           "#EF553B",
           "#00cc96",
           "#ab63fa",
           "#FFA15A",
           "#19d3f3",
           "#FF6692",
           "#B6E880",
           "#FF97FF",
           "#FECB52"
          ],
          "font": {
           "color": "#2a3f5f"
          },
          "geo": {
           "bgcolor": "white",
           "lakecolor": "white",
           "landcolor": "#E5ECF6",
           "showlakes": true,
           "showland": true,
           "subunitcolor": "white"
          },
          "hoverlabel": {
           "align": "left"
          },
          "hovermode": "closest",
          "mapbox": {
           "style": "light"
          },
          "paper_bgcolor": "white",
          "plot_bgcolor": "#E5ECF6",
          "polar": {
           "angularaxis": {
            "gridcolor": "white",
            "linecolor": "white",
            "ticks": ""
           },
           "bgcolor": "#E5ECF6",
           "radialaxis": {
            "gridcolor": "white",
            "linecolor": "white",
            "ticks": ""
           }
          },
          "scene": {
           "xaxis": {
            "backgroundcolor": "#E5ECF6",
            "gridcolor": "white",
            "gridwidth": 2,
            "linecolor": "white",
            "showbackground": true,
            "ticks": "",
            "zerolinecolor": "white"
           },
           "yaxis": {
            "backgroundcolor": "#E5ECF6",
            "gridcolor": "white",
            "gridwidth": 2,
            "linecolor": "white",
            "showbackground": true,
            "ticks": "",
            "zerolinecolor": "white"
           },
           "zaxis": {
            "backgroundcolor": "#E5ECF6",
            "gridcolor": "white",
            "gridwidth": 2,
            "linecolor": "white",
            "showbackground": true,
            "ticks": "",
            "zerolinecolor": "white"
           }
          },
          "shapedefaults": {
           "line": {
            "color": "#2a3f5f"
           }
          },
          "ternary": {
           "aaxis": {
            "gridcolor": "white",
            "linecolor": "white",
            "ticks": ""
           },
           "baxis": {
            "gridcolor": "white",
            "linecolor": "white",
            "ticks": ""
           },
           "bgcolor": "#E5ECF6",
           "caxis": {
            "gridcolor": "white",
            "linecolor": "white",
            "ticks": ""
           }
          },
          "title": {
           "x": 0.05
          },
          "xaxis": {
           "automargin": true,
           "gridcolor": "white",
           "linecolor": "white",
           "ticks": "",
           "title": {
            "standoff": 15
           },
           "zerolinecolor": "white",
           "zerolinewidth": 2
          },
          "yaxis": {
           "automargin": true,
           "gridcolor": "white",
           "linecolor": "white",
           "ticks": "",
           "title": {
            "standoff": 15
           },
           "zerolinecolor": "white",
           "zerolinewidth": 2
          }
         }
        },
        "title": {
         "text": "t96",
         "x": 0.5,
         "xanchor": "center",
         "yanchor": "top"
        },
        "width": 900,
        "xaxis": {
         "gridcolor": "black",
         "gridwidth": 1,
         "linecolor": "black",
         "linewidth": 2,
         "mirror": true,
         "showgrid": false,
         "showline": true,
         "tickcolor": "black",
         "tickfont": {
          "color": "black",
          "family": "Rockwell",
          "size": 14
         },
         "ticklen": 10,
         "ticks": "outside",
         "tickwidth": 2,
         "title": {
          "font": {
           "color": "black",
           "family": "Rockwell",
           "size": 18
          },
          "text": "Wiberg Bond Order"
         }
        },
        "yaxis": {
         "gridcolor": "black",
         "gridwidth": 1,
         "linecolor": "black",
         "linewidth": 2,
         "mirror": true,
         "showgrid": false,
         "showline": true,
         "tickcolor": "black",
         "tickfont": {
          "color": "black",
          "family": "Rockwell",
          "size": 14
         },
         "ticklen": 10,
         "ticks": "outside",
         "tickwidth": 2,
         "title": {
          "font": {
           "color": "black",
           "family": "Rockwell",
           "size": 18
          },
          "text": "Torsion barrier in KJ/mol"
         }
        }
       }
      },
      "text/html": [
       "<div>                            <div id=\"b3ae6dd8-015d-46a4-83ab-36026af5a152\" class=\"plotly-graph-div\" style=\"height:800px; width:900px;\"></div>            <script type=\"text/javascript\">                require([\"plotly\"], function(Plotly) {                    window.PLOTLYENV=window.PLOTLYENV || {};                                    if (document.getElementById(\"b3ae6dd8-015d-46a4-83ab-36026af5a152\")) {                    Plotly.newPlot(                        \"b3ae6dd8-015d-46a4-83ab-36026af5a152\",                        [{\"marker\": {\"color\": \"#ebce2b\", \"size\": 10, \"symbol\": 0}, \"mode\": \"markers\", \"name\": \"Fragment Stability Benchmark.oeb\", \"type\": \"scatter\", \"x\": [], \"y\": []}, {\"marker\": {\"color\": \"#702c8c\", \"size\": 10, \"symbol\": 1}, \"mode\": \"markers\", \"name\": \"Fragment Stability Benchmark.oeb\", \"type\": \"scatter\", \"x\": [], \"y\": []}, {\"marker\": {\"color\": \"#db6917\", \"size\": 10, \"symbol\": 2}, \"mode\": \"markers\", \"name\": \"Fragment Stability Benchmark.oeb\", \"type\": \"scatter\", \"x\": [], \"y\": []}, {\"marker\": {\"color\": \"#96cde6\", \"size\": 10, \"symbol\": 3}, \"mode\": \"markers\", \"name\": \"OpenFF Fragmenter Validation 1.0.oeb\", \"type\": \"scatter\", \"x\": [1.0877803654967169], \"y\": [15.153396793882166]}, {\"marker\": {\"color\": \"#ba1c30\", \"size\": 10, \"symbol\": 4}, \"mode\": \"markers\", \"name\": \"OpenFF Full TorsionDrive Benchmark 1.oeb\", \"type\": \"scatter\", \"x\": [1.0255893433346013, 1.0018922533043044, 1.015456865873354, 1.026589834537812, 1.0305942747231762, 1.0315059683372945, 1.0252231790196071], \"y\": [9.899880885689356, 25.266796910312166, 24.635998954140973, 8.955803212711146, 31.795471027343183, 40.378868615417616, 13.143348640445481]}, {\"marker\": {\"color\": \"#c0bd7f\", \"size\": 10, \"symbol\": 5}, \"mode\": \"markers\", \"name\": \"OpenFF Gen 2 Torsion Set 1 Roche.oeb\", \"type\": \"scatter\", \"x\": [1.0530517804693709], \"y\": [51.15049736880752]}, {\"marker\": {\"color\": \"#7f7e80\", \"size\": 10, \"symbol\": 6}, \"mode\": \"markers\", \"name\": \"OpenFF Gen 2 Torsion Set 1 Roche 2.oeb\", \"type\": \"scatter\", \"x\": [1.0530517804693709, 0.9981278014256811, 1.0246250741077076], \"y\": [51.15049736880752, 2.412944203486063, 22.894183431573623]}, {\"marker\": {\"color\": \"#5fa641\", \"size\": 10, \"symbol\": 7}, \"mode\": \"markers\", \"name\": \"OpenFF Gen 2 Torsion Set 2 Coverage.oeb\", \"type\": \"scatter\", \"x\": [1.028185122827038], \"y\": [33.16956082371098]}, {\"marker\": {\"color\": \"#d485b2\", \"size\": 10, \"symbol\": 8}, \"mode\": \"markers\", \"name\": \"OpenFF Gen 2 Torsion Set 2 Coverage 2.oeb\", \"type\": \"scatter\", \"x\": [1.033897796398162, 1.0606942981715783], \"y\": [61.51360833599077, 32.653614601140646]}, {\"marker\": {\"color\": \"#4277b6\", \"size\": 10, \"symbol\": 9}, \"mode\": \"markers\", \"name\": \"OpenFF Gen 2 Torsion Set 3 Pfizer Discrepancy.oeb\", \"type\": \"scatter\", \"x\": [1.0252231790196071], \"y\": [13.143348640445481]}, {\"marker\": {\"color\": \"#df8461\", \"size\": 10, \"symbol\": 10}, \"mode\": \"markers\", \"name\": \"OpenFF Gen 2 Torsion Set 3 Pfizer Discrepancy 2.oeb\", \"type\": \"scatter\", \"x\": [1.0252231790196071, 1.0315059683372945], \"y\": [13.143348640445481, 40.378868615417616]}, {\"marker\": {\"color\": \"#463397\", \"size\": 10, \"symbol\": 11}, \"mode\": \"markers\", \"name\": \"OpenFF Gen 2 Torsion Set 4 eMolecules Discrepancy.oeb\", \"type\": \"scatter\", \"x\": [], \"y\": []}, {\"marker\": {\"color\": \"#e1a11a\", \"size\": 10, \"symbol\": 12}, \"mode\": \"markers\", \"name\": \"OpenFF Gen 2 Torsion Set 4 eMolecules Discrepancy 2.oeb\", \"type\": \"scatter\", \"x\": [1.0918771229043844, 1.0199701186508112, 0.9520854426897545], \"y\": [12.775712481622293, 50.72828548581691, 4.521245870131935]}, {\"marker\": {\"color\": \"#91218c\", \"size\": 10, \"symbol\": 13}, \"mode\": \"markers\", \"name\": \"OpenFF Gen 2 Torsion Set 5 Bayer.oeb\", \"type\": \"scatter\", \"x\": [], \"y\": []}, {\"marker\": {\"color\": \"#e8e948\", \"size\": 10, \"symbol\": 14}, \"mode\": \"markers\", \"name\": \"OpenFF Gen 2 Torsion Set 5 Bayer 2.oeb\", \"type\": \"scatter\", \"x\": [1.02518741161668, 1.041516766234648, 1.0285296460830495, 1.0276497519743495, 0.9792285302072199], \"y\": [15.066775392574414, 11.885774990070558, 28.18569091172742, 79.18369773250913, 19.092639354522362]}, {\"marker\": {\"color\": \"#7e1510\", \"size\": 10, \"symbol\": 15}, \"mode\": \"markers\", \"name\": \"OpenFF Gen 2 Torsion Set 6 Supplemental.oeb\", \"type\": \"scatter\", \"x\": [], \"y\": []}, {\"marker\": {\"color\": \"#92ae31\", \"size\": 10, \"symbol\": 16}, \"mode\": \"markers\", \"name\": \"OpenFF Gen 2 Torsion Set 6 Supplemental 2.oeb\", \"type\": \"scatter\", \"x\": [], \"y\": []}, {\"marker\": {\"color\": \"#6f340d\", \"size\": 10, \"symbol\": 17}, \"mode\": \"markers\", \"name\": \"OpenFF Group1 Torsions.oeb\", \"type\": \"scatter\", \"x\": [0.9956635455217515, 1.007295582450643, 0.9964340488501253, 1.020103867910167, 1.0115519586727522, 0.9929163860965098, 0.9906386925621299, 1.005122738925588, 1.0040752791424696, 0.9841664583577643, 0.9964353662071446, 1.0014231814408796, 1.0154581161936265, 1.0319839809048026, 1.055230230676081, 0.9981278014256811, 0.9514080267880843, 0.996990830632303, 0.9441305959116649, 0.9893095784346556, 0.9559472773257993, 0.9858781887462836, 0.9645681536661292, 1.0461382355082522, 1.0541154127887498, 1.0052223737567612, 1.0530517804693709, 1.0613160305847777, 1.0628547270790851, 1.0497901877988491, 1.0577937202950374, 1.0504655150959485, 0.9965451667300462, 1.035797663513147, 1.0445376065741052, 1.0505214078518905, 1.026756083903201, 1.0192934399114182, 1.016334441269969, 1.027501968526711, 1.043729672467359, 1.043739975783117, 1.0518261777805533, 1.0257441676020207, 1.0596138583620627, 1.0332848318081191, 1.0450541962213942, 1.0246250741077076, 1.0232306493779342, 1.0577308934552798, 1.0233596383255732, 1.0235497128489874, 1.0192261725108132, 1.0419610352624518, 1.0441548288873634, 1.0420812039411507, 1.0252133751469534, 1.0171115282586707, 1.013864187761898, 1.0238095069274313, 1.056545751006905, 1.0230410544975015, 1.056773882944816, 1.0281306896216573, 1.0473702650572214, 1.0675580100087445, 1.0286192124999354, 1.06443352835573, 1.068221795724784], \"y\": [5.574226887751422, 10.463528765266346, 7.054725307043327, 15.027143962028163, 0.7435740363754348, 0.742533906120741, 3.721781161550382, 25.19880445023523, 25.52486608071945, 25.822072787841478, 16.345227664359243, 14.845941084586116, 36.642429562971074, 23.609580042831624, 18.646910492597556, 2.4119507298370024, 33.245504688675936, 18.067865743773012, 16.288585005088265, 4.597636666525091, 27.141160843741545, 53.66354738854966, 37.91851089632382, 11.913449365633966, 32.26220183161004, 7.600306369859709, 51.15097350443554, 32.18165648702805, 15.64136000433038, 42.75069548001977, 22.944434601359887, 28.40753825083459, 3.1365197883181395, 8.574961194499451, 30.678087209545453, 9.409306191048927, 25.067894036458057, 19.6077122041726, 22.056322647723704, 29.657428485370417, 9.171468341364005, 9.42905995878823, 12.511769272429348, 29.01302846691769, 13.741174313136696, 11.915574895093187, 32.07940365682512, 22.89419213404699, 8.429803287163452, 28.26028790660058, 22.890468172706846, 12.001094829013823, 6.5070310775601, 9.799991538962331, 7.874466159659278, 10.75707213032473, 10.18694367459642, 19.06004000391175, 35.75230223434514, 14.584154906191173, 25.313548862136543, 19.56627384325276, 17.210119179672972, 21.760716289650418, 37.12325955325491, 12.029922868447727, 18.7849636616358, 12.607256173676205, 11.229625308943014]}, {\"marker\": {\"color\": \"#d32b1e\", \"size\": 10, \"symbol\": 18}, \"mode\": \"markers\", \"name\": \"OpenFF Group1 Torsions 2.oeb\", \"type\": \"scatter\", \"x\": [], \"y\": []}, {\"marker\": {\"color\": \"#2b3514\", \"size\": 10, \"symbol\": 19}, \"mode\": \"markers\", \"name\": \"OpenFF Group1 Torsions 3.oeb\", \"type\": \"scatter\", \"x\": [], \"y\": []}, {\"marker\": {\"color\": \"#ebce2b\", \"size\": 10, \"symbol\": 20}, \"mode\": \"markers\", \"name\": \"OpenFF Primary Benchmark 1 Torsion Set.oeb\", \"type\": \"scatter\", \"x\": [1.0026146752640546, 1.0026146752640546, 0.9973200994513753, 0.9973200994513753, 1.0180018146249645], \"y\": [2.619198526899936, 2.611793325751023, 3.9202250301171944, 3.920083286255931, 45.971758403910144]}, {\"marker\": {\"color\": \"#702c8c\", \"size\": 10, \"symbol\": 21}, \"mode\": \"markers\", \"name\": \"OpenFF Primary Benchmark 1 Torsion Set.oeb\", \"type\": \"scatter\", \"x\": [1.0026146752640546, 1.0026146752640546, 0.9973200994513753, 0.9973200994513753, 1.0180018146249645], \"y\": [2.619198526899936, 2.611793325751023, 3.9202250301171944, 3.920083286255931, 45.971758403910144]}, {\"marker\": {\"color\": \"#db6917\", \"size\": 10, \"symbol\": 22}, \"mode\": \"markers\", \"name\": \"OpenFF Primary TorsionDrive Benchmark 1.oeb\", \"type\": \"scatter\", \"x\": [1.0252231790196071, 1.0305942747231762, 1.0315059683372945], \"y\": [13.143348640445481, 31.795471027343183, 40.378868615417616]}, {\"marker\": {\"color\": \"#96cde6\", \"size\": 10, \"symbol\": 23}, \"mode\": \"markers\", \"name\": \"OpenFF Rowley Biaryl v1.0.oeb\", \"type\": \"scatter\", \"x\": [], \"y\": []}, {\"marker\": {\"color\": \"#ba1c30\", \"size\": 10, \"symbol\": 24}, \"mode\": \"markers\", \"name\": \"OpenFF Substituted Phenyl Set 1.oeb\", \"type\": \"scatter\", \"x\": [1.036327960023989, 0.9989617361229686, 1.0569941388417217, 1.0323690498406153, 0.9965642673715074, 1.0489735712269708, 1.089195629306669, 1.070498999290949, 1.0820317089758622, 1.107332229598908, 1.0576395164396324, 1.0489240124286043, 1.0915746699527897, 1.0262017779922055, 1.0998854127927786, 1.0276516917076384, 1.1026183214422236, 1.0191989936993207, 1.0819120877979154, 1.0787009855518686, 1.047718493067273, 1.0143315624596314], \"y\": [7.641699688379674, 3.907828659097902, 13.102063340885536, 7.815576511945068, 4.303142610389159, 15.844811532709173, 20.968894320445145, 15.016164994101814, 16.33017311314211, 20.346727787513828, 20.83713589241887, 14.73430104227765, 28.18327924295602, 13.345545045495555, 27.970358472433304, 5.494559663340908, 20.925515668832816, 4.323025853070817, 22.251289691851696, 17.039514507136346, 13.384558776091126, 4.2368484863963545]}, {\"marker\": {\"color\": \"#c0bd7f\", \"size\": 10, \"symbol\": 25}, \"mode\": \"markers\", \"name\": \"OpenFF-benchmark-ligand-fragments-v1.0.oeb\", \"type\": \"scatter\", \"x\": [1.0704688311023693, 1.069225288934566, 1.0419610352624518, 1.0602663559971202, 1.0461382355082522, 1.0702187393276015, 1.0884643906743254, 1.0281910310680016, 1.0275881540712912, 1.0460663219255752, 1.0395218667238117, 1.045645101670643, 1.0407301678615575, 1.0402583136319232, 1.04144210105644, 1.045516633759555, 1.0259905856090115, 1.041014191652895, 1.0312714056851988, 1.0398604573685846, 1.0115519586727522, 1.039755080848794, 1.044099529833863, 1.0251409075753906, 1.0492363071457567, 1.0413019060160655, 1.0797068417989903, 1.0445376065741052, 1.0790570817966971, 1.078916885078584, 1.0264776127288924, 1.050899850943651, 1.0791449023080806, 1.015912256170168, 1.0784961944344922, 1.0720198405394186, 1.0791108267152951, 1.0322554675987021, 1.0931419292973301, 1.0784145741001478, 1.0998561074062336, 1.0513671199973573, 1.0049122859234936, 1.0026730641402428, 0.9998504599713676, 1.0098693279090873, 1.0043038180435695, 1.0063414984893544, 1.0066931113818476, 1.0025592190625985, 1.003711327493484, 1.004301342869176, 1.0027929889887803, 1.0040568087550694, 1.0020275837319934, 1.0083699255384888, 1.0025519627021093], \"y\": [29.248264288707105, 25.929595312432184, 9.884705198896484, 34.73484661315956, 11.886828546768186, 29.32126030278846, 23.362991772377654, 30.69641881321013, 11.576636587681378, 11.275288471521833, 9.750332886711021, 11.621248797543899, 15.236949401402512, 10.30775205891743, 11.132934825228972, 10.743257467026297, 30.53191020737202, 12.903799744746237, 32.469341868797756, 27.97745027290773, 0.772248583586645, 11.09621675908113, 14.843795243684497, 37.3598957616685, 20.717922406217326, 14.19403675087051, 33.4593953979188, 30.614616222326333, 29.520355889319262, 29.12491205147512, 16.170070276113847, 29.550702879954315, 28.797275927441092, 39.98310177553867, 27.53173200808851, 36.828291284479235, 24.724391320344978, 9.0119194156984, 30.665992692465693, 27.42109756791092, 29.891095475120323, 11.998174393361438, 8.157740644650403, 10.399106825347758, 6.216494117594777, 13.92453501265993, 11.283548261793612, 7.144723116983755, 14.499428521104107, 11.039984677133816, 8.796641356453165, 10.007514724810676, 7.117081030460497, 9.706536463246835, 6.848409529789478, 12.577631854123638, 12.249303659071074]}, {\"marker\": {\"color\": \"#7f7e80\", \"size\": 10, \"symbol\": 26}, \"mode\": \"markers\", \"name\": \"Pfizer Discrepancy Torsion Dataset 1.oeb\", \"type\": \"scatter\", \"x\": [1.0255893433346013, 1.0018922533043044, 1.015456865873354, 1.026589834537812, 1.0305942747231762, 1.0315059683372945, 1.0252231790196071], \"y\": [9.899880885689356, 25.266796910312166, 24.635998954140973, 8.955803212711146, 31.795471027343183, 40.378868615417616, 13.143348640445481]}, {\"marker\": {\"color\": \"#5fa641\", \"size\": 10, \"symbol\": 27}, \"mode\": \"markers\", \"name\": \"SMIRNOFF Coverage Torsion Set 1.oeb\", \"type\": \"scatter\", \"x\": [1.033897796398162, 1.1655213317053474, 1.028185122827038], \"y\": [61.51360833599077, 76.3231374484943, 33.16956082371098]}, {\"marker\": {\"color\": \"#d485b2\", \"size\": 10, \"symbol\": 28}, \"mode\": \"markers\", \"name\": \"TorsionDrive Paper.oeb\", \"type\": \"scatter\", \"x\": [], \"y\": []}, {\"mode\": \"lines\", \"showlegend\": false, \"type\": \"scatter\", \"x\": [0.9441305959116649, 0.9514080267880843, 0.9520854426897545, 0.9559472773257993, 0.9645681536661292, 0.9792285302072199, 0.9841664583577643, 0.9858781887462836, 0.9893095784346556, 0.9906386925621299, 0.9929163860965098, 0.9956635455217515, 0.9964340488501253, 0.9964353662071446, 0.9965451667300462, 0.9965642673715074, 0.996990830632303, 0.9973200994513753, 0.9981278014256811, 0.9989617361229686, 0.9998504599713676, 1.0014231814408796, 1.0018922533043044, 1.0020275837319934, 1.0025519627021093, 1.0025592190625985, 1.0026146752640546, 1.0026730641402428, 1.0027929889887803, 1.003711327493484, 1.0040568087550694, 1.0040752791424696, 1.004301342869176, 1.0043038180435695, 1.0049122859234936, 1.005122738925588, 1.0052223737567612, 1.0063414984893544, 1.0066931113818476, 1.007295582450643, 1.0083699255384888, 1.0098693279090873, 1.0115519586727522, 1.013864187761898, 1.0143315624596314, 1.015456865873354, 1.0154581161936265, 1.015912256170168, 1.016334441269969, 1.0171115282586707, 1.0180018146249645, 1.0191989936993207, 1.0192261725108132, 1.0192934399114182, 1.0199701186508112, 1.020103867910167, 1.0230410544975015, 1.0232306493779342, 1.0233596383255732, 1.0235497128489874, 1.0238095069274313, 1.0246250741077076, 1.0251409075753906, 1.02518741161668, 1.0252133751469534, 1.0252231790196071, 1.0255893433346013, 1.0257441676020207, 1.0259905856090115, 1.0262017779922055, 1.0264776127288924, 1.026589834537812, 1.026756083903201, 1.027501968526711, 1.0275881540712912, 1.0276497519743495, 1.0276516917076384, 1.0281306896216573, 1.028185122827038, 1.0281910310680016, 1.0285296460830495, 1.0286192124999354, 1.0305942747231762, 1.0312714056851988, 1.0315059683372945, 1.0319839809048026, 1.0322554675987021, 1.0323690498406153, 1.0332848318081191, 1.033897796398162, 1.035797663513147, 1.036327960023989, 1.0395218667238117, 1.039755080848794, 1.0398604573685846, 1.0402583136319232, 1.0407301678615575, 1.041014191652895, 1.0413019060160655, 1.04144210105644, 1.041516766234648, 1.0419610352624518, 1.0420812039411507, 1.043729672467359, 1.043739975783117, 1.044099529833863, 1.0441548288873634, 1.0445376065741052, 1.0450541962213942, 1.045516633759555, 1.045645101670643, 1.0460663219255752, 1.0461382355082522, 1.0473702650572214, 1.047718493067273, 1.0489240124286043, 1.0489735712269708, 1.0492363071457567, 1.0497901877988491, 1.0504655150959485, 1.0505214078518905, 1.050899850943651, 1.0513671199973573, 1.0518261777805533, 1.0530517804693709, 1.0541154127887498, 1.055230230676081, 1.056545751006905, 1.056773882944816, 1.0569941388417217, 1.0576395164396324, 1.0577308934552798, 1.0577937202950374, 1.0596138583620627, 1.0602663559971202, 1.0606942981715783, 1.0613160305847777, 1.0628547270790851, 1.06443352835573, 1.0675580100087445, 1.068221795724784, 1.069225288934566, 1.0702187393276015, 1.0704688311023693, 1.070498999290949, 1.0720198405394186, 1.0784145741001478, 1.0784961944344922, 1.0787009855518686, 1.078916885078584, 1.0790570817966971, 1.0791108267152951, 1.0791449023080806, 1.0797068417989903, 1.0819120877979154, 1.0820317089758622, 1.0877803654967169, 1.0884643906743254, 1.089195629306669, 1.0915746699527897, 1.0918771229043844, 1.0931419292973301, 1.0998561074062336, 1.0998854127927786, 1.1026183214422236, 1.107332229598908, 1.1655213317053474], \"y\": [8.921379097083246, 9.84890585166589, 9.935244201483087, 10.427444678207891, 11.526196915005315, 13.394698547659445, 14.024049832420829, 14.242214148777066, 14.679553341056675, 14.848952258622589, 15.139249992500439, 15.48938232756278, 15.587584902578286, 15.587752803023022, 15.601747154104856, 15.604181578599679, 15.65854813235039, 15.700514266323438, 15.803457901738142, 15.909744963263549, 16.02301503903942, 16.223462321225995, 16.283246702628816, 16.30049490388585, 16.367328314272328, 16.36825315555339, 16.375321187037514, 16.38276299524624, 16.398047716935352, 16.515092254676816, 16.559124704969932, 16.561478802009418, 16.59029118900719, 16.590606656170138, 16.66815740828548, 16.69498016941361, 16.7076788776763, 16.85031412201215, 16.89512806399, 16.97191450753843, 17.108842219322923, 17.29994479909746, 17.514400295533704, 17.809099672185454, 17.86866774557896, 18.012090478267908, 18.012249834711696, 18.07013110981012, 18.12393965599921, 18.22298133497884, 18.336450557565797, 18.489034022850205, 18.49249803030628, 18.501071428643144, 18.58731582528563, 18.604362502686598, 18.97871427451605, 19.002878615905132, 19.019318579679748, 19.043544052765668, 19.0766554573988, 19.18060153297293, 19.24634579771549, 19.252272854011125, 19.255581970838364, 19.256831498912106, 19.303500056057857, 19.323232795911906, 19.35463938680587, 19.381556383903188, 19.41671221052181, 19.431015160558445, 19.452204057704904, 19.54726891725292, 19.558253480323856, 19.566104287027883, 19.566351510883777, 19.62740099224422, 19.63433864032163, 19.635091660399638, 19.678248990409855, 19.689664454106406, 19.941391070975698, 20.027693104522626, 20.057588700803677, 20.118512597288515, 20.153114254986264, 20.16759059560826, 20.284309296293742, 20.36243316535291, 20.604575977730576, 20.672163593473044, 21.079234985291464, 21.10895870842137, 21.122389209249235, 21.173096984423097, 21.233235985353616, 21.269435527455357, 21.306105442161538, 21.32397365046407, 21.333489914046595, 21.390113112056696, 21.40542891050933, 21.615530344395836, 21.616843527741537, 21.662669590186994, 21.669717592771406, 21.71850356567026, 21.784344207393644, 21.843283027459563, 21.859656583823465, 21.913342158122447, 21.922507723977134, 22.079532969357075, 22.123915499607477, 22.27756195531279, 22.283878348033028, 22.317364697570667, 22.387958171189723, 22.47403032313406, 22.481153994578534, 22.52938751251304, 22.58894212131125, 22.647450183159464, 22.80365630914963, 22.93921890672226, 23.08130523286485, 23.248971587070997, 23.278047572756122, 23.306119737329567, 23.388374725255318, 23.40002095428946, 23.40802839204747, 23.640009537986003, 23.723171992442104, 23.777714292185607, 23.856955642220584, 24.053066356274485, 24.254288525076163, 24.65251152115627, 24.737112669747205, 24.86501038748861, 24.991628123134404, 25.023502944913872, 25.027347955951456, 25.221182974295516, 26.03620774975886, 26.04661046537484, 26.072711605144235, 26.100228539448494, 26.118096961583007, 26.124946885789655, 26.129289905259498, 26.20091049790082, 26.48197461230785, 26.497220630421197, 27.229901272332285, 27.317081990887203, 27.410280182254553, 27.713494858833144, 27.752043243471945, 27.91324597953991, 28.76898476109534, 28.772719805857093, 29.121035843925398, 29.721835220548456, 37.13818172323326]}],                        {\"annotations\": [{\"font\": {\"color\": \"black\", \"family\": \"Times\", \"size\": 18}, \"showarrow\": false, \"text\": \"slope: 127.45, r_val: 0.29\", \"x\": 1, \"xref\": \"paper\", \"y\": 0.2, \"yref\": \"paper\"}], \"autosize\": false, \"dragmode\": \"select\", \"height\": 800, \"hovermode\": false, \"legend\": {\"font\": {\"color\": \"black\", \"family\": \"Rockwell\", \"size\": 14}, \"orientation\": \"h\", \"y\": -0.2}, \"margin\": {\"b\": 40, \"l\": 40, \"r\": 10, \"t\": 40}, \"template\": {\"data\": {\"bar\": [{\"error_x\": {\"color\": \"#2a3f5f\"}, \"error_y\": {\"color\": \"#2a3f5f\"}, \"marker\": {\"line\": {\"color\": \"#E5ECF6\", \"width\": 0.5}}, \"type\": \"bar\"}], \"barpolar\": [{\"marker\": {\"line\": {\"color\": \"#E5ECF6\", \"width\": 0.5}}, \"type\": \"barpolar\"}], \"carpet\": [{\"aaxis\": {\"endlinecolor\": \"#2a3f5f\", \"gridcolor\": \"white\", \"linecolor\": \"white\", \"minorgridcolor\": \"white\", \"startlinecolor\": \"#2a3f5f\"}, \"baxis\": {\"endlinecolor\": \"#2a3f5f\", \"gridcolor\": \"white\", \"linecolor\": \"white\", \"minorgridcolor\": \"white\", \"startlinecolor\": \"#2a3f5f\"}, \"type\": \"carpet\"}], \"choropleth\": [{\"colorbar\": {\"outlinewidth\": 0, \"ticks\": \"\"}, \"type\": \"choropleth\"}], \"contour\": [{\"colorbar\": {\"outlinewidth\": 0, \"ticks\": \"\"}, \"colorscale\": [[0.0, \"#0d0887\"], [0.1111111111111111, \"#46039f\"], [0.2222222222222222, \"#7201a8\"], [0.3333333333333333, \"#9c179e\"], [0.4444444444444444, \"#bd3786\"], [0.5555555555555556, \"#d8576b\"], [0.6666666666666666, \"#ed7953\"], [0.7777777777777778, \"#fb9f3a\"], [0.8888888888888888, \"#fdca26\"], [1.0, \"#f0f921\"]], \"type\": \"contour\"}], \"contourcarpet\": [{\"colorbar\": {\"outlinewidth\": 0, \"ticks\": \"\"}, \"type\": \"contourcarpet\"}], \"heatmap\": [{\"colorbar\": {\"outlinewidth\": 0, \"ticks\": \"\"}, \"colorscale\": [[0.0, \"#0d0887\"], [0.1111111111111111, \"#46039f\"], [0.2222222222222222, \"#7201a8\"], [0.3333333333333333, \"#9c179e\"], [0.4444444444444444, \"#bd3786\"], [0.5555555555555556, \"#d8576b\"], [0.6666666666666666, \"#ed7953\"], [0.7777777777777778, \"#fb9f3a\"], [0.8888888888888888, \"#fdca26\"], [1.0, \"#f0f921\"]], \"type\": \"heatmap\"}], \"heatmapgl\": [{\"colorbar\": {\"outlinewidth\": 0, \"ticks\": \"\"}, \"colorscale\": [[0.0, \"#0d0887\"], [0.1111111111111111, \"#46039f\"], [0.2222222222222222, \"#7201a8\"], [0.3333333333333333, \"#9c179e\"], [0.4444444444444444, \"#bd3786\"], [0.5555555555555556, \"#d8576b\"], [0.6666666666666666, \"#ed7953\"], [0.7777777777777778, \"#fb9f3a\"], [0.8888888888888888, \"#fdca26\"], [1.0, \"#f0f921\"]], \"type\": \"heatmapgl\"}], \"histogram\": [{\"marker\": {\"colorbar\": {\"outlinewidth\": 0, \"ticks\": \"\"}}, \"type\": \"histogram\"}], \"histogram2d\": [{\"colorbar\": {\"outlinewidth\": 0, \"ticks\": \"\"}, \"colorscale\": [[0.0, \"#0d0887\"], [0.1111111111111111, \"#46039f\"], [0.2222222222222222, \"#7201a8\"], [0.3333333333333333, \"#9c179e\"], [0.4444444444444444, \"#bd3786\"], [0.5555555555555556, \"#d8576b\"], [0.6666666666666666, \"#ed7953\"], [0.7777777777777778, \"#fb9f3a\"], [0.8888888888888888, \"#fdca26\"], [1.0, \"#f0f921\"]], \"type\": \"histogram2d\"}], \"histogram2dcontour\": [{\"colorbar\": {\"outlinewidth\": 0, \"ticks\": \"\"}, \"colorscale\": [[0.0, \"#0d0887\"], [0.1111111111111111, \"#46039f\"], [0.2222222222222222, \"#7201a8\"], [0.3333333333333333, \"#9c179e\"], [0.4444444444444444, \"#bd3786\"], [0.5555555555555556, \"#d8576b\"], [0.6666666666666666, \"#ed7953\"], [0.7777777777777778, \"#fb9f3a\"], [0.8888888888888888, \"#fdca26\"], [1.0, \"#f0f921\"]], \"type\": \"histogram2dcontour\"}], \"mesh3d\": [{\"colorbar\": {\"outlinewidth\": 0, \"ticks\": \"\"}, \"type\": \"mesh3d\"}], \"parcoords\": [{\"line\": {\"colorbar\": {\"outlinewidth\": 0, \"ticks\": \"\"}}, \"type\": \"parcoords\"}], \"pie\": [{\"automargin\": true, \"type\": \"pie\"}], \"scatter\": [{\"marker\": {\"colorbar\": {\"outlinewidth\": 0, \"ticks\": \"\"}}, \"type\": \"scatter\"}], \"scatter3d\": [{\"line\": {\"colorbar\": {\"outlinewidth\": 0, \"ticks\": \"\"}}, \"marker\": {\"colorbar\": {\"outlinewidth\": 0, \"ticks\": \"\"}}, \"type\": \"scatter3d\"}], \"scattercarpet\": [{\"marker\": {\"colorbar\": {\"outlinewidth\": 0, \"ticks\": \"\"}}, \"type\": \"scattercarpet\"}], \"scattergeo\": [{\"marker\": {\"colorbar\": {\"outlinewidth\": 0, \"ticks\": \"\"}}, \"type\": \"scattergeo\"}], \"scattergl\": [{\"marker\": {\"colorbar\": {\"outlinewidth\": 0, \"ticks\": \"\"}}, \"type\": \"scattergl\"}], \"scattermapbox\": [{\"marker\": {\"colorbar\": {\"outlinewidth\": 0, \"ticks\": \"\"}}, \"type\": \"scattermapbox\"}], \"scatterpolar\": [{\"marker\": {\"colorbar\": {\"outlinewidth\": 0, \"ticks\": \"\"}}, \"type\": \"scatterpolar\"}], \"scatterpolargl\": [{\"marker\": {\"colorbar\": {\"outlinewidth\": 0, \"ticks\": \"\"}}, \"type\": \"scatterpolargl\"}], \"scatterternary\": [{\"marker\": {\"colorbar\": {\"outlinewidth\": 0, \"ticks\": \"\"}}, \"type\": \"scatterternary\"}], \"surface\": [{\"colorbar\": {\"outlinewidth\": 0, \"ticks\": \"\"}, \"colorscale\": [[0.0, \"#0d0887\"], [0.1111111111111111, \"#46039f\"], [0.2222222222222222, \"#7201a8\"], [0.3333333333333333, \"#9c179e\"], [0.4444444444444444, \"#bd3786\"], [0.5555555555555556, \"#d8576b\"], [0.6666666666666666, \"#ed7953\"], [0.7777777777777778, \"#fb9f3a\"], [0.8888888888888888, \"#fdca26\"], [1.0, \"#f0f921\"]], \"type\": \"surface\"}], \"table\": [{\"cells\": {\"fill\": {\"color\": \"#EBF0F8\"}, \"line\": {\"color\": \"white\"}}, \"header\": {\"fill\": {\"color\": \"#C8D4E3\"}, \"line\": {\"color\": \"white\"}}, \"type\": \"table\"}]}, \"layout\": {\"annotationdefaults\": {\"arrowcolor\": \"#2a3f5f\", \"arrowhead\": 0, \"arrowwidth\": 1}, \"coloraxis\": {\"colorbar\": {\"outlinewidth\": 0, \"ticks\": \"\"}}, \"colorscale\": {\"diverging\": [[0, \"#8e0152\"], [0.1, \"#c51b7d\"], [0.2, \"#de77ae\"], [0.3, \"#f1b6da\"], [0.4, \"#fde0ef\"], [0.5, \"#f7f7f7\"], [0.6, \"#e6f5d0\"], [0.7, \"#b8e186\"], [0.8, \"#7fbc41\"], [0.9, \"#4d9221\"], [1, \"#276419\"]], \"sequential\": [[0.0, \"#0d0887\"], [0.1111111111111111, \"#46039f\"], [0.2222222222222222, \"#7201a8\"], [0.3333333333333333, \"#9c179e\"], [0.4444444444444444, \"#bd3786\"], [0.5555555555555556, \"#d8576b\"], [0.6666666666666666, \"#ed7953\"], [0.7777777777777778, \"#fb9f3a\"], [0.8888888888888888, \"#fdca26\"], [1.0, \"#f0f921\"]], \"sequentialminus\": [[0.0, \"#0d0887\"], [0.1111111111111111, \"#46039f\"], [0.2222222222222222, \"#7201a8\"], [0.3333333333333333, \"#9c179e\"], [0.4444444444444444, \"#bd3786\"], [0.5555555555555556, \"#d8576b\"], [0.6666666666666666, \"#ed7953\"], [0.7777777777777778, \"#fb9f3a\"], [0.8888888888888888, \"#fdca26\"], [1.0, \"#f0f921\"]]}, \"colorway\": [\"#636efa\", \"#EF553B\", \"#00cc96\", \"#ab63fa\", \"#FFA15A\", \"#19d3f3\", \"#FF6692\", \"#B6E880\", \"#FF97FF\", \"#FECB52\"], \"font\": {\"color\": \"#2a3f5f\"}, \"geo\": {\"bgcolor\": \"white\", \"lakecolor\": \"white\", \"landcolor\": \"#E5ECF6\", \"showlakes\": true, \"showland\": true, \"subunitcolor\": \"white\"}, \"hoverlabel\": {\"align\": \"left\"}, \"hovermode\": \"closest\", \"mapbox\": {\"style\": \"light\"}, \"paper_bgcolor\": \"white\", \"plot_bgcolor\": \"#E5ECF6\", \"polar\": {\"angularaxis\": {\"gridcolor\": \"white\", \"linecolor\": \"white\", \"ticks\": \"\"}, \"bgcolor\": \"#E5ECF6\", \"radialaxis\": {\"gridcolor\": \"white\", \"linecolor\": \"white\", \"ticks\": \"\"}}, \"scene\": {\"xaxis\": {\"backgroundcolor\": \"#E5ECF6\", \"gridcolor\": \"white\", \"gridwidth\": 2, \"linecolor\": \"white\", \"showbackground\": true, \"ticks\": \"\", \"zerolinecolor\": \"white\"}, \"yaxis\": {\"backgroundcolor\": \"#E5ECF6\", \"gridcolor\": \"white\", \"gridwidth\": 2, \"linecolor\": \"white\", \"showbackground\": true, \"ticks\": \"\", \"zerolinecolor\": \"white\"}, \"zaxis\": {\"backgroundcolor\": \"#E5ECF6\", \"gridcolor\": \"white\", \"gridwidth\": 2, \"linecolor\": \"white\", \"showbackground\": true, \"ticks\": \"\", \"zerolinecolor\": \"white\"}}, \"shapedefaults\": {\"line\": {\"color\": \"#2a3f5f\"}}, \"ternary\": {\"aaxis\": {\"gridcolor\": \"white\", \"linecolor\": \"white\", \"ticks\": \"\"}, \"baxis\": {\"gridcolor\": \"white\", \"linecolor\": \"white\", \"ticks\": \"\"}, \"bgcolor\": \"#E5ECF6\", \"caxis\": {\"gridcolor\": \"white\", \"linecolor\": \"white\", \"ticks\": \"\"}}, \"title\": {\"x\": 0.05}, \"xaxis\": {\"automargin\": true, \"gridcolor\": \"white\", \"linecolor\": \"white\", \"ticks\": \"\", \"title\": {\"standoff\": 15}, \"zerolinecolor\": \"white\", \"zerolinewidth\": 2}, \"yaxis\": {\"automargin\": true, \"gridcolor\": \"white\", \"linecolor\": \"white\", \"ticks\": \"\", \"title\": {\"standoff\": 15}, \"zerolinecolor\": \"white\", \"zerolinewidth\": 2}}}, \"title\": {\"text\": \"t96\", \"x\": 0.5, \"xanchor\": \"center\", \"yanchor\": \"top\"}, \"width\": 900, \"xaxis\": {\"gridcolor\": \"black\", \"gridwidth\": 1, \"linecolor\": \"black\", \"linewidth\": 2, \"mirror\": true, \"showgrid\": false, \"showline\": true, \"tickcolor\": \"black\", \"tickfont\": {\"color\": \"black\", \"family\": \"Rockwell\", \"size\": 14}, \"ticklen\": 10, \"ticks\": \"outside\", \"tickwidth\": 2, \"title\": {\"font\": {\"color\": \"black\", \"family\": \"Rockwell\", \"size\": 18}, \"text\": \"Wiberg Bond Order\"}}, \"yaxis\": {\"gridcolor\": \"black\", \"gridwidth\": 1, \"linecolor\": \"black\", \"linewidth\": 2, \"mirror\": true, \"showgrid\": false, \"showline\": true, \"tickcolor\": \"black\", \"tickfont\": {\"color\": \"black\", \"family\": \"Rockwell\", \"size\": 14}, \"ticklen\": 10, \"ticks\": \"outside\", \"tickwidth\": 2, \"title\": {\"font\": {\"color\": \"black\", \"family\": \"Rockwell\", \"size\": 18}, \"text\": \"Torsion barrier in KJ/mol\"}}},                        {\"responsive\": true}                    ).then(function(){\n",
       "                            \n",
       "var gd = document.getElementById('b3ae6dd8-015d-46a4-83ab-36026af5a152');\n",
       "var x = new MutationObserver(function (mutations, observer) {{\n",
       "        var display = window.getComputedStyle(gd).display;\n",
       "        if (!display || display === 'none') {{\n",
       "            console.log([gd, 'removed!']);\n",
       "            Plotly.purge(gd);\n",
       "            observer.disconnect();\n",
       "        }}\n",
       "}});\n",
       "\n",
       "// Listen for the removal of the full notebook cells\n",
       "var notebookContainer = gd.closest('#notebook-container');\n",
       "if (notebookContainer) {{\n",
       "    x.observe(notebookContainer, {childList: true});\n",
       "}}\n",
       "\n",
       "// Listen for the clearing of the current output cell\n",
       "var outputEl = gd.closest('.output');\n",
       "if (outputEl) {{\n",
       "    x.observe(outputEl, {childList: true});\n",
       "}}\n",
       "\n",
       "                        })                };                });            </script>        </div>"
      ]
     },
     "metadata": {},
     "output_type": "display_data"
    },
    {
     "name": "stdout",
     "output_type": "stream",
     "text": [
      "tid:  t97 r_value:  0.16836260981545084 slope:  129.25082559817088 intercept:  -115.28389791295297\n"
     ]
    },
    {
     "data": {
      "application/vnd.plotly.v1+json": {
       "config": {
        "plotlyServerURL": "https://plot.ly"
       },
       "data": [
        {
         "marker": {
          "color": "#ebce2b",
          "size": 10,
          "symbol": 0
         },
         "mode": "markers",
         "name": "Fragment Stability Benchmark.oeb",
         "type": "scatter",
         "x": [],
         "y": []
        },
        {
         "marker": {
          "color": "#702c8c",
          "size": 10,
          "symbol": 1
         },
         "mode": "markers",
         "name": "Fragment Stability Benchmark.oeb",
         "type": "scatter",
         "x": [],
         "y": []
        },
        {
         "marker": {
          "color": "#db6917",
          "size": 10,
          "symbol": 2
         },
         "mode": "markers",
         "name": "Fragment Stability Benchmark.oeb",
         "type": "scatter",
         "x": [],
         "y": []
        },
        {
         "marker": {
          "color": "#96cde6",
          "size": 10,
          "symbol": 3
         },
         "mode": "markers",
         "name": "OpenFF Fragmenter Validation 1.0.oeb",
         "type": "scatter",
         "x": [],
         "y": []
        },
        {
         "marker": {
          "color": "#ba1c30",
          "size": 10,
          "symbol": 4
         },
         "mode": "markers",
         "name": "OpenFF Full TorsionDrive Benchmark 1.oeb",
         "type": "scatter",
         "x": [],
         "y": []
        },
        {
         "marker": {
          "color": "#c0bd7f",
          "size": 10,
          "symbol": 5
         },
         "mode": "markers",
         "name": "OpenFF Gen 2 Torsion Set 1 Roche.oeb",
         "type": "scatter",
         "x": [
          1.0730460490798537
         ],
         "y": [
          24.14124908974361
         ]
        },
        {
         "marker": {
          "color": "#7f7e80",
          "size": 10,
          "symbol": 6
         },
         "mode": "markers",
         "name": "OpenFF Gen 2 Torsion Set 1 Roche 2.oeb",
         "type": "scatter",
         "x": [
          1.0730460490798537,
          1.0735460970777388
         ],
         "y": [
          24.14124908974361,
          28.21154498450005
         ]
        },
        {
         "marker": {
          "color": "#5fa641",
          "size": 10,
          "symbol": 7
         },
         "mode": "markers",
         "name": "OpenFF Gen 2 Torsion Set 2 Coverage.oeb",
         "type": "scatter",
         "x": [
          1.0701022730521381
         ],
         "y": [
          4.816651611203497
         ]
        },
        {
         "marker": {
          "color": "#d485b2",
          "size": 10,
          "symbol": 8
         },
         "mode": "markers",
         "name": "OpenFF Gen 2 Torsion Set 2 Coverage 2.oeb",
         "type": "scatter",
         "x": [
          1.0713376352544133,
          1.0701022730521381
         ],
         "y": [
          21.04339928768104,
          4.816651611203497
         ]
        },
        {
         "marker": {
          "color": "#4277b6",
          "size": 10,
          "symbol": 9
         },
         "mode": "markers",
         "name": "OpenFF Gen 2 Torsion Set 3 Pfizer Discrepancy.oeb",
         "type": "scatter",
         "x": [
          1.0941860699268926
         ],
         "y": [
          63.55716767720094
         ]
        },
        {
         "marker": {
          "color": "#df8461",
          "size": 10,
          "symbol": 10
         },
         "mode": "markers",
         "name": "OpenFF Gen 2 Torsion Set 3 Pfizer Discrepancy 2.oeb",
         "type": "scatter",
         "x": [
          1.0759221169939694,
          1.0848982733769337
         ],
         "y": [
          14.059615807154785,
          68.45149742150056
         ]
        },
        {
         "marker": {
          "color": "#463397",
          "size": 10,
          "symbol": 11
         },
         "mode": "markers",
         "name": "OpenFF Gen 2 Torsion Set 4 eMolecules Discrepancy.oeb",
         "type": "scatter",
         "x": [],
         "y": []
        },
        {
         "marker": {
          "color": "#e1a11a",
          "size": 10,
          "symbol": 12
         },
         "mode": "markers",
         "name": "OpenFF Gen 2 Torsion Set 4 eMolecules Discrepancy 2.oeb",
         "type": "scatter",
         "x": [
          1.0618455286772774,
          1.0868980862221496,
          1.084731826892022
         ],
         "y": [
          15.892974211118656,
          42.451313174853226,
          21.735522964902202
         ]
        },
        {
         "marker": {
          "color": "#91218c",
          "size": 10,
          "symbol": 13
         },
         "mode": "markers",
         "name": "OpenFF Gen 2 Torsion Set 5 Bayer.oeb",
         "type": "scatter",
         "x": [
          1.084174951355472
         ],
         "y": [
          32.86055455546517
         ]
        },
        {
         "marker": {
          "color": "#e8e948",
          "size": 10,
          "symbol": 14
         },
         "mode": "markers",
         "name": "OpenFF Gen 2 Torsion Set 5 Bayer 2.oeb",
         "type": "scatter",
         "x": [
          1.0849264302351396,
          1.070576662036767,
          1.0726684824106387,
          1.0994186892095292,
          1.0796808337204664
         ],
         "y": [
          28.627326385146603,
          16.553429704916482,
          15.955694226867422,
          40.71803654628479,
          41.65285377812609
         ]
        },
        {
         "marker": {
          "color": "#7e1510",
          "size": 10,
          "symbol": 15
         },
         "mode": "markers",
         "name": "OpenFF Gen 2 Torsion Set 6 Supplemental.oeb",
         "type": "scatter",
         "x": [],
         "y": []
        },
        {
         "marker": {
          "color": "#92ae31",
          "size": 10,
          "symbol": 16
         },
         "mode": "markers",
         "name": "OpenFF Gen 2 Torsion Set 6 Supplemental 2.oeb",
         "type": "scatter",
         "x": [],
         "y": []
        },
        {
         "marker": {
          "color": "#6f340d",
          "size": 10,
          "symbol": 17
         },
         "mode": "markers",
         "name": "OpenFF Group1 Torsions.oeb",
         "type": "scatter",
         "x": [],
         "y": []
        },
        {
         "marker": {
          "color": "#d32b1e",
          "size": 10,
          "symbol": 18
         },
         "mode": "markers",
         "name": "OpenFF Group1 Torsions 2.oeb",
         "type": "scatter",
         "x": [],
         "y": []
        },
        {
         "marker": {
          "color": "#2b3514",
          "size": 10,
          "symbol": 19
         },
         "mode": "markers",
         "name": "OpenFF Group1 Torsions 3.oeb",
         "type": "scatter",
         "x": [],
         "y": []
        },
        {
         "marker": {
          "color": "#ebce2b",
          "size": 10,
          "symbol": 20
         },
         "mode": "markers",
         "name": "OpenFF Primary Benchmark 1 Torsion Set.oeb",
         "type": "scatter",
         "x": [
          1.0513170227870403,
          1.0513170227870403,
          1.0587320596219636,
          1.0587320596219636,
          1.0812781644182148
         ],
         "y": [
          19.542529963939955,
          19.8485031064356,
          13.73090736337059,
          13.776845376119013,
          20.394830354369446
         ]
        },
        {
         "marker": {
          "color": "#702c8c",
          "size": 10,
          "symbol": 21
         },
         "mode": "markers",
         "name": "OpenFF Primary Benchmark 1 Torsion Set.oeb",
         "type": "scatter",
         "x": [
          1.0513170227870403,
          1.0513170227870403,
          1.0587320596219636,
          1.0587320596219636,
          1.0812781644182148
         ],
         "y": [
          19.542529963939955,
          19.8485031064356,
          13.73090736337059,
          13.776845376119013,
          20.394830354369446
         ]
        },
        {
         "marker": {
          "color": "#db6917",
          "size": 10,
          "symbol": 22
         },
         "mode": "markers",
         "name": "OpenFF Primary TorsionDrive Benchmark 1.oeb",
         "type": "scatter",
         "x": [],
         "y": []
        },
        {
         "marker": {
          "color": "#96cde6",
          "size": 10,
          "symbol": 23
         },
         "mode": "markers",
         "name": "OpenFF Rowley Biaryl v1.0.oeb",
         "type": "scatter",
         "x": [],
         "y": []
        },
        {
         "marker": {
          "color": "#ba1c30",
          "size": 10,
          "symbol": 24
         },
         "mode": "markers",
         "name": "OpenFF Substituted Phenyl Set 1.oeb",
         "type": "scatter",
         "x": [
          1.092852411854914,
          1.064136941908001,
          1.08148986899595,
          1.0719673562840522,
          1.1039371634713073,
          1.0508346700857,
          1.117239711377068,
          1.0989416186262666,
          1.1162467813274837
         ],
         "y": [
          20.148315481922907,
          15.238993765981519,
          21.03340786340638,
          17.51155893096228,
          23.169276153501045,
          9.98629538107005,
          20.863022899257288,
          22.607590410420016,
          28.156339578008442
         ]
        },
        {
         "marker": {
          "color": "#c0bd7f",
          "size": 10,
          "symbol": 25
         },
         "mode": "markers",
         "name": "OpenFF-benchmark-ligand-fragments-v1.0.oeb",
         "type": "scatter",
         "x": [],
         "y": []
        },
        {
         "marker": {
          "color": "#7f7e80",
          "size": 10,
          "symbol": 26
         },
         "mode": "markers",
         "name": "Pfizer Discrepancy Torsion Dataset 1.oeb",
         "type": "scatter",
         "x": [],
         "y": []
        },
        {
         "marker": {
          "color": "#5fa641",
          "size": 10,
          "symbol": 27
         },
         "mode": "markers",
         "name": "SMIRNOFF Coverage Torsion Set 1.oeb",
         "type": "scatter",
         "x": [
          1.0713376352544133,
          1.0713376352544133,
          1.0701022730521381,
          1.0701022730521381,
          1.0137670302470212
         ],
         "y": [
          20.972303763285254,
          21.04339928768104,
          4.816651611203497,
          4.865486980013941,
          52.161711303011316
         ]
        },
        {
         "marker": {
          "color": "#d485b2",
          "size": 10,
          "symbol": 28
         },
         "mode": "markers",
         "name": "TorsionDrive Paper.oeb",
         "type": "scatter",
         "x": [],
         "y": []
        },
        {
         "mode": "lines",
         "showlegend": false,
         "type": "scatter",
         "x": [
          1.0137670302470212,
          1.0508346700857,
          1.0513170227870403,
          1.0587320596219636,
          1.0618455286772774,
          1.064136941908001,
          1.0701022730521381,
          1.070576662036767,
          1.0713376352544133,
          1.0719673562840522,
          1.0726684824106387,
          1.0730460490798537,
          1.0735460970777388,
          1.0759221169939694,
          1.0796808337204664,
          1.0812781644182148,
          1.08148986899595,
          1.084174951355472,
          1.084731826892022,
          1.0848982733769337,
          1.0849264302351396,
          1.0868980862221496,
          1.092852411854914,
          1.0941860699268926,
          1.0989416186262666,
          1.0994186892095292,
          1.1039371634713073,
          1.1162467813274837,
          1.117239711377068
         ],
         "y": [
          15.74632771068039,
          20.53735076280529,
          20.59969524768303,
          21.558094880437693,
          21.96051332631137,
          22.256680378168966,
          23.027704353515162,
          23.08901952143313,
          23.187375938071995,
          23.268767901049358,
          23.35938903175912,
          23.408189835473507,
          23.472821452038886,
          23.779923987849372,
          24.265741227938776,
          24.472197539376054,
          24.499560530831246,
          24.846609642598537,
          24.918586265453058,
          24.94009961104581,
          24.943738908215153,
          25.198577072331773,
          25.96817857624694,
          26.140554983115834,
          26.75521357868223,
          26.816875345437523,
          27.400891874216427,
          28.991920144925217,
          29.120257173595206
         ]
        }
       ],
       "layout": {
        "annotations": [
         {
          "font": {
           "color": "black",
           "family": "Times",
           "size": 18
          },
          "showarrow": false,
          "text": "slope: 129.25, r_val: 0.17",
          "x": 1,
          "xref": "paper",
          "y": 0.2,
          "yref": "paper"
         }
        ],
        "autosize": false,
        "dragmode": "select",
        "height": 800,
        "hovermode": false,
        "legend": {
         "font": {
          "color": "black",
          "family": "Rockwell",
          "size": 14
         },
         "orientation": "h",
         "y": -0.2
        },
        "margin": {
         "b": 40,
         "l": 40,
         "r": 10,
         "t": 40
        },
        "template": {
         "data": {
          "bar": [
           {
            "error_x": {
             "color": "#2a3f5f"
            },
            "error_y": {
             "color": "#2a3f5f"
            },
            "marker": {
             "line": {
              "color": "#E5ECF6",
              "width": 0.5
             }
            },
            "type": "bar"
           }
          ],
          "barpolar": [
           {
            "marker": {
             "line": {
              "color": "#E5ECF6",
              "width": 0.5
             }
            },
            "type": "barpolar"
           }
          ],
          "carpet": [
           {
            "aaxis": {
             "endlinecolor": "#2a3f5f",
             "gridcolor": "white",
             "linecolor": "white",
             "minorgridcolor": "white",
             "startlinecolor": "#2a3f5f"
            },
            "baxis": {
             "endlinecolor": "#2a3f5f",
             "gridcolor": "white",
             "linecolor": "white",
             "minorgridcolor": "white",
             "startlinecolor": "#2a3f5f"
            },
            "type": "carpet"
           }
          ],
          "choropleth": [
           {
            "colorbar": {
             "outlinewidth": 0,
             "ticks": ""
            },
            "type": "choropleth"
           }
          ],
          "contour": [
           {
            "colorbar": {
             "outlinewidth": 0,
             "ticks": ""
            },
            "colorscale": [
             [
              0,
              "#0d0887"
             ],
             [
              0.1111111111111111,
              "#46039f"
             ],
             [
              0.2222222222222222,
              "#7201a8"
             ],
             [
              0.3333333333333333,
              "#9c179e"
             ],
             [
              0.4444444444444444,
              "#bd3786"
             ],
             [
              0.5555555555555556,
              "#d8576b"
             ],
             [
              0.6666666666666666,
              "#ed7953"
             ],
             [
              0.7777777777777778,
              "#fb9f3a"
             ],
             [
              0.8888888888888888,
              "#fdca26"
             ],
             [
              1,
              "#f0f921"
             ]
            ],
            "type": "contour"
           }
          ],
          "contourcarpet": [
           {
            "colorbar": {
             "outlinewidth": 0,
             "ticks": ""
            },
            "type": "contourcarpet"
           }
          ],
          "heatmap": [
           {
            "colorbar": {
             "outlinewidth": 0,
             "ticks": ""
            },
            "colorscale": [
             [
              0,
              "#0d0887"
             ],
             [
              0.1111111111111111,
              "#46039f"
             ],
             [
              0.2222222222222222,
              "#7201a8"
             ],
             [
              0.3333333333333333,
              "#9c179e"
             ],
             [
              0.4444444444444444,
              "#bd3786"
             ],
             [
              0.5555555555555556,
              "#d8576b"
             ],
             [
              0.6666666666666666,
              "#ed7953"
             ],
             [
              0.7777777777777778,
              "#fb9f3a"
             ],
             [
              0.8888888888888888,
              "#fdca26"
             ],
             [
              1,
              "#f0f921"
             ]
            ],
            "type": "heatmap"
           }
          ],
          "heatmapgl": [
           {
            "colorbar": {
             "outlinewidth": 0,
             "ticks": ""
            },
            "colorscale": [
             [
              0,
              "#0d0887"
             ],
             [
              0.1111111111111111,
              "#46039f"
             ],
             [
              0.2222222222222222,
              "#7201a8"
             ],
             [
              0.3333333333333333,
              "#9c179e"
             ],
             [
              0.4444444444444444,
              "#bd3786"
             ],
             [
              0.5555555555555556,
              "#d8576b"
             ],
             [
              0.6666666666666666,
              "#ed7953"
             ],
             [
              0.7777777777777778,
              "#fb9f3a"
             ],
             [
              0.8888888888888888,
              "#fdca26"
             ],
             [
              1,
              "#f0f921"
             ]
            ],
            "type": "heatmapgl"
           }
          ],
          "histogram": [
           {
            "marker": {
             "colorbar": {
              "outlinewidth": 0,
              "ticks": ""
             }
            },
            "type": "histogram"
           }
          ],
          "histogram2d": [
           {
            "colorbar": {
             "outlinewidth": 0,
             "ticks": ""
            },
            "colorscale": [
             [
              0,
              "#0d0887"
             ],
             [
              0.1111111111111111,
              "#46039f"
             ],
             [
              0.2222222222222222,
              "#7201a8"
             ],
             [
              0.3333333333333333,
              "#9c179e"
             ],
             [
              0.4444444444444444,
              "#bd3786"
             ],
             [
              0.5555555555555556,
              "#d8576b"
             ],
             [
              0.6666666666666666,
              "#ed7953"
             ],
             [
              0.7777777777777778,
              "#fb9f3a"
             ],
             [
              0.8888888888888888,
              "#fdca26"
             ],
             [
              1,
              "#f0f921"
             ]
            ],
            "type": "histogram2d"
           }
          ],
          "histogram2dcontour": [
           {
            "colorbar": {
             "outlinewidth": 0,
             "ticks": ""
            },
            "colorscale": [
             [
              0,
              "#0d0887"
             ],
             [
              0.1111111111111111,
              "#46039f"
             ],
             [
              0.2222222222222222,
              "#7201a8"
             ],
             [
              0.3333333333333333,
              "#9c179e"
             ],
             [
              0.4444444444444444,
              "#bd3786"
             ],
             [
              0.5555555555555556,
              "#d8576b"
             ],
             [
              0.6666666666666666,
              "#ed7953"
             ],
             [
              0.7777777777777778,
              "#fb9f3a"
             ],
             [
              0.8888888888888888,
              "#fdca26"
             ],
             [
              1,
              "#f0f921"
             ]
            ],
            "type": "histogram2dcontour"
           }
          ],
          "mesh3d": [
           {
            "colorbar": {
             "outlinewidth": 0,
             "ticks": ""
            },
            "type": "mesh3d"
           }
          ],
          "parcoords": [
           {
            "line": {
             "colorbar": {
              "outlinewidth": 0,
              "ticks": ""
             }
            },
            "type": "parcoords"
           }
          ],
          "pie": [
           {
            "automargin": true,
            "type": "pie"
           }
          ],
          "scatter": [
           {
            "marker": {
             "colorbar": {
              "outlinewidth": 0,
              "ticks": ""
             }
            },
            "type": "scatter"
           }
          ],
          "scatter3d": [
           {
            "line": {
             "colorbar": {
              "outlinewidth": 0,
              "ticks": ""
             }
            },
            "marker": {
             "colorbar": {
              "outlinewidth": 0,
              "ticks": ""
             }
            },
            "type": "scatter3d"
           }
          ],
          "scattercarpet": [
           {
            "marker": {
             "colorbar": {
              "outlinewidth": 0,
              "ticks": ""
             }
            },
            "type": "scattercarpet"
           }
          ],
          "scattergeo": [
           {
            "marker": {
             "colorbar": {
              "outlinewidth": 0,
              "ticks": ""
             }
            },
            "type": "scattergeo"
           }
          ],
          "scattergl": [
           {
            "marker": {
             "colorbar": {
              "outlinewidth": 0,
              "ticks": ""
             }
            },
            "type": "scattergl"
           }
          ],
          "scattermapbox": [
           {
            "marker": {
             "colorbar": {
              "outlinewidth": 0,
              "ticks": ""
             }
            },
            "type": "scattermapbox"
           }
          ],
          "scatterpolar": [
           {
            "marker": {
             "colorbar": {
              "outlinewidth": 0,
              "ticks": ""
             }
            },
            "type": "scatterpolar"
           }
          ],
          "scatterpolargl": [
           {
            "marker": {
             "colorbar": {
              "outlinewidth": 0,
              "ticks": ""
             }
            },
            "type": "scatterpolargl"
           }
          ],
          "scatterternary": [
           {
            "marker": {
             "colorbar": {
              "outlinewidth": 0,
              "ticks": ""
             }
            },
            "type": "scatterternary"
           }
          ],
          "surface": [
           {
            "colorbar": {
             "outlinewidth": 0,
             "ticks": ""
            },
            "colorscale": [
             [
              0,
              "#0d0887"
             ],
             [
              0.1111111111111111,
              "#46039f"
             ],
             [
              0.2222222222222222,
              "#7201a8"
             ],
             [
              0.3333333333333333,
              "#9c179e"
             ],
             [
              0.4444444444444444,
              "#bd3786"
             ],
             [
              0.5555555555555556,
              "#d8576b"
             ],
             [
              0.6666666666666666,
              "#ed7953"
             ],
             [
              0.7777777777777778,
              "#fb9f3a"
             ],
             [
              0.8888888888888888,
              "#fdca26"
             ],
             [
              1,
              "#f0f921"
             ]
            ],
            "type": "surface"
           }
          ],
          "table": [
           {
            "cells": {
             "fill": {
              "color": "#EBF0F8"
             },
             "line": {
              "color": "white"
             }
            },
            "header": {
             "fill": {
              "color": "#C8D4E3"
             },
             "line": {
              "color": "white"
             }
            },
            "type": "table"
           }
          ]
         },
         "layout": {
          "annotationdefaults": {
           "arrowcolor": "#2a3f5f",
           "arrowhead": 0,
           "arrowwidth": 1
          },
          "coloraxis": {
           "colorbar": {
            "outlinewidth": 0,
            "ticks": ""
           }
          },
          "colorscale": {
           "diverging": [
            [
             0,
             "#8e0152"
            ],
            [
             0.1,
             "#c51b7d"
            ],
            [
             0.2,
             "#de77ae"
            ],
            [
             0.3,
             "#f1b6da"
            ],
            [
             0.4,
             "#fde0ef"
            ],
            [
             0.5,
             "#f7f7f7"
            ],
            [
             0.6,
             "#e6f5d0"
            ],
            [
             0.7,
             "#b8e186"
            ],
            [
             0.8,
             "#7fbc41"
            ],
            [
             0.9,
             "#4d9221"
            ],
            [
             1,
             "#276419"
            ]
           ],
           "sequential": [
            [
             0,
             "#0d0887"
            ],
            [
             0.1111111111111111,
             "#46039f"
            ],
            [
             0.2222222222222222,
             "#7201a8"
            ],
            [
             0.3333333333333333,
             "#9c179e"
            ],
            [
             0.4444444444444444,
             "#bd3786"
            ],
            [
             0.5555555555555556,
             "#d8576b"
            ],
            [
             0.6666666666666666,
             "#ed7953"
            ],
            [
             0.7777777777777778,
             "#fb9f3a"
            ],
            [
             0.8888888888888888,
             "#fdca26"
            ],
            [
             1,
             "#f0f921"
            ]
           ],
           "sequentialminus": [
            [
             0,
             "#0d0887"
            ],
            [
             0.1111111111111111,
             "#46039f"
            ],
            [
             0.2222222222222222,
             "#7201a8"
            ],
            [
             0.3333333333333333,
             "#9c179e"
            ],
            [
             0.4444444444444444,
             "#bd3786"
            ],
            [
             0.5555555555555556,
             "#d8576b"
            ],
            [
             0.6666666666666666,
             "#ed7953"
            ],
            [
             0.7777777777777778,
             "#fb9f3a"
            ],
            [
             0.8888888888888888,
             "#fdca26"
            ],
            [
             1,
             "#f0f921"
            ]
           ]
          },
          "colorway": [
           "#636efa",
           "#EF553B",
           "#00cc96",
           "#ab63fa",
           "#FFA15A",
           "#19d3f3",
           "#FF6692",
           "#B6E880",
           "#FF97FF",
           "#FECB52"
          ],
          "font": {
           "color": "#2a3f5f"
          },
          "geo": {
           "bgcolor": "white",
           "lakecolor": "white",
           "landcolor": "#E5ECF6",
           "showlakes": true,
           "showland": true,
           "subunitcolor": "white"
          },
          "hoverlabel": {
           "align": "left"
          },
          "hovermode": "closest",
          "mapbox": {
           "style": "light"
          },
          "paper_bgcolor": "white",
          "plot_bgcolor": "#E5ECF6",
          "polar": {
           "angularaxis": {
            "gridcolor": "white",
            "linecolor": "white",
            "ticks": ""
           },
           "bgcolor": "#E5ECF6",
           "radialaxis": {
            "gridcolor": "white",
            "linecolor": "white",
            "ticks": ""
           }
          },
          "scene": {
           "xaxis": {
            "backgroundcolor": "#E5ECF6",
            "gridcolor": "white",
            "gridwidth": 2,
            "linecolor": "white",
            "showbackground": true,
            "ticks": "",
            "zerolinecolor": "white"
           },
           "yaxis": {
            "backgroundcolor": "#E5ECF6",
            "gridcolor": "white",
            "gridwidth": 2,
            "linecolor": "white",
            "showbackground": true,
            "ticks": "",
            "zerolinecolor": "white"
           },
           "zaxis": {
            "backgroundcolor": "#E5ECF6",
            "gridcolor": "white",
            "gridwidth": 2,
            "linecolor": "white",
            "showbackground": true,
            "ticks": "",
            "zerolinecolor": "white"
           }
          },
          "shapedefaults": {
           "line": {
            "color": "#2a3f5f"
           }
          },
          "ternary": {
           "aaxis": {
            "gridcolor": "white",
            "linecolor": "white",
            "ticks": ""
           },
           "baxis": {
            "gridcolor": "white",
            "linecolor": "white",
            "ticks": ""
           },
           "bgcolor": "#E5ECF6",
           "caxis": {
            "gridcolor": "white",
            "linecolor": "white",
            "ticks": ""
           }
          },
          "title": {
           "x": 0.05
          },
          "xaxis": {
           "automargin": true,
           "gridcolor": "white",
           "linecolor": "white",
           "ticks": "",
           "title": {
            "standoff": 15
           },
           "zerolinecolor": "white",
           "zerolinewidth": 2
          },
          "yaxis": {
           "automargin": true,
           "gridcolor": "white",
           "linecolor": "white",
           "ticks": "",
           "title": {
            "standoff": 15
           },
           "zerolinecolor": "white",
           "zerolinewidth": 2
          }
         }
        },
        "title": {
         "text": "t97",
         "x": 0.5,
         "xanchor": "center",
         "yanchor": "top"
        },
        "width": 900,
        "xaxis": {
         "gridcolor": "black",
         "gridwidth": 1,
         "linecolor": "black",
         "linewidth": 2,
         "mirror": true,
         "showgrid": false,
         "showline": true,
         "tickcolor": "black",
         "tickfont": {
          "color": "black",
          "family": "Rockwell",
          "size": 14
         },
         "ticklen": 10,
         "ticks": "outside",
         "tickwidth": 2,
         "title": {
          "font": {
           "color": "black",
           "family": "Rockwell",
           "size": 18
          },
          "text": "Wiberg Bond Order"
         }
        },
        "yaxis": {
         "gridcolor": "black",
         "gridwidth": 1,
         "linecolor": "black",
         "linewidth": 2,
         "mirror": true,
         "showgrid": false,
         "showline": true,
         "tickcolor": "black",
         "tickfont": {
          "color": "black",
          "family": "Rockwell",
          "size": 14
         },
         "ticklen": 10,
         "ticks": "outside",
         "tickwidth": 2,
         "title": {
          "font": {
           "color": "black",
           "family": "Rockwell",
           "size": 18
          },
          "text": "Torsion barrier in KJ/mol"
         }
        }
       }
      },
      "text/html": [
       "<div>                            <div id=\"c4ea954e-56fc-48e9-b522-83a32457750d\" class=\"plotly-graph-div\" style=\"height:800px; width:900px;\"></div>            <script type=\"text/javascript\">                require([\"plotly\"], function(Plotly) {                    window.PLOTLYENV=window.PLOTLYENV || {};                                    if (document.getElementById(\"c4ea954e-56fc-48e9-b522-83a32457750d\")) {                    Plotly.newPlot(                        \"c4ea954e-56fc-48e9-b522-83a32457750d\",                        [{\"marker\": {\"color\": \"#ebce2b\", \"size\": 10, \"symbol\": 0}, \"mode\": \"markers\", \"name\": \"Fragment Stability Benchmark.oeb\", \"type\": \"scatter\", \"x\": [], \"y\": []}, {\"marker\": {\"color\": \"#702c8c\", \"size\": 10, \"symbol\": 1}, \"mode\": \"markers\", \"name\": \"Fragment Stability Benchmark.oeb\", \"type\": \"scatter\", \"x\": [], \"y\": []}, {\"marker\": {\"color\": \"#db6917\", \"size\": 10, \"symbol\": 2}, \"mode\": \"markers\", \"name\": \"Fragment Stability Benchmark.oeb\", \"type\": \"scatter\", \"x\": [], \"y\": []}, {\"marker\": {\"color\": \"#96cde6\", \"size\": 10, \"symbol\": 3}, \"mode\": \"markers\", \"name\": \"OpenFF Fragmenter Validation 1.0.oeb\", \"type\": \"scatter\", \"x\": [], \"y\": []}, {\"marker\": {\"color\": \"#ba1c30\", \"size\": 10, \"symbol\": 4}, \"mode\": \"markers\", \"name\": \"OpenFF Full TorsionDrive Benchmark 1.oeb\", \"type\": \"scatter\", \"x\": [], \"y\": []}, {\"marker\": {\"color\": \"#c0bd7f\", \"size\": 10, \"symbol\": 5}, \"mode\": \"markers\", \"name\": \"OpenFF Gen 2 Torsion Set 1 Roche.oeb\", \"type\": \"scatter\", \"x\": [1.0730460490798537], \"y\": [24.14124908974361]}, {\"marker\": {\"color\": \"#7f7e80\", \"size\": 10, \"symbol\": 6}, \"mode\": \"markers\", \"name\": \"OpenFF Gen 2 Torsion Set 1 Roche 2.oeb\", \"type\": \"scatter\", \"x\": [1.0730460490798537, 1.0735460970777388], \"y\": [24.14124908974361, 28.21154498450005]}, {\"marker\": {\"color\": \"#5fa641\", \"size\": 10, \"symbol\": 7}, \"mode\": \"markers\", \"name\": \"OpenFF Gen 2 Torsion Set 2 Coverage.oeb\", \"type\": \"scatter\", \"x\": [1.0701022730521381], \"y\": [4.816651611203497]}, {\"marker\": {\"color\": \"#d485b2\", \"size\": 10, \"symbol\": 8}, \"mode\": \"markers\", \"name\": \"OpenFF Gen 2 Torsion Set 2 Coverage 2.oeb\", \"type\": \"scatter\", \"x\": [1.0713376352544133, 1.0701022730521381], \"y\": [21.04339928768104, 4.816651611203497]}, {\"marker\": {\"color\": \"#4277b6\", \"size\": 10, \"symbol\": 9}, \"mode\": \"markers\", \"name\": \"OpenFF Gen 2 Torsion Set 3 Pfizer Discrepancy.oeb\", \"type\": \"scatter\", \"x\": [1.0941860699268926], \"y\": [63.55716767720094]}, {\"marker\": {\"color\": \"#df8461\", \"size\": 10, \"symbol\": 10}, \"mode\": \"markers\", \"name\": \"OpenFF Gen 2 Torsion Set 3 Pfizer Discrepancy 2.oeb\", \"type\": \"scatter\", \"x\": [1.0759221169939694, 1.0848982733769337], \"y\": [14.059615807154785, 68.45149742150056]}, {\"marker\": {\"color\": \"#463397\", \"size\": 10, \"symbol\": 11}, \"mode\": \"markers\", \"name\": \"OpenFF Gen 2 Torsion Set 4 eMolecules Discrepancy.oeb\", \"type\": \"scatter\", \"x\": [], \"y\": []}, {\"marker\": {\"color\": \"#e1a11a\", \"size\": 10, \"symbol\": 12}, \"mode\": \"markers\", \"name\": \"OpenFF Gen 2 Torsion Set 4 eMolecules Discrepancy 2.oeb\", \"type\": \"scatter\", \"x\": [1.0618455286772774, 1.0868980862221496, 1.084731826892022], \"y\": [15.892974211118656, 42.451313174853226, 21.735522964902202]}, {\"marker\": {\"color\": \"#91218c\", \"size\": 10, \"symbol\": 13}, \"mode\": \"markers\", \"name\": \"OpenFF Gen 2 Torsion Set 5 Bayer.oeb\", \"type\": \"scatter\", \"x\": [1.084174951355472], \"y\": [32.86055455546517]}, {\"marker\": {\"color\": \"#e8e948\", \"size\": 10, \"symbol\": 14}, \"mode\": \"markers\", \"name\": \"OpenFF Gen 2 Torsion Set 5 Bayer 2.oeb\", \"type\": \"scatter\", \"x\": [1.0849264302351396, 1.070576662036767, 1.0726684824106387, 1.0994186892095292, 1.0796808337204664], \"y\": [28.627326385146603, 16.553429704916482, 15.955694226867422, 40.71803654628479, 41.65285377812609]}, {\"marker\": {\"color\": \"#7e1510\", \"size\": 10, \"symbol\": 15}, \"mode\": \"markers\", \"name\": \"OpenFF Gen 2 Torsion Set 6 Supplemental.oeb\", \"type\": \"scatter\", \"x\": [], \"y\": []}, {\"marker\": {\"color\": \"#92ae31\", \"size\": 10, \"symbol\": 16}, \"mode\": \"markers\", \"name\": \"OpenFF Gen 2 Torsion Set 6 Supplemental 2.oeb\", \"type\": \"scatter\", \"x\": [], \"y\": []}, {\"marker\": {\"color\": \"#6f340d\", \"size\": 10, \"symbol\": 17}, \"mode\": \"markers\", \"name\": \"OpenFF Group1 Torsions.oeb\", \"type\": \"scatter\", \"x\": [], \"y\": []}, {\"marker\": {\"color\": \"#d32b1e\", \"size\": 10, \"symbol\": 18}, \"mode\": \"markers\", \"name\": \"OpenFF Group1 Torsions 2.oeb\", \"type\": \"scatter\", \"x\": [], \"y\": []}, {\"marker\": {\"color\": \"#2b3514\", \"size\": 10, \"symbol\": 19}, \"mode\": \"markers\", \"name\": \"OpenFF Group1 Torsions 3.oeb\", \"type\": \"scatter\", \"x\": [], \"y\": []}, {\"marker\": {\"color\": \"#ebce2b\", \"size\": 10, \"symbol\": 20}, \"mode\": \"markers\", \"name\": \"OpenFF Primary Benchmark 1 Torsion Set.oeb\", \"type\": \"scatter\", \"x\": [1.0513170227870403, 1.0513170227870403, 1.0587320596219636, 1.0587320596219636, 1.0812781644182148], \"y\": [19.542529963939955, 19.8485031064356, 13.73090736337059, 13.776845376119013, 20.394830354369446]}, {\"marker\": {\"color\": \"#702c8c\", \"size\": 10, \"symbol\": 21}, \"mode\": \"markers\", \"name\": \"OpenFF Primary Benchmark 1 Torsion Set.oeb\", \"type\": \"scatter\", \"x\": [1.0513170227870403, 1.0513170227870403, 1.0587320596219636, 1.0587320596219636, 1.0812781644182148], \"y\": [19.542529963939955, 19.8485031064356, 13.73090736337059, 13.776845376119013, 20.394830354369446]}, {\"marker\": {\"color\": \"#db6917\", \"size\": 10, \"symbol\": 22}, \"mode\": \"markers\", \"name\": \"OpenFF Primary TorsionDrive Benchmark 1.oeb\", \"type\": \"scatter\", \"x\": [], \"y\": []}, {\"marker\": {\"color\": \"#96cde6\", \"size\": 10, \"symbol\": 23}, \"mode\": \"markers\", \"name\": \"OpenFF Rowley Biaryl v1.0.oeb\", \"type\": \"scatter\", \"x\": [], \"y\": []}, {\"marker\": {\"color\": \"#ba1c30\", \"size\": 10, \"symbol\": 24}, \"mode\": \"markers\", \"name\": \"OpenFF Substituted Phenyl Set 1.oeb\", \"type\": \"scatter\", \"x\": [1.092852411854914, 1.064136941908001, 1.08148986899595, 1.0719673562840522, 1.1039371634713073, 1.0508346700857, 1.117239711377068, 1.0989416186262666, 1.1162467813274837], \"y\": [20.148315481922907, 15.238993765981519, 21.03340786340638, 17.51155893096228, 23.169276153501045, 9.98629538107005, 20.863022899257288, 22.607590410420016, 28.156339578008442]}, {\"marker\": {\"color\": \"#c0bd7f\", \"size\": 10, \"symbol\": 25}, \"mode\": \"markers\", \"name\": \"OpenFF-benchmark-ligand-fragments-v1.0.oeb\", \"type\": \"scatter\", \"x\": [], \"y\": []}, {\"marker\": {\"color\": \"#7f7e80\", \"size\": 10, \"symbol\": 26}, \"mode\": \"markers\", \"name\": \"Pfizer Discrepancy Torsion Dataset 1.oeb\", \"type\": \"scatter\", \"x\": [], \"y\": []}, {\"marker\": {\"color\": \"#5fa641\", \"size\": 10, \"symbol\": 27}, \"mode\": \"markers\", \"name\": \"SMIRNOFF Coverage Torsion Set 1.oeb\", \"type\": \"scatter\", \"x\": [1.0713376352544133, 1.0713376352544133, 1.0701022730521381, 1.0701022730521381, 1.0137670302470212], \"y\": [20.972303763285254, 21.04339928768104, 4.816651611203497, 4.865486980013941, 52.161711303011316]}, {\"marker\": {\"color\": \"#d485b2\", \"size\": 10, \"symbol\": 28}, \"mode\": \"markers\", \"name\": \"TorsionDrive Paper.oeb\", \"type\": \"scatter\", \"x\": [], \"y\": []}, {\"mode\": \"lines\", \"showlegend\": false, \"type\": \"scatter\", \"x\": [1.0137670302470212, 1.0508346700857, 1.0513170227870403, 1.0587320596219636, 1.0618455286772774, 1.064136941908001, 1.0701022730521381, 1.070576662036767, 1.0713376352544133, 1.0719673562840522, 1.0726684824106387, 1.0730460490798537, 1.0735460970777388, 1.0759221169939694, 1.0796808337204664, 1.0812781644182148, 1.08148986899595, 1.084174951355472, 1.084731826892022, 1.0848982733769337, 1.0849264302351396, 1.0868980862221496, 1.092852411854914, 1.0941860699268926, 1.0989416186262666, 1.0994186892095292, 1.1039371634713073, 1.1162467813274837, 1.117239711377068], \"y\": [15.74632771068039, 20.53735076280529, 20.59969524768303, 21.558094880437693, 21.96051332631137, 22.256680378168966, 23.027704353515162, 23.08901952143313, 23.187375938071995, 23.268767901049358, 23.35938903175912, 23.408189835473507, 23.472821452038886, 23.779923987849372, 24.265741227938776, 24.472197539376054, 24.499560530831246, 24.846609642598537, 24.918586265453058, 24.94009961104581, 24.943738908215153, 25.198577072331773, 25.96817857624694, 26.140554983115834, 26.75521357868223, 26.816875345437523, 27.400891874216427, 28.991920144925217, 29.120257173595206]}],                        {\"annotations\": [{\"font\": {\"color\": \"black\", \"family\": \"Times\", \"size\": 18}, \"showarrow\": false, \"text\": \"slope: 129.25, r_val: 0.17\", \"x\": 1, \"xref\": \"paper\", \"y\": 0.2, \"yref\": \"paper\"}], \"autosize\": false, \"dragmode\": \"select\", \"height\": 800, \"hovermode\": false, \"legend\": {\"font\": {\"color\": \"black\", \"family\": \"Rockwell\", \"size\": 14}, \"orientation\": \"h\", \"y\": -0.2}, \"margin\": {\"b\": 40, \"l\": 40, \"r\": 10, \"t\": 40}, \"template\": {\"data\": {\"bar\": [{\"error_x\": {\"color\": \"#2a3f5f\"}, \"error_y\": {\"color\": \"#2a3f5f\"}, \"marker\": {\"line\": {\"color\": \"#E5ECF6\", \"width\": 0.5}}, \"type\": \"bar\"}], \"barpolar\": [{\"marker\": {\"line\": {\"color\": \"#E5ECF6\", \"width\": 0.5}}, \"type\": \"barpolar\"}], \"carpet\": [{\"aaxis\": {\"endlinecolor\": \"#2a3f5f\", \"gridcolor\": \"white\", \"linecolor\": \"white\", \"minorgridcolor\": \"white\", \"startlinecolor\": \"#2a3f5f\"}, \"baxis\": {\"endlinecolor\": \"#2a3f5f\", \"gridcolor\": \"white\", \"linecolor\": \"white\", \"minorgridcolor\": \"white\", \"startlinecolor\": \"#2a3f5f\"}, \"type\": \"carpet\"}], \"choropleth\": [{\"colorbar\": {\"outlinewidth\": 0, \"ticks\": \"\"}, \"type\": \"choropleth\"}], \"contour\": [{\"colorbar\": {\"outlinewidth\": 0, \"ticks\": \"\"}, \"colorscale\": [[0.0, \"#0d0887\"], [0.1111111111111111, \"#46039f\"], [0.2222222222222222, \"#7201a8\"], [0.3333333333333333, \"#9c179e\"], [0.4444444444444444, \"#bd3786\"], [0.5555555555555556, \"#d8576b\"], [0.6666666666666666, \"#ed7953\"], [0.7777777777777778, \"#fb9f3a\"], [0.8888888888888888, \"#fdca26\"], [1.0, \"#f0f921\"]], \"type\": \"contour\"}], \"contourcarpet\": [{\"colorbar\": {\"outlinewidth\": 0, \"ticks\": \"\"}, \"type\": \"contourcarpet\"}], \"heatmap\": [{\"colorbar\": {\"outlinewidth\": 0, \"ticks\": \"\"}, \"colorscale\": [[0.0, \"#0d0887\"], [0.1111111111111111, \"#46039f\"], [0.2222222222222222, \"#7201a8\"], [0.3333333333333333, \"#9c179e\"], [0.4444444444444444, \"#bd3786\"], [0.5555555555555556, \"#d8576b\"], [0.6666666666666666, \"#ed7953\"], [0.7777777777777778, \"#fb9f3a\"], [0.8888888888888888, \"#fdca26\"], [1.0, \"#f0f921\"]], \"type\": \"heatmap\"}], \"heatmapgl\": [{\"colorbar\": {\"outlinewidth\": 0, \"ticks\": \"\"}, \"colorscale\": [[0.0, \"#0d0887\"], [0.1111111111111111, \"#46039f\"], [0.2222222222222222, \"#7201a8\"], [0.3333333333333333, \"#9c179e\"], [0.4444444444444444, \"#bd3786\"], [0.5555555555555556, \"#d8576b\"], [0.6666666666666666, \"#ed7953\"], [0.7777777777777778, \"#fb9f3a\"], [0.8888888888888888, \"#fdca26\"], [1.0, \"#f0f921\"]], \"type\": \"heatmapgl\"}], \"histogram\": [{\"marker\": {\"colorbar\": {\"outlinewidth\": 0, \"ticks\": \"\"}}, \"type\": \"histogram\"}], \"histogram2d\": [{\"colorbar\": {\"outlinewidth\": 0, \"ticks\": \"\"}, \"colorscale\": [[0.0, \"#0d0887\"], [0.1111111111111111, \"#46039f\"], [0.2222222222222222, \"#7201a8\"], [0.3333333333333333, \"#9c179e\"], [0.4444444444444444, \"#bd3786\"], [0.5555555555555556, \"#d8576b\"], [0.6666666666666666, \"#ed7953\"], [0.7777777777777778, \"#fb9f3a\"], [0.8888888888888888, \"#fdca26\"], [1.0, \"#f0f921\"]], \"type\": \"histogram2d\"}], \"histogram2dcontour\": [{\"colorbar\": {\"outlinewidth\": 0, \"ticks\": \"\"}, \"colorscale\": [[0.0, \"#0d0887\"], [0.1111111111111111, \"#46039f\"], [0.2222222222222222, \"#7201a8\"], [0.3333333333333333, \"#9c179e\"], [0.4444444444444444, \"#bd3786\"], [0.5555555555555556, \"#d8576b\"], [0.6666666666666666, \"#ed7953\"], [0.7777777777777778, \"#fb9f3a\"], [0.8888888888888888, \"#fdca26\"], [1.0, \"#f0f921\"]], \"type\": \"histogram2dcontour\"}], \"mesh3d\": [{\"colorbar\": {\"outlinewidth\": 0, \"ticks\": \"\"}, \"type\": \"mesh3d\"}], \"parcoords\": [{\"line\": {\"colorbar\": {\"outlinewidth\": 0, \"ticks\": \"\"}}, \"type\": \"parcoords\"}], \"pie\": [{\"automargin\": true, \"type\": \"pie\"}], \"scatter\": [{\"marker\": {\"colorbar\": {\"outlinewidth\": 0, \"ticks\": \"\"}}, \"type\": \"scatter\"}], \"scatter3d\": [{\"line\": {\"colorbar\": {\"outlinewidth\": 0, \"ticks\": \"\"}}, \"marker\": {\"colorbar\": {\"outlinewidth\": 0, \"ticks\": \"\"}}, \"type\": \"scatter3d\"}], \"scattercarpet\": [{\"marker\": {\"colorbar\": {\"outlinewidth\": 0, \"ticks\": \"\"}}, \"type\": \"scattercarpet\"}], \"scattergeo\": [{\"marker\": {\"colorbar\": {\"outlinewidth\": 0, \"ticks\": \"\"}}, \"type\": \"scattergeo\"}], \"scattergl\": [{\"marker\": {\"colorbar\": {\"outlinewidth\": 0, \"ticks\": \"\"}}, \"type\": \"scattergl\"}], \"scattermapbox\": [{\"marker\": {\"colorbar\": {\"outlinewidth\": 0, \"ticks\": \"\"}}, \"type\": \"scattermapbox\"}], \"scatterpolar\": [{\"marker\": {\"colorbar\": {\"outlinewidth\": 0, \"ticks\": \"\"}}, \"type\": \"scatterpolar\"}], \"scatterpolargl\": [{\"marker\": {\"colorbar\": {\"outlinewidth\": 0, \"ticks\": \"\"}}, \"type\": \"scatterpolargl\"}], \"scatterternary\": [{\"marker\": {\"colorbar\": {\"outlinewidth\": 0, \"ticks\": \"\"}}, \"type\": \"scatterternary\"}], \"surface\": [{\"colorbar\": {\"outlinewidth\": 0, \"ticks\": \"\"}, \"colorscale\": [[0.0, \"#0d0887\"], [0.1111111111111111, \"#46039f\"], [0.2222222222222222, \"#7201a8\"], [0.3333333333333333, \"#9c179e\"], [0.4444444444444444, \"#bd3786\"], [0.5555555555555556, \"#d8576b\"], [0.6666666666666666, \"#ed7953\"], [0.7777777777777778, \"#fb9f3a\"], [0.8888888888888888, \"#fdca26\"], [1.0, \"#f0f921\"]], \"type\": \"surface\"}], \"table\": [{\"cells\": {\"fill\": {\"color\": \"#EBF0F8\"}, \"line\": {\"color\": \"white\"}}, \"header\": {\"fill\": {\"color\": \"#C8D4E3\"}, \"line\": {\"color\": \"white\"}}, \"type\": \"table\"}]}, \"layout\": {\"annotationdefaults\": {\"arrowcolor\": \"#2a3f5f\", \"arrowhead\": 0, \"arrowwidth\": 1}, \"coloraxis\": {\"colorbar\": {\"outlinewidth\": 0, \"ticks\": \"\"}}, \"colorscale\": {\"diverging\": [[0, \"#8e0152\"], [0.1, \"#c51b7d\"], [0.2, \"#de77ae\"], [0.3, \"#f1b6da\"], [0.4, \"#fde0ef\"], [0.5, \"#f7f7f7\"], [0.6, \"#e6f5d0\"], [0.7, \"#b8e186\"], [0.8, \"#7fbc41\"], [0.9, \"#4d9221\"], [1, \"#276419\"]], \"sequential\": [[0.0, \"#0d0887\"], [0.1111111111111111, \"#46039f\"], [0.2222222222222222, \"#7201a8\"], [0.3333333333333333, \"#9c179e\"], [0.4444444444444444, \"#bd3786\"], [0.5555555555555556, \"#d8576b\"], [0.6666666666666666, \"#ed7953\"], [0.7777777777777778, \"#fb9f3a\"], [0.8888888888888888, \"#fdca26\"], [1.0, \"#f0f921\"]], \"sequentialminus\": [[0.0, \"#0d0887\"], [0.1111111111111111, \"#46039f\"], [0.2222222222222222, \"#7201a8\"], [0.3333333333333333, \"#9c179e\"], [0.4444444444444444, \"#bd3786\"], [0.5555555555555556, \"#d8576b\"], [0.6666666666666666, \"#ed7953\"], [0.7777777777777778, \"#fb9f3a\"], [0.8888888888888888, \"#fdca26\"], [1.0, \"#f0f921\"]]}, \"colorway\": [\"#636efa\", \"#EF553B\", \"#00cc96\", \"#ab63fa\", \"#FFA15A\", \"#19d3f3\", \"#FF6692\", \"#B6E880\", \"#FF97FF\", \"#FECB52\"], \"font\": {\"color\": \"#2a3f5f\"}, \"geo\": {\"bgcolor\": \"white\", \"lakecolor\": \"white\", \"landcolor\": \"#E5ECF6\", \"showlakes\": true, \"showland\": true, \"subunitcolor\": \"white\"}, \"hoverlabel\": {\"align\": \"left\"}, \"hovermode\": \"closest\", \"mapbox\": {\"style\": \"light\"}, \"paper_bgcolor\": \"white\", \"plot_bgcolor\": \"#E5ECF6\", \"polar\": {\"angularaxis\": {\"gridcolor\": \"white\", \"linecolor\": \"white\", \"ticks\": \"\"}, \"bgcolor\": \"#E5ECF6\", \"radialaxis\": {\"gridcolor\": \"white\", \"linecolor\": \"white\", \"ticks\": \"\"}}, \"scene\": {\"xaxis\": {\"backgroundcolor\": \"#E5ECF6\", \"gridcolor\": \"white\", \"gridwidth\": 2, \"linecolor\": \"white\", \"showbackground\": true, \"ticks\": \"\", \"zerolinecolor\": \"white\"}, \"yaxis\": {\"backgroundcolor\": \"#E5ECF6\", \"gridcolor\": \"white\", \"gridwidth\": 2, \"linecolor\": \"white\", \"showbackground\": true, \"ticks\": \"\", \"zerolinecolor\": \"white\"}, \"zaxis\": {\"backgroundcolor\": \"#E5ECF6\", \"gridcolor\": \"white\", \"gridwidth\": 2, \"linecolor\": \"white\", \"showbackground\": true, \"ticks\": \"\", \"zerolinecolor\": \"white\"}}, \"shapedefaults\": {\"line\": {\"color\": \"#2a3f5f\"}}, \"ternary\": {\"aaxis\": {\"gridcolor\": \"white\", \"linecolor\": \"white\", \"ticks\": \"\"}, \"baxis\": {\"gridcolor\": \"white\", \"linecolor\": \"white\", \"ticks\": \"\"}, \"bgcolor\": \"#E5ECF6\", \"caxis\": {\"gridcolor\": \"white\", \"linecolor\": \"white\", \"ticks\": \"\"}}, \"title\": {\"x\": 0.05}, \"xaxis\": {\"automargin\": true, \"gridcolor\": \"white\", \"linecolor\": \"white\", \"ticks\": \"\", \"title\": {\"standoff\": 15}, \"zerolinecolor\": \"white\", \"zerolinewidth\": 2}, \"yaxis\": {\"automargin\": true, \"gridcolor\": \"white\", \"linecolor\": \"white\", \"ticks\": \"\", \"title\": {\"standoff\": 15}, \"zerolinecolor\": \"white\", \"zerolinewidth\": 2}}}, \"title\": {\"text\": \"t97\", \"x\": 0.5, \"xanchor\": \"center\", \"yanchor\": \"top\"}, \"width\": 900, \"xaxis\": {\"gridcolor\": \"black\", \"gridwidth\": 1, \"linecolor\": \"black\", \"linewidth\": 2, \"mirror\": true, \"showgrid\": false, \"showline\": true, \"tickcolor\": \"black\", \"tickfont\": {\"color\": \"black\", \"family\": \"Rockwell\", \"size\": 14}, \"ticklen\": 10, \"ticks\": \"outside\", \"tickwidth\": 2, \"title\": {\"font\": {\"color\": \"black\", \"family\": \"Rockwell\", \"size\": 18}, \"text\": \"Wiberg Bond Order\"}}, \"yaxis\": {\"gridcolor\": \"black\", \"gridwidth\": 1, \"linecolor\": \"black\", \"linewidth\": 2, \"mirror\": true, \"showgrid\": false, \"showline\": true, \"tickcolor\": \"black\", \"tickfont\": {\"color\": \"black\", \"family\": \"Rockwell\", \"size\": 14}, \"ticklen\": 10, \"ticks\": \"outside\", \"tickwidth\": 2, \"title\": {\"font\": {\"color\": \"black\", \"family\": \"Rockwell\", \"size\": 18}, \"text\": \"Torsion barrier in KJ/mol\"}}},                        {\"responsive\": true}                    ).then(function(){\n",
       "                            \n",
       "var gd = document.getElementById('c4ea954e-56fc-48e9-b522-83a32457750d');\n",
       "var x = new MutationObserver(function (mutations, observer) {{\n",
       "        var display = window.getComputedStyle(gd).display;\n",
       "        if (!display || display === 'none') {{\n",
       "            console.log([gd, 'removed!']);\n",
       "            Plotly.purge(gd);\n",
       "            observer.disconnect();\n",
       "        }}\n",
       "}});\n",
       "\n",
       "// Listen for the removal of the full notebook cells\n",
       "var notebookContainer = gd.closest('#notebook-container');\n",
       "if (notebookContainer) {{\n",
       "    x.observe(notebookContainer, {childList: true});\n",
       "}}\n",
       "\n",
       "// Listen for the clearing of the current output cell\n",
       "var outputEl = gd.closest('.output');\n",
       "if (outputEl) {{\n",
       "    x.observe(outputEl, {childList: true});\n",
       "}}\n",
       "\n",
       "                        })                };                });            </script>        </div>"
      ]
     },
     "metadata": {},
     "output_type": "display_data"
    }
   ],
   "source": [
    "tig_ids = ['t43', 't69', 't69a', 't72', 't74', 't96', 't97']\n",
    "# ['TIG0', TIG1', 'TIG2', 'TIG3', 'TIG4', 'TIG5', 'TIG6', 'TIG7', 'TIG8']\n",
    "for iid in tig_ids:\n",
    "    tmp = plot_tid_for_datasets(TD_working_oeb, t_id=iid)\n",
    "    tmp.write_image(folder_name+\"fig_\"+str(iid)+\".pdf\")"
   ]
  },
  {
   "cell_type": "code",
   "execution_count": 8,
   "metadata": {},
   "outputs": [],
   "source": [
    "from smarts_torsions import *"
   ]
  },
  {
   "cell_type": "code",
   "execution_count": 10,
   "metadata": {},
   "outputs": [],
   "source": [
    "import qcportal as ptl\n",
    "client = ptl.FractalClient()  \n",
    "smarts = \"[*:1]~[#6X3:2]~[#6X3:3]~[*:4]\"\n",
    "datasets = TD_datasets\n",
    "tdrs = get_torsiondrives_matching_smarts(smarts, datasets, client)"
   ]
  },
  {
   "cell_type": "code",
   "execution_count": 11,
   "metadata": {},
   "outputs": [
    {
     "data": {
      "text/plain": [
       "553"
      ]
     },
     "execution_count": 11,
     "metadata": {},
     "output_type": "execute_result"
    }
   ],
   "source": [
    "len(tdrs)"
   ]
  },
  {
   "cell_type": "code",
   "execution_count": null,
   "metadata": {},
   "outputs": [],
   "source": []
  }
 ],
 "metadata": {
  "kernelspec": {
   "display_name": "Python 3",
   "language": "python",
   "name": "python3"
  },
  "language_info": {
   "codemirror_mode": {
    "name": "ipython",
    "version": 3
   },
   "file_extension": ".py",
   "mimetype": "text/x-python",
   "name": "python",
   "nbconvert_exporter": "python",
   "pygments_lexer": "ipython3",
   "version": "3.7.8"
  }
 },
 "nbformat": 4,
 "nbformat_minor": 4
}
