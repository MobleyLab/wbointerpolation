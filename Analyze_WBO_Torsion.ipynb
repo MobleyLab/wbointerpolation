{
 "cells": [
  {
   "cell_type": "code",
   "execution_count": null,
   "metadata": {},
   "outputs": [],
   "source": [
    "#imports\n",
    "import time\n",
    "import qcportal as ptl\n",
    "import numpy as np\n",
    "import matplotlib.pyplot as plt\n",
    "from fragmenter.utils import HARTREE_2_KJMOL\n",
    "from fragmenter import chemi\n",
    "from simtk import unit\n",
    "import os, sys\n",
    "from fragmenter import chemi\n",
    "import cmiles\n",
    "import qcportal as ptl\n",
    "from openforcefield.topology import Molecule, Topology\n",
    "from openforcefield.typing.engines.smirnoff import ForceField\n",
    "from openeye import oechem"
   ]
  },
  {
   "cell_type": "code",
   "execution_count": 95,
   "metadata": {},
   "outputs": [],
   "source": [
    "#functions \n",
    "def torsion_barrier_for_molecule(tdr_object, smiles, show_plots=False):\n",
    "    \"\"\"\n",
    "    Takes in a single torsion drive record that has energies from multiple conformers (at different torsion angles), evaluates the torsion barrier \n",
    "    \n",
    "    Parameters\n",
    "    ----------\n",
    "    tdr_object : object\n",
    "        torsion drive record from QC archive for a molecule\n",
    "    \n",
    "    Returns\n",
    "    -------\n",
    "    tdr_object.id : int\n",
    "        id of the TD record\n",
    "    dihedral_indices: list\n",
    "        list of atom indices for which torsion is driven in this record\n",
    "    torsion_barrier: float\n",
    "        torsion barrier energy in KJ/mol, maximum of all the barriers\n",
    "    mol: oemol object\n",
    "        oemol from the smiles in dataframe index\n",
    "    \"\"\"\n",
    "    energies = list(tdr_object.get_final_energies().values())\n",
    "    tmp = list(tdr_object.get_final_energies().keys())\n",
    "    angles = [i[0]*np.pi/180 for i in tmp]\n",
    "    angles, energies = zip(*sorted(zip(angles, energies)))\n",
    "    angles = np.array(angles)\n",
    "    energies = np.array(energies)\n",
    "    angles = np.append(angles[-3:] - 2*np.pi, np.append(angles, angles[:3] + 2*np.pi))\n",
    "    energies = np.append(energies[-3:], np.append(energies, energies[:3]))\n",
    "    \n",
    "    idx = []\n",
    "    for i in range(len(angles)-2):\n",
    "        m1 = (energies[i+1]-energies[i])/(angles[i+1]-angles[i])\n",
    "        m2 = (energies[i+2]-energies[i+1])/(angles[i+2]-angles[i+1])\n",
    "        if np.sign(m1) == np.sign(m2):\n",
    "            continue\n",
    "        else:\n",
    "            idx.append(i+1)\n",
    "        \n",
    "    if (show_plots):\n",
    "        min_ener = min(energies)\n",
    "        energies_y = (energies-min_ener)*HARTREE_2_KJMOL\n",
    "        fontsize = 14\n",
    "        plt.figure()\n",
    "        plt.plot(angles*180/np.pi, energies_y, 'b-X', angles[idx]*180/np.pi, energies_y[idx], 'ro')\n",
    "        plt.legend(['QM data', 'Max, min'], bbox_to_anchor=(1, 1), fontsize=fontsize)\n",
    "        plt.title('Torsion drive interpolation', fontsize=fontsize)\n",
    "        plt.xlabel('Dihedral Angle [Degrees]', fontsize=fontsize)\n",
    "        plt.ylabel('Relative energy [KJ / mol]', fontsize=fontsize)\n",
    "        plt.xticks(fontsize=fontsize)\n",
    "        plt.yticks(fontsize=fontsize)\n",
    "        fig_name = 'plot_' + tdr_object.id + '.png'\n",
    "        plt.savefig(fig_name)\n",
    "        plt.show()\n",
    "        \n",
    "    torsion_barriers = []\n",
    "    for i in range(int(len(idx)-1)):\n",
    "        torsion_barriers.append(abs(HARTREE_2_KJMOL*abs(energies[idx[i]] - energies[idx[i+1]])))\n",
    "    torsion_barriers = np.array(torsion_barriers)\n",
    "    \n",
    "    # get dihedral indices and pass on to get_wbo function\n",
    "    dihedral_indices = list(tdr_object.dict()['keywords']['dihedrals'][0])\n",
    "    mol = chemi.smiles_to_oemol(smiles)\n",
    "    mol.SetData(\"TB\", max(torsion_barriers))\n",
    "    mol.SetData(\"TDindices\", dihedral_indices)\n",
    "    mol.SetData(\"TDid\", tdr_object.id)\n",
    "    mol.SetData(\"cmiles\", smiles)\n",
    "    return mol\n",
    "    #return(tdr_object.id, dihedral_indices, max(torsion_barriers), mol)\n",
    "\n",
    "\n",
    "def analyzeTorsion(tID, ff, k1, k2, qcaDS, fileName):\n",
    "        \"\"\"\n",
    "        Description:\n",
    "        This function takes in a torsion id, and performs analysis on it using a QCA torsion drive dataset\n",
    "        This function will generate a plot with a .pdf extension\n",
    "\n",
    "        Input:\n",
    "        tID: String of a torsion ID from an .offxml format force field e.g. \"t43\"\n",
    "        ff: file name of a .offxml style force field\n",
    "        qcaDS: String of a name of a QCA torsion drive dataset\n",
    "        fileName: String for the .pdf file name of the plot of WBO versus torsion drive barrier\n",
    "        k1: Float of the force constant for wiberg bond order equal to 1 for the specified torsion\n",
    "        k2: Float of the force constant for wiberg bond order equal to 2 for the specified torsion\n",
    "\n",
    "        Return:\n",
    "        resultDict: A dictionary of the results from the residual calculation. The key is the smiles and the\n",
    "        items is a list of the [torsion barrier hieght, WBO, residual].\n",
    "        \"\"\"\n",
    "\n",
    "        #WIP Load in the QCA dataset, convert the dataset into OEMols with data tags containing WBO and torsion barrier height\n",
    "        molList = loadDataset(qcaDS)\n",
    "\n",
    "\n",
    "        molsTorsion=[]\n",
    "        for mol in molList:\n",
    "            status = checkTorsion(tID, ff, mol)\n",
    "            if status == True:\n",
    "                molsTorsion.append(mol)\n",
    "\n",
    "        resultDict={}\n",
    "\n",
    "        for m in molsTorsion:\n",
    "            resultDict[OEMolsToSmiles(m)]= [m.GetData(\"TorsionBarrier\"), m.GetData(\"WBO\"), getResidual(m, k1, k2)]\n",
    "\n",
    "        plotResults(resultDict, fileName, k1, k2)\n",
    "\n",
    "\n",
    "        return resultDict\n",
    "\n",
    "def loadDataset(datasets):\n",
    "    \"\"\"\n",
    "        To load torsion drive datasets and return a list of molecules with torsion barriers and associated wiberg bond order\n",
    "        \n",
    "        Parameters\n",
    "        ----------\n",
    "        datasets : list of tuples containing the dataset name and specification\n",
    "        \n",
    "        Returns\n",
    "        -------\n",
    "        molList : each row contains the tdr_object.id, oemol_object, dihedral_indices, torsion_barrier, wbo\n",
    "    \"\"\"\n",
    "    molList = []\n",
    "    for dataset_tuple in datasets:\n",
    "        print(\"Reading dataset: \", dataset_tuple[0], \", and specification: \", dataset_tuple[1])\n",
    "        molList.extend(loadDataset_low(dataset_tuple[0], dataset_tuple[1]))\n",
    "\n",
    "    return molList\n",
    "    \n",
    "\n",
    "def loadDataset_low(datasetName, specification):\n",
    "    \"\"\"\n",
    "    Low level call to load each torsion drive dataset and return a list of molecules\n",
    "    \n",
    "        Parameters\n",
    "        ----------\n",
    "        datasetName : str\n",
    "            torsion drive dataset name.  \n",
    "        specification : str\n",
    "            specification in the dataset. Example: \"B3LYP-D3\", \"default\", \"UFF\" \n",
    "        \n",
    "        Returns\n",
    "        -------\n",
    "        molList : list of objects\n",
    "            each row contains the tdr_object.id, dihedral_indices, torsion_barrier, oemol_object\n",
    "    \"\"\"\n",
    "    while True:    \n",
    "        try:\n",
    "            assert(datasetName)\n",
    "            break\n",
    "        except AssertionError:\n",
    "            print (\"datasetName is empty. Check input list of dataset tuples\")\n",
    "            raise\n",
    "    while True:    \n",
    "        try:\n",
    "            assert(specification)\n",
    "            break\n",
    "        except AssertionError:\n",
    "            print (\"specification is empty. Check input list of dataset tuples\")\n",
    "            raise\n",
    "\n",
    "    # initiate qc portal instance\n",
    "    client = ptl.FractalClient()    \n",
    "    # from the TorsionDriveDataset collection picking up given datasetName\n",
    "    ds = client.get_collection(\"TorsionDriveDataset\", datasetName)\n",
    "    ds.status([specification], status=\"COMPLETE\")\n",
    " \n",
    "    # Serial implementation\n",
    "    tb = []\n",
    "    for i in range(ds.df.size):\n",
    "        if (ds.df.iloc[i,0].status == 'COMPLETE'):\n",
    "            smiles = ds.df.index[i]\n",
    "            print(smiles)\n",
    "            cmiles_ids = cmiles.get_molecule_ids(smiles, strict=False)\n",
    "            #mapped_smiles = cmiles_ids['canonical_isomeric_explicit_hydrogen_mapped_smiles']\n",
    "            mapped_smiles = ds.get_entry(smiles).attributes['canonical_isomeric_explicit_hydrogen_mapped_smiles']\n",
    "            \n",
    "            tb.append(torsion_barrier_for_molecule(ds.df.iloc[i, 0], mapped_smiles))\n",
    "    print(\"Total records processed for this dataset:\", len(tb), \"out of \", len(ds.df))\n",
    "    return(tb)\n",
    "\n",
    "\n",
    "\n",
    "def getResidual(oemol, k1, k2):\n",
    "    \"\"\"\n",
    "    Description:\n",
    "    Finds the residual of an oemol by taking the input k1 and k2 values and finding the y=mx+b form and calculates\n",
    "    the difference from the wbo, torsion barrier height point\n",
    "\n",
    "    input:\n",
    "    oemol: OEMol from oechem, contains datatags for WBO and torsion barrier height\n",
    "    k1: Float of the force constant for wiberg bond order equal to 1 for the specified torsion\n",
    "    k2: Float of the force constant for wiberg bond order equal to 2 for the specified torsion\n",
    "    \"\"\"\n",
    "    #WIP\n",
    "\n",
    "    return residual\n",
    "\n",
    "def plotResult(resultDict, filename, k1, k2):\n",
    "    \"\"\"\n",
    "    Description:\n",
    "    Creates a scatter plot of WBO versus the torsion barrier height with the y=mx + b form of the torsion interpolation.\n",
    "    Saves plot to .pdf\n",
    "\n",
    "    Input:\n",
    "    resultDict: Dictionary of the data for plotting. The keys are smiles, and the items are a list of WBO, torsion barrier height\n",
    "    and residual\n",
    "    fileName: Name of file to save .pdf form of the plot\n",
    "    k1: Float of the force constant for wiberg bond order equal to 1 for the specified torsion\n",
    "    k2: Float of the force constant for wiberg bond order equal to 2 for the specified torsion\n",
    "\n",
    "    return:\n",
    "    \"\"\"\n",
    "    #WIP\n",
    "    return\n",
    "\n",
    "\n",
    "def checkTorsion(molList):\n",
    "    \"\"\"\n",
    "    definition: takem ollist and check if the molecules in a list match a specific torsion id\n",
    "    \"\"\"\n",
    "    matches=[]\n",
    "    count=0\n",
    "    mols=[]\n",
    "    for mol in molList: \n",
    "        molecule = Molecule.from_mapped_smiles(mol.GetData(\"cmiles\"))\n",
    "        #molecule=Molecule.from_openeye(mol)\n",
    "        topology = Topology.from_molecules(molecule)\n",
    "        # Let's label using the Parsley force field\n",
    "        forcefield = ForceField('openff-1.2.1.offxml')\n",
    "        # Run the molecule labeling\n",
    "        molecule_force_list = forcefield.label_molecules(topology)\n",
    "        params=[]\n",
    "        # Print out a formatted description of the torsion parameters applied to this molecule\n",
    "        for mol_idx, mol_forces in enumerate(molecule_force_list):\n",
    "            #print(f'Forces for molecule {mol_idx}')\n",
    "            for force_tag, force_dict in mol_forces.items():\n",
    "                if force_tag == 'ProperTorsions':\n",
    "                    for (atom_indices, parameter) in force_dict.items():\n",
    "                        atomList=[]\n",
    "                        for idx in atom_indices:\n",
    "                            atomList.append(idx)\n",
    "                        params.append(parameter.id)\n",
    "                        if atomList == mol.GetData(\"TDindices\") or atomList[::-1] == mol.GetData(\"TDindices\"):\n",
    "                            count+=1\n",
    "                            mol.SetData(\"IDMatch\", parameter.id)\n",
    "                            mols.append(mol)\n",
    "    print(count)\n",
    "    print(len(molList))\n",
    "    \n",
    "    return mols \n",
    "\n",
    "\n",
    "\n",
    "\n",
    "\n",
    "\n",
    "def calcWBO(molList):\n",
    "    mols=[]\n",
    "    errors=[]\n",
    "    for mol in molList:\n",
    "        charged = chemi.get_charges(mol)\n",
    "        for bond in charged.GetBonds():\n",
    "            #m1 = bond.GetBgn().GetMapIdx()\n",
    "            #m2 = bond.GetEnd().GetMapIdx()\n",
    "            m1=bond.GetBgnIdx()\n",
    "            m2=bond.GetEndIdx()\n",
    "            index=mol.GetData(\"TDindices\")\n",
    "            print(m1)\n",
    "            print(m2)\n",
    "            print(index[1])\n",
    "            print(index[2])\n",
    "            if m1 in [index[1], index[2]]:\n",
    "                if m2 in [index[1], index[2]]:\n",
    "                    print(\"match\")\n",
    "                    #if (m1 in map_idx or m2 in map_idx) and not bond.IsInRing():\n",
    "                    try: \n",
    "                        wbo = bond.GetData('WibergBondOrder')\n",
    "                        print(wbo)\n",
    "                        mol.SetData(\"WBO\", wbo)\n",
    "                        mols.append(mol)\n",
    "                    except: \n",
    "                        errors.append(mol)\n",
    "                        pass\n",
    "    print(len(mols))\n",
    "    print(len(molList))\n",
    "    return mols, errors\n",
    "    \n",
    "\n",
    "\n",
    "\n",
    "\n",
    "\n",
    "def makeOEB(oemolList, tag):\n",
    "    \"\"\"\n",
    "    Description:\n",
    "    Takes in an oemol list and creates an output OEB file.\n",
    "\n",
    "    Input:\n",
    "    oemolList: A list of oemols\n",
    "    tag: The title of the OEB file.\n",
    "\n",
    "    Return:\n",
    "\n",
    "    \"\"\"\n",
    "    ofile = oechem.oemolostream(tag+'.oeb')\n",
    "    for mol in oemolList:\n",
    "        oechem.OEWriteConstMolecule(ofile, mol)\n",
    "    ofile.close()\n",
    "    return\n",
    "\n",
    "\n",
    "\n",
    "\n",
    "\n"
   ]
  },
  {
   "cell_type": "code",
   "execution_count": 96,
   "metadata": {},
   "outputs": [
    {
     "name": "stdout",
     "output_type": "stream",
     "text": [
      "1\n"
     ]
    },
    {
     "ename": "ValueError",
     "evalue": "The supplied SMILES 1 could not be parsed",
     "output_type": "error",
     "traceback": [
      "\u001b[0;31m---------------------------------------------------------------------------\u001b[0m",
      "\u001b[0;31mValueError\u001b[0m                                Traceback (most recent call last)",
      "\u001b[0;32m<ipython-input-96-16cdec73863c>\u001b[0m in \u001b[0;36m<module>\u001b[0;34m\u001b[0m\n\u001b[1;32m      3\u001b[0m \u001b[0;31m#datasetName='OpenFF Substituted Phenyl Set 1'\u001b[0m\u001b[0;34m\u001b[0m\u001b[0;34m\u001b[0m\u001b[0;34m\u001b[0m\u001b[0m\n\u001b[1;32m      4\u001b[0m \u001b[0;31m#datasetName=\"OpenFF Rowley Biaryl v1.0\"\u001b[0m\u001b[0;34m\u001b[0m\u001b[0;34m\u001b[0m\u001b[0;34m\u001b[0m\u001b[0m\n\u001b[0;32m----> 5\u001b[0;31m \u001b[0mmolList\u001b[0m\u001b[0;34m=\u001b[0m\u001b[0mloadDataset_low\u001b[0m\u001b[0;34m(\u001b[0m\u001b[0mdatasetName\u001b[0m\u001b[0;34m,\u001b[0m \u001b[0;34m\"default\"\u001b[0m\u001b[0;34m)\u001b[0m\u001b[0;34m\u001b[0m\u001b[0;34m\u001b[0m\u001b[0m\n\u001b[0m\u001b[1;32m      6\u001b[0m \u001b[0;34m\u001b[0m\u001b[0m\n\u001b[1;32m      7\u001b[0m \u001b[0;31m#for mol in molList:\u001b[0m\u001b[0;34m\u001b[0m\u001b[0;34m\u001b[0m\u001b[0;34m\u001b[0m\u001b[0m\n",
      "\u001b[0;32m<ipython-input-95-ba1cc19dc451>\u001b[0m in \u001b[0;36mloadDataset_low\u001b[0;34m(datasetName, specification)\u001b[0m\n\u001b[1;32m    172\u001b[0m             \u001b[0msmiles\u001b[0m \u001b[0;34m=\u001b[0m \u001b[0mds\u001b[0m\u001b[0;34m.\u001b[0m\u001b[0mdf\u001b[0m\u001b[0;34m.\u001b[0m\u001b[0mindex\u001b[0m\u001b[0;34m[\u001b[0m\u001b[0mi\u001b[0m\u001b[0;34m]\u001b[0m\u001b[0;34m\u001b[0m\u001b[0;34m\u001b[0m\u001b[0m\n\u001b[1;32m    173\u001b[0m             \u001b[0mprint\u001b[0m\u001b[0;34m(\u001b[0m\u001b[0msmiles\u001b[0m\u001b[0;34m)\u001b[0m\u001b[0;34m\u001b[0m\u001b[0;34m\u001b[0m\u001b[0m\n\u001b[0;32m--> 174\u001b[0;31m             \u001b[0mcmiles_ids\u001b[0m \u001b[0;34m=\u001b[0m \u001b[0mcmiles\u001b[0m\u001b[0;34m.\u001b[0m\u001b[0mget_molecule_ids\u001b[0m\u001b[0;34m(\u001b[0m\u001b[0msmiles\u001b[0m\u001b[0;34m,\u001b[0m \u001b[0mstrict\u001b[0m\u001b[0;34m=\u001b[0m\u001b[0;32mFalse\u001b[0m\u001b[0;34m)\u001b[0m\u001b[0;34m\u001b[0m\u001b[0;34m\u001b[0m\u001b[0m\n\u001b[0m\u001b[1;32m    175\u001b[0m             \u001b[0;31m#mapped_smiles = cmiles_ids['canonical_isomeric_explicit_hydrogen_mapped_smiles']\u001b[0m\u001b[0;34m\u001b[0m\u001b[0;34m\u001b[0m\u001b[0;34m\u001b[0m\u001b[0m\n\u001b[1;32m    176\u001b[0m             \u001b[0mmapped_smiles\u001b[0m \u001b[0;34m=\u001b[0m \u001b[0mds\u001b[0m\u001b[0;34m.\u001b[0m\u001b[0mget_entry\u001b[0m\u001b[0;34m(\u001b[0m\u001b[0msmiles\u001b[0m\u001b[0;34m)\u001b[0m\u001b[0;34m.\u001b[0m\u001b[0mattributes\u001b[0m\u001b[0;34m[\u001b[0m\u001b[0;34m'canonical_isomeric_explicit_hydrogen_mapped_smiles'\u001b[0m\u001b[0;34m]\u001b[0m\u001b[0;34m\u001b[0m\u001b[0;34m\u001b[0m\u001b[0m\n",
      "\u001b[0;32m~/miniconda3/envs/openff-dev/lib/python3.7/site-packages/cmiles/generator.py\u001b[0m in \u001b[0;36mget_molecule_ids\u001b[0;34m(molecule_input, toolkit, strict, **kwargs)\u001b[0m\n\u001b[1;32m     51\u001b[0m     \"\"\"\n\u001b[1;32m     52\u001b[0m     \u001b[0;31m# check input and convert to oe or rdkit mol\u001b[0m\u001b[0;34m\u001b[0m\u001b[0;34m\u001b[0m\u001b[0;34m\u001b[0m\u001b[0m\n\u001b[0;32m---> 53\u001b[0;31m     \u001b[0mmolecule\u001b[0m \u001b[0;34m=\u001b[0m \u001b[0mcmiles\u001b[0m\u001b[0;34m.\u001b[0m\u001b[0mutils\u001b[0m\u001b[0;34m.\u001b[0m\u001b[0mload_molecule\u001b[0m\u001b[0;34m(\u001b[0m\u001b[0mmolecule_input\u001b[0m\u001b[0;34m,\u001b[0m \u001b[0mtoolkit\u001b[0m\u001b[0;34m=\u001b[0m\u001b[0mtoolkit\u001b[0m\u001b[0;34m,\u001b[0m \u001b[0;34m**\u001b[0m\u001b[0mkwargs\u001b[0m\u001b[0;34m)\u001b[0m\u001b[0;34m\u001b[0m\u001b[0;34m\u001b[0m\u001b[0m\n\u001b[0m\u001b[1;32m     54\u001b[0m \u001b[0;34m\u001b[0m\u001b[0m\n\u001b[1;32m     55\u001b[0m     \u001b[0;31m# check for map. If map exists, remove. We only want maps generated with cmiles\u001b[0m\u001b[0;34m\u001b[0m\u001b[0;34m\u001b[0m\u001b[0;34m\u001b[0m\u001b[0m\n",
      "\u001b[0;32m~/miniconda3/envs/openff-dev/lib/python3.7/site-packages/cmiles/utils.py\u001b[0m in \u001b[0;36mload_molecule\u001b[0;34m(inp_molecule, toolkit, **kwargs)\u001b[0m\n\u001b[1;32m     71\u001b[0m             \u001b[0mmolecule\u001b[0m \u001b[0;34m=\u001b[0m \u001b[0moechem\u001b[0m\u001b[0;34m.\u001b[0m\u001b[0mOEMol\u001b[0m\u001b[0;34m(\u001b[0m\u001b[0;34m)\u001b[0m\u001b[0;34m\u001b[0m\u001b[0;34m\u001b[0m\u001b[0m\n\u001b[1;32m     72\u001b[0m             \u001b[0;32mif\u001b[0m \u001b[0;32mnot\u001b[0m \u001b[0moechem\u001b[0m\u001b[0;34m.\u001b[0m\u001b[0mOESmilesToMol\u001b[0m\u001b[0;34m(\u001b[0m\u001b[0mmolecule\u001b[0m\u001b[0;34m,\u001b[0m \u001b[0minp_molecule\u001b[0m\u001b[0;34m)\u001b[0m\u001b[0;34m:\u001b[0m\u001b[0;34m\u001b[0m\u001b[0;34m\u001b[0m\u001b[0m\n\u001b[0;32m---> 73\u001b[0;31m                 \u001b[0;32mraise\u001b[0m \u001b[0mValueError\u001b[0m\u001b[0;34m(\u001b[0m\u001b[0;34m\"The supplied SMILES {} could not be parsed\"\u001b[0m\u001b[0;34m.\u001b[0m\u001b[0mformat\u001b[0m\u001b[0;34m(\u001b[0m\u001b[0minp_molecule\u001b[0m\u001b[0;34m)\u001b[0m\u001b[0;34m)\u001b[0m\u001b[0;34m\u001b[0m\u001b[0;34m\u001b[0m\u001b[0m\n\u001b[0m\u001b[1;32m     74\u001b[0m         \u001b[0;32melif\u001b[0m \u001b[0mtoolkit\u001b[0m \u001b[0;34m==\u001b[0m \u001b[0;34m'rdkit'\u001b[0m \u001b[0;32mand\u001b[0m \u001b[0mhas_rdkit\u001b[0m\u001b[0;34m:\u001b[0m\u001b[0;34m\u001b[0m\u001b[0;34m\u001b[0m\u001b[0m\n\u001b[1;32m     75\u001b[0m             \u001b[0ma\u001b[0m \u001b[0;34m=\u001b[0m \u001b[0mChem\u001b[0m\u001b[0;34m.\u001b[0m\u001b[0mrdmolfiles\u001b[0m\u001b[0;34m.\u001b[0m\u001b[0mSmilesParserParams\u001b[0m\u001b[0;34m(\u001b[0m\u001b[0;34m)\u001b[0m\u001b[0;34m\u001b[0m\u001b[0;34m\u001b[0m\u001b[0m\n",
      "\u001b[0;31mValueError\u001b[0m: The supplied SMILES 1 could not be parsed"
     ]
    }
   ],
   "source": [
    "#datasetName=\"OpenFF Gen 2 Torsion Set 5 Bayer\"\n",
    "datasetName=\"OpenFF Full TorsionDrive Benchmark 1\"\n",
    "#datasetName='OpenFF Substituted Phenyl Set 1'\n",
    "#datasetName=\"OpenFF Rowley Biaryl v1.0\"\n",
    "molList=loadDataset_low(datasetName, \"default\")\n",
    "\n",
    "#for mol in molList:\n",
    "#    print(mol.GetData(\"TDindices\"))\n",
    "    \n",
    "mols=checkTorsion(molList)\n",
    "print(mols)\n",
    "\n",
    "molsWBO= calcWBO(mols)\n",
    "print(molsWBO[0])\n",
    "\n",
    "\n",
    "\n",
    "makeOEB(molsWBO[0], \"benchmark\")\n",
    "makeOEB(molsWBO[1], \"benchmark\")\n",
    "\n",
    "\n",
    "#makeOEB(molsWBO[0], \"bayer\")\n",
    "#makeOEB(molsWBO[1], \"errors_bayer\")\n",
    "\n",
    "\n",
    "#makeOEB(molsWBO[0], \"rowley\")\n",
    "#makeOEB(molsWBO[1], \"errors_rowley\")\n",
    "\n",
    "\n",
    "#makeOEB(molsWBO[0], \"phenyl\")\n",
    "#makeOEB(molsWBO[1], \"errors_phenyl.oeb\")\n",
    "\n",
    "#makeOEB(molsWBO[0], \"openFFGen2TorsionSet5Bayer.oeb\")\n",
    "#makeOEB(molsWBO[1], \"errors_openFFGen2TorsionSet5Bayer.oeb\")\n"
   ]
  },
  {
   "cell_type": "code",
   "execution_count": 105,
   "metadata": {},
   "outputs": [],
   "source": [
    "from scipy import stats\n",
    "import arch.bootstrap\n",
    "import fragmenter \n",
    "\n",
    "#slope, intercept, r_value, p_value, std_err = stats.linregress(wbos1, max_energies)\n",
    "def compute_r_ci(wbos, max_energies):\n",
    "    return (stats.linregress(wbos, max_energies)[2])**2\n",
    "\n",
    "\n",
    "def oeb2oemol(oebfile):\n",
    "    \"\"\"\n",
    "    Takes in oebfile and generates oemolList\n",
    "    input:\n",
    "    oebfile: Oebfile (.oeb)\n",
    "\n",
    "    return:\n",
    "    mollist: List of oemols\n",
    "\n",
    "    \"\"\"\n",
    "\n",
    "    ifs = oechem.oemolistream(oebfile)\n",
    "    mollist = []\n",
    "\n",
    "    for mol in ifs.GetOEGraphMols():\n",
    "            mollist.append(oechem.OEGraphMol(mol))\n",
    "\n",
    "    return mollist\n",
    "\n",
    "\n",
    "\n",
    "def visualize_wbo_correlation(fileName, fname):\n",
    "    \n",
    "    molList=oeb2oemol(fileName)\n",
    "    \n",
    "    torsionDict={}\n",
    "    print(molList)\n",
    "    \n",
    "    for m in molList:\n",
    "        tid=m.GetData(\"IDMatch\")\n",
    "        torsionDict[tid]={}\n",
    "        torsionDict[tid]['tb']=[]\n",
    "        torsionDict[tid]['wbo']=[]\n",
    "    print(torsionDict)\n",
    "    \n",
    "    \n",
    "    for m in molList:\n",
    "        tid=m.GetData(\"IDMatch\")\n",
    "        torsionDict[tid]['tb'].append(m.GetData(\"TB\"))\n",
    "        torsionDict[tid]['wbo'].append(m.GetData(\"WBO\"))\n",
    "    print(torsionDict)\n",
    "    \n",
    "    \n",
    "    \n",
    "    colors = fragmenter.chemi._KELLYS_COLORS\n",
    "    #fig, ax = plt.subplots()\n",
    "    \n",
    "    fig,ax=plt.subplots()\n",
    "\n",
    "    for i, (key, item) in enumerate(torsionDict.items()):\n",
    "        ax.scatter(torsionDict[key]['wbo'],torsionDict[key]['tb'],c=colors[i], label=key)\n",
    "        slope, intercept, r_value, p_value, std_err = stats.linregress(torsionDict[key]['wbo'], torsionDict[key]['tb'])\n",
    "        print(key)\n",
    "        print(r_value)\n",
    "        print(slope)\n",
    "        print(intercept)\n",
    "        ci_r_value = arch.bootstrap.IIDBootstrap(np.asarray(torsionDict[key]['wbo']), np.asarray(torsionDict[key]['tb'])).conf_int(compute_r_ci, 1000)\n",
    "        CI_95 = 1.96*std_err\n",
    "        plt.plot(np.unique(torsionDict[key]['wbo']), np.poly1d([slope, intercept])(np.unique(torsionDict[key]['wbo'])), c=colors[i])\n",
    "\n",
    "\n",
    "        \n",
    "        \n",
    "        #ax.scatter(range(len(geo1_labels)),ali_geo1_ys,facecolors=\"None\",edgecolors=\"r\",marker=\"s\")\n",
    "    #ax.set_xticks(range(len(geo1_labels)) )\n",
    "    #ax.set_xticklabels(geo1_labels,rotation=90)\n",
    "    #props = dict(boxstyle='square', facecolor='white', alpha=0.5)\n",
    "    #ax.text(0.05, 0.95, textstr, transform=ax.transAxes, fontsize=14,\n",
    "    #        verticalalignment='top', bbox=props);\n",
    "    \n",
    "    l = ax.legend(bbox_to_anchor=(1, 1), fontsize=14)\n",
    "\n",
    "    plt.xlabel('Wiberg Bond Order', fontsize=14);\n",
    "    plt.ylabel('Energy Barrier height (kJ/mol)', fontsize=14);\n",
    "    plt.xticks(fontsize=14)\n",
    "    plt.yticks(fontsize=14)\n",
    "    plt.savefig(fname, bbox_inches='tight')\n",
    "    plt.show()\n",
    "    \n",
    "    \"\"\"\n",
    "    angles = np.arange(-170, 170, 25)\n",
    "\n",
    "    colors = fragmenter.chemi._KELLYS_COLORS\n",
    "    fig, ax = plt.subplots()\n",
    "    \n",
    "    \n",
    "    #max_energies = [max(e) for e in energies]\n",
    "    max_energies=[]\n",
    "    for e in energies:\n",
    "        print(len(e))\n",
    "        #ang=[(-150,), (-60,), (-30,), (60,), (90,), (180,), (-165,), (-135,), (-75,), (-45,), (-15,), (45,), (75,), (105,), (165,), (-120,), (-90,), (0,), (30,), (120,), (150,), (-105,), (15,), (135,)]\n",
    "        #angles = [i[0]*np.pi/180 for i in ang]\n",
    "        angles = np.arange(-170, 170, 13.6)\n",
    "        print(\"length of angles:\" + str(len(angles)))\n",
    "        #angles, energies = zip(*sorted(zip(angles, energies)))\n",
    "        #angles = np.array(angles)\n",
    "        print(len(angles))\n",
    "        print(angles)\n",
    "        #spl = UnivariateSpline(angles, e, k=4, s=0)\n",
    "        \n",
    "        print(\"length of angles:\" + str(len(angles)))\n",
    "        print(\"length of energies:\" + str(len(e)))\n",
    "        spl = UnivariateSpline(angles, e, k=4, s=0)\n",
    "\n",
    "        #try pavan's max energy method \n",
    "        # finding roots\n",
    "        roots = spl.derivative().roots() * 180/ np.pi\n",
    "        # corresponding energies    \n",
    "        energy_maxmin = spl(roots*np.pi/180)\n",
    "        # for the barrier: considering the (global) maximum of the energies from this torsiondrive\n",
    "        # (fitted to a spline) and subtracting with adjacent minima \n",
    "        # (maxima's index incremented/decremented by 1)\n",
    "        max_energy_index = np.argmax(energy_maxmin)\n",
    "        if (max_energy_index + 1) < roots.size:\n",
    "            next_min_index = max_energy_index + 1\n",
    "        else:\n",
    "            next_min_index = max_energy_index - 1\n",
    "        torsion_barrier = energy_maxmin[max_energy_index] - energy_maxmin[next_min_index]\n",
    "        max_energies.append(torsion_barrier)\n",
    "\n",
    "    \n",
    "    \n",
    "    \n",
    "    slope, intercept, r_value, p_value, std_err = stats.linregress(wbos, max_energies)\n",
    "    print(slope)\n",
    "    print(intercept)\n",
    "    ci_r_value = arch.bootstrap.IIDBootstrap(np.asarray(wbos), np.asarray(max_energies)).conf_int(compute_r_ci, 1000)\n",
    "    CI_95 = 1.96*std_err\n",
    "    plt.plot(np.unique(wbos), np.poly1d([slope, intercept])(np.unique(wbos)), 'black')\n",
    "    for i, (wbo, en) in enumerate(zip(wbos, max_energies)):\n",
    "        plt.scatter(wbo, en, c=colors[i], linewidths=5)\n",
    "    textstr = '\\n'.join((\n",
    "        r'slope=%.2f$_{%.2f}^{%.2f}$' % (slope, slope-CI_95, slope+CI_95),\n",
    "        r'$r^2=%.2f_{%.2f}^{%.2f}$' % (r_value**2, ci_r_value[0], ci_r_value[1])))\n",
    "        #r'P value=%.3f' % (p_value, ),\n",
    "        #r'standard error=%.2f' % (std_err, )))\n",
    "    props = dict(boxstyle='square', facecolor='white', alpha=0.5)\n",
    "    ax.text(0.05, 0.95, textstr, transform=ax.transAxes, fontsize=14,\n",
    "            verticalalignment='top', bbox=props);\n",
    "    plt.xlabel('Wiberg Bond Order', fontsize=14);\n",
    "    plt.ylabel('Energy Barrier height (kJ/mol)', fontsize=14);\n",
    "    plt.xticks(fontsize=14)\n",
    "    plt.yticks(fontsize=14)\n",
    "    plt.savefig(fname, bbox_inches='tight');\n",
    "    \"\"\"\n"
   ]
  },
  {
   "cell_type": "code",
   "execution_count": 108,
   "metadata": {},
   "outputs": [
    {
     "name": "stdout",
     "output_type": "stream",
     "text": [
      "[<oechem.OEGraphMol; proxy of <Swig Object of type 'OEGraphMolWrapper *' at 0x131a54a20> >, <oechem.OEGraphMol; proxy of <Swig Object of type 'OEGraphMolWrapper *' at 0x11c444db0> >, <oechem.OEGraphMol; proxy of <Swig Object of type 'OEGraphMolWrapper *' at 0x12cafe5d0> >, <oechem.OEGraphMol; proxy of <Swig Object of type 'OEGraphMolWrapper *' at 0x1393be2d0> >, <oechem.OEGraphMol; proxy of <Swig Object of type 'OEGraphMolWrapper *' at 0x1393be630> >, <oechem.OEGraphMol; proxy of <Swig Object of type 'OEGraphMolWrapper *' at 0x1393be960> >, <oechem.OEGraphMol; proxy of <Swig Object of type 'OEGraphMolWrapper *' at 0x1393be180> >, <oechem.OEGraphMol; proxy of <Swig Object of type 'OEGraphMolWrapper *' at 0x1393be3f0> >, <oechem.OEGraphMol; proxy of <Swig Object of type 'OEGraphMolWrapper *' at 0x1393be780> >, <oechem.OEGraphMol; proxy of <Swig Object of type 'OEGraphMolWrapper *' at 0x1393be810> >, <oechem.OEGraphMol; proxy of <Swig Object of type 'OEGraphMolWrapper *' at 0x1393bed50> >, <oechem.OEGraphMol; proxy of <Swig Object of type 'OEGraphMolWrapper *' at 0x1393be090> >, <oechem.OEGraphMol; proxy of <Swig Object of type 'OEGraphMolWrapper *' at 0x1393bea80> >, <oechem.OEGraphMol; proxy of <Swig Object of type 'OEGraphMolWrapper *' at 0x12c0074b0> >, <oechem.OEGraphMol; proxy of <Swig Object of type 'OEGraphMolWrapper *' at 0x12d4f42a0> >, <oechem.OEGraphMol; proxy of <Swig Object of type 'OEGraphMolWrapper *' at 0x12d4f4180> >, <oechem.OEGraphMol; proxy of <Swig Object of type 'OEGraphMolWrapper *' at 0x12d4f4450> >, <oechem.OEGraphMol; proxy of <Swig Object of type 'OEGraphMolWrapper *' at 0x12d4f45d0> >, <oechem.OEGraphMol; proxy of <Swig Object of type 'OEGraphMolWrapper *' at 0x12d4f4390> >, <oechem.OEGraphMol; proxy of <Swig Object of type 'OEGraphMolWrapper *' at 0x12d4f44b0> >, <oechem.OEGraphMol; proxy of <Swig Object of type 'OEGraphMolWrapper *' at 0x12d4f4570> >, <oechem.OEGraphMol; proxy of <Swig Object of type 'OEGraphMolWrapper *' at 0x12d4f46c0> >, <oechem.OEGraphMol; proxy of <Swig Object of type 'OEGraphMolWrapper *' at 0x12d4f4330> >, <oechem.OEGraphMol; proxy of <Swig Object of type 'OEGraphMolWrapper *' at 0x12d4f4030> >, <oechem.OEGraphMol; proxy of <Swig Object of type 'OEGraphMolWrapper *' at 0x12d4f4210> >, <oechem.OEGraphMol; proxy of <Swig Object of type 'OEGraphMolWrapper *' at 0x138eabe40> >, <oechem.OEGraphMol; proxy of <Swig Object of type 'OEGraphMolWrapper *' at 0x131c935d0> >, <oechem.OEGraphMol; proxy of <Swig Object of type 'OEGraphMolWrapper *' at 0x1306314e0> >, <oechem.OEGraphMol; proxy of <Swig Object of type 'OEGraphMolWrapper *' at 0x1306317e0> >, <oechem.OEGraphMol; proxy of <Swig Object of type 'OEGraphMolWrapper *' at 0x1322eeb10> >, <oechem.OEGraphMol; proxy of <Swig Object of type 'OEGraphMolWrapper *' at 0x12e9e55a0> >, <oechem.OEGraphMol; proxy of <Swig Object of type 'OEGraphMolWrapper *' at 0x1301710f0> >, <oechem.OEGraphMol; proxy of <Swig Object of type 'OEGraphMolWrapper *' at 0x129fbde70> >, <oechem.OEGraphMol; proxy of <Swig Object of type 'OEGraphMolWrapper *' at 0x129fbdb40> >, <oechem.OEGraphMol; proxy of <Swig Object of type 'OEGraphMolWrapper *' at 0x129fbd5d0> >, <oechem.OEGraphMol; proxy of <Swig Object of type 'OEGraphMolWrapper *' at 0x129fbd990> >, <oechem.OEGraphMol; proxy of <Swig Object of type 'OEGraphMolWrapper *' at 0x129fbdd50> >, <oechem.OEGraphMol; proxy of <Swig Object of type 'OEGraphMolWrapper *' at 0x129fbd5a0> >, <oechem.OEGraphMol; proxy of <Swig Object of type 'OEGraphMolWrapper *' at 0x129fbd6f0> >, <oechem.OEGraphMol; proxy of <Swig Object of type 'OEGraphMolWrapper *' at 0x129fbd030> >, <oechem.OEGraphMol; proxy of <Swig Object of type 'OEGraphMolWrapper *' at 0x129fbd600> >, <oechem.OEGraphMol; proxy of <Swig Object of type 'OEGraphMolWrapper *' at 0x129fbdea0> >, <oechem.OEGraphMol; proxy of <Swig Object of type 'OEGraphMolWrapper *' at 0x129fbdfc0> >, <oechem.OEGraphMol; proxy of <Swig Object of type 'OEGraphMolWrapper *' at 0x129fbda20> >, <oechem.OEGraphMol; proxy of <Swig Object of type 'OEGraphMolWrapper *' at 0x12eca57e0> >, <oechem.OEGraphMol; proxy of <Swig Object of type 'OEGraphMolWrapper *' at 0x12eca5330> >, <oechem.OEGraphMol; proxy of <Swig Object of type 'OEGraphMolWrapper *' at 0x1393390c0> >, <oechem.OEGraphMol; proxy of <Swig Object of type 'OEGraphMolWrapper *' at 0x1390b7d20> >, <oechem.OEGraphMol; proxy of <Swig Object of type 'OEGraphMolWrapper *' at 0x1390b7090> >, <oechem.OEGraphMol; proxy of <Swig Object of type 'OEGraphMolWrapper *' at 0x1390b7cc0> >, <oechem.OEGraphMol; proxy of <Swig Object of type 'OEGraphMolWrapper *' at 0x1390b7b70> >, <oechem.OEGraphMol; proxy of <Swig Object of type 'OEGraphMolWrapper *' at 0x1390b7c30> >, <oechem.OEGraphMol; proxy of <Swig Object of type 'OEGraphMolWrapper *' at 0x1390b73c0> >, <oechem.OEGraphMol; proxy of <Swig Object of type 'OEGraphMolWrapper *' at 0x1390b7210> >, <oechem.OEGraphMol; proxy of <Swig Object of type 'OEGraphMolWrapper *' at 0x12d1724b0> >, <oechem.OEGraphMol; proxy of <Swig Object of type 'OEGraphMolWrapper *' at 0x12d172cf0> >, <oechem.OEGraphMol; proxy of <Swig Object of type 'OEGraphMolWrapper *' at 0x12d172e40> >, <oechem.OEGraphMol; proxy of <Swig Object of type 'OEGraphMolWrapper *' at 0x12d172210> >]\n",
      "{'t43': {'tb': [], 'wbo': []}, 't47': {'tb': [], 'wbo': []}, 't69': {'tb': [], 'wbo': []}}\n",
      "{'t43': {'tb': [18.538413653947373, 34.85908881637974, 4.330875387934782, 10.406384328434285, 10.953329423770299, 20.786553810153833, 18.795948167648987, 10.654565402092203, 10.589220754343842, 44.188387415287366, 9.900555279244543, 9.384843033530274, 10.74986524918782, 9.288477430365077, 31.84914223006075, 18.62945117969636, 12.187032407596377, 24.924188609998566, 18.75779546479174, 18.55313722015393, 10.653667698035008, 20.276737596778673, 10.264115478387623, 17.89705790980105, 12.695801667652972, 25.20982703037157, 17.987763198395754, 11.335416355489144, 17.180303981334276, 12.457470837500011, 17.4792808762474, 9.713402322374293, 8.684116137792728, 10.812462402775566, 43.09690869220799, 20.105533196956173, 8.99499057146275, 17.169044439941672, 9.55929299222214], 'wbo': [0.9820984601974487, 0.9874790906906128, 0.9532632231712341, 1.6206165552139282, 1.6653599739074707, 1.5049976110458374, 1.6045278310775757, 1.5085513591766357, 1.2276653051376343, 0.982155442237854, 0.9901787638664246, 1.01130211353302, 1.2313839197158813, 1.1322773694992065, 0.9838804006576538, 1.6229455471038818, 1.2544128894805908, 0.984218180179596, 1.5911144018173218, 0.9791810512542725, 1.1655299663543701, 0.9826246500015259, 1.22820246219635, 1.5506008863449097, 0.9826130270957947, 1.5761595964431763, 0.9789512157440186, 1.5911829471588135, 0.9882025122642517, 1.595788598060608, 1.5723556280136108, 1.0097911357879639, 1.017367959022522, 1.5895284414291382, 0.9736678600311279, 0.979214608669281, 1.0141316652297974, 0.9854080080986023, 0.9796971678733826]}, 't47': {'tb': [31.69380589907081, 20.06866148605991, 14.239139165889469, 15.240093236654616, 15.249842750795153, 16.014313423630142, 13.5177259111544, 29.434038166439336, 24.45967409396934, 17.70800854890507, 49.05188567709291], 'wbo': [1.625964641571045, 0.9922299385070801, 0.9961618185043335, 1.0023081302642822, 1.1348071098327637, 1.2200953960418701, 1.496037244796753, 1.0001388788223267, 0.9603063464164734, 1.2387397289276123, 1.6259573698043823]}, 't69': {'tb': [16.31177793027649, 9.111454880347935, 36.59184842705207, 43.36152212378039, 17.77310520653333, 25.0108072795735, 27.59695112656499, 9.002817358651441], 'wbo': [0.977008044719696, 0.9686303734779358, 0.9438837766647339, 0.9520235657691956, 1.0989590883255005, 0.961506724357605, 0.9595886468887329, 1.1223313808441162]}}\n",
      "t43\n",
      "-0.17859946770328397\n",
      "-5.917130153381151\n",
      "23.882804666894096\n",
      "t47\n",
      "0.5159175864411716\n",
      "21.41421029414388\n",
      "-3.452407526747038\n",
      "t69\n",
      "-0.5924774447719177\n",
      "-104.62434433617877\n",
      "127.50923666465931\n"
     ]
    },
    {
     "data": {
      "image/png": "[encoded data removed]",
      "text/plain": [
       "<Figure size 432x288 with 1 Axes>"
      ]
     },
     "metadata": {
      "needs_background": "light"
     },
     "output_type": "display_data"
    }
   ],
   "source": [
    "visualize_wbo_correlation('rowley.oeb', 'rowley.pdf')"
   ]
  },
  {
   "cell_type": "code",
   "execution_count": 107,
   "metadata": {
    "scrolled": true
   },
   "outputs": [
    {
     "name": "stdout",
     "output_type": "stream",
     "text": [
      "[<oechem.OEGraphMol; proxy of <Swig Object of type 'OEGraphMolWrapper *' at 0x128f8d4b0> >, <oechem.OEGraphMol; proxy of <Swig Object of type 'OEGraphMolWrapper *' at 0x12cafe5a0> >, <oechem.OEGraphMol; proxy of <Swig Object of type 'OEGraphMolWrapper *' at 0x131fabab0> >, <oechem.OEGraphMol; proxy of <Swig Object of type 'OEGraphMolWrapper *' at 0x1393be570> >, <oechem.OEGraphMol; proxy of <Swig Object of type 'OEGraphMolWrapper *' at 0x1393be840> >, <oechem.OEGraphMol; proxy of <Swig Object of type 'OEGraphMolWrapper *' at 0x1393bea80> >, <oechem.OEGraphMol; proxy of <Swig Object of type 'OEGraphMolWrapper *' at 0x1393befc0> >, <oechem.OEGraphMol; proxy of <Swig Object of type 'OEGraphMolWrapper *' at 0x1393be090> >, <oechem.OEGraphMol; proxy of <Swig Object of type 'OEGraphMolWrapper *' at 0x1393be0f0> >, <oechem.OEGraphMol; proxy of <Swig Object of type 'OEGraphMolWrapper *' at 0x1393be900> >, <oechem.OEGraphMol; proxy of <Swig Object of type 'OEGraphMolWrapper *' at 0x1393be930> >, <oechem.OEGraphMol; proxy of <Swig Object of type 'OEGraphMolWrapper *' at 0x1393bedb0> >, <oechem.OEGraphMol; proxy of <Swig Object of type 'OEGraphMolWrapper *' at 0x1393be720> >, <oechem.OEGraphMol; proxy of <Swig Object of type 'OEGraphMolWrapper *' at 0x12a3c7d80> >, <oechem.OEGraphMol; proxy of <Swig Object of type 'OEGraphMolWrapper *' at 0x128fb4f90> >, <oechem.OEGraphMol; proxy of <Swig Object of type 'OEGraphMolWrapper *' at 0x11c444d80> >, <oechem.OEGraphMol; proxy of <Swig Object of type 'OEGraphMolWrapper *' at 0x12d4f40f0> >, <oechem.OEGraphMol; proxy of <Swig Object of type 'OEGraphMolWrapper *' at 0x12d4f41e0> >, <oechem.OEGraphMol; proxy of <Swig Object of type 'OEGraphMolWrapper *' at 0x12d4f4090> >, <oechem.OEGraphMol; proxy of <Swig Object of type 'OEGraphMolWrapper *' at 0x12d4f40c0> >, <oechem.OEGraphMol; proxy of <Swig Object of type 'OEGraphMolWrapper *' at 0x12d4f41b0> >, <oechem.OEGraphMol; proxy of <Swig Object of type 'OEGraphMolWrapper *' at 0x12d4f4240> >, <oechem.OEGraphMol; proxy of <Swig Object of type 'OEGraphMolWrapper *' at 0x12d4f4270> >, <oechem.OEGraphMol; proxy of <Swig Object of type 'OEGraphMolWrapper *' at 0x12d4f4480> >, <oechem.OEGraphMol; proxy of <Swig Object of type 'OEGraphMolWrapper *' at 0x12d4f43c0> >, <oechem.OEGraphMol; proxy of <Swig Object of type 'OEGraphMolWrapper *' at 0x12d4f4360> >, <oechem.OEGraphMol; proxy of <Swig Object of type 'OEGraphMolWrapper *' at 0x12d4f4210> >, <oechem.OEGraphMol; proxy of <Swig Object of type 'OEGraphMolWrapper *' at 0x12d172360> >, <oechem.OEGraphMol; proxy of <Swig Object of type 'OEGraphMolWrapper *' at 0x12d172bd0> >, <oechem.OEGraphMol; proxy of <Swig Object of type 'OEGraphMolWrapper *' at 0x12d172de0> >, <oechem.OEGraphMol; proxy of <Swig Object of type 'OEGraphMolWrapper *' at 0x12d172d20> >, <oechem.OEGraphMol; proxy of <Swig Object of type 'OEGraphMolWrapper *' at 0x12d172990> >, <oechem.OEGraphMol; proxy of <Swig Object of type 'OEGraphMolWrapper *' at 0x12d172840> >, <oechem.OEGraphMol; proxy of <Swig Object of type 'OEGraphMolWrapper *' at 0x12d172030> >, <oechem.OEGraphMol; proxy of <Swig Object of type 'OEGraphMolWrapper *' at 0x12d172960> >, <oechem.OEGraphMol; proxy of <Swig Object of type 'OEGraphMolWrapper *' at 0x12d172090> >, <oechem.OEGraphMol; proxy of <Swig Object of type 'OEGraphMolWrapper *' at 0x12d172870> >, <oechem.OEGraphMol; proxy of <Swig Object of type 'OEGraphMolWrapper *' at 0x12d172540> >, <oechem.OEGraphMol; proxy of <Swig Object of type 'OEGraphMolWrapper *' at 0x12d172600> >, <oechem.OEGraphMol; proxy of <Swig Object of type 'OEGraphMolWrapper *' at 0x12d1727e0> >, <oechem.OEGraphMol; proxy of <Swig Object of type 'OEGraphMolWrapper *' at 0x12d172e70> >, <oechem.OEGraphMol; proxy of <Swig Object of type 'OEGraphMolWrapper *' at 0x12d172930> >, <oechem.OEGraphMol; proxy of <Swig Object of type 'OEGraphMolWrapper *' at 0x12d172630> >, <oechem.OEGraphMol; proxy of <Swig Object of type 'OEGraphMolWrapper *' at 0x12d172a50> >, <oechem.OEGraphMol; proxy of <Swig Object of type 'OEGraphMolWrapper *' at 0x12d172480> >, <oechem.OEGraphMol; proxy of <Swig Object of type 'OEGraphMolWrapper *' at 0x12d1729f0> >, <oechem.OEGraphMol; proxy of <Swig Object of type 'OEGraphMolWrapper *' at 0x12d172f90> >, <oechem.OEGraphMol; proxy of <Swig Object of type 'OEGraphMolWrapper *' at 0x12d172180> >, <oechem.OEGraphMol; proxy of <Swig Object of type 'OEGraphMolWrapper *' at 0x12d1720f0> >, <oechem.OEGraphMol; proxy of <Swig Object of type 'OEGraphMolWrapper *' at 0x12d1720c0> >, <oechem.OEGraphMol; proxy of <Swig Object of type 'OEGraphMolWrapper *' at 0x12d1726f0> >, <oechem.OEGraphMol; proxy of <Swig Object of type 'OEGraphMolWrapper *' at 0x12d172300> >, <oechem.OEGraphMol; proxy of <Swig Object of type 'OEGraphMolWrapper *' at 0x12d172ed0> >, <oechem.OEGraphMol; proxy of <Swig Object of type 'OEGraphMolWrapper *' at 0x1323f3870> >, <oechem.OEGraphMol; proxy of <Swig Object of type 'OEGraphMolWrapper *' at 0x1323f3750> >, <oechem.OEGraphMol; proxy of <Swig Object of type 'OEGraphMolWrapper *' at 0x1323f3120> >, <oechem.OEGraphMol; proxy of <Swig Object of type 'OEGraphMolWrapper *' at 0x1323f3c90> >, <oechem.OEGraphMol; proxy of <Swig Object of type 'OEGraphMolWrapper *' at 0x1323f3f90> >, <oechem.OEGraphMol; proxy of <Swig Object of type 'OEGraphMolWrapper *' at 0x1323f3e10> >, <oechem.OEGraphMol; proxy of <Swig Object of type 'OEGraphMolWrapper *' at 0x1323f31e0> >, <oechem.OEGraphMol; proxy of <Swig Object of type 'OEGraphMolWrapper *' at 0x1323f3ba0> >, <oechem.OEGraphMol; proxy of <Swig Object of type 'OEGraphMolWrapper *' at 0x138eaba20> >, <oechem.OEGraphMol; proxy of <Swig Object of type 'OEGraphMolWrapper *' at 0x12bff2f30> >, <oechem.OEGraphMol; proxy of <Swig Object of type 'OEGraphMolWrapper *' at 0x12d183990> >, <oechem.OEGraphMol; proxy of <Swig Object of type 'OEGraphMolWrapper *' at 0x1392448d0> >, <oechem.OEGraphMol; proxy of <Swig Object of type 'OEGraphMolWrapper *' at 0x1392446f0> >, <oechem.OEGraphMol; proxy of <Swig Object of type 'OEGraphMolWrapper *' at 0x139244420> >, <oechem.OEGraphMol; proxy of <Swig Object of type 'OEGraphMolWrapper *' at 0x139244a80> >, <oechem.OEGraphMol; proxy of <Swig Object of type 'OEGraphMolWrapper *' at 0x1392449f0> >, <oechem.OEGraphMol; proxy of <Swig Object of type 'OEGraphMolWrapper *' at 0x1392448a0> >, <oechem.OEGraphMol; proxy of <Swig Object of type 'OEGraphMolWrapper *' at 0x139244450> >, <oechem.OEGraphMol; proxy of <Swig Object of type 'OEGraphMolWrapper *' at 0x1392443c0> >, <oechem.OEGraphMol; proxy of <Swig Object of type 'OEGraphMolWrapper *' at 0x139244bd0> >, <oechem.OEGraphMol; proxy of <Swig Object of type 'OEGraphMolWrapper *' at 0x139244780> >, <oechem.OEGraphMol; proxy of <Swig Object of type 'OEGraphMolWrapper *' at 0x139244150> >, <oechem.OEGraphMol; proxy of <Swig Object of type 'OEGraphMolWrapper *' at 0x1392445d0> >, <oechem.OEGraphMol; proxy of <Swig Object of type 'OEGraphMolWrapper *' at 0x139244120> >, <oechem.OEGraphMol; proxy of <Swig Object of type 'OEGraphMolWrapper *' at 0x139244ed0> >, <oechem.OEGraphMol; proxy of <Swig Object of type 'OEGraphMolWrapper *' at 0x139244cf0> >, <oechem.OEGraphMol; proxy of <Swig Object of type 'OEGraphMolWrapper *' at 0x139244570> >, <oechem.OEGraphMol; proxy of <Swig Object of type 'OEGraphMolWrapper *' at 0x139244cc0> >, <oechem.OEGraphMol; proxy of <Swig Object of type 'OEGraphMolWrapper *' at 0x139244600> >, <oechem.OEGraphMol; proxy of <Swig Object of type 'OEGraphMolWrapper *' at 0x139244630> >, <oechem.OEGraphMol; proxy of <Swig Object of type 'OEGraphMolWrapper *' at 0x139244db0> >, <oechem.OEGraphMol; proxy of <Swig Object of type 'OEGraphMolWrapper *' at 0x139244c60> >, <oechem.OEGraphMol; proxy of <Swig Object of type 'OEGraphMolWrapper *' at 0x139244e70> >, <oechem.OEGraphMol; proxy of <Swig Object of type 'OEGraphMolWrapper *' at 0x139244840> >, <oechem.OEGraphMol; proxy of <Swig Object of type 'OEGraphMolWrapper *' at 0x139244ea0> >, <oechem.OEGraphMol; proxy of <Swig Object of type 'OEGraphMolWrapper *' at 0x1392449c0> >, <oechem.OEGraphMol; proxy of <Swig Object of type 'OEGraphMolWrapper *' at 0x1392444b0> >, <oechem.OEGraphMol; proxy of <Swig Object of type 'OEGraphMolWrapper *' at 0x139244870> >, <oechem.OEGraphMol; proxy of <Swig Object of type 'OEGraphMolWrapper *' at 0x139244c00> >, <oechem.OEGraphMol; proxy of <Swig Object of type 'OEGraphMolWrapper *' at 0x139244510> >, <oechem.OEGraphMol; proxy of <Swig Object of type 'OEGraphMolWrapper *' at 0x139244330> >, <oechem.OEGraphMol; proxy of <Swig Object of type 'OEGraphMolWrapper *' at 0x139244c90> >, <oechem.OEGraphMol; proxy of <Swig Object of type 'OEGraphMolWrapper *' at 0x139244e10> >, <oechem.OEGraphMol; proxy of <Swig Object of type 'OEGraphMolWrapper *' at 0x139244f00> >, <oechem.OEGraphMol; proxy of <Swig Object of type 'OEGraphMolWrapper *' at 0x139244030> >, <oechem.OEGraphMol; proxy of <Swig Object of type 'OEGraphMolWrapper *' at 0x130631cf0> >, <oechem.OEGraphMol; proxy of <Swig Object of type 'OEGraphMolWrapper *' at 0x1306317e0> >, <oechem.OEGraphMol; proxy of <Swig Object of type 'OEGraphMolWrapper *' at 0x12dd3a3f0> >, <oechem.OEGraphMol; proxy of <Swig Object of type 'OEGraphMolWrapper *' at 0x12dd3aa50> >, <oechem.OEGraphMol; proxy of <Swig Object of type 'OEGraphMolWrapper *' at 0x12dd3a690> >, <oechem.OEGraphMol; proxy of <Swig Object of type 'OEGraphMolWrapper *' at 0x12dd3ac60> >, <oechem.OEGraphMol; proxy of <Swig Object of type 'OEGraphMolWrapper *' at 0x12dd3ad20> >, <oechem.OEGraphMol; proxy of <Swig Object of type 'OEGraphMolWrapper *' at 0x12dd3afc0> >, <oechem.OEGraphMol; proxy of <Swig Object of type 'OEGraphMolWrapper *' at 0x12dd3a9c0> >, <oechem.OEGraphMol; proxy of <Swig Object of type 'OEGraphMolWrapper *' at 0x1390b7d80> >, <oechem.OEGraphMol; proxy of <Swig Object of type 'OEGraphMolWrapper *' at 0x1390b7990> >, <oechem.OEGraphMol; proxy of <Swig Object of type 'OEGraphMolWrapper *' at 0x1390b7fc0> >, <oechem.OEGraphMol; proxy of <Swig Object of type 'OEGraphMolWrapper *' at 0x1390b7d50> >, <oechem.OEGraphMol; proxy of <Swig Object of type 'OEGraphMolWrapper *' at 0x1390b72d0> >, <oechem.OEGraphMol; proxy of <Swig Object of type 'OEGraphMolWrapper *' at 0x1390b7a50> >, <oechem.OEGraphMol; proxy of <Swig Object of type 'OEGraphMolWrapper *' at 0x1390b7210> >, <oechem.OEGraphMol; proxy of <Swig Object of type 'OEGraphMolWrapper *' at 0x1322eeb10> >, <oechem.OEGraphMol; proxy of <Swig Object of type 'OEGraphMolWrapper *' at 0x12e9e5f00> >, <oechem.OEGraphMol; proxy of <Swig Object of type 'OEGraphMolWrapper *' at 0x1301710f0> >, <oechem.OEGraphMol; proxy of <Swig Object of type 'OEGraphMolWrapper *' at 0x129fbd4b0> >, <oechem.OEGraphMol; proxy of <Swig Object of type 'OEGraphMolWrapper *' at 0x129fbd2a0> >, <oechem.OEGraphMol; proxy of <Swig Object of type 'OEGraphMolWrapper *' at 0x129fbdd20> >, <oechem.OEGraphMol; proxy of <Swig Object of type 'OEGraphMolWrapper *' at 0x129fbdb70> >, <oechem.OEGraphMol; proxy of <Swig Object of type 'OEGraphMolWrapper *' at 0x129fbd0c0> >, <oechem.OEGraphMol; proxy of <Swig Object of type 'OEGraphMolWrapper *' at 0x129fbd090> >, <oechem.OEGraphMol; proxy of <Swig Object of type 'OEGraphMolWrapper *' at 0x129fbd6c0> >, <oechem.OEGraphMol; proxy of <Swig Object of type 'OEGraphMolWrapper *' at 0x129fbd180> >, <oechem.OEGraphMol; proxy of <Swig Object of type 'OEGraphMolWrapper *' at 0x129fbd300> >, <oechem.OEGraphMol; proxy of <Swig Object of type 'OEGraphMolWrapper *' at 0x129fbda80> >, <oechem.OEGraphMol; proxy of <Swig Object of type 'OEGraphMolWrapper *' at 0x129fbdf90> >, <oechem.OEGraphMol; proxy of <Swig Object of type 'OEGraphMolWrapper *' at 0x129fbd720> >, <oechem.OEGraphMol; proxy of <Swig Object of type 'OEGraphMolWrapper *' at 0x13927b7e0> >, <oechem.OEGraphMol; proxy of <Swig Object of type 'OEGraphMolWrapper *' at 0x13927bb70> >, <oechem.OEGraphMol; proxy of <Swig Object of type 'OEGraphMolWrapper *' at 0x13927b3f0> >, <oechem.OEGraphMol; proxy of <Swig Object of type 'OEGraphMolWrapper *' at 0x13927b0f0> >, <oechem.OEGraphMol; proxy of <Swig Object of type 'OEGraphMolWrapper *' at 0x13927b8d0> >, <oechem.OEGraphMol; proxy of <Swig Object of type 'OEGraphMolWrapper *' at 0x13927bd50> >, <oechem.OEGraphMol; proxy of <Swig Object of type 'OEGraphMolWrapper *' at 0x13927b030> >, <oechem.OEGraphMol; proxy of <Swig Object of type 'OEGraphMolWrapper *' at 0x13927b690> >, <oechem.OEGraphMol; proxy of <Swig Object of type 'OEGraphMolWrapper *' at 0x13927b0c0> >, <oechem.OEGraphMol; proxy of <Swig Object of type 'OEGraphMolWrapper *' at 0x13927b1e0> >, <oechem.OEGraphMol; proxy of <Swig Object of type 'OEGraphMolWrapper *' at 0x13927b630> >, <oechem.OEGraphMol; proxy of <Swig Object of type 'OEGraphMolWrapper *' at 0x13927bcf0> >, <oechem.OEGraphMol; proxy of <Swig Object of type 'OEGraphMolWrapper *' at 0x13927b540> >, <oechem.OEGraphMol; proxy of <Swig Object of type 'OEGraphMolWrapper *' at 0x13927bba0> >, <oechem.OEGraphMol; proxy of <Swig Object of type 'OEGraphMolWrapper *' at 0x13927b5d0> >, <oechem.OEGraphMol; proxy of <Swig Object of type 'OEGraphMolWrapper *' at 0x13927bfc0> >, <oechem.OEGraphMol; proxy of <Swig Object of type 'OEGraphMolWrapper *' at 0x13927b6f0> >, <oechem.OEGraphMol; proxy of <Swig Object of type 'OEGraphMolWrapper *' at 0x13927b4e0> >, <oechem.OEGraphMol; proxy of <Swig Object of type 'OEGraphMolWrapper *' at 0x13927b2d0> >, <oechem.OEGraphMol; proxy of <Swig Object of type 'OEGraphMolWrapper *' at 0x13927bc00> >, <oechem.OEGraphMol; proxy of <Swig Object of type 'OEGraphMolWrapper *' at 0x13927be70> >, <oechem.OEGraphMol; proxy of <Swig Object of type 'OEGraphMolWrapper *' at 0x13927b840> >, <oechem.OEGraphMol; proxy of <Swig Object of type 'OEGraphMolWrapper *' at 0x13927b9c0> >, <oechem.OEGraphMol; proxy of <Swig Object of type 'OEGraphMolWrapper *' at 0x13927b090> >, <oechem.OEGraphMol; proxy of <Swig Object of type 'OEGraphMolWrapper *' at 0x13927b120> >, <oechem.OEGraphMol; proxy of <Swig Object of type 'OEGraphMolWrapper *' at 0x13927bcc0> >, <oechem.OEGraphMol; proxy of <Swig Object of type 'OEGraphMolWrapper *' at 0x13927bd80> >]\n",
      "{'t69': {'tb': [], 'wbo': []}, 't96': {'tb': [], 'wbo': []}, 't72': {'tb': [], 'wbo': []}, 't47': {'tb': [], 'wbo': []}, 't74': {'tb': [], 'wbo': []}, 't97': {'tb': [], 'wbo': []}, 't43': {'tb': [], 'wbo': []}}\n",
      "{'t69': {'tb': [27.86755490256712, 6.170761742959257, 10.747354330193389, 16.864049221529825, 23.051205274696315, 16.54002895585245, 21.661085122418854, 22.783036240937008, 15.882122047889709, 40.57818739992166, 12.930502547832987, 23.151305491974654, 25.796101569637813, 28.070295133477202, 28.326019236920274, 42.14401562787293, 13.731359902432587, 16.849648092475604, 17.860146242238045, 35.3329195885604, 35.03229700028129, 17.345800781670164, 27.219925844438137, 29.379259404558525, 43.652184875087244, 6.091018701322071, 18.767804928741043, 20.539934073283803, 24.95888428527161, 26.055222708803626, 37.81058854538395, 25.512510555553092, 41.3170499747348, 7.984063603970981, 10.344759153113273, 13.570886601302675, 23.09360572478323, 25.232346498500647, 18.986731655045105, 39.0906920869769, 10.031729840571359, 24.139314575776552, 34.86168905276952, 19.494518567324036, 23.238057845127514, 27.38535801968237, 21.5406176942914, 40.153875422107205, 12.844825186764638, 26.77682624789236, 25.409594627056492, 37.08434757075236, 16.05423354120552, 14.890865949508111, 13.914099835969353, 34.70257332733621, 26.423472666381258, 26.52680312637881, 27.108867939706727, 40.17661217821063, 38.44000157121974, 23.941102204552635, 33.54328732205573, 13.034839896430867, 28.956083298980786, 33.06949343707345, 6.546567733961268, 23.773146527836786, 33.357570154046186, 12.174455948613172, 18.026723951074757, 19.402876299744662, 15.832376243302491, 28.384961536307173, 23.9839072095848, 16.66581545028947, 35.7640949644952, 25.365832707389615, 31.003493384588353, 40.81387325544097, 25.556849902557758, 21.65165582574849, 20.678788099108033, 13.08219287872572, 28.53123768990517, 13.461614385125358, 21.764396634154053, 24.88501551747686, 27.6269128116883, 11.786537892013484, 20.023276993957552, 23.036591305240393, 7.832439226576469], 'wbo': [1.095469355583191, 0.994075357913971, 0.9741163849830627, 1.0330605506896973, 1.0310226678848267, 1.025420069694519, 1.036749243736267, 1.0253492593765259, 1.0154742002487183, 1.0852545499801636, 0.9962054491043091, 1.035115361213684, 1.0575617551803589, 1.113166332244873, 1.047263503074646, 1.09921133518219, 1.0364106893539429, 1.0556199550628662, 1.085001826286316, 1.1806467771530151, 1.1962193250656128, 1.06513249874115, 1.1333374977111816, 1.1190389394760132, 1.1726841926574707, 1.0050321817398071, 1.0547080039978027, 1.0346559286117554, 1.1229040622711182, 1.1286349296569824, 1.0861306190490723, 1.0607357025146484, 1.1188255548477173, 0.9943244457244873, 1.0034116506576538, 1.0255683660507202, 1.0603859424591064, 1.120592474937439, 1.0152701139450073, 1.09134042263031, 0.9952378273010254, 1.1094691753387451, 1.0749149322509766, 1.094595193862915, 1.025219202041626, 1.1086794137954712, 1.0155025720596313, 1.081023931503296, 0.9960746765136719, 1.09724760055542, 1.055249571800232, 1.068342685699463, 1.0755269527435303, 1.0445261001586914, 1.0583455562591553, 1.2423036098480225, 1.1324125528335571, 1.1220611333847046, 1.1561213731765747, 1.2124236822128296, 1.0999292135238647, 1.114452838897705, 1.0720317363739014, 1.0564637184143066, 1.1658496856689453, 1.2000529766082764, 1.0472196340560913, 1.13923978805542, 1.216996669769287, 1.0748305320739746, 1.1158050298690796, 1.076521396636963, 1.0476704835891724, 1.1186680793762207, 1.1097533702850342, 1.0566179752349854, 1.2225183248519897, 1.0883709192276, 1.1591485738754272, 1.1731644868850708, 1.0927399396896362, 1.1981067657470703, 1.115159511566162, 1.0591301918029785, 1.228899359703064, 1.0750055313110352, 1.1597895622253418, 1.1387231349945068, 1.2439484596252441, 1.025854229927063, 1.0593703985214233, 1.0487079620361328, 1.0158268213272095]}, 't96': {'tb': [7.641699688379674, 3.907828659097902, 13.102063340885536, 7.815576511945068, 4.303142610389159, 15.844811532709173, 20.968894320445145, 15.016164994101814, 16.33017311314211, 20.346727787513828, 20.83713589241887, 14.73430104227765, 28.18327924295602, 13.345545045495555, 27.970358472433304, 5.494559663340908, 20.925515668832816, 4.323025853070817, 22.251289691851696, 17.039514507136346, 13.384558776091126, 4.2368484863963545], 'wbo': [1.0196888446807861, 0.9857767224311829, 1.0451195240020752, 1.0181115865707397, 0.9715924859046936, 1.0451171398162842, 1.1035363674163818, 1.06597900390625, 1.077558994293213, 1.1216894388198853, 1.055013656616211, 1.0348448753356934, 1.0877676010131836, 1.0327019691467285, 1.0977275371551514, 1.019014596939087, 1.1086843013763428, 1.006698489189148, 1.0756690502166748, 1.0694036483764648, 1.0355976819992065, 0.9970029592514038]}, 't72': {'tb': [25.80227403575759, 36.73867841186956, 26.77570567270277, 33.02015064351889, 20.61657380659082], 'wbo': [0.855090856552124, 0.8852741122245789, 0.8658962249755859, 0.8750907182693481, 0.8451994061470032]}, 't47': {'tb': [33.085220639590034, 28.240565184563025, 33.43744223394248, 35.85411281589853, 30.086106644404424, 24.33616533190917, 38.95941499522843, 27.783994459224004, 28.236285891371097, 34.24653665456964, 24.93484871766509], 'wbo': [0.9568228721618652, 0.9094955921173096, 0.9351406097412109, 0.9679004549980164, 0.9451871514320374, 0.924723207950592, 0.9779902696609497, 0.9307712316513062, 0.9550900459289551, 0.9652816653251648, 0.9452120065689087]}, 't74': {'tb': [19.927072506764375], 'wbo': [0.8274430632591248]}, 't97': {'tb': [20.148315481922907, 15.238993765981519, 21.03340786340638, 17.51155893096228, 23.169276153501045, 9.98629538107005, 20.863022899257288, 22.607590410420016, 28.156339578008442], 'wbo': [1.0870646238327026, 1.0560970306396484, 1.0733479261398315, 1.0658559799194336, 1.105015516281128, 1.041306972503662, 1.1258726119995117, 1.0972670316696167, 1.1167268753051758]}, 't43': {'tb': [33.734547421909326, 102.95749054200638, 11.215804915930505, 43.37258588616203, 30.620957539502285, 8.628142323692373, 94.31082086100957, 35.66499253203102, 9.651716543447236, 9.534832998045317, 17.450100297619088, 25.26090713078173, 75.16545623610415, 22.281307543007642, 27.022141447873253], 'wbo': [1.083436369895935, 1.525848627090454, 1.012004017829895, 1.1075612306594849, 1.0273858308792114, 0.9944077730178833, 1.4680265188217163, 1.0344212055206299, 1.0097911357879639, 0.9942743182182312, 0.9882651567459106, 0.9825142025947571, 1.0248781442642212, 0.9917882084846497, 0.9821804165840149]}}\n",
      "t69\n",
      "0.6522552680532094\n",
      "96.25705548640947\n",
      "-81.06863603036894\n"
     ]
    },
    {
     "name": "stdout",
     "output_type": "stream",
     "text": [
      "t96\n",
      "0.8899074404274189\n",
      "162.88522917902029\n",
      "-156.38450247662013\n",
      "t72\n",
      "0.9807385265706327\n",
      "392.4366104856236\n",
      "-310.9887503647536\n"
     ]
    },
    {
     "name": "stderr",
     "output_type": "stream",
     "text": [
      "/Users/jessica/miniconda3/envs/openff-dev/lib/python3.7/site-packages/scipy/stats/_stats_mstats_common.py:130: RuntimeWarning: invalid value encountered in double_scalars\n",
      "  slope = r_num / ssxm\n",
      "/Users/jessica/miniconda3/envs/openff-dev/lib/python3.7/site-packages/scipy/stats/_stats_mstats_common.py:142: RuntimeWarning: invalid value encountered in double_scalars\n",
      "  sterrest = np.sqrt((1 - r**2) * ssym / ssxm / df)\n"
     ]
    },
    {
     "name": "stdout",
     "output_type": "stream",
     "text": [
      "t47\n",
      "0.7284102106111198\n",
      "164.72170086258006\n",
      "-125.10433627938869\n"
     ]
    },
    {
     "name": "stderr",
     "output_type": "stream",
     "text": [
      "/Users/jessica/miniconda3/envs/openff-dev/lib/python3.7/site-packages/scipy/stats/_stats_mstats_common.py:130: RuntimeWarning: invalid value encountered in double_scalars\n",
      "  slope = r_num / ssxm\n",
      "/Users/jessica/miniconda3/envs/openff-dev/lib/python3.7/site-packages/scipy/stats/_stats_mstats_common.py:140: RuntimeWarning: invalid value encountered in sqrt\n",
      "  t = r * np.sqrt(df / ((1.0 - r + TINY)*(1.0 + r + TINY)))\n",
      "/Users/jessica/miniconda3/envs/openff-dev/lib/python3.7/site-packages/scipy/stats/_stats_mstats_common.py:142: RuntimeWarning: invalid value encountered in double_scalars\n",
      "  sterrest = np.sqrt((1 - r**2) * ssym / ssxm / df)\n"
     ]
    },
    {
     "name": "stdout",
     "output_type": "stream",
     "text": [
      "t74\n",
      "0.0\n",
      "nan\n",
      "nan\n",
      "t97\n",
      "0.8498903609186031\n",
      "154.52944472939848\n",
      "-147.86827919802917\n",
      "t43\n",
      "0.8662198062958578\n",
      "152.7973729634531\n",
      "-128.8358689150425\n"
     ]
    },
    {
     "data": {
      "image/png": "[encoded data removed]",
      "text/plain": [
       "<Figure size 432x288 with 1 Axes>"
      ]
     },
     "metadata": {
      "needs_background": "light"
     },
     "output_type": "display_data"
    }
   ],
   "source": [
    "visualize_wbo_correlation('phenyl.oeb', 'phenyl.pdf')"
   ]
  },
  {
   "cell_type": "code",
   "execution_count": 87,
   "metadata": {},
   "outputs": [
    {
     "name": "stdout",
     "output_type": "stream",
     "text": [
      "[<oechem.OEGraphMol; proxy of <Swig Object of type 'OEGraphMolWrapper *' at 0x11c444d80> >, <oechem.OEGraphMol; proxy of <Swig Object of type 'OEGraphMolWrapper *' at 0x132128180> >, <oechem.OEGraphMol; proxy of <Swig Object of type 'OEGraphMolWrapper *' at 0x12e9b69f0> >, <oechem.OEGraphMol; proxy of <Swig Object of type 'OEGraphMolWrapper *' at 0x12e9b6ba0> >, <oechem.OEGraphMol; proxy of <Swig Object of type 'OEGraphMolWrapper *' at 0x12e9b6bd0> >, <oechem.OEGraphMol; proxy of <Swig Object of type 'OEGraphMolWrapper *' at 0x12e9b6990> >, <oechem.OEGraphMol; proxy of <Swig Object of type 'OEGraphMolWrapper *' at 0x12e9b6a50> >, <oechem.OEGraphMol; proxy of <Swig Object of type 'OEGraphMolWrapper *' at 0x12e9b6a80> >, <oechem.OEGraphMol; proxy of <Swig Object of type 'OEGraphMolWrapper *' at 0x12e9b66f0> >, <oechem.OEGraphMol; proxy of <Swig Object of type 'OEGraphMolWrapper *' at 0x12e9b6810> >, <oechem.OEGraphMol; proxy of <Swig Object of type 'OEGraphMolWrapper *' at 0x12e9b68d0> >, <oechem.OEGraphMol; proxy of <Swig Object of type 'OEGraphMolWrapper *' at 0x12e9b6150> >, <oechem.OEGraphMol; proxy of <Swig Object of type 'OEGraphMolWrapper *' at 0x12e9b6d50> >, <oechem.OEGraphMol; proxy of <Swig Object of type 'OEGraphMolWrapper *' at 0x12e9b64b0> >, <oechem.OEGraphMol; proxy of <Swig Object of type 'OEGraphMolWrapper *' at 0x12e9b6750> >, <oechem.OEGraphMol; proxy of <Swig Object of type 'OEGraphMolWrapper *' at 0x12a3c7c90> >, <oechem.OEGraphMol; proxy of <Swig Object of type 'OEGraphMolWrapper *' at 0x12a3c7ab0> >, <oechem.OEGraphMol; proxy of <Swig Object of type 'OEGraphMolWrapper *' at 0x12a31ea80> >, <oechem.OEGraphMol; proxy of <Swig Object of type 'OEGraphMolWrapper *' at 0x12a31e330> >, <oechem.OEGraphMol; proxy of <Swig Object of type 'OEGraphMolWrapper *' at 0x130cc5fc0> >, <oechem.OEGraphMol; proxy of <Swig Object of type 'OEGraphMolWrapper *' at 0x130cc5d20> >, <oechem.OEGraphMol; proxy of <Swig Object of type 'OEGraphMolWrapper *' at 0x130cc5b70> >, <oechem.OEGraphMol; proxy of <Swig Object of type 'OEGraphMolWrapper *' at 0x130cc50f0> >, <oechem.OEGraphMol; proxy of <Swig Object of type 'OEGraphMolWrapper *' at 0x131e53e40> >, <oechem.OEGraphMol; proxy of <Swig Object of type 'OEGraphMolWrapper *' at 0x131e53c90> >, <oechem.OEGraphMol; proxy of <Swig Object of type 'OEGraphMolWrapper *' at 0x131e53d80> >, <oechem.OEGraphMol; proxy of <Swig Object of type 'OEGraphMolWrapper *' at 0x131e53ba0> >, <oechem.OEGraphMol; proxy of <Swig Object of type 'OEGraphMolWrapper *' at 0x131e53840> >, <oechem.OEGraphMol; proxy of <Swig Object of type 'OEGraphMolWrapper *' at 0x131e539f0> >, <oechem.OEGraphMol; proxy of <Swig Object of type 'OEGraphMolWrapper *' at 0x131e53bd0> >, <oechem.OEGraphMol; proxy of <Swig Object of type 'OEGraphMolWrapper *' at 0x131e536f0> >, <oechem.OEGraphMol; proxy of <Swig Object of type 'OEGraphMolWrapper *' at 0x131e53b10> >, <oechem.OEGraphMol; proxy of <Swig Object of type 'OEGraphMolWrapper *' at 0x131e53d20> >, <oechem.OEGraphMol; proxy of <Swig Object of type 'OEGraphMolWrapper *' at 0x131e535a0> >, <oechem.OEGraphMol; proxy of <Swig Object of type 'OEGraphMolWrapper *' at 0x131e53870> >, <oechem.OEGraphMol; proxy of <Swig Object of type 'OEGraphMolWrapper *' at 0x131e53b70> >, <oechem.OEGraphMol; proxy of <Swig Object of type 'OEGraphMolWrapper *' at 0x131e53930> >, <oechem.OEGraphMol; proxy of <Swig Object of type 'OEGraphMolWrapper *' at 0x131e53db0> >, <oechem.OEGraphMol; proxy of <Swig Object of type 'OEGraphMolWrapper *' at 0x131e53b40> >, <oechem.OEGraphMol; proxy of <Swig Object of type 'OEGraphMolWrapper *' at 0x131e53ae0> >, <oechem.OEGraphMol; proxy of <Swig Object of type 'OEGraphMolWrapper *' at 0x131e53900> >, <oechem.OEGraphMol; proxy of <Swig Object of type 'OEGraphMolWrapper *' at 0x131e537b0> >, <oechem.OEGraphMol; proxy of <Swig Object of type 'OEGraphMolWrapper *' at 0x131e53d50> >, <oechem.OEGraphMol; proxy of <Swig Object of type 'OEGraphMolWrapper *' at 0x131e53e70> >, <oechem.OEGraphMol; proxy of <Swig Object of type 'OEGraphMolWrapper *' at 0x131e53de0> >, <oechem.OEGraphMol; proxy of <Swig Object of type 'OEGraphMolWrapper *' at 0x131e53a50> >, <oechem.OEGraphMol; proxy of <Swig Object of type 'OEGraphMolWrapper *' at 0x131e53960> >, <oechem.OEGraphMol; proxy of <Swig Object of type 'OEGraphMolWrapper *' at 0x131e53f00> >, <oechem.OEGraphMol; proxy of <Swig Object of type 'OEGraphMolWrapper *' at 0x131e53a80> >, <oechem.OEGraphMol; proxy of <Swig Object of type 'OEGraphMolWrapper *' at 0x131e53150> >, <oechem.OEGraphMol; proxy of <Swig Object of type 'OEGraphMolWrapper *' at 0x131e53c00> >, <oechem.OEGraphMol; proxy of <Swig Object of type 'OEGraphMolWrapper *' at 0x138fba210> >, <oechem.OEGraphMol; proxy of <Swig Object of type 'OEGraphMolWrapper *' at 0x138fbaa20> >, <oechem.OEGraphMol; proxy of <Swig Object of type 'OEGraphMolWrapper *' at 0x138fba090> >, <oechem.OEGraphMol; proxy of <Swig Object of type 'OEGraphMolWrapper *' at 0x138fba510> >, <oechem.OEGraphMol; proxy of <Swig Object of type 'OEGraphMolWrapper *' at 0x138fba3c0> >, <oechem.OEGraphMol; proxy of <Swig Object of type 'OEGraphMolWrapper *' at 0x138fba960> >, <oechem.OEGraphMol; proxy of <Swig Object of type 'OEGraphMolWrapper *' at 0x138fba750> >, <oechem.OEGraphMol; proxy of <Swig Object of type 'OEGraphMolWrapper *' at 0x138fbab70> >, <oechem.OEGraphMol; proxy of <Swig Object of type 'OEGraphMolWrapper *' at 0x138fba6c0> >, <oechem.OEGraphMol; proxy of <Swig Object of type 'OEGraphMolWrapper *' at 0x138fba060> >, <oechem.OEGraphMol; proxy of <Swig Object of type 'OEGraphMolWrapper *' at 0x138fbade0> >, <oechem.OEGraphMol; proxy of <Swig Object of type 'OEGraphMolWrapper *' at 0x138fbab40> >, <oechem.OEGraphMol; proxy of <Swig Object of type 'OEGraphMolWrapper *' at 0x138fba0f0> >, <oechem.OEGraphMol; proxy of <Swig Object of type 'OEGraphMolWrapper *' at 0x138fba630> >, <oechem.OEGraphMol; proxy of <Swig Object of type 'OEGraphMolWrapper *' at 0x138fba690> >, <oechem.OEGraphMol; proxy of <Swig Object of type 'OEGraphMolWrapper *' at 0x138fbafc0> >, <oechem.OEGraphMol; proxy of <Swig Object of type 'OEGraphMolWrapper *' at 0x138fba480> >, <oechem.OEGraphMol; proxy of <Swig Object of type 'OEGraphMolWrapper *' at 0x138fba660> >, <oechem.OEGraphMol; proxy of <Swig Object of type 'OEGraphMolWrapper *' at 0x138fba9c0> >, <oechem.OEGraphMol; proxy of <Swig Object of type 'OEGraphMolWrapper *' at 0x138fbabd0> >, <oechem.OEGraphMol; proxy of <Swig Object of type 'OEGraphMolWrapper *' at 0x138fbaab0> >]\n",
      "{'t1': {'tb': [], 'wbo': []}, 't2': {'tb': [], 'wbo': []}, 't3': {'tb': [], 'wbo': []}, 't4': {'tb': [], 'wbo': []}, 't5': {'tb': [], 'wbo': []}, 't9': {'tb': [], 'wbo': []}, 't10': {'tb': [], 'wbo': []}, 't13': {'tb': [], 'wbo': []}, 't15': {'tb': [], 'wbo': []}, 't16': {'tb': [], 'wbo': []}, 't20': {'tb': [], 'wbo': []}, 't22': {'tb': [], 'wbo': []}, 't24': {'tb': [], 'wbo': []}, 't25': {'tb': [], 'wbo': []}, 't27': {'tb': [], 'wbo': []}, 't28': {'tb': [], 'wbo': []}, 't29': {'tb': [], 'wbo': []}, 't32': {'tb': [], 'wbo': []}, 't33': {'tb': [], 'wbo': []}, 't36': {'tb': [], 'wbo': []}, 't38': {'tb': [], 'wbo': []}, 't39': {'tb': [], 'wbo': []}, 't41': {'tb': [], 'wbo': []}, 't42': {'tb': [], 'wbo': []}, 't44': {'tb': [], 'wbo': []}, 't45': {'tb': [], 'wbo': []}, 't46': {'tb': [], 'wbo': []}, 't47': {'tb': [], 'wbo': []}, 't51': {'tb': [], 'wbo': []}, 't51c': {'tb': [], 'wbo': []}, 't52': {'tb': [], 'wbo': []}, 't55': {'tb': [], 'wbo': []}, 't56': {'tb': [], 'wbo': []}, 't63': {'tb': [], 'wbo': []}, 't64': {'tb': [], 'wbo': []}, 't68': {'tb': [], 'wbo': []}, 't74': {'tb': [], 'wbo': []}, 't75': {'tb': [], 'wbo': []}, 't76': {'tb': [], 'wbo': []}, 't77': {'tb': [], 'wbo': []}, 't84': {'tb': [], 'wbo': []}, 't85': {'tb': [], 'wbo': []}, 't86': {'tb': [], 'wbo': []}, 't87': {'tb': [], 'wbo': []}, 't90': {'tb': [], 'wbo': []}, 't91': {'tb': [], 'wbo': []}, 't97': {'tb': [], 'wbo': []}, 't98': {'tb': [], 'wbo': []}, 't100': {'tb': [], 'wbo': []}, 't101': {'tb': [], 'wbo': []}, 't106': {'tb': [], 'wbo': []}, 't107': {'tb': [], 'wbo': []}, 't108': {'tb': [], 'wbo': []}, 't109': {'tb': [], 'wbo': []}, 't110': {'tb': [], 'wbo': []}, 't112': {'tb': [], 'wbo': []}, 't113': {'tb': [], 'wbo': []}, 't118': {'tb': [], 'wbo': []}, 't119': {'tb': [], 'wbo': []}, 't125': {'tb': [], 'wbo': []}, 't126': {'tb': [], 'wbo': []}, 't127': {'tb': [], 'wbo': []}, 't130': {'tb': [], 'wbo': []}, 't134': {'tb': [], 'wbo': []}, 't135': {'tb': [], 'wbo': []}, 't136': {'tb': [], 'wbo': []}, 't137': {'tb': [], 'wbo': []}, 't140': {'tb': [], 'wbo': []}, 't142': {'tb': [], 'wbo': []}, 't143': {'tb': [], 'wbo': []}, 't144': {'tb': [], 'wbo': []}, 't148': {'tb': [], 'wbo': []}}\n",
      "{'t1': {'tb': [51.774638032995426], 'wbo': [0.9111238121986389]}, 't2': {'tb': [38.57770540410388], 'wbo': [0.9429812431335449]}, 't3': {'tb': [13.275152870963154], 'wbo': [0.9881850481033325]}, 't4': {'tb': [23.97181126679243], 'wbo': [0.9428430199623108]}, 't5': {'tb': [22.643218131321078], 'wbo': [0.9639421701431274]}, 't9': {'tb': [12.668257110737159], 'wbo': [0.9777336120605469]}, 't10': {'tb': [14.244997540640952], 'wbo': [0.963092029094696]}, 't13': {'tb': [29.301136914167046], 'wbo': [0.9516448974609375]}, 't15': {'tb': [165.4900216608845], 'wbo': [0.9501287937164307]}, 't16': {'tb': [25.85431605743713], 'wbo': [0.986657440662384]}, 't20': {'tb': [10.022080671645313], 'wbo': [0.8688164353370667]}, 't22': {'tb': [63.550502151216165], 'wbo': [0.8735650181770325]}, 't24': {'tb': [18.557696851456853], 'wbo': [0.9789730310440063]}, 't25': {'tb': [15.976447265576667], 'wbo': [0.9766945242881775]}, 't27': {'tb': [47.089727605754774], 'wbo': [0.9565814137458801]}, 't28': {'tb': [25.62041890576529], 'wbo': [0.9587513208389282]}, 't29': {'tb': [45.03029579141969], 'wbo': [1.0003539323806763]}, 't32': {'tb': [22.678625048096933], 'wbo': [0.9701621532440186]}, 't33': {'tb': [15.154722452002943], 'wbo': [0.9514658451080322]}, 't36': {'tb': [23.61700296472418], 'wbo': [0.9803035259246826]}, 't38': {'tb': [25.2478771765405], 'wbo': [0.9538903832435608]}, 't39': {'tb': [30.42048018299306], 'wbo': [0.9757434725761414]}, 't41': {'tb': [23.374076705987136], 'wbo': [0.9128421545028687]}, 't42': {'tb': [23.752605904934626], 'wbo': [0.9344035387039185]}, 't44': {'tb': [143.80266129648726], 'wbo': [1.386738896369934]}, 't45': {'tb': [154.53867255208024], 'wbo': [1.8225455284118652]}, 't46': {'tb': [165.96358379242395], 'wbo': [1.8863041400909424]}, 't47': {'tb': [80.22827144434439], 'wbo': [0.913450300693512]}, 't51': {'tb': [35.872259926859215], 'wbo': [0.9468140602111816]}, 't51c': {'tb': [19.316016404311995], 'wbo': [0.8794205188751221]}, 't52': {'tb': [33.57353432356865], 'wbo': [0.9853236079216003]}, 't55': {'tb': [20.88515294606782], 'wbo': [0.991186261177063]}, 't56': {'tb': [56.54761183112913], 'wbo': [0.9780779480934143]}, 't63': {'tb': [33.475836187431696], 'wbo': [0.8904542922973633]}, 't64': {'tb': [37.23246540939772], 'wbo': [0.9094618558883667]}, 't68': {'tb': [156.58790815575412], 'wbo': [0.9970721006393433]}, 't74': {'tb': [22.526432573253032], 'wbo': [1.0233967304229736]}, 't75': {'tb': [210.0143374933822], 'wbo': [1.4628058671951294]}, 't76': {'tb': [153.62238605967457], 'wbo': [1.2124300003051758]}, 't77': {'tb': [61.279747788852205], 'wbo': [1.664225459098816]}, 't84': {'tb': [9.197108711860096], 'wbo': [0.9907912611961365]}, 't85': {'tb': [15.648989720815166], 'wbo': [0.9751232862472534]}, 't86': {'tb': [29.68183783652796], 'wbo': [0.961640477180481]}, 't87': {'tb': [19.96776743026851], 'wbo': [0.9726084470748901]}, 't90': {'tb': [19.44493923636162], 'wbo': [0.9955126047134399]}, 't91': {'tb': [29.746025794217758], 'wbo': [0.9377965331077576]}, 't97': {'tb': [32.86055455546517], 'wbo': [1.0618854761123657]}, 't98': {'tb': [28.3453294741671], 'wbo': [0.9092822074890137]}, 't100': {'tb': [56.593823300720146], 'wbo': [1.0494701862335205]}, 't101': {'tb': [50.963832073107824], 'wbo': [1.0220905542373657]}, 't106': {'tb': [49.43230646252158], 'wbo': [0.9946683049201965]}, 't107': {'tb': [7.582670376198507], 'wbo': [0.9927126169204712]}, 't108': {'tb': [134.7211132303555], 'wbo': [1.133301854133606]}, 't109': {'tb': [15.71331288853412], 'wbo': [0.6046302318572998]}, 't110': {'tb': [5.407066492722606], 'wbo': [0.6302614808082581]}, 't112': {'tb': [18.938332993663266], 'wbo': [0.5830780863761902]}, 't113': {'tb': [18.271781256016197], 'wbo': [0.610609233379364]}, 't118': {'tb': [59.91350559406237], 'wbo': [0.9673476219177246]}, 't119': {'tb': [250.29262200767596], 'wbo': [0.9852674007415771]}, 't125': {'tb': [57.40678426320159], 'wbo': [0.9433141946792603]}, 't126': {'tb': [38.26207572219721], 'wbo': [0.9465128183364868]}, 't127': {'tb': [173.88833300019456], 'wbo': [0.9492403268814087]}, 't130': {'tb': [144.36100788168847], 'wbo': [1.8121529817581177]}, 't134': {'tb': [42.277312583225466], 'wbo': [0.581450879573822]}, 't135': {'tb': [40.24549401551451], 'wbo': [0.5817962884902954]}, 't136': {'tb': [25.15370278083128], 'wbo': [0.6461731195449829]}, 't137': {'tb': [36.013692423711404], 'wbo': [0.6131548881530762]}, 't140': {'tb': [32.673750336287014], 'wbo': [0.6090989708900452]}, 't142': {'tb': [34.54412144043886], 'wbo': [0.5523198843002319]}, 't143': {'tb': [25.40983718147004], 'wbo': [0.46871909499168396]}, 't144': {'tb': [19.72045363342653], 'wbo': [0.5536098480224609]}, 't148': {'tb': [18.310948130801194], 'wbo': [0.5413110256195068]}}\n",
      "nan\n",
      "nan\n"
     ]
    },
    {
     "name": "stderr",
     "output_type": "stream",
     "text": [
      "/Users/jessica/miniconda3/envs/openff-dev/lib/python3.7/site-packages/scipy/stats/_stats_mstats_common.py:130: RuntimeWarning: invalid value encountered in double_scalars\n",
      "  slope = r_num / ssxm\n",
      "/Users/jessica/miniconda3/envs/openff-dev/lib/python3.7/site-packages/scipy/stats/_stats_mstats_common.py:140: RuntimeWarning: invalid value encountered in sqrt\n",
      "  t = r * np.sqrt(df / ((1.0 - r + TINY)*(1.0 + r + TINY)))\n",
      "/Users/jessica/miniconda3/envs/openff-dev/lib/python3.7/site-packages/scipy/stats/_stats_mstats_common.py:142: RuntimeWarning: invalid value encountered in double_scalars\n",
      "  sterrest = np.sqrt((1 - r**2) * ssym / ssxm / df)\n",
      "/Users/jessica/miniconda3/envs/openff-dev/lib/python3.7/site-packages/scipy/stats/_stats_mstats_common.py:130: RuntimeWarning: invalid value encountered in double_scalars\n",
      "  slope = r_num / ssxm\n",
      "/Users/jessica/miniconda3/envs/openff-dev/lib/python3.7/site-packages/scipy/stats/_stats_mstats_common.py:140: RuntimeWarning: invalid value encountered in sqrt\n",
      "  t = r * np.sqrt(df / ((1.0 - r + TINY)*(1.0 + r + TINY)))\n",
      "/Users/jessica/miniconda3/envs/openff-dev/lib/python3.7/site-packages/scipy/stats/_stats_mstats_common.py:142: RuntimeWarning: invalid value encountered in double_scalars\n",
      "  sterrest = np.sqrt((1 - r**2) * ssym / ssxm / df)\n"
     ]
    },
    {
     "name": "stdout",
     "output_type": "stream",
     "text": [
      "nan\n",
      "nan\n"
     ]
    },
    {
     "name": "stderr",
     "output_type": "stream",
     "text": [
      "/Users/jessica/miniconda3/envs/openff-dev/lib/python3.7/site-packages/scipy/stats/_stats_mstats_common.py:130: RuntimeWarning: invalid value encountered in double_scalars\n",
      "  slope = r_num / ssxm\n",
      "/Users/jessica/miniconda3/envs/openff-dev/lib/python3.7/site-packages/scipy/stats/_stats_mstats_common.py:140: RuntimeWarning: invalid value encountered in sqrt\n",
      "  t = r * np.sqrt(df / ((1.0 - r + TINY)*(1.0 + r + TINY)))\n",
      "/Users/jessica/miniconda3/envs/openff-dev/lib/python3.7/site-packages/scipy/stats/_stats_mstats_common.py:142: RuntimeWarning: invalid value encountered in double_scalars\n",
      "  sterrest = np.sqrt((1 - r**2) * ssym / ssxm / df)\n"
     ]
    },
    {
     "name": "stdout",
     "output_type": "stream",
     "text": [
      "nan\n",
      "nan\n"
     ]
    },
    {
     "name": "stderr",
     "output_type": "stream",
     "text": [
      "/Users/jessica/miniconda3/envs/openff-dev/lib/python3.7/site-packages/scipy/stats/_stats_mstats_common.py:130: RuntimeWarning: invalid value encountered in double_scalars\n",
      "  slope = r_num / ssxm\n",
      "/Users/jessica/miniconda3/envs/openff-dev/lib/python3.7/site-packages/scipy/stats/_stats_mstats_common.py:140: RuntimeWarning: invalid value encountered in sqrt\n",
      "  t = r * np.sqrt(df / ((1.0 - r + TINY)*(1.0 + r + TINY)))\n",
      "/Users/jessica/miniconda3/envs/openff-dev/lib/python3.7/site-packages/scipy/stats/_stats_mstats_common.py:142: RuntimeWarning: invalid value encountered in double_scalars\n",
      "  sterrest = np.sqrt((1 - r**2) * ssym / ssxm / df)\n"
     ]
    },
    {
     "name": "stdout",
     "output_type": "stream",
     "text": [
      "nan\n",
      "nan\n"
     ]
    },
    {
     "name": "stderr",
     "output_type": "stream",
     "text": [
      "/Users/jessica/miniconda3/envs/openff-dev/lib/python3.7/site-packages/scipy/stats/_stats_mstats_common.py:130: RuntimeWarning: invalid value encountered in double_scalars\n",
      "  slope = r_num / ssxm\n",
      "/Users/jessica/miniconda3/envs/openff-dev/lib/python3.7/site-packages/scipy/stats/_stats_mstats_common.py:140: RuntimeWarning: invalid value encountered in sqrt\n",
      "  t = r * np.sqrt(df / ((1.0 - r + TINY)*(1.0 + r + TINY)))\n",
      "/Users/jessica/miniconda3/envs/openff-dev/lib/python3.7/site-packages/scipy/stats/_stats_mstats_common.py:142: RuntimeWarning: invalid value encountered in double_scalars\n",
      "  sterrest = np.sqrt((1 - r**2) * ssym / ssxm / df)\n"
     ]
    },
    {
     "name": "stdout",
     "output_type": "stream",
     "text": [
      "nan\n",
      "nan\n"
     ]
    },
    {
     "name": "stderr",
     "output_type": "stream",
     "text": [
      "/Users/jessica/miniconda3/envs/openff-dev/lib/python3.7/site-packages/scipy/stats/_stats_mstats_common.py:130: RuntimeWarning: invalid value encountered in double_scalars\n",
      "  slope = r_num / ssxm\n",
      "/Users/jessica/miniconda3/envs/openff-dev/lib/python3.7/site-packages/scipy/stats/_stats_mstats_common.py:140: RuntimeWarning: invalid value encountered in sqrt\n",
      "  t = r * np.sqrt(df / ((1.0 - r + TINY)*(1.0 + r + TINY)))\n",
      "/Users/jessica/miniconda3/envs/openff-dev/lib/python3.7/site-packages/scipy/stats/_stats_mstats_common.py:142: RuntimeWarning: invalid value encountered in double_scalars\n",
      "  sterrest = np.sqrt((1 - r**2) * ssym / ssxm / df)\n"
     ]
    },
    {
     "name": "stdout",
     "output_type": "stream",
     "text": [
      "nan\n",
      "nan\n"
     ]
    },
    {
     "name": "stderr",
     "output_type": "stream",
     "text": [
      "/Users/jessica/miniconda3/envs/openff-dev/lib/python3.7/site-packages/scipy/stats/_stats_mstats_common.py:130: RuntimeWarning: invalid value encountered in double_scalars\n",
      "  slope = r_num / ssxm\n",
      "/Users/jessica/miniconda3/envs/openff-dev/lib/python3.7/site-packages/scipy/stats/_stats_mstats_common.py:140: RuntimeWarning: invalid value encountered in sqrt\n",
      "  t = r * np.sqrt(df / ((1.0 - r + TINY)*(1.0 + r + TINY)))\n",
      "/Users/jessica/miniconda3/envs/openff-dev/lib/python3.7/site-packages/scipy/stats/_stats_mstats_common.py:142: RuntimeWarning: invalid value encountered in double_scalars\n",
      "  sterrest = np.sqrt((1 - r**2) * ssym / ssxm / df)\n"
     ]
    },
    {
     "name": "stdout",
     "output_type": "stream",
     "text": [
      "nan\n",
      "nan\n"
     ]
    },
    {
     "name": "stderr",
     "output_type": "stream",
     "text": [
      "/Users/jessica/miniconda3/envs/openff-dev/lib/python3.7/site-packages/scipy/stats/_stats_mstats_common.py:130: RuntimeWarning: invalid value encountered in double_scalars\n",
      "  slope = r_num / ssxm\n",
      "/Users/jessica/miniconda3/envs/openff-dev/lib/python3.7/site-packages/scipy/stats/_stats_mstats_common.py:140: RuntimeWarning: invalid value encountered in sqrt\n",
      "  t = r * np.sqrt(df / ((1.0 - r + TINY)*(1.0 + r + TINY)))\n",
      "/Users/jessica/miniconda3/envs/openff-dev/lib/python3.7/site-packages/scipy/stats/_stats_mstats_common.py:142: RuntimeWarning: invalid value encountered in double_scalars\n",
      "  sterrest = np.sqrt((1 - r**2) * ssym / ssxm / df)\n"
     ]
    },
    {
     "name": "stdout",
     "output_type": "stream",
     "text": [
      "nan\n",
      "nan\n"
     ]
    },
    {
     "name": "stderr",
     "output_type": "stream",
     "text": [
      "/Users/jessica/miniconda3/envs/openff-dev/lib/python3.7/site-packages/scipy/stats/_stats_mstats_common.py:130: RuntimeWarning: invalid value encountered in double_scalars\n",
      "  slope = r_num / ssxm\n",
      "/Users/jessica/miniconda3/envs/openff-dev/lib/python3.7/site-packages/scipy/stats/_stats_mstats_common.py:140: RuntimeWarning: invalid value encountered in sqrt\n",
      "  t = r * np.sqrt(df / ((1.0 - r + TINY)*(1.0 + r + TINY)))\n",
      "/Users/jessica/miniconda3/envs/openff-dev/lib/python3.7/site-packages/scipy/stats/_stats_mstats_common.py:142: RuntimeWarning: invalid value encountered in double_scalars\n",
      "  sterrest = np.sqrt((1 - r**2) * ssym / ssxm / df)\n"
     ]
    },
    {
     "name": "stdout",
     "output_type": "stream",
     "text": [
      "nan\n",
      "nan\n"
     ]
    },
    {
     "name": "stderr",
     "output_type": "stream",
     "text": [
      "/Users/jessica/miniconda3/envs/openff-dev/lib/python3.7/site-packages/scipy/stats/_stats_mstats_common.py:130: RuntimeWarning: invalid value encountered in double_scalars\n",
      "  slope = r_num / ssxm\n",
      "/Users/jessica/miniconda3/envs/openff-dev/lib/python3.7/site-packages/scipy/stats/_stats_mstats_common.py:140: RuntimeWarning: invalid value encountered in sqrt\n",
      "  t = r * np.sqrt(df / ((1.0 - r + TINY)*(1.0 + r + TINY)))\n",
      "/Users/jessica/miniconda3/envs/openff-dev/lib/python3.7/site-packages/scipy/stats/_stats_mstats_common.py:142: RuntimeWarning: invalid value encountered in double_scalars\n",
      "  sterrest = np.sqrt((1 - r**2) * ssym / ssxm / df)\n"
     ]
    },
    {
     "name": "stdout",
     "output_type": "stream",
     "text": [
      "nan\n",
      "nan\n"
     ]
    },
    {
     "name": "stderr",
     "output_type": "stream",
     "text": [
      "/Users/jessica/miniconda3/envs/openff-dev/lib/python3.7/site-packages/scipy/stats/_stats_mstats_common.py:130: RuntimeWarning: invalid value encountered in double_scalars\n",
      "  slope = r_num / ssxm\n",
      "/Users/jessica/miniconda3/envs/openff-dev/lib/python3.7/site-packages/scipy/stats/_stats_mstats_common.py:140: RuntimeWarning: invalid value encountered in sqrt\n",
      "  t = r * np.sqrt(df / ((1.0 - r + TINY)*(1.0 + r + TINY)))\n",
      "/Users/jessica/miniconda3/envs/openff-dev/lib/python3.7/site-packages/scipy/stats/_stats_mstats_common.py:142: RuntimeWarning: invalid value encountered in double_scalars\n",
      "  sterrest = np.sqrt((1 - r**2) * ssym / ssxm / df)\n"
     ]
    },
    {
     "name": "stdout",
     "output_type": "stream",
     "text": [
      "nan\n",
      "nan\n"
     ]
    },
    {
     "name": "stderr",
     "output_type": "stream",
     "text": [
      "/Users/jessica/miniconda3/envs/openff-dev/lib/python3.7/site-packages/scipy/stats/_stats_mstats_common.py:130: RuntimeWarning: invalid value encountered in double_scalars\n",
      "  slope = r_num / ssxm\n",
      "/Users/jessica/miniconda3/envs/openff-dev/lib/python3.7/site-packages/scipy/stats/_stats_mstats_common.py:140: RuntimeWarning: invalid value encountered in sqrt\n",
      "  t = r * np.sqrt(df / ((1.0 - r + TINY)*(1.0 + r + TINY)))\n",
      "/Users/jessica/miniconda3/envs/openff-dev/lib/python3.7/site-packages/scipy/stats/_stats_mstats_common.py:142: RuntimeWarning: invalid value encountered in double_scalars\n",
      "  sterrest = np.sqrt((1 - r**2) * ssym / ssxm / df)\n"
     ]
    },
    {
     "name": "stdout",
     "output_type": "stream",
     "text": [
      "nan\n",
      "nan\n"
     ]
    },
    {
     "name": "stderr",
     "output_type": "stream",
     "text": [
      "/Users/jessica/miniconda3/envs/openff-dev/lib/python3.7/site-packages/scipy/stats/_stats_mstats_common.py:130: RuntimeWarning: invalid value encountered in double_scalars\n",
      "  slope = r_num / ssxm\n",
      "/Users/jessica/miniconda3/envs/openff-dev/lib/python3.7/site-packages/scipy/stats/_stats_mstats_common.py:140: RuntimeWarning: invalid value encountered in sqrt\n",
      "  t = r * np.sqrt(df / ((1.0 - r + TINY)*(1.0 + r + TINY)))\n",
      "/Users/jessica/miniconda3/envs/openff-dev/lib/python3.7/site-packages/scipy/stats/_stats_mstats_common.py:142: RuntimeWarning: invalid value encountered in double_scalars\n",
      "  sterrest = np.sqrt((1 - r**2) * ssym / ssxm / df)\n"
     ]
    },
    {
     "name": "stdout",
     "output_type": "stream",
     "text": [
      "nan\n",
      "nan\n"
     ]
    },
    {
     "name": "stderr",
     "output_type": "stream",
     "text": [
      "/Users/jessica/miniconda3/envs/openff-dev/lib/python3.7/site-packages/scipy/stats/_stats_mstats_common.py:130: RuntimeWarning: invalid value encountered in double_scalars\n",
      "  slope = r_num / ssxm\n",
      "/Users/jessica/miniconda3/envs/openff-dev/lib/python3.7/site-packages/scipy/stats/_stats_mstats_common.py:140: RuntimeWarning: invalid value encountered in sqrt\n",
      "  t = r * np.sqrt(df / ((1.0 - r + TINY)*(1.0 + r + TINY)))\n",
      "/Users/jessica/miniconda3/envs/openff-dev/lib/python3.7/site-packages/scipy/stats/_stats_mstats_common.py:142: RuntimeWarning: invalid value encountered in double_scalars\n",
      "  sterrest = np.sqrt((1 - r**2) * ssym / ssxm / df)\n"
     ]
    },
    {
     "name": "stdout",
     "output_type": "stream",
     "text": [
      "nan\n",
      "nan\n"
     ]
    },
    {
     "name": "stderr",
     "output_type": "stream",
     "text": [
      "/Users/jessica/miniconda3/envs/openff-dev/lib/python3.7/site-packages/scipy/stats/_stats_mstats_common.py:130: RuntimeWarning: invalid value encountered in double_scalars\n",
      "  slope = r_num / ssxm\n",
      "/Users/jessica/miniconda3/envs/openff-dev/lib/python3.7/site-packages/scipy/stats/_stats_mstats_common.py:140: RuntimeWarning: invalid value encountered in sqrt\n",
      "  t = r * np.sqrt(df / ((1.0 - r + TINY)*(1.0 + r + TINY)))\n",
      "/Users/jessica/miniconda3/envs/openff-dev/lib/python3.7/site-packages/scipy/stats/_stats_mstats_common.py:142: RuntimeWarning: invalid value encountered in double_scalars\n",
      "  sterrest = np.sqrt((1 - r**2) * ssym / ssxm / df)\n"
     ]
    },
    {
     "name": "stdout",
     "output_type": "stream",
     "text": [
      "nan\n",
      "nan\n"
     ]
    },
    {
     "name": "stderr",
     "output_type": "stream",
     "text": [
      "/Users/jessica/miniconda3/envs/openff-dev/lib/python3.7/site-packages/scipy/stats/_stats_mstats_common.py:130: RuntimeWarning: invalid value encountered in double_scalars\n",
      "  slope = r_num / ssxm\n",
      "/Users/jessica/miniconda3/envs/openff-dev/lib/python3.7/site-packages/scipy/stats/_stats_mstats_common.py:140: RuntimeWarning: invalid value encountered in sqrt\n",
      "  t = r * np.sqrt(df / ((1.0 - r + TINY)*(1.0 + r + TINY)))\n",
      "/Users/jessica/miniconda3/envs/openff-dev/lib/python3.7/site-packages/scipy/stats/_stats_mstats_common.py:142: RuntimeWarning: invalid value encountered in double_scalars\n",
      "  sterrest = np.sqrt((1 - r**2) * ssym / ssxm / df)\n"
     ]
    },
    {
     "name": "stdout",
     "output_type": "stream",
     "text": [
      "nan\n",
      "nan\n"
     ]
    },
    {
     "name": "stderr",
     "output_type": "stream",
     "text": [
      "/Users/jessica/miniconda3/envs/openff-dev/lib/python3.7/site-packages/scipy/stats/_stats_mstats_common.py:130: RuntimeWarning: invalid value encountered in double_scalars\n",
      "  slope = r_num / ssxm\n",
      "/Users/jessica/miniconda3/envs/openff-dev/lib/python3.7/site-packages/scipy/stats/_stats_mstats_common.py:140: RuntimeWarning: invalid value encountered in sqrt\n",
      "  t = r * np.sqrt(df / ((1.0 - r + TINY)*(1.0 + r + TINY)))\n",
      "/Users/jessica/miniconda3/envs/openff-dev/lib/python3.7/site-packages/scipy/stats/_stats_mstats_common.py:142: RuntimeWarning: invalid value encountered in double_scalars\n",
      "  sterrest = np.sqrt((1 - r**2) * ssym / ssxm / df)\n"
     ]
    },
    {
     "name": "stdout",
     "output_type": "stream",
     "text": [
      "nan\n",
      "nan\n"
     ]
    },
    {
     "name": "stderr",
     "output_type": "stream",
     "text": [
      "/Users/jessica/miniconda3/envs/openff-dev/lib/python3.7/site-packages/scipy/stats/_stats_mstats_common.py:130: RuntimeWarning: invalid value encountered in double_scalars\n",
      "  slope = r_num / ssxm\n",
      "/Users/jessica/miniconda3/envs/openff-dev/lib/python3.7/site-packages/scipy/stats/_stats_mstats_common.py:140: RuntimeWarning: invalid value encountered in sqrt\n",
      "  t = r * np.sqrt(df / ((1.0 - r + TINY)*(1.0 + r + TINY)))\n",
      "/Users/jessica/miniconda3/envs/openff-dev/lib/python3.7/site-packages/scipy/stats/_stats_mstats_common.py:142: RuntimeWarning: invalid value encountered in double_scalars\n",
      "  sterrest = np.sqrt((1 - r**2) * ssym / ssxm / df)\n"
     ]
    },
    {
     "name": "stdout",
     "output_type": "stream",
     "text": [
      "nan\n",
      "nan\n"
     ]
    },
    {
     "name": "stderr",
     "output_type": "stream",
     "text": [
      "/Users/jessica/miniconda3/envs/openff-dev/lib/python3.7/site-packages/scipy/stats/_stats_mstats_common.py:130: RuntimeWarning: invalid value encountered in double_scalars\n",
      "  slope = r_num / ssxm\n",
      "/Users/jessica/miniconda3/envs/openff-dev/lib/python3.7/site-packages/scipy/stats/_stats_mstats_common.py:140: RuntimeWarning: invalid value encountered in sqrt\n",
      "  t = r * np.sqrt(df / ((1.0 - r + TINY)*(1.0 + r + TINY)))\n",
      "/Users/jessica/miniconda3/envs/openff-dev/lib/python3.7/site-packages/scipy/stats/_stats_mstats_common.py:142: RuntimeWarning: invalid value encountered in double_scalars\n",
      "  sterrest = np.sqrt((1 - r**2) * ssym / ssxm / df)\n"
     ]
    },
    {
     "name": "stdout",
     "output_type": "stream",
     "text": [
      "nan\n",
      "nan\n"
     ]
    },
    {
     "name": "stderr",
     "output_type": "stream",
     "text": [
      "/Users/jessica/miniconda3/envs/openff-dev/lib/python3.7/site-packages/scipy/stats/_stats_mstats_common.py:130: RuntimeWarning: invalid value encountered in double_scalars\n",
      "  slope = r_num / ssxm\n",
      "/Users/jessica/miniconda3/envs/openff-dev/lib/python3.7/site-packages/scipy/stats/_stats_mstats_common.py:140: RuntimeWarning: invalid value encountered in sqrt\n",
      "  t = r * np.sqrt(df / ((1.0 - r + TINY)*(1.0 + r + TINY)))\n",
      "/Users/jessica/miniconda3/envs/openff-dev/lib/python3.7/site-packages/scipy/stats/_stats_mstats_common.py:142: RuntimeWarning: invalid value encountered in double_scalars\n",
      "  sterrest = np.sqrt((1 - r**2) * ssym / ssxm / df)\n"
     ]
    },
    {
     "name": "stdout",
     "output_type": "stream",
     "text": [
      "nan\n",
      "nan\n"
     ]
    },
    {
     "ename": "IndexError",
     "evalue": "list index out of range",
     "output_type": "error",
     "traceback": [
      "\u001b[0;31m---------------------------------------------------------------------------\u001b[0m",
      "\u001b[0;31mIndexError\u001b[0m                                Traceback (most recent call last)",
      "\u001b[0;32m<ipython-input-87-70a200ba81c3>\u001b[0m in \u001b[0;36m<module>\u001b[0;34m\u001b[0m\n\u001b[0;32m----> 1\u001b[0;31m \u001b[0mvisualize_wbo_correlation\u001b[0m\u001b[0;34m(\u001b[0m\u001b[0;34m'bayer.oeb'\u001b[0m\u001b[0;34m,\u001b[0m \u001b[0;34m'bayer.pdf'\u001b[0m\u001b[0;34m)\u001b[0m\u001b[0;34m\u001b[0m\u001b[0;34m\u001b[0m\u001b[0m\n\u001b[0m",
      "\u001b[0;32m<ipython-input-79-d2acdca54e6d>\u001b[0m in \u001b[0;36mvisualize_wbo_correlation\u001b[0;34m(fileName, fname)\u001b[0m\n\u001b[1;32m     58\u001b[0m \u001b[0;34m\u001b[0m\u001b[0m\n\u001b[1;32m     59\u001b[0m     \u001b[0;32mfor\u001b[0m \u001b[0mi\u001b[0m\u001b[0;34m,\u001b[0m \u001b[0;34m(\u001b[0m\u001b[0mkey\u001b[0m\u001b[0;34m,\u001b[0m \u001b[0mitem\u001b[0m\u001b[0;34m)\u001b[0m \u001b[0;32min\u001b[0m \u001b[0menumerate\u001b[0m\u001b[0;34m(\u001b[0m\u001b[0mtorsionDict\u001b[0m\u001b[0;34m.\u001b[0m\u001b[0mitems\u001b[0m\u001b[0;34m(\u001b[0m\u001b[0;34m)\u001b[0m\u001b[0;34m)\u001b[0m\u001b[0;34m:\u001b[0m\u001b[0;34m\u001b[0m\u001b[0;34m\u001b[0m\u001b[0m\n\u001b[0;32m---> 60\u001b[0;31m         \u001b[0max\u001b[0m\u001b[0;34m.\u001b[0m\u001b[0mscatter\u001b[0m\u001b[0;34m(\u001b[0m\u001b[0mtorsionDict\u001b[0m\u001b[0;34m[\u001b[0m\u001b[0mkey\u001b[0m\u001b[0;34m]\u001b[0m\u001b[0;34m[\u001b[0m\u001b[0;34m'wbo'\u001b[0m\u001b[0;34m]\u001b[0m\u001b[0;34m,\u001b[0m\u001b[0mtorsionDict\u001b[0m\u001b[0;34m[\u001b[0m\u001b[0mkey\u001b[0m\u001b[0;34m]\u001b[0m\u001b[0;34m[\u001b[0m\u001b[0;34m'tb'\u001b[0m\u001b[0;34m]\u001b[0m\u001b[0;34m,\u001b[0m\u001b[0mc\u001b[0m\u001b[0;34m=\u001b[0m\u001b[0mcolors\u001b[0m\u001b[0;34m[\u001b[0m\u001b[0mi\u001b[0m\u001b[0;34m]\u001b[0m\u001b[0;34m,\u001b[0m \u001b[0mlabel\u001b[0m\u001b[0;34m=\u001b[0m\u001b[0mkey\u001b[0m\u001b[0;34m)\u001b[0m\u001b[0;34m\u001b[0m\u001b[0;34m\u001b[0m\u001b[0m\n\u001b[0m\u001b[1;32m     61\u001b[0m         \u001b[0mslope\u001b[0m\u001b[0;34m,\u001b[0m \u001b[0mintercept\u001b[0m\u001b[0;34m,\u001b[0m \u001b[0mr_value\u001b[0m\u001b[0;34m,\u001b[0m \u001b[0mp_value\u001b[0m\u001b[0;34m,\u001b[0m \u001b[0mstd_err\u001b[0m \u001b[0;34m=\u001b[0m \u001b[0mstats\u001b[0m\u001b[0;34m.\u001b[0m\u001b[0mlinregress\u001b[0m\u001b[0;34m(\u001b[0m\u001b[0mtorsionDict\u001b[0m\u001b[0;34m[\u001b[0m\u001b[0mkey\u001b[0m\u001b[0;34m]\u001b[0m\u001b[0;34m[\u001b[0m\u001b[0;34m'wbo'\u001b[0m\u001b[0;34m]\u001b[0m\u001b[0;34m,\u001b[0m \u001b[0mtorsionDict\u001b[0m\u001b[0;34m[\u001b[0m\u001b[0mkey\u001b[0m\u001b[0;34m]\u001b[0m\u001b[0;34m[\u001b[0m\u001b[0;34m'tb'\u001b[0m\u001b[0;34m]\u001b[0m\u001b[0;34m)\u001b[0m\u001b[0;34m\u001b[0m\u001b[0;34m\u001b[0m\u001b[0m\n\u001b[1;32m     62\u001b[0m         \u001b[0mprint\u001b[0m\u001b[0;34m(\u001b[0m\u001b[0mslope\u001b[0m\u001b[0;34m)\u001b[0m\u001b[0;34m\u001b[0m\u001b[0;34m\u001b[0m\u001b[0m\n",
      "\u001b[0;31mIndexError\u001b[0m: list index out of range"
     ]
    },
    {
     "data": {
      "image/png": "[encoded data removed]",
      "text/plain": [
       "<Figure size 432x288 with 1 Axes>"
      ]
     },
     "metadata": {
      "needs_background": "light"
     },
     "output_type": "display_data"
    }
   ],
   "source": [
    "visualize_wbo_correlation('bayer.oeb', 'bayer.pdf')"
   ]
  },
  {
   "cell_type": "code",
   "execution_count": 92,
   "metadata": {},
   "outputs": [
    {
     "name": "stderr",
     "output_type": "stream",
     "text": [
      "No handles with labels found to put in legend.\n"
     ]
    },
    {
     "name": "stdout",
     "output_type": "stream",
     "text": [
      "[]\n",
      "{}\n",
      "{}\n"
     ]
    },
    {
     "data": {
      "image/png": "[encoded data removed]",
      "text/plain": [
       "<Figure size 432x288 with 1 Axes>"
      ]
     },
     "metadata": {
      "needs_background": "light"
     },
     "output_type": "display_data"
    }
   ],
   "source": [
    "visualize_wbo_correlation('frag.oeb', 'frag.pdf')"
   ]
  },
  {
   "cell_type": "code",
   "execution_count": 110,
   "metadata": {},
   "outputs": [],
   "source": [
    "\n",
    "def visualize_wbo_correlation_compare(fileName, fileName2, fname):\n",
    "    \n",
    "    molList=oeb2oemol(fileName)\n",
    "    torsionDict={}\n",
    "    print(molList)\n",
    "    torsionDict2={}\n",
    "\n",
    "    for m in molList:\n",
    "        tid=m.GetData(\"IDMatch\")\n",
    "        torsionDict[tid]={}\n",
    "        torsionDict[tid]['tb']=[]\n",
    "        torsionDict[tid]['wbo']=[]\n",
    "        torsionDict2[tid]={}\n",
    "        torsionDict2[tid]['tb']=[]\n",
    "        torsionDict2[tid]['wbo']=[]\n",
    "    print(torsionDict)\n",
    "    \n",
    "    \n",
    "    for m in molList:\n",
    "        tid=m.GetData(\"IDMatch\")\n",
    "        torsionDict[tid]['tb'].append(m.GetData(\"TB\"))\n",
    "        torsionDict[tid]['wbo'].append(m.GetData(\"WBO\"))\n",
    "    print(torsionDict)\n",
    "    \n",
    "    \n",
    "    molList2=oeb2oemol(fileName2)\n",
    "    print(molList2)\n",
    "    \n",
    "    for m in molList2:\n",
    "        tid=m.GetData(\"IDMatch\")\n",
    "        torsionDict2[tid]={}\n",
    "        torsionDict2[tid]['tb']=[]\n",
    "        torsionDict2[tid]['wbo']=[]\n",
    "    print(torsionDict2)\n",
    "    \n",
    "    \n",
    "    for m in molList2:\n",
    "        tid=m.GetData(\"IDMatch\")\n",
    "        torsionDict2[tid]['tb'].append(m.GetData(\"TB\"))\n",
    "        torsionDict2[tid]['wbo'].append(m.GetData(\"WBO\"))\n",
    "    print(torsionDict2)\n",
    "    \n",
    "    \n",
    "    \n",
    "    \n",
    "    \n",
    "    colors = fragmenter.chemi._KELLYS_COLORS\n",
    "    #fig, ax = plt.subplots()\n",
    "    \n",
    "    fig,ax=plt.subplots()\n",
    "\n",
    "    for i, (key, item) in enumerate(torsionDict.items()):\n",
    "        ax.scatter(torsionDict[key]['wbo'],torsionDict[key]['tb'],c=colors[i], label=key, marker='o')\n",
    "        ax.scatter(torsionDict2[key]['wbo'],torsionDict2[key]['tb'],c=colors[i], marker='x')\n",
    "        slope, intercept, r_value, p_value, std_err = stats.linregress(torsionDict[key]['wbo']+torsionDict2[key]['wbo'], torsionDict[key]['tb']+torsionDict2[key]['tb'])\n",
    "        print(key)\n",
    "        print(r_value)\n",
    "        \n",
    "        print(slope)\n",
    "        print(intercept)\n",
    "        ci_r_value = arch.bootstrap.IIDBootstrap(np.asarray(torsionDict[key]['wbo']+torsionDict2[key]['wbo']), np.asarray(torsionDict[key]['tb']+torsionDict2[key]['tb'])).conf_int(compute_r_ci, 1000)\n",
    "        CI_95 = 1.96*std_err\n",
    "        plt.plot(np.unique(torsionDict[key]['wbo']+torsionDict2[key]['wbo']), np.poly1d([slope, intercept])(np.unique(torsionDict[key]['wbo']+torsionDict2[key]['wbo'])), c=colors[i])\n",
    "\n",
    "\n",
    "        \n",
    "        \n",
    "    #ax.scatter(range(len(geo1_labels)),ali_geo1_ys,facecolors=\"None\",edgecolors=\"r\",marker=\"s\")\n",
    "    #ax.set_xticks(range(len(geo1_labels)) )\n",
    "    #ax.set_xticklabels(geo1_labels,rotation=90)\n",
    "    #props = dict(boxstyle='square', facecolor='white', alpha=0.5)\n",
    "    #ax.text(0.05, 0.95, textstr, transform=ax.transAxes, fontsize=14,\n",
    "    #        verticalalignment='top', bbox=props);\n",
    "    \n",
    "    l = ax.legend(bbox_to_anchor=(1, 1), fontsize=14)\n",
    "\n",
    "    plt.xlabel('Wiberg Bond Order', fontsize=14);\n",
    "    plt.ylabel('Energy Barrier height (kJ/mol)', fontsize=14);\n",
    "    plt.xticks(fontsize=14)\n",
    "    plt.yticks(fontsize=14)\n",
    "    plt.savefig(fname, bbox_inches='tight')\n",
    "    plt.show()\n",
    "    "
   ]
  },
  {
   "cell_type": "code",
   "execution_count": 111,
   "metadata": {},
   "outputs": [
    {
     "name": "stdout",
     "output_type": "stream",
     "text": [
      "[<oechem.OEGraphMol; proxy of <Swig Object of type 'OEGraphMolWrapper *' at 0x13adcf030> >, <oechem.OEGraphMol; proxy of <Swig Object of type 'OEGraphMolWrapper *' at 0x12c007240> >, <oechem.OEGraphMol; proxy of <Swig Object of type 'OEGraphMolWrapper *' at 0x1319827b0> >, <oechem.OEGraphMol; proxy of <Swig Object of type 'OEGraphMolWrapper *' at 0x12cafe5d0> >, <oechem.OEGraphMol; proxy of <Swig Object of type 'OEGraphMolWrapper *' at 0x12d4f40c0> >, <oechem.OEGraphMol; proxy of <Swig Object of type 'OEGraphMolWrapper *' at 0x12d4f4390> >, <oechem.OEGraphMol; proxy of <Swig Object of type 'OEGraphMolWrapper *' at 0x12d4f4240> >, <oechem.OEGraphMol; proxy of <Swig Object of type 'OEGraphMolWrapper *' at 0x12d4f4450> >, <oechem.OEGraphMol; proxy of <Swig Object of type 'OEGraphMolWrapper *' at 0x12d4f4330> >, <oechem.OEGraphMol; proxy of <Swig Object of type 'OEGraphMolWrapper *' at 0x12d4f45a0> >, <oechem.OEGraphMol; proxy of <Swig Object of type 'OEGraphMolWrapper *' at 0x12d4f45d0> >, <oechem.OEGraphMol; proxy of <Swig Object of type 'OEGraphMolWrapper *' at 0x12d4f42a0> >, <oechem.OEGraphMol; proxy of <Swig Object of type 'OEGraphMolWrapper *' at 0x12d4f4570> >, <oechem.OEGraphMol; proxy of <Swig Object of type 'OEGraphMolWrapper *' at 0x12d4f4030> >, <oechem.OEGraphMol; proxy of <Swig Object of type 'OEGraphMolWrapper *' at 0x12d4f4270> >, <oechem.OEGraphMol; proxy of <Swig Object of type 'OEGraphMolWrapper *' at 0x1394aab40> >, <oechem.OEGraphMol; proxy of <Swig Object of type 'OEGraphMolWrapper *' at 0x1394aa0c0> >, <oechem.OEGraphMol; proxy of <Swig Object of type 'OEGraphMolWrapper *' at 0x1394aa510> >, <oechem.OEGraphMol; proxy of <Swig Object of type 'OEGraphMolWrapper *' at 0x1394aa4b0> >, <oechem.OEGraphMol; proxy of <Swig Object of type 'OEGraphMolWrapper *' at 0x1394aae70> >, <oechem.OEGraphMol; proxy of <Swig Object of type 'OEGraphMolWrapper *' at 0x1394aaae0> >, <oechem.OEGraphMol; proxy of <Swig Object of type 'OEGraphMolWrapper *' at 0x1394aa870> >, <oechem.OEGraphMol; proxy of <Swig Object of type 'OEGraphMolWrapper *' at 0x1394aaed0> >, <oechem.OEGraphMol; proxy of <Swig Object of type 'OEGraphMolWrapper *' at 0x1394aafc0> >, <oechem.OEGraphMol; proxy of <Swig Object of type 'OEGraphMolWrapper *' at 0x1394aa0f0> >, <oechem.OEGraphMol; proxy of <Swig Object of type 'OEGraphMolWrapper *' at 0x1394aa780> >, <oechem.OEGraphMol; proxy of <Swig Object of type 'OEGraphMolWrapper *' at 0x1394aad20> >, <oechem.OEGraphMol; proxy of <Swig Object of type 'OEGraphMolWrapper *' at 0x1394aab10> >, <oechem.OEGraphMol; proxy of <Swig Object of type 'OEGraphMolWrapper *' at 0x1394aabd0> >, <oechem.OEGraphMol; proxy of <Swig Object of type 'OEGraphMolWrapper *' at 0x1394aa9f0> >, <oechem.OEGraphMol; proxy of <Swig Object of type 'OEGraphMolWrapper *' at 0x1394aaba0> >, <oechem.OEGraphMol; proxy of <Swig Object of type 'OEGraphMolWrapper *' at 0x1394aa750> >, <oechem.OEGraphMol; proxy of <Swig Object of type 'OEGraphMolWrapper *' at 0x1394aac00> >, <oechem.OEGraphMol; proxy of <Swig Object of type 'OEGraphMolWrapper *' at 0x1394aaf30> >, <oechem.OEGraphMol; proxy of <Swig Object of type 'OEGraphMolWrapper *' at 0x1394aade0> >, <oechem.OEGraphMol; proxy of <Swig Object of type 'OEGraphMolWrapper *' at 0x1394aa720> >, <oechem.OEGraphMol; proxy of <Swig Object of type 'OEGraphMolWrapper *' at 0x1394aad50> >, <oechem.OEGraphMol; proxy of <Swig Object of type 'OEGraphMolWrapper *' at 0x1394aad80> >, <oechem.OEGraphMol; proxy of <Swig Object of type 'OEGraphMolWrapper *' at 0x1394aa900> >, <oechem.OEGraphMol; proxy of <Swig Object of type 'OEGraphMolWrapper *' at 0x1394aa6f0> >, <oechem.OEGraphMol; proxy of <Swig Object of type 'OEGraphMolWrapper *' at 0x1394aa8d0> >, <oechem.OEGraphMol; proxy of <Swig Object of type 'OEGraphMolWrapper *' at 0x1394aaa80> >, <oechem.OEGraphMol; proxy of <Swig Object of type 'OEGraphMolWrapper *' at 0x1394aadb0> >, <oechem.OEGraphMol; proxy of <Swig Object of type 'OEGraphMolWrapper *' at 0x1394aa210> >, <oechem.OEGraphMol; proxy of <Swig Object of type 'OEGraphMolWrapper *' at 0x1394aa4e0> >, <oechem.OEGraphMol; proxy of <Swig Object of type 'OEGraphMolWrapper *' at 0x129fbd0c0> >, <oechem.OEGraphMol; proxy of <Swig Object of type 'OEGraphMolWrapper *' at 0x129fbd5a0> >, <oechem.OEGraphMol; proxy of <Swig Object of type 'OEGraphMolWrapper *' at 0x129fbd990> >, <oechem.OEGraphMol; proxy of <Swig Object of type 'OEGraphMolWrapper *' at 0x129fbdd20> >, <oechem.OEGraphMol; proxy of <Swig Object of type 'OEGraphMolWrapper *' at 0x129fbdb40> >, <oechem.OEGraphMol; proxy of <Swig Object of type 'OEGraphMolWrapper *' at 0x129fbd810> >, <oechem.OEGraphMol; proxy of <Swig Object of type 'OEGraphMolWrapper *' at 0x129fbd300> >, <oechem.OEGraphMol; proxy of <Swig Object of type 'OEGraphMolWrapper *' at 0x129fbd180> >, <oechem.OEGraphMol; proxy of <Swig Object of type 'OEGraphMolWrapper *' at 0x129fbdea0> >, <oechem.OEGraphMol; proxy of <Swig Object of type 'OEGraphMolWrapper *' at 0x129fbd600> >, <oechem.OEGraphMol; proxy of <Swig Object of type 'OEGraphMolWrapper *' at 0x129fbd4b0> >, <oechem.OEGraphMol; proxy of <Swig Object of type 'OEGraphMolWrapper *' at 0x129fbd2a0> >, <oechem.OEGraphMol; proxy of <Swig Object of type 'OEGraphMolWrapper *' at 0x1390b73c0> >, <oechem.OEGraphMol; proxy of <Swig Object of type 'OEGraphMolWrapper *' at 0x1390b7fc0> >, <oechem.OEGraphMol; proxy of <Swig Object of type 'OEGraphMolWrapper *' at 0x1390b7a50> >, <oechem.OEGraphMol; proxy of <Swig Object of type 'OEGraphMolWrapper *' at 0x1390b7d20> >, <oechem.OEGraphMol; proxy of <Swig Object of type 'OEGraphMolWrapper *' at 0x1390b7d80> >, <oechem.OEGraphMol; proxy of <Swig Object of type 'OEGraphMolWrapper *' at 0x1390b7ba0> >, <oechem.OEGraphMol; proxy of <Swig Object of type 'OEGraphMolWrapper *' at 0x1390b7090> >, <oechem.OEGraphMol; proxy of <Swig Object of type 'OEGraphMolWrapper *' at 0x1390b7b70> >, <oechem.OEGraphMol; proxy of <Swig Object of type 'OEGraphMolWrapper *' at 0x1393be0f0> >, <oechem.OEGraphMol; proxy of <Swig Object of type 'OEGraphMolWrapper *' at 0x1393befc0> >, <oechem.OEGraphMol; proxy of <Swig Object of type 'OEGraphMolWrapper *' at 0x1393be2d0> >, <oechem.OEGraphMol; proxy of <Swig Object of type 'OEGraphMolWrapper *' at 0x1393be570> >, <oechem.OEGraphMol; proxy of <Swig Object of type 'OEGraphMolWrapper *' at 0x1393be090> >, <oechem.OEGraphMol; proxy of <Swig Object of type 'OEGraphMolWrapper *' at 0x1393bed50> >, <oechem.OEGraphMol; proxy of <Swig Object of type 'OEGraphMolWrapper *' at 0x1393be900> >, <oechem.OEGraphMol; proxy of <Swig Object of type 'OEGraphMolWrapper *' at 0x1393be780> >, <oechem.OEGraphMol; proxy of <Swig Object of type 'OEGraphMolWrapper *' at 0x1393beab0> >, <oechem.OEGraphMol; proxy of <Swig Object of type 'OEGraphMolWrapper *' at 0x1393be360> >, <oechem.OEGraphMol; proxy of <Swig Object of type 'OEGraphMolWrapper *' at 0x131486fc0> >, <oechem.OEGraphMol; proxy of <Swig Object of type 'OEGraphMolWrapper *' at 0x12e9a0e70> >, <oechem.OEGraphMol; proxy of <Swig Object of type 'OEGraphMolWrapper *' at 0x132323060> >, <oechem.OEGraphMol; proxy of <Swig Object of type 'OEGraphMolWrapper *' at 0x130cc5960> >, <oechem.OEGraphMol; proxy of <Swig Object of type 'OEGraphMolWrapper *' at 0x130cc5c90> >, <oechem.OEGraphMol; proxy of <Swig Object of type 'OEGraphMolWrapper *' at 0x12c130360> >, <oechem.OEGraphMol; proxy of <Swig Object of type 'OEGraphMolWrapper *' at 0x12c130fc0> >, <oechem.OEGraphMol; proxy of <Swig Object of type 'OEGraphMolWrapper *' at 0x12c130cc0> >, <oechem.OEGraphMol; proxy of <Swig Object of type 'OEGraphMolWrapper *' at 0x12eca57e0> >, <oechem.OEGraphMol; proxy of <Swig Object of type 'OEGraphMolWrapper *' at 0x12eca5330> >, <oechem.OEGraphMol; proxy of <Swig Object of type 'OEGraphMolWrapper *' at 0x131a54840> >, <oechem.OEGraphMol; proxy of <Swig Object of type 'OEGraphMolWrapper *' at 0x1323f33c0> >, <oechem.OEGraphMol; proxy of <Swig Object of type 'OEGraphMolWrapper *' at 0x1323f37e0> >, <oechem.OEGraphMol; proxy of <Swig Object of type 'OEGraphMolWrapper *' at 0x1323f31e0> >, <oechem.OEGraphMol; proxy of <Swig Object of type 'OEGraphMolWrapper *' at 0x1323f33f0> >, <oechem.OEGraphMol; proxy of <Swig Object of type 'OEGraphMolWrapper *' at 0x1323f3ba0> >, <oechem.OEGraphMol; proxy of <Swig Object of type 'OEGraphMolWrapper *' at 0x1323f3e10> >, <oechem.OEGraphMol; proxy of <Swig Object of type 'OEGraphMolWrapper *' at 0x1323f3180> >, <oechem.OEGraphMol; proxy of <Swig Object of type 'OEGraphMolWrapper *' at 0x1323f3570> >, <oechem.OEGraphMol; proxy of <Swig Object of type 'OEGraphMolWrapper *' at 0x1323f3d50> >, <oechem.OEGraphMol; proxy of <Swig Object of type 'OEGraphMolWrapper *' at 0x1393391e0> >, <oechem.OEGraphMol; proxy of <Swig Object of type 'OEGraphMolWrapper *' at 0x12e9e5c90> >, <oechem.OEGraphMol; proxy of <Swig Object of type 'OEGraphMolWrapper *' at 0x12ca6b270> >, <oechem.OEGraphMol; proxy of <Swig Object of type 'OEGraphMolWrapper *' at 0x12ca6bae0> >, <oechem.OEGraphMol; proxy of <Swig Object of type 'OEGraphMolWrapper *' at 0x12d172360> >, <oechem.OEGraphMol; proxy of <Swig Object of type 'OEGraphMolWrapper *' at 0x12d172cf0> >, <oechem.OEGraphMol; proxy of <Swig Object of type 'OEGraphMolWrapper *' at 0x12d172780> >, <oechem.OEGraphMol; proxy of <Swig Object of type 'OEGraphMolWrapper *' at 0x12d1726c0> >, <oechem.OEGraphMol; proxy of <Swig Object of type 'OEGraphMolWrapper *' at 0x12d1728a0> >, <oechem.OEGraphMol; proxy of <Swig Object of type 'OEGraphMolWrapper *' at 0x12d172bd0> >, <oechem.OEGraphMol; proxy of <Swig Object of type 'OEGraphMolWrapper *' at 0x12d172d20> >, <oechem.OEGraphMol; proxy of <Swig Object of type 'OEGraphMolWrapper *' at 0x138fe2d80> >, <oechem.OEGraphMol; proxy of <Swig Object of type 'OEGraphMolWrapper *' at 0x138fe2570> >, <oechem.OEGraphMol; proxy of <Swig Object of type 'OEGraphMolWrapper *' at 0x138fe2d20> >, <oechem.OEGraphMol; proxy of <Swig Object of type 'OEGraphMolWrapper *' at 0x138fe2120> >, <oechem.OEGraphMol; proxy of <Swig Object of type 'OEGraphMolWrapper *' at 0x138fe2510> >, <oechem.OEGraphMol; proxy of <Swig Object of type 'OEGraphMolWrapper *' at 0x138fe2990> >, <oechem.OEGraphMol; proxy of <Swig Object of type 'OEGraphMolWrapper *' at 0x138fe28a0> >, <oechem.OEGraphMol; proxy of <Swig Object of type 'OEGraphMolWrapper *' at 0x138fe2690> >, <oechem.OEGraphMol; proxy of <Swig Object of type 'OEGraphMolWrapper *' at 0x138fe29f0> >, <oechem.OEGraphMol; proxy of <Swig Object of type 'OEGraphMolWrapper *' at 0x138fe2c90> >, <oechem.OEGraphMol; proxy of <Swig Object of type 'OEGraphMolWrapper *' at 0x138fe22d0> >, <oechem.OEGraphMol; proxy of <Swig Object of type 'OEGraphMolWrapper *' at 0x138fe21e0> >, <oechem.OEGraphMol; proxy of <Swig Object of type 'OEGraphMolWrapper *' at 0x138fe2750> >, <oechem.OEGraphMol; proxy of <Swig Object of type 'OEGraphMolWrapper *' at 0x138fe2720> >, <oechem.OEGraphMol; proxy of <Swig Object of type 'OEGraphMolWrapper *' at 0x138fe25d0> >, <oechem.OEGraphMol; proxy of <Swig Object of type 'OEGraphMolWrapper *' at 0x138fe2a50> >, <oechem.OEGraphMol; proxy of <Swig Object of type 'OEGraphMolWrapper *' at 0x138fe2db0> >, <oechem.OEGraphMol; proxy of <Swig Object of type 'OEGraphMolWrapper *' at 0x138fe2630> >, <oechem.OEGraphMol; proxy of <Swig Object of type 'OEGraphMolWrapper *' at 0x138fe2330> >, <oechem.OEGraphMol; proxy of <Swig Object of type 'OEGraphMolWrapper *' at 0x138fe2c30> >, <oechem.OEGraphMol; proxy of <Swig Object of type 'OEGraphMolWrapper *' at 0x138fe25a0> >, <oechem.OEGraphMol; proxy of <Swig Object of type 'OEGraphMolWrapper *' at 0x138fe2cc0> >, <oechem.OEGraphMol; proxy of <Swig Object of type 'OEGraphMolWrapper *' at 0x138fe2fc0> >, <oechem.OEGraphMol; proxy of <Swig Object of type 'OEGraphMolWrapper *' at 0x138fe2a20> >, <oechem.OEGraphMol; proxy of <Swig Object of type 'OEGraphMolWrapper *' at 0x138fe2780> >, <oechem.OEGraphMol; proxy of <Swig Object of type 'OEGraphMolWrapper *' at 0x138fe22a0> >, <oechem.OEGraphMol; proxy of <Swig Object of type 'OEGraphMolWrapper *' at 0x138fe2420> >, <oechem.OEGraphMol; proxy of <Swig Object of type 'OEGraphMolWrapper *' at 0x138fe2660> >, <oechem.OEGraphMol; proxy of <Swig Object of type 'OEGraphMolWrapper *' at 0x138fe2870> >, <oechem.OEGraphMol; proxy of <Swig Object of type 'OEGraphMolWrapper *' at 0x138fe2f90> >, <oechem.OEGraphMol; proxy of <Swig Object of type 'OEGraphMolWrapper *' at 0x138fe2c00> >, <oechem.OEGraphMol; proxy of <Swig Object of type 'OEGraphMolWrapper *' at 0x138fe2150> >, <oechem.OEGraphMol; proxy of <Swig Object of type 'OEGraphMolWrapper *' at 0x138fe2900> >, <oechem.OEGraphMol; proxy of <Swig Object of type 'OEGraphMolWrapper *' at 0x138fe24b0> >, <oechem.OEGraphMol; proxy of <Swig Object of type 'OEGraphMolWrapper *' at 0x138fe2a80> >, <oechem.OEGraphMol; proxy of <Swig Object of type 'OEGraphMolWrapper *' at 0x138fe26c0> >, <oechem.OEGraphMol; proxy of <Swig Object of type 'OEGraphMolWrapper *' at 0x138fe2480> >, <oechem.OEGraphMol; proxy of <Swig Object of type 'OEGraphMolWrapper *' at 0x138fe2c60> >, <oechem.OEGraphMol; proxy of <Swig Object of type 'OEGraphMolWrapper *' at 0x138fe2f00> >, <oechem.OEGraphMol; proxy of <Swig Object of type 'OEGraphMolWrapper *' at 0x138fe2390> >, <oechem.OEGraphMol; proxy of <Swig Object of type 'OEGraphMolWrapper *' at 0x138fe2e10> >, <oechem.OEGraphMol; proxy of <Swig Object of type 'OEGraphMolWrapper *' at 0x139244810> >, <oechem.OEGraphMol; proxy of <Swig Object of type 'OEGraphMolWrapper *' at 0x139244bd0> >, <oechem.OEGraphMol; proxy of <Swig Object of type 'OEGraphMolWrapper *' at 0x139244210> >, <oechem.OEGraphMol; proxy of <Swig Object of type 'OEGraphMolWrapper *' at 0x139244d50> >, <oechem.OEGraphMol; proxy of <Swig Object of type 'OEGraphMolWrapper *' at 0x139244ea0> >, <oechem.OEGraphMol; proxy of <Swig Object of type 'OEGraphMolWrapper *' at 0x139244e40> >, <oechem.OEGraphMol; proxy of <Swig Object of type 'OEGraphMolWrapper *' at 0x1392441b0> >, <oechem.OEGraphMol; proxy of <Swig Object of type 'OEGraphMolWrapper *' at 0x12fa9df60> >, <oechem.OEGraphMol; proxy of <Swig Object of type 'OEGraphMolWrapper *' at 0x12fa9d7b0> >]\n",
      "{'t69': {'tb': [], 'wbo': []}, 't96': {'tb': [], 'wbo': []}, 't72': {'tb': [], 'wbo': []}, 't47': {'tb': [], 'wbo': []}, 't74': {'tb': [], 'wbo': []}, 't97': {'tb': [], 'wbo': []}, 't43': {'tb': [], 'wbo': []}}\n",
      "{'t69': {'tb': [27.86755490256712, 6.170761742959257, 10.747354330193389, 16.864049221529825, 23.051205274696315, 16.54002895585245, 21.661085122418854, 22.783036240937008, 15.882122047889709, 40.57818739992166, 12.930502547832987, 23.151305491974654, 25.796101569637813, 28.070295133477202, 28.326019236920274, 42.14401562787293, 13.731359902432587, 16.849648092475604, 17.860146242238045, 35.3329195885604, 35.03229700028129, 17.345800781670164, 27.219925844438137, 29.379259404558525, 43.652184875087244, 6.091018701322071, 18.767804928741043, 20.539934073283803, 24.95888428527161, 26.055222708803626, 37.81058854538395, 25.512510555553092, 41.3170499747348, 7.984063603970981, 10.344759153113273, 13.570886601302675, 23.09360572478323, 25.232346498500647, 18.986731655045105, 39.0906920869769, 10.031729840571359, 24.139314575776552, 34.86168905276952, 19.494518567324036, 23.238057845127514, 27.38535801968237, 21.5406176942914, 40.153875422107205, 12.844825186764638, 26.77682624789236, 25.409594627056492, 37.08434757075236, 16.05423354120552, 14.890865949508111, 13.914099835969353, 34.70257332733621, 26.423472666381258, 26.52680312637881, 27.108867939706727, 40.17661217821063, 38.44000157121974, 23.941102204552635, 33.54328732205573, 13.034839896430867, 28.956083298980786, 33.06949343707345, 6.546567733961268, 23.773146527836786, 33.357570154046186, 12.174455948613172, 18.026723951074757, 19.402876299744662, 15.832376243302491, 28.384961536307173, 23.9839072095848, 16.66581545028947, 35.7640949644952, 25.365832707389615, 31.003493384588353, 40.81387325544097, 25.556849902557758, 21.65165582574849, 20.678788099108033, 13.08219287872572, 28.53123768990517, 13.461614385125358, 21.764396634154053, 24.88501551747686, 27.6269128116883, 11.786537892013484, 20.023276993957552, 23.036591305240393, 7.832439226576469], 'wbo': [1.095469355583191, 0.994075357913971, 0.9741163849830627, 1.0330605506896973, 1.0310226678848267, 1.025420069694519, 1.036749243736267, 1.0253492593765259, 1.0154742002487183, 1.0852545499801636, 0.9962054491043091, 1.035115361213684, 1.0575617551803589, 1.113166332244873, 1.047263503074646, 1.09921133518219, 1.0364106893539429, 1.0556199550628662, 1.085001826286316, 1.1806467771530151, 1.1962193250656128, 1.06513249874115, 1.1333374977111816, 1.1190389394760132, 1.1726841926574707, 1.0050321817398071, 1.0547080039978027, 1.0346559286117554, 1.1229040622711182, 1.1286349296569824, 1.0861306190490723, 1.0607357025146484, 1.1188255548477173, 0.9943244457244873, 1.0034116506576538, 1.0255683660507202, 1.0603859424591064, 1.120592474937439, 1.0152701139450073, 1.09134042263031, 0.9952378273010254, 1.1094691753387451, 1.0749149322509766, 1.094595193862915, 1.025219202041626, 1.1086794137954712, 1.0155025720596313, 1.081023931503296, 0.9960746765136719, 1.09724760055542, 1.055249571800232, 1.068342685699463, 1.0755269527435303, 1.0445261001586914, 1.0583455562591553, 1.2423036098480225, 1.1324125528335571, 1.1220611333847046, 1.1561213731765747, 1.2124236822128296, 1.0999292135238647, 1.114452838897705, 1.0720317363739014, 1.0564637184143066, 1.1658496856689453, 1.2000529766082764, 1.0472196340560913, 1.13923978805542, 1.216996669769287, 1.0748305320739746, 1.1158050298690796, 1.076521396636963, 1.0476704835891724, 1.1186680793762207, 1.1097533702850342, 1.0566179752349854, 1.2225183248519897, 1.0883709192276, 1.1591485738754272, 1.1731644868850708, 1.0927399396896362, 1.1981067657470703, 1.115159511566162, 1.0591301918029785, 1.228899359703064, 1.0750055313110352, 1.1597895622253418, 1.1387231349945068, 1.2439484596252441, 1.025854229927063, 1.0593703985214233, 1.0487079620361328, 1.0158268213272095]}, 't96': {'tb': [7.641699688379674, 3.907828659097902, 13.102063340885536, 7.815576511945068, 4.303142610389159, 15.844811532709173, 20.968894320445145, 15.016164994101814, 16.33017311314211, 20.346727787513828, 20.83713589241887, 14.73430104227765, 28.18327924295602, 13.345545045495555, 27.970358472433304, 5.494559663340908, 20.925515668832816, 4.323025853070817, 22.251289691851696, 17.039514507136346, 13.384558776091126, 4.2368484863963545], 'wbo': [1.0196888446807861, 0.9857767224311829, 1.0451195240020752, 1.0181115865707397, 0.9715924859046936, 1.0451171398162842, 1.1035363674163818, 1.06597900390625, 1.077558994293213, 1.1216894388198853, 1.055013656616211, 1.0348448753356934, 1.0877676010131836, 1.0327019691467285, 1.0977275371551514, 1.019014596939087, 1.1086843013763428, 1.006698489189148, 1.0756690502166748, 1.0694036483764648, 1.0355976819992065, 0.9970029592514038]}, 't72': {'tb': [25.80227403575759, 36.73867841186956, 26.77570567270277, 33.02015064351889, 20.61657380659082], 'wbo': [0.855090856552124, 0.8852741122245789, 0.8658962249755859, 0.8750907182693481, 0.8451994061470032]}, 't47': {'tb': [33.085220639590034, 28.240565184563025, 33.43744223394248, 35.85411281589853, 30.086106644404424, 24.33616533190917, 38.95941499522843, 27.783994459224004, 28.236285891371097, 34.24653665456964, 24.93484871766509], 'wbo': [0.9568228721618652, 0.9094955921173096, 0.9351406097412109, 0.9679004549980164, 0.9451871514320374, 0.924723207950592, 0.9779902696609497, 0.9307712316513062, 0.9550900459289551, 0.9652816653251648, 0.9452120065689087]}, 't74': {'tb': [19.927072506764375], 'wbo': [0.8274430632591248]}, 't97': {'tb': [20.148315481922907, 15.238993765981519, 21.03340786340638, 17.51155893096228, 23.169276153501045, 9.98629538107005, 20.863022899257288, 22.607590410420016, 28.156339578008442], 'wbo': [1.0870646238327026, 1.0560970306396484, 1.0733479261398315, 1.0658559799194336, 1.105015516281128, 1.041306972503662, 1.1258726119995117, 1.0972670316696167, 1.1167268753051758]}, 't43': {'tb': [33.734547421909326, 102.95749054200638, 11.215804915930505, 43.37258588616203, 30.620957539502285, 8.628142323692373, 94.31082086100957, 35.66499253203102, 9.651716543447236, 9.534832998045317, 17.450100297619088, 25.26090713078173, 75.16545623610415, 22.281307543007642, 27.022141447873253], 'wbo': [1.083436369895935, 1.525848627090454, 1.012004017829895, 1.1075612306594849, 1.0273858308792114, 0.9944077730178833, 1.4680265188217163, 1.0344212055206299, 1.0097911357879639, 0.9942743182182312, 0.9882651567459106, 0.9825142025947571, 1.0248781442642212, 0.9917882084846497, 0.9821804165840149]}}\n",
      "[<oechem.OEGraphMol; proxy of <Swig Object of type 'OEGraphMolWrapper *' at 0x12fa9d030> >, <oechem.OEGraphMol; proxy of <Swig Object of type 'OEGraphMolWrapper *' at 0x12fa9df00> >, <oechem.OEGraphMol; proxy of <Swig Object of type 'OEGraphMolWrapper *' at 0x12fa9d2a0> >, <oechem.OEGraphMol; proxy of <Swig Object of type 'OEGraphMolWrapper *' at 0x12fa9da50> >, <oechem.OEGraphMol; proxy of <Swig Object of type 'OEGraphMolWrapper *' at 0x12fa9d8d0> >, <oechem.OEGraphMol; proxy of <Swig Object of type 'OEGraphMolWrapper *' at 0x12fa9dc30> >, <oechem.OEGraphMol; proxy of <Swig Object of type 'OEGraphMolWrapper *' at 0x139484150> >, <oechem.OEGraphMol; proxy of <Swig Object of type 'OEGraphMolWrapper *' at 0x139484720> >, <oechem.OEGraphMol; proxy of <Swig Object of type 'OEGraphMolWrapper *' at 0x139484c60> >, <oechem.OEGraphMol; proxy of <Swig Object of type 'OEGraphMolWrapper *' at 0x1394847e0> >, <oechem.OEGraphMol; proxy of <Swig Object of type 'OEGraphMolWrapper *' at 0x139484420> >, <oechem.OEGraphMol; proxy of <Swig Object of type 'OEGraphMolWrapper *' at 0x139484f60> >, <oechem.OEGraphMol; proxy of <Swig Object of type 'OEGraphMolWrapper *' at 0x139484ab0> >, <oechem.OEGraphMol; proxy of <Swig Object of type 'OEGraphMolWrapper *' at 0x139484300> >, <oechem.OEGraphMol; proxy of <Swig Object of type 'OEGraphMolWrapper *' at 0x139484900> >, <oechem.OEGraphMol; proxy of <Swig Object of type 'OEGraphMolWrapper *' at 0x139484c00> >, <oechem.OEGraphMol; proxy of <Swig Object of type 'OEGraphMolWrapper *' at 0x1394842a0> >, <oechem.OEGraphMol; proxy of <Swig Object of type 'OEGraphMolWrapper *' at 0x1394842d0> >, <oechem.OEGraphMol; proxy of <Swig Object of type 'OEGraphMolWrapper *' at 0x1394849f0> >, <oechem.OEGraphMol; proxy of <Swig Object of type 'OEGraphMolWrapper *' at 0x139484540> >, <oechem.OEGraphMol; proxy of <Swig Object of type 'OEGraphMolWrapper *' at 0x139484990> >, <oechem.OEGraphMol; proxy of <Swig Object of type 'OEGraphMolWrapper *' at 0x1394848a0> >, <oechem.OEGraphMol; proxy of <Swig Object of type 'OEGraphMolWrapper *' at 0x1394848d0> >, <oechem.OEGraphMol; proxy of <Swig Object of type 'OEGraphMolWrapper *' at 0x1394840f0> >, <oechem.OEGraphMol; proxy of <Swig Object of type 'OEGraphMolWrapper *' at 0x139484210> >, <oechem.OEGraphMol; proxy of <Swig Object of type 'OEGraphMolWrapper *' at 0x139484b70> >, <oechem.OEGraphMol; proxy of <Swig Object of type 'OEGraphMolWrapper *' at 0x139484360> >, <oechem.OEGraphMol; proxy of <Swig Object of type 'OEGraphMolWrapper *' at 0x139484cf0> >, <oechem.OEGraphMol; proxy of <Swig Object of type 'OEGraphMolWrapper *' at 0x139484840> >, <oechem.OEGraphMol; proxy of <Swig Object of type 'OEGraphMolWrapper *' at 0x139484e10> >, <oechem.OEGraphMol; proxy of <Swig Object of type 'OEGraphMolWrapper *' at 0x139484a20> >, <oechem.OEGraphMol; proxy of <Swig Object of type 'OEGraphMolWrapper *' at 0x139484120> >, <oechem.OEGraphMol; proxy of <Swig Object of type 'OEGraphMolWrapper *' at 0x139484de0> >, <oechem.OEGraphMol; proxy of <Swig Object of type 'OEGraphMolWrapper *' at 0x139484660> >, <oechem.OEGraphMol; proxy of <Swig Object of type 'OEGraphMolWrapper *' at 0x139484f00> >, <oechem.OEGraphMol; proxy of <Swig Object of type 'OEGraphMolWrapper *' at 0x139484510> >, <oechem.OEGraphMol; proxy of <Swig Object of type 'OEGraphMolWrapper *' at 0x139484330> >, <oechem.OEGraphMol; proxy of <Swig Object of type 'OEGraphMolWrapper *' at 0x139484270> >, <oechem.OEGraphMol; proxy of <Swig Object of type 'OEGraphMolWrapper *' at 0x13927b4e0> >, <oechem.OEGraphMol; proxy of <Swig Object of type 'OEGraphMolWrapper *' at 0x13927b180> >, <oechem.OEGraphMol; proxy of <Swig Object of type 'OEGraphMolWrapper *' at 0x13927b480> >, <oechem.OEGraphMol; proxy of <Swig Object of type 'OEGraphMolWrapper *' at 0x13927b3f0> >, <oechem.OEGraphMol; proxy of <Swig Object of type 'OEGraphMolWrapper *' at 0x13927bcc0> >, <oechem.OEGraphMol; proxy of <Swig Object of type 'OEGraphMolWrapper *' at 0x13927b4b0> >, <oechem.OEGraphMol; proxy of <Swig Object of type 'OEGraphMolWrapper *' at 0x13927bcf0> >, <oechem.OEGraphMol; proxy of <Swig Object of type 'OEGraphMolWrapper *' at 0x13927b9c0> >, <oechem.OEGraphMol; proxy of <Swig Object of type 'OEGraphMolWrapper *' at 0x13927b360> >, <oechem.OEGraphMol; proxy of <Swig Object of type 'OEGraphMolWrapper *' at 0x13927b270> >, <oechem.OEGraphMol; proxy of <Swig Object of type 'OEGraphMolWrapper *' at 0x13927be70> >, <oechem.OEGraphMol; proxy of <Swig Object of type 'OEGraphMolWrapper *' at 0x13927bc00> >, <oechem.OEGraphMol; proxy of <Swig Object of type 'OEGraphMolWrapper *' at 0x13927b210> >, <oechem.OEGraphMol; proxy of <Swig Object of type 'OEGraphMolWrapper *' at 0x13927b6f0> >, <oechem.OEGraphMol; proxy of <Swig Object of type 'OEGraphMolWrapper *' at 0x13927bd50> >, <oechem.OEGraphMol; proxy of <Swig Object of type 'OEGraphMolWrapper *' at 0x13927b750> >, <oechem.OEGraphMol; proxy of <Swig Object of type 'OEGraphMolWrapper *' at 0x13927b600> >, <oechem.OEGraphMol; proxy of <Swig Object of type 'OEGraphMolWrapper *' at 0x13927b630> >, <oechem.OEGraphMol; proxy of <Swig Object of type 'OEGraphMolWrapper *' at 0x13927b300> >, <oechem.OEGraphMol; proxy of <Swig Object of type 'OEGraphMolWrapper *' at 0x13927b8d0> >]\n",
      "{'t69': {'tb': [], 'wbo': []}, 't96': {'tb': [], 'wbo': []}, 't72': {'tb': [], 'wbo': []}, 't47': {'tb': [], 'wbo': []}, 't74': {'tb': [], 'wbo': []}, 't97': {'tb': [], 'wbo': []}, 't43': {'tb': [], 'wbo': []}}\n",
      "{'t69': {'tb': [16.31177793027649, 9.111454880347935, 36.59184842705207, 43.36152212378039, 17.77310520653333, 25.0108072795735, 27.59695112656499, 9.002817358651441], 'wbo': [0.977008044719696, 0.9686303734779358, 0.9438837766647339, 0.9520235657691956, 1.0989590883255005, 0.961506724357605, 0.9595886468887329, 1.1223313808441162]}, 't96': {'tb': [], 'wbo': []}, 't72': {'tb': [], 'wbo': []}, 't47': {'tb': [31.69380589907081, 20.06866148605991, 14.239139165889469, 15.240093236654616, 15.249842750795153, 16.014313423630142, 13.5177259111544, 29.434038166439336, 24.45967409396934, 17.70800854890507, 49.05188567709291], 'wbo': [1.625964641571045, 0.9922299385070801, 0.9961618185043335, 1.0023081302642822, 1.1348071098327637, 1.2200953960418701, 1.496037244796753, 1.0001388788223267, 0.9603063464164734, 1.2387397289276123, 1.6259573698043823]}, 't74': {'tb': [], 'wbo': []}, 't97': {'tb': [], 'wbo': []}, 't43': {'tb': [18.538413653947373, 34.85908881637974, 4.330875387934782, 10.406384328434285, 10.953329423770299, 20.786553810153833, 18.795948167648987, 10.654565402092203, 10.589220754343842, 44.188387415287366, 9.900555279244543, 9.384843033530274, 10.74986524918782, 9.288477430365077, 31.84914223006075, 18.62945117969636, 12.187032407596377, 24.924188609998566, 18.75779546479174, 18.55313722015393, 10.653667698035008, 20.276737596778673, 10.264115478387623, 17.89705790980105, 12.695801667652972, 25.20982703037157, 17.987763198395754, 11.335416355489144, 17.180303981334276, 12.457470837500011, 17.4792808762474, 9.713402322374293, 8.684116137792728, 10.812462402775566, 43.09690869220799, 20.105533196956173, 8.99499057146275, 17.169044439941672, 9.55929299222214], 'wbo': [0.9820984601974487, 0.9874790906906128, 0.9532632231712341, 1.6206165552139282, 1.6653599739074707, 1.5049976110458374, 1.6045278310775757, 1.5085513591766357, 1.2276653051376343, 0.982155442237854, 0.9901787638664246, 1.01130211353302, 1.2313839197158813, 1.1322773694992065, 0.9838804006576538, 1.6229455471038818, 1.2544128894805908, 0.984218180179596, 1.5911144018173218, 0.9791810512542725, 1.1655299663543701, 0.9826246500015259, 1.22820246219635, 1.5506008863449097, 0.9826130270957947, 1.5761595964431763, 0.9789512157440186, 1.5911829471588135, 0.9882025122642517, 1.595788598060608, 1.5723556280136108, 1.0097911357879639, 1.017367959022522, 1.5895284414291382, 0.9736678600311279, 0.979214608669281, 1.0141316652297974, 0.9854080080986023, 0.9796971678733826]}}\n",
      "t69\n",
      "0.4959816502942904\n",
      "69.5572588658597\n",
      "-51.56037110831724\n"
     ]
    },
    {
     "name": "stdout",
     "output_type": "stream",
     "text": [
      "t96\n",
      "0.8899074404274189\n",
      "162.88522917902029\n",
      "-156.38450247662013\n",
      "t72\n",
      "0.9807385265706327\n",
      "392.4366104856236\n",
      "-310.9887503647536\n"
     ]
    },
    {
     "name": "stderr",
     "output_type": "stream",
     "text": [
      "/Users/jessica/miniconda3/envs/openff-dev/lib/python3.7/site-packages/scipy/stats/_stats_mstats_common.py:130: RuntimeWarning: invalid value encountered in double_scalars\n",
      "  slope = r_num / ssxm\n",
      "/Users/jessica/miniconda3/envs/openff-dev/lib/python3.7/site-packages/scipy/stats/_stats_mstats_common.py:142: RuntimeWarning: invalid value encountered in double_scalars\n",
      "  sterrest = np.sqrt((1 - r**2) * ssym / ssxm / df)\n"
     ]
    },
    {
     "name": "stdout",
     "output_type": "stream",
     "text": [
      "t47\n",
      "0.07124188652355991\n",
      "2.914391752632189\n",
      "23.490375312386348\n"
     ]
    },
    {
     "name": "stderr",
     "output_type": "stream",
     "text": [
      "/Users/jessica/miniconda3/envs/openff-dev/lib/python3.7/site-packages/scipy/stats/_stats_mstats_common.py:130: RuntimeWarning: invalid value encountered in double_scalars\n",
      "  slope = r_num / ssxm\n",
      "/Users/jessica/miniconda3/envs/openff-dev/lib/python3.7/site-packages/scipy/stats/_stats_mstats_common.py:140: RuntimeWarning: invalid value encountered in sqrt\n",
      "  t = r * np.sqrt(df / ((1.0 - r + TINY)*(1.0 + r + TINY)))\n",
      "/Users/jessica/miniconda3/envs/openff-dev/lib/python3.7/site-packages/scipy/stats/_stats_mstats_common.py:142: RuntimeWarning: invalid value encountered in double_scalars\n",
      "  sterrest = np.sqrt((1 - r**2) * ssym / ssxm / df)\n"
     ]
    },
    {
     "name": "stdout",
     "output_type": "stream",
     "text": [
      "t74\n",
      "0.0\n",
      "nan\n",
      "nan\n",
      "t97\n",
      "0.8498903609186031\n",
      "154.52944472939848\n",
      "-147.86827919802917\n",
      "t43\n",
      "0.06511206289378871\n",
      "4.986481180089412\n",
      "16.270514293036126\n"
     ]
    },
    {
     "data": {
      "image/png": "[encoded data removed]",
      "text/plain": [
       "<Figure size 432x288 with 1 Axes>"
      ]
     },
     "metadata": {
      "needs_background": "light"
     },
     "output_type": "display_data"
    }
   ],
   "source": [
    "visualize_wbo_correlation_compare('phenyl.oeb', 'rowley.oeb', 'compare.pdf')"
   ]
  },
  {
   "cell_type": "code",
   "execution_count": null,
   "metadata": {},
   "outputs": [],
   "source": []
  }
 ],
 "metadata": {
  "kernelspec": {
   "display_name": "Python 3",
   "language": "python",
   "name": "python3"
  },
  "language_info": {
   "codemirror_mode": {
    "name": "ipython",
    "version": 3
   },
   "file_extension": ".py",
   "mimetype": "text/x-python",
   "name": "python",
   "nbconvert_exporter": "python",
   "pygments_lexer": "ipython3",
   "version": "3.7.6"
  }
 },
 "nbformat": 4,
 "nbformat_minor": 4
}
